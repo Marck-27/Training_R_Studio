{
 "cells": [
  {
   "cell_type": "code",
   "execution_count": 1,
   "metadata": {
    "vscode": {
     "languageId": "r"
    }
   },
   "outputs": [
    {
     "name": "stdout",
     "output_type": "stream",
     "text": [
      "[1] \"Hello world\"\n"
     ]
    }
   ],
   "source": [
    "print('Hello world')"
   ]
  },
  {
   "cell_type": "code",
   "execution_count": 2,
   "metadata": {
    "vscode": {
     "languageId": "r"
    }
   },
   "outputs": [
    {
     "name": "stdout",
     "output_type": "stream",
     "text": [
      "[1] 12\n"
     ]
    }
   ],
   "source": [
    "x <- 5\n",
    "y <- 7\n",
    "z <- x+y\n",
    "print(z)"
   ]
  },
  {
   "attachments": {},
   "cell_type": "markdown",
   "metadata": {},
   "source": [
    "## Vectores\n",
    "\n",
    "Los vectores se construyen mediante la función \"combine\": `c()`\n",
    "\n",
    "Los índices para accesar a las entradas de un vector se cuentan desde el `1`"
   ]
  },
  {
   "cell_type": "code",
   "execution_count": 3,
   "metadata": {
    "vscode": {
     "languageId": "r"
    }
   },
   "outputs": [
    {
     "data": {
      "text/html": [
       "<style>\n",
       ".list-inline {list-style: none; margin:0; padding: 0}\n",
       ".list-inline>li {display: inline-block}\n",
       ".list-inline>li:not(:last-child)::after {content: \"\\00b7\"; padding: 0 .5ex}\n",
       "</style>\n",
       "<ol class=list-inline><li>5</li><li>6</li><li>7</li><li>8</li><li>9</li><li>10</li></ol>\n"
      ],
      "text/latex": [
       "\\begin{enumerate*}\n",
       "\\item 5\n",
       "\\item 6\n",
       "\\item 7\n",
       "\\item 8\n",
       "\\item 9\n",
       "\\item 10\n",
       "\\end{enumerate*}\n"
      ],
      "text/markdown": [
       "1. 5\n",
       "2. 6\n",
       "3. 7\n",
       "4. 8\n",
       "5. 9\n",
       "6. 10\n",
       "\n",
       "\n"
      ],
      "text/plain": [
       "[1]  5  6  7  8  9 10"
      ]
     },
     "metadata": {},
     "output_type": "display_data"
    }
   ],
   "source": [
    "# Vector de valores consecutivos\n",
    "a <- c(5,6,7,8,9,10)\n",
    "a"
   ]
  },
  {
   "attachments": {},
   "cell_type": "markdown",
   "metadata": {},
   "source": [
    "Concatenación de vectores:"
   ]
  },
  {
   "cell_type": "code",
   "execution_count": 4,
   "metadata": {
    "vscode": {
     "languageId": "r"
    }
   },
   "outputs": [
    {
     "data": {
      "text/html": [
       "<style>\n",
       ".list-inline {list-style: none; margin:0; padding: 0}\n",
       ".list-inline>li {display: inline-block}\n",
       ".list-inline>li:not(:last-child)::after {content: \"\\00b7\"; padding: 0 .5ex}\n",
       "</style>\n",
       "<ol class=list-inline><li>11</li><li>12</li><li>13</li><li>14</li><li>15</li></ol>\n"
      ],
      "text/latex": [
       "\\begin{enumerate*}\n",
       "\\item 11\n",
       "\\item 12\n",
       "\\item 13\n",
       "\\item 14\n",
       "\\item 15\n",
       "\\end{enumerate*}\n"
      ],
      "text/markdown": [
       "1. 11\n",
       "2. 12\n",
       "3. 13\n",
       "4. 14\n",
       "5. 15\n",
       "\n",
       "\n"
      ],
      "text/plain": [
       "[1] 11 12 13 14 15"
      ]
     },
     "metadata": {},
     "output_type": "display_data"
    }
   ],
   "source": [
    "b <- 11:15\n",
    "b"
   ]
  },
  {
   "cell_type": "code",
   "execution_count": 5,
   "metadata": {
    "vscode": {
     "languageId": "r"
    }
   },
   "outputs": [
    {
     "data": {
      "text/html": [
       "<style>\n",
       ".list-inline {list-style: none; margin:0; padding: 0}\n",
       ".list-inline>li {display: inline-block}\n",
       ".list-inline>li:not(:last-child)::after {content: \"\\00b7\"; padding: 0 .5ex}\n",
       "</style>\n",
       "<ol class=list-inline><li>5</li><li>6</li><li>7</li><li>8</li><li>9</li><li>10</li><li>11</li><li>12</li><li>13</li><li>14</li><li>15</li></ol>\n"
      ],
      "text/latex": [
       "\\begin{enumerate*}\n",
       "\\item 5\n",
       "\\item 6\n",
       "\\item 7\n",
       "\\item 8\n",
       "\\item 9\n",
       "\\item 10\n",
       "\\item 11\n",
       "\\item 12\n",
       "\\item 13\n",
       "\\item 14\n",
       "\\item 15\n",
       "\\end{enumerate*}\n"
      ],
      "text/markdown": [
       "1. 5\n",
       "2. 6\n",
       "3. 7\n",
       "4. 8\n",
       "5. 9\n",
       "6. 10\n",
       "7. 11\n",
       "8. 12\n",
       "9. 13\n",
       "10. 14\n",
       "11. 15\n",
       "\n",
       "\n"
      ],
      "text/plain": [
       " [1]  5  6  7  8  9 10 11 12 13 14 15"
      ]
     },
     "metadata": {},
     "output_type": "display_data"
    }
   ],
   "source": [
    "c <- c(a,b)\n",
    "c"
   ]
  },
  {
   "cell_type": "code",
   "execution_count": 6,
   "metadata": {
    "vscode": {
     "languageId": "r"
    }
   },
   "outputs": [
    {
     "data": {
      "text/html": [
       "<style>\n",
       ".list-inline {list-style: none; margin:0; padding: 0}\n",
       ".list-inline>li {display: inline-block}\n",
       ".list-inline>li:not(:last-child)::after {content: \"\\00b7\"; padding: 0 .5ex}\n",
       "</style>\n",
       "<ol class=list-inline><li>0</li><li>1</li><li>2</li><li>3</li><li>4</li><li>5</li><li>6</li><li>7</li><li>8</li><li>9</li><li>10</li></ol>\n"
      ],
      "text/latex": [
       "\\begin{enumerate*}\n",
       "\\item 0\n",
       "\\item 1\n",
       "\\item 2\n",
       "\\item 3\n",
       "\\item 4\n",
       "\\item 5\n",
       "\\item 6\n",
       "\\item 7\n",
       "\\item 8\n",
       "\\item 9\n",
       "\\item 10\n",
       "\\end{enumerate*}\n"
      ],
      "text/markdown": [
       "1. 0\n",
       "2. 1\n",
       "3. 2\n",
       "4. 3\n",
       "5. 4\n",
       "6. 5\n",
       "7. 6\n",
       "8. 7\n",
       "9. 8\n",
       "10. 9\n",
       "11. 10\n",
       "\n",
       "\n"
      ],
      "text/plain": [
       " [1]  0  1  2  3  4  5  6  7  8  9 10"
      ]
     },
     "metadata": {},
     "output_type": "display_data"
    }
   ],
   "source": [
    "l <- c(0:10)\n",
    "l"
   ]
  },
  {
   "cell_type": "code",
   "execution_count": 7,
   "metadata": {
    "vscode": {
     "languageId": "r"
    }
   },
   "outputs": [
    {
     "data": {
      "text/html": [
       "<style>\n",
       ".list-inline {list-style: none; margin:0; padding: 0}\n",
       ".list-inline>li {display: inline-block}\n",
       ".list-inline>li:not(:last-child)::after {content: \"\\00b7\"; padding: 0 .5ex}\n",
       "</style>\n",
       "<ol class=list-inline><li>1000</li><li>2000</li><li>3000</li><li>4000</li><li>5000</li></ol>\n"
      ],
      "text/latex": [
       "\\begin{enumerate*}\n",
       "\\item 1000\n",
       "\\item 2000\n",
       "\\item 3000\n",
       "\\item 4000\n",
       "\\item 5000\n",
       "\\end{enumerate*}\n"
      ],
      "text/markdown": [
       "1. 1000\n",
       "2. 2000\n",
       "3. 3000\n",
       "4. 4000\n",
       "5. 5000\n",
       "\n",
       "\n"
      ],
      "text/plain": [
       "[1] 1000 2000 3000 4000 5000"
      ]
     },
     "metadata": {},
     "output_type": "display_data"
    }
   ],
   "source": [
    "v <- c(1000,2000,3000,4000,5000)\n",
    "v"
   ]
  },
  {
   "cell_type": "code",
   "execution_count": 8,
   "metadata": {
    "vscode": {
     "languageId": "r"
    }
   },
   "outputs": [
    {
     "data": {
      "text/html": [
       "<style>\n",
       ".list-inline {list-style: none; margin:0; padding: 0}\n",
       ".list-inline>li {display: inline-block}\n",
       ".list-inline>li:not(:last-child)::after {content: \"\\00b7\"; padding: 0 .5ex}\n",
       "</style>\n",
       "<ol class=list-inline><li>'Enero'</li><li>'Febrero'</li><li>'Marzo'</li><li>'Abril'</li><li>'Mayo'</li></ol>\n"
      ],
      "text/latex": [
       "\\begin{enumerate*}\n",
       "\\item 'Enero'\n",
       "\\item 'Febrero'\n",
       "\\item 'Marzo'\n",
       "\\item 'Abril'\n",
       "\\item 'Mayo'\n",
       "\\end{enumerate*}\n"
      ],
      "text/markdown": [
       "1. 'Enero'\n",
       "2. 'Febrero'\n",
       "3. 'Marzo'\n",
       "4. 'Abril'\n",
       "5. 'Mayo'\n",
       "\n",
       "\n"
      ],
      "text/plain": [
       "[1] \"Enero\"   \"Febrero\" \"Marzo\"   \"Abril\"   \"Mayo\"   "
      ]
     },
     "metadata": {},
     "output_type": "display_data"
    }
   ],
   "source": [
    "encabezado <- c('Enero','Febrero','Marzo','Abril','Mayo')\n",
    "encabezado"
   ]
  },
  {
   "cell_type": "code",
   "execution_count": 9,
   "metadata": {
    "vscode": {
     "languageId": "r"
    }
   },
   "outputs": [
    {
     "data": {
      "text/html": [
       "<style>\n",
       ".dl-inline {width: auto; margin:0; padding: 0}\n",
       ".dl-inline>dt, .dl-inline>dd {float: none; width: auto; display: inline-block}\n",
       ".dl-inline>dt::after {content: \":\\0020\"; padding-right: .5ex}\n",
       ".dl-inline>dt:not(:first-of-type) {padding-left: .5ex}\n",
       "</style><dl class=dl-inline><dt>Enero</dt><dd>1000</dd><dt>Febrero</dt><dd>2000</dd><dt>Marzo</dt><dd>3000</dd><dt>Abril</dt><dd>4000</dd><dt>Mayo</dt><dd>5000</dd></dl>\n"
      ],
      "text/latex": [
       "\\begin{description*}\n",
       "\\item[Enero] 1000\n",
       "\\item[Febrero] 2000\n",
       "\\item[Marzo] 3000\n",
       "\\item[Abril] 4000\n",
       "\\item[Mayo] 5000\n",
       "\\end{description*}\n"
      ],
      "text/markdown": [
       "Enero\n",
       ":   1000Febrero\n",
       ":   2000Marzo\n",
       ":   3000Abril\n",
       ":   4000Mayo\n",
       ":   5000\n",
       "\n"
      ],
      "text/plain": [
       "  Enero Febrero   Marzo   Abril    Mayo \n",
       "   1000    2000    3000    4000    5000 "
      ]
     },
     "metadata": {},
     "output_type": "display_data"
    }
   ],
   "source": [
    "names(v) <- encabezado\n",
    "v"
   ]
  },
  {
   "cell_type": "code",
   "execution_count": 10,
   "metadata": {
    "vscode": {
     "languageId": "r"
    }
   },
   "outputs": [
    {
     "data": {
      "text/html": [
       "<strong>Enero:</strong> 1000"
      ],
      "text/latex": [
       "\\textbf{Enero:} 1000"
      ],
      "text/markdown": [
       "**Enero:** 1000"
      ],
      "text/plain": [
       "Enero \n",
       " 1000 "
      ]
     },
     "metadata": {},
     "output_type": "display_data"
    }
   ],
   "source": [
    "v['Enero']"
   ]
  },
  {
   "cell_type": "code",
   "execution_count": 11,
   "metadata": {
    "vscode": {
     "languageId": "r"
    }
   },
   "outputs": [
    {
     "data": {
      "text/html": [
       "<strong>Enero:</strong> 1000"
      ],
      "text/latex": [
       "\\textbf{Enero:} 1000"
      ],
      "text/markdown": [
       "**Enero:** 1000"
      ],
      "text/plain": [
       "Enero \n",
       " 1000 "
      ]
     },
     "metadata": {},
     "output_type": "display_data"
    }
   ],
   "source": [
    "v[c(1)]"
   ]
  },
  {
   "cell_type": "code",
   "execution_count": 12,
   "metadata": {
    "vscode": {
     "languageId": "r"
    }
   },
   "outputs": [
    {
     "data": {
      "text/html": [
       "<strong>Enero:</strong> 1000"
      ],
      "text/latex": [
       "\\textbf{Enero:} 1000"
      ],
      "text/markdown": [
       "**Enero:** 1000"
      ],
      "text/plain": [
       "Enero \n",
       " 1000 "
      ]
     },
     "metadata": {},
     "output_type": "display_data"
    }
   ],
   "source": [
    "v[1]"
   ]
  },
  {
   "cell_type": "code",
   "execution_count": 13,
   "metadata": {
    "vscode": {
     "languageId": "r"
    }
   },
   "outputs": [
    {
     "data": {
      "text/html": [
       "<style>\n",
       ".dl-inline {width: auto; margin:0; padding: 0}\n",
       ".dl-inline>dt, .dl-inline>dd {float: none; width: auto; display: inline-block}\n",
       ".dl-inline>dt::after {content: \":\\0020\"; padding-right: .5ex}\n",
       ".dl-inline>dt:not(:first-of-type) {padding-left: .5ex}\n",
       "</style><dl class=dl-inline><dt>Enero</dt><dd>1000</dd><dt>Marzo</dt><dd>3000</dd></dl>\n"
      ],
      "text/latex": [
       "\\begin{description*}\n",
       "\\item[Enero] 1000\n",
       "\\item[Marzo] 3000\n",
       "\\end{description*}\n"
      ],
      "text/markdown": [
       "Enero\n",
       ":   1000Marzo\n",
       ":   3000\n",
       "\n"
      ],
      "text/plain": [
       "Enero Marzo \n",
       " 1000  3000 "
      ]
     },
     "metadata": {},
     "output_type": "display_data"
    }
   ],
   "source": [
    "v[c('Enero','Marzo')]"
   ]
  },
  {
   "cell_type": "code",
   "execution_count": 14,
   "metadata": {
    "vscode": {
     "languageId": "r"
    }
   },
   "outputs": [
    {
     "data": {
      "text/html": [
       "<style>\n",
       ".dl-inline {width: auto; margin:0; padding: 0}\n",
       ".dl-inline>dt, .dl-inline>dd {float: none; width: auto; display: inline-block}\n",
       ".dl-inline>dt::after {content: \":\\0020\"; padding-right: .5ex}\n",
       ".dl-inline>dt:not(:first-of-type) {padding-left: .5ex}\n",
       "</style><dl class=dl-inline><dt>Enero</dt><dd>1000</dd><dt>Marzo</dt><dd>3000</dd></dl>\n"
      ],
      "text/latex": [
       "\\begin{description*}\n",
       "\\item[Enero] 1000\n",
       "\\item[Marzo] 3000\n",
       "\\end{description*}\n"
      ],
      "text/markdown": [
       "Enero\n",
       ":   1000Marzo\n",
       ":   3000\n",
       "\n"
      ],
      "text/plain": [
       "Enero Marzo \n",
       " 1000  3000 "
      ]
     },
     "metadata": {},
     "output_type": "display_data"
    }
   ],
   "source": [
    "v[c(1,3)]"
   ]
  },
  {
   "cell_type": "code",
   "execution_count": 15,
   "metadata": {
    "vscode": {
     "languageId": "r"
    }
   },
   "outputs": [
    {
     "data": {
      "text/html": [
       "<style>\n",
       ".dl-inline {width: auto; margin:0; padding: 0}\n",
       ".dl-inline>dt, .dl-inline>dd {float: none; width: auto; display: inline-block}\n",
       ".dl-inline>dt::after {content: \":\\0020\"; padding-right: .5ex}\n",
       ".dl-inline>dt:not(:first-of-type) {padding-left: .5ex}\n",
       "</style><dl class=dl-inline><dt>Enero</dt><dd>1000</dd><dt>Febrero</dt><dd>2000</dd><dt>Marzo</dt><dd>3000</dd></dl>\n"
      ],
      "text/latex": [
       "\\begin{description*}\n",
       "\\item[Enero] 1000\n",
       "\\item[Febrero] 2000\n",
       "\\item[Marzo] 3000\n",
       "\\end{description*}\n"
      ],
      "text/markdown": [
       "Enero\n",
       ":   1000Febrero\n",
       ":   2000Marzo\n",
       ":   3000\n",
       "\n"
      ],
      "text/plain": [
       "  Enero Febrero   Marzo \n",
       "   1000    2000    3000 "
      ]
     },
     "metadata": {},
     "output_type": "display_data"
    }
   ],
   "source": [
    "v[1:3]"
   ]
  },
  {
   "attachments": {},
   "cell_type": "markdown",
   "metadata": {},
   "source": [
    "## Operaciones con vectores"
   ]
  },
  {
   "cell_type": "code",
   "execution_count": 16,
   "metadata": {
    "vscode": {
     "languageId": "r"
    }
   },
   "outputs": [
    {
     "data": {
      "text/html": [
       "<style>\n",
       ".dl-inline {width: auto; margin:0; padding: 0}\n",
       ".dl-inline>dt, .dl-inline>dd {float: none; width: auto; display: inline-block}\n",
       ".dl-inline>dt::after {content: \":\\0020\"; padding-right: .5ex}\n",
       ".dl-inline>dt:not(:first-of-type) {padding-left: .5ex}\n",
       "</style><dl class=dl-inline><dt>Enero</dt><dd>2000</dd><dt>Febrero</dt><dd>4000</dd><dt>Marzo</dt><dd>6000</dd><dt>Abril</dt><dd>8000</dd><dt>Mayo</dt><dd>10000</dd></dl>\n"
      ],
      "text/latex": [
       "\\begin{description*}\n",
       "\\item[Enero] 2000\n",
       "\\item[Febrero] 4000\n",
       "\\item[Marzo] 6000\n",
       "\\item[Abril] 8000\n",
       "\\item[Mayo] 10000\n",
       "\\end{description*}\n"
      ],
      "text/markdown": [
       "Enero\n",
       ":   2000Febrero\n",
       ":   4000Marzo\n",
       ":   6000Abril\n",
       ":   8000Mayo\n",
       ":   10000\n",
       "\n"
      ],
      "text/plain": [
       "  Enero Febrero   Marzo   Abril    Mayo \n",
       "   2000    4000    6000    8000   10000 "
      ]
     },
     "metadata": {},
     "output_type": "display_data"
    }
   ],
   "source": [
    "w <- 2*v\n",
    "w"
   ]
  },
  {
   "cell_type": "code",
   "execution_count": 17,
   "metadata": {
    "vscode": {
     "languageId": "r"
    }
   },
   "outputs": [
    {
     "data": {
      "text/html": [
       "6000"
      ],
      "text/latex": [
       "6000"
      ],
      "text/markdown": [
       "6000"
      ],
      "text/plain": [
       "[1] 6000"
      ]
     },
     "metadata": {},
     "output_type": "display_data"
    }
   ],
   "source": [
    "mean(w)"
   ]
  },
  {
   "cell_type": "code",
   "execution_count": 18,
   "metadata": {
    "vscode": {
     "languageId": "r"
    }
   },
   "outputs": [
    {
     "data": {
      "text/html": [
       "6000"
      ],
      "text/latex": [
       "6000"
      ],
      "text/markdown": [
       "6000"
      ],
      "text/plain": [
       "[1] 6000"
      ]
     },
     "metadata": {},
     "output_type": "display_data"
    }
   ],
   "source": [
    "sum(w)/length(w)"
   ]
  },
  {
   "cell_type": "code",
   "execution_count": 19,
   "metadata": {
    "vscode": {
     "languageId": "r"
    }
   },
   "outputs": [
    {
     "data": {
      "text/html": [
       "<style>\n",
       ".dl-inline {width: auto; margin:0; padding: 0}\n",
       ".dl-inline>dt, .dl-inline>dd {float: none; width: auto; display: inline-block}\n",
       ".dl-inline>dt::after {content: \":\\0020\"; padding-right: .5ex}\n",
       ".dl-inline>dt:not(:first-of-type) {padding-left: .5ex}\n",
       "</style><dl class=dl-inline><dt>Enero</dt><dd>3000</dd><dt>Febrero</dt><dd>6000</dd><dt>Marzo</dt><dd>9000</dd><dt>Abril</dt><dd>12000</dd><dt>Mayo</dt><dd>15000</dd></dl>\n"
      ],
      "text/latex": [
       "\\begin{description*}\n",
       "\\item[Enero] 3000\n",
       "\\item[Febrero] 6000\n",
       "\\item[Marzo] 9000\n",
       "\\item[Abril] 12000\n",
       "\\item[Mayo] 15000\n",
       "\\end{description*}\n"
      ],
      "text/markdown": [
       "Enero\n",
       ":   3000Febrero\n",
       ":   6000Marzo\n",
       ":   9000Abril\n",
       ":   12000Mayo\n",
       ":   15000\n",
       "\n"
      ],
      "text/plain": [
       "  Enero Febrero   Marzo   Abril    Mayo \n",
       "   3000    6000    9000   12000   15000 "
      ]
     },
     "metadata": {},
     "output_type": "display_data"
    }
   ],
   "source": [
    "v + w"
   ]
  },
  {
   "attachments": {},
   "cell_type": "markdown",
   "metadata": {},
   "source": [
    "### Filtrado de elementos de un vector"
   ]
  },
  {
   "cell_type": "code",
   "execution_count": 20,
   "metadata": {
    "vscode": {
     "languageId": "r"
    }
   },
   "outputs": [
    {
     "data": {
      "text/html": [
       "<style>\n",
       ".dl-inline {width: auto; margin:0; padding: 0}\n",
       ".dl-inline>dt, .dl-inline>dd {float: none; width: auto; display: inline-block}\n",
       ".dl-inline>dt::after {content: \":\\0020\"; padding-right: .5ex}\n",
       ".dl-inline>dt:not(:first-of-type) {padding-left: .5ex}\n",
       "</style><dl class=dl-inline><dt>Enero</dt><dd>2000</dd><dt>Febrero</dt><dd>4000</dd><dt>Marzo</dt><dd>6000</dd><dt>Abril</dt><dd>8000</dd><dt>Mayo</dt><dd>10000</dd></dl>\n"
      ],
      "text/latex": [
       "\\begin{description*}\n",
       "\\item[Enero] 2000\n",
       "\\item[Febrero] 4000\n",
       "\\item[Marzo] 6000\n",
       "\\item[Abril] 8000\n",
       "\\item[Mayo] 10000\n",
       "\\end{description*}\n"
      ],
      "text/markdown": [
       "Enero\n",
       ":   2000Febrero\n",
       ":   4000Marzo\n",
       ":   6000Abril\n",
       ":   8000Mayo\n",
       ":   10000\n",
       "\n"
      ],
      "text/plain": [
       "  Enero Febrero   Marzo   Abril    Mayo \n",
       "   2000    4000    6000    8000   10000 "
      ]
     },
     "metadata": {},
     "output_type": "display_data"
    }
   ],
   "source": [
    "w"
   ]
  },
  {
   "cell_type": "code",
   "execution_count": 21,
   "metadata": {
    "vscode": {
     "languageId": "r"
    }
   },
   "outputs": [
    {
     "data": {
      "text/html": [
       "<style>\n",
       ".dl-inline {width: auto; margin:0; padding: 0}\n",
       ".dl-inline>dt, .dl-inline>dd {float: none; width: auto; display: inline-block}\n",
       ".dl-inline>dt::after {content: \":\\0020\"; padding-right: .5ex}\n",
       ".dl-inline>dt:not(:first-of-type) {padding-left: .5ex}\n",
       "</style><dl class=dl-inline><dt>Febrero</dt><dd>4000</dd><dt>Marzo</dt><dd>6000</dd><dt>Abril</dt><dd>8000</dd></dl>\n"
      ],
      "text/latex": [
       "\\begin{description*}\n",
       "\\item[Febrero] 4000\n",
       "\\item[Marzo] 6000\n",
       "\\item[Abril] 8000\n",
       "\\end{description*}\n"
      ],
      "text/markdown": [
       "Febrero\n",
       ":   4000Marzo\n",
       ":   6000Abril\n",
       ":   8000\n",
       "\n"
      ],
      "text/plain": [
       "Febrero   Marzo   Abril \n",
       "   4000    6000    8000 "
      ]
     },
     "metadata": {},
     "output_type": "display_data"
    }
   ],
   "source": [
    "w[2:4]"
   ]
  },
  {
   "cell_type": "code",
   "execution_count": 22,
   "metadata": {
    "vscode": {
     "languageId": "r"
    }
   },
   "outputs": [
    {
     "data": {
      "text/html": [
       "<style>\n",
       ".dl-inline {width: auto; margin:0; padding: 0}\n",
       ".dl-inline>dt, .dl-inline>dd {float: none; width: auto; display: inline-block}\n",
       ".dl-inline>dt::after {content: \":\\0020\"; padding-right: .5ex}\n",
       ".dl-inline>dt:not(:first-of-type) {padding-left: .5ex}\n",
       "</style><dl class=dl-inline><dt>Enero</dt><dd>2000</dd><dt>Febrero</dt><dd>4000</dd></dl>\n"
      ],
      "text/latex": [
       "\\begin{description*}\n",
       "\\item[Enero] 2000\n",
       "\\item[Febrero] 4000\n",
       "\\end{description*}\n"
      ],
      "text/markdown": [
       "Enero\n",
       ":   2000Febrero\n",
       ":   4000\n",
       "\n"
      ],
      "text/plain": [
       "  Enero Febrero \n",
       "   2000    4000 "
      ]
     },
     "metadata": {},
     "output_type": "display_data"
    }
   ],
   "source": [
    "w[ w <= 4000]"
   ]
  },
  {
   "cell_type": "code",
   "execution_count": 23,
   "metadata": {
    "vscode": {
     "languageId": "r"
    }
   },
   "outputs": [
    {
     "data": {
      "text/html": [
       "<style>\n",
       ".dl-inline {width: auto; margin:0; padding: 0}\n",
       ".dl-inline>dt, .dl-inline>dd {float: none; width: auto; display: inline-block}\n",
       ".dl-inline>dt::after {content: \":\\0020\"; padding-right: .5ex}\n",
       ".dl-inline>dt:not(:first-of-type) {padding-left: .5ex}\n",
       "</style><dl class=dl-inline><dt>Abril</dt><dd>8000</dd><dt>Mayo</dt><dd>10000</dd></dl>\n"
      ],
      "text/latex": [
       "\\begin{description*}\n",
       "\\item[Abril] 8000\n",
       "\\item[Mayo] 10000\n",
       "\\end{description*}\n"
      ],
      "text/markdown": [
       "Abril\n",
       ":   8000Mayo\n",
       ":   10000\n",
       "\n"
      ],
      "text/plain": [
       "Abril  Mayo \n",
       " 8000 10000 "
      ]
     },
     "metadata": {},
     "output_type": "display_data"
    }
   ],
   "source": [
    "w[ w > 6000 ]"
   ]
  },
  {
   "cell_type": "code",
   "execution_count": 24,
   "metadata": {
    "vscode": {
     "languageId": "r"
    }
   },
   "outputs": [],
   "source": [
    "filtro <- (w > 6000)"
   ]
  },
  {
   "cell_type": "code",
   "execution_count": 25,
   "metadata": {
    "vscode": {
     "languageId": "r"
    }
   },
   "outputs": [
    {
     "data": {
      "text/html": [
       "<style>\n",
       ".dl-inline {width: auto; margin:0; padding: 0}\n",
       ".dl-inline>dt, .dl-inline>dd {float: none; width: auto; display: inline-block}\n",
       ".dl-inline>dt::after {content: \":\\0020\"; padding-right: .5ex}\n",
       ".dl-inline>dt:not(:first-of-type) {padding-left: .5ex}\n",
       "</style><dl class=dl-inline><dt>Abril</dt><dd>8000</dd><dt>Mayo</dt><dd>10000</dd></dl>\n"
      ],
      "text/latex": [
       "\\begin{description*}\n",
       "\\item[Abril] 8000\n",
       "\\item[Mayo] 10000\n",
       "\\end{description*}\n"
      ],
      "text/markdown": [
       "Abril\n",
       ":   8000Mayo\n",
       ":   10000\n",
       "\n"
      ],
      "text/plain": [
       "Abril  Mayo \n",
       " 8000 10000 "
      ]
     },
     "metadata": {},
     "output_type": "display_data"
    }
   ],
   "source": [
    "w[filtro]"
   ]
  },
  {
   "cell_type": "code",
   "execution_count": 26,
   "metadata": {
    "vscode": {
     "languageId": "r"
    }
   },
   "outputs": [
    {
     "data": {
      "text/html": [
       "<strong>Mayo:</strong> 10000"
      ],
      "text/latex": [
       "\\textbf{Mayo:} 10000"
      ],
      "text/markdown": [
       "**Mayo:** 10000"
      ],
      "text/plain": [
       " Mayo \n",
       "10000 "
      ]
     },
     "metadata": {},
     "output_type": "display_data"
    }
   ],
   "source": [
    "w[ w == 10000 ]"
   ]
  },
  {
   "cell_type": "code",
   "execution_count": 27,
   "metadata": {
    "vscode": {
     "languageId": "r"
    }
   },
   "outputs": [
    {
     "data": {
      "text/html": [
       "<style>\n",
       ".dl-inline {width: auto; margin:0; padding: 0}\n",
       ".dl-inline>dt, .dl-inline>dd {float: none; width: auto; display: inline-block}\n",
       ".dl-inline>dt::after {content: \":\\0020\"; padding-right: .5ex}\n",
       ".dl-inline>dt:not(:first-of-type) {padding-left: .5ex}\n",
       "</style><dl class=dl-inline><dt>Enero</dt><dd>2000</dd><dt>Febrero</dt><dd>4000</dd><dt>Marzo</dt><dd>6000</dd><dt>Abril</dt><dd>8000</dd><dt>Mayo</dt><dd>10000</dd></dl>\n"
      ],
      "text/latex": [
       "\\begin{description*}\n",
       "\\item[Enero] 2000\n",
       "\\item[Febrero] 4000\n",
       "\\item[Marzo] 6000\n",
       "\\item[Abril] 8000\n",
       "\\item[Mayo] 10000\n",
       "\\end{description*}\n"
      ],
      "text/markdown": [
       "Enero\n",
       ":   2000Febrero\n",
       ":   4000Marzo\n",
       ":   6000Abril\n",
       ":   8000Mayo\n",
       ":   10000\n",
       "\n"
      ],
      "text/plain": [
       "  Enero Febrero   Marzo   Abril    Mayo \n",
       "   2000    4000    6000    8000   10000 "
      ]
     },
     "metadata": {},
     "output_type": "display_data"
    }
   ],
   "source": [
    "w"
   ]
  },
  {
   "cell_type": "code",
   "execution_count": null,
   "metadata": {
    "vscode": {
     "languageId": "r"
    }
   },
   "outputs": [],
   "source": []
  }
 ],
 "metadata": {
  "kernelspec": {
   "display_name": "R",
   "language": "R",
   "name": "ir"
  },
  "language_info": {
   "codemirror_mode": "r",
   "file_extension": ".r",
   "mimetype": "text/x-r-source",
   "name": "R",
   "pygments_lexer": "r",
   "version": "4.3.1"
  },
  "orig_nbformat": 4
 },
 "nbformat": 4,
 "nbformat_minor": 2
}
