{
 "cells": [
  {
   "attachments": {},
   "cell_type": "markdown",
   "metadata": {},
   "source": [
    "# Lectura y escritura de archivos excel"
   ]
  },
  {
   "attachments": {},
   "cell_type": "markdown",
   "metadata": {},
   "source": [
    "### Instalación de paquete para trabajar con archivos xlsx"
   ]
  },
  {
   "cell_type": "code",
   "execution_count": 1,
   "metadata": {
    "vscode": {
     "languageId": "r"
    }
   },
   "outputs": [],
   "source": [
    "#install.packages('readxl')\n",
    "#install.packages(\"openxlsx\", dependencies=TRUE)"
   ]
  },
  {
   "attachments": {},
   "cell_type": "markdown",
   "metadata": {},
   "source": [
    "Ya que se ha instalado el paquete, cada vez que queramos usarlo debemos mandarlo a llamar mediante `library(package_name)`:"
   ]
  },
  {
   "cell_type": "code",
   "execution_count": 2,
   "metadata": {
    "vscode": {
     "languageId": "r"
    }
   },
   "outputs": [],
   "source": [
    "library(readxl)\n",
    "library(openxlsx)"
   ]
  },
  {
   "cell_type": "code",
   "execution_count": 3,
   "metadata": {
    "vscode": {
     "languageId": "r"
    }
   },
   "outputs": [
    {
     "data": {
      "text/html": [
       "'data/poblacion.xlsx'"
      ],
      "text/latex": [
       "'data/poblacion.xlsx'"
      ],
      "text/markdown": [
       "'data/poblacion.xlsx'"
      ],
      "text/plain": [
       "[1] \"data/poblacion.xlsx\""
      ]
     },
     "metadata": {},
     "output_type": "display_data"
    }
   ],
   "source": [
    "pth_file_xlsx <- 'data/poblacion.xlsx'\n",
    "pth_file_xlsx"
   ]
  },
  {
   "cell_type": "code",
   "execution_count": 4,
   "metadata": {
    "vscode": {
     "languageId": "r"
    }
   },
   "outputs": [
    {
     "data": {
      "text/html": [
       "<style>\n",
       ".list-inline {list-style: none; margin:0; padding: 0}\n",
       ".list-inline>li {display: inline-block}\n",
       ".list-inline>li:not(:last-child)::after {content: \"\\00b7\"; padding: 0 .5ex}\n",
       "</style>\n",
       "<ol class=list-inline><li>'Hoja 1'</li><li>'Hoja2'</li></ol>\n"
      ],
      "text/latex": [
       "\\begin{enumerate*}\n",
       "\\item 'Hoja 1'\n",
       "\\item 'Hoja2'\n",
       "\\end{enumerate*}\n"
      ],
      "text/markdown": [
       "1. 'Hoja 1'\n",
       "2. 'Hoja2'\n",
       "\n",
       "\n"
      ],
      "text/plain": [
       "[1] \"Hoja 1\" \"Hoja2\" "
      ]
     },
     "metadata": {},
     "output_type": "display_data"
    }
   ],
   "source": [
    "# la siguiente función muestra los nombres de las hojas del archivo excel:\n",
    "sheets <- excel_sheets(pth_file_xlsx)\n",
    "sheets"
   ]
  },
  {
   "cell_type": "code",
   "execution_count": 5,
   "metadata": {
    "vscode": {
     "languageId": "r"
    }
   },
   "outputs": [
    {
     "data": {
      "text/html": [
       "<table class=\"dataframe\">\n",
       "<caption>A tibble: 5 × 6</caption>\n",
       "<thead>\n",
       "\t<tr><th scope=col>Continente</th><th scope=col>Densidad</th><th scope=col>Superficie</th><th scope=col>Población</th><th scope=col>País más poblado</th><th scope=col>Ciudad más poblada</th></tr>\n",
       "\t<tr><th scope=col>&lt;chr&gt;</th><th scope=col>&lt;dbl&gt;</th><th scope=col>&lt;dbl&gt;</th><th scope=col>&lt;dbl&gt;</th><th scope=col>&lt;chr&gt;</th><th scope=col>&lt;chr&gt;</th></tr>\n",
       "</thead>\n",
       "<tbody>\n",
       "\t<tr><td>Asia   </td><td>86.88</td><td>43810000</td><td>4677291000</td><td>China (1.392.240.000)       </td><td>Tokio (35.682.000)           </td></tr>\n",
       "\t<tr><td>África </td><td>32.70</td><td>30370000</td><td>1110020000</td><td>Nigeria (191.205.000)       </td><td>El Cairo (16.794.000)        </td></tr>\n",
       "\t<tr><td>Europa </td><td>70.00</td><td>10180000</td><td> 801000000</td><td>Rusia (112.000.000)         </td><td>Moscú (18.940.000)           </td></tr>\n",
       "\t<tr><td>América</td><td>23.50</td><td>42330000</td><td>1094215000</td><td>Estados Unidos (330.028.000)</td><td>Ciudad de México (22.577.000)</td></tr>\n",
       "\t<tr><td>Oceanía</td><td> 4.25</td><td> 9008500</td><td>  40201000</td><td>Australia (27.240.000)      </td><td>Sídney (6.550.000)           </td></tr>\n",
       "</tbody>\n",
       "</table>\n"
      ],
      "text/latex": [
       "A tibble: 5 × 6\n",
       "\\begin{tabular}{llllll}\n",
       " Continente & Densidad & Superficie & Población & País más poblado & Ciudad más poblada\\\\\n",
       " <chr> & <dbl> & <dbl> & <dbl> & <chr> & <chr>\\\\\n",
       "\\hline\n",
       "\t Asia    & 86.88 & 43810000 & 4677291000 & China (1.392.240.000)        & Tokio (35.682.000)           \\\\\n",
       "\t África  & 32.70 & 30370000 & 1110020000 & Nigeria (191.205.000)        & El Cairo (16.794.000)        \\\\\n",
       "\t Europa  & 70.00 & 10180000 &  801000000 & Rusia (112.000.000)          & Moscú (18.940.000)           \\\\\n",
       "\t América & 23.50 & 42330000 & 1094215000 & Estados Unidos (330.028.000) & Ciudad de México (22.577.000)\\\\\n",
       "\t Oceanía &  4.25 &  9008500 &   40201000 & Australia (27.240.000)       & Sídney (6.550.000)           \\\\\n",
       "\\end{tabular}\n"
      ],
      "text/markdown": [
       "\n",
       "A tibble: 5 × 6\n",
       "\n",
       "| Continente &lt;chr&gt; | Densidad &lt;dbl&gt; | Superficie &lt;dbl&gt; | Población &lt;dbl&gt; | País más poblado &lt;chr&gt; | Ciudad más poblada &lt;chr&gt; |\n",
       "|---|---|---|---|---|---|\n",
       "| Asia    | 86.88 | 43810000 | 4677291000 | China (1.392.240.000)        | Tokio (35.682.000)            |\n",
       "| África  | 32.70 | 30370000 | 1110020000 | Nigeria (191.205.000)        | El Cairo (16.794.000)         |\n",
       "| Europa  | 70.00 | 10180000 |  801000000 | Rusia (112.000.000)          | Moscú (18.940.000)            |\n",
       "| América | 23.50 | 42330000 | 1094215000 | Estados Unidos (330.028.000) | Ciudad de México (22.577.000) |\n",
       "| Oceanía |  4.25 |  9008500 |   40201000 | Australia (27.240.000)       | Sídney (6.550.000)            |\n",
       "\n"
      ],
      "text/plain": [
       "  Continente Densidad Superficie Población  País más poblado            \n",
       "1 Asia       86.88    43810000   4677291000 China (1.392.240.000)       \n",
       "2 África     32.70    30370000   1110020000 Nigeria (191.205.000)       \n",
       "3 Europa     70.00    10180000    801000000 Rusia (112.000.000)         \n",
       "4 América    23.50    42330000   1094215000 Estados Unidos (330.028.000)\n",
       "5 Oceanía     4.25     9008500     40201000 Australia (27.240.000)      \n",
       "  Ciudad más poblada           \n",
       "1 Tokio (35.682.000)           \n",
       "2 El Cairo (16.794.000)        \n",
       "3 Moscú (18.940.000)           \n",
       "4 Ciudad de México (22.577.000)\n",
       "5 Sídney (6.550.000)           "
      ]
     },
     "metadata": {},
     "output_type": "display_data"
    }
   ],
   "source": [
    "datos_H1 <- read_excel(pth_file_xlsx, sheets[1])\n",
    "datos_H1"
   ]
  },
  {
   "cell_type": "code",
   "execution_count": 6,
   "metadata": {
    "vscode": {
     "languageId": "r"
    }
   },
   "outputs": [
    {
     "data": {
      "text/html": [
       "<style>\n",
       ".list-inline {list-style: none; margin:0; padding: 0}\n",
       ".list-inline>li {display: inline-block}\n",
       ".list-inline>li:not(:last-child)::after {content: \"\\00b7\"; padding: 0 .5ex}\n",
       "</style>\n",
       "<ol class=list-inline><li>'tbl_df'</li><li>'tbl'</li><li>'data.frame'</li></ol>\n"
      ],
      "text/latex": [
       "\\begin{enumerate*}\n",
       "\\item 'tbl\\_df'\n",
       "\\item 'tbl'\n",
       "\\item 'data.frame'\n",
       "\\end{enumerate*}\n"
      ],
      "text/markdown": [
       "1. 'tbl_df'\n",
       "2. 'tbl'\n",
       "3. 'data.frame'\n",
       "\n",
       "\n"
      ],
      "text/plain": [
       "[1] \"tbl_df\"     \"tbl\"        \"data.frame\""
      ]
     },
     "metadata": {},
     "output_type": "display_data"
    }
   ],
   "source": [
    "class(datos_H1)"
   ]
  },
  {
   "cell_type": "code",
   "execution_count": 7,
   "metadata": {
    "vscode": {
     "languageId": "r"
    }
   },
   "outputs": [
    {
     "data": {
      "text/html": [
       "<table class=\"dataframe\">\n",
       "<caption>A tibble: 5 × 2</caption>\n",
       "<thead>\n",
       "\t<tr><th scope=col>País</th><th scope=col>Capital</th></tr>\n",
       "\t<tr><th scope=col>&lt;chr&gt;</th><th scope=col>&lt;chr&gt;</th></tr>\n",
       "</thead>\n",
       "<tbody>\n",
       "\t<tr><td>México        </td><td>Ciudad de México</td></tr>\n",
       "\t<tr><td>Estados Unidos</td><td>Washintong      </td></tr>\n",
       "\t<tr><td>Canadá        </td><td>Otawa           </td></tr>\n",
       "\t<tr><td>Alemania      </td><td>Berlín          </td></tr>\n",
       "\t<tr><td>Francia       </td><td>París           </td></tr>\n",
       "</tbody>\n",
       "</table>\n"
      ],
      "text/latex": [
       "A tibble: 5 × 2\n",
       "\\begin{tabular}{ll}\n",
       " País & Capital\\\\\n",
       " <chr> & <chr>\\\\\n",
       "\\hline\n",
       "\t México         & Ciudad de México\\\\\n",
       "\t Estados Unidos & Washintong      \\\\\n",
       "\t Canadá         & Otawa           \\\\\n",
       "\t Alemania       & Berlín          \\\\\n",
       "\t Francia        & París           \\\\\n",
       "\\end{tabular}\n"
      ],
      "text/markdown": [
       "\n",
       "A tibble: 5 × 2\n",
       "\n",
       "| País &lt;chr&gt; | Capital &lt;chr&gt; |\n",
       "|---|---|\n",
       "| México         | Ciudad de México |\n",
       "| Estados Unidos | Washintong       |\n",
       "| Canadá         | Otawa            |\n",
       "| Alemania       | Berlín           |\n",
       "| Francia        | París            |\n",
       "\n"
      ],
      "text/plain": [
       "  País           Capital         \n",
       "1 México         Ciudad de México\n",
       "2 Estados Unidos Washintong      \n",
       "3 Canadá         Otawa           \n",
       "4 Alemania       Berlín          \n",
       "5 Francia        París           "
      ]
     },
     "metadata": {},
     "output_type": "display_data"
    }
   ],
   "source": [
    "datos_H2 <- read_excel(pth_file_xlsx, sheets[2])\n",
    "datos_H2"
   ]
  },
  {
   "cell_type": "code",
   "execution_count": 8,
   "metadata": {
    "vscode": {
     "languageId": "r"
    }
   },
   "outputs": [
    {
     "data": {
      "text/html": [
       "<style>\n",
       ".list-inline {list-style: none; margin:0; padding: 0}\n",
       ".list-inline>li {display: inline-block}\n",
       ".list-inline>li:not(:last-child)::after {content: \"\\00b7\"; padding: 0 .5ex}\n",
       "</style>\n",
       "<ol class=list-inline><li>'tbl_df'</li><li>'tbl'</li><li>'data.frame'</li></ol>\n"
      ],
      "text/latex": [
       "\\begin{enumerate*}\n",
       "\\item 'tbl\\_df'\n",
       "\\item 'tbl'\n",
       "\\item 'data.frame'\n",
       "\\end{enumerate*}\n"
      ],
      "text/markdown": [
       "1. 'tbl_df'\n",
       "2. 'tbl'\n",
       "3. 'data.frame'\n",
       "\n",
       "\n"
      ],
      "text/plain": [
       "[1] \"tbl_df\"     \"tbl\"        \"data.frame\""
      ]
     },
     "metadata": {},
     "output_type": "display_data"
    }
   ],
   "source": [
    "class(datos_H2)"
   ]
  },
  {
   "cell_type": "code",
   "execution_count": 9,
   "metadata": {
    "vscode": {
     "languageId": "r"
    }
   },
   "outputs": [
    {
     "data": {
      "text/html": [
       "<table class=\"dataframe\">\n",
       "<caption>A tibble: 5 × 1</caption>\n",
       "<thead>\n",
       "\t<tr><th scope=col>País</th></tr>\n",
       "\t<tr><th scope=col>&lt;chr&gt;</th></tr>\n",
       "</thead>\n",
       "<tbody>\n",
       "\t<tr><td>México        </td></tr>\n",
       "\t<tr><td>Estados Unidos</td></tr>\n",
       "\t<tr><td>Canadá        </td></tr>\n",
       "\t<tr><td>Alemania      </td></tr>\n",
       "\t<tr><td>Francia       </td></tr>\n",
       "</tbody>\n",
       "</table>\n"
      ],
      "text/latex": [
       "A tibble: 5 × 1\n",
       "\\begin{tabular}{l}\n",
       " País\\\\\n",
       " <chr>\\\\\n",
       "\\hline\n",
       "\t México        \\\\\n",
       "\t Estados Unidos\\\\\n",
       "\t Canadá        \\\\\n",
       "\t Alemania      \\\\\n",
       "\t Francia       \\\\\n",
       "\\end{tabular}\n"
      ],
      "text/markdown": [
       "\n",
       "A tibble: 5 × 1\n",
       "\n",
       "| País &lt;chr&gt; |\n",
       "|---|\n",
       "| México         |\n",
       "| Estados Unidos |\n",
       "| Canadá         |\n",
       "| Alemania       |\n",
       "| Francia        |\n",
       "\n"
      ],
      "text/plain": [
       "  País          \n",
       "1 México        \n",
       "2 Estados Unidos\n",
       "3 Canadá        \n",
       "4 Alemania      \n",
       "5 Francia       "
      ]
     },
     "metadata": {},
     "output_type": "display_data"
    }
   ],
   "source": [
    "datos_H2['País']"
   ]
  },
  {
   "cell_type": "code",
   "execution_count": 10,
   "metadata": {
    "vscode": {
     "languageId": "r"
    }
   },
   "outputs": [
    {
     "data": {
      "text/html": [
       "<style>\n",
       ".list-inline {list-style: none; margin:0; padding: 0}\n",
       ".list-inline>li {display: inline-block}\n",
       ".list-inline>li:not(:last-child)::after {content: \"\\00b7\"; padding: 0 .5ex}\n",
       "</style>\n",
       "<ol class=list-inline><li>'México'</li><li>'Estados Unidos'</li><li>'Canadá'</li><li>'Alemania'</li><li>'Francia'</li></ol>\n"
      ],
      "text/latex": [
       "\\begin{enumerate*}\n",
       "\\item 'México'\n",
       "\\item 'Estados Unidos'\n",
       "\\item 'Canadá'\n",
       "\\item 'Alemania'\n",
       "\\item 'Francia'\n",
       "\\end{enumerate*}\n"
      ],
      "text/markdown": [
       "1. 'México'\n",
       "2. 'Estados Unidos'\n",
       "3. 'Canadá'\n",
       "4. 'Alemania'\n",
       "5. 'Francia'\n",
       "\n",
       "\n"
      ],
      "text/plain": [
       "[1] \"México\"         \"Estados Unidos\" \"Canadá\"         \"Alemania\"      \n",
       "[5] \"Francia\"       "
      ]
     },
     "metadata": {},
     "output_type": "display_data"
    }
   ],
   "source": [
    "datos_H2$País"
   ]
  },
  {
   "attachments": {},
   "cell_type": "markdown",
   "metadata": {},
   "source": [
    "### Leyendo todas las hojas del archivo excel\n",
    "\n",
    "Cuando cargamos al mismo tiempo todas las hojas de un archivo excel, éstas se almacenan en una lista, tal como se muestra a continuación."
   ]
  },
  {
   "cell_type": "code",
   "execution_count": 11,
   "metadata": {
    "vscode": {
     "languageId": "r"
    }
   },
   "outputs": [
    {
     "data": {
      "text/html": [
       "<ol>\n",
       "\t<li><table class=\"dataframe\">\n",
       "<caption>A tibble: 5 × 6</caption>\n",
       "<thead>\n",
       "\t<tr><th scope=col>Continente</th><th scope=col>Densidad</th><th scope=col>Superficie</th><th scope=col>Población</th><th scope=col>País más poblado</th><th scope=col>Ciudad más poblada</th></tr>\n",
       "\t<tr><th scope=col>&lt;chr&gt;</th><th scope=col>&lt;dbl&gt;</th><th scope=col>&lt;dbl&gt;</th><th scope=col>&lt;dbl&gt;</th><th scope=col>&lt;chr&gt;</th><th scope=col>&lt;chr&gt;</th></tr>\n",
       "</thead>\n",
       "<tbody>\n",
       "\t<tr><td>Asia   </td><td>86.88</td><td>43810000</td><td>4677291000</td><td>China (1.392.240.000)       </td><td>Tokio (35.682.000)           </td></tr>\n",
       "\t<tr><td>África </td><td>32.70</td><td>30370000</td><td>1110020000</td><td>Nigeria (191.205.000)       </td><td>El Cairo (16.794.000)        </td></tr>\n",
       "\t<tr><td>Europa </td><td>70.00</td><td>10180000</td><td> 801000000</td><td>Rusia (112.000.000)         </td><td>Moscú (18.940.000)           </td></tr>\n",
       "\t<tr><td>América</td><td>23.50</td><td>42330000</td><td>1094215000</td><td>Estados Unidos (330.028.000)</td><td>Ciudad de México (22.577.000)</td></tr>\n",
       "\t<tr><td>Oceanía</td><td> 4.25</td><td> 9008500</td><td>  40201000</td><td>Australia (27.240.000)      </td><td>Sídney (6.550.000)           </td></tr>\n",
       "</tbody>\n",
       "</table>\n",
       "</li>\n",
       "\t<li><table class=\"dataframe\">\n",
       "<caption>A tibble: 5 × 2</caption>\n",
       "<thead>\n",
       "\t<tr><th scope=col>País</th><th scope=col>Capital</th></tr>\n",
       "\t<tr><th scope=col>&lt;chr&gt;</th><th scope=col>&lt;chr&gt;</th></tr>\n",
       "</thead>\n",
       "<tbody>\n",
       "\t<tr><td>México        </td><td>Ciudad de México</td></tr>\n",
       "\t<tr><td>Estados Unidos</td><td>Washintong      </td></tr>\n",
       "\t<tr><td>Canadá        </td><td>Otawa           </td></tr>\n",
       "\t<tr><td>Alemania      </td><td>Berlín          </td></tr>\n",
       "\t<tr><td>Francia       </td><td>París           </td></tr>\n",
       "</tbody>\n",
       "</table>\n",
       "</li>\n",
       "</ol>\n"
      ],
      "text/latex": [
       "\\begin{enumerate}\n",
       "\\item A tibble: 5 × 6\n",
       "\\begin{tabular}{llllll}\n",
       " Continente & Densidad & Superficie & Población & País más poblado & Ciudad más poblada\\\\\n",
       " <chr> & <dbl> & <dbl> & <dbl> & <chr> & <chr>\\\\\n",
       "\\hline\n",
       "\t Asia    & 86.88 & 43810000 & 4677291000 & China (1.392.240.000)        & Tokio (35.682.000)           \\\\\n",
       "\t África  & 32.70 & 30370000 & 1110020000 & Nigeria (191.205.000)        & El Cairo (16.794.000)        \\\\\n",
       "\t Europa  & 70.00 & 10180000 &  801000000 & Rusia (112.000.000)          & Moscú (18.940.000)           \\\\\n",
       "\t América & 23.50 & 42330000 & 1094215000 & Estados Unidos (330.028.000) & Ciudad de México (22.577.000)\\\\\n",
       "\t Oceanía &  4.25 &  9008500 &   40201000 & Australia (27.240.000)       & Sídney (6.550.000)           \\\\\n",
       "\\end{tabular}\n",
       "\n",
       "\\item A tibble: 5 × 2\n",
       "\\begin{tabular}{ll}\n",
       " País & Capital\\\\\n",
       " <chr> & <chr>\\\\\n",
       "\\hline\n",
       "\t México         & Ciudad de México\\\\\n",
       "\t Estados Unidos & Washintong      \\\\\n",
       "\t Canadá         & Otawa           \\\\\n",
       "\t Alemania       & Berlín          \\\\\n",
       "\t Francia        & París           \\\\\n",
       "\\end{tabular}\n",
       "\n",
       "\\end{enumerate}\n"
      ],
      "text/markdown": [
       "1. \n",
       "A tibble: 5 × 6\n",
       "\n",
       "| Continente &lt;chr&gt; | Densidad &lt;dbl&gt; | Superficie &lt;dbl&gt; | Población &lt;dbl&gt; | País más poblado &lt;chr&gt; | Ciudad más poblada &lt;chr&gt; |\n",
       "|---|---|---|---|---|---|\n",
       "| Asia    | 86.88 | 43810000 | 4677291000 | China (1.392.240.000)        | Tokio (35.682.000)            |\n",
       "| África  | 32.70 | 30370000 | 1110020000 | Nigeria (191.205.000)        | El Cairo (16.794.000)         |\n",
       "| Europa  | 70.00 | 10180000 |  801000000 | Rusia (112.000.000)          | Moscú (18.940.000)            |\n",
       "| América | 23.50 | 42330000 | 1094215000 | Estados Unidos (330.028.000) | Ciudad de México (22.577.000) |\n",
       "| Oceanía |  4.25 |  9008500 |   40201000 | Australia (27.240.000)       | Sídney (6.550.000)            |\n",
       "\n",
       "\n",
       "2. \n",
       "A tibble: 5 × 2\n",
       "\n",
       "| País &lt;chr&gt; | Capital &lt;chr&gt; |\n",
       "|---|---|\n",
       "| México         | Ciudad de México |\n",
       "| Estados Unidos | Washintong       |\n",
       "| Canadá         | Otawa            |\n",
       "| Alemania       | Berlín           |\n",
       "| Francia        | París            |\n",
       "\n",
       "\n",
       "\n",
       "\n"
      ],
      "text/plain": [
       "[[1]]\n",
       "\u001b[90m# A tibble: 5 × 6\u001b[39m\n",
       "  Continente Densidad Superficie  Población `País más poblado`          \n",
       "  \u001b[3m\u001b[90m<chr>\u001b[39m\u001b[23m         \u001b[3m\u001b[90m<dbl>\u001b[39m\u001b[23m      \u001b[3m\u001b[90m<dbl>\u001b[39m\u001b[23m      \u001b[3m\u001b[90m<dbl>\u001b[39m\u001b[23m \u001b[3m\u001b[90m<chr>\u001b[39m\u001b[23m                       \n",
       "\u001b[90m1\u001b[39m Asia          86.9    43\u001b[4m8\u001b[24m\u001b[4m1\u001b[24m\u001b[4m0\u001b[24m000 \u001b[4m4\u001b[24m677\u001b[4m2\u001b[24m\u001b[4m9\u001b[24m\u001b[4m1\u001b[24m000 China (1.392.240.000)       \n",
       "\u001b[90m2\u001b[39m África        32.7    30\u001b[4m3\u001b[24m\u001b[4m7\u001b[24m\u001b[4m0\u001b[24m000 \u001b[4m1\u001b[24m110\u001b[4m0\u001b[24m\u001b[4m2\u001b[24m\u001b[4m0\u001b[24m000 Nigeria (191.205.000)       \n",
       "\u001b[90m3\u001b[39m Europa        70      10\u001b[4m1\u001b[24m\u001b[4m8\u001b[24m\u001b[4m0\u001b[24m000  801\u001b[4m0\u001b[24m\u001b[4m0\u001b[24m\u001b[4m0\u001b[24m000 Rusia (112.000.000)         \n",
       "\u001b[90m4\u001b[39m América       23.5    42\u001b[4m3\u001b[24m\u001b[4m3\u001b[24m\u001b[4m0\u001b[24m000 \u001b[4m1\u001b[24m094\u001b[4m2\u001b[24m\u001b[4m1\u001b[24m\u001b[4m5\u001b[24m000 Estados Unidos (330.028.000)\n",
       "\u001b[90m5\u001b[39m Oceanía        4.25    9\u001b[4m0\u001b[24m\u001b[4m0\u001b[24m\u001b[4m8\u001b[24m500   40\u001b[4m2\u001b[24m\u001b[4m0\u001b[24m\u001b[4m1\u001b[24m000 Australia (27.240.000)      \n",
       "\u001b[90m# ℹ 1 more variable: `Ciudad más poblada` <chr>\u001b[39m\n",
       "\n",
       "[[2]]\n",
       "\u001b[90m# A tibble: 5 × 2\u001b[39m\n",
       "  País           Capital         \n",
       "  \u001b[3m\u001b[90m<chr>\u001b[39m\u001b[23m          \u001b[3m\u001b[90m<chr>\u001b[39m\u001b[23m           \n",
       "\u001b[90m1\u001b[39m México         Ciudad de México\n",
       "\u001b[90m2\u001b[39m Estados Unidos Washintong      \n",
       "\u001b[90m3\u001b[39m Canadá         Otawa           \n",
       "\u001b[90m4\u001b[39m Alemania       Berlín          \n",
       "\u001b[90m5\u001b[39m Francia        París           \n"
      ]
     },
     "metadata": {},
     "output_type": "display_data"
    }
   ],
   "source": [
    "datos_Hojas <- lapply(excel_sheets(pth_file_xlsx), read_excel, path = pth_file_xlsx)\n",
    "\n",
    "datos_Hojas"
   ]
  },
  {
   "cell_type": "code",
   "execution_count": 12,
   "metadata": {
    "vscode": {
     "languageId": "r"
    }
   },
   "outputs": [
    {
     "data": {
      "text/html": [
       "<table class=\"dataframe\">\n",
       "<caption>A tibble: 5 × 6</caption>\n",
       "<thead>\n",
       "\t<tr><th scope=col>Continente</th><th scope=col>Densidad</th><th scope=col>Superficie</th><th scope=col>Población</th><th scope=col>País más poblado</th><th scope=col>Ciudad más poblada</th></tr>\n",
       "\t<tr><th scope=col>&lt;chr&gt;</th><th scope=col>&lt;dbl&gt;</th><th scope=col>&lt;dbl&gt;</th><th scope=col>&lt;dbl&gt;</th><th scope=col>&lt;chr&gt;</th><th scope=col>&lt;chr&gt;</th></tr>\n",
       "</thead>\n",
       "<tbody>\n",
       "\t<tr><td>Asia   </td><td>86.88</td><td>43810000</td><td>4677291000</td><td>China (1.392.240.000)       </td><td>Tokio (35.682.000)           </td></tr>\n",
       "\t<tr><td>África </td><td>32.70</td><td>30370000</td><td>1110020000</td><td>Nigeria (191.205.000)       </td><td>El Cairo (16.794.000)        </td></tr>\n",
       "\t<tr><td>Europa </td><td>70.00</td><td>10180000</td><td> 801000000</td><td>Rusia (112.000.000)         </td><td>Moscú (18.940.000)           </td></tr>\n",
       "\t<tr><td>América</td><td>23.50</td><td>42330000</td><td>1094215000</td><td>Estados Unidos (330.028.000)</td><td>Ciudad de México (22.577.000)</td></tr>\n",
       "\t<tr><td>Oceanía</td><td> 4.25</td><td> 9008500</td><td>  40201000</td><td>Australia (27.240.000)      </td><td>Sídney (6.550.000)           </td></tr>\n",
       "</tbody>\n",
       "</table>\n"
      ],
      "text/latex": [
       "A tibble: 5 × 6\n",
       "\\begin{tabular}{llllll}\n",
       " Continente & Densidad & Superficie & Población & País más poblado & Ciudad más poblada\\\\\n",
       " <chr> & <dbl> & <dbl> & <dbl> & <chr> & <chr>\\\\\n",
       "\\hline\n",
       "\t Asia    & 86.88 & 43810000 & 4677291000 & China (1.392.240.000)        & Tokio (35.682.000)           \\\\\n",
       "\t África  & 32.70 & 30370000 & 1110020000 & Nigeria (191.205.000)        & El Cairo (16.794.000)        \\\\\n",
       "\t Europa  & 70.00 & 10180000 &  801000000 & Rusia (112.000.000)          & Moscú (18.940.000)           \\\\\n",
       "\t América & 23.50 & 42330000 & 1094215000 & Estados Unidos (330.028.000) & Ciudad de México (22.577.000)\\\\\n",
       "\t Oceanía &  4.25 &  9008500 &   40201000 & Australia (27.240.000)       & Sídney (6.550.000)           \\\\\n",
       "\\end{tabular}\n"
      ],
      "text/markdown": [
       "\n",
       "A tibble: 5 × 6\n",
       "\n",
       "| Continente &lt;chr&gt; | Densidad &lt;dbl&gt; | Superficie &lt;dbl&gt; | Población &lt;dbl&gt; | País más poblado &lt;chr&gt; | Ciudad más poblada &lt;chr&gt; |\n",
       "|---|---|---|---|---|---|\n",
       "| Asia    | 86.88 | 43810000 | 4677291000 | China (1.392.240.000)        | Tokio (35.682.000)            |\n",
       "| África  | 32.70 | 30370000 | 1110020000 | Nigeria (191.205.000)        | El Cairo (16.794.000)         |\n",
       "| Europa  | 70.00 | 10180000 |  801000000 | Rusia (112.000.000)          | Moscú (18.940.000)            |\n",
       "| América | 23.50 | 42330000 | 1094215000 | Estados Unidos (330.028.000) | Ciudad de México (22.577.000) |\n",
       "| Oceanía |  4.25 |  9008500 |   40201000 | Australia (27.240.000)       | Sídney (6.550.000)            |\n",
       "\n"
      ],
      "text/plain": [
       "  Continente Densidad Superficie Población  País más poblado            \n",
       "1 Asia       86.88    43810000   4677291000 China (1.392.240.000)       \n",
       "2 África     32.70    30370000   1110020000 Nigeria (191.205.000)       \n",
       "3 Europa     70.00    10180000    801000000 Rusia (112.000.000)         \n",
       "4 América    23.50    42330000   1094215000 Estados Unidos (330.028.000)\n",
       "5 Oceanía     4.25     9008500     40201000 Australia (27.240.000)      \n",
       "  Ciudad más poblada           \n",
       "1 Tokio (35.682.000)           \n",
       "2 El Cairo (16.794.000)        \n",
       "3 Moscú (18.940.000)           \n",
       "4 Ciudad de México (22.577.000)\n",
       "5 Sídney (6.550.000)           "
      ]
     },
     "metadata": {},
     "output_type": "display_data"
    }
   ],
   "source": [
    "datos_Hojas[[1]]"
   ]
  },
  {
   "cell_type": "code",
   "execution_count": 13,
   "metadata": {
    "vscode": {
     "languageId": "r"
    }
   },
   "outputs": [
    {
     "data": {
      "text/html": [
       "<table class=\"dataframe\">\n",
       "<caption>A tibble: 5 × 2</caption>\n",
       "<thead>\n",
       "\t<tr><th scope=col>País</th><th scope=col>Capital</th></tr>\n",
       "\t<tr><th scope=col>&lt;chr&gt;</th><th scope=col>&lt;chr&gt;</th></tr>\n",
       "</thead>\n",
       "<tbody>\n",
       "\t<tr><td>México        </td><td>Ciudad de México</td></tr>\n",
       "\t<tr><td>Estados Unidos</td><td>Washintong      </td></tr>\n",
       "\t<tr><td>Canadá        </td><td>Otawa           </td></tr>\n",
       "\t<tr><td>Alemania      </td><td>Berlín          </td></tr>\n",
       "\t<tr><td>Francia       </td><td>París           </td></tr>\n",
       "</tbody>\n",
       "</table>\n"
      ],
      "text/latex": [
       "A tibble: 5 × 2\n",
       "\\begin{tabular}{ll}\n",
       " País & Capital\\\\\n",
       " <chr> & <chr>\\\\\n",
       "\\hline\n",
       "\t México         & Ciudad de México\\\\\n",
       "\t Estados Unidos & Washintong      \\\\\n",
       "\t Canadá         & Otawa           \\\\\n",
       "\t Alemania       & Berlín          \\\\\n",
       "\t Francia        & París           \\\\\n",
       "\\end{tabular}\n"
      ],
      "text/markdown": [
       "\n",
       "A tibble: 5 × 2\n",
       "\n",
       "| País &lt;chr&gt; | Capital &lt;chr&gt; |\n",
       "|---|---|\n",
       "| México         | Ciudad de México |\n",
       "| Estados Unidos | Washintong       |\n",
       "| Canadá         | Otawa            |\n",
       "| Alemania       | Berlín           |\n",
       "| Francia        | París            |\n",
       "\n"
      ],
      "text/plain": [
       "  País           Capital         \n",
       "1 México         Ciudad de México\n",
       "2 Estados Unidos Washintong      \n",
       "3 Canadá         Otawa           \n",
       "4 Alemania       Berlín          \n",
       "5 Francia        París           "
      ]
     },
     "metadata": {},
     "output_type": "display_data"
    }
   ],
   "source": [
    "datos_Hojas[[2]]"
   ]
  },
  {
   "cell_type": "code",
   "execution_count": 14,
   "metadata": {
    "vscode": {
     "languageId": "r"
    }
   },
   "outputs": [
    {
     "data": {
      "text/html": [
       "<table class=\"dataframe\">\n",
       "<caption>A tibble: 5 × 1</caption>\n",
       "<thead>\n",
       "\t<tr><th scope=col>Capital</th></tr>\n",
       "\t<tr><th scope=col>&lt;chr&gt;</th></tr>\n",
       "</thead>\n",
       "<tbody>\n",
       "\t<tr><td>Ciudad de México</td></tr>\n",
       "\t<tr><td>Washintong      </td></tr>\n",
       "\t<tr><td>Otawa           </td></tr>\n",
       "\t<tr><td>Berlín          </td></tr>\n",
       "\t<tr><td>París           </td></tr>\n",
       "</tbody>\n",
       "</table>\n"
      ],
      "text/latex": [
       "A tibble: 5 × 1\n",
       "\\begin{tabular}{l}\n",
       " Capital\\\\\n",
       " <chr>\\\\\n",
       "\\hline\n",
       "\t Ciudad de México\\\\\n",
       "\t Washintong      \\\\\n",
       "\t Otawa           \\\\\n",
       "\t Berlín          \\\\\n",
       "\t París           \\\\\n",
       "\\end{tabular}\n"
      ],
      "text/markdown": [
       "\n",
       "A tibble: 5 × 1\n",
       "\n",
       "| Capital &lt;chr&gt; |\n",
       "|---|\n",
       "| Ciudad de México |\n",
       "| Washintong       |\n",
       "| Otawa            |\n",
       "| Berlín           |\n",
       "| París            |\n",
       "\n"
      ],
      "text/plain": [
       "  Capital         \n",
       "1 Ciudad de México\n",
       "2 Washintong      \n",
       "3 Otawa           \n",
       "4 Berlín          \n",
       "5 París           "
      ]
     },
     "metadata": {},
     "output_type": "display_data"
    }
   ],
   "source": [
    "datos_Hojas[[2]]['Capital']"
   ]
  },
  {
   "cell_type": "code",
   "execution_count": 15,
   "metadata": {
    "vscode": {
     "languageId": "r"
    }
   },
   "outputs": [
    {
     "data": {
      "text/html": [
       "<style>\n",
       ".list-inline {list-style: none; margin:0; padding: 0}\n",
       ".list-inline>li {display: inline-block}\n",
       ".list-inline>li:not(:last-child)::after {content: \"\\00b7\"; padding: 0 .5ex}\n",
       "</style>\n",
       "<ol class=list-inline><li>'Ciudad de México'</li><li>'Washintong'</li><li>'Otawa'</li><li>'Berlín'</li><li>'París'</li></ol>\n"
      ],
      "text/latex": [
       "\\begin{enumerate*}\n",
       "\\item 'Ciudad de México'\n",
       "\\item 'Washintong'\n",
       "\\item 'Otawa'\n",
       "\\item 'Berlín'\n",
       "\\item 'París'\n",
       "\\end{enumerate*}\n"
      ],
      "text/markdown": [
       "1. 'Ciudad de México'\n",
       "2. 'Washintong'\n",
       "3. 'Otawa'\n",
       "4. 'Berlín'\n",
       "5. 'París'\n",
       "\n",
       "\n"
      ],
      "text/plain": [
       "[1] \"Ciudad de México\" \"Washintong\"       \"Otawa\"            \"Berlín\"          \n",
       "[5] \"París\"           "
      ]
     },
     "metadata": {},
     "output_type": "display_data"
    }
   ],
   "source": [
    "datos_Hojas[[2]]$Capital"
   ]
  },
  {
   "attachments": {},
   "cell_type": "markdown",
   "metadata": {},
   "source": [
    "### Escritura de datos en archivo excel"
   ]
  },
  {
   "cell_type": "code",
   "execution_count": 16,
   "metadata": {
    "vscode": {
     "languageId": "r"
    }
   },
   "outputs": [
    {
     "data": {
      "text/html": [
       "<table class=\"dataframe\">\n",
       "<caption>A data.frame: 6 × 11</caption>\n",
       "<thead>\n",
       "\t<tr><th></th><th scope=col>mpg</th><th scope=col>cyl</th><th scope=col>disp</th><th scope=col>hp</th><th scope=col>drat</th><th scope=col>wt</th><th scope=col>qsec</th><th scope=col>vs</th><th scope=col>am</th><th scope=col>gear</th><th scope=col>carb</th></tr>\n",
       "\t<tr><th></th><th scope=col>&lt;dbl&gt;</th><th scope=col>&lt;dbl&gt;</th><th scope=col>&lt;dbl&gt;</th><th scope=col>&lt;dbl&gt;</th><th scope=col>&lt;dbl&gt;</th><th scope=col>&lt;dbl&gt;</th><th scope=col>&lt;dbl&gt;</th><th scope=col>&lt;dbl&gt;</th><th scope=col>&lt;dbl&gt;</th><th scope=col>&lt;dbl&gt;</th><th scope=col>&lt;dbl&gt;</th></tr>\n",
       "</thead>\n",
       "<tbody>\n",
       "\t<tr><th scope=row>Mazda RX4</th><td>21.0</td><td>6</td><td>160</td><td>110</td><td>3.90</td><td>2.620</td><td>16.46</td><td>0</td><td>1</td><td>4</td><td>4</td></tr>\n",
       "\t<tr><th scope=row>Mazda RX4 Wag</th><td>21.0</td><td>6</td><td>160</td><td>110</td><td>3.90</td><td>2.875</td><td>17.02</td><td>0</td><td>1</td><td>4</td><td>4</td></tr>\n",
       "\t<tr><th scope=row>Datsun 710</th><td>22.8</td><td>4</td><td>108</td><td> 93</td><td>3.85</td><td>2.320</td><td>18.61</td><td>1</td><td>1</td><td>4</td><td>1</td></tr>\n",
       "\t<tr><th scope=row>Hornet 4 Drive</th><td>21.4</td><td>6</td><td>258</td><td>110</td><td>3.08</td><td>3.215</td><td>19.44</td><td>1</td><td>0</td><td>3</td><td>1</td></tr>\n",
       "\t<tr><th scope=row>Hornet Sportabout</th><td>18.7</td><td>8</td><td>360</td><td>175</td><td>3.15</td><td>3.440</td><td>17.02</td><td>0</td><td>0</td><td>3</td><td>2</td></tr>\n",
       "\t<tr><th scope=row>Valiant</th><td>18.1</td><td>6</td><td>225</td><td>105</td><td>2.76</td><td>3.460</td><td>20.22</td><td>1</td><td>0</td><td>3</td><td>1</td></tr>\n",
       "</tbody>\n",
       "</table>\n"
      ],
      "text/latex": [
       "A data.frame: 6 × 11\n",
       "\\begin{tabular}{r|lllllllllll}\n",
       "  & mpg & cyl & disp & hp & drat & wt & qsec & vs & am & gear & carb\\\\\n",
       "  & <dbl> & <dbl> & <dbl> & <dbl> & <dbl> & <dbl> & <dbl> & <dbl> & <dbl> & <dbl> & <dbl>\\\\\n",
       "\\hline\n",
       "\tMazda RX4 & 21.0 & 6 & 160 & 110 & 3.90 & 2.620 & 16.46 & 0 & 1 & 4 & 4\\\\\n",
       "\tMazda RX4 Wag & 21.0 & 6 & 160 & 110 & 3.90 & 2.875 & 17.02 & 0 & 1 & 4 & 4\\\\\n",
       "\tDatsun 710 & 22.8 & 4 & 108 &  93 & 3.85 & 2.320 & 18.61 & 1 & 1 & 4 & 1\\\\\n",
       "\tHornet 4 Drive & 21.4 & 6 & 258 & 110 & 3.08 & 3.215 & 19.44 & 1 & 0 & 3 & 1\\\\\n",
       "\tHornet Sportabout & 18.7 & 8 & 360 & 175 & 3.15 & 3.440 & 17.02 & 0 & 0 & 3 & 2\\\\\n",
       "\tValiant & 18.1 & 6 & 225 & 105 & 2.76 & 3.460 & 20.22 & 1 & 0 & 3 & 1\\\\\n",
       "\\end{tabular}\n"
      ],
      "text/markdown": [
       "\n",
       "A data.frame: 6 × 11\n",
       "\n",
       "| <!--/--> | mpg &lt;dbl&gt; | cyl &lt;dbl&gt; | disp &lt;dbl&gt; | hp &lt;dbl&gt; | drat &lt;dbl&gt; | wt &lt;dbl&gt; | qsec &lt;dbl&gt; | vs &lt;dbl&gt; | am &lt;dbl&gt; | gear &lt;dbl&gt; | carb &lt;dbl&gt; |\n",
       "|---|---|---|---|---|---|---|---|---|---|---|---|\n",
       "| Mazda RX4 | 21.0 | 6 | 160 | 110 | 3.90 | 2.620 | 16.46 | 0 | 1 | 4 | 4 |\n",
       "| Mazda RX4 Wag | 21.0 | 6 | 160 | 110 | 3.90 | 2.875 | 17.02 | 0 | 1 | 4 | 4 |\n",
       "| Datsun 710 | 22.8 | 4 | 108 |  93 | 3.85 | 2.320 | 18.61 | 1 | 1 | 4 | 1 |\n",
       "| Hornet 4 Drive | 21.4 | 6 | 258 | 110 | 3.08 | 3.215 | 19.44 | 1 | 0 | 3 | 1 |\n",
       "| Hornet Sportabout | 18.7 | 8 | 360 | 175 | 3.15 | 3.440 | 17.02 | 0 | 0 | 3 | 2 |\n",
       "| Valiant | 18.1 | 6 | 225 | 105 | 2.76 | 3.460 | 20.22 | 1 | 0 | 3 | 1 |\n",
       "\n"
      ],
      "text/plain": [
       "                  mpg  cyl disp hp  drat wt    qsec  vs am gear carb\n",
       "Mazda RX4         21.0 6   160  110 3.90 2.620 16.46 0  1  4    4   \n",
       "Mazda RX4 Wag     21.0 6   160  110 3.90 2.875 17.02 0  1  4    4   \n",
       "Datsun 710        22.8 4   108   93 3.85 2.320 18.61 1  1  4    1   \n",
       "Hornet 4 Drive    21.4 6   258  110 3.08 3.215 19.44 1  0  3    1   \n",
       "Hornet Sportabout 18.7 8   360  175 3.15 3.440 17.02 0  0  3    2   \n",
       "Valiant           18.1 6   225  105 2.76 3.460 20.22 1  0  3    1   "
      ]
     },
     "metadata": {},
     "output_type": "display_data"
    }
   ],
   "source": [
    "df <- head(mtcars)\n",
    "df"
   ]
  },
  {
   "cell_type": "code",
   "execution_count": 17,
   "metadata": {
    "vscode": {
     "languageId": "r"
    }
   },
   "outputs": [],
   "source": [
    "# La siguiente función se puede usar gracias a que importamos la librería: \"library(openxlsx)\" \n",
    "write.xlsx(df,'data/file.xlsx', rowNames = TRUE, sheetName='Hoja1')"
   ]
  },
  {
   "cell_type": "code",
   "execution_count": 18,
   "metadata": {
    "vscode": {
     "languageId": "r"
    }
   },
   "outputs": [
    {
     "data": {
      "text/html": [
       "'Hoja1'"
      ],
      "text/latex": [
       "'Hoja1'"
      ],
      "text/markdown": [
       "'Hoja1'"
      ],
      "text/plain": [
       "[1] \"Hoja1\""
      ]
     },
     "metadata": {},
     "output_type": "display_data"
    }
   ],
   "source": [
    "hojas <- excel_sheets('data/file.xlsx')\n",
    "hojas"
   ]
  },
  {
   "cell_type": "code",
   "execution_count": 19,
   "metadata": {
    "vscode": {
     "languageId": "r"
    }
   },
   "outputs": [
    {
     "name": "stderr",
     "output_type": "stream",
     "text": [
      "\u001b[1m\u001b[22mNew names:\n",
      "\u001b[36m•\u001b[39m `` -> `...1`\n"
     ]
    },
    {
     "data": {
      "text/html": [
       "<table class=\"dataframe\">\n",
       "<caption>A tibble: 6 × 12</caption>\n",
       "<thead>\n",
       "\t<tr><th scope=col>...1</th><th scope=col>mpg</th><th scope=col>cyl</th><th scope=col>disp</th><th scope=col>hp</th><th scope=col>drat</th><th scope=col>wt</th><th scope=col>qsec</th><th scope=col>vs</th><th scope=col>am</th><th scope=col>gear</th><th scope=col>carb</th></tr>\n",
       "\t<tr><th scope=col>&lt;chr&gt;</th><th scope=col>&lt;dbl&gt;</th><th scope=col>&lt;dbl&gt;</th><th scope=col>&lt;dbl&gt;</th><th scope=col>&lt;dbl&gt;</th><th scope=col>&lt;dbl&gt;</th><th scope=col>&lt;dbl&gt;</th><th scope=col>&lt;dbl&gt;</th><th scope=col>&lt;dbl&gt;</th><th scope=col>&lt;dbl&gt;</th><th scope=col>&lt;dbl&gt;</th><th scope=col>&lt;dbl&gt;</th></tr>\n",
       "</thead>\n",
       "<tbody>\n",
       "\t<tr><td>Mazda RX4        </td><td>21.0</td><td>6</td><td>160</td><td>110</td><td>3.90</td><td>2.620</td><td>16.46</td><td>0</td><td>1</td><td>4</td><td>4</td></tr>\n",
       "\t<tr><td>Mazda RX4 Wag    </td><td>21.0</td><td>6</td><td>160</td><td>110</td><td>3.90</td><td>2.875</td><td>17.02</td><td>0</td><td>1</td><td>4</td><td>4</td></tr>\n",
       "\t<tr><td>Datsun 710       </td><td>22.8</td><td>4</td><td>108</td><td> 93</td><td>3.85</td><td>2.320</td><td>18.61</td><td>1</td><td>1</td><td>4</td><td>1</td></tr>\n",
       "\t<tr><td>Hornet 4 Drive   </td><td>21.4</td><td>6</td><td>258</td><td>110</td><td>3.08</td><td>3.215</td><td>19.44</td><td>1</td><td>0</td><td>3</td><td>1</td></tr>\n",
       "\t<tr><td>Hornet Sportabout</td><td>18.7</td><td>8</td><td>360</td><td>175</td><td>3.15</td><td>3.440</td><td>17.02</td><td>0</td><td>0</td><td>3</td><td>2</td></tr>\n",
       "\t<tr><td>Valiant          </td><td>18.1</td><td>6</td><td>225</td><td>105</td><td>2.76</td><td>3.460</td><td>20.22</td><td>1</td><td>0</td><td>3</td><td>1</td></tr>\n",
       "</tbody>\n",
       "</table>\n"
      ],
      "text/latex": [
       "A tibble: 6 × 12\n",
       "\\begin{tabular}{llllllllllll}\n",
       " ...1 & mpg & cyl & disp & hp & drat & wt & qsec & vs & am & gear & carb\\\\\n",
       " <chr> & <dbl> & <dbl> & <dbl> & <dbl> & <dbl> & <dbl> & <dbl> & <dbl> & <dbl> & <dbl> & <dbl>\\\\\n",
       "\\hline\n",
       "\t Mazda RX4         & 21.0 & 6 & 160 & 110 & 3.90 & 2.620 & 16.46 & 0 & 1 & 4 & 4\\\\\n",
       "\t Mazda RX4 Wag     & 21.0 & 6 & 160 & 110 & 3.90 & 2.875 & 17.02 & 0 & 1 & 4 & 4\\\\\n",
       "\t Datsun 710        & 22.8 & 4 & 108 &  93 & 3.85 & 2.320 & 18.61 & 1 & 1 & 4 & 1\\\\\n",
       "\t Hornet 4 Drive    & 21.4 & 6 & 258 & 110 & 3.08 & 3.215 & 19.44 & 1 & 0 & 3 & 1\\\\\n",
       "\t Hornet Sportabout & 18.7 & 8 & 360 & 175 & 3.15 & 3.440 & 17.02 & 0 & 0 & 3 & 2\\\\\n",
       "\t Valiant           & 18.1 & 6 & 225 & 105 & 2.76 & 3.460 & 20.22 & 1 & 0 & 3 & 1\\\\\n",
       "\\end{tabular}\n"
      ],
      "text/markdown": [
       "\n",
       "A tibble: 6 × 12\n",
       "\n",
       "| ...1 &lt;chr&gt; | mpg &lt;dbl&gt; | cyl &lt;dbl&gt; | disp &lt;dbl&gt; | hp &lt;dbl&gt; | drat &lt;dbl&gt; | wt &lt;dbl&gt; | qsec &lt;dbl&gt; | vs &lt;dbl&gt; | am &lt;dbl&gt; | gear &lt;dbl&gt; | carb &lt;dbl&gt; |\n",
       "|---|---|---|---|---|---|---|---|---|---|---|---|\n",
       "| Mazda RX4         | 21.0 | 6 | 160 | 110 | 3.90 | 2.620 | 16.46 | 0 | 1 | 4 | 4 |\n",
       "| Mazda RX4 Wag     | 21.0 | 6 | 160 | 110 | 3.90 | 2.875 | 17.02 | 0 | 1 | 4 | 4 |\n",
       "| Datsun 710        | 22.8 | 4 | 108 |  93 | 3.85 | 2.320 | 18.61 | 1 | 1 | 4 | 1 |\n",
       "| Hornet 4 Drive    | 21.4 | 6 | 258 | 110 | 3.08 | 3.215 | 19.44 | 1 | 0 | 3 | 1 |\n",
       "| Hornet Sportabout | 18.7 | 8 | 360 | 175 | 3.15 | 3.440 | 17.02 | 0 | 0 | 3 | 2 |\n",
       "| Valiant           | 18.1 | 6 | 225 | 105 | 2.76 | 3.460 | 20.22 | 1 | 0 | 3 | 1 |\n",
       "\n"
      ],
      "text/plain": [
       "  ...1              mpg  cyl disp hp  drat wt    qsec  vs am gear carb\n",
       "1 Mazda RX4         21.0 6   160  110 3.90 2.620 16.46 0  1  4    4   \n",
       "2 Mazda RX4 Wag     21.0 6   160  110 3.90 2.875 17.02 0  1  4    4   \n",
       "3 Datsun 710        22.8 4   108   93 3.85 2.320 18.61 1  1  4    1   \n",
       "4 Hornet 4 Drive    21.4 6   258  110 3.08 3.215 19.44 1  0  3    1   \n",
       "5 Hornet Sportabout 18.7 8   360  175 3.15 3.440 17.02 0  0  3    2   \n",
       "6 Valiant           18.1 6   225  105 2.76 3.460 20.22 1  0  3    1   "
      ]
     },
     "metadata": {},
     "output_type": "display_data"
    }
   ],
   "source": [
    "df2 <- read_excel('data/file.xlsx', hojas[1])\n",
    "df2"
   ]
  },
  {
   "cell_type": "code",
   "execution_count": 20,
   "metadata": {
    "vscode": {
     "languageId": "r"
    }
   },
   "outputs": [
    {
     "data": {
      "text/html": [
       "<table class=\"dataframe\">\n",
       "<caption>A tibble: 6 × 1</caption>\n",
       "<thead>\n",
       "\t<tr><th scope=col>carb</th></tr>\n",
       "\t<tr><th scope=col>&lt;dbl&gt;</th></tr>\n",
       "</thead>\n",
       "<tbody>\n",
       "\t<tr><td>4</td></tr>\n",
       "\t<tr><td>4</td></tr>\n",
       "\t<tr><td>1</td></tr>\n",
       "\t<tr><td>1</td></tr>\n",
       "\t<tr><td>2</td></tr>\n",
       "\t<tr><td>1</td></tr>\n",
       "</tbody>\n",
       "</table>\n"
      ],
      "text/latex": [
       "A tibble: 6 × 1\n",
       "\\begin{tabular}{l}\n",
       " carb\\\\\n",
       " <dbl>\\\\\n",
       "\\hline\n",
       "\t 4\\\\\n",
       "\t 4\\\\\n",
       "\t 1\\\\\n",
       "\t 1\\\\\n",
       "\t 2\\\\\n",
       "\t 1\\\\\n",
       "\\end{tabular}\n"
      ],
      "text/markdown": [
       "\n",
       "A tibble: 6 × 1\n",
       "\n",
       "| carb &lt;dbl&gt; |\n",
       "|---|\n",
       "| 4 |\n",
       "| 4 |\n",
       "| 1 |\n",
       "| 1 |\n",
       "| 2 |\n",
       "| 1 |\n",
       "\n"
      ],
      "text/plain": [
       "  carb\n",
       "1 4   \n",
       "2 4   \n",
       "3 1   \n",
       "4 1   \n",
       "5 2   \n",
       "6 1   "
      ]
     },
     "metadata": {},
     "output_type": "display_data"
    }
   ],
   "source": [
    "df2['carb']"
   ]
  },
  {
   "cell_type": "code",
   "execution_count": 22,
   "metadata": {
    "vscode": {
     "languageId": "r"
    }
   },
   "outputs": [
    {
     "data": {
      "text/html": [
       "<table class=\"dataframe\">\n",
       "<caption>A data.frame: 6 × 1</caption>\n",
       "<thead>\n",
       "\t<tr><th scope=col>carb</th></tr>\n",
       "\t<tr><th scope=col>&lt;dbl&gt;</th></tr>\n",
       "</thead>\n",
       "<tbody>\n",
       "\t<tr><td>20</td></tr>\n",
       "\t<tr><td>20</td></tr>\n",
       "\t<tr><td> 5</td></tr>\n",
       "\t<tr><td> 5</td></tr>\n",
       "\t<tr><td>10</td></tr>\n",
       "\t<tr><td> 5</td></tr>\n",
       "</tbody>\n",
       "</table>\n"
      ],
      "text/latex": [
       "A data.frame: 6 × 1\n",
       "\\begin{tabular}{l}\n",
       " carb\\\\\n",
       " <dbl>\\\\\n",
       "\\hline\n",
       "\t 20\\\\\n",
       "\t 20\\\\\n",
       "\t  5\\\\\n",
       "\t  5\\\\\n",
       "\t 10\\\\\n",
       "\t  5\\\\\n",
       "\\end{tabular}\n"
      ],
      "text/markdown": [
       "\n",
       "A data.frame: 6 × 1\n",
       "\n",
       "| carb &lt;dbl&gt; |\n",
       "|---|\n",
       "| 20 |\n",
       "| 20 |\n",
       "|  5 |\n",
       "|  5 |\n",
       "| 10 |\n",
       "|  5 |\n",
       "\n"
      ],
      "text/plain": [
       "  carb\n",
       "1 20  \n",
       "2 20  \n",
       "3  5  \n",
       "4  5  \n",
       "5 10  \n",
       "6  5  "
      ]
     },
     "metadata": {},
     "output_type": "display_data"
    }
   ],
   "source": [
    "5*df2['carb']"
   ]
  },
  {
   "cell_type": "code",
   "execution_count": 21,
   "metadata": {
    "vscode": {
     "languageId": "r"
    }
   },
   "outputs": [
    {
     "data": {
      "text/html": [
       "<style>\n",
       ".list-inline {list-style: none; margin:0; padding: 0}\n",
       ".list-inline>li {display: inline-block}\n",
       ".list-inline>li:not(:last-child)::after {content: \"\\00b7\"; padding: 0 .5ex}\n",
       "</style>\n",
       "<ol class=list-inline><li>4</li><li>4</li><li>1</li><li>1</li><li>2</li><li>1</li></ol>\n"
      ],
      "text/latex": [
       "\\begin{enumerate*}\n",
       "\\item 4\n",
       "\\item 4\n",
       "\\item 1\n",
       "\\item 1\n",
       "\\item 2\n",
       "\\item 1\n",
       "\\end{enumerate*}\n"
      ],
      "text/markdown": [
       "1. 4\n",
       "2. 4\n",
       "3. 1\n",
       "4. 1\n",
       "5. 2\n",
       "6. 1\n",
       "\n",
       "\n"
      ],
      "text/plain": [
       "[1] 4 4 1 1 2 1"
      ]
     },
     "metadata": {},
     "output_type": "display_data"
    }
   ],
   "source": [
    "df2$carb"
   ]
  },
  {
   "cell_type": "code",
   "execution_count": 23,
   "metadata": {
    "vscode": {
     "languageId": "r"
    }
   },
   "outputs": [
    {
     "data": {
      "text/html": [
       "<style>\n",
       ".list-inline {list-style: none; margin:0; padding: 0}\n",
       ".list-inline>li {display: inline-block}\n",
       ".list-inline>li:not(:last-child)::after {content: \"\\00b7\"; padding: 0 .5ex}\n",
       "</style>\n",
       "<ol class=list-inline><li>20</li><li>20</li><li>5</li><li>5</li><li>10</li><li>5</li></ol>\n"
      ],
      "text/latex": [
       "\\begin{enumerate*}\n",
       "\\item 20\n",
       "\\item 20\n",
       "\\item 5\n",
       "\\item 5\n",
       "\\item 10\n",
       "\\item 5\n",
       "\\end{enumerate*}\n"
      ],
      "text/markdown": [
       "1. 20\n",
       "2. 20\n",
       "3. 5\n",
       "4. 5\n",
       "5. 10\n",
       "6. 5\n",
       "\n",
       "\n"
      ],
      "text/plain": [
       "[1] 20 20  5  5 10  5"
      ]
     },
     "metadata": {},
     "output_type": "display_data"
    }
   ],
   "source": [
    "5*df2$carb"
   ]
  },
  {
   "cell_type": "code",
   "execution_count": null,
   "metadata": {
    "vscode": {
     "languageId": "r"
    }
   },
   "outputs": [],
   "source": []
  }
 ],
 "metadata": {
  "kernelspec": {
   "display_name": "R",
   "language": "R",
   "name": "ir"
  },
  "language_info": {
   "codemirror_mode": "r",
   "file_extension": ".r",
   "mimetype": "text/x-r-source",
   "name": "R",
   "pygments_lexer": "r",
   "version": "4.3.1"
  },
  "orig_nbformat": 4
 },
 "nbformat": 4,
 "nbformat_minor": 2
}
