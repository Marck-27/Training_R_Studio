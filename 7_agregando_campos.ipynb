{
 "cells": [
  {
   "attachments": {},
   "cell_type": "markdown",
   "metadata": {},
   "source": [
    "# Agregación de campos en un Data Frame\n",
    "\n",
    "Hay dos formas distintas de agregar columnas a un DataFrame:\n",
    "* `df$NewColumnName <- Valor`\n",
    "* `df['NewColumnName'] <- Valor`"
   ]
  },
  {
   "cell_type": "code",
   "execution_count": 1,
   "metadata": {
    "vscode": {
     "languageId": "r"
    }
   },
   "outputs": [
    {
     "data": {
      "text/html": [
       "<table class=\"dataframe\">\n",
       "<caption>A data.frame: 10 × 2</caption>\n",
       "<thead>\n",
       "\t<tr><th scope=col>columna1</th><th scope=col>columna2</th></tr>\n",
       "\t<tr><th scope=col>&lt;int&gt;</th><th scope=col>&lt;chr&gt;</th></tr>\n",
       "</thead>\n",
       "<tbody>\n",
       "\t<tr><td> 1</td><td>a</td></tr>\n",
       "\t<tr><td> 2</td><td>b</td></tr>\n",
       "\t<tr><td> 3</td><td>c</td></tr>\n",
       "\t<tr><td> 4</td><td>d</td></tr>\n",
       "\t<tr><td> 5</td><td>e</td></tr>\n",
       "\t<tr><td> 6</td><td>f</td></tr>\n",
       "\t<tr><td> 7</td><td>g</td></tr>\n",
       "\t<tr><td> 8</td><td>h</td></tr>\n",
       "\t<tr><td> 9</td><td>i</td></tr>\n",
       "\t<tr><td>10</td><td>j</td></tr>\n",
       "</tbody>\n",
       "</table>\n"
      ],
      "text/latex": [
       "A data.frame: 10 × 2\n",
       "\\begin{tabular}{ll}\n",
       " columna1 & columna2\\\\\n",
       " <int> & <chr>\\\\\n",
       "\\hline\n",
       "\t  1 & a\\\\\n",
       "\t  2 & b\\\\\n",
       "\t  3 & c\\\\\n",
       "\t  4 & d\\\\\n",
       "\t  5 & e\\\\\n",
       "\t  6 & f\\\\\n",
       "\t  7 & g\\\\\n",
       "\t  8 & h\\\\\n",
       "\t  9 & i\\\\\n",
       "\t 10 & j\\\\\n",
       "\\end{tabular}\n"
      ],
      "text/markdown": [
       "\n",
       "A data.frame: 10 × 2\n",
       "\n",
       "| columna1 &lt;int&gt; | columna2 &lt;chr&gt; |\n",
       "|---|---|\n",
       "|  1 | a |\n",
       "|  2 | b |\n",
       "|  3 | c |\n",
       "|  4 | d |\n",
       "|  5 | e |\n",
       "|  6 | f |\n",
       "|  7 | g |\n",
       "|  8 | h |\n",
       "|  9 | i |\n",
       "| 10 | j |\n",
       "\n"
      ],
      "text/plain": [
       "   columna1 columna2\n",
       "1   1       a       \n",
       "2   2       b       \n",
       "3   3       c       \n",
       "4   4       d       \n",
       "5   5       e       \n",
       "6   6       f       \n",
       "7   7       g       \n",
       "8   8       h       \n",
       "9   9       i       \n",
       "10 10       j       "
      ]
     },
     "metadata": {},
     "output_type": "display_data"
    }
   ],
   "source": [
    "df <- read.csv(file = 'data/fichero2.csv')\n",
    "df"
   ]
  },
  {
   "cell_type": "code",
   "execution_count": 2,
   "metadata": {
    "vscode": {
     "languageId": "r"
    }
   },
   "outputs": [
    {
     "data": {
      "text/html": [
       "<table class=\"dataframe\">\n",
       "<caption>A data.frame: 10 × 3</caption>\n",
       "<thead>\n",
       "\t<tr><th scope=col>columna1</th><th scope=col>columna2</th><th scope=col>columna3</th></tr>\n",
       "\t<tr><th scope=col>&lt;int&gt;</th><th scope=col>&lt;chr&gt;</th><th scope=col>&lt;dbl&gt;</th></tr>\n",
       "</thead>\n",
       "<tbody>\n",
       "\t<tr><td> 1</td><td>a</td><td> 5</td></tr>\n",
       "\t<tr><td> 2</td><td>b</td><td>10</td></tr>\n",
       "\t<tr><td> 3</td><td>c</td><td>15</td></tr>\n",
       "\t<tr><td> 4</td><td>d</td><td>20</td></tr>\n",
       "\t<tr><td> 5</td><td>e</td><td>25</td></tr>\n",
       "\t<tr><td> 6</td><td>f</td><td>30</td></tr>\n",
       "\t<tr><td> 7</td><td>g</td><td>35</td></tr>\n",
       "\t<tr><td> 8</td><td>h</td><td>40</td></tr>\n",
       "\t<tr><td> 9</td><td>i</td><td>45</td></tr>\n",
       "\t<tr><td>10</td><td>j</td><td>50</td></tr>\n",
       "</tbody>\n",
       "</table>\n"
      ],
      "text/latex": [
       "A data.frame: 10 × 3\n",
       "\\begin{tabular}{lll}\n",
       " columna1 & columna2 & columna3\\\\\n",
       " <int> & <chr> & <dbl>\\\\\n",
       "\\hline\n",
       "\t  1 & a &  5\\\\\n",
       "\t  2 & b & 10\\\\\n",
       "\t  3 & c & 15\\\\\n",
       "\t  4 & d & 20\\\\\n",
       "\t  5 & e & 25\\\\\n",
       "\t  6 & f & 30\\\\\n",
       "\t  7 & g & 35\\\\\n",
       "\t  8 & h & 40\\\\\n",
       "\t  9 & i & 45\\\\\n",
       "\t 10 & j & 50\\\\\n",
       "\\end{tabular}\n"
      ],
      "text/markdown": [
       "\n",
       "A data.frame: 10 × 3\n",
       "\n",
       "| columna1 &lt;int&gt; | columna2 &lt;chr&gt; | columna3 &lt;dbl&gt; |\n",
       "|---|---|---|\n",
       "|  1 | a |  5 |\n",
       "|  2 | b | 10 |\n",
       "|  3 | c | 15 |\n",
       "|  4 | d | 20 |\n",
       "|  5 | e | 25 |\n",
       "|  6 | f | 30 |\n",
       "|  7 | g | 35 |\n",
       "|  8 | h | 40 |\n",
       "|  9 | i | 45 |\n",
       "| 10 | j | 50 |\n",
       "\n"
      ],
      "text/plain": [
       "   columna1 columna2 columna3\n",
       "1   1       a         5      \n",
       "2   2       b        10      \n",
       "3   3       c        15      \n",
       "4   4       d        20      \n",
       "5   5       e        25      \n",
       "6   6       f        30      \n",
       "7   7       g        35      \n",
       "8   8       h        40      \n",
       "9   9       i        45      \n",
       "10 10       j        50      "
      ]
     },
     "metadata": {},
     "output_type": "display_data"
    }
   ],
   "source": [
    "df$columna3 <- df$columna1*5\n",
    "\n",
    "df"
   ]
  },
  {
   "cell_type": "code",
   "execution_count": 3,
   "metadata": {
    "vscode": {
     "languageId": "r"
    }
   },
   "outputs": [
    {
     "data": {
      "text/html": [
       "<table class=\"dataframe\">\n",
       "<caption>A data.frame: 10 × 4</caption>\n",
       "<thead>\n",
       "\t<tr><th scope=col>columna1</th><th scope=col>columna2</th><th scope=col>columna3</th><th scope=col>columna4</th></tr>\n",
       "\t<tr><th scope=col>&lt;int&gt;</th><th scope=col>&lt;chr&gt;</th><th scope=col>&lt;dbl&gt;</th><th scope=col>&lt;dbl&gt;</th></tr>\n",
       "</thead>\n",
       "<tbody>\n",
       "\t<tr><td> 1</td><td>a</td><td> 5</td><td>  25</td></tr>\n",
       "\t<tr><td> 2</td><td>b</td><td>10</td><td> 100</td></tr>\n",
       "\t<tr><td> 3</td><td>c</td><td>15</td><td> 225</td></tr>\n",
       "\t<tr><td> 4</td><td>d</td><td>20</td><td> 400</td></tr>\n",
       "\t<tr><td> 5</td><td>e</td><td>25</td><td> 625</td></tr>\n",
       "\t<tr><td> 6</td><td>f</td><td>30</td><td> 900</td></tr>\n",
       "\t<tr><td> 7</td><td>g</td><td>35</td><td>1225</td></tr>\n",
       "\t<tr><td> 8</td><td>h</td><td>40</td><td>1600</td></tr>\n",
       "\t<tr><td> 9</td><td>i</td><td>45</td><td>2025</td></tr>\n",
       "\t<tr><td>10</td><td>j</td><td>50</td><td>2500</td></tr>\n",
       "</tbody>\n",
       "</table>\n"
      ],
      "text/latex": [
       "A data.frame: 10 × 4\n",
       "\\begin{tabular}{llll}\n",
       " columna1 & columna2 & columna3 & columna4\\\\\n",
       " <int> & <chr> & <dbl> & <dbl>\\\\\n",
       "\\hline\n",
       "\t  1 & a &  5 &   25\\\\\n",
       "\t  2 & b & 10 &  100\\\\\n",
       "\t  3 & c & 15 &  225\\\\\n",
       "\t  4 & d & 20 &  400\\\\\n",
       "\t  5 & e & 25 &  625\\\\\n",
       "\t  6 & f & 30 &  900\\\\\n",
       "\t  7 & g & 35 & 1225\\\\\n",
       "\t  8 & h & 40 & 1600\\\\\n",
       "\t  9 & i & 45 & 2025\\\\\n",
       "\t 10 & j & 50 & 2500\\\\\n",
       "\\end{tabular}\n"
      ],
      "text/markdown": [
       "\n",
       "A data.frame: 10 × 4\n",
       "\n",
       "| columna1 &lt;int&gt; | columna2 &lt;chr&gt; | columna3 &lt;dbl&gt; | columna4 &lt;dbl&gt; |\n",
       "|---|---|---|---|\n",
       "|  1 | a |  5 |   25 |\n",
       "|  2 | b | 10 |  100 |\n",
       "|  3 | c | 15 |  225 |\n",
       "|  4 | d | 20 |  400 |\n",
       "|  5 | e | 25 |  625 |\n",
       "|  6 | f | 30 |  900 |\n",
       "|  7 | g | 35 | 1225 |\n",
       "|  8 | h | 40 | 1600 |\n",
       "|  9 | i | 45 | 2025 |\n",
       "| 10 | j | 50 | 2500 |\n",
       "\n"
      ],
      "text/plain": [
       "   columna1 columna2 columna3 columna4\n",
       "1   1       a         5         25    \n",
       "2   2       b        10        100    \n",
       "3   3       c        15        225    \n",
       "4   4       d        20        400    \n",
       "5   5       e        25        625    \n",
       "6   6       f        30        900    \n",
       "7   7       g        35       1225    \n",
       "8   8       h        40       1600    \n",
       "9   9       i        45       2025    \n",
       "10 10       j        50       2500    "
      ]
     },
     "metadata": {},
     "output_type": "display_data"
    }
   ],
   "source": [
    "df['columna4'] <- df['columna3']^2\n",
    "df"
   ]
  },
  {
   "cell_type": "code",
   "execution_count": 4,
   "metadata": {
    "vscode": {
     "languageId": "r"
    }
   },
   "outputs": [
    {
     "data": {
      "text/html": [
       "<table class=\"dataframe\">\n",
       "<caption>A data.frame: 10 × 5</caption>\n",
       "<thead>\n",
       "\t<tr><th scope=col>columna1</th><th scope=col>columna2</th><th scope=col>columna3</th><th scope=col>columna4</th><th scope=col>columna5</th></tr>\n",
       "\t<tr><th scope=col>&lt;int&gt;</th><th scope=col>&lt;chr&gt;</th><th scope=col>&lt;dbl&gt;</th><th scope=col>&lt;dbl&gt;</th><th scope=col>&lt;dbl&gt;</th></tr>\n",
       "</thead>\n",
       "<tbody>\n",
       "\t<tr><td> 1</td><td>a</td><td> 5</td><td>  25</td><td>-0.1323518</td></tr>\n",
       "\t<tr><td> 2</td><td>b</td><td>10</td><td> 100</td><td>-0.5063656</td></tr>\n",
       "\t<tr><td> 3</td><td>c</td><td>15</td><td> 225</td><td>-0.9300949</td></tr>\n",
       "\t<tr><td> 4</td><td>d</td><td>20</td><td> 400</td><td>-0.8509194</td></tr>\n",
       "\t<tr><td> 5</td><td>e</td><td>25</td><td> 625</td><td> 0.1760163</td></tr>\n",
       "\t<tr><td> 6</td><td>f</td><td>30</td><td> 900</td><td> 0.9978033</td></tr>\n",
       "\t<tr><td> 7</td><td>g</td><td>35</td><td>1225</td><td>-0.2193370</td></tr>\n",
       "\t<tr><td> 8</td><td>h</td><td>40</td><td>1600</td><td>-0.8012248</td></tr>\n",
       "\t<tr><td> 9</td><td>i</td><td>45</td><td>2025</td><td> 0.9704917</td></tr>\n",
       "\t<tr><td>10</td><td>j</td><td>50</td><td>2500</td><td>-0.6501275</td></tr>\n",
       "</tbody>\n",
       "</table>\n"
      ],
      "text/latex": [
       "A data.frame: 10 × 5\n",
       "\\begin{tabular}{lllll}\n",
       " columna1 & columna2 & columna3 & columna4 & columna5\\\\\n",
       " <int> & <chr> & <dbl> & <dbl> & <dbl>\\\\\n",
       "\\hline\n",
       "\t  1 & a &  5 &   25 & -0.1323518\\\\\n",
       "\t  2 & b & 10 &  100 & -0.5063656\\\\\n",
       "\t  3 & c & 15 &  225 & -0.9300949\\\\\n",
       "\t  4 & d & 20 &  400 & -0.8509194\\\\\n",
       "\t  5 & e & 25 &  625 &  0.1760163\\\\\n",
       "\t  6 & f & 30 &  900 &  0.9978033\\\\\n",
       "\t  7 & g & 35 & 1225 & -0.2193370\\\\\n",
       "\t  8 & h & 40 & 1600 & -0.8012248\\\\\n",
       "\t  9 & i & 45 & 2025 &  0.9704917\\\\\n",
       "\t 10 & j & 50 & 2500 & -0.6501275\\\\\n",
       "\\end{tabular}\n"
      ],
      "text/markdown": [
       "\n",
       "A data.frame: 10 × 5\n",
       "\n",
       "| columna1 &lt;int&gt; | columna2 &lt;chr&gt; | columna3 &lt;dbl&gt; | columna4 &lt;dbl&gt; | columna5 &lt;dbl&gt; |\n",
       "|---|---|---|---|---|\n",
       "|  1 | a |  5 |   25 | -0.1323518 |\n",
       "|  2 | b | 10 |  100 | -0.5063656 |\n",
       "|  3 | c | 15 |  225 | -0.9300949 |\n",
       "|  4 | d | 20 |  400 | -0.8509194 |\n",
       "|  5 | e | 25 |  625 |  0.1760163 |\n",
       "|  6 | f | 30 |  900 |  0.9978033 |\n",
       "|  7 | g | 35 | 1225 | -0.2193370 |\n",
       "|  8 | h | 40 | 1600 | -0.8012248 |\n",
       "|  9 | i | 45 | 2025 |  0.9704917 |\n",
       "| 10 | j | 50 | 2500 | -0.6501275 |\n",
       "\n"
      ],
      "text/plain": [
       "   columna1 columna2 columna3 columna4 columna5  \n",
       "1   1       a         5         25     -0.1323518\n",
       "2   2       b        10        100     -0.5063656\n",
       "3   3       c        15        225     -0.9300949\n",
       "4   4       d        20        400     -0.8509194\n",
       "5   5       e        25        625      0.1760163\n",
       "6   6       f        30        900      0.9978033\n",
       "7   7       g        35       1225     -0.2193370\n",
       "8   8       h        40       1600     -0.8012248\n",
       "9   9       i        45       2025      0.9704917\n",
       "10 10       j        50       2500     -0.6501275"
      ]
     },
     "metadata": {},
     "output_type": "display_data"
    }
   ],
   "source": [
    "# Función \"seno\"\n",
    "df['columna5'] <- sin(df['columna4'])\n",
    "df"
   ]
  },
  {
   "cell_type": "code",
   "execution_count": 6,
   "metadata": {
    "vscode": {
     "languageId": "r"
    }
   },
   "outputs": [
    {
     "data": {
      "text/html": [
       "<table class=\"dataframe\">\n",
       "<caption>A data.frame: 10 × 6</caption>\n",
       "<thead>\n",
       "\t<tr><th scope=col>columna1</th><th scope=col>columna2</th><th scope=col>columna3</th><th scope=col>columna4</th><th scope=col>columna5</th><th scope=col>columna6</th></tr>\n",
       "\t<tr><th scope=col>&lt;int&gt;</th><th scope=col>&lt;chr&gt;</th><th scope=col>&lt;dbl&gt;</th><th scope=col>&lt;dbl&gt;</th><th scope=col>&lt;dbl&gt;</th><th scope=col>&lt;dbl&gt;</th></tr>\n",
       "</thead>\n",
       "<tbody>\n",
       "\t<tr><td> 1</td><td>a</td><td> 5</td><td>  25</td><td>-0.1323518</td><td> 0.9912028</td></tr>\n",
       "\t<tr><td> 2</td><td>b</td><td>10</td><td> 100</td><td>-0.5063656</td><td> 0.8623189</td></tr>\n",
       "\t<tr><td> 3</td><td>c</td><td>15</td><td> 225</td><td>-0.9300949</td><td> 0.3673194</td></tr>\n",
       "\t<tr><td> 4</td><td>d</td><td>20</td><td> 400</td><td>-0.8509194</td><td>-0.5252963</td></tr>\n",
       "\t<tr><td> 5</td><td>e</td><td>25</td><td> 625</td><td> 0.1760163</td><td>-0.9843873</td></tr>\n",
       "\t<tr><td> 6</td><td>f</td><td>30</td><td> 900</td><td> 0.9978033</td><td> 0.0662467</td></tr>\n",
       "\t<tr><td> 7</td><td>g</td><td>35</td><td>1225</td><td>-0.2193370</td><td> 0.9756492</td></tr>\n",
       "\t<tr><td> 8</td><td>h</td><td>40</td><td>1600</td><td>-0.8012248</td><td>-0.5983635</td></tr>\n",
       "\t<tr><td> 9</td><td>i</td><td>45</td><td>2025</td><td> 0.9704917</td><td>-0.2411346</td></tr>\n",
       "\t<tr><td>10</td><td>j</td><td>50</td><td>2500</td><td>-0.6501275</td><td> 0.7598251</td></tr>\n",
       "</tbody>\n",
       "</table>\n"
      ],
      "text/latex": [
       "A data.frame: 10 × 6\n",
       "\\begin{tabular}{llllll}\n",
       " columna1 & columna2 & columna3 & columna4 & columna5 & columna6\\\\\n",
       " <int> & <chr> & <dbl> & <dbl> & <dbl> & <dbl>\\\\\n",
       "\\hline\n",
       "\t  1 & a &  5 &   25 & -0.1323518 &  0.9912028\\\\\n",
       "\t  2 & b & 10 &  100 & -0.5063656 &  0.8623189\\\\\n",
       "\t  3 & c & 15 &  225 & -0.9300949 &  0.3673194\\\\\n",
       "\t  4 & d & 20 &  400 & -0.8509194 & -0.5252963\\\\\n",
       "\t  5 & e & 25 &  625 &  0.1760163 & -0.9843873\\\\\n",
       "\t  6 & f & 30 &  900 &  0.9978033 &  0.0662467\\\\\n",
       "\t  7 & g & 35 & 1225 & -0.2193370 &  0.9756492\\\\\n",
       "\t  8 & h & 40 & 1600 & -0.8012248 & -0.5983635\\\\\n",
       "\t  9 & i & 45 & 2025 &  0.9704917 & -0.2411346\\\\\n",
       "\t 10 & j & 50 & 2500 & -0.6501275 &  0.7598251\\\\\n",
       "\\end{tabular}\n"
      ],
      "text/markdown": [
       "\n",
       "A data.frame: 10 × 6\n",
       "\n",
       "| columna1 &lt;int&gt; | columna2 &lt;chr&gt; | columna3 &lt;dbl&gt; | columna4 &lt;dbl&gt; | columna5 &lt;dbl&gt; | columna6 &lt;dbl&gt; |\n",
       "|---|---|---|---|---|---|\n",
       "|  1 | a |  5 |   25 | -0.1323518 |  0.9912028 |\n",
       "|  2 | b | 10 |  100 | -0.5063656 |  0.8623189 |\n",
       "|  3 | c | 15 |  225 | -0.9300949 |  0.3673194 |\n",
       "|  4 | d | 20 |  400 | -0.8509194 | -0.5252963 |\n",
       "|  5 | e | 25 |  625 |  0.1760163 | -0.9843873 |\n",
       "|  6 | f | 30 |  900 |  0.9978033 |  0.0662467 |\n",
       "|  7 | g | 35 | 1225 | -0.2193370 |  0.9756492 |\n",
       "|  8 | h | 40 | 1600 | -0.8012248 | -0.5983635 |\n",
       "|  9 | i | 45 | 2025 |  0.9704917 | -0.2411346 |\n",
       "| 10 | j | 50 | 2500 | -0.6501275 |  0.7598251 |\n",
       "\n"
      ],
      "text/plain": [
       "   columna1 columna2 columna3 columna4 columna5   columna6  \n",
       "1   1       a         5         25     -0.1323518  0.9912028\n",
       "2   2       b        10        100     -0.5063656  0.8623189\n",
       "3   3       c        15        225     -0.9300949  0.3673194\n",
       "4   4       d        20        400     -0.8509194 -0.5252963\n",
       "5   5       e        25        625      0.1760163 -0.9843873\n",
       "6   6       f        30        900      0.9978033  0.0662467\n",
       "7   7       g        35       1225     -0.2193370  0.9756492\n",
       "8   8       h        40       1600     -0.8012248 -0.5983635\n",
       "9   9       i        45       2025      0.9704917 -0.2411346\n",
       "10 10       j        50       2500     -0.6501275  0.7598251"
      ]
     },
     "metadata": {},
     "output_type": "display_data"
    }
   ],
   "source": [
    "# Función \"coseno\"\n",
    "df$columna6 <- cos(df$columna4)\n",
    "df"
   ]
  },
  {
   "cell_type": "code",
   "execution_count": 7,
   "metadata": {
    "vscode": {
     "languageId": "r"
    }
   },
   "outputs": [
    {
     "data": {
      "text/html": [
       "<table class=\"dataframe\">\n",
       "<caption>A data.frame: 10 × 7</caption>\n",
       "<thead>\n",
       "\t<tr><th scope=col>columna1</th><th scope=col>columna2</th><th scope=col>columna3</th><th scope=col>columna4</th><th scope=col>columna5</th><th scope=col>columna6</th><th scope=col>columna7</th></tr>\n",
       "\t<tr><th scope=col>&lt;int&gt;</th><th scope=col>&lt;chr&gt;</th><th scope=col>&lt;dbl&gt;</th><th scope=col>&lt;dbl&gt;</th><th scope=col>&lt;dbl&gt;</th><th scope=col>&lt;dbl&gt;</th><th scope=col>&lt;dbl&gt;</th></tr>\n",
       "</thead>\n",
       "<tbody>\n",
       "\t<tr><td> 1</td><td>a</td><td> 5</td><td>  25</td><td>-0.1323518</td><td> 0.9912028</td><td>1</td></tr>\n",
       "\t<tr><td> 2</td><td>b</td><td>10</td><td> 100</td><td>-0.5063656</td><td> 0.8623189</td><td>1</td></tr>\n",
       "\t<tr><td> 3</td><td>c</td><td>15</td><td> 225</td><td>-0.9300949</td><td> 0.3673194</td><td>1</td></tr>\n",
       "\t<tr><td> 4</td><td>d</td><td>20</td><td> 400</td><td>-0.8509194</td><td>-0.5252963</td><td>1</td></tr>\n",
       "\t<tr><td> 5</td><td>e</td><td>25</td><td> 625</td><td> 0.1760163</td><td>-0.9843873</td><td>1</td></tr>\n",
       "\t<tr><td> 6</td><td>f</td><td>30</td><td> 900</td><td> 0.9978033</td><td> 0.0662467</td><td>1</td></tr>\n",
       "\t<tr><td> 7</td><td>g</td><td>35</td><td>1225</td><td>-0.2193370</td><td> 0.9756492</td><td>1</td></tr>\n",
       "\t<tr><td> 8</td><td>h</td><td>40</td><td>1600</td><td>-0.8012248</td><td>-0.5983635</td><td>1</td></tr>\n",
       "\t<tr><td> 9</td><td>i</td><td>45</td><td>2025</td><td> 0.9704917</td><td>-0.2411346</td><td>1</td></tr>\n",
       "\t<tr><td>10</td><td>j</td><td>50</td><td>2500</td><td>-0.6501275</td><td> 0.7598251</td><td>1</td></tr>\n",
       "</tbody>\n",
       "</table>\n"
      ],
      "text/latex": [
       "A data.frame: 10 × 7\n",
       "\\begin{tabular}{lllllll}\n",
       " columna1 & columna2 & columna3 & columna4 & columna5 & columna6 & columna7\\\\\n",
       " <int> & <chr> & <dbl> & <dbl> & <dbl> & <dbl> & <dbl>\\\\\n",
       "\\hline\n",
       "\t  1 & a &  5 &   25 & -0.1323518 &  0.9912028 & 1\\\\\n",
       "\t  2 & b & 10 &  100 & -0.5063656 &  0.8623189 & 1\\\\\n",
       "\t  3 & c & 15 &  225 & -0.9300949 &  0.3673194 & 1\\\\\n",
       "\t  4 & d & 20 &  400 & -0.8509194 & -0.5252963 & 1\\\\\n",
       "\t  5 & e & 25 &  625 &  0.1760163 & -0.9843873 & 1\\\\\n",
       "\t  6 & f & 30 &  900 &  0.9978033 &  0.0662467 & 1\\\\\n",
       "\t  7 & g & 35 & 1225 & -0.2193370 &  0.9756492 & 1\\\\\n",
       "\t  8 & h & 40 & 1600 & -0.8012248 & -0.5983635 & 1\\\\\n",
       "\t  9 & i & 45 & 2025 &  0.9704917 & -0.2411346 & 1\\\\\n",
       "\t 10 & j & 50 & 2500 & -0.6501275 &  0.7598251 & 1\\\\\n",
       "\\end{tabular}\n"
      ],
      "text/markdown": [
       "\n",
       "A data.frame: 10 × 7\n",
       "\n",
       "| columna1 &lt;int&gt; | columna2 &lt;chr&gt; | columna3 &lt;dbl&gt; | columna4 &lt;dbl&gt; | columna5 &lt;dbl&gt; | columna6 &lt;dbl&gt; | columna7 &lt;dbl&gt; |\n",
       "|---|---|---|---|---|---|---|\n",
       "|  1 | a |  5 |   25 | -0.1323518 |  0.9912028 | 1 |\n",
       "|  2 | b | 10 |  100 | -0.5063656 |  0.8623189 | 1 |\n",
       "|  3 | c | 15 |  225 | -0.9300949 |  0.3673194 | 1 |\n",
       "|  4 | d | 20 |  400 | -0.8509194 | -0.5252963 | 1 |\n",
       "|  5 | e | 25 |  625 |  0.1760163 | -0.9843873 | 1 |\n",
       "|  6 | f | 30 |  900 |  0.9978033 |  0.0662467 | 1 |\n",
       "|  7 | g | 35 | 1225 | -0.2193370 |  0.9756492 | 1 |\n",
       "|  8 | h | 40 | 1600 | -0.8012248 | -0.5983635 | 1 |\n",
       "|  9 | i | 45 | 2025 |  0.9704917 | -0.2411346 | 1 |\n",
       "| 10 | j | 50 | 2500 | -0.6501275 |  0.7598251 | 1 |\n",
       "\n"
      ],
      "text/plain": [
       "   columna1 columna2 columna3 columna4 columna5   columna6   columna7\n",
       "1   1       a         5         25     -0.1323518  0.9912028 1       \n",
       "2   2       b        10        100     -0.5063656  0.8623189 1       \n",
       "3   3       c        15        225     -0.9300949  0.3673194 1       \n",
       "4   4       d        20        400     -0.8509194 -0.5252963 1       \n",
       "5   5       e        25        625      0.1760163 -0.9843873 1       \n",
       "6   6       f        30        900      0.9978033  0.0662467 1       \n",
       "7   7       g        35       1225     -0.2193370  0.9756492 1       \n",
       "8   8       h        40       1600     -0.8012248 -0.5983635 1       \n",
       "9   9       i        45       2025      0.9704917 -0.2411346 1       \n",
       "10 10       j        50       2500     -0.6501275  0.7598251 1       "
      ]
     },
     "metadata": {},
     "output_type": "display_data"
    }
   ],
   "source": [
    "df$columna7 <- 1\n",
    "df"
   ]
  },
  {
   "cell_type": "code",
   "execution_count": 8,
   "metadata": {
    "vscode": {
     "languageId": "r"
    }
   },
   "outputs": [
    {
     "data": {
      "text/html": [
       "<table class=\"dataframe\">\n",
       "<caption>A data.frame: 10 × 8</caption>\n",
       "<thead>\n",
       "\t<tr><th scope=col>columna1</th><th scope=col>columna2</th><th scope=col>columna3</th><th scope=col>columna4</th><th scope=col>columna5</th><th scope=col>columna6</th><th scope=col>columna7</th><th scope=col>columna8</th></tr>\n",
       "\t<tr><th scope=col>&lt;int&gt;</th><th scope=col>&lt;chr&gt;</th><th scope=col>&lt;dbl&gt;</th><th scope=col>&lt;dbl&gt;</th><th scope=col>&lt;dbl&gt;</th><th scope=col>&lt;dbl&gt;</th><th scope=col>&lt;dbl&gt;</th><th scope=col>&lt;dbl&gt;</th></tr>\n",
       "</thead>\n",
       "<tbody>\n",
       "\t<tr><td> 1</td><td>a</td><td> 5</td><td>  25</td><td>-0.1323518</td><td> 0.9912028</td><td>1</td><td>0</td></tr>\n",
       "\t<tr><td> 2</td><td>b</td><td>10</td><td> 100</td><td>-0.5063656</td><td> 0.8623189</td><td>1</td><td>0</td></tr>\n",
       "\t<tr><td> 3</td><td>c</td><td>15</td><td> 225</td><td>-0.9300949</td><td> 0.3673194</td><td>1</td><td>0</td></tr>\n",
       "\t<tr><td> 4</td><td>d</td><td>20</td><td> 400</td><td>-0.8509194</td><td>-0.5252963</td><td>1</td><td>0</td></tr>\n",
       "\t<tr><td> 5</td><td>e</td><td>25</td><td> 625</td><td> 0.1760163</td><td>-0.9843873</td><td>1</td><td>0</td></tr>\n",
       "\t<tr><td> 6</td><td>f</td><td>30</td><td> 900</td><td> 0.9978033</td><td> 0.0662467</td><td>1</td><td>0</td></tr>\n",
       "\t<tr><td> 7</td><td>g</td><td>35</td><td>1225</td><td>-0.2193370</td><td> 0.9756492</td><td>1</td><td>0</td></tr>\n",
       "\t<tr><td> 8</td><td>h</td><td>40</td><td>1600</td><td>-0.8012248</td><td>-0.5983635</td><td>1</td><td>0</td></tr>\n",
       "\t<tr><td> 9</td><td>i</td><td>45</td><td>2025</td><td> 0.9704917</td><td>-0.2411346</td><td>1</td><td>0</td></tr>\n",
       "\t<tr><td>10</td><td>j</td><td>50</td><td>2500</td><td>-0.6501275</td><td> 0.7598251</td><td>1</td><td>0</td></tr>\n",
       "</tbody>\n",
       "</table>\n"
      ],
      "text/latex": [
       "A data.frame: 10 × 8\n",
       "\\begin{tabular}{llllllll}\n",
       " columna1 & columna2 & columna3 & columna4 & columna5 & columna6 & columna7 & columna8\\\\\n",
       " <int> & <chr> & <dbl> & <dbl> & <dbl> & <dbl> & <dbl> & <dbl>\\\\\n",
       "\\hline\n",
       "\t  1 & a &  5 &   25 & -0.1323518 &  0.9912028 & 1 & 0\\\\\n",
       "\t  2 & b & 10 &  100 & -0.5063656 &  0.8623189 & 1 & 0\\\\\n",
       "\t  3 & c & 15 &  225 & -0.9300949 &  0.3673194 & 1 & 0\\\\\n",
       "\t  4 & d & 20 &  400 & -0.8509194 & -0.5252963 & 1 & 0\\\\\n",
       "\t  5 & e & 25 &  625 &  0.1760163 & -0.9843873 & 1 & 0\\\\\n",
       "\t  6 & f & 30 &  900 &  0.9978033 &  0.0662467 & 1 & 0\\\\\n",
       "\t  7 & g & 35 & 1225 & -0.2193370 &  0.9756492 & 1 & 0\\\\\n",
       "\t  8 & h & 40 & 1600 & -0.8012248 & -0.5983635 & 1 & 0\\\\\n",
       "\t  9 & i & 45 & 2025 &  0.9704917 & -0.2411346 & 1 & 0\\\\\n",
       "\t 10 & j & 50 & 2500 & -0.6501275 &  0.7598251 & 1 & 0\\\\\n",
       "\\end{tabular}\n"
      ],
      "text/markdown": [
       "\n",
       "A data.frame: 10 × 8\n",
       "\n",
       "| columna1 &lt;int&gt; | columna2 &lt;chr&gt; | columna3 &lt;dbl&gt; | columna4 &lt;dbl&gt; | columna5 &lt;dbl&gt; | columna6 &lt;dbl&gt; | columna7 &lt;dbl&gt; | columna8 &lt;dbl&gt; |\n",
       "|---|---|---|---|---|---|---|---|\n",
       "|  1 | a |  5 |   25 | -0.1323518 |  0.9912028 | 1 | 0 |\n",
       "|  2 | b | 10 |  100 | -0.5063656 |  0.8623189 | 1 | 0 |\n",
       "|  3 | c | 15 |  225 | -0.9300949 |  0.3673194 | 1 | 0 |\n",
       "|  4 | d | 20 |  400 | -0.8509194 | -0.5252963 | 1 | 0 |\n",
       "|  5 | e | 25 |  625 |  0.1760163 | -0.9843873 | 1 | 0 |\n",
       "|  6 | f | 30 |  900 |  0.9978033 |  0.0662467 | 1 | 0 |\n",
       "|  7 | g | 35 | 1225 | -0.2193370 |  0.9756492 | 1 | 0 |\n",
       "|  8 | h | 40 | 1600 | -0.8012248 | -0.5983635 | 1 | 0 |\n",
       "|  9 | i | 45 | 2025 |  0.9704917 | -0.2411346 | 1 | 0 |\n",
       "| 10 | j | 50 | 2500 | -0.6501275 |  0.7598251 | 1 | 0 |\n",
       "\n"
      ],
      "text/plain": [
       "   columna1 columna2 columna3 columna4 columna5   columna6   columna7 columna8\n",
       "1   1       a         5         25     -0.1323518  0.9912028 1        0       \n",
       "2   2       b        10        100     -0.5063656  0.8623189 1        0       \n",
       "3   3       c        15        225     -0.9300949  0.3673194 1        0       \n",
       "4   4       d        20        400     -0.8509194 -0.5252963 1        0       \n",
       "5   5       e        25        625      0.1760163 -0.9843873 1        0       \n",
       "6   6       f        30        900      0.9978033  0.0662467 1        0       \n",
       "7   7       g        35       1225     -0.2193370  0.9756492 1        0       \n",
       "8   8       h        40       1600     -0.8012248 -0.5983635 1        0       \n",
       "9   9       i        45       2025      0.9704917 -0.2411346 1        0       \n",
       "10 10       j        50       2500     -0.6501275  0.7598251 1        0       "
      ]
     },
     "metadata": {},
     "output_type": "display_data"
    }
   ],
   "source": [
    "df$columna8 <- 0\n",
    "df"
   ]
  },
  {
   "cell_type": "code",
   "execution_count": 10,
   "metadata": {
    "vscode": {
     "languageId": "r"
    }
   },
   "outputs": [
    {
     "data": {
      "text/html": [
       "<table class=\"dataframe\">\n",
       "<caption>A data.frame: 10 × 7</caption>\n",
       "<thead>\n",
       "\t<tr><th scope=col>columna1</th><th scope=col>columna2</th><th scope=col>columna3</th><th scope=col>columna4</th><th scope=col>columna5</th><th scope=col>columna6</th><th scope=col>columna7</th></tr>\n",
       "\t<tr><th scope=col>&lt;int&gt;</th><th scope=col>&lt;chr&gt;</th><th scope=col>&lt;dbl&gt;</th><th scope=col>&lt;dbl&gt;</th><th scope=col>&lt;dbl&gt;</th><th scope=col>&lt;dbl&gt;</th><th scope=col>&lt;dbl&gt;</th></tr>\n",
       "</thead>\n",
       "<tbody>\n",
       "\t<tr><td> 1</td><td>a</td><td> 5</td><td>  25</td><td>-0.1323518</td><td> 0.9912028</td><td>1</td></tr>\n",
       "\t<tr><td> 2</td><td>b</td><td>10</td><td> 100</td><td>-0.5063656</td><td> 0.8623189</td><td>1</td></tr>\n",
       "\t<tr><td> 3</td><td>c</td><td>15</td><td> 225</td><td>-0.9300949</td><td> 0.3673194</td><td>1</td></tr>\n",
       "\t<tr><td> 4</td><td>d</td><td>20</td><td> 400</td><td>-0.8509194</td><td>-0.5252963</td><td>1</td></tr>\n",
       "\t<tr><td> 5</td><td>e</td><td>25</td><td> 625</td><td> 0.1760163</td><td>-0.9843873</td><td>1</td></tr>\n",
       "\t<tr><td> 6</td><td>f</td><td>30</td><td> 900</td><td> 0.9978033</td><td> 0.0662467</td><td>1</td></tr>\n",
       "\t<tr><td> 7</td><td>g</td><td>35</td><td>1225</td><td>-0.2193370</td><td> 0.9756492</td><td>1</td></tr>\n",
       "\t<tr><td> 8</td><td>h</td><td>40</td><td>1600</td><td>-0.8012248</td><td>-0.5983635</td><td>1</td></tr>\n",
       "\t<tr><td> 9</td><td>i</td><td>45</td><td>2025</td><td> 0.9704917</td><td>-0.2411346</td><td>1</td></tr>\n",
       "\t<tr><td>10</td><td>j</td><td>50</td><td>2500</td><td>-0.6501275</td><td> 0.7598251</td><td>1</td></tr>\n",
       "</tbody>\n",
       "</table>\n"
      ],
      "text/latex": [
       "A data.frame: 10 × 7\n",
       "\\begin{tabular}{lllllll}\n",
       " columna1 & columna2 & columna3 & columna4 & columna5 & columna6 & columna7\\\\\n",
       " <int> & <chr> & <dbl> & <dbl> & <dbl> & <dbl> & <dbl>\\\\\n",
       "\\hline\n",
       "\t  1 & a &  5 &   25 & -0.1323518 &  0.9912028 & 1\\\\\n",
       "\t  2 & b & 10 &  100 & -0.5063656 &  0.8623189 & 1\\\\\n",
       "\t  3 & c & 15 &  225 & -0.9300949 &  0.3673194 & 1\\\\\n",
       "\t  4 & d & 20 &  400 & -0.8509194 & -0.5252963 & 1\\\\\n",
       "\t  5 & e & 25 &  625 &  0.1760163 & -0.9843873 & 1\\\\\n",
       "\t  6 & f & 30 &  900 &  0.9978033 &  0.0662467 & 1\\\\\n",
       "\t  7 & g & 35 & 1225 & -0.2193370 &  0.9756492 & 1\\\\\n",
       "\t  8 & h & 40 & 1600 & -0.8012248 & -0.5983635 & 1\\\\\n",
       "\t  9 & i & 45 & 2025 &  0.9704917 & -0.2411346 & 1\\\\\n",
       "\t 10 & j & 50 & 2500 & -0.6501275 &  0.7598251 & 1\\\\\n",
       "\\end{tabular}\n"
      ],
      "text/markdown": [
       "\n",
       "A data.frame: 10 × 7\n",
       "\n",
       "| columna1 &lt;int&gt; | columna2 &lt;chr&gt; | columna3 &lt;dbl&gt; | columna4 &lt;dbl&gt; | columna5 &lt;dbl&gt; | columna6 &lt;dbl&gt; | columna7 &lt;dbl&gt; |\n",
       "|---|---|---|---|---|---|---|\n",
       "|  1 | a |  5 |   25 | -0.1323518 |  0.9912028 | 1 |\n",
       "|  2 | b | 10 |  100 | -0.5063656 |  0.8623189 | 1 |\n",
       "|  3 | c | 15 |  225 | -0.9300949 |  0.3673194 | 1 |\n",
       "|  4 | d | 20 |  400 | -0.8509194 | -0.5252963 | 1 |\n",
       "|  5 | e | 25 |  625 |  0.1760163 | -0.9843873 | 1 |\n",
       "|  6 | f | 30 |  900 |  0.9978033 |  0.0662467 | 1 |\n",
       "|  7 | g | 35 | 1225 | -0.2193370 |  0.9756492 | 1 |\n",
       "|  8 | h | 40 | 1600 | -0.8012248 | -0.5983635 | 1 |\n",
       "|  9 | i | 45 | 2025 |  0.9704917 | -0.2411346 | 1 |\n",
       "| 10 | j | 50 | 2500 | -0.6501275 |  0.7598251 | 1 |\n",
       "\n"
      ],
      "text/plain": [
       "   columna1 columna2 columna3 columna4 columna5   columna6   columna7\n",
       "1   1       a         5         25     -0.1323518  0.9912028 1       \n",
       "2   2       b        10        100     -0.5063656  0.8623189 1       \n",
       "3   3       c        15        225     -0.9300949  0.3673194 1       \n",
       "4   4       d        20        400     -0.8509194 -0.5252963 1       \n",
       "5   5       e        25        625      0.1760163 -0.9843873 1       \n",
       "6   6       f        30        900      0.9978033  0.0662467 1       \n",
       "7   7       g        35       1225     -0.2193370  0.9756492 1       \n",
       "8   8       h        40       1600     -0.8012248 -0.5983635 1       \n",
       "9   9       i        45       2025      0.9704917 -0.2411346 1       \n",
       "10 10       j        50       2500     -0.6501275  0.7598251 1       "
      ]
     },
     "metadata": {},
     "output_type": "display_data"
    }
   ],
   "source": [
    "# Eliminamos una columna:\n",
    "df$columna8 <- NULL\n",
    "df"
   ]
  },
  {
   "attachments": {},
   "cell_type": "markdown",
   "metadata": {},
   "source": [
    "## Renombrado de columnas"
   ]
  },
  {
   "cell_type": "code",
   "execution_count": 11,
   "metadata": {
    "vscode": {
     "languageId": "r"
    }
   },
   "outputs": [
    {
     "data": {
      "text/html": [
       "<style>\n",
       ".list-inline {list-style: none; margin:0; padding: 0}\n",
       ".list-inline>li {display: inline-block}\n",
       ".list-inline>li:not(:last-child)::after {content: \"\\00b7\"; padding: 0 .5ex}\n",
       "</style>\n",
       "<ol class=list-inline><li>'columna1'</li><li>'columna2'</li><li>'columna3'</li><li>'columna4'</li><li>'columna5'</li><li>'columna6'</li><li>'columna7'</li></ol>\n"
      ],
      "text/latex": [
       "\\begin{enumerate*}\n",
       "\\item 'columna1'\n",
       "\\item 'columna2'\n",
       "\\item 'columna3'\n",
       "\\item 'columna4'\n",
       "\\item 'columna5'\n",
       "\\item 'columna6'\n",
       "\\item 'columna7'\n",
       "\\end{enumerate*}\n"
      ],
      "text/markdown": [
       "1. 'columna1'\n",
       "2. 'columna2'\n",
       "3. 'columna3'\n",
       "4. 'columna4'\n",
       "5. 'columna5'\n",
       "6. 'columna6'\n",
       "7. 'columna7'\n",
       "\n",
       "\n"
      ],
      "text/plain": [
       "[1] \"columna1\" \"columna2\" \"columna3\" \"columna4\" \"columna5\" \"columna6\" \"columna7\""
      ]
     },
     "metadata": {},
     "output_type": "display_data"
    }
   ],
   "source": [
    "colnames(df)"
   ]
  },
  {
   "cell_type": "code",
   "execution_count": 12,
   "metadata": {
    "vscode": {
     "languageId": "r"
    }
   },
   "outputs": [
    {
     "data": {
      "text/html": [
       "<table class=\"dataframe\">\n",
       "<caption>A data.frame: 10 × 7</caption>\n",
       "<thead>\n",
       "\t<tr><th scope=col>c1</th><th scope=col>c2</th><th scope=col>c3</th><th scope=col>c4</th><th scope=col>c5</th><th scope=col>c6</th><th scope=col>c7</th></tr>\n",
       "\t<tr><th scope=col>&lt;int&gt;</th><th scope=col>&lt;chr&gt;</th><th scope=col>&lt;dbl&gt;</th><th scope=col>&lt;dbl&gt;</th><th scope=col>&lt;dbl&gt;</th><th scope=col>&lt;dbl&gt;</th><th scope=col>&lt;dbl&gt;</th></tr>\n",
       "</thead>\n",
       "<tbody>\n",
       "\t<tr><td> 1</td><td>a</td><td> 5</td><td>  25</td><td>-0.1323518</td><td> 0.9912028</td><td>1</td></tr>\n",
       "\t<tr><td> 2</td><td>b</td><td>10</td><td> 100</td><td>-0.5063656</td><td> 0.8623189</td><td>1</td></tr>\n",
       "\t<tr><td> 3</td><td>c</td><td>15</td><td> 225</td><td>-0.9300949</td><td> 0.3673194</td><td>1</td></tr>\n",
       "\t<tr><td> 4</td><td>d</td><td>20</td><td> 400</td><td>-0.8509194</td><td>-0.5252963</td><td>1</td></tr>\n",
       "\t<tr><td> 5</td><td>e</td><td>25</td><td> 625</td><td> 0.1760163</td><td>-0.9843873</td><td>1</td></tr>\n",
       "\t<tr><td> 6</td><td>f</td><td>30</td><td> 900</td><td> 0.9978033</td><td> 0.0662467</td><td>1</td></tr>\n",
       "\t<tr><td> 7</td><td>g</td><td>35</td><td>1225</td><td>-0.2193370</td><td> 0.9756492</td><td>1</td></tr>\n",
       "\t<tr><td> 8</td><td>h</td><td>40</td><td>1600</td><td>-0.8012248</td><td>-0.5983635</td><td>1</td></tr>\n",
       "\t<tr><td> 9</td><td>i</td><td>45</td><td>2025</td><td> 0.9704917</td><td>-0.2411346</td><td>1</td></tr>\n",
       "\t<tr><td>10</td><td>j</td><td>50</td><td>2500</td><td>-0.6501275</td><td> 0.7598251</td><td>1</td></tr>\n",
       "</tbody>\n",
       "</table>\n"
      ],
      "text/latex": [
       "A data.frame: 10 × 7\n",
       "\\begin{tabular}{lllllll}\n",
       " c1 & c2 & c3 & c4 & c5 & c6 & c7\\\\\n",
       " <int> & <chr> & <dbl> & <dbl> & <dbl> & <dbl> & <dbl>\\\\\n",
       "\\hline\n",
       "\t  1 & a &  5 &   25 & -0.1323518 &  0.9912028 & 1\\\\\n",
       "\t  2 & b & 10 &  100 & -0.5063656 &  0.8623189 & 1\\\\\n",
       "\t  3 & c & 15 &  225 & -0.9300949 &  0.3673194 & 1\\\\\n",
       "\t  4 & d & 20 &  400 & -0.8509194 & -0.5252963 & 1\\\\\n",
       "\t  5 & e & 25 &  625 &  0.1760163 & -0.9843873 & 1\\\\\n",
       "\t  6 & f & 30 &  900 &  0.9978033 &  0.0662467 & 1\\\\\n",
       "\t  7 & g & 35 & 1225 & -0.2193370 &  0.9756492 & 1\\\\\n",
       "\t  8 & h & 40 & 1600 & -0.8012248 & -0.5983635 & 1\\\\\n",
       "\t  9 & i & 45 & 2025 &  0.9704917 & -0.2411346 & 1\\\\\n",
       "\t 10 & j & 50 & 2500 & -0.6501275 &  0.7598251 & 1\\\\\n",
       "\\end{tabular}\n"
      ],
      "text/markdown": [
       "\n",
       "A data.frame: 10 × 7\n",
       "\n",
       "| c1 &lt;int&gt; | c2 &lt;chr&gt; | c3 &lt;dbl&gt; | c4 &lt;dbl&gt; | c5 &lt;dbl&gt; | c6 &lt;dbl&gt; | c7 &lt;dbl&gt; |\n",
       "|---|---|---|---|---|---|---|\n",
       "|  1 | a |  5 |   25 | -0.1323518 |  0.9912028 | 1 |\n",
       "|  2 | b | 10 |  100 | -0.5063656 |  0.8623189 | 1 |\n",
       "|  3 | c | 15 |  225 | -0.9300949 |  0.3673194 | 1 |\n",
       "|  4 | d | 20 |  400 | -0.8509194 | -0.5252963 | 1 |\n",
       "|  5 | e | 25 |  625 |  0.1760163 | -0.9843873 | 1 |\n",
       "|  6 | f | 30 |  900 |  0.9978033 |  0.0662467 | 1 |\n",
       "|  7 | g | 35 | 1225 | -0.2193370 |  0.9756492 | 1 |\n",
       "|  8 | h | 40 | 1600 | -0.8012248 | -0.5983635 | 1 |\n",
       "|  9 | i | 45 | 2025 |  0.9704917 | -0.2411346 | 1 |\n",
       "| 10 | j | 50 | 2500 | -0.6501275 |  0.7598251 | 1 |\n",
       "\n"
      ],
      "text/plain": [
       "   c1 c2 c3 c4   c5         c6         c7\n",
       "1   1 a   5   25 -0.1323518  0.9912028 1 \n",
       "2   2 b  10  100 -0.5063656  0.8623189 1 \n",
       "3   3 c  15  225 -0.9300949  0.3673194 1 \n",
       "4   4 d  20  400 -0.8509194 -0.5252963 1 \n",
       "5   5 e  25  625  0.1760163 -0.9843873 1 \n",
       "6   6 f  30  900  0.9978033  0.0662467 1 \n",
       "7   7 g  35 1225 -0.2193370  0.9756492 1 \n",
       "8   8 h  40 1600 -0.8012248 -0.5983635 1 \n",
       "9   9 i  45 2025  0.9704917 -0.2411346 1 \n",
       "10 10 j  50 2500 -0.6501275  0.7598251 1 "
      ]
     },
     "metadata": {},
     "output_type": "display_data"
    }
   ],
   "source": [
    "colnames(df) <- c('c1','c2','c3','c4','c5','c6','c7')\n",
    "df"
   ]
  },
  {
   "cell_type": "code",
   "execution_count": 16,
   "metadata": {
    "vscode": {
     "languageId": "r"
    }
   },
   "outputs": [
    {
     "data": {
      "text/html": [
       "<style>\n",
       ".list-inline {list-style: none; margin:0; padding: 0}\n",
       ".list-inline>li {display: inline-block}\n",
       ".list-inline>li:not(:last-child)::after {content: \"\\00b7\"; padding: 0 .5ex}\n",
       "</style>\n",
       "<ol class=list-inline><li>'c1'</li><li>'c2'</li><li>'c3'</li><li>'c4'</li><li>'c5'</li><li>'c6'</li><li>'c7'</li></ol>\n"
      ],
      "text/latex": [
       "\\begin{enumerate*}\n",
       "\\item 'c1'\n",
       "\\item 'c2'\n",
       "\\item 'c3'\n",
       "\\item 'c4'\n",
       "\\item 'c5'\n",
       "\\item 'c6'\n",
       "\\item 'c7'\n",
       "\\end{enumerate*}\n"
      ],
      "text/markdown": [
       "1. 'c1'\n",
       "2. 'c2'\n",
       "3. 'c3'\n",
       "4. 'c4'\n",
       "5. 'c5'\n",
       "6. 'c6'\n",
       "7. 'c7'\n",
       "\n",
       "\n"
      ],
      "text/plain": [
       "[1] \"c1\" \"c2\" \"c3\" \"c4\" \"c5\" \"c6\" \"c7\""
      ]
     },
     "metadata": {},
     "output_type": "display_data"
    }
   ],
   "source": [
    "colnames(df)"
   ]
  },
  {
   "cell_type": "code",
   "execution_count": 18,
   "metadata": {
    "vscode": {
     "languageId": "r"
    }
   },
   "outputs": [
    {
     "data": {
      "text/html": [
       "<table class=\"dataframe\">\n",
       "<caption>A data.frame: 10 × 7</caption>\n",
       "<thead>\n",
       "\t<tr><th scope=col>c1</th><th scope=col>letras</th><th scope=col>c3</th><th scope=col>c4</th><th scope=col>c5</th><th scope=col>c6</th><th scope=col>Unos</th></tr>\n",
       "\t<tr><th scope=col>&lt;int&gt;</th><th scope=col>&lt;chr&gt;</th><th scope=col>&lt;dbl&gt;</th><th scope=col>&lt;dbl&gt;</th><th scope=col>&lt;dbl&gt;</th><th scope=col>&lt;dbl&gt;</th><th scope=col>&lt;dbl&gt;</th></tr>\n",
       "</thead>\n",
       "<tbody>\n",
       "\t<tr><td> 1</td><td>a</td><td> 5</td><td>  25</td><td>-0.1323518</td><td> 0.9912028</td><td>1</td></tr>\n",
       "\t<tr><td> 2</td><td>b</td><td>10</td><td> 100</td><td>-0.5063656</td><td> 0.8623189</td><td>1</td></tr>\n",
       "\t<tr><td> 3</td><td>c</td><td>15</td><td> 225</td><td>-0.9300949</td><td> 0.3673194</td><td>1</td></tr>\n",
       "\t<tr><td> 4</td><td>d</td><td>20</td><td> 400</td><td>-0.8509194</td><td>-0.5252963</td><td>1</td></tr>\n",
       "\t<tr><td> 5</td><td>e</td><td>25</td><td> 625</td><td> 0.1760163</td><td>-0.9843873</td><td>1</td></tr>\n",
       "\t<tr><td> 6</td><td>f</td><td>30</td><td> 900</td><td> 0.9978033</td><td> 0.0662467</td><td>1</td></tr>\n",
       "\t<tr><td> 7</td><td>g</td><td>35</td><td>1225</td><td>-0.2193370</td><td> 0.9756492</td><td>1</td></tr>\n",
       "\t<tr><td> 8</td><td>h</td><td>40</td><td>1600</td><td>-0.8012248</td><td>-0.5983635</td><td>1</td></tr>\n",
       "\t<tr><td> 9</td><td>i</td><td>45</td><td>2025</td><td> 0.9704917</td><td>-0.2411346</td><td>1</td></tr>\n",
       "\t<tr><td>10</td><td>j</td><td>50</td><td>2500</td><td>-0.6501275</td><td> 0.7598251</td><td>1</td></tr>\n",
       "</tbody>\n",
       "</table>\n"
      ],
      "text/latex": [
       "A data.frame: 10 × 7\n",
       "\\begin{tabular}{lllllll}\n",
       " c1 & letras & c3 & c4 & c5 & c6 & Unos\\\\\n",
       " <int> & <chr> & <dbl> & <dbl> & <dbl> & <dbl> & <dbl>\\\\\n",
       "\\hline\n",
       "\t  1 & a &  5 &   25 & -0.1323518 &  0.9912028 & 1\\\\\n",
       "\t  2 & b & 10 &  100 & -0.5063656 &  0.8623189 & 1\\\\\n",
       "\t  3 & c & 15 &  225 & -0.9300949 &  0.3673194 & 1\\\\\n",
       "\t  4 & d & 20 &  400 & -0.8509194 & -0.5252963 & 1\\\\\n",
       "\t  5 & e & 25 &  625 &  0.1760163 & -0.9843873 & 1\\\\\n",
       "\t  6 & f & 30 &  900 &  0.9978033 &  0.0662467 & 1\\\\\n",
       "\t  7 & g & 35 & 1225 & -0.2193370 &  0.9756492 & 1\\\\\n",
       "\t  8 & h & 40 & 1600 & -0.8012248 & -0.5983635 & 1\\\\\n",
       "\t  9 & i & 45 & 2025 &  0.9704917 & -0.2411346 & 1\\\\\n",
       "\t 10 & j & 50 & 2500 & -0.6501275 &  0.7598251 & 1\\\\\n",
       "\\end{tabular}\n"
      ],
      "text/markdown": [
       "\n",
       "A data.frame: 10 × 7\n",
       "\n",
       "| c1 &lt;int&gt; | letras &lt;chr&gt; | c3 &lt;dbl&gt; | c4 &lt;dbl&gt; | c5 &lt;dbl&gt; | c6 &lt;dbl&gt; | Unos &lt;dbl&gt; |\n",
       "|---|---|---|---|---|---|---|\n",
       "|  1 | a |  5 |   25 | -0.1323518 |  0.9912028 | 1 |\n",
       "|  2 | b | 10 |  100 | -0.5063656 |  0.8623189 | 1 |\n",
       "|  3 | c | 15 |  225 | -0.9300949 |  0.3673194 | 1 |\n",
       "|  4 | d | 20 |  400 | -0.8509194 | -0.5252963 | 1 |\n",
       "|  5 | e | 25 |  625 |  0.1760163 | -0.9843873 | 1 |\n",
       "|  6 | f | 30 |  900 |  0.9978033 |  0.0662467 | 1 |\n",
       "|  7 | g | 35 | 1225 | -0.2193370 |  0.9756492 | 1 |\n",
       "|  8 | h | 40 | 1600 | -0.8012248 | -0.5983635 | 1 |\n",
       "|  9 | i | 45 | 2025 |  0.9704917 | -0.2411346 | 1 |\n",
       "| 10 | j | 50 | 2500 | -0.6501275 |  0.7598251 | 1 |\n",
       "\n"
      ],
      "text/plain": [
       "   c1 letras c3 c4   c5         c6         Unos\n",
       "1   1 a       5   25 -0.1323518  0.9912028 1   \n",
       "2   2 b      10  100 -0.5063656  0.8623189 1   \n",
       "3   3 c      15  225 -0.9300949  0.3673194 1   \n",
       "4   4 d      20  400 -0.8509194 -0.5252963 1   \n",
       "5   5 e      25  625  0.1760163 -0.9843873 1   \n",
       "6   6 f      30  900  0.9978033  0.0662467 1   \n",
       "7   7 g      35 1225 -0.2193370  0.9756492 1   \n",
       "8   8 h      40 1600 -0.8012248 -0.5983635 1   \n",
       "9   9 i      45 2025  0.9704917 -0.2411346 1   \n",
       "10 10 j      50 2500 -0.6501275  0.7598251 1   "
      ]
     },
     "metadata": {},
     "output_type": "display_data"
    }
   ],
   "source": [
    "colnames(df)[2] <- 'letras'\n",
    "colnames(df)[7] <- 'Unos'\n",
    "\n",
    "df"
   ]
  },
  {
   "attachments": {},
   "cell_type": "markdown",
   "metadata": {},
   "source": [
    "### Filtrado de información"
   ]
  },
  {
   "cell_type": "code",
   "execution_count": 31,
   "metadata": {
    "vscode": {
     "languageId": "r"
    }
   },
   "outputs": [
    {
     "data": {
      "text/html": [
       "<style>\n",
       ".list-inline {list-style: none; margin:0; padding: 0}\n",
       ".list-inline>li {display: inline-block}\n",
       ".list-inline>li:not(:last-child)::after {content: \"\\00b7\"; padding: 0 .5ex}\n",
       "</style>\n",
       "<ol class=list-inline><li>5</li><li>10</li><li>15</li><li>20</li><li>25</li><li>30</li><li>35</li><li>40</li><li>45</li><li>50</li></ol>\n"
      ],
      "text/latex": [
       "\\begin{enumerate*}\n",
       "\\item 5\n",
       "\\item 10\n",
       "\\item 15\n",
       "\\item 20\n",
       "\\item 25\n",
       "\\item 30\n",
       "\\item 35\n",
       "\\item 40\n",
       "\\item 45\n",
       "\\item 50\n",
       "\\end{enumerate*}\n"
      ],
      "text/markdown": [
       "1. 5\n",
       "2. 10\n",
       "3. 15\n",
       "4. 20\n",
       "5. 25\n",
       "6. 30\n",
       "7. 35\n",
       "8. 40\n",
       "9. 45\n",
       "10. 50\n",
       "\n",
       "\n"
      ],
      "text/plain": [
       " [1]  5 10 15 20 25 30 35 40 45 50"
      ]
     },
     "metadata": {},
     "output_type": "display_data"
    }
   ],
   "source": [
    "df$c3"
   ]
  },
  {
   "cell_type": "code",
   "execution_count": 33,
   "metadata": {
    "vscode": {
     "languageId": "r"
    }
   },
   "outputs": [
    {
     "data": {
      "text/html": [
       "<style>\n",
       ".list-inline {list-style: none; margin:0; padding: 0}\n",
       ".list-inline>li {display: inline-block}\n",
       ".list-inline>li:not(:last-child)::after {content: \"\\00b7\"; padding: 0 .5ex}\n",
       "</style>\n",
       "<ol class=list-inline><li>FALSE</li><li>FALSE</li><li>FALSE</li><li>FALSE</li><li>TRUE</li><li>TRUE</li><li>TRUE</li><li>TRUE</li><li>TRUE</li><li>TRUE</li></ol>\n"
      ],
      "text/latex": [
       "\\begin{enumerate*}\n",
       "\\item FALSE\n",
       "\\item FALSE\n",
       "\\item FALSE\n",
       "\\item FALSE\n",
       "\\item TRUE\n",
       "\\item TRUE\n",
       "\\item TRUE\n",
       "\\item TRUE\n",
       "\\item TRUE\n",
       "\\item TRUE\n",
       "\\end{enumerate*}\n"
      ],
      "text/markdown": [
       "1. FALSE\n",
       "2. FALSE\n",
       "3. FALSE\n",
       "4. FALSE\n",
       "5. TRUE\n",
       "6. TRUE\n",
       "7. TRUE\n",
       "8. TRUE\n",
       "9. TRUE\n",
       "10. TRUE\n",
       "\n",
       "\n"
      ],
      "text/plain": [
       " [1] FALSE FALSE FALSE FALSE  TRUE  TRUE  TRUE  TRUE  TRUE  TRUE"
      ]
     },
     "metadata": {},
     "output_type": "display_data"
    }
   ],
   "source": [
    "df$c3 >= 25"
   ]
  },
  {
   "cell_type": "code",
   "execution_count": 32,
   "metadata": {
    "vscode": {
     "languageId": "r"
    }
   },
   "outputs": [
    {
     "data": {
      "text/html": [
       "<table class=\"dataframe\">\n",
       "<caption>A data.frame: 6 × 7</caption>\n",
       "<thead>\n",
       "\t<tr><th></th><th scope=col>c1</th><th scope=col>letras</th><th scope=col>c3</th><th scope=col>c4</th><th scope=col>c5</th><th scope=col>c6</th><th scope=col>Unos</th></tr>\n",
       "\t<tr><th></th><th scope=col>&lt;int&gt;</th><th scope=col>&lt;chr&gt;</th><th scope=col>&lt;dbl&gt;</th><th scope=col>&lt;dbl&gt;</th><th scope=col>&lt;dbl&gt;</th><th scope=col>&lt;dbl&gt;</th><th scope=col>&lt;dbl&gt;</th></tr>\n",
       "</thead>\n",
       "<tbody>\n",
       "\t<tr><th scope=row>5</th><td> 5</td><td>e</td><td>25</td><td> 625</td><td> 0.1760163</td><td>-0.9843873</td><td>1</td></tr>\n",
       "\t<tr><th scope=row>6</th><td> 6</td><td>f</td><td>30</td><td> 900</td><td> 0.9978033</td><td> 0.0662467</td><td>1</td></tr>\n",
       "\t<tr><th scope=row>7</th><td> 7</td><td>g</td><td>35</td><td>1225</td><td>-0.2193370</td><td> 0.9756492</td><td>1</td></tr>\n",
       "\t<tr><th scope=row>8</th><td> 8</td><td>h</td><td>40</td><td>1600</td><td>-0.8012248</td><td>-0.5983635</td><td>1</td></tr>\n",
       "\t<tr><th scope=row>9</th><td> 9</td><td>i</td><td>45</td><td>2025</td><td> 0.9704917</td><td>-0.2411346</td><td>1</td></tr>\n",
       "\t<tr><th scope=row>10</th><td>10</td><td>j</td><td>50</td><td>2500</td><td>-0.6501275</td><td> 0.7598251</td><td>1</td></tr>\n",
       "</tbody>\n",
       "</table>\n"
      ],
      "text/latex": [
       "A data.frame: 6 × 7\n",
       "\\begin{tabular}{r|lllllll}\n",
       "  & c1 & letras & c3 & c4 & c5 & c6 & Unos\\\\\n",
       "  & <int> & <chr> & <dbl> & <dbl> & <dbl> & <dbl> & <dbl>\\\\\n",
       "\\hline\n",
       "\t5 &  5 & e & 25 &  625 &  0.1760163 & -0.9843873 & 1\\\\\n",
       "\t6 &  6 & f & 30 &  900 &  0.9978033 &  0.0662467 & 1\\\\\n",
       "\t7 &  7 & g & 35 & 1225 & -0.2193370 &  0.9756492 & 1\\\\\n",
       "\t8 &  8 & h & 40 & 1600 & -0.8012248 & -0.5983635 & 1\\\\\n",
       "\t9 &  9 & i & 45 & 2025 &  0.9704917 & -0.2411346 & 1\\\\\n",
       "\t10 & 10 & j & 50 & 2500 & -0.6501275 &  0.7598251 & 1\\\\\n",
       "\\end{tabular}\n"
      ],
      "text/markdown": [
       "\n",
       "A data.frame: 6 × 7\n",
       "\n",
       "| <!--/--> | c1 &lt;int&gt; | letras &lt;chr&gt; | c3 &lt;dbl&gt; | c4 &lt;dbl&gt; | c5 &lt;dbl&gt; | c6 &lt;dbl&gt; | Unos &lt;dbl&gt; |\n",
       "|---|---|---|---|---|---|---|---|\n",
       "| 5 |  5 | e | 25 |  625 |  0.1760163 | -0.9843873 | 1 |\n",
       "| 6 |  6 | f | 30 |  900 |  0.9978033 |  0.0662467 | 1 |\n",
       "| 7 |  7 | g | 35 | 1225 | -0.2193370 |  0.9756492 | 1 |\n",
       "| 8 |  8 | h | 40 | 1600 | -0.8012248 | -0.5983635 | 1 |\n",
       "| 9 |  9 | i | 45 | 2025 |  0.9704917 | -0.2411346 | 1 |\n",
       "| 10 | 10 | j | 50 | 2500 | -0.6501275 |  0.7598251 | 1 |\n",
       "\n"
      ],
      "text/plain": [
       "   c1 letras c3 c4   c5         c6         Unos\n",
       "5   5 e      25  625  0.1760163 -0.9843873 1   \n",
       "6   6 f      30  900  0.9978033  0.0662467 1   \n",
       "7   7 g      35 1225 -0.2193370  0.9756492 1   \n",
       "8   8 h      40 1600 -0.8012248 -0.5983635 1   \n",
       "9   9 i      45 2025  0.9704917 -0.2411346 1   \n",
       "10 10 j      50 2500 -0.6501275  0.7598251 1   "
      ]
     },
     "metadata": {},
     "output_type": "display_data"
    }
   ],
   "source": [
    "df[ df$c3 >=25 , ]"
   ]
  },
  {
   "cell_type": "code",
   "execution_count": 23,
   "metadata": {
    "vscode": {
     "languageId": "r"
    }
   },
   "outputs": [
    {
     "data": {
      "text/html": [
       "<table class=\"dataframe\">\n",
       "<caption>A data.frame: 6 × 7</caption>\n",
       "<thead>\n",
       "\t<tr><th></th><th scope=col>c1</th><th scope=col>letras</th><th scope=col>c3</th><th scope=col>c4</th><th scope=col>c5</th><th scope=col>c6</th><th scope=col>Unos</th></tr>\n",
       "\t<tr><th></th><th scope=col>&lt;int&gt;</th><th scope=col>&lt;chr&gt;</th><th scope=col>&lt;dbl&gt;</th><th scope=col>&lt;dbl&gt;</th><th scope=col>&lt;dbl&gt;</th><th scope=col>&lt;dbl&gt;</th><th scope=col>&lt;dbl&gt;</th></tr>\n",
       "</thead>\n",
       "<tbody>\n",
       "\t<tr><th scope=row>5</th><td> 5</td><td>e</td><td>25</td><td> 625</td><td> 0.1760163</td><td>-0.9843873</td><td>1</td></tr>\n",
       "\t<tr><th scope=row>6</th><td> 6</td><td>f</td><td>30</td><td> 900</td><td> 0.9978033</td><td> 0.0662467</td><td>1</td></tr>\n",
       "\t<tr><th scope=row>7</th><td> 7</td><td>g</td><td>35</td><td>1225</td><td>-0.2193370</td><td> 0.9756492</td><td>1</td></tr>\n",
       "\t<tr><th scope=row>8</th><td> 8</td><td>h</td><td>40</td><td>1600</td><td>-0.8012248</td><td>-0.5983635</td><td>1</td></tr>\n",
       "\t<tr><th scope=row>9</th><td> 9</td><td>i</td><td>45</td><td>2025</td><td> 0.9704917</td><td>-0.2411346</td><td>1</td></tr>\n",
       "\t<tr><th scope=row>10</th><td>10</td><td>j</td><td>50</td><td>2500</td><td>-0.6501275</td><td> 0.7598251</td><td>1</td></tr>\n",
       "</tbody>\n",
       "</table>\n"
      ],
      "text/latex": [
       "A data.frame: 6 × 7\n",
       "\\begin{tabular}{r|lllllll}\n",
       "  & c1 & letras & c3 & c4 & c5 & c6 & Unos\\\\\n",
       "  & <int> & <chr> & <dbl> & <dbl> & <dbl> & <dbl> & <dbl>\\\\\n",
       "\\hline\n",
       "\t5 &  5 & e & 25 &  625 &  0.1760163 & -0.9843873 & 1\\\\\n",
       "\t6 &  6 & f & 30 &  900 &  0.9978033 &  0.0662467 & 1\\\\\n",
       "\t7 &  7 & g & 35 & 1225 & -0.2193370 &  0.9756492 & 1\\\\\n",
       "\t8 &  8 & h & 40 & 1600 & -0.8012248 & -0.5983635 & 1\\\\\n",
       "\t9 &  9 & i & 45 & 2025 &  0.9704917 & -0.2411346 & 1\\\\\n",
       "\t10 & 10 & j & 50 & 2500 & -0.6501275 &  0.7598251 & 1\\\\\n",
       "\\end{tabular}\n"
      ],
      "text/markdown": [
       "\n",
       "A data.frame: 6 × 7\n",
       "\n",
       "| <!--/--> | c1 &lt;int&gt; | letras &lt;chr&gt; | c3 &lt;dbl&gt; | c4 &lt;dbl&gt; | c5 &lt;dbl&gt; | c6 &lt;dbl&gt; | Unos &lt;dbl&gt; |\n",
       "|---|---|---|---|---|---|---|---|\n",
       "| 5 |  5 | e | 25 |  625 |  0.1760163 | -0.9843873 | 1 |\n",
       "| 6 |  6 | f | 30 |  900 |  0.9978033 |  0.0662467 | 1 |\n",
       "| 7 |  7 | g | 35 | 1225 | -0.2193370 |  0.9756492 | 1 |\n",
       "| 8 |  8 | h | 40 | 1600 | -0.8012248 | -0.5983635 | 1 |\n",
       "| 9 |  9 | i | 45 | 2025 |  0.9704917 | -0.2411346 | 1 |\n",
       "| 10 | 10 | j | 50 | 2500 | -0.6501275 |  0.7598251 | 1 |\n",
       "\n"
      ],
      "text/plain": [
       "   c1 letras c3 c4   c5         c6         Unos\n",
       "5   5 e      25  625  0.1760163 -0.9843873 1   \n",
       "6   6 f      30  900  0.9978033  0.0662467 1   \n",
       "7   7 g      35 1225 -0.2193370  0.9756492 1   \n",
       "8   8 h      40 1600 -0.8012248 -0.5983635 1   \n",
       "9   9 i      45 2025  0.9704917 -0.2411346 1   \n",
       "10 10 j      50 2500 -0.6501275  0.7598251 1   "
      ]
     },
     "metadata": {},
     "output_type": "display_data"
    }
   ],
   "source": [
    "df[ (df['c3'] >=25) , ]"
   ]
  },
  {
   "cell_type": "code",
   "execution_count": null,
   "metadata": {
    "vscode": {
     "languageId": "r"
    }
   },
   "outputs": [],
   "source": []
  }
 ],
 "metadata": {
  "kernelspec": {
   "display_name": "R",
   "language": "R",
   "name": "ir"
  },
  "language_info": {
   "codemirror_mode": "r",
   "file_extension": ".r",
   "mimetype": "text/x-r-source",
   "name": "R",
   "pygments_lexer": "r",
   "version": "4.3.0"
  },
  "orig_nbformat": 4
 },
 "nbformat": 4,
 "nbformat_minor": 2
}
