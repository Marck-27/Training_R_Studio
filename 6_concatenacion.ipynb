{
 "cells": [
  {
   "attachments": {},
   "cell_type": "markdown",
   "metadata": {},
   "source": [
    "# Concatenación de Data Frames"
   ]
  },
  {
   "cell_type": "code",
   "execution_count": 1,
   "metadata": {
    "vscode": {
     "languageId": "r"
    }
   },
   "outputs": [
    {
     "data": {
      "text/html": [
       "<table class=\"dataframe\">\n",
       "<caption>A data.frame: 10 × 2</caption>\n",
       "<thead>\n",
       "\t<tr><th scope=col>columna1</th><th scope=col>columna2</th></tr>\n",
       "\t<tr><th scope=col>&lt;int&gt;</th><th scope=col>&lt;chr&gt;</th></tr>\n",
       "</thead>\n",
       "<tbody>\n",
       "\t<tr><td> 1</td><td>a</td></tr>\n",
       "\t<tr><td> 2</td><td>b</td></tr>\n",
       "\t<tr><td> 3</td><td>c</td></tr>\n",
       "\t<tr><td> 4</td><td>d</td></tr>\n",
       "\t<tr><td> 5</td><td>e</td></tr>\n",
       "\t<tr><td> 6</td><td>f</td></tr>\n",
       "\t<tr><td> 7</td><td>g</td></tr>\n",
       "\t<tr><td> 8</td><td>h</td></tr>\n",
       "\t<tr><td> 9</td><td>i</td></tr>\n",
       "\t<tr><td>10</td><td>j</td></tr>\n",
       "</tbody>\n",
       "</table>\n"
      ],
      "text/latex": [
       "A data.frame: 10 × 2\n",
       "\\begin{tabular}{ll}\n",
       " columna1 & columna2\\\\\n",
       " <int> & <chr>\\\\\n",
       "\\hline\n",
       "\t  1 & a\\\\\n",
       "\t  2 & b\\\\\n",
       "\t  3 & c\\\\\n",
       "\t  4 & d\\\\\n",
       "\t  5 & e\\\\\n",
       "\t  6 & f\\\\\n",
       "\t  7 & g\\\\\n",
       "\t  8 & h\\\\\n",
       "\t  9 & i\\\\\n",
       "\t 10 & j\\\\\n",
       "\\end{tabular}\n"
      ],
      "text/markdown": [
       "\n",
       "A data.frame: 10 × 2\n",
       "\n",
       "| columna1 &lt;int&gt; | columna2 &lt;chr&gt; |\n",
       "|---|---|\n",
       "|  1 | a |\n",
       "|  2 | b |\n",
       "|  3 | c |\n",
       "|  4 | d |\n",
       "|  5 | e |\n",
       "|  6 | f |\n",
       "|  7 | g |\n",
       "|  8 | h |\n",
       "|  9 | i |\n",
       "| 10 | j |\n",
       "\n"
      ],
      "text/plain": [
       "   columna1 columna2\n",
       "1   1       a       \n",
       "2   2       b       \n",
       "3   3       c       \n",
       "4   4       d       \n",
       "5   5       e       \n",
       "6   6       f       \n",
       "7   7       g       \n",
       "8   8       h       \n",
       "9   9       i       \n",
       "10 10       j       "
      ]
     },
     "metadata": {},
     "output_type": "display_data"
    }
   ],
   "source": [
    "df1 <- read.csv(file = 'data/fichero2.csv')\n",
    "df1"
   ]
  },
  {
   "cell_type": "code",
   "execution_count": 2,
   "metadata": {
    "vscode": {
     "languageId": "r"
    }
   },
   "outputs": [
    {
     "data": {
      "text/html": [
       "<table class=\"dataframe\">\n",
       "<caption>A data.frame: 10 × 2</caption>\n",
       "<thead>\n",
       "\t<tr><th scope=col>columna1</th><th scope=col>columna2</th></tr>\n",
       "\t<tr><th scope=col>&lt;int&gt;</th><th scope=col>&lt;chr&gt;</th></tr>\n",
       "</thead>\n",
       "<tbody>\n",
       "\t<tr><td> 1</td><td>a</td></tr>\n",
       "\t<tr><td> 2</td><td>b</td></tr>\n",
       "\t<tr><td> 3</td><td>c</td></tr>\n",
       "\t<tr><td> 4</td><td>d</td></tr>\n",
       "\t<tr><td> 5</td><td>e</td></tr>\n",
       "\t<tr><td> 6</td><td>f</td></tr>\n",
       "\t<tr><td> 7</td><td>g</td></tr>\n",
       "\t<tr><td> 8</td><td>h</td></tr>\n",
       "\t<tr><td> 9</td><td>i</td></tr>\n",
       "\t<tr><td>10</td><td>j</td></tr>\n",
       "</tbody>\n",
       "</table>\n"
      ],
      "text/latex": [
       "A data.frame: 10 × 2\n",
       "\\begin{tabular}{ll}\n",
       " columna1 & columna2\\\\\n",
       " <int> & <chr>\\\\\n",
       "\\hline\n",
       "\t  1 & a\\\\\n",
       "\t  2 & b\\\\\n",
       "\t  3 & c\\\\\n",
       "\t  4 & d\\\\\n",
       "\t  5 & e\\\\\n",
       "\t  6 & f\\\\\n",
       "\t  7 & g\\\\\n",
       "\t  8 & h\\\\\n",
       "\t  9 & i\\\\\n",
       "\t 10 & j\\\\\n",
       "\\end{tabular}\n"
      ],
      "text/markdown": [
       "\n",
       "A data.frame: 10 × 2\n",
       "\n",
       "| columna1 &lt;int&gt; | columna2 &lt;chr&gt; |\n",
       "|---|---|\n",
       "|  1 | a |\n",
       "|  2 | b |\n",
       "|  3 | c |\n",
       "|  4 | d |\n",
       "|  5 | e |\n",
       "|  6 | f |\n",
       "|  7 | g |\n",
       "|  8 | h |\n",
       "|  9 | i |\n",
       "| 10 | j |\n",
       "\n"
      ],
      "text/plain": [
       "   columna1 columna2\n",
       "1   1       a       \n",
       "2   2       b       \n",
       "3   3       c       \n",
       "4   4       d       \n",
       "5   5       e       \n",
       "6   6       f       \n",
       "7   7       g       \n",
       "8   8       h       \n",
       "9   9       i       \n",
       "10 10       j       "
      ]
     },
     "metadata": {},
     "output_type": "display_data"
    }
   ],
   "source": [
    "df2 <- read.csv(file = 'data/fichero2.csv')\n",
    "df2"
   ]
  },
  {
   "attachments": {},
   "cell_type": "markdown",
   "metadata": {},
   "source": [
    "## Concatenación de forma vertical"
   ]
  },
  {
   "cell_type": "code",
   "execution_count": 3,
   "metadata": {
    "vscode": {
     "languageId": "r"
    }
   },
   "outputs": [
    {
     "data": {
      "text/html": [
       "<table class=\"dataframe\">\n",
       "<caption>A data.frame: 20 × 2</caption>\n",
       "<thead>\n",
       "\t<tr><th scope=col>columna1</th><th scope=col>columna2</th></tr>\n",
       "\t<tr><th scope=col>&lt;int&gt;</th><th scope=col>&lt;chr&gt;</th></tr>\n",
       "</thead>\n",
       "<tbody>\n",
       "\t<tr><td> 1</td><td>a</td></tr>\n",
       "\t<tr><td> 2</td><td>b</td></tr>\n",
       "\t<tr><td> 3</td><td>c</td></tr>\n",
       "\t<tr><td> 4</td><td>d</td></tr>\n",
       "\t<tr><td> 5</td><td>e</td></tr>\n",
       "\t<tr><td> 6</td><td>f</td></tr>\n",
       "\t<tr><td> 7</td><td>g</td></tr>\n",
       "\t<tr><td> 8</td><td>h</td></tr>\n",
       "\t<tr><td> 9</td><td>i</td></tr>\n",
       "\t<tr><td>10</td><td>j</td></tr>\n",
       "\t<tr><td> 1</td><td>a</td></tr>\n",
       "\t<tr><td> 2</td><td>b</td></tr>\n",
       "\t<tr><td> 3</td><td>c</td></tr>\n",
       "\t<tr><td> 4</td><td>d</td></tr>\n",
       "\t<tr><td> 5</td><td>e</td></tr>\n",
       "\t<tr><td> 6</td><td>f</td></tr>\n",
       "\t<tr><td> 7</td><td>g</td></tr>\n",
       "\t<tr><td> 8</td><td>h</td></tr>\n",
       "\t<tr><td> 9</td><td>i</td></tr>\n",
       "\t<tr><td>10</td><td>j</td></tr>\n",
       "</tbody>\n",
       "</table>\n"
      ],
      "text/latex": [
       "A data.frame: 20 × 2\n",
       "\\begin{tabular}{ll}\n",
       " columna1 & columna2\\\\\n",
       " <int> & <chr>\\\\\n",
       "\\hline\n",
       "\t  1 & a\\\\\n",
       "\t  2 & b\\\\\n",
       "\t  3 & c\\\\\n",
       "\t  4 & d\\\\\n",
       "\t  5 & e\\\\\n",
       "\t  6 & f\\\\\n",
       "\t  7 & g\\\\\n",
       "\t  8 & h\\\\\n",
       "\t  9 & i\\\\\n",
       "\t 10 & j\\\\\n",
       "\t  1 & a\\\\\n",
       "\t  2 & b\\\\\n",
       "\t  3 & c\\\\\n",
       "\t  4 & d\\\\\n",
       "\t  5 & e\\\\\n",
       "\t  6 & f\\\\\n",
       "\t  7 & g\\\\\n",
       "\t  8 & h\\\\\n",
       "\t  9 & i\\\\\n",
       "\t 10 & j\\\\\n",
       "\\end{tabular}\n"
      ],
      "text/markdown": [
       "\n",
       "A data.frame: 20 × 2\n",
       "\n",
       "| columna1 &lt;int&gt; | columna2 &lt;chr&gt; |\n",
       "|---|---|\n",
       "|  1 | a |\n",
       "|  2 | b |\n",
       "|  3 | c |\n",
       "|  4 | d |\n",
       "|  5 | e |\n",
       "|  6 | f |\n",
       "|  7 | g |\n",
       "|  8 | h |\n",
       "|  9 | i |\n",
       "| 10 | j |\n",
       "|  1 | a |\n",
       "|  2 | b |\n",
       "|  3 | c |\n",
       "|  4 | d |\n",
       "|  5 | e |\n",
       "|  6 | f |\n",
       "|  7 | g |\n",
       "|  8 | h |\n",
       "|  9 | i |\n",
       "| 10 | j |\n",
       "\n"
      ],
      "text/plain": [
       "   columna1 columna2\n",
       "1   1       a       \n",
       "2   2       b       \n",
       "3   3       c       \n",
       "4   4       d       \n",
       "5   5       e       \n",
       "6   6       f       \n",
       "7   7       g       \n",
       "8   8       h       \n",
       "9   9       i       \n",
       "10 10       j       \n",
       "11  1       a       \n",
       "12  2       b       \n",
       "13  3       c       \n",
       "14  4       d       \n",
       "15  5       e       \n",
       "16  6       f       \n",
       "17  7       g       \n",
       "18  8       h       \n",
       "19  9       i       \n",
       "20 10       j       "
      ]
     },
     "metadata": {},
     "output_type": "display_data"
    }
   ],
   "source": [
    "df3 <- rbind(df1, df2)\n",
    "df3"
   ]
  },
  {
   "attachments": {},
   "cell_type": "markdown",
   "metadata": {},
   "source": [
    "## Concatenación de forma horizontal"
   ]
  },
  {
   "cell_type": "code",
   "execution_count": 4,
   "metadata": {
    "vscode": {
     "languageId": "r"
    }
   },
   "outputs": [
    {
     "data": {
      "text/html": [
       "<table class=\"dataframe\">\n",
       "<caption>A data.frame: 10 × 2</caption>\n",
       "<thead>\n",
       "\t<tr><th scope=col>columna1</th><th scope=col>columna2</th></tr>\n",
       "\t<tr><th scope=col>&lt;int&gt;</th><th scope=col>&lt;chr&gt;</th></tr>\n",
       "</thead>\n",
       "<tbody>\n",
       "\t<tr><td> 1</td><td>a</td></tr>\n",
       "\t<tr><td> 2</td><td>b</td></tr>\n",
       "\t<tr><td> 3</td><td>c</td></tr>\n",
       "\t<tr><td> 4</td><td>d</td></tr>\n",
       "\t<tr><td> 5</td><td>e</td></tr>\n",
       "\t<tr><td> 6</td><td>f</td></tr>\n",
       "\t<tr><td> 7</td><td>g</td></tr>\n",
       "\t<tr><td> 8</td><td>h</td></tr>\n",
       "\t<tr><td> 9</td><td>i</td></tr>\n",
       "\t<tr><td>10</td><td>j</td></tr>\n",
       "</tbody>\n",
       "</table>\n"
      ],
      "text/latex": [
       "A data.frame: 10 × 2\n",
       "\\begin{tabular}{ll}\n",
       " columna1 & columna2\\\\\n",
       " <int> & <chr>\\\\\n",
       "\\hline\n",
       "\t  1 & a\\\\\n",
       "\t  2 & b\\\\\n",
       "\t  3 & c\\\\\n",
       "\t  4 & d\\\\\n",
       "\t  5 & e\\\\\n",
       "\t  6 & f\\\\\n",
       "\t  7 & g\\\\\n",
       "\t  8 & h\\\\\n",
       "\t  9 & i\\\\\n",
       "\t 10 & j\\\\\n",
       "\\end{tabular}\n"
      ],
      "text/markdown": [
       "\n",
       "A data.frame: 10 × 2\n",
       "\n",
       "| columna1 &lt;int&gt; | columna2 &lt;chr&gt; |\n",
       "|---|---|\n",
       "|  1 | a |\n",
       "|  2 | b |\n",
       "|  3 | c |\n",
       "|  4 | d |\n",
       "|  5 | e |\n",
       "|  6 | f |\n",
       "|  7 | g |\n",
       "|  8 | h |\n",
       "|  9 | i |\n",
       "| 10 | j |\n",
       "\n"
      ],
      "text/plain": [
       "   columna1 columna2\n",
       "1   1       a       \n",
       "2   2       b       \n",
       "3   3       c       \n",
       "4   4       d       \n",
       "5   5       e       \n",
       "6   6       f       \n",
       "7   7       g       \n",
       "8   8       h       \n",
       "9   9       i       \n",
       "10 10       j       "
      ]
     },
     "metadata": {},
     "output_type": "display_data"
    }
   ],
   "source": [
    "df2"
   ]
  },
  {
   "cell_type": "code",
   "execution_count": 5,
   "metadata": {
    "vscode": {
     "languageId": "r"
    }
   },
   "outputs": [
    {
     "data": {
      "text/html": [
       "<table class=\"dataframe\">\n",
       "<caption>A data.frame: 10 × 3</caption>\n",
       "<thead>\n",
       "\t<tr><th scope=col>columna1</th><th scope=col>columna2</th><th scope=col>columna3</th></tr>\n",
       "\t<tr><th scope=col>&lt;int&gt;</th><th scope=col>&lt;chr&gt;</th><th scope=col>&lt;int&gt;</th></tr>\n",
       "</thead>\n",
       "<tbody>\n",
       "\t<tr><td> 1</td><td>a</td><td> 1</td></tr>\n",
       "\t<tr><td> 2</td><td>b</td><td> 2</td></tr>\n",
       "\t<tr><td> 3</td><td>c</td><td> 3</td></tr>\n",
       "\t<tr><td> 4</td><td>d</td><td> 4</td></tr>\n",
       "\t<tr><td> 5</td><td>e</td><td> 5</td></tr>\n",
       "\t<tr><td> 6</td><td>f</td><td> 6</td></tr>\n",
       "\t<tr><td> 7</td><td>g</td><td> 7</td></tr>\n",
       "\t<tr><td> 8</td><td>h</td><td> 8</td></tr>\n",
       "\t<tr><td> 9</td><td>i</td><td> 9</td></tr>\n",
       "\t<tr><td>10</td><td>j</td><td>10</td></tr>\n",
       "</tbody>\n",
       "</table>\n"
      ],
      "text/latex": [
       "A data.frame: 10 × 3\n",
       "\\begin{tabular}{lll}\n",
       " columna1 & columna2 & columna3\\\\\n",
       " <int> & <chr> & <int>\\\\\n",
       "\\hline\n",
       "\t  1 & a &  1\\\\\n",
       "\t  2 & b &  2\\\\\n",
       "\t  3 & c &  3\\\\\n",
       "\t  4 & d &  4\\\\\n",
       "\t  5 & e &  5\\\\\n",
       "\t  6 & f &  6\\\\\n",
       "\t  7 & g &  7\\\\\n",
       "\t  8 & h &  8\\\\\n",
       "\t  9 & i &  9\\\\\n",
       "\t 10 & j & 10\\\\\n",
       "\\end{tabular}\n"
      ],
      "text/markdown": [
       "\n",
       "A data.frame: 10 × 3\n",
       "\n",
       "| columna1 &lt;int&gt; | columna2 &lt;chr&gt; | columna3 &lt;int&gt; |\n",
       "|---|---|---|\n",
       "|  1 | a |  1 |\n",
       "|  2 | b |  2 |\n",
       "|  3 | c |  3 |\n",
       "|  4 | d |  4 |\n",
       "|  5 | e |  5 |\n",
       "|  6 | f |  6 |\n",
       "|  7 | g |  7 |\n",
       "|  8 | h |  8 |\n",
       "|  9 | i |  9 |\n",
       "| 10 | j | 10 |\n",
       "\n"
      ],
      "text/plain": [
       "   columna1 columna2 columna3\n",
       "1   1       a         1      \n",
       "2   2       b         2      \n",
       "3   3       c         3      \n",
       "4   4       d         4      \n",
       "5   5       e         5      \n",
       "6   6       f         6      \n",
       "7   7       g         7      \n",
       "8   8       h         8      \n",
       "9   9       i         9      \n",
       "10 10       j        10      "
      ]
     },
     "metadata": {},
     "output_type": "display_data"
    }
   ],
   "source": [
    "df2['columna3'] <- df2[1]\n",
    "df2"
   ]
  },
  {
   "cell_type": "code",
   "execution_count": 6,
   "metadata": {
    "vscode": {
     "languageId": "r"
    }
   },
   "outputs": [
    {
     "data": {
      "text/html": [
       "<table class=\"dataframe\">\n",
       "<caption>A data.frame: 10 × 4</caption>\n",
       "<thead>\n",
       "\t<tr><th scope=col>columna1</th><th scope=col>columna2</th><th scope=col>columna3</th><th scope=col>columna4</th></tr>\n",
       "\t<tr><th scope=col>&lt;int&gt;</th><th scope=col>&lt;chr&gt;</th><th scope=col>&lt;int&gt;</th><th scope=col>&lt;dbl&gt;</th></tr>\n",
       "</thead>\n",
       "<tbody>\n",
       "\t<tr><td> 1</td><td>a</td><td> 1</td><td> 6</td></tr>\n",
       "\t<tr><td> 2</td><td>b</td><td> 2</td><td>12</td></tr>\n",
       "\t<tr><td> 3</td><td>c</td><td> 3</td><td>18</td></tr>\n",
       "\t<tr><td> 4</td><td>d</td><td> 4</td><td>24</td></tr>\n",
       "\t<tr><td> 5</td><td>e</td><td> 5</td><td>30</td></tr>\n",
       "\t<tr><td> 6</td><td>f</td><td> 6</td><td>36</td></tr>\n",
       "\t<tr><td> 7</td><td>g</td><td> 7</td><td>42</td></tr>\n",
       "\t<tr><td> 8</td><td>h</td><td> 8</td><td>48</td></tr>\n",
       "\t<tr><td> 9</td><td>i</td><td> 9</td><td>54</td></tr>\n",
       "\t<tr><td>10</td><td>j</td><td>10</td><td>60</td></tr>\n",
       "</tbody>\n",
       "</table>\n"
      ],
      "text/latex": [
       "A data.frame: 10 × 4\n",
       "\\begin{tabular}{llll}\n",
       " columna1 & columna2 & columna3 & columna4\\\\\n",
       " <int> & <chr> & <int> & <dbl>\\\\\n",
       "\\hline\n",
       "\t  1 & a &  1 &  6\\\\\n",
       "\t  2 & b &  2 & 12\\\\\n",
       "\t  3 & c &  3 & 18\\\\\n",
       "\t  4 & d &  4 & 24\\\\\n",
       "\t  5 & e &  5 & 30\\\\\n",
       "\t  6 & f &  6 & 36\\\\\n",
       "\t  7 & g &  7 & 42\\\\\n",
       "\t  8 & h &  8 & 48\\\\\n",
       "\t  9 & i &  9 & 54\\\\\n",
       "\t 10 & j & 10 & 60\\\\\n",
       "\\end{tabular}\n"
      ],
      "text/markdown": [
       "\n",
       "A data.frame: 10 × 4\n",
       "\n",
       "| columna1 &lt;int&gt; | columna2 &lt;chr&gt; | columna3 &lt;int&gt; | columna4 &lt;dbl&gt; |\n",
       "|---|---|---|---|\n",
       "|  1 | a |  1 |  6 |\n",
       "|  2 | b |  2 | 12 |\n",
       "|  3 | c |  3 | 18 |\n",
       "|  4 | d |  4 | 24 |\n",
       "|  5 | e |  5 | 30 |\n",
       "|  6 | f |  6 | 36 |\n",
       "|  7 | g |  7 | 42 |\n",
       "|  8 | h |  8 | 48 |\n",
       "|  9 | i |  9 | 54 |\n",
       "| 10 | j | 10 | 60 |\n",
       "\n"
      ],
      "text/plain": [
       "   columna1 columna2 columna3 columna4\n",
       "1   1       a         1        6      \n",
       "2   2       b         2       12      \n",
       "3   3       c         3       18      \n",
       "4   4       d         4       24      \n",
       "5   5       e         5       30      \n",
       "6   6       f         6       36      \n",
       "7   7       g         7       42      \n",
       "8   8       h         8       48      \n",
       "9   9       i         9       54      \n",
       "10 10       j        10       60      "
      ]
     },
     "metadata": {},
     "output_type": "display_data"
    }
   ],
   "source": [
    "df2$columna4 <- 5*df2$columna3 + df2$columna1\n",
    "df2"
   ]
  },
  {
   "cell_type": "code",
   "execution_count": 7,
   "metadata": {
    "vscode": {
     "languageId": "r"
    }
   },
   "outputs": [
    {
     "data": {
      "text/html": [
       "<table class=\"dataframe\">\n",
       "<caption>A data.frame: 10 × 6</caption>\n",
       "<thead>\n",
       "\t<tr><th scope=col>columna1</th><th scope=col>columna2</th><th scope=col>columna3</th><th scope=col>columna4</th><th scope=col>columna5</th><th scope=col>columna6</th></tr>\n",
       "\t<tr><th scope=col>&lt;int&gt;</th><th scope=col>&lt;chr&gt;</th><th scope=col>&lt;int&gt;</th><th scope=col>&lt;dbl&gt;</th><th scope=col>&lt;chr&gt;</th><th scope=col>&lt;chr&gt;</th></tr>\n",
       "</thead>\n",
       "<tbody>\n",
       "\t<tr><td> 1</td><td>a</td><td> 1</td><td> 6</td><td>a</td><td>a</td></tr>\n",
       "\t<tr><td> 2</td><td>b</td><td> 2</td><td>12</td><td>b</td><td>b</td></tr>\n",
       "\t<tr><td> 3</td><td>c</td><td> 3</td><td>18</td><td>c</td><td>c</td></tr>\n",
       "\t<tr><td> 4</td><td>d</td><td> 4</td><td>24</td><td>d</td><td>d</td></tr>\n",
       "\t<tr><td> 5</td><td>e</td><td> 5</td><td>30</td><td>e</td><td>e</td></tr>\n",
       "\t<tr><td> 6</td><td>f</td><td> 6</td><td>36</td><td>f</td><td>f</td></tr>\n",
       "\t<tr><td> 7</td><td>g</td><td> 7</td><td>42</td><td>g</td><td>g</td></tr>\n",
       "\t<tr><td> 8</td><td>h</td><td> 8</td><td>48</td><td>h</td><td>h</td></tr>\n",
       "\t<tr><td> 9</td><td>i</td><td> 9</td><td>54</td><td>i</td><td>i</td></tr>\n",
       "\t<tr><td>10</td><td>j</td><td>10</td><td>60</td><td>j</td><td>j</td></tr>\n",
       "</tbody>\n",
       "</table>\n"
      ],
      "text/latex": [
       "A data.frame: 10 × 6\n",
       "\\begin{tabular}{llllll}\n",
       " columna1 & columna2 & columna3 & columna4 & columna5 & columna6\\\\\n",
       " <int> & <chr> & <int> & <dbl> & <chr> & <chr>\\\\\n",
       "\\hline\n",
       "\t  1 & a &  1 &  6 & a & a\\\\\n",
       "\t  2 & b &  2 & 12 & b & b\\\\\n",
       "\t  3 & c &  3 & 18 & c & c\\\\\n",
       "\t  4 & d &  4 & 24 & d & d\\\\\n",
       "\t  5 & e &  5 & 30 & e & e\\\\\n",
       "\t  6 & f &  6 & 36 & f & f\\\\\n",
       "\t  7 & g &  7 & 42 & g & g\\\\\n",
       "\t  8 & h &  8 & 48 & h & h\\\\\n",
       "\t  9 & i &  9 & 54 & i & i\\\\\n",
       "\t 10 & j & 10 & 60 & j & j\\\\\n",
       "\\end{tabular}\n"
      ],
      "text/markdown": [
       "\n",
       "A data.frame: 10 × 6\n",
       "\n",
       "| columna1 &lt;int&gt; | columna2 &lt;chr&gt; | columna3 &lt;int&gt; | columna4 &lt;dbl&gt; | columna5 &lt;chr&gt; | columna6 &lt;chr&gt; |\n",
       "|---|---|---|---|---|---|\n",
       "|  1 | a |  1 |  6 | a | a |\n",
       "|  2 | b |  2 | 12 | b | b |\n",
       "|  3 | c |  3 | 18 | c | c |\n",
       "|  4 | d |  4 | 24 | d | d |\n",
       "|  5 | e |  5 | 30 | e | e |\n",
       "|  6 | f |  6 | 36 | f | f |\n",
       "|  7 | g |  7 | 42 | g | g |\n",
       "|  8 | h |  8 | 48 | h | h |\n",
       "|  9 | i |  9 | 54 | i | i |\n",
       "| 10 | j | 10 | 60 | j | j |\n",
       "\n"
      ],
      "text/plain": [
       "   columna1 columna2 columna3 columna4 columna5 columna6\n",
       "1   1       a         1        6       a        a       \n",
       "2   2       b         2       12       b        b       \n",
       "3   3       c         3       18       c        c       \n",
       "4   4       d         4       24       d        d       \n",
       "5   5       e         5       30       e        e       \n",
       "6   6       f         6       36       f        f       \n",
       "7   7       g         7       42       g        g       \n",
       "8   8       h         8       48       h        h       \n",
       "9   9       i         9       54       i        i       \n",
       "10 10       j        10       60       j        j       "
      ]
     },
     "metadata": {},
     "output_type": "display_data"
    }
   ],
   "source": [
    "df2[c('columna5','columna6')] <- df2[2]\n",
    "df2"
   ]
  },
  {
   "cell_type": "code",
   "execution_count": 8,
   "metadata": {
    "vscode": {
     "languageId": "r"
    }
   },
   "outputs": [
    {
     "data": {
      "text/html": [
       "<table class=\"dataframe\">\n",
       "<caption>A data.frame: 10 × 8</caption>\n",
       "<thead>\n",
       "\t<tr><th scope=col>columna1</th><th scope=col>columna2</th><th scope=col>columna3</th><th scope=col>columna4</th><th scope=col>columna5</th><th scope=col>columna6</th><th scope=col>columna7</th><th scope=col>columna8</th></tr>\n",
       "\t<tr><th scope=col>&lt;int&gt;</th><th scope=col>&lt;chr&gt;</th><th scope=col>&lt;int&gt;</th><th scope=col>&lt;dbl&gt;</th><th scope=col>&lt;chr&gt;</th><th scope=col>&lt;chr&gt;</th><th scope=col>&lt;dbl&gt;</th><th scope=col>&lt;chr&gt;</th></tr>\n",
       "</thead>\n",
       "<tbody>\n",
       "\t<tr><td> 1</td><td>a</td><td> 1</td><td> 6</td><td>a</td><td>a</td><td> 6</td><td>a</td></tr>\n",
       "\t<tr><td> 2</td><td>b</td><td> 2</td><td>12</td><td>b</td><td>b</td><td>12</td><td>b</td></tr>\n",
       "\t<tr><td> 3</td><td>c</td><td> 3</td><td>18</td><td>c</td><td>c</td><td>18</td><td>c</td></tr>\n",
       "\t<tr><td> 4</td><td>d</td><td> 4</td><td>24</td><td>d</td><td>d</td><td>24</td><td>d</td></tr>\n",
       "\t<tr><td> 5</td><td>e</td><td> 5</td><td>30</td><td>e</td><td>e</td><td>30</td><td>e</td></tr>\n",
       "\t<tr><td> 6</td><td>f</td><td> 6</td><td>36</td><td>f</td><td>f</td><td>36</td><td>f</td></tr>\n",
       "\t<tr><td> 7</td><td>g</td><td> 7</td><td>42</td><td>g</td><td>g</td><td>42</td><td>g</td></tr>\n",
       "\t<tr><td> 8</td><td>h</td><td> 8</td><td>48</td><td>h</td><td>h</td><td>48</td><td>h</td></tr>\n",
       "\t<tr><td> 9</td><td>i</td><td> 9</td><td>54</td><td>i</td><td>i</td><td>54</td><td>i</td></tr>\n",
       "\t<tr><td>10</td><td>j</td><td>10</td><td>60</td><td>j</td><td>j</td><td>60</td><td>j</td></tr>\n",
       "</tbody>\n",
       "</table>\n"
      ],
      "text/latex": [
       "A data.frame: 10 × 8\n",
       "\\begin{tabular}{llllllll}\n",
       " columna1 & columna2 & columna3 & columna4 & columna5 & columna6 & columna7 & columna8\\\\\n",
       " <int> & <chr> & <int> & <dbl> & <chr> & <chr> & <dbl> & <chr>\\\\\n",
       "\\hline\n",
       "\t  1 & a &  1 &  6 & a & a &  6 & a\\\\\n",
       "\t  2 & b &  2 & 12 & b & b & 12 & b\\\\\n",
       "\t  3 & c &  3 & 18 & c & c & 18 & c\\\\\n",
       "\t  4 & d &  4 & 24 & d & d & 24 & d\\\\\n",
       "\t  5 & e &  5 & 30 & e & e & 30 & e\\\\\n",
       "\t  6 & f &  6 & 36 & f & f & 36 & f\\\\\n",
       "\t  7 & g &  7 & 42 & g & g & 42 & g\\\\\n",
       "\t  8 & h &  8 & 48 & h & h & 48 & h\\\\\n",
       "\t  9 & i &  9 & 54 & i & i & 54 & i\\\\\n",
       "\t 10 & j & 10 & 60 & j & j & 60 & j\\\\\n",
       "\\end{tabular}\n"
      ],
      "text/markdown": [
       "\n",
       "A data.frame: 10 × 8\n",
       "\n",
       "| columna1 &lt;int&gt; | columna2 &lt;chr&gt; | columna3 &lt;int&gt; | columna4 &lt;dbl&gt; | columna5 &lt;chr&gt; | columna6 &lt;chr&gt; | columna7 &lt;dbl&gt; | columna8 &lt;chr&gt; |\n",
       "|---|---|---|---|---|---|---|---|\n",
       "|  1 | a |  1 |  6 | a | a |  6 | a |\n",
       "|  2 | b |  2 | 12 | b | b | 12 | b |\n",
       "|  3 | c |  3 | 18 | c | c | 18 | c |\n",
       "|  4 | d |  4 | 24 | d | d | 24 | d |\n",
       "|  5 | e |  5 | 30 | e | e | 30 | e |\n",
       "|  6 | f |  6 | 36 | f | f | 36 | f |\n",
       "|  7 | g |  7 | 42 | g | g | 42 | g |\n",
       "|  8 | h |  8 | 48 | h | h | 48 | h |\n",
       "|  9 | i |  9 | 54 | i | i | 54 | i |\n",
       "| 10 | j | 10 | 60 | j | j | 60 | j |\n",
       "\n"
      ],
      "text/plain": [
       "   columna1 columna2 columna3 columna4 columna5 columna6 columna7 columna8\n",
       "1   1       a         1        6       a        a         6       a       \n",
       "2   2       b         2       12       b        b        12       b       \n",
       "3   3       c         3       18       c        c        18       c       \n",
       "4   4       d         4       24       d        d        24       d       \n",
       "5   5       e         5       30       e        e        30       e       \n",
       "6   6       f         6       36       f        f        36       f       \n",
       "7   7       g         7       42       g        g        42       g       \n",
       "8   8       h         8       48       h        h        48       h       \n",
       "9   9       i         9       54       i        i        54       i       \n",
       "10 10       j        10       60       j        j        60       j       "
      ]
     },
     "metadata": {},
     "output_type": "display_data"
    }
   ],
   "source": [
    "df2[c('columna7','columna8')] <- df2[c(4,5)]\n",
    "df2"
   ]
  },
  {
   "cell_type": "code",
   "execution_count": null,
   "metadata": {
    "vscode": {
     "languageId": "r"
    }
   },
   "outputs": [],
   "source": []
  }
 ],
 "metadata": {
  "kernelspec": {
   "display_name": "R",
   "language": "R",
   "name": "ir"
  },
  "language_info": {
   "codemirror_mode": "r",
   "file_extension": ".r",
   "mimetype": "text/x-r-source",
   "name": "R",
   "pygments_lexer": "r",
   "version": "4.3.0"
  },
  "orig_nbformat": 4
 },
 "nbformat": 4,
 "nbformat_minor": 2
}
