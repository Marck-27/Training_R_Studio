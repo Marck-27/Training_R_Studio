{
 "cells": [
  {
   "attachments": {},
   "cell_type": "markdown",
   "metadata": {},
   "source": [
    "# Data Frames\n",
    "\n",
    "En esta práctica veremos como:\n",
    "* Crear Data Frames.\n",
    "* Extraer y Filrar información de un DataFrame.\n",
    "* Ordenar un Data Frame con respecto a una columna.\n",
    "* Extracción de características de un Data Frame.\n",
    "\n",
    "Los Data frames son arrgelos en forma matricial donde cada columna puede ser de distinto tipo."
   ]
  },
  {
   "cell_type": "code",
   "execution_count": 1,
   "metadata": {
    "vscode": {
     "languageId": "r"
    }
   },
   "outputs": [],
   "source": [
    "# Creamos las columnas que compondrán el Data Frame:\n",
    "meses <- c('Enero','Febrero','Marzo')\n",
    "ventas <- c(100,120,80)\n",
    "objetivos <- c(TRUE,TRUE,FALSE)"
   ]
  },
  {
   "cell_type": "code",
   "execution_count": 2,
   "metadata": {
    "vscode": {
     "languageId": "r"
    }
   },
   "outputs": [
    {
     "data": {
      "text/html": [
       "<table class=\"dataframe\">\n",
       "<caption>A data.frame: 3 × 3</caption>\n",
       "<thead>\n",
       "\t<tr><th scope=col>meses</th><th scope=col>ventas</th><th scope=col>objetivos</th></tr>\n",
       "\t<tr><th scope=col>&lt;chr&gt;</th><th scope=col>&lt;dbl&gt;</th><th scope=col>&lt;lgl&gt;</th></tr>\n",
       "</thead>\n",
       "<tbody>\n",
       "\t<tr><td>Enero  </td><td>100</td><td> TRUE</td></tr>\n",
       "\t<tr><td>Febrero</td><td>120</td><td> TRUE</td></tr>\n",
       "\t<tr><td>Marzo  </td><td> 80</td><td>FALSE</td></tr>\n",
       "</tbody>\n",
       "</table>\n"
      ],
      "text/latex": [
       "A data.frame: 3 × 3\n",
       "\\begin{tabular}{lll}\n",
       " meses & ventas & objetivos\\\\\n",
       " <chr> & <dbl> & <lgl>\\\\\n",
       "\\hline\n",
       "\t Enero   & 100 &  TRUE\\\\\n",
       "\t Febrero & 120 &  TRUE\\\\\n",
       "\t Marzo   &  80 & FALSE\\\\\n",
       "\\end{tabular}\n"
      ],
      "text/markdown": [
       "\n",
       "A data.frame: 3 × 3\n",
       "\n",
       "| meses &lt;chr&gt; | ventas &lt;dbl&gt; | objetivos &lt;lgl&gt; |\n",
       "|---|---|---|\n",
       "| Enero   | 100 |  TRUE |\n",
       "| Febrero | 120 |  TRUE |\n",
       "| Marzo   |  80 | FALSE |\n",
       "\n"
      ],
      "text/plain": [
       "  meses   ventas objetivos\n",
       "1 Enero   100     TRUE    \n",
       "2 Febrero 120     TRUE    \n",
       "3 Marzo    80    FALSE    "
      ]
     },
     "metadata": {},
     "output_type": "display_data"
    }
   ],
   "source": [
    "df <- data.frame(meses, ventas, objetivos)\n",
    "df"
   ]
  },
  {
   "attachments": {},
   "cell_type": "markdown",
   "metadata": {},
   "source": [
    "## Extracción de información por índices"
   ]
  },
  {
   "attachments": {},
   "cell_type": "markdown",
   "metadata": {},
   "source": [
    "### Extracción de columnas\n",
    "\n",
    "* Si usamos: `df$ColumnName` o `df[,ColumnName]` se extraerá la columna en forma vectorial.\n",
    "* Si usamos: `df[ColumnName]` o `df[ColumnNumber]` se extraerá la columna en forma de matriz."
   ]
  },
  {
   "cell_type": "code",
   "execution_count": 4,
   "metadata": {
    "vscode": {
     "languageId": "r"
    }
   },
   "outputs": [
    {
     "data": {
      "text/html": [
       "<style>\n",
       ".list-inline {list-style: none; margin:0; padding: 0}\n",
       ".list-inline>li {display: inline-block}\n",
       ".list-inline>li:not(:last-child)::after {content: \"\\00b7\"; padding: 0 .5ex}\n",
       "</style>\n",
       "<ol class=list-inline><li>'Enero'</li><li>'Febrero'</li><li>'Marzo'</li></ol>\n"
      ],
      "text/latex": [
       "\\begin{enumerate*}\n",
       "\\item 'Enero'\n",
       "\\item 'Febrero'\n",
       "\\item 'Marzo'\n",
       "\\end{enumerate*}\n"
      ],
      "text/markdown": [
       "1. 'Enero'\n",
       "2. 'Febrero'\n",
       "3. 'Marzo'\n",
       "\n",
       "\n"
      ],
      "text/plain": [
       "[1] \"Enero\"   \"Febrero\" \"Marzo\"  "
      ]
     },
     "metadata": {},
     "output_type": "display_data"
    }
   ],
   "source": [
    "df$meses"
   ]
  },
  {
   "cell_type": "code",
   "execution_count": 5,
   "metadata": {
    "vscode": {
     "languageId": "r"
    }
   },
   "outputs": [
    {
     "data": {
      "text/html": [
       "<style>\n",
       ".list-inline {list-style: none; margin:0; padding: 0}\n",
       ".list-inline>li {display: inline-block}\n",
       ".list-inline>li:not(:last-child)::after {content: \"\\00b7\"; padding: 0 .5ex}\n",
       "</style>\n",
       "<ol class=list-inline><li>'Enero'</li><li>'Febrero'</li><li>'Marzo'</li></ol>\n"
      ],
      "text/latex": [
       "\\begin{enumerate*}\n",
       "\\item 'Enero'\n",
       "\\item 'Febrero'\n",
       "\\item 'Marzo'\n",
       "\\end{enumerate*}\n"
      ],
      "text/markdown": [
       "1. 'Enero'\n",
       "2. 'Febrero'\n",
       "3. 'Marzo'\n",
       "\n",
       "\n"
      ],
      "text/plain": [
       "[1] \"Enero\"   \"Febrero\" \"Marzo\"  "
      ]
     },
     "metadata": {},
     "output_type": "display_data"
    }
   ],
   "source": [
    "df[,'meses']"
   ]
  },
  {
   "cell_type": "code",
   "execution_count": 6,
   "metadata": {
    "vscode": {
     "languageId": "r"
    }
   },
   "outputs": [
    {
     "data": {
      "text/html": [
       "<table class=\"dataframe\">\n",
       "<caption>A data.frame: 3 × 1</caption>\n",
       "<thead>\n",
       "\t<tr><th scope=col>meses</th></tr>\n",
       "\t<tr><th scope=col>&lt;chr&gt;</th></tr>\n",
       "</thead>\n",
       "<tbody>\n",
       "\t<tr><td>Enero  </td></tr>\n",
       "\t<tr><td>Febrero</td></tr>\n",
       "\t<tr><td>Marzo  </td></tr>\n",
       "</tbody>\n",
       "</table>\n"
      ],
      "text/latex": [
       "A data.frame: 3 × 1\n",
       "\\begin{tabular}{l}\n",
       " meses\\\\\n",
       " <chr>\\\\\n",
       "\\hline\n",
       "\t Enero  \\\\\n",
       "\t Febrero\\\\\n",
       "\t Marzo  \\\\\n",
       "\\end{tabular}\n"
      ],
      "text/markdown": [
       "\n",
       "A data.frame: 3 × 1\n",
       "\n",
       "| meses &lt;chr&gt; |\n",
       "|---|\n",
       "| Enero   |\n",
       "| Febrero |\n",
       "| Marzo   |\n",
       "\n"
      ],
      "text/plain": [
       "  meses  \n",
       "1 Enero  \n",
       "2 Febrero\n",
       "3 Marzo  "
      ]
     },
     "metadata": {},
     "output_type": "display_data"
    }
   ],
   "source": [
    "df['meses']"
   ]
  },
  {
   "cell_type": "code",
   "execution_count": 7,
   "metadata": {
    "vscode": {
     "languageId": "r"
    }
   },
   "outputs": [
    {
     "data": {
      "text/html": [
       "<table class=\"dataframe\">\n",
       "<caption>A data.frame: 3 × 1</caption>\n",
       "<thead>\n",
       "\t<tr><th scope=col>meses</th></tr>\n",
       "\t<tr><th scope=col>&lt;chr&gt;</th></tr>\n",
       "</thead>\n",
       "<tbody>\n",
       "\t<tr><td>Enero  </td></tr>\n",
       "\t<tr><td>Febrero</td></tr>\n",
       "\t<tr><td>Marzo  </td></tr>\n",
       "</tbody>\n",
       "</table>\n"
      ],
      "text/latex": [
       "A data.frame: 3 × 1\n",
       "\\begin{tabular}{l}\n",
       " meses\\\\\n",
       " <chr>\\\\\n",
       "\\hline\n",
       "\t Enero  \\\\\n",
       "\t Febrero\\\\\n",
       "\t Marzo  \\\\\n",
       "\\end{tabular}\n"
      ],
      "text/markdown": [
       "\n",
       "A data.frame: 3 × 1\n",
       "\n",
       "| meses &lt;chr&gt; |\n",
       "|---|\n",
       "| Enero   |\n",
       "| Febrero |\n",
       "| Marzo   |\n",
       "\n"
      ],
      "text/plain": [
       "  meses  \n",
       "1 Enero  \n",
       "2 Febrero\n",
       "3 Marzo  "
      ]
     },
     "metadata": {},
     "output_type": "display_data"
    }
   ],
   "source": [
    "df[1]"
   ]
  },
  {
   "cell_type": "code",
   "execution_count": 8,
   "metadata": {
    "vscode": {
     "languageId": "r"
    }
   },
   "outputs": [
    {
     "data": {
      "text/html": [
       "<style>\n",
       ".list-inline {list-style: none; margin:0; padding: 0}\n",
       ".list-inline>li {display: inline-block}\n",
       ".list-inline>li:not(:last-child)::after {content: \"\\00b7\"; padding: 0 .5ex}\n",
       "</style>\n",
       "<ol class=list-inline><li>'Enero'</li><li>'Febrero'</li><li>'Marzo'</li></ol>\n"
      ],
      "text/latex": [
       "\\begin{enumerate*}\n",
       "\\item 'Enero'\n",
       "\\item 'Febrero'\n",
       "\\item 'Marzo'\n",
       "\\end{enumerate*}\n"
      ],
      "text/markdown": [
       "1. 'Enero'\n",
       "2. 'Febrero'\n",
       "3. 'Marzo'\n",
       "\n",
       "\n"
      ],
      "text/plain": [
       "[1] \"Enero\"   \"Febrero\" \"Marzo\"  "
      ]
     },
     "metadata": {},
     "output_type": "display_data"
    }
   ],
   "source": [
    "df[,1]"
   ]
  },
  {
   "cell_type": "code",
   "execution_count": 9,
   "metadata": {
    "vscode": {
     "languageId": "r"
    }
   },
   "outputs": [
    {
     "data": {
      "text/html": [
       "<style>\n",
       ".list-inline {list-style: none; margin:0; padding: 0}\n",
       ".list-inline>li {display: inline-block}\n",
       ".list-inline>li:not(:last-child)::after {content: \"\\00b7\"; padding: 0 .5ex}\n",
       "</style>\n",
       "<ol class=list-inline><li>100</li><li>120</li><li>80</li></ol>\n"
      ],
      "text/latex": [
       "\\begin{enumerate*}\n",
       "\\item 100\n",
       "\\item 120\n",
       "\\item 80\n",
       "\\end{enumerate*}\n"
      ],
      "text/markdown": [
       "1. 100\n",
       "2. 120\n",
       "3. 80\n",
       "\n",
       "\n"
      ],
      "text/plain": [
       "[1] 100 120  80"
      ]
     },
     "metadata": {},
     "output_type": "display_data"
    }
   ],
   "source": [
    "df$ventas"
   ]
  },
  {
   "cell_type": "code",
   "execution_count": 13,
   "metadata": {
    "vscode": {
     "languageId": "r"
    }
   },
   "outputs": [
    {
     "data": {
      "text/html": [
       "<style>\n",
       ".list-inline {list-style: none; margin:0; padding: 0}\n",
       ".list-inline>li {display: inline-block}\n",
       ".list-inline>li:not(:last-child)::after {content: \"\\00b7\"; padding: 0 .5ex}\n",
       "</style>\n",
       "<ol class=list-inline><li>100</li><li>120</li><li>80</li></ol>\n"
      ],
      "text/latex": [
       "\\begin{enumerate*}\n",
       "\\item 100\n",
       "\\item 120\n",
       "\\item 80\n",
       "\\end{enumerate*}\n"
      ],
      "text/markdown": [
       "1. 100\n",
       "2. 120\n",
       "3. 80\n",
       "\n",
       "\n"
      ],
      "text/plain": [
       "[1] 100 120  80"
      ]
     },
     "metadata": {},
     "output_type": "display_data"
    }
   ],
   "source": [
    "df[,'ventas']"
   ]
  },
  {
   "cell_type": "code",
   "execution_count": 14,
   "metadata": {
    "vscode": {
     "languageId": "r"
    }
   },
   "outputs": [
    {
     "data": {
      "text/html": [
       "<style>\n",
       ".list-inline {list-style: none; margin:0; padding: 0}\n",
       ".list-inline>li {display: inline-block}\n",
       ".list-inline>li:not(:last-child)::after {content: \"\\00b7\"; padding: 0 .5ex}\n",
       "</style>\n",
       "<ol class=list-inline><li>500</li><li>600</li><li>400</li></ol>\n"
      ],
      "text/latex": [
       "\\begin{enumerate*}\n",
       "\\item 500\n",
       "\\item 600\n",
       "\\item 400\n",
       "\\end{enumerate*}\n"
      ],
      "text/markdown": [
       "1. 500\n",
       "2. 600\n",
       "3. 400\n",
       "\n",
       "\n"
      ],
      "text/plain": [
       "[1] 500 600 400"
      ]
     },
     "metadata": {},
     "output_type": "display_data"
    }
   ],
   "source": [
    "5*df[,'ventas']"
   ]
  },
  {
   "cell_type": "code",
   "execution_count": 16,
   "metadata": {
    "vscode": {
     "languageId": "r"
    }
   },
   "outputs": [
    {
     "data": {
      "text/html": [
       "<table class=\"dataframe\">\n",
       "<caption>A data.frame: 3 × 1</caption>\n",
       "<thead>\n",
       "\t<tr><th scope=col>ventas</th></tr>\n",
       "\t<tr><th scope=col>&lt;dbl&gt;</th></tr>\n",
       "</thead>\n",
       "<tbody>\n",
       "\t<tr><td>500</td></tr>\n",
       "\t<tr><td>600</td></tr>\n",
       "\t<tr><td>400</td></tr>\n",
       "</tbody>\n",
       "</table>\n"
      ],
      "text/latex": [
       "A data.frame: 3 × 1\n",
       "\\begin{tabular}{l}\n",
       " ventas\\\\\n",
       " <dbl>\\\\\n",
       "\\hline\n",
       "\t 500\\\\\n",
       "\t 600\\\\\n",
       "\t 400\\\\\n",
       "\\end{tabular}\n"
      ],
      "text/markdown": [
       "\n",
       "A data.frame: 3 × 1\n",
       "\n",
       "| ventas &lt;dbl&gt; |\n",
       "|---|\n",
       "| 500 |\n",
       "| 600 |\n",
       "| 400 |\n",
       "\n"
      ],
      "text/plain": [
       "  ventas\n",
       "1 500   \n",
       "2 600   \n",
       "3 400   "
      ]
     },
     "metadata": {},
     "output_type": "display_data"
    }
   ],
   "source": [
    "5*df['ventas']"
   ]
  },
  {
   "cell_type": "code",
   "execution_count": 11,
   "metadata": {
    "vscode": {
     "languageId": "r"
    }
   },
   "outputs": [
    {
     "data": {
      "text/html": [
       "<style>\n",
       ".list-inline {list-style: none; margin:0; padding: 0}\n",
       ".list-inline>li {display: inline-block}\n",
       ".list-inline>li:not(:last-child)::after {content: \"\\00b7\"; padding: 0 .5ex}\n",
       "</style>\n",
       "<ol class=list-inline><li>100</li><li>120</li><li>80</li></ol>\n"
      ],
      "text/latex": [
       "\\begin{enumerate*}\n",
       "\\item 100\n",
       "\\item 120\n",
       "\\item 80\n",
       "\\end{enumerate*}\n"
      ],
      "text/markdown": [
       "1. 100\n",
       "2. 120\n",
       "3. 80\n",
       "\n",
       "\n"
      ],
      "text/plain": [
       "[1] 100 120  80"
      ]
     },
     "metadata": {},
     "output_type": "display_data"
    }
   ],
   "source": [
    "df[,2]"
   ]
  },
  {
   "cell_type": "code",
   "execution_count": 17,
   "metadata": {
    "vscode": {
     "languageId": "r"
    }
   },
   "outputs": [
    {
     "data": {
      "text/html": [
       "<table class=\"dataframe\">\n",
       "<caption>A data.frame: 3 × 2</caption>\n",
       "<thead>\n",
       "\t<tr><th scope=col>meses</th><th scope=col>objetivos</th></tr>\n",
       "\t<tr><th scope=col>&lt;chr&gt;</th><th scope=col>&lt;lgl&gt;</th></tr>\n",
       "</thead>\n",
       "<tbody>\n",
       "\t<tr><td>Enero  </td><td> TRUE</td></tr>\n",
       "\t<tr><td>Febrero</td><td> TRUE</td></tr>\n",
       "\t<tr><td>Marzo  </td><td>FALSE</td></tr>\n",
       "</tbody>\n",
       "</table>\n"
      ],
      "text/latex": [
       "A data.frame: 3 × 2\n",
       "\\begin{tabular}{ll}\n",
       " meses & objetivos\\\\\n",
       " <chr> & <lgl>\\\\\n",
       "\\hline\n",
       "\t Enero   &  TRUE\\\\\n",
       "\t Febrero &  TRUE\\\\\n",
       "\t Marzo   & FALSE\\\\\n",
       "\\end{tabular}\n"
      ],
      "text/markdown": [
       "\n",
       "A data.frame: 3 × 2\n",
       "\n",
       "| meses &lt;chr&gt; | objetivos &lt;lgl&gt; |\n",
       "|---|---|\n",
       "| Enero   |  TRUE |\n",
       "| Febrero |  TRUE |\n",
       "| Marzo   | FALSE |\n",
       "\n"
      ],
      "text/plain": [
       "  meses   objetivos\n",
       "1 Enero    TRUE    \n",
       "2 Febrero  TRUE    \n",
       "3 Marzo   FALSE    "
      ]
     },
     "metadata": {},
     "output_type": "display_data"
    }
   ],
   "source": [
    "# Extracción de las columnas 1 y 3:\n",
    "df[,c(1,3)]"
   ]
  },
  {
   "cell_type": "code",
   "execution_count": 18,
   "metadata": {
    "vscode": {
     "languageId": "r"
    }
   },
   "outputs": [
    {
     "data": {
      "text/html": [
       "<table class=\"dataframe\">\n",
       "<caption>A data.frame: 3 × 2</caption>\n",
       "<thead>\n",
       "\t<tr><th scope=col>meses</th><th scope=col>objetivos</th></tr>\n",
       "\t<tr><th scope=col>&lt;chr&gt;</th><th scope=col>&lt;lgl&gt;</th></tr>\n",
       "</thead>\n",
       "<tbody>\n",
       "\t<tr><td>Enero  </td><td> TRUE</td></tr>\n",
       "\t<tr><td>Febrero</td><td> TRUE</td></tr>\n",
       "\t<tr><td>Marzo  </td><td>FALSE</td></tr>\n",
       "</tbody>\n",
       "</table>\n"
      ],
      "text/latex": [
       "A data.frame: 3 × 2\n",
       "\\begin{tabular}{ll}\n",
       " meses & objetivos\\\\\n",
       " <chr> & <lgl>\\\\\n",
       "\\hline\n",
       "\t Enero   &  TRUE\\\\\n",
       "\t Febrero &  TRUE\\\\\n",
       "\t Marzo   & FALSE\\\\\n",
       "\\end{tabular}\n"
      ],
      "text/markdown": [
       "\n",
       "A data.frame: 3 × 2\n",
       "\n",
       "| meses &lt;chr&gt; | objetivos &lt;lgl&gt; |\n",
       "|---|---|\n",
       "| Enero   |  TRUE |\n",
       "| Febrero |  TRUE |\n",
       "| Marzo   | FALSE |\n",
       "\n"
      ],
      "text/plain": [
       "  meses   objetivos\n",
       "1 Enero    TRUE    \n",
       "2 Febrero  TRUE    \n",
       "3 Marzo   FALSE    "
      ]
     },
     "metadata": {},
     "output_type": "display_data"
    }
   ],
   "source": [
    "# Extracción de las columnas 1 y 3:\n",
    "df[,c('meses','objetivos')]"
   ]
  },
  {
   "attachments": {},
   "cell_type": "markdown",
   "metadata": {},
   "source": [
    "### Extracción de renglones"
   ]
  },
  {
   "cell_type": "code",
   "execution_count": 19,
   "metadata": {
    "vscode": {
     "languageId": "r"
    }
   },
   "outputs": [
    {
     "data": {
      "text/html": [
       "<table class=\"dataframe\">\n",
       "<caption>A data.frame: 3 × 3</caption>\n",
       "<thead>\n",
       "\t<tr><th scope=col>meses</th><th scope=col>ventas</th><th scope=col>objetivos</th></tr>\n",
       "\t<tr><th scope=col>&lt;chr&gt;</th><th scope=col>&lt;dbl&gt;</th><th scope=col>&lt;lgl&gt;</th></tr>\n",
       "</thead>\n",
       "<tbody>\n",
       "\t<tr><td>Enero  </td><td>100</td><td> TRUE</td></tr>\n",
       "\t<tr><td>Febrero</td><td>120</td><td> TRUE</td></tr>\n",
       "\t<tr><td>Marzo  </td><td> 80</td><td>FALSE</td></tr>\n",
       "</tbody>\n",
       "</table>\n"
      ],
      "text/latex": [
       "A data.frame: 3 × 3\n",
       "\\begin{tabular}{lll}\n",
       " meses & ventas & objetivos\\\\\n",
       " <chr> & <dbl> & <lgl>\\\\\n",
       "\\hline\n",
       "\t Enero   & 100 &  TRUE\\\\\n",
       "\t Febrero & 120 &  TRUE\\\\\n",
       "\t Marzo   &  80 & FALSE\\\\\n",
       "\\end{tabular}\n"
      ],
      "text/markdown": [
       "\n",
       "A data.frame: 3 × 3\n",
       "\n",
       "| meses &lt;chr&gt; | ventas &lt;dbl&gt; | objetivos &lt;lgl&gt; |\n",
       "|---|---|---|\n",
       "| Enero   | 100 |  TRUE |\n",
       "| Febrero | 120 |  TRUE |\n",
       "| Marzo   |  80 | FALSE |\n",
       "\n"
      ],
      "text/plain": [
       "  meses   ventas objetivos\n",
       "1 Enero   100     TRUE    \n",
       "2 Febrero 120     TRUE    \n",
       "3 Marzo    80    FALSE    "
      ]
     },
     "metadata": {},
     "output_type": "display_data"
    }
   ],
   "source": [
    "df"
   ]
  },
  {
   "cell_type": "code",
   "execution_count": 20,
   "metadata": {
    "vscode": {
     "languageId": "r"
    }
   },
   "outputs": [
    {
     "data": {
      "text/html": [
       "<table class=\"dataframe\">\n",
       "<caption>A data.frame: 1 × 3</caption>\n",
       "<thead>\n",
       "\t<tr><th></th><th scope=col>meses</th><th scope=col>ventas</th><th scope=col>objetivos</th></tr>\n",
       "\t<tr><th></th><th scope=col>&lt;chr&gt;</th><th scope=col>&lt;dbl&gt;</th><th scope=col>&lt;lgl&gt;</th></tr>\n",
       "</thead>\n",
       "<tbody>\n",
       "\t<tr><th scope=row>1</th><td>Enero</td><td>100</td><td>TRUE</td></tr>\n",
       "</tbody>\n",
       "</table>\n"
      ],
      "text/latex": [
       "A data.frame: 1 × 3\n",
       "\\begin{tabular}{r|lll}\n",
       "  & meses & ventas & objetivos\\\\\n",
       "  & <chr> & <dbl> & <lgl>\\\\\n",
       "\\hline\n",
       "\t1 & Enero & 100 & TRUE\\\\\n",
       "\\end{tabular}\n"
      ],
      "text/markdown": [
       "\n",
       "A data.frame: 1 × 3\n",
       "\n",
       "| <!--/--> | meses &lt;chr&gt; | ventas &lt;dbl&gt; | objetivos &lt;lgl&gt; |\n",
       "|---|---|---|---|\n",
       "| 1 | Enero | 100 | TRUE |\n",
       "\n"
      ],
      "text/plain": [
       "  meses ventas objetivos\n",
       "1 Enero 100    TRUE     "
      ]
     },
     "metadata": {},
     "output_type": "display_data"
    }
   ],
   "source": [
    "df[1,]"
   ]
  },
  {
   "cell_type": "code",
   "execution_count": 21,
   "metadata": {
    "vscode": {
     "languageId": "r"
    }
   },
   "outputs": [
    {
     "data": {
      "text/html": [
       "<table class=\"dataframe\">\n",
       "<caption>A data.frame: 1 × 3</caption>\n",
       "<thead>\n",
       "\t<tr><th></th><th scope=col>meses</th><th scope=col>ventas</th><th scope=col>objetivos</th></tr>\n",
       "\t<tr><th></th><th scope=col>&lt;chr&gt;</th><th scope=col>&lt;dbl&gt;</th><th scope=col>&lt;lgl&gt;</th></tr>\n",
       "</thead>\n",
       "<tbody>\n",
       "\t<tr><th scope=row>1</th><td>Enero</td><td>100</td><td>TRUE</td></tr>\n",
       "</tbody>\n",
       "</table>\n"
      ],
      "text/latex": [
       "A data.frame: 1 × 3\n",
       "\\begin{tabular}{r|lll}\n",
       "  & meses & ventas & objetivos\\\\\n",
       "  & <chr> & <dbl> & <lgl>\\\\\n",
       "\\hline\n",
       "\t1 & Enero & 100 & TRUE\\\\\n",
       "\\end{tabular}\n"
      ],
      "text/markdown": [
       "\n",
       "A data.frame: 1 × 3\n",
       "\n",
       "| <!--/--> | meses &lt;chr&gt; | ventas &lt;dbl&gt; | objetivos &lt;lgl&gt; |\n",
       "|---|---|---|---|\n",
       "| 1 | Enero | 100 | TRUE |\n",
       "\n"
      ],
      "text/plain": [
       "  meses ventas objetivos\n",
       "1 Enero 100    TRUE     "
      ]
     },
     "metadata": {},
     "output_type": "display_data"
    }
   ],
   "source": [
    "df[c(1),]"
   ]
  },
  {
   "cell_type": "code",
   "execution_count": 22,
   "metadata": {
    "vscode": {
     "languageId": "r"
    }
   },
   "outputs": [
    {
     "data": {
      "text/html": [
       "<table class=\"dataframe\">\n",
       "<caption>A data.frame: 2 × 3</caption>\n",
       "<thead>\n",
       "\t<tr><th></th><th scope=col>meses</th><th scope=col>ventas</th><th scope=col>objetivos</th></tr>\n",
       "\t<tr><th></th><th scope=col>&lt;chr&gt;</th><th scope=col>&lt;dbl&gt;</th><th scope=col>&lt;lgl&gt;</th></tr>\n",
       "</thead>\n",
       "<tbody>\n",
       "\t<tr><th scope=row>1</th><td>Enero</td><td>100</td><td> TRUE</td></tr>\n",
       "\t<tr><th scope=row>3</th><td>Marzo</td><td> 80</td><td>FALSE</td></tr>\n",
       "</tbody>\n",
       "</table>\n"
      ],
      "text/latex": [
       "A data.frame: 2 × 3\n",
       "\\begin{tabular}{r|lll}\n",
       "  & meses & ventas & objetivos\\\\\n",
       "  & <chr> & <dbl> & <lgl>\\\\\n",
       "\\hline\n",
       "\t1 & Enero & 100 &  TRUE\\\\\n",
       "\t3 & Marzo &  80 & FALSE\\\\\n",
       "\\end{tabular}\n"
      ],
      "text/markdown": [
       "\n",
       "A data.frame: 2 × 3\n",
       "\n",
       "| <!--/--> | meses &lt;chr&gt; | ventas &lt;dbl&gt; | objetivos &lt;lgl&gt; |\n",
       "|---|---|---|---|\n",
       "| 1 | Enero | 100 |  TRUE |\n",
       "| 3 | Marzo |  80 | FALSE |\n",
       "\n"
      ],
      "text/plain": [
       "  meses ventas objetivos\n",
       "1 Enero 100     TRUE    \n",
       "3 Marzo  80    FALSE    "
      ]
     },
     "metadata": {},
     "output_type": "display_data"
    }
   ],
   "source": [
    "df[c(1,3),]"
   ]
  },
  {
   "attachments": {},
   "cell_type": "markdown",
   "metadata": {},
   "source": [
    "### Extracción de renglones y columnas específicas"
   ]
  },
  {
   "cell_type": "code",
   "execution_count": 23,
   "metadata": {
    "vscode": {
     "languageId": "r"
    }
   },
   "outputs": [
    {
     "data": {
      "text/html": [
       "<table class=\"dataframe\">\n",
       "<caption>A data.frame: 3 × 3</caption>\n",
       "<thead>\n",
       "\t<tr><th scope=col>meses</th><th scope=col>ventas</th><th scope=col>objetivos</th></tr>\n",
       "\t<tr><th scope=col>&lt;chr&gt;</th><th scope=col>&lt;dbl&gt;</th><th scope=col>&lt;lgl&gt;</th></tr>\n",
       "</thead>\n",
       "<tbody>\n",
       "\t<tr><td>Enero  </td><td>100</td><td> TRUE</td></tr>\n",
       "\t<tr><td>Febrero</td><td>120</td><td> TRUE</td></tr>\n",
       "\t<tr><td>Marzo  </td><td> 80</td><td>FALSE</td></tr>\n",
       "</tbody>\n",
       "</table>\n"
      ],
      "text/latex": [
       "A data.frame: 3 × 3\n",
       "\\begin{tabular}{lll}\n",
       " meses & ventas & objetivos\\\\\n",
       " <chr> & <dbl> & <lgl>\\\\\n",
       "\\hline\n",
       "\t Enero   & 100 &  TRUE\\\\\n",
       "\t Febrero & 120 &  TRUE\\\\\n",
       "\t Marzo   &  80 & FALSE\\\\\n",
       "\\end{tabular}\n"
      ],
      "text/markdown": [
       "\n",
       "A data.frame: 3 × 3\n",
       "\n",
       "| meses &lt;chr&gt; | ventas &lt;dbl&gt; | objetivos &lt;lgl&gt; |\n",
       "|---|---|---|\n",
       "| Enero   | 100 |  TRUE |\n",
       "| Febrero | 120 |  TRUE |\n",
       "| Marzo   |  80 | FALSE |\n",
       "\n"
      ],
      "text/plain": [
       "  meses   ventas objetivos\n",
       "1 Enero   100     TRUE    \n",
       "2 Febrero 120     TRUE    \n",
       "3 Marzo    80    FALSE    "
      ]
     },
     "metadata": {},
     "output_type": "display_data"
    }
   ],
   "source": [
    "df"
   ]
  },
  {
   "cell_type": "code",
   "execution_count": 24,
   "metadata": {
    "vscode": {
     "languageId": "r"
    }
   },
   "outputs": [
    {
     "data": {
      "text/html": [
       "<table class=\"dataframe\">\n",
       "<caption>A data.frame: 2 × 2</caption>\n",
       "<thead>\n",
       "\t<tr><th></th><th scope=col>meses</th><th scope=col>ventas</th></tr>\n",
       "\t<tr><th></th><th scope=col>&lt;chr&gt;</th><th scope=col>&lt;dbl&gt;</th></tr>\n",
       "</thead>\n",
       "<tbody>\n",
       "\t<tr><th scope=row>1</th><td>Enero</td><td>100</td></tr>\n",
       "\t<tr><th scope=row>3</th><td>Marzo</td><td> 80</td></tr>\n",
       "</tbody>\n",
       "</table>\n"
      ],
      "text/latex": [
       "A data.frame: 2 × 2\n",
       "\\begin{tabular}{r|ll}\n",
       "  & meses & ventas\\\\\n",
       "  & <chr> & <dbl>\\\\\n",
       "\\hline\n",
       "\t1 & Enero & 100\\\\\n",
       "\t3 & Marzo &  80\\\\\n",
       "\\end{tabular}\n"
      ],
      "text/markdown": [
       "\n",
       "A data.frame: 2 × 2\n",
       "\n",
       "| <!--/--> | meses &lt;chr&gt; | ventas &lt;dbl&gt; |\n",
       "|---|---|---|\n",
       "| 1 | Enero | 100 |\n",
       "| 3 | Marzo |  80 |\n",
       "\n"
      ],
      "text/plain": [
       "  meses ventas\n",
       "1 Enero 100   \n",
       "3 Marzo  80   "
      ]
     },
     "metadata": {},
     "output_type": "display_data"
    }
   ],
   "source": [
    "df[c(1,3),c(1,2)]"
   ]
  },
  {
   "cell_type": "code",
   "execution_count": 25,
   "metadata": {
    "vscode": {
     "languageId": "r"
    }
   },
   "outputs": [
    {
     "data": {
      "text/html": [
       "<table class=\"dataframe\">\n",
       "<caption>A data.frame: 2 × 2</caption>\n",
       "<thead>\n",
       "\t<tr><th></th><th scope=col>meses</th><th scope=col>ventas</th></tr>\n",
       "\t<tr><th></th><th scope=col>&lt;chr&gt;</th><th scope=col>&lt;dbl&gt;</th></tr>\n",
       "</thead>\n",
       "<tbody>\n",
       "\t<tr><th scope=row>1</th><td>Enero</td><td>100</td></tr>\n",
       "\t<tr><th scope=row>3</th><td>Marzo</td><td> 80</td></tr>\n",
       "</tbody>\n",
       "</table>\n"
      ],
      "text/latex": [
       "A data.frame: 2 × 2\n",
       "\\begin{tabular}{r|ll}\n",
       "  & meses & ventas\\\\\n",
       "  & <chr> & <dbl>\\\\\n",
       "\\hline\n",
       "\t1 & Enero & 100\\\\\n",
       "\t3 & Marzo &  80\\\\\n",
       "\\end{tabular}\n"
      ],
      "text/markdown": [
       "\n",
       "A data.frame: 2 × 2\n",
       "\n",
       "| <!--/--> | meses &lt;chr&gt; | ventas &lt;dbl&gt; |\n",
       "|---|---|---|\n",
       "| 1 | Enero | 100 |\n",
       "| 3 | Marzo |  80 |\n",
       "\n"
      ],
      "text/plain": [
       "  meses ventas\n",
       "1 Enero 100   \n",
       "3 Marzo  80   "
      ]
     },
     "metadata": {},
     "output_type": "display_data"
    }
   ],
   "source": [
    "df[c(1,3),c('meses','ventas')]"
   ]
  },
  {
   "cell_type": "code",
   "execution_count": 26,
   "metadata": {
    "vscode": {
     "languageId": "r"
    }
   },
   "outputs": [
    {
     "data": {
      "text/html": [
       "<style>\n",
       ".list-inline {list-style: none; margin:0; padding: 0}\n",
       ".list-inline>li {display: inline-block}\n",
       ".list-inline>li:not(:last-child)::after {content: \"\\00b7\"; padding: 0 .5ex}\n",
       "</style>\n",
       "<ol class=list-inline><li>100</li><li>80</li></ol>\n"
      ],
      "text/latex": [
       "\\begin{enumerate*}\n",
       "\\item 100\n",
       "\\item 80\n",
       "\\end{enumerate*}\n"
      ],
      "text/markdown": [
       "1. 100\n",
       "2. 80\n",
       "\n",
       "\n"
      ],
      "text/plain": [
       "[1] 100  80"
      ]
     },
     "metadata": {},
     "output_type": "display_data"
    }
   ],
   "source": [
    "df[c(1,3),2]"
   ]
  },
  {
   "cell_type": "code",
   "execution_count": 28,
   "metadata": {
    "vscode": {
     "languageId": "r"
    }
   },
   "outputs": [
    {
     "data": {
      "text/html": [
       "<style>\n",
       ".list-inline {list-style: none; margin:0; padding: 0}\n",
       ".list-inline>li {display: inline-block}\n",
       ".list-inline>li:not(:last-child)::after {content: \"\\00b7\"; padding: 0 .5ex}\n",
       "</style>\n",
       "<ol class=list-inline><li>5000</li><li>4000</li></ol>\n"
      ],
      "text/latex": [
       "\\begin{enumerate*}\n",
       "\\item 5000\n",
       "\\item 4000\n",
       "\\end{enumerate*}\n"
      ],
      "text/markdown": [
       "1. 5000\n",
       "2. 4000\n",
       "\n",
       "\n"
      ],
      "text/plain": [
       "[1] 5000 4000"
      ]
     },
     "metadata": {},
     "output_type": "display_data"
    }
   ],
   "source": [
    "50*df[c(1,3),2]"
   ]
  },
  {
   "attachments": {},
   "cell_type": "markdown",
   "metadata": {},
   "source": [
    "## Extracción de información por filtros"
   ]
  },
  {
   "cell_type": "code",
   "execution_count": 29,
   "metadata": {
    "vscode": {
     "languageId": "r"
    }
   },
   "outputs": [
    {
     "data": {
      "text/html": [
       "<table class=\"dataframe\">\n",
       "<caption>A data.frame: 3 × 3</caption>\n",
       "<thead>\n",
       "\t<tr><th scope=col>meses</th><th scope=col>ventas</th><th scope=col>objetivos</th></tr>\n",
       "\t<tr><th scope=col>&lt;chr&gt;</th><th scope=col>&lt;dbl&gt;</th><th scope=col>&lt;lgl&gt;</th></tr>\n",
       "</thead>\n",
       "<tbody>\n",
       "\t<tr><td>Enero  </td><td>100</td><td> TRUE</td></tr>\n",
       "\t<tr><td>Febrero</td><td>120</td><td> TRUE</td></tr>\n",
       "\t<tr><td>Marzo  </td><td> 80</td><td>FALSE</td></tr>\n",
       "</tbody>\n",
       "</table>\n"
      ],
      "text/latex": [
       "A data.frame: 3 × 3\n",
       "\\begin{tabular}{lll}\n",
       " meses & ventas & objetivos\\\\\n",
       " <chr> & <dbl> & <lgl>\\\\\n",
       "\\hline\n",
       "\t Enero   & 100 &  TRUE\\\\\n",
       "\t Febrero & 120 &  TRUE\\\\\n",
       "\t Marzo   &  80 & FALSE\\\\\n",
       "\\end{tabular}\n"
      ],
      "text/markdown": [
       "\n",
       "A data.frame: 3 × 3\n",
       "\n",
       "| meses &lt;chr&gt; | ventas &lt;dbl&gt; | objetivos &lt;lgl&gt; |\n",
       "|---|---|---|\n",
       "| Enero   | 100 |  TRUE |\n",
       "| Febrero | 120 |  TRUE |\n",
       "| Marzo   |  80 | FALSE |\n",
       "\n"
      ],
      "text/plain": [
       "  meses   ventas objetivos\n",
       "1 Enero   100     TRUE    \n",
       "2 Febrero 120     TRUE    \n",
       "3 Marzo    80    FALSE    "
      ]
     },
     "metadata": {},
     "output_type": "display_data"
    }
   ],
   "source": [
    "df"
   ]
  },
  {
   "cell_type": "code",
   "execution_count": 32,
   "metadata": {
    "vscode": {
     "languageId": "r"
    }
   },
   "outputs": [
    {
     "data": {
      "text/html": [
       "<style>\n",
       ".list-inline {list-style: none; margin:0; padding: 0}\n",
       ".list-inline>li {display: inline-block}\n",
       ".list-inline>li:not(:last-child)::after {content: \"\\00b7\"; padding: 0 .5ex}\n",
       "</style>\n",
       "<ol class=list-inline><li>100</li><li>120</li><li>80</li></ol>\n"
      ],
      "text/latex": [
       "\\begin{enumerate*}\n",
       "\\item 100\n",
       "\\item 120\n",
       "\\item 80\n",
       "\\end{enumerate*}\n"
      ],
      "text/markdown": [
       "1. 100\n",
       "2. 120\n",
       "3. 80\n",
       "\n",
       "\n"
      ],
      "text/plain": [
       "[1] 100 120  80"
      ]
     },
     "metadata": {},
     "output_type": "display_data"
    }
   ],
   "source": [
    "ventas"
   ]
  },
  {
   "cell_type": "code",
   "execution_count": 30,
   "metadata": {
    "vscode": {
     "languageId": "r"
    }
   },
   "outputs": [
    {
     "data": {
      "text/html": [
       "<table class=\"dataframe\">\n",
       "<caption>A data.frame: 2 × 3</caption>\n",
       "<thead>\n",
       "\t<tr><th></th><th scope=col>meses</th><th scope=col>ventas</th><th scope=col>objetivos</th></tr>\n",
       "\t<tr><th></th><th scope=col>&lt;chr&gt;</th><th scope=col>&lt;dbl&gt;</th><th scope=col>&lt;lgl&gt;</th></tr>\n",
       "</thead>\n",
       "<tbody>\n",
       "\t<tr><th scope=row>1</th><td>Enero  </td><td>100</td><td>TRUE</td></tr>\n",
       "\t<tr><th scope=row>2</th><td>Febrero</td><td>120</td><td>TRUE</td></tr>\n",
       "</tbody>\n",
       "</table>\n"
      ],
      "text/latex": [
       "A data.frame: 2 × 3\n",
       "\\begin{tabular}{r|lll}\n",
       "  & meses & ventas & objetivos\\\\\n",
       "  & <chr> & <dbl> & <lgl>\\\\\n",
       "\\hline\n",
       "\t1 & Enero   & 100 & TRUE\\\\\n",
       "\t2 & Febrero & 120 & TRUE\\\\\n",
       "\\end{tabular}\n"
      ],
      "text/markdown": [
       "\n",
       "A data.frame: 2 × 3\n",
       "\n",
       "| <!--/--> | meses &lt;chr&gt; | ventas &lt;dbl&gt; | objetivos &lt;lgl&gt; |\n",
       "|---|---|---|---|\n",
       "| 1 | Enero   | 100 | TRUE |\n",
       "| 2 | Febrero | 120 | TRUE |\n",
       "\n"
      ],
      "text/plain": [
       "  meses   ventas objetivos\n",
       "1 Enero   100    TRUE     \n",
       "2 Febrero 120    TRUE     "
      ]
     },
     "metadata": {},
     "output_type": "display_data"
    }
   ],
   "source": [
    "# Extraer todos los registros del DataFrame dónde \"ventas >= 100\"\n",
    "filtro1 <- (ventas >= 100)\n",
    "subset(df, subset = filtro1 )"
   ]
  },
  {
   "cell_type": "code",
   "execution_count": 33,
   "metadata": {
    "vscode": {
     "languageId": "r"
    }
   },
   "outputs": [
    {
     "data": {
      "text/html": [
       "<style>\n",
       ".list-inline {list-style: none; margin:0; padding: 0}\n",
       ".list-inline>li {display: inline-block}\n",
       ".list-inline>li:not(:last-child)::after {content: \"\\00b7\"; padding: 0 .5ex}\n",
       "</style>\n",
       "<ol class=list-inline><li>'Enero'</li><li>'Febrero'</li></ol>\n"
      ],
      "text/latex": [
       "\\begin{enumerate*}\n",
       "\\item 'Enero'\n",
       "\\item 'Febrero'\n",
       "\\end{enumerate*}\n"
      ],
      "text/markdown": [
       "1. 'Enero'\n",
       "2. 'Febrero'\n",
       "\n",
       "\n"
      ],
      "text/plain": [
       "[1] \"Enero\"   \"Febrero\""
      ]
     },
     "metadata": {},
     "output_type": "display_data"
    }
   ],
   "source": [
    "# Extraer los meses del DataFrame dónde \"ventas >= 100\"\n",
    "subset(df[,1], subset = filtro1 )"
   ]
  },
  {
   "cell_type": "code",
   "execution_count": 34,
   "metadata": {
    "vscode": {
     "languageId": "r"
    }
   },
   "outputs": [
    {
     "data": {
      "text/html": [
       "<style>\n",
       ".list-inline {list-style: none; margin:0; padding: 0}\n",
       ".list-inline>li {display: inline-block}\n",
       ".list-inline>li:not(:last-child)::after {content: \"\\00b7\"; padding: 0 .5ex}\n",
       "</style>\n",
       "<ol class=list-inline><li>'Enero'</li><li>'Febrero'</li></ol>\n"
      ],
      "text/latex": [
       "\\begin{enumerate*}\n",
       "\\item 'Enero'\n",
       "\\item 'Febrero'\n",
       "\\end{enumerate*}\n"
      ],
      "text/markdown": [
       "1. 'Enero'\n",
       "2. 'Febrero'\n",
       "\n",
       "\n"
      ],
      "text/plain": [
       "[1] \"Enero\"   \"Febrero\""
      ]
     },
     "metadata": {},
     "output_type": "display_data"
    }
   ],
   "source": [
    "# Extraer los meses del DataFrame dónde \"ventas >= 100\"\n",
    "subset(df[,'meses'], subset = filtro1 )"
   ]
  },
  {
   "cell_type": "code",
   "execution_count": 35,
   "metadata": {
    "vscode": {
     "languageId": "r"
    }
   },
   "outputs": [
    {
     "data": {
      "text/html": [
       "<table class=\"dataframe\">\n",
       "<caption>A data.frame: 2 × 2</caption>\n",
       "<thead>\n",
       "\t<tr><th></th><th scope=col>meses</th><th scope=col>objetivos</th></tr>\n",
       "\t<tr><th></th><th scope=col>&lt;chr&gt;</th><th scope=col>&lt;lgl&gt;</th></tr>\n",
       "</thead>\n",
       "<tbody>\n",
       "\t<tr><th scope=row>1</th><td>Enero  </td><td>TRUE</td></tr>\n",
       "\t<tr><th scope=row>2</th><td>Febrero</td><td>TRUE</td></tr>\n",
       "</tbody>\n",
       "</table>\n"
      ],
      "text/latex": [
       "A data.frame: 2 × 2\n",
       "\\begin{tabular}{r|ll}\n",
       "  & meses & objetivos\\\\\n",
       "  & <chr> & <lgl>\\\\\n",
       "\\hline\n",
       "\t1 & Enero   & TRUE\\\\\n",
       "\t2 & Febrero & TRUE\\\\\n",
       "\\end{tabular}\n"
      ],
      "text/markdown": [
       "\n",
       "A data.frame: 2 × 2\n",
       "\n",
       "| <!--/--> | meses &lt;chr&gt; | objetivos &lt;lgl&gt; |\n",
       "|---|---|---|\n",
       "| 1 | Enero   | TRUE |\n",
       "| 2 | Febrero | TRUE |\n",
       "\n"
      ],
      "text/plain": [
       "  meses   objetivos\n",
       "1 Enero   TRUE     \n",
       "2 Febrero TRUE     "
      ]
     },
     "metadata": {},
     "output_type": "display_data"
    }
   ],
   "source": [
    "# Extraer los meses y objetivos del DataFrame dónde \"ventas >= 100\"\n",
    "subset(df[,c('meses','objetivos')], subset = filtro1 )"
   ]
  },
  {
   "cell_type": "code",
   "execution_count": 36,
   "metadata": {
    "vscode": {
     "languageId": "r"
    }
   },
   "outputs": [
    {
     "data": {
      "text/html": [
       "<table class=\"dataframe\">\n",
       "<caption>A data.frame: 2 × 2</caption>\n",
       "<thead>\n",
       "\t<tr><th></th><th scope=col>meses</th><th scope=col>objetivos</th></tr>\n",
       "\t<tr><th></th><th scope=col>&lt;chr&gt;</th><th scope=col>&lt;lgl&gt;</th></tr>\n",
       "</thead>\n",
       "<tbody>\n",
       "\t<tr><th scope=row>1</th><td>Enero  </td><td>TRUE</td></tr>\n",
       "\t<tr><th scope=row>2</th><td>Febrero</td><td>TRUE</td></tr>\n",
       "</tbody>\n",
       "</table>\n"
      ],
      "text/latex": [
       "A data.frame: 2 × 2\n",
       "\\begin{tabular}{r|ll}\n",
       "  & meses & objetivos\\\\\n",
       "  & <chr> & <lgl>\\\\\n",
       "\\hline\n",
       "\t1 & Enero   & TRUE\\\\\n",
       "\t2 & Febrero & TRUE\\\\\n",
       "\\end{tabular}\n"
      ],
      "text/markdown": [
       "\n",
       "A data.frame: 2 × 2\n",
       "\n",
       "| <!--/--> | meses &lt;chr&gt; | objetivos &lt;lgl&gt; |\n",
       "|---|---|---|\n",
       "| 1 | Enero   | TRUE |\n",
       "| 2 | Febrero | TRUE |\n",
       "\n"
      ],
      "text/plain": [
       "  meses   objetivos\n",
       "1 Enero   TRUE     \n",
       "2 Febrero TRUE     "
      ]
     },
     "metadata": {},
     "output_type": "display_data"
    }
   ],
   "source": [
    "# Extraer los meses y objetivos del DataFrame dónde \"ventas >= 100\"\n",
    "subset(df[,c(1,3)], subset = filtro1 )"
   ]
  },
  {
   "cell_type": "code",
   "execution_count": 37,
   "metadata": {
    "vscode": {
     "languageId": "r"
    }
   },
   "outputs": [
    {
     "data": {
      "text/html": [
       "<table class=\"dataframe\">\n",
       "<caption>A data.frame: 1 × 3</caption>\n",
       "<thead>\n",
       "\t<tr><th></th><th scope=col>meses</th><th scope=col>ventas</th><th scope=col>objetivos</th></tr>\n",
       "\t<tr><th></th><th scope=col>&lt;chr&gt;</th><th scope=col>&lt;dbl&gt;</th><th scope=col>&lt;lgl&gt;</th></tr>\n",
       "</thead>\n",
       "<tbody>\n",
       "\t<tr><th scope=row>3</th><td>Marzo</td><td>80</td><td>FALSE</td></tr>\n",
       "</tbody>\n",
       "</table>\n"
      ],
      "text/latex": [
       "A data.frame: 1 × 3\n",
       "\\begin{tabular}{r|lll}\n",
       "  & meses & ventas & objetivos\\\\\n",
       "  & <chr> & <dbl> & <lgl>\\\\\n",
       "\\hline\n",
       "\t3 & Marzo & 80 & FALSE\\\\\n",
       "\\end{tabular}\n"
      ],
      "text/markdown": [
       "\n",
       "A data.frame: 1 × 3\n",
       "\n",
       "| <!--/--> | meses &lt;chr&gt; | ventas &lt;dbl&gt; | objetivos &lt;lgl&gt; |\n",
       "|---|---|---|---|\n",
       "| 3 | Marzo | 80 | FALSE |\n",
       "\n"
      ],
      "text/plain": [
       "  meses ventas objetivos\n",
       "3 Marzo 80     FALSE    "
      ]
     },
     "metadata": {},
     "output_type": "display_data"
    }
   ],
   "source": [
    "# Extraer los meses y objetivos del DataFrame dónde \"ventas < 100\"\n",
    "subset(df, subset = (ventas < 100) )"
   ]
  },
  {
   "attachments": {},
   "cell_type": "markdown",
   "metadata": {},
   "source": [
    "## Ordenamiento por columnas"
   ]
  },
  {
   "cell_type": "code",
   "execution_count": 38,
   "metadata": {
    "vscode": {
     "languageId": "r"
    }
   },
   "outputs": [
    {
     "data": {
      "text/html": [
       "<table class=\"dataframe\">\n",
       "<caption>A data.frame: 3 × 3</caption>\n",
       "<thead>\n",
       "\t<tr><th scope=col>meses</th><th scope=col>ventas</th><th scope=col>objetivos</th></tr>\n",
       "\t<tr><th scope=col>&lt;chr&gt;</th><th scope=col>&lt;dbl&gt;</th><th scope=col>&lt;lgl&gt;</th></tr>\n",
       "</thead>\n",
       "<tbody>\n",
       "\t<tr><td>Enero  </td><td>100</td><td> TRUE</td></tr>\n",
       "\t<tr><td>Febrero</td><td>120</td><td> TRUE</td></tr>\n",
       "\t<tr><td>Marzo  </td><td> 80</td><td>FALSE</td></tr>\n",
       "</tbody>\n",
       "</table>\n"
      ],
      "text/latex": [
       "A data.frame: 3 × 3\n",
       "\\begin{tabular}{lll}\n",
       " meses & ventas & objetivos\\\\\n",
       " <chr> & <dbl> & <lgl>\\\\\n",
       "\\hline\n",
       "\t Enero   & 100 &  TRUE\\\\\n",
       "\t Febrero & 120 &  TRUE\\\\\n",
       "\t Marzo   &  80 & FALSE\\\\\n",
       "\\end{tabular}\n"
      ],
      "text/markdown": [
       "\n",
       "A data.frame: 3 × 3\n",
       "\n",
       "| meses &lt;chr&gt; | ventas &lt;dbl&gt; | objetivos &lt;lgl&gt; |\n",
       "|---|---|---|\n",
       "| Enero   | 100 |  TRUE |\n",
       "| Febrero | 120 |  TRUE |\n",
       "| Marzo   |  80 | FALSE |\n",
       "\n"
      ],
      "text/plain": [
       "  meses   ventas objetivos\n",
       "1 Enero   100     TRUE    \n",
       "2 Febrero 120     TRUE    \n",
       "3 Marzo    80    FALSE    "
      ]
     },
     "metadata": {},
     "output_type": "display_data"
    }
   ],
   "source": [
    "df"
   ]
  },
  {
   "cell_type": "code",
   "execution_count": 39,
   "metadata": {
    "vscode": {
     "languageId": "r"
    }
   },
   "outputs": [
    {
     "data": {
      "text/html": [
       "<style>\n",
       ".list-inline {list-style: none; margin:0; padding: 0}\n",
       ".list-inline>li {display: inline-block}\n",
       ".list-inline>li:not(:last-child)::after {content: \"\\00b7\"; padding: 0 .5ex}\n",
       "</style>\n",
       "<ol class=list-inline><li>3</li><li>1</li><li>2</li></ol>\n"
      ],
      "text/latex": [
       "\\begin{enumerate*}\n",
       "\\item 3\n",
       "\\item 1\n",
       "\\item 2\n",
       "\\end{enumerate*}\n"
      ],
      "text/markdown": [
       "1. 3\n",
       "2. 1\n",
       "3. 2\n",
       "\n",
       "\n"
      ],
      "text/plain": [
       "[1] 3 1 2"
      ]
     },
     "metadata": {},
     "output_type": "display_data"
    }
   ],
   "source": [
    "# Muestra los índices en orden ascendente con respecto a la columna 2:\n",
    "order(df[,2])"
   ]
  },
  {
   "cell_type": "code",
   "execution_count": 40,
   "metadata": {
    "vscode": {
     "languageId": "r"
    }
   },
   "outputs": [
    {
     "data": {
      "text/html": [
       "<style>\n",
       ".list-inline {list-style: none; margin:0; padding: 0}\n",
       ".list-inline>li {display: inline-block}\n",
       ".list-inline>li:not(:last-child)::after {content: \"\\00b7\"; padding: 0 .5ex}\n",
       "</style>\n",
       "<ol class=list-inline><li>3</li><li>1</li><li>2</li></ol>\n"
      ],
      "text/latex": [
       "\\begin{enumerate*}\n",
       "\\item 3\n",
       "\\item 1\n",
       "\\item 2\n",
       "\\end{enumerate*}\n"
      ],
      "text/markdown": [
       "1. 3\n",
       "2. 1\n",
       "3. 2\n",
       "\n",
       "\n"
      ],
      "text/plain": [
       "[1] 3 1 2"
      ]
     },
     "metadata": {},
     "output_type": "display_data"
    }
   ],
   "source": [
    "# Muestra los índices en orden ascendente con respecto a la columna 2:\n",
    "order(df[,'ventas'])"
   ]
  },
  {
   "cell_type": "code",
   "execution_count": 41,
   "metadata": {
    "vscode": {
     "languageId": "r"
    }
   },
   "outputs": [
    {
     "data": {
      "text/html": [
       "<style>\n",
       ".list-inline {list-style: none; margin:0; padding: 0}\n",
       ".list-inline>li {display: inline-block}\n",
       ".list-inline>li:not(:last-child)::after {content: \"\\00b7\"; padding: 0 .5ex}\n",
       "</style>\n",
       "<ol class=list-inline><li>3</li><li>1</li><li>2</li></ol>\n"
      ],
      "text/latex": [
       "\\begin{enumerate*}\n",
       "\\item 3\n",
       "\\item 1\n",
       "\\item 2\n",
       "\\end{enumerate*}\n"
      ],
      "text/markdown": [
       "1. 3\n",
       "2. 1\n",
       "3. 2\n",
       "\n",
       "\n"
      ],
      "text/plain": [
       "[1] 3 1 2"
      ]
     },
     "metadata": {},
     "output_type": "display_data"
    }
   ],
   "source": [
    "# Muestra los índices en orden ascendente con respecto a la columna 2:\n",
    "order(df$ventas)"
   ]
  },
  {
   "cell_type": "code",
   "execution_count": 42,
   "metadata": {
    "vscode": {
     "languageId": "r"
    }
   },
   "outputs": [
    {
     "data": {
      "text/html": [
       "<table class=\"dataframe\">\n",
       "<caption>A data.frame: 3 × 3</caption>\n",
       "<thead>\n",
       "\t<tr><th></th><th scope=col>meses</th><th scope=col>ventas</th><th scope=col>objetivos</th></tr>\n",
       "\t<tr><th></th><th scope=col>&lt;chr&gt;</th><th scope=col>&lt;dbl&gt;</th><th scope=col>&lt;lgl&gt;</th></tr>\n",
       "</thead>\n",
       "<tbody>\n",
       "\t<tr><th scope=row>3</th><td>Marzo  </td><td> 80</td><td>FALSE</td></tr>\n",
       "\t<tr><th scope=row>1</th><td>Enero  </td><td>100</td><td> TRUE</td></tr>\n",
       "\t<tr><th scope=row>2</th><td>Febrero</td><td>120</td><td> TRUE</td></tr>\n",
       "</tbody>\n",
       "</table>\n"
      ],
      "text/latex": [
       "A data.frame: 3 × 3\n",
       "\\begin{tabular}{r|lll}\n",
       "  & meses & ventas & objetivos\\\\\n",
       "  & <chr> & <dbl> & <lgl>\\\\\n",
       "\\hline\n",
       "\t3 & Marzo   &  80 & FALSE\\\\\n",
       "\t1 & Enero   & 100 &  TRUE\\\\\n",
       "\t2 & Febrero & 120 &  TRUE\\\\\n",
       "\\end{tabular}\n"
      ],
      "text/markdown": [
       "\n",
       "A data.frame: 3 × 3\n",
       "\n",
       "| <!--/--> | meses &lt;chr&gt; | ventas &lt;dbl&gt; | objetivos &lt;lgl&gt; |\n",
       "|---|---|---|---|\n",
       "| 3 | Marzo   |  80 | FALSE |\n",
       "| 1 | Enero   | 100 |  TRUE |\n",
       "| 2 | Febrero | 120 |  TRUE |\n",
       "\n"
      ],
      "text/plain": [
       "  meses   ventas objetivos\n",
       "3 Marzo    80    FALSE    \n",
       "1 Enero   100     TRUE    \n",
       "2 Febrero 120     TRUE    "
      ]
     },
     "metadata": {},
     "output_type": "display_data"
    }
   ],
   "source": [
    "# ordenamos de forma ascendente con respecto a una columna:\n",
    "df[ order(df$ventas), ]"
   ]
  },
  {
   "cell_type": "code",
   "execution_count": 43,
   "metadata": {
    "vscode": {
     "languageId": "r"
    }
   },
   "outputs": [
    {
     "data": {
      "text/html": [
       "<table class=\"dataframe\">\n",
       "<caption>A data.frame: 3 × 3</caption>\n",
       "<thead>\n",
       "\t<tr><th></th><th scope=col>meses</th><th scope=col>ventas</th><th scope=col>objetivos</th></tr>\n",
       "\t<tr><th></th><th scope=col>&lt;chr&gt;</th><th scope=col>&lt;dbl&gt;</th><th scope=col>&lt;lgl&gt;</th></tr>\n",
       "</thead>\n",
       "<tbody>\n",
       "\t<tr><th scope=row>2</th><td>Febrero</td><td>120</td><td> TRUE</td></tr>\n",
       "\t<tr><th scope=row>1</th><td>Enero  </td><td>100</td><td> TRUE</td></tr>\n",
       "\t<tr><th scope=row>3</th><td>Marzo  </td><td> 80</td><td>FALSE</td></tr>\n",
       "</tbody>\n",
       "</table>\n"
      ],
      "text/latex": [
       "A data.frame: 3 × 3\n",
       "\\begin{tabular}{r|lll}\n",
       "  & meses & ventas & objetivos\\\\\n",
       "  & <chr> & <dbl> & <lgl>\\\\\n",
       "\\hline\n",
       "\t2 & Febrero & 120 &  TRUE\\\\\n",
       "\t1 & Enero   & 100 &  TRUE\\\\\n",
       "\t3 & Marzo   &  80 & FALSE\\\\\n",
       "\\end{tabular}\n"
      ],
      "text/markdown": [
       "\n",
       "A data.frame: 3 × 3\n",
       "\n",
       "| <!--/--> | meses &lt;chr&gt; | ventas &lt;dbl&gt; | objetivos &lt;lgl&gt; |\n",
       "|---|---|---|---|\n",
       "| 2 | Febrero | 120 |  TRUE |\n",
       "| 1 | Enero   | 100 |  TRUE |\n",
       "| 3 | Marzo   |  80 | FALSE |\n",
       "\n"
      ],
      "text/plain": [
       "  meses   ventas objetivos\n",
       "2 Febrero 120     TRUE    \n",
       "1 Enero   100     TRUE    \n",
       "3 Marzo    80    FALSE    "
      ]
     },
     "metadata": {},
     "output_type": "display_data"
    }
   ],
   "source": [
    "# ordenamos de forma descendente con respecto a una columna:\n",
    "df[ order(-df$ventas), ]"
   ]
  },
  {
   "cell_type": "code",
   "execution_count": 44,
   "metadata": {
    "vscode": {
     "languageId": "r"
    }
   },
   "outputs": [
    {
     "data": {
      "text/html": [
       "<table class=\"dataframe\">\n",
       "<caption>A data.frame: 3 × 3</caption>\n",
       "<thead>\n",
       "\t<tr><th></th><th scope=col>meses</th><th scope=col>ventas</th><th scope=col>objetivos</th></tr>\n",
       "\t<tr><th></th><th scope=col>&lt;chr&gt;</th><th scope=col>&lt;dbl&gt;</th><th scope=col>&lt;lgl&gt;</th></tr>\n",
       "</thead>\n",
       "<tbody>\n",
       "\t<tr><th scope=row>2</th><td>Febrero</td><td>120</td><td> TRUE</td></tr>\n",
       "\t<tr><th scope=row>1</th><td>Enero  </td><td>100</td><td> TRUE</td></tr>\n",
       "\t<tr><th scope=row>3</th><td>Marzo  </td><td> 80</td><td>FALSE</td></tr>\n",
       "</tbody>\n",
       "</table>\n"
      ],
      "text/latex": [
       "A data.frame: 3 × 3\n",
       "\\begin{tabular}{r|lll}\n",
       "  & meses & ventas & objetivos\\\\\n",
       "  & <chr> & <dbl> & <lgl>\\\\\n",
       "\\hline\n",
       "\t2 & Febrero & 120 &  TRUE\\\\\n",
       "\t1 & Enero   & 100 &  TRUE\\\\\n",
       "\t3 & Marzo   &  80 & FALSE\\\\\n",
       "\\end{tabular}\n"
      ],
      "text/markdown": [
       "\n",
       "A data.frame: 3 × 3\n",
       "\n",
       "| <!--/--> | meses &lt;chr&gt; | ventas &lt;dbl&gt; | objetivos &lt;lgl&gt; |\n",
       "|---|---|---|---|\n",
       "| 2 | Febrero | 120 |  TRUE |\n",
       "| 1 | Enero   | 100 |  TRUE |\n",
       "| 3 | Marzo   |  80 | FALSE |\n",
       "\n"
      ],
      "text/plain": [
       "  meses   ventas objetivos\n",
       "2 Febrero 120     TRUE    \n",
       "1 Enero   100     TRUE    \n",
       "3 Marzo    80    FALSE    "
      ]
     },
     "metadata": {},
     "output_type": "display_data"
    }
   ],
   "source": [
    "# ordenamos de forma descendente con respecto a varias columnas columna:\n",
    "df[ order(-df$ventas, df$meses), ]"
   ]
  },
  {
   "attachments": {},
   "cell_type": "markdown",
   "metadata": {},
   "source": [
    "## Extrayendo características de un Data Frame"
   ]
  },
  {
   "cell_type": "code",
   "execution_count": 45,
   "metadata": {
    "vscode": {
     "languageId": "r"
    }
   },
   "outputs": [
    {
     "name": "stdout",
     "output_type": "stream",
     "text": [
      "'data.frame':\t3 obs. of  3 variables:\n",
      " $ meses    : chr  \"Enero\" \"Febrero\" \"Marzo\"\n",
      " $ ventas   : num  100 120 80\n",
      " $ objetivos: logi  TRUE TRUE FALSE\n"
     ]
    }
   ],
   "source": [
    "str(df)"
   ]
  },
  {
   "cell_type": "code",
   "execution_count": 46,
   "metadata": {
    "vscode": {
     "languageId": "r"
    }
   },
   "outputs": [
    {
     "data": {
      "text/plain": [
       "    meses               ventas    objetivos      \n",
       " Length:3           Min.   : 80   Mode :logical  \n",
       " Class :character   1st Qu.: 90   FALSE:1        \n",
       " Mode  :character   Median :100   TRUE :2        \n",
       "                    Mean   :100                  \n",
       "                    3rd Qu.:110                  \n",
       "                    Max.   :120                  "
      ]
     },
     "metadata": {},
     "output_type": "display_data"
    }
   ],
   "source": [
    "summary(df)"
   ]
  },
  {
   "cell_type": "code",
   "execution_count": null,
   "metadata": {
    "vscode": {
     "languageId": "r"
    }
   },
   "outputs": [],
   "source": []
  }
 ],
 "metadata": {
  "kernelspec": {
   "display_name": "R",
   "language": "R",
   "name": "ir"
  },
  "language_info": {
   "codemirror_mode": "r",
   "file_extension": ".r",
   "mimetype": "text/x-r-source",
   "name": "R",
   "pygments_lexer": "r",
   "version": "4.3.1"
  },
  "orig_nbformat": 4
 },
 "nbformat": 4,
 "nbformat_minor": 2
}
