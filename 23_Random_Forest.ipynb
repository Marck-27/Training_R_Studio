{
 "cells": [
  {
   "cell_type": "markdown",
   "metadata": {},
   "source": [
    "Para instalar la librería \"randomForest\" en Ubuntu, primero deberemos instalar Fortran ejecutando en la terminal:\n",
    "\n",
    "`sudo apt install gfortran`\n",
    "\n",
    "posteriormente abrimos R y ejecutamos:\n",
    "\n",
    "`install.packages(\"randomForest\")`"
   ]
  },
  {
   "cell_type": "markdown",
   "metadata": {},
   "source": [
    "En caso de que no funcione la instalación anterior, vamos a la página oficial de librerías de R: \n",
    "\n",
    "https://cran.r-project.org/src/contrib/Archive/\n",
    "\n",
    "Buscamos la librería \"randomForest\" y nos aparecerá una lista con diferentes versiones de la librería.\n",
    "\n",
    "Copiamos el enlace de una versión específica, por ejemplo (la versión de 2022): \n",
    "\n",
    "https://cran.r-project.org/src/contrib/Archive/randomForest/randomForest_4.7-1.tar.gz\n",
    "\n",
    "Posteriormente instalamos la librería como se muestra a continuación:\n",
    "\n",
    "```\n",
    "urlPackage <- \"https://cran.r-project.org/src/contrib/Archive/randomForest/randomForest_4.7-1.tar.gz\"\n",
    "install.packages(urlPackage, repos=NULL, type=\"source\")\n",
    "```"
   ]
  },
  {
   "cell_type": "code",
   "execution_count": 2,
   "metadata": {
    "vscode": {
     "languageId": "r"
    }
   },
   "outputs": [],
   "source": [
    "# librería que contiene el dataset \"kyphosis\"\n",
    "library(rpart)\n",
    "\n",
    "# pquete para particionar datos para prueba y entrenamiento:\n",
    "# install.packages('caTools')\n",
    "library(caTools)\n",
    "\n",
    "# install.packages(\"randomForest\")\n",
    "library(randomForest)"
   ]
  },
  {
   "cell_type": "code",
   "execution_count": 3,
   "metadata": {
    "vscode": {
     "languageId": "r"
    }
   },
   "outputs": [
    {
     "data": {
      "text/html": [
       "'data.frame'"
      ],
      "text/latex": [
       "'data.frame'"
      ],
      "text/markdown": [
       "'data.frame'"
      ],
      "text/plain": [
       "[1] \"data.frame\""
      ]
     },
     "metadata": {},
     "output_type": "display_data"
    }
   ],
   "source": [
    "df <- kyphosis\n",
    "class(df)"
   ]
  },
  {
   "cell_type": "code",
   "execution_count": 4,
   "metadata": {
    "vscode": {
     "languageId": "r"
    }
   },
   "outputs": [
    {
     "data": {
      "text/html": [
       "<table class=\"dataframe\">\n",
       "<caption>A data.frame: 6 × 4</caption>\n",
       "<thead>\n",
       "\t<tr><th></th><th scope=col>Kyphosis</th><th scope=col>Age</th><th scope=col>Number</th><th scope=col>Start</th></tr>\n",
       "\t<tr><th></th><th scope=col>&lt;fct&gt;</th><th scope=col>&lt;int&gt;</th><th scope=col>&lt;int&gt;</th><th scope=col>&lt;int&gt;</th></tr>\n",
       "</thead>\n",
       "<tbody>\n",
       "\t<tr><th scope=row>1</th><td>absent </td><td> 71</td><td>3</td><td> 5</td></tr>\n",
       "\t<tr><th scope=row>2</th><td>absent </td><td>158</td><td>3</td><td>14</td></tr>\n",
       "\t<tr><th scope=row>3</th><td>present</td><td>128</td><td>4</td><td> 5</td></tr>\n",
       "\t<tr><th scope=row>4</th><td>absent </td><td>  2</td><td>5</td><td> 1</td></tr>\n",
       "\t<tr><th scope=row>5</th><td>absent </td><td>  1</td><td>4</td><td>15</td></tr>\n",
       "\t<tr><th scope=row>6</th><td>absent </td><td>  1</td><td>2</td><td>16</td></tr>\n",
       "</tbody>\n",
       "</table>\n"
      ],
      "text/latex": [
       "A data.frame: 6 × 4\n",
       "\\begin{tabular}{r|llll}\n",
       "  & Kyphosis & Age & Number & Start\\\\\n",
       "  & <fct> & <int> & <int> & <int>\\\\\n",
       "\\hline\n",
       "\t1 & absent  &  71 & 3 &  5\\\\\n",
       "\t2 & absent  & 158 & 3 & 14\\\\\n",
       "\t3 & present & 128 & 4 &  5\\\\\n",
       "\t4 & absent  &   2 & 5 &  1\\\\\n",
       "\t5 & absent  &   1 & 4 & 15\\\\\n",
       "\t6 & absent  &   1 & 2 & 16\\\\\n",
       "\\end{tabular}\n"
      ],
      "text/markdown": [
       "\n",
       "A data.frame: 6 × 4\n",
       "\n",
       "| <!--/--> | Kyphosis &lt;fct&gt; | Age &lt;int&gt; | Number &lt;int&gt; | Start &lt;int&gt; |\n",
       "|---|---|---|---|---|\n",
       "| 1 | absent  |  71 | 3 |  5 |\n",
       "| 2 | absent  | 158 | 3 | 14 |\n",
       "| 3 | present | 128 | 4 |  5 |\n",
       "| 4 | absent  |   2 | 5 |  1 |\n",
       "| 5 | absent  |   1 | 4 | 15 |\n",
       "| 6 | absent  |   1 | 2 | 16 |\n",
       "\n"
      ],
      "text/plain": [
       "  Kyphosis Age Number Start\n",
       "1 absent    71 3       5   \n",
       "2 absent   158 3      14   \n",
       "3 present  128 4       5   \n",
       "4 absent     2 5       1   \n",
       "5 absent     1 4      15   \n",
       "6 absent     1 2      16   "
      ]
     },
     "metadata": {},
     "output_type": "display_data"
    }
   ],
   "source": [
    "head(df)"
   ]
  },
  {
   "cell_type": "code",
   "execution_count": 5,
   "metadata": {
    "vscode": {
     "languageId": "r"
    }
   },
   "outputs": [
    {
     "name": "stdout",
     "output_type": "stream",
     "text": [
      "'data.frame':\t81 obs. of  4 variables:\n",
      " $ Kyphosis: Factor w/ 2 levels \"absent\",\"present\": 1 1 2 1 1 1 1 1 1 2 ...\n",
      " $ Age     : int  71 158 128 2 1 1 61 37 113 59 ...\n",
      " $ Number  : int  3 3 4 5 4 2 2 3 2 6 ...\n",
      " $ Start   : int  5 14 5 1 15 16 17 16 16 12 ...\n"
     ]
    }
   ],
   "source": [
    "str(df)"
   ]
  },
  {
   "cell_type": "markdown",
   "metadata": {},
   "source": [
    "## Particionamos datos para entrenamiento y pruebas"
   ]
  },
  {
   "cell_type": "code",
   "execution_count": 6,
   "metadata": {
    "vscode": {
     "languageId": "r"
    }
   },
   "outputs": [],
   "source": [
    "# establecemos una semilla para que se preserve la configuración del particionamiento de datos:\n",
    "set.seed(80)\n",
    "p_train <- 0.7 #  <-- Porcentaje para datos de entrenamiento\n",
    "booleans <- sample.split( df$Kyphosis, SplitRatio = p_train )"
   ]
  },
  {
   "cell_type": "code",
   "execution_count": 9,
   "metadata": {
    "vscode": {
     "languageId": "r"
    }
   },
   "outputs": [
    {
     "data": {
      "text/html": [
       "<table class=\"dataframe\">\n",
       "<caption>A data.frame: 6 × 4</caption>\n",
       "<thead>\n",
       "\t<tr><th></th><th scope=col>Kyphosis</th><th scope=col>Age</th><th scope=col>Number</th><th scope=col>Start</th></tr>\n",
       "\t<tr><th></th><th scope=col>&lt;fct&gt;</th><th scope=col>&lt;int&gt;</th><th scope=col>&lt;int&gt;</th><th scope=col>&lt;int&gt;</th></tr>\n",
       "</thead>\n",
       "<tbody>\n",
       "\t<tr><th scope=row>1</th><td>absent </td><td> 71</td><td>3</td><td> 5</td></tr>\n",
       "\t<tr><th scope=row>2</th><td>absent </td><td>158</td><td>3</td><td>14</td></tr>\n",
       "\t<tr><th scope=row>5</th><td>absent </td><td>  1</td><td>4</td><td>15</td></tr>\n",
       "\t<tr><th scope=row>6</th><td>absent </td><td>  1</td><td>2</td><td>16</td></tr>\n",
       "\t<tr><th scope=row>7</th><td>absent </td><td> 61</td><td>2</td><td>17</td></tr>\n",
       "\t<tr><th scope=row>10</th><td>present</td><td> 59</td><td>6</td><td>12</td></tr>\n",
       "</tbody>\n",
       "</table>\n"
      ],
      "text/latex": [
       "A data.frame: 6 × 4\n",
       "\\begin{tabular}{r|llll}\n",
       "  & Kyphosis & Age & Number & Start\\\\\n",
       "  & <fct> & <int> & <int> & <int>\\\\\n",
       "\\hline\n",
       "\t1 & absent  &  71 & 3 &  5\\\\\n",
       "\t2 & absent  & 158 & 3 & 14\\\\\n",
       "\t5 & absent  &   1 & 4 & 15\\\\\n",
       "\t6 & absent  &   1 & 2 & 16\\\\\n",
       "\t7 & absent  &  61 & 2 & 17\\\\\n",
       "\t10 & present &  59 & 6 & 12\\\\\n",
       "\\end{tabular}\n"
      ],
      "text/markdown": [
       "\n",
       "A data.frame: 6 × 4\n",
       "\n",
       "| <!--/--> | Kyphosis &lt;fct&gt; | Age &lt;int&gt; | Number &lt;int&gt; | Start &lt;int&gt; |\n",
       "|---|---|---|---|---|\n",
       "| 1 | absent  |  71 | 3 |  5 |\n",
       "| 2 | absent  | 158 | 3 | 14 |\n",
       "| 5 | absent  |   1 | 4 | 15 |\n",
       "| 6 | absent  |   1 | 2 | 16 |\n",
       "| 7 | absent  |  61 | 2 | 17 |\n",
       "| 10 | present |  59 | 6 | 12 |\n",
       "\n"
      ],
      "text/plain": [
       "   Kyphosis Age Number Start\n",
       "1  absent    71 3       5   \n",
       "2  absent   158 3      14   \n",
       "5  absent     1 4      15   \n",
       "6  absent     1 2      16   \n",
       "7  absent    61 2      17   \n",
       "10 present   59 6      12   "
      ]
     },
     "metadata": {},
     "output_type": "display_data"
    }
   ],
   "source": [
    "df_train <- subset( df, booleans == TRUE)\n",
    "head(df_train)"
   ]
  },
  {
   "cell_type": "code",
   "execution_count": 10,
   "metadata": {
    "vscode": {
     "languageId": "r"
    }
   },
   "outputs": [
    {
     "data": {
      "text/html": [
       "<table class=\"dataframe\">\n",
       "<caption>A data.frame: 6 × 4</caption>\n",
       "<thead>\n",
       "\t<tr><th></th><th scope=col>Kyphosis</th><th scope=col>Age</th><th scope=col>Number</th><th scope=col>Start</th></tr>\n",
       "\t<tr><th></th><th scope=col>&lt;fct&gt;</th><th scope=col>&lt;int&gt;</th><th scope=col>&lt;int&gt;</th><th scope=col>&lt;int&gt;</th></tr>\n",
       "</thead>\n",
       "<tbody>\n",
       "\t<tr><th scope=row>3</th><td>present</td><td>128</td><td>4</td><td> 5</td></tr>\n",
       "\t<tr><th scope=row>4</th><td>absent </td><td>  2</td><td>5</td><td> 1</td></tr>\n",
       "\t<tr><th scope=row>8</th><td>absent </td><td> 37</td><td>3</td><td>16</td></tr>\n",
       "\t<tr><th scope=row>9</th><td>absent </td><td>113</td><td>2</td><td>16</td></tr>\n",
       "\t<tr><th scope=row>13</th><td>absent </td><td> 18</td><td>5</td><td> 2</td></tr>\n",
       "\t<tr><th scope=row>17</th><td>absent </td><td> 78</td><td>6</td><td>15</td></tr>\n",
       "</tbody>\n",
       "</table>\n"
      ],
      "text/latex": [
       "A data.frame: 6 × 4\n",
       "\\begin{tabular}{r|llll}\n",
       "  & Kyphosis & Age & Number & Start\\\\\n",
       "  & <fct> & <int> & <int> & <int>\\\\\n",
       "\\hline\n",
       "\t3 & present & 128 & 4 &  5\\\\\n",
       "\t4 & absent  &   2 & 5 &  1\\\\\n",
       "\t8 & absent  &  37 & 3 & 16\\\\\n",
       "\t9 & absent  & 113 & 2 & 16\\\\\n",
       "\t13 & absent  &  18 & 5 &  2\\\\\n",
       "\t17 & absent  &  78 & 6 & 15\\\\\n",
       "\\end{tabular}\n"
      ],
      "text/markdown": [
       "\n",
       "A data.frame: 6 × 4\n",
       "\n",
       "| <!--/--> | Kyphosis &lt;fct&gt; | Age &lt;int&gt; | Number &lt;int&gt; | Start &lt;int&gt; |\n",
       "|---|---|---|---|---|\n",
       "| 3 | present | 128 | 4 |  5 |\n",
       "| 4 | absent  |   2 | 5 |  1 |\n",
       "| 8 | absent  |  37 | 3 | 16 |\n",
       "| 9 | absent  | 113 | 2 | 16 |\n",
       "| 13 | absent  |  18 | 5 |  2 |\n",
       "| 17 | absent  |  78 | 6 | 15 |\n",
       "\n"
      ],
      "text/plain": [
       "   Kyphosis Age Number Start\n",
       "3  present  128 4       5   \n",
       "4  absent     2 5       1   \n",
       "8  absent    37 3      16   \n",
       "9  absent   113 2      16   \n",
       "13 absent    18 5       2   \n",
       "17 absent    78 6      15   "
      ]
     },
     "metadata": {},
     "output_type": "display_data"
    }
   ],
   "source": [
    "df_test <- subset( df, booleans == FALSE)\n",
    "head(df_test)"
   ]
  },
  {
   "cell_type": "markdown",
   "metadata": {},
   "source": [
    "## Entrenamos el modelo"
   ]
  },
  {
   "cell_type": "code",
   "execution_count": 11,
   "metadata": {
    "vscode": {
     "languageId": "r"
    }
   },
   "outputs": [],
   "source": [
    "# label --> \"Kyphosis\"\n",
    "\n",
    "modelo <- randomForest(Kyphosis ~ . , df_train)"
   ]
  },
  {
   "cell_type": "code",
   "execution_count": 12,
   "metadata": {
    "vscode": {
     "languageId": "r"
    }
   },
   "outputs": [
    {
     "name": "stdout",
     "output_type": "stream",
     "text": [
      "\n",
      "Call:\n",
      " randomForest(formula = Kyphosis ~ ., data = df_train) \n",
      "               Type of random forest: classification\n",
      "                     Number of trees: 500\n",
      "No. of variables tried at each split: 1\n",
      "\n",
      "        OOB estimate of  error rate: 24.56%\n",
      "Confusion matrix:\n",
      "        absent present class.error\n",
      "absent      40       5   0.1111111\n",
      "present      9       3   0.7500000\n"
     ]
    }
   ],
   "source": [
    "print(modelo)"
   ]
  },
  {
   "cell_type": "markdown",
   "metadata": {},
   "source": [
    "## Realizamos predicciones con los datos de prueba"
   ]
  },
  {
   "cell_type": "code",
   "execution_count": 13,
   "metadata": {
    "vscode": {
     "languageId": "r"
    }
   },
   "outputs": [
    {
     "data": {
      "text/html": [
       "<style>\n",
       ".dl-inline {width: auto; margin:0; padding: 0}\n",
       ".dl-inline>dt, .dl-inline>dd {float: none; width: auto; display: inline-block}\n",
       ".dl-inline>dt::after {content: \":\\0020\"; padding-right: .5ex}\n",
       ".dl-inline>dt:not(:first-of-type) {padding-left: .5ex}\n",
       "</style><dl class=dl-inline><dt>3</dt><dd>present</dd><dt>4</dt><dd>absent</dd><dt>8</dt><dd>absent</dd><dt>9</dt><dd>absent</dd><dt>13</dt><dd>absent</dd><dt>17</dt><dd>absent</dd><dt>22</dt><dd>present</dd><dt>25</dt><dd>absent</dd><dt>26</dt><dd>absent</dd><dt>33</dt><dd>absent</dd><dt>37</dt><dd>absent</dd><dt>46</dt><dd>absent</dd><dt>47</dt><dd>absent</dd><dt>57</dt><dd>absent</dd><dt>58</dt><dd>present</dd><dt>59</dt><dd>present</dd><dt>63</dt><dd>absent</dd><dt>64</dt><dd>absent</dd><dt>68</dt><dd>absent</dd><dt>70</dt><dd>absent</dd><dt>72</dt><dd>absent</dd><dt>75</dt><dd>absent</dd><dt>79</dt><dd>absent</dd><dt>81</dt><dd>absent</dd></dl>\n",
       "\n",
       "<details>\n",
       "\t<summary style=display:list-item;cursor:pointer>\n",
       "\t\t<strong>Levels</strong>:\n",
       "\t</summary>\n",
       "\t<style>\n",
       "\t.list-inline {list-style: none; margin:0; padding: 0}\n",
       "\t.list-inline>li {display: inline-block}\n",
       "\t.list-inline>li:not(:last-child)::after {content: \"\\00b7\"; padding: 0 .5ex}\n",
       "\t</style>\n",
       "\t<ol class=list-inline><li>'absent'</li><li>'present'</li></ol>\n",
       "</details>"
      ],
      "text/latex": [
       "\\begin{description*}\n",
       "\\item[3] present\n",
       "\\item[4] absent\n",
       "\\item[8] absent\n",
       "\\item[9] absent\n",
       "\\item[13] absent\n",
       "\\item[17] absent\n",
       "\\item[22] present\n",
       "\\item[25] absent\n",
       "\\item[26] absent\n",
       "\\item[33] absent\n",
       "\\item[37] absent\n",
       "\\item[46] absent\n",
       "\\item[47] absent\n",
       "\\item[57] absent\n",
       "\\item[58] present\n",
       "\\item[59] present\n",
       "\\item[63] absent\n",
       "\\item[64] absent\n",
       "\\item[68] absent\n",
       "\\item[70] absent\n",
       "\\item[72] absent\n",
       "\\item[75] absent\n",
       "\\item[79] absent\n",
       "\\item[81] absent\n",
       "\\end{description*}\n",
       "\n",
       "\\emph{Levels}: \\begin{enumerate*}\n",
       "\\item 'absent'\n",
       "\\item 'present'\n",
       "\\end{enumerate*}\n"
      ],
      "text/markdown": [
       "3\n",
       ":   present4\n",
       ":   absent8\n",
       ":   absent9\n",
       ":   absent13\n",
       ":   absent17\n",
       ":   absent22\n",
       ":   present25\n",
       ":   absent26\n",
       ":   absent33\n",
       ":   absent37\n",
       ":   absent46\n",
       ":   absent47\n",
       ":   absent57\n",
       ":   absent58\n",
       ":   present59\n",
       ":   present63\n",
       ":   absent64\n",
       ":   absent68\n",
       ":   absent70\n",
       ":   absent72\n",
       ":   absent75\n",
       ":   absent79\n",
       ":   absent81\n",
       ":   absent\n",
       "\n",
       "\n",
       "**Levels**: 1. 'absent'\n",
       "2. 'present'\n",
       "\n",
       "\n"
      ],
      "text/plain": [
       "      3       4       8       9      13      17      22      25      26      33 \n",
       "present  absent  absent  absent  absent  absent present  absent  absent  absent \n",
       "     37      46      47      57      58      59      63      64      68      70 \n",
       " absent  absent  absent  absent present present  absent  absent  absent  absent \n",
       "     72      75      79      81 \n",
       " absent  absent  absent  absent \n",
       "Levels: absent present"
      ]
     },
     "metadata": {},
     "output_type": "display_data"
    }
   ],
   "source": [
    "approx <- predict(modelo, df_test)\n",
    "approx"
   ]
  },
  {
   "cell_type": "code",
   "execution_count": 14,
   "metadata": {
    "vscode": {
     "languageId": "r"
    }
   },
   "outputs": [],
   "source": [
    "df_test['predicciones'] <- approx"
   ]
  },
  {
   "cell_type": "code",
   "execution_count": 15,
   "metadata": {
    "vscode": {
     "languageId": "r"
    }
   },
   "outputs": [
    {
     "data": {
      "text/html": [
       "<table class=\"dataframe\">\n",
       "<caption>A data.frame: 24 × 5</caption>\n",
       "<thead>\n",
       "\t<tr><th></th><th scope=col>Kyphosis</th><th scope=col>Age</th><th scope=col>Number</th><th scope=col>Start</th><th scope=col>predicciones</th></tr>\n",
       "\t<tr><th></th><th scope=col>&lt;fct&gt;</th><th scope=col>&lt;int&gt;</th><th scope=col>&lt;int&gt;</th><th scope=col>&lt;int&gt;</th><th scope=col>&lt;fct&gt;</th></tr>\n",
       "</thead>\n",
       "<tbody>\n",
       "\t<tr><th scope=row>3</th><td>present</td><td>128</td><td>4</td><td> 5</td><td>present</td></tr>\n",
       "\t<tr><th scope=row>4</th><td>absent </td><td>  2</td><td>5</td><td> 1</td><td>absent </td></tr>\n",
       "\t<tr><th scope=row>8</th><td>absent </td><td> 37</td><td>3</td><td>16</td><td>absent </td></tr>\n",
       "\t<tr><th scope=row>9</th><td>absent </td><td>113</td><td>2</td><td>16</td><td>absent </td></tr>\n",
       "\t<tr><th scope=row>13</th><td>absent </td><td> 18</td><td>5</td><td> 2</td><td>absent </td></tr>\n",
       "\t<tr><th scope=row>17</th><td>absent </td><td> 78</td><td>6</td><td>15</td><td>absent </td></tr>\n",
       "\t<tr><th scope=row>22</th><td>present</td><td>105</td><td>6</td><td> 5</td><td>present</td></tr>\n",
       "\t<tr><th scope=row>25</th><td>present</td><td> 15</td><td>7</td><td> 2</td><td>absent </td></tr>\n",
       "\t<tr><th scope=row>26</th><td>absent </td><td>  9</td><td>5</td><td>13</td><td>absent </td></tr>\n",
       "\t<tr><th scope=row>33</th><td>absent </td><td>130</td><td>5</td><td>13</td><td>absent </td></tr>\n",
       "\t<tr><th scope=row>37</th><td>absent </td><td>  1</td><td>3</td><td> 9</td><td>absent </td></tr>\n",
       "\t<tr><th scope=row>46</th><td>present</td><td>139</td><td>3</td><td>10</td><td>absent </td></tr>\n",
       "\t<tr><th scope=row>47</th><td>absent </td><td>136</td><td>4</td><td>15</td><td>absent </td></tr>\n",
       "\t<tr><th scope=row>57</th><td>absent </td><td>  2</td><td>3</td><td>13</td><td>absent </td></tr>\n",
       "\t<tr><th scope=row>58</th><td>present</td><td>120</td><td>5</td><td> 8</td><td>present</td></tr>\n",
       "\t<tr><th scope=row>59</th><td>absent </td><td> 51</td><td>7</td><td> 9</td><td>present</td></tr>\n",
       "\t<tr><th scope=row>63</th><td>absent </td><td> 81</td><td>4</td><td> 1</td><td>absent </td></tr>\n",
       "\t<tr><th scope=row>64</th><td>absent </td><td>118</td><td>3</td><td>16</td><td>absent </td></tr>\n",
       "\t<tr><th scope=row>68</th><td>absent </td><td>159</td><td>4</td><td>13</td><td>absent </td></tr>\n",
       "\t<tr><th scope=row>70</th><td>absent </td><td> 15</td><td>5</td><td>16</td><td>absent </td></tr>\n",
       "\t<tr><th scope=row>72</th><td>absent </td><td>127</td><td>4</td><td>12</td><td>absent </td></tr>\n",
       "\t<tr><th scope=row>75</th><td>absent </td><td> 11</td><td>3</td><td>15</td><td>absent </td></tr>\n",
       "\t<tr><th scope=row>79</th><td>absent </td><td>120</td><td>2</td><td>13</td><td>absent </td></tr>\n",
       "\t<tr><th scope=row>81</th><td>absent </td><td> 36</td><td>4</td><td>13</td><td>absent </td></tr>\n",
       "</tbody>\n",
       "</table>\n"
      ],
      "text/latex": [
       "A data.frame: 24 × 5\n",
       "\\begin{tabular}{r|lllll}\n",
       "  & Kyphosis & Age & Number & Start & predicciones\\\\\n",
       "  & <fct> & <int> & <int> & <int> & <fct>\\\\\n",
       "\\hline\n",
       "\t3 & present & 128 & 4 &  5 & present\\\\\n",
       "\t4 & absent  &   2 & 5 &  1 & absent \\\\\n",
       "\t8 & absent  &  37 & 3 & 16 & absent \\\\\n",
       "\t9 & absent  & 113 & 2 & 16 & absent \\\\\n",
       "\t13 & absent  &  18 & 5 &  2 & absent \\\\\n",
       "\t17 & absent  &  78 & 6 & 15 & absent \\\\\n",
       "\t22 & present & 105 & 6 &  5 & present\\\\\n",
       "\t25 & present &  15 & 7 &  2 & absent \\\\\n",
       "\t26 & absent  &   9 & 5 & 13 & absent \\\\\n",
       "\t33 & absent  & 130 & 5 & 13 & absent \\\\\n",
       "\t37 & absent  &   1 & 3 &  9 & absent \\\\\n",
       "\t46 & present & 139 & 3 & 10 & absent \\\\\n",
       "\t47 & absent  & 136 & 4 & 15 & absent \\\\\n",
       "\t57 & absent  &   2 & 3 & 13 & absent \\\\\n",
       "\t58 & present & 120 & 5 &  8 & present\\\\\n",
       "\t59 & absent  &  51 & 7 &  9 & present\\\\\n",
       "\t63 & absent  &  81 & 4 &  1 & absent \\\\\n",
       "\t64 & absent  & 118 & 3 & 16 & absent \\\\\n",
       "\t68 & absent  & 159 & 4 & 13 & absent \\\\\n",
       "\t70 & absent  &  15 & 5 & 16 & absent \\\\\n",
       "\t72 & absent  & 127 & 4 & 12 & absent \\\\\n",
       "\t75 & absent  &  11 & 3 & 15 & absent \\\\\n",
       "\t79 & absent  & 120 & 2 & 13 & absent \\\\\n",
       "\t81 & absent  &  36 & 4 & 13 & absent \\\\\n",
       "\\end{tabular}\n"
      ],
      "text/markdown": [
       "\n",
       "A data.frame: 24 × 5\n",
       "\n",
       "| <!--/--> | Kyphosis &lt;fct&gt; | Age &lt;int&gt; | Number &lt;int&gt; | Start &lt;int&gt; | predicciones &lt;fct&gt; |\n",
       "|---|---|---|---|---|---|\n",
       "| 3 | present | 128 | 4 |  5 | present |\n",
       "| 4 | absent  |   2 | 5 |  1 | absent  |\n",
       "| 8 | absent  |  37 | 3 | 16 | absent  |\n",
       "| 9 | absent  | 113 | 2 | 16 | absent  |\n",
       "| 13 | absent  |  18 | 5 |  2 | absent  |\n",
       "| 17 | absent  |  78 | 6 | 15 | absent  |\n",
       "| 22 | present | 105 | 6 |  5 | present |\n",
       "| 25 | present |  15 | 7 |  2 | absent  |\n",
       "| 26 | absent  |   9 | 5 | 13 | absent  |\n",
       "| 33 | absent  | 130 | 5 | 13 | absent  |\n",
       "| 37 | absent  |   1 | 3 |  9 | absent  |\n",
       "| 46 | present | 139 | 3 | 10 | absent  |\n",
       "| 47 | absent  | 136 | 4 | 15 | absent  |\n",
       "| 57 | absent  |   2 | 3 | 13 | absent  |\n",
       "| 58 | present | 120 | 5 |  8 | present |\n",
       "| 59 | absent  |  51 | 7 |  9 | present |\n",
       "| 63 | absent  |  81 | 4 |  1 | absent  |\n",
       "| 64 | absent  | 118 | 3 | 16 | absent  |\n",
       "| 68 | absent  | 159 | 4 | 13 | absent  |\n",
       "| 70 | absent  |  15 | 5 | 16 | absent  |\n",
       "| 72 | absent  | 127 | 4 | 12 | absent  |\n",
       "| 75 | absent  |  11 | 3 | 15 | absent  |\n",
       "| 79 | absent  | 120 | 2 | 13 | absent  |\n",
       "| 81 | absent  |  36 | 4 | 13 | absent  |\n",
       "\n"
      ],
      "text/plain": [
       "   Kyphosis Age Number Start predicciones\n",
       "3  present  128 4       5    present     \n",
       "4  absent     2 5       1    absent      \n",
       "8  absent    37 3      16    absent      \n",
       "9  absent   113 2      16    absent      \n",
       "13 absent    18 5       2    absent      \n",
       "17 absent    78 6      15    absent      \n",
       "22 present  105 6       5    present     \n",
       "25 present   15 7       2    absent      \n",
       "26 absent     9 5      13    absent      \n",
       "33 absent   130 5      13    absent      \n",
       "37 absent     1 3       9    absent      \n",
       "46 present  139 3      10    absent      \n",
       "47 absent   136 4      15    absent      \n",
       "57 absent     2 3      13    absent      \n",
       "58 present  120 5       8    present     \n",
       "59 absent    51 7       9    present     \n",
       "63 absent    81 4       1    absent      \n",
       "64 absent   118 3      16    absent      \n",
       "68 absent   159 4      13    absent      \n",
       "70 absent    15 5      16    absent      \n",
       "72 absent   127 4      12    absent      \n",
       "75 absent    11 3      15    absent      \n",
       "79 absent   120 2      13    absent      \n",
       "81 absent    36 4      13    absent      "
      ]
     },
     "metadata": {},
     "output_type": "display_data"
    }
   ],
   "source": [
    "df_test"
   ]
  },
  {
   "cell_type": "code",
   "execution_count": 16,
   "metadata": {
    "vscode": {
     "languageId": "r"
    }
   },
   "outputs": [
    {
     "data": {
      "text/html": [
       "24"
      ],
      "text/latex": [
       "24"
      ],
      "text/markdown": [
       "24"
      ],
      "text/plain": [
       "[1] 24"
      ]
     },
     "metadata": {},
     "output_type": "display_data"
    }
   ],
   "source": [
    "N <- nrow(df_test)\n",
    "N"
   ]
  },
  {
   "cell_type": "code",
   "execution_count": 18,
   "metadata": {
    "vscode": {
     "languageId": "r"
    }
   },
   "outputs": [],
   "source": [
    "obs <- df_test$Kyphosis\n",
    "aprox <- df_test$predicciones"
   ]
  },
  {
   "cell_type": "code",
   "execution_count": 24,
   "metadata": {
    "vscode": {
     "languageId": "r"
    }
   },
   "outputs": [
    {
     "data": {
      "text/html": [
       "0.875"
      ],
      "text/latex": [
       "0.875"
      ],
      "text/markdown": [
       "0.875"
      ],
      "text/plain": [
       "[1] 0.875"
      ]
     },
     "metadata": {},
     "output_type": "display_data"
    }
   ],
   "source": [
    "k <- 0\n",
    "for(i in 1:N){\n",
    "    if( obs[i] == aprox[i]){\n",
    "        k <- k + 1\n",
    "    }\n",
    "}\n",
    "\n",
    "acc <- k/N\n",
    "acc"
   ]
  },
  {
   "cell_type": "code",
   "execution_count": 27,
   "metadata": {
    "vscode": {
     "languageId": "r"
    }
   },
   "outputs": [
    {
     "name": "stdout",
     "output_type": "stream",
     "text": [
      "[1] \"El modelo tiene un accuracy del 87.5 %\"\n"
     ]
    }
   ],
   "source": [
    "texto <- paste('El modelo tiene un accuracy del',acc*100,'%')\n",
    "print(texto)"
   ]
  },
  {
   "cell_type": "code",
   "execution_count": null,
   "metadata": {
    "vscode": {
     "languageId": "r"
    }
   },
   "outputs": [],
   "source": []
  }
 ],
 "metadata": {
  "kernelspec": {
   "display_name": "R",
   "language": "R",
   "name": "ir"
  },
  "language_info": {
   "codemirror_mode": "r",
   "file_extension": ".r",
   "mimetype": "text/x-r-source",
   "name": "R",
   "pygments_lexer": "r",
   "version": "4.3.1"
  },
  "orig_nbformat": 4
 },
 "nbformat": 4,
 "nbformat_minor": 2
}
