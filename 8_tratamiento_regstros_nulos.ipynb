{
 "cells": [
  {
   "attachments": {},
   "cell_type": "markdown",
   "metadata": {},
   "source": [
    "# Tratamiento de valores nulos"
   ]
  },
  {
   "cell_type": "code",
   "execution_count": 1,
   "metadata": {
    "vscode": {
     "languageId": "r"
    }
   },
   "outputs": [
    {
     "data": {
      "text/html": [
       "<table class=\"dataframe\">\n",
       "<caption>A data.frame: 14 × 11</caption>\n",
       "<thead>\n",
       "\t<tr><th scope=col>mpg</th><th scope=col>cyl</th><th scope=col>disp</th><th scope=col>hp</th><th scope=col>drat</th><th scope=col>wt</th><th scope=col>qsec</th><th scope=col>vs</th><th scope=col>am</th><th scope=col>gear</th><th scope=col>carb</th></tr>\n",
       "\t<tr><th scope=col>&lt;dbl&gt;</th><th scope=col>&lt;int&gt;</th><th scope=col>&lt;dbl&gt;</th><th scope=col>&lt;int&gt;</th><th scope=col>&lt;dbl&gt;</th><th scope=col>&lt;dbl&gt;</th><th scope=col>&lt;dbl&gt;</th><th scope=col>&lt;int&gt;</th><th scope=col>&lt;int&gt;</th><th scope=col>&lt;int&gt;</th><th scope=col>&lt;int&gt;</th></tr>\n",
       "</thead>\n",
       "<tbody>\n",
       "\t<tr><td>21.0</td><td>NA</td><td>   NA</td><td> NA</td><td>3.90</td><td>   NA</td><td>16.46</td><td> 0</td><td> 1</td><td> 4</td><td> 4</td></tr>\n",
       "\t<tr><td>  NA</td><td> 6</td><td>160.0</td><td> NA</td><td>3.90</td><td>2.875</td><td>17.02</td><td> 0</td><td> 1</td><td> 4</td><td> 4</td></tr>\n",
       "\t<tr><td>22.8</td><td>NA</td><td>   NA</td><td> 93</td><td>3.85</td><td>2.320</td><td>18.61</td><td> 1</td><td> 1</td><td> 4</td><td> 1</td></tr>\n",
       "\t<tr><td>  NA</td><td> 6</td><td>   NA</td><td>110</td><td>3.08</td><td>3.215</td><td>19.44</td><td> 1</td><td> 0</td><td> 3</td><td> 1</td></tr>\n",
       "\t<tr><td>  NA</td><td> 8</td><td>360.0</td><td>175</td><td>3.15</td><td>3.440</td><td>17.02</td><td> 0</td><td> 0</td><td> 3</td><td> 2</td></tr>\n",
       "\t<tr><td>18.1</td><td> 6</td><td>225.0</td><td>105</td><td>  NA</td><td>3.460</td><td>20.22</td><td> 1</td><td> 0</td><td> 3</td><td> 1</td></tr>\n",
       "\t<tr><td>14.3</td><td> 8</td><td>360.0</td><td>245</td><td>3.21</td><td>3.570</td><td>15.84</td><td> 0</td><td> 0</td><td> 3</td><td> 4</td></tr>\n",
       "\t<tr><td>24.4</td><td> 4</td><td>146.7</td><td> 62</td><td>3.69</td><td>3.190</td><td>20.00</td><td> 1</td><td> 0</td><td> 4</td><td> 2</td></tr>\n",
       "\t<tr><td>22.8</td><td>NA</td><td>140.8</td><td> NA</td><td>3.92</td><td>3.150</td><td>22.90</td><td> 1</td><td> 0</td><td> 4</td><td> 2</td></tr>\n",
       "\t<tr><td>  NA</td><td>NA</td><td>167.6</td><td>123</td><td>3.92</td><td>3.440</td><td>18.30</td><td> 1</td><td> 0</td><td> 4</td><td> 4</td></tr>\n",
       "\t<tr><td>  NA</td><td> 6</td><td>167.6</td><td>123</td><td>3.92</td><td>3.440</td><td>18.90</td><td> 1</td><td>NA</td><td> 4</td><td>NA</td></tr>\n",
       "\t<tr><td>16.4</td><td> 8</td><td>275.8</td><td> NA</td><td>  NA</td><td>   NA</td><td>   NA</td><td>NA</td><td>NA</td><td> 3</td><td> 3</td></tr>\n",
       "\t<tr><td>17.3</td><td> 8</td><td>275.8</td><td>180</td><td>  NA</td><td>3.730</td><td>17.60</td><td> 0</td><td> 0</td><td>NA</td><td>NA</td></tr>\n",
       "\t<tr><td>15.2</td><td> 8</td><td>275.8</td><td>180</td><td>3.07</td><td>   NA</td><td>18.00</td><td> 0</td><td> 0</td><td> 3</td><td> 3</td></tr>\n",
       "</tbody>\n",
       "</table>\n"
      ],
      "text/latex": [
       "A data.frame: 14 × 11\n",
       "\\begin{tabular}{lllllllllll}\n",
       " mpg & cyl & disp & hp & drat & wt & qsec & vs & am & gear & carb\\\\\n",
       " <dbl> & <int> & <dbl> & <int> & <dbl> & <dbl> & <dbl> & <int> & <int> & <int> & <int>\\\\\n",
       "\\hline\n",
       "\t 21.0 & NA &    NA &  NA & 3.90 &    NA & 16.46 &  0 &  1 &  4 &  4\\\\\n",
       "\t   NA &  6 & 160.0 &  NA & 3.90 & 2.875 & 17.02 &  0 &  1 &  4 &  4\\\\\n",
       "\t 22.8 & NA &    NA &  93 & 3.85 & 2.320 & 18.61 &  1 &  1 &  4 &  1\\\\\n",
       "\t   NA &  6 &    NA & 110 & 3.08 & 3.215 & 19.44 &  1 &  0 &  3 &  1\\\\\n",
       "\t   NA &  8 & 360.0 & 175 & 3.15 & 3.440 & 17.02 &  0 &  0 &  3 &  2\\\\\n",
       "\t 18.1 &  6 & 225.0 & 105 &   NA & 3.460 & 20.22 &  1 &  0 &  3 &  1\\\\\n",
       "\t 14.3 &  8 & 360.0 & 245 & 3.21 & 3.570 & 15.84 &  0 &  0 &  3 &  4\\\\\n",
       "\t 24.4 &  4 & 146.7 &  62 & 3.69 & 3.190 & 20.00 &  1 &  0 &  4 &  2\\\\\n",
       "\t 22.8 & NA & 140.8 &  NA & 3.92 & 3.150 & 22.90 &  1 &  0 &  4 &  2\\\\\n",
       "\t   NA & NA & 167.6 & 123 & 3.92 & 3.440 & 18.30 &  1 &  0 &  4 &  4\\\\\n",
       "\t   NA &  6 & 167.6 & 123 & 3.92 & 3.440 & 18.90 &  1 & NA &  4 & NA\\\\\n",
       "\t 16.4 &  8 & 275.8 &  NA &   NA &    NA &    NA & NA & NA &  3 &  3\\\\\n",
       "\t 17.3 &  8 & 275.8 & 180 &   NA & 3.730 & 17.60 &  0 &  0 & NA & NA\\\\\n",
       "\t 15.2 &  8 & 275.8 & 180 & 3.07 &    NA & 18.00 &  0 &  0 &  3 &  3\\\\\n",
       "\\end{tabular}\n"
      ],
      "text/markdown": [
       "\n",
       "A data.frame: 14 × 11\n",
       "\n",
       "| mpg &lt;dbl&gt; | cyl &lt;int&gt; | disp &lt;dbl&gt; | hp &lt;int&gt; | drat &lt;dbl&gt; | wt &lt;dbl&gt; | qsec &lt;dbl&gt; | vs &lt;int&gt; | am &lt;int&gt; | gear &lt;int&gt; | carb &lt;int&gt; |\n",
       "|---|---|---|---|---|---|---|---|---|---|---|\n",
       "| 21.0 | NA |    NA |  NA | 3.90 |    NA | 16.46 |  0 |  1 |  4 |  4 |\n",
       "|   NA |  6 | 160.0 |  NA | 3.90 | 2.875 | 17.02 |  0 |  1 |  4 |  4 |\n",
       "| 22.8 | NA |    NA |  93 | 3.85 | 2.320 | 18.61 |  1 |  1 |  4 |  1 |\n",
       "|   NA |  6 |    NA | 110 | 3.08 | 3.215 | 19.44 |  1 |  0 |  3 |  1 |\n",
       "|   NA |  8 | 360.0 | 175 | 3.15 | 3.440 | 17.02 |  0 |  0 |  3 |  2 |\n",
       "| 18.1 |  6 | 225.0 | 105 |   NA | 3.460 | 20.22 |  1 |  0 |  3 |  1 |\n",
       "| 14.3 |  8 | 360.0 | 245 | 3.21 | 3.570 | 15.84 |  0 |  0 |  3 |  4 |\n",
       "| 24.4 |  4 | 146.7 |  62 | 3.69 | 3.190 | 20.00 |  1 |  0 |  4 |  2 |\n",
       "| 22.8 | NA | 140.8 |  NA | 3.92 | 3.150 | 22.90 |  1 |  0 |  4 |  2 |\n",
       "|   NA | NA | 167.6 | 123 | 3.92 | 3.440 | 18.30 |  1 |  0 |  4 |  4 |\n",
       "|   NA |  6 | 167.6 | 123 | 3.92 | 3.440 | 18.90 |  1 | NA |  4 | NA |\n",
       "| 16.4 |  8 | 275.8 |  NA |   NA |    NA |    NA | NA | NA |  3 |  3 |\n",
       "| 17.3 |  8 | 275.8 | 180 |   NA | 3.730 | 17.60 |  0 |  0 | NA | NA |\n",
       "| 15.2 |  8 | 275.8 | 180 | 3.07 |    NA | 18.00 |  0 |  0 |  3 |  3 |\n",
       "\n"
      ],
      "text/plain": [
       "   mpg  cyl disp  hp  drat wt    qsec  vs am gear carb\n",
       "1  21.0 NA     NA  NA 3.90    NA 16.46  0  1  4    4  \n",
       "2    NA  6  160.0  NA 3.90 2.875 17.02  0  1  4    4  \n",
       "3  22.8 NA     NA  93 3.85 2.320 18.61  1  1  4    1  \n",
       "4    NA  6     NA 110 3.08 3.215 19.44  1  0  3    1  \n",
       "5    NA  8  360.0 175 3.15 3.440 17.02  0  0  3    2  \n",
       "6  18.1  6  225.0 105   NA 3.460 20.22  1  0  3    1  \n",
       "7  14.3  8  360.0 245 3.21 3.570 15.84  0  0  3    4  \n",
       "8  24.4  4  146.7  62 3.69 3.190 20.00  1  0  4    2  \n",
       "9  22.8 NA  140.8  NA 3.92 3.150 22.90  1  0  4    2  \n",
       "10   NA NA  167.6 123 3.92 3.440 18.30  1  0  4    4  \n",
       "11   NA  6  167.6 123 3.92 3.440 18.90  1 NA  4   NA  \n",
       "12 16.4  8  275.8  NA   NA    NA    NA NA NA  3    3  \n",
       "13 17.3  8  275.8 180   NA 3.730 17.60  0  0 NA   NA  \n",
       "14 15.2  8  275.8 180 3.07    NA 18.00  0  0  3    3  "
      ]
     },
     "metadata": {},
     "output_type": "display_data"
    }
   ],
   "source": [
    "df <- read.csv(file = 'data/some_nulls.csv')\n",
    "df"
   ]
  },
  {
   "cell_type": "code",
   "execution_count": 2,
   "metadata": {
    "vscode": {
     "languageId": "r"
    }
   },
   "outputs": [
    {
     "data": {
      "text/html": [
       "'data.frame'"
      ],
      "text/latex": [
       "'data.frame'"
      ],
      "text/markdown": [
       "'data.frame'"
      ],
      "text/plain": [
       "[1] \"data.frame\""
      ]
     },
     "metadata": {},
     "output_type": "display_data"
    }
   ],
   "source": [
    "# Extraemos el tipo del objeto:\n",
    "class(df)"
   ]
  },
  {
   "cell_type": "code",
   "execution_count": 3,
   "metadata": {
    "vscode": {
     "languageId": "r"
    }
   },
   "outputs": [
    {
     "data": {
      "text/html": [
       "<table class=\"dataframe\">\n",
       "<caption>A matrix: 14 × 11 of type lgl</caption>\n",
       "<thead>\n",
       "\t<tr><th scope=col>mpg</th><th scope=col>cyl</th><th scope=col>disp</th><th scope=col>hp</th><th scope=col>drat</th><th scope=col>wt</th><th scope=col>qsec</th><th scope=col>vs</th><th scope=col>am</th><th scope=col>gear</th><th scope=col>carb</th></tr>\n",
       "</thead>\n",
       "<tbody>\n",
       "\t<tr><td>FALSE</td><td> TRUE</td><td> TRUE</td><td> TRUE</td><td>FALSE</td><td> TRUE</td><td>FALSE</td><td>FALSE</td><td>FALSE</td><td>FALSE</td><td>FALSE</td></tr>\n",
       "\t<tr><td> TRUE</td><td>FALSE</td><td>FALSE</td><td> TRUE</td><td>FALSE</td><td>FALSE</td><td>FALSE</td><td>FALSE</td><td>FALSE</td><td>FALSE</td><td>FALSE</td></tr>\n",
       "\t<tr><td>FALSE</td><td> TRUE</td><td> TRUE</td><td>FALSE</td><td>FALSE</td><td>FALSE</td><td>FALSE</td><td>FALSE</td><td>FALSE</td><td>FALSE</td><td>FALSE</td></tr>\n",
       "\t<tr><td> TRUE</td><td>FALSE</td><td> TRUE</td><td>FALSE</td><td>FALSE</td><td>FALSE</td><td>FALSE</td><td>FALSE</td><td>FALSE</td><td>FALSE</td><td>FALSE</td></tr>\n",
       "\t<tr><td> TRUE</td><td>FALSE</td><td>FALSE</td><td>FALSE</td><td>FALSE</td><td>FALSE</td><td>FALSE</td><td>FALSE</td><td>FALSE</td><td>FALSE</td><td>FALSE</td></tr>\n",
       "\t<tr><td>FALSE</td><td>FALSE</td><td>FALSE</td><td>FALSE</td><td> TRUE</td><td>FALSE</td><td>FALSE</td><td>FALSE</td><td>FALSE</td><td>FALSE</td><td>FALSE</td></tr>\n",
       "\t<tr><td>FALSE</td><td>FALSE</td><td>FALSE</td><td>FALSE</td><td>FALSE</td><td>FALSE</td><td>FALSE</td><td>FALSE</td><td>FALSE</td><td>FALSE</td><td>FALSE</td></tr>\n",
       "\t<tr><td>FALSE</td><td>FALSE</td><td>FALSE</td><td>FALSE</td><td>FALSE</td><td>FALSE</td><td>FALSE</td><td>FALSE</td><td>FALSE</td><td>FALSE</td><td>FALSE</td></tr>\n",
       "\t<tr><td>FALSE</td><td> TRUE</td><td>FALSE</td><td> TRUE</td><td>FALSE</td><td>FALSE</td><td>FALSE</td><td>FALSE</td><td>FALSE</td><td>FALSE</td><td>FALSE</td></tr>\n",
       "\t<tr><td> TRUE</td><td> TRUE</td><td>FALSE</td><td>FALSE</td><td>FALSE</td><td>FALSE</td><td>FALSE</td><td>FALSE</td><td>FALSE</td><td>FALSE</td><td>FALSE</td></tr>\n",
       "\t<tr><td> TRUE</td><td>FALSE</td><td>FALSE</td><td>FALSE</td><td>FALSE</td><td>FALSE</td><td>FALSE</td><td>FALSE</td><td> TRUE</td><td>FALSE</td><td> TRUE</td></tr>\n",
       "\t<tr><td>FALSE</td><td>FALSE</td><td>FALSE</td><td> TRUE</td><td> TRUE</td><td> TRUE</td><td> TRUE</td><td> TRUE</td><td> TRUE</td><td>FALSE</td><td>FALSE</td></tr>\n",
       "\t<tr><td>FALSE</td><td>FALSE</td><td>FALSE</td><td>FALSE</td><td> TRUE</td><td>FALSE</td><td>FALSE</td><td>FALSE</td><td>FALSE</td><td> TRUE</td><td> TRUE</td></tr>\n",
       "\t<tr><td>FALSE</td><td>FALSE</td><td>FALSE</td><td>FALSE</td><td>FALSE</td><td> TRUE</td><td>FALSE</td><td>FALSE</td><td>FALSE</td><td>FALSE</td><td>FALSE</td></tr>\n",
       "</tbody>\n",
       "</table>\n"
      ],
      "text/latex": [
       "A matrix: 14 × 11 of type lgl\n",
       "\\begin{tabular}{lllllllllll}\n",
       " mpg & cyl & disp & hp & drat & wt & qsec & vs & am & gear & carb\\\\\n",
       "\\hline\n",
       "\t FALSE &  TRUE &  TRUE &  TRUE & FALSE &  TRUE & FALSE & FALSE & FALSE & FALSE & FALSE\\\\\n",
       "\t  TRUE & FALSE & FALSE &  TRUE & FALSE & FALSE & FALSE & FALSE & FALSE & FALSE & FALSE\\\\\n",
       "\t FALSE &  TRUE &  TRUE & FALSE & FALSE & FALSE & FALSE & FALSE & FALSE & FALSE & FALSE\\\\\n",
       "\t  TRUE & FALSE &  TRUE & FALSE & FALSE & FALSE & FALSE & FALSE & FALSE & FALSE & FALSE\\\\\n",
       "\t  TRUE & FALSE & FALSE & FALSE & FALSE & FALSE & FALSE & FALSE & FALSE & FALSE & FALSE\\\\\n",
       "\t FALSE & FALSE & FALSE & FALSE &  TRUE & FALSE & FALSE & FALSE & FALSE & FALSE & FALSE\\\\\n",
       "\t FALSE & FALSE & FALSE & FALSE & FALSE & FALSE & FALSE & FALSE & FALSE & FALSE & FALSE\\\\\n",
       "\t FALSE & FALSE & FALSE & FALSE & FALSE & FALSE & FALSE & FALSE & FALSE & FALSE & FALSE\\\\\n",
       "\t FALSE &  TRUE & FALSE &  TRUE & FALSE & FALSE & FALSE & FALSE & FALSE & FALSE & FALSE\\\\\n",
       "\t  TRUE &  TRUE & FALSE & FALSE & FALSE & FALSE & FALSE & FALSE & FALSE & FALSE & FALSE\\\\\n",
       "\t  TRUE & FALSE & FALSE & FALSE & FALSE & FALSE & FALSE & FALSE &  TRUE & FALSE &  TRUE\\\\\n",
       "\t FALSE & FALSE & FALSE &  TRUE &  TRUE &  TRUE &  TRUE &  TRUE &  TRUE & FALSE & FALSE\\\\\n",
       "\t FALSE & FALSE & FALSE & FALSE &  TRUE & FALSE & FALSE & FALSE & FALSE &  TRUE &  TRUE\\\\\n",
       "\t FALSE & FALSE & FALSE & FALSE & FALSE &  TRUE & FALSE & FALSE & FALSE & FALSE & FALSE\\\\\n",
       "\\end{tabular}\n"
      ],
      "text/markdown": [
       "\n",
       "A matrix: 14 × 11 of type lgl\n",
       "\n",
       "| mpg | cyl | disp | hp | drat | wt | qsec | vs | am | gear | carb |\n",
       "|---|---|---|---|---|---|---|---|---|---|---|\n",
       "| FALSE |  TRUE |  TRUE |  TRUE | FALSE |  TRUE | FALSE | FALSE | FALSE | FALSE | FALSE |\n",
       "|  TRUE | FALSE | FALSE |  TRUE | FALSE | FALSE | FALSE | FALSE | FALSE | FALSE | FALSE |\n",
       "| FALSE |  TRUE |  TRUE | FALSE | FALSE | FALSE | FALSE | FALSE | FALSE | FALSE | FALSE |\n",
       "|  TRUE | FALSE |  TRUE | FALSE | FALSE | FALSE | FALSE | FALSE | FALSE | FALSE | FALSE |\n",
       "|  TRUE | FALSE | FALSE | FALSE | FALSE | FALSE | FALSE | FALSE | FALSE | FALSE | FALSE |\n",
       "| FALSE | FALSE | FALSE | FALSE |  TRUE | FALSE | FALSE | FALSE | FALSE | FALSE | FALSE |\n",
       "| FALSE | FALSE | FALSE | FALSE | FALSE | FALSE | FALSE | FALSE | FALSE | FALSE | FALSE |\n",
       "| FALSE | FALSE | FALSE | FALSE | FALSE | FALSE | FALSE | FALSE | FALSE | FALSE | FALSE |\n",
       "| FALSE |  TRUE | FALSE |  TRUE | FALSE | FALSE | FALSE | FALSE | FALSE | FALSE | FALSE |\n",
       "|  TRUE |  TRUE | FALSE | FALSE | FALSE | FALSE | FALSE | FALSE | FALSE | FALSE | FALSE |\n",
       "|  TRUE | FALSE | FALSE | FALSE | FALSE | FALSE | FALSE | FALSE |  TRUE | FALSE |  TRUE |\n",
       "| FALSE | FALSE | FALSE |  TRUE |  TRUE |  TRUE |  TRUE |  TRUE |  TRUE | FALSE | FALSE |\n",
       "| FALSE | FALSE | FALSE | FALSE |  TRUE | FALSE | FALSE | FALSE | FALSE |  TRUE |  TRUE |\n",
       "| FALSE | FALSE | FALSE | FALSE | FALSE |  TRUE | FALSE | FALSE | FALSE | FALSE | FALSE |\n",
       "\n"
      ],
      "text/plain": [
       "      mpg   cyl   disp  hp    drat  wt    qsec  vs    am    gear  carb \n",
       " [1,] FALSE  TRUE  TRUE  TRUE FALSE  TRUE FALSE FALSE FALSE FALSE FALSE\n",
       " [2,]  TRUE FALSE FALSE  TRUE FALSE FALSE FALSE FALSE FALSE FALSE FALSE\n",
       " [3,] FALSE  TRUE  TRUE FALSE FALSE FALSE FALSE FALSE FALSE FALSE FALSE\n",
       " [4,]  TRUE FALSE  TRUE FALSE FALSE FALSE FALSE FALSE FALSE FALSE FALSE\n",
       " [5,]  TRUE FALSE FALSE FALSE FALSE FALSE FALSE FALSE FALSE FALSE FALSE\n",
       " [6,] FALSE FALSE FALSE FALSE  TRUE FALSE FALSE FALSE FALSE FALSE FALSE\n",
       " [7,] FALSE FALSE FALSE FALSE FALSE FALSE FALSE FALSE FALSE FALSE FALSE\n",
       " [8,] FALSE FALSE FALSE FALSE FALSE FALSE FALSE FALSE FALSE FALSE FALSE\n",
       " [9,] FALSE  TRUE FALSE  TRUE FALSE FALSE FALSE FALSE FALSE FALSE FALSE\n",
       "[10,]  TRUE  TRUE FALSE FALSE FALSE FALSE FALSE FALSE FALSE FALSE FALSE\n",
       "[11,]  TRUE FALSE FALSE FALSE FALSE FALSE FALSE FALSE  TRUE FALSE  TRUE\n",
       "[12,] FALSE FALSE FALSE  TRUE  TRUE  TRUE  TRUE  TRUE  TRUE FALSE FALSE\n",
       "[13,] FALSE FALSE FALSE FALSE  TRUE FALSE FALSE FALSE FALSE  TRUE  TRUE\n",
       "[14,] FALSE FALSE FALSE FALSE FALSE  TRUE FALSE FALSE FALSE FALSE FALSE"
      ]
     },
     "metadata": {},
     "output_type": "display_data"
    }
   ],
   "source": [
    "# Detección de registros vacíos\n",
    "# Regresa \"TRUE\" donde hay campos vacíos\n",
    "is.na(df)"
   ]
  },
  {
   "cell_type": "code",
   "execution_count": 4,
   "metadata": {
    "vscode": {
     "languageId": "r"
    }
   },
   "outputs": [
    {
     "data": {
      "text/html": [
       "<table class=\"dataframe\">\n",
       "<caption>A matrix: 14 × 1 of type lgl</caption>\n",
       "<thead>\n",
       "\t<tr><th scope=col>cyl</th></tr>\n",
       "</thead>\n",
       "<tbody>\n",
       "\t<tr><td> TRUE</td></tr>\n",
       "\t<tr><td>FALSE</td></tr>\n",
       "\t<tr><td> TRUE</td></tr>\n",
       "\t<tr><td>FALSE</td></tr>\n",
       "\t<tr><td>FALSE</td></tr>\n",
       "\t<tr><td>FALSE</td></tr>\n",
       "\t<tr><td>FALSE</td></tr>\n",
       "\t<tr><td>FALSE</td></tr>\n",
       "\t<tr><td> TRUE</td></tr>\n",
       "\t<tr><td> TRUE</td></tr>\n",
       "\t<tr><td>FALSE</td></tr>\n",
       "\t<tr><td>FALSE</td></tr>\n",
       "\t<tr><td>FALSE</td></tr>\n",
       "\t<tr><td>FALSE</td></tr>\n",
       "</tbody>\n",
       "</table>\n"
      ],
      "text/latex": [
       "A matrix: 14 × 1 of type lgl\n",
       "\\begin{tabular}{l}\n",
       " cyl\\\\\n",
       "\\hline\n",
       "\t  TRUE\\\\\n",
       "\t FALSE\\\\\n",
       "\t  TRUE\\\\\n",
       "\t FALSE\\\\\n",
       "\t FALSE\\\\\n",
       "\t FALSE\\\\\n",
       "\t FALSE\\\\\n",
       "\t FALSE\\\\\n",
       "\t  TRUE\\\\\n",
       "\t  TRUE\\\\\n",
       "\t FALSE\\\\\n",
       "\t FALSE\\\\\n",
       "\t FALSE\\\\\n",
       "\t FALSE\\\\\n",
       "\\end{tabular}\n"
      ],
      "text/markdown": [
       "\n",
       "A matrix: 14 × 1 of type lgl\n",
       "\n",
       "| cyl |\n",
       "|---|\n",
       "|  TRUE |\n",
       "| FALSE |\n",
       "|  TRUE |\n",
       "| FALSE |\n",
       "| FALSE |\n",
       "| FALSE |\n",
       "| FALSE |\n",
       "| FALSE |\n",
       "|  TRUE |\n",
       "|  TRUE |\n",
       "| FALSE |\n",
       "| FALSE |\n",
       "| FALSE |\n",
       "| FALSE |\n",
       "\n"
      ],
      "text/plain": [
       "      cyl  \n",
       " [1,]  TRUE\n",
       " [2,] FALSE\n",
       " [3,]  TRUE\n",
       " [4,] FALSE\n",
       " [5,] FALSE\n",
       " [6,] FALSE\n",
       " [7,] FALSE\n",
       " [8,] FALSE\n",
       " [9,]  TRUE\n",
       "[10,]  TRUE\n",
       "[11,] FALSE\n",
       "[12,] FALSE\n",
       "[13,] FALSE\n",
       "[14,] FALSE"
      ]
     },
     "metadata": {},
     "output_type": "display_data"
    }
   ],
   "source": [
    "# Verificamos los registros vacíos en una columna dada:\n",
    "is.na(df['cyl'])"
   ]
  },
  {
   "cell_type": "code",
   "execution_count": 5,
   "metadata": {
    "vscode": {
     "languageId": "r"
    }
   },
   "outputs": [
    {
     "data": {
      "text/html": [
       "<style>\n",
       ".list-inline {list-style: none; margin:0; padding: 0}\n",
       ".list-inline>li {display: inline-block}\n",
       ".list-inline>li:not(:last-child)::after {content: \"\\00b7\"; padding: 0 .5ex}\n",
       "</style>\n",
       "<ol class=list-inline><li>TRUE</li><li>FALSE</li><li>TRUE</li><li>FALSE</li><li>FALSE</li><li>FALSE</li><li>FALSE</li><li>FALSE</li><li>TRUE</li><li>TRUE</li><li>FALSE</li><li>FALSE</li><li>FALSE</li><li>FALSE</li></ol>\n"
      ],
      "text/latex": [
       "\\begin{enumerate*}\n",
       "\\item TRUE\n",
       "\\item FALSE\n",
       "\\item TRUE\n",
       "\\item FALSE\n",
       "\\item FALSE\n",
       "\\item FALSE\n",
       "\\item FALSE\n",
       "\\item FALSE\n",
       "\\item TRUE\n",
       "\\item TRUE\n",
       "\\item FALSE\n",
       "\\item FALSE\n",
       "\\item FALSE\n",
       "\\item FALSE\n",
       "\\end{enumerate*}\n"
      ],
      "text/markdown": [
       "1. TRUE\n",
       "2. FALSE\n",
       "3. TRUE\n",
       "4. FALSE\n",
       "5. FALSE\n",
       "6. FALSE\n",
       "7. FALSE\n",
       "8. FALSE\n",
       "9. TRUE\n",
       "10. TRUE\n",
       "11. FALSE\n",
       "12. FALSE\n",
       "13. FALSE\n",
       "14. FALSE\n",
       "\n",
       "\n"
      ],
      "text/plain": [
       " [1]  TRUE FALSE  TRUE FALSE FALSE FALSE FALSE FALSE  TRUE  TRUE FALSE FALSE\n",
       "[13] FALSE FALSE"
      ]
     },
     "metadata": {},
     "output_type": "display_data"
    }
   ],
   "source": [
    "# Verificamos los registros vacíos en una columna dada:\n",
    "is.na(df$cyl)"
   ]
  },
  {
   "cell_type": "code",
   "execution_count": 6,
   "metadata": {
    "vscode": {
     "languageId": "r"
    }
   },
   "outputs": [
    {
     "data": {
      "text/html": [
       "<style>\n",
       ".list-inline {list-style: none; margin:0; padding: 0}\n",
       ".list-inline>li {display: inline-block}\n",
       ".list-inline>li:not(:last-child)::after {content: \"\\00b7\"; padding: 0 .5ex}\n",
       "</style>\n",
       "<ol class=list-inline><li>TRUE</li><li>FALSE</li><li>TRUE</li><li>FALSE</li><li>FALSE</li><li>FALSE</li><li>FALSE</li><li>FALSE</li><li>TRUE</li><li>TRUE</li><li>FALSE</li><li>FALSE</li><li>FALSE</li><li>FALSE</li></ol>\n"
      ],
      "text/latex": [
       "\\begin{enumerate*}\n",
       "\\item TRUE\n",
       "\\item FALSE\n",
       "\\item TRUE\n",
       "\\item FALSE\n",
       "\\item FALSE\n",
       "\\item FALSE\n",
       "\\item FALSE\n",
       "\\item FALSE\n",
       "\\item TRUE\n",
       "\\item TRUE\n",
       "\\item FALSE\n",
       "\\item FALSE\n",
       "\\item FALSE\n",
       "\\item FALSE\n",
       "\\end{enumerate*}\n"
      ],
      "text/markdown": [
       "1. TRUE\n",
       "2. FALSE\n",
       "3. TRUE\n",
       "4. FALSE\n",
       "5. FALSE\n",
       "6. FALSE\n",
       "7. FALSE\n",
       "8. FALSE\n",
       "9. TRUE\n",
       "10. TRUE\n",
       "11. FALSE\n",
       "12. FALSE\n",
       "13. FALSE\n",
       "14. FALSE\n",
       "\n",
       "\n"
      ],
      "text/plain": [
       " [1]  TRUE FALSE  TRUE FALSE FALSE FALSE FALSE FALSE  TRUE  TRUE FALSE FALSE\n",
       "[13] FALSE FALSE"
      ]
     },
     "metadata": {},
     "output_type": "display_data"
    }
   ],
   "source": [
    "# Verificamos los registros vacíos en una columna dada:\n",
    "is.na(df[,'cyl'])"
   ]
  },
  {
   "cell_type": "code",
   "execution_count": 7,
   "metadata": {
    "vscode": {
     "languageId": "r"
    }
   },
   "outputs": [
    {
     "data": {
      "text/html": [
       "<style>\n",
       ".list-inline {list-style: none; margin:0; padding: 0}\n",
       ".list-inline>li {display: inline-block}\n",
       ".list-inline>li:not(:last-child)::after {content: \"\\00b7\"; padding: 0 .5ex}\n",
       "</style>\n",
       "<ol class=list-inline><li>TRUE</li><li>FALSE</li><li>TRUE</li><li>FALSE</li><li>FALSE</li><li>FALSE</li><li>FALSE</li><li>FALSE</li><li>TRUE</li><li>TRUE</li><li>FALSE</li><li>FALSE</li><li>FALSE</li><li>FALSE</li></ol>\n"
      ],
      "text/latex": [
       "\\begin{enumerate*}\n",
       "\\item TRUE\n",
       "\\item FALSE\n",
       "\\item TRUE\n",
       "\\item FALSE\n",
       "\\item FALSE\n",
       "\\item FALSE\n",
       "\\item FALSE\n",
       "\\item FALSE\n",
       "\\item TRUE\n",
       "\\item TRUE\n",
       "\\item FALSE\n",
       "\\item FALSE\n",
       "\\item FALSE\n",
       "\\item FALSE\n",
       "\\end{enumerate*}\n"
      ],
      "text/markdown": [
       "1. TRUE\n",
       "2. FALSE\n",
       "3. TRUE\n",
       "4. FALSE\n",
       "5. FALSE\n",
       "6. FALSE\n",
       "7. FALSE\n",
       "8. FALSE\n",
       "9. TRUE\n",
       "10. TRUE\n",
       "11. FALSE\n",
       "12. FALSE\n",
       "13. FALSE\n",
       "14. FALSE\n",
       "\n",
       "\n"
      ],
      "text/plain": [
       " [1]  TRUE FALSE  TRUE FALSE FALSE FALSE FALSE FALSE  TRUE  TRUE FALSE FALSE\n",
       "[13] FALSE FALSE"
      ]
     },
     "metadata": {},
     "output_type": "display_data"
    }
   ],
   "source": [
    "# Verificamos los registros vacíos en una columna dada:\n",
    "is.na(df)[,'cyl']"
   ]
  },
  {
   "cell_type": "code",
   "execution_count": 8,
   "metadata": {
    "vscode": {
     "languageId": "r"
    }
   },
   "outputs": [
    {
     "data": {
      "text/html": [
       "<table class=\"dataframe\">\n",
       "<caption>A data.frame: 4 × 11</caption>\n",
       "<thead>\n",
       "\t<tr><th></th><th scope=col>mpg</th><th scope=col>cyl</th><th scope=col>disp</th><th scope=col>hp</th><th scope=col>drat</th><th scope=col>wt</th><th scope=col>qsec</th><th scope=col>vs</th><th scope=col>am</th><th scope=col>gear</th><th scope=col>carb</th></tr>\n",
       "\t<tr><th></th><th scope=col>&lt;dbl&gt;</th><th scope=col>&lt;int&gt;</th><th scope=col>&lt;dbl&gt;</th><th scope=col>&lt;int&gt;</th><th scope=col>&lt;dbl&gt;</th><th scope=col>&lt;dbl&gt;</th><th scope=col>&lt;dbl&gt;</th><th scope=col>&lt;int&gt;</th><th scope=col>&lt;int&gt;</th><th scope=col>&lt;int&gt;</th><th scope=col>&lt;int&gt;</th></tr>\n",
       "</thead>\n",
       "<tbody>\n",
       "\t<tr><th scope=row>1</th><td>21.0</td><td>NA</td><td>   NA</td><td> NA</td><td>3.90</td><td>  NA</td><td>16.46</td><td>0</td><td>1</td><td>4</td><td>4</td></tr>\n",
       "\t<tr><th scope=row>3</th><td>22.8</td><td>NA</td><td>   NA</td><td> 93</td><td>3.85</td><td>2.32</td><td>18.61</td><td>1</td><td>1</td><td>4</td><td>1</td></tr>\n",
       "\t<tr><th scope=row>9</th><td>22.8</td><td>NA</td><td>140.8</td><td> NA</td><td>3.92</td><td>3.15</td><td>22.90</td><td>1</td><td>0</td><td>4</td><td>2</td></tr>\n",
       "\t<tr><th scope=row>10</th><td>  NA</td><td>NA</td><td>167.6</td><td>123</td><td>3.92</td><td>3.44</td><td>18.30</td><td>1</td><td>0</td><td>4</td><td>4</td></tr>\n",
       "</tbody>\n",
       "</table>\n"
      ],
      "text/latex": [
       "A data.frame: 4 × 11\n",
       "\\begin{tabular}{r|lllllllllll}\n",
       "  & mpg & cyl & disp & hp & drat & wt & qsec & vs & am & gear & carb\\\\\n",
       "  & <dbl> & <int> & <dbl> & <int> & <dbl> & <dbl> & <dbl> & <int> & <int> & <int> & <int>\\\\\n",
       "\\hline\n",
       "\t1 & 21.0 & NA &    NA &  NA & 3.90 &   NA & 16.46 & 0 & 1 & 4 & 4\\\\\n",
       "\t3 & 22.8 & NA &    NA &  93 & 3.85 & 2.32 & 18.61 & 1 & 1 & 4 & 1\\\\\n",
       "\t9 & 22.8 & NA & 140.8 &  NA & 3.92 & 3.15 & 22.90 & 1 & 0 & 4 & 2\\\\\n",
       "\t10 &   NA & NA & 167.6 & 123 & 3.92 & 3.44 & 18.30 & 1 & 0 & 4 & 4\\\\\n",
       "\\end{tabular}\n"
      ],
      "text/markdown": [
       "\n",
       "A data.frame: 4 × 11\n",
       "\n",
       "| <!--/--> | mpg &lt;dbl&gt; | cyl &lt;int&gt; | disp &lt;dbl&gt; | hp &lt;int&gt; | drat &lt;dbl&gt; | wt &lt;dbl&gt; | qsec &lt;dbl&gt; | vs &lt;int&gt; | am &lt;int&gt; | gear &lt;int&gt; | carb &lt;int&gt; |\n",
       "|---|---|---|---|---|---|---|---|---|---|---|---|\n",
       "| 1 | 21.0 | NA |    NA |  NA | 3.90 |   NA | 16.46 | 0 | 1 | 4 | 4 |\n",
       "| 3 | 22.8 | NA |    NA |  93 | 3.85 | 2.32 | 18.61 | 1 | 1 | 4 | 1 |\n",
       "| 9 | 22.8 | NA | 140.8 |  NA | 3.92 | 3.15 | 22.90 | 1 | 0 | 4 | 2 |\n",
       "| 10 |   NA | NA | 167.6 | 123 | 3.92 | 3.44 | 18.30 | 1 | 0 | 4 | 4 |\n",
       "\n"
      ],
      "text/plain": [
       "   mpg  cyl disp  hp  drat wt   qsec  vs am gear carb\n",
       "1  21.0 NA     NA  NA 3.90   NA 16.46 0  1  4    4   \n",
       "3  22.8 NA     NA  93 3.85 2.32 18.61 1  1  4    1   \n",
       "9  22.8 NA  140.8  NA 3.92 3.15 22.90 1  0  4    2   \n",
       "10   NA NA  167.6 123 3.92 3.44 18.30 1  0  4    4   "
      ]
     },
     "metadata": {},
     "output_type": "display_data"
    }
   ],
   "source": [
    "# Extraemos los registros donde una columna dada es nula (en forma de matriz):\n",
    "df[is.na(df$cyl),]"
   ]
  },
  {
   "cell_type": "code",
   "execution_count": 9,
   "metadata": {
    "vscode": {
     "languageId": "r"
    }
   },
   "outputs": [
    {
     "data": {
      "text/html": [
       "<table class=\"dataframe\">\n",
       "<caption>A data.frame: 10 × 11</caption>\n",
       "<thead>\n",
       "\t<tr><th></th><th scope=col>mpg</th><th scope=col>cyl</th><th scope=col>disp</th><th scope=col>hp</th><th scope=col>drat</th><th scope=col>wt</th><th scope=col>qsec</th><th scope=col>vs</th><th scope=col>am</th><th scope=col>gear</th><th scope=col>carb</th></tr>\n",
       "\t<tr><th></th><th scope=col>&lt;dbl&gt;</th><th scope=col>&lt;int&gt;</th><th scope=col>&lt;dbl&gt;</th><th scope=col>&lt;int&gt;</th><th scope=col>&lt;dbl&gt;</th><th scope=col>&lt;dbl&gt;</th><th scope=col>&lt;dbl&gt;</th><th scope=col>&lt;int&gt;</th><th scope=col>&lt;int&gt;</th><th scope=col>&lt;int&gt;</th><th scope=col>&lt;int&gt;</th></tr>\n",
       "</thead>\n",
       "<tbody>\n",
       "\t<tr><th scope=row>2</th><td>  NA</td><td>6</td><td>160.0</td><td> NA</td><td>3.90</td><td>2.875</td><td>17.02</td><td> 0</td><td> 1</td><td> 4</td><td> 4</td></tr>\n",
       "\t<tr><th scope=row>4</th><td>  NA</td><td>6</td><td>   NA</td><td>110</td><td>3.08</td><td>3.215</td><td>19.44</td><td> 1</td><td> 0</td><td> 3</td><td> 1</td></tr>\n",
       "\t<tr><th scope=row>5</th><td>  NA</td><td>8</td><td>360.0</td><td>175</td><td>3.15</td><td>3.440</td><td>17.02</td><td> 0</td><td> 0</td><td> 3</td><td> 2</td></tr>\n",
       "\t<tr><th scope=row>6</th><td>18.1</td><td>6</td><td>225.0</td><td>105</td><td>  NA</td><td>3.460</td><td>20.22</td><td> 1</td><td> 0</td><td> 3</td><td> 1</td></tr>\n",
       "\t<tr><th scope=row>7</th><td>14.3</td><td>8</td><td>360.0</td><td>245</td><td>3.21</td><td>3.570</td><td>15.84</td><td> 0</td><td> 0</td><td> 3</td><td> 4</td></tr>\n",
       "\t<tr><th scope=row>8</th><td>24.4</td><td>4</td><td>146.7</td><td> 62</td><td>3.69</td><td>3.190</td><td>20.00</td><td> 1</td><td> 0</td><td> 4</td><td> 2</td></tr>\n",
       "\t<tr><th scope=row>11</th><td>  NA</td><td>6</td><td>167.6</td><td>123</td><td>3.92</td><td>3.440</td><td>18.90</td><td> 1</td><td>NA</td><td> 4</td><td>NA</td></tr>\n",
       "\t<tr><th scope=row>12</th><td>16.4</td><td>8</td><td>275.8</td><td> NA</td><td>  NA</td><td>   NA</td><td>   NA</td><td>NA</td><td>NA</td><td> 3</td><td> 3</td></tr>\n",
       "\t<tr><th scope=row>13</th><td>17.3</td><td>8</td><td>275.8</td><td>180</td><td>  NA</td><td>3.730</td><td>17.60</td><td> 0</td><td> 0</td><td>NA</td><td>NA</td></tr>\n",
       "\t<tr><th scope=row>14</th><td>15.2</td><td>8</td><td>275.8</td><td>180</td><td>3.07</td><td>   NA</td><td>18.00</td><td> 0</td><td> 0</td><td> 3</td><td> 3</td></tr>\n",
       "</tbody>\n",
       "</table>\n"
      ],
      "text/latex": [
       "A data.frame: 10 × 11\n",
       "\\begin{tabular}{r|lllllllllll}\n",
       "  & mpg & cyl & disp & hp & drat & wt & qsec & vs & am & gear & carb\\\\\n",
       "  & <dbl> & <int> & <dbl> & <int> & <dbl> & <dbl> & <dbl> & <int> & <int> & <int> & <int>\\\\\n",
       "\\hline\n",
       "\t2 &   NA & 6 & 160.0 &  NA & 3.90 & 2.875 & 17.02 &  0 &  1 &  4 &  4\\\\\n",
       "\t4 &   NA & 6 &    NA & 110 & 3.08 & 3.215 & 19.44 &  1 &  0 &  3 &  1\\\\\n",
       "\t5 &   NA & 8 & 360.0 & 175 & 3.15 & 3.440 & 17.02 &  0 &  0 &  3 &  2\\\\\n",
       "\t6 & 18.1 & 6 & 225.0 & 105 &   NA & 3.460 & 20.22 &  1 &  0 &  3 &  1\\\\\n",
       "\t7 & 14.3 & 8 & 360.0 & 245 & 3.21 & 3.570 & 15.84 &  0 &  0 &  3 &  4\\\\\n",
       "\t8 & 24.4 & 4 & 146.7 &  62 & 3.69 & 3.190 & 20.00 &  1 &  0 &  4 &  2\\\\\n",
       "\t11 &   NA & 6 & 167.6 & 123 & 3.92 & 3.440 & 18.90 &  1 & NA &  4 & NA\\\\\n",
       "\t12 & 16.4 & 8 & 275.8 &  NA &   NA &    NA &    NA & NA & NA &  3 &  3\\\\\n",
       "\t13 & 17.3 & 8 & 275.8 & 180 &   NA & 3.730 & 17.60 &  0 &  0 & NA & NA\\\\\n",
       "\t14 & 15.2 & 8 & 275.8 & 180 & 3.07 &    NA & 18.00 &  0 &  0 &  3 &  3\\\\\n",
       "\\end{tabular}\n"
      ],
      "text/markdown": [
       "\n",
       "A data.frame: 10 × 11\n",
       "\n",
       "| <!--/--> | mpg &lt;dbl&gt; | cyl &lt;int&gt; | disp &lt;dbl&gt; | hp &lt;int&gt; | drat &lt;dbl&gt; | wt &lt;dbl&gt; | qsec &lt;dbl&gt; | vs &lt;int&gt; | am &lt;int&gt; | gear &lt;int&gt; | carb &lt;int&gt; |\n",
       "|---|---|---|---|---|---|---|---|---|---|---|---|\n",
       "| 2 |   NA | 6 | 160.0 |  NA | 3.90 | 2.875 | 17.02 |  0 |  1 |  4 |  4 |\n",
       "| 4 |   NA | 6 |    NA | 110 | 3.08 | 3.215 | 19.44 |  1 |  0 |  3 |  1 |\n",
       "| 5 |   NA | 8 | 360.0 | 175 | 3.15 | 3.440 | 17.02 |  0 |  0 |  3 |  2 |\n",
       "| 6 | 18.1 | 6 | 225.0 | 105 |   NA | 3.460 | 20.22 |  1 |  0 |  3 |  1 |\n",
       "| 7 | 14.3 | 8 | 360.0 | 245 | 3.21 | 3.570 | 15.84 |  0 |  0 |  3 |  4 |\n",
       "| 8 | 24.4 | 4 | 146.7 |  62 | 3.69 | 3.190 | 20.00 |  1 |  0 |  4 |  2 |\n",
       "| 11 |   NA | 6 | 167.6 | 123 | 3.92 | 3.440 | 18.90 |  1 | NA |  4 | NA |\n",
       "| 12 | 16.4 | 8 | 275.8 |  NA |   NA |    NA |    NA | NA | NA |  3 |  3 |\n",
       "| 13 | 17.3 | 8 | 275.8 | 180 |   NA | 3.730 | 17.60 |  0 |  0 | NA | NA |\n",
       "| 14 | 15.2 | 8 | 275.8 | 180 | 3.07 |    NA | 18.00 |  0 |  0 |  3 |  3 |\n",
       "\n"
      ],
      "text/plain": [
       "   mpg  cyl disp  hp  drat wt    qsec  vs am gear carb\n",
       "2    NA 6   160.0  NA 3.90 2.875 17.02  0  1  4    4  \n",
       "4    NA 6      NA 110 3.08 3.215 19.44  1  0  3    1  \n",
       "5    NA 8   360.0 175 3.15 3.440 17.02  0  0  3    2  \n",
       "6  18.1 6   225.0 105   NA 3.460 20.22  1  0  3    1  \n",
       "7  14.3 8   360.0 245 3.21 3.570 15.84  0  0  3    4  \n",
       "8  24.4 4   146.7  62 3.69 3.190 20.00  1  0  4    2  \n",
       "11   NA 6   167.6 123 3.92 3.440 18.90  1 NA  4   NA  \n",
       "12 16.4 8   275.8  NA   NA    NA    NA NA NA  3    3  \n",
       "13 17.3 8   275.8 180   NA 3.730 17.60  0  0 NA   NA  \n",
       "14 15.2 8   275.8 180 3.07    NA 18.00  0  0  3    3  "
      ]
     },
     "metadata": {},
     "output_type": "display_data"
    }
   ],
   "source": [
    "# Extraemos los registros donde una columna dada es no nula (en forma de matriz):\n",
    "df[!is.na(df$cyl),]"
   ]
  },
  {
   "cell_type": "code",
   "execution_count": 10,
   "metadata": {
    "vscode": {
     "languageId": "r"
    }
   },
   "outputs": [
    {
     "data": {
      "text/html": [
       "<style>\n",
       ".list-inline {list-style: none; margin:0; padding: 0}\n",
       ".list-inline>li {display: inline-block}\n",
       ".list-inline>li:not(:last-child)::after {content: \"\\00b7\"; padding: 0 .5ex}\n",
       "</style>\n",
       "<ol class=list-inline><li>6</li><li>6</li><li>8</li><li>6</li><li>8</li><li>4</li><li>6</li><li>8</li><li>8</li><li>8</li></ol>\n"
      ],
      "text/latex": [
       "\\begin{enumerate*}\n",
       "\\item 6\n",
       "\\item 6\n",
       "\\item 8\n",
       "\\item 6\n",
       "\\item 8\n",
       "\\item 4\n",
       "\\item 6\n",
       "\\item 8\n",
       "\\item 8\n",
       "\\item 8\n",
       "\\end{enumerate*}\n"
      ],
      "text/markdown": [
       "1. 6\n",
       "2. 6\n",
       "3. 8\n",
       "4. 6\n",
       "5. 8\n",
       "6. 4\n",
       "7. 6\n",
       "8. 8\n",
       "9. 8\n",
       "10. 8\n",
       "\n",
       "\n"
      ],
      "text/plain": [
       " [1] 6 6 8 6 8 4 6 8 8 8"
      ]
     },
     "metadata": {},
     "output_type": "display_data"
    }
   ],
   "source": [
    "# Extraemos los valores no nulos de una columna dada:\n",
    "df$cyl[!is.na(df$cyl)]"
   ]
  },
  {
   "cell_type": "code",
   "execution_count": 11,
   "metadata": {
    "vscode": {
     "languageId": "r"
    }
   },
   "outputs": [
    {
     "data": {
      "text/html": [
       "6.8"
      ],
      "text/latex": [
       "6.8"
      ],
      "text/markdown": [
       "6.8"
      ],
      "text/plain": [
       "[1] 6.8"
      ]
     },
     "metadata": {},
     "output_type": "display_data"
    }
   ],
   "source": [
    "# Extraemos la media de los valores no nulos de una columna dada:\n",
    "mu_cyl <- mean(df$cyl[!is.na(df$cyl)])\n",
    "mu_cyl"
   ]
  },
  {
   "cell_type": "code",
   "execution_count": 12,
   "metadata": {
    "vscode": {
     "languageId": "r"
    }
   },
   "outputs": [
    {
     "data": {
      "text/html": [
       "<style>\n",
       ".list-inline {list-style: none; margin:0; padding: 0}\n",
       ".list-inline>li {display: inline-block}\n",
       ".list-inline>li:not(:last-child)::after {content: \"\\00b7\"; padding: 0 .5ex}\n",
       "</style>\n",
       "<ol class=list-inline><li>4</li><li>4</li><li>1</li><li>1</li><li>2</li><li>1</li><li>4</li><li>2</li><li>2</li><li>4</li><li>3</li><li>3</li></ol>\n"
      ],
      "text/latex": [
       "\\begin{enumerate*}\n",
       "\\item 4\n",
       "\\item 4\n",
       "\\item 1\n",
       "\\item 1\n",
       "\\item 2\n",
       "\\item 1\n",
       "\\item 4\n",
       "\\item 2\n",
       "\\item 2\n",
       "\\item 4\n",
       "\\item 3\n",
       "\\item 3\n",
       "\\end{enumerate*}\n"
      ],
      "text/markdown": [
       "1. 4\n",
       "2. 4\n",
       "3. 1\n",
       "4. 1\n",
       "5. 2\n",
       "6. 1\n",
       "7. 4\n",
       "8. 2\n",
       "9. 2\n",
       "10. 4\n",
       "11. 3\n",
       "12. 3\n",
       "\n",
       "\n"
      ],
      "text/plain": [
       " [1] 4 4 1 1 2 1 4 2 2 4 3 3"
      ]
     },
     "metadata": {},
     "output_type": "display_data"
    }
   ],
   "source": [
    "# Extraemos los valores no nulos de una columna dada\n",
    "df$carb[!is.na(df$carb)]"
   ]
  },
  {
   "cell_type": "code",
   "execution_count": 13,
   "metadata": {
    "vscode": {
     "languageId": "r"
    }
   },
   "outputs": [
    {
     "data": {
      "text/html": [
       "2.58333333333333"
      ],
      "text/latex": [
       "2.58333333333333"
      ],
      "text/markdown": [
       "2.58333333333333"
      ],
      "text/plain": [
       "[1] 2.583333"
      ]
     },
     "metadata": {},
     "output_type": "display_data"
    }
   ],
   "source": [
    "# Extraemos la media de los valores no nulos de una columna dada:\n",
    "mu_carb <- mean(df$carb[!is.na(df$carb)])\n",
    "mu_carb"
   ]
  },
  {
   "cell_type": "code",
   "execution_count": 14,
   "metadata": {
    "vscode": {
     "languageId": "r"
    }
   },
   "outputs": [
    {
     "data": {
      "text/html": [
       "<style>\n",
       ".list-inline {list-style: none; margin:0; padding: 0}\n",
       ".list-inline>li {display: inline-block}\n",
       ".list-inline>li:not(:last-child)::after {content: \"\\00b7\"; padding: 0 .5ex}\n",
       "</style>\n",
       "<ol class=list-inline><li>4</li><li>1</li><li>2</li><li>1</li><li>4</li><li>2</li><li>&lt;NA&gt;</li><li>3</li><li>&lt;NA&gt;</li><li>3</li></ol>\n"
      ],
      "text/latex": [
       "\\begin{enumerate*}\n",
       "\\item 4\n",
       "\\item 1\n",
       "\\item 2\n",
       "\\item 1\n",
       "\\item 4\n",
       "\\item 2\n",
       "\\item <NA>\n",
       "\\item 3\n",
       "\\item <NA>\n",
       "\\item 3\n",
       "\\end{enumerate*}\n"
      ],
      "text/markdown": [
       "1. 4\n",
       "2. 1\n",
       "3. 2\n",
       "4. 1\n",
       "5. 4\n",
       "6. 2\n",
       "7. &lt;NA&gt;\n",
       "8. 3\n",
       "9. &lt;NA&gt;\n",
       "10. 3\n",
       "\n",
       "\n"
      ],
      "text/plain": [
       " [1]  4  1  2  1  4  2 NA  3 NA  3"
      ]
     },
     "metadata": {},
     "output_type": "display_data"
    }
   ],
   "source": [
    "# Extraemos los valores de la columna \"carb\" donde \"cyl\" es no nula:\n",
    "df$carb[!is.na(df$cyl)]"
   ]
  },
  {
   "cell_type": "code",
   "execution_count": 15,
   "metadata": {
    "vscode": {
     "languageId": "r"
    }
   },
   "outputs": [
    {
     "data": {
      "text/html": [
       "<table class=\"dataframe\">\n",
       "<caption>A data.frame: 10 × 2</caption>\n",
       "<thead>\n",
       "\t<tr><th></th><th scope=col>cyl</th><th scope=col>carb</th></tr>\n",
       "\t<tr><th></th><th scope=col>&lt;int&gt;</th><th scope=col>&lt;int&gt;</th></tr>\n",
       "</thead>\n",
       "<tbody>\n",
       "\t<tr><th scope=row>2</th><td>6</td><td> 4</td></tr>\n",
       "\t<tr><th scope=row>4</th><td>6</td><td> 1</td></tr>\n",
       "\t<tr><th scope=row>5</th><td>8</td><td> 2</td></tr>\n",
       "\t<tr><th scope=row>6</th><td>6</td><td> 1</td></tr>\n",
       "\t<tr><th scope=row>7</th><td>8</td><td> 4</td></tr>\n",
       "\t<tr><th scope=row>8</th><td>4</td><td> 2</td></tr>\n",
       "\t<tr><th scope=row>11</th><td>6</td><td>NA</td></tr>\n",
       "\t<tr><th scope=row>12</th><td>8</td><td> 3</td></tr>\n",
       "\t<tr><th scope=row>13</th><td>8</td><td>NA</td></tr>\n",
       "\t<tr><th scope=row>14</th><td>8</td><td> 3</td></tr>\n",
       "</tbody>\n",
       "</table>\n"
      ],
      "text/latex": [
       "A data.frame: 10 × 2\n",
       "\\begin{tabular}{r|ll}\n",
       "  & cyl & carb\\\\\n",
       "  & <int> & <int>\\\\\n",
       "\\hline\n",
       "\t2 & 6 &  4\\\\\n",
       "\t4 & 6 &  1\\\\\n",
       "\t5 & 8 &  2\\\\\n",
       "\t6 & 6 &  1\\\\\n",
       "\t7 & 8 &  4\\\\\n",
       "\t8 & 4 &  2\\\\\n",
       "\t11 & 6 & NA\\\\\n",
       "\t12 & 8 &  3\\\\\n",
       "\t13 & 8 & NA\\\\\n",
       "\t14 & 8 &  3\\\\\n",
       "\\end{tabular}\n"
      ],
      "text/markdown": [
       "\n",
       "A data.frame: 10 × 2\n",
       "\n",
       "| <!--/--> | cyl &lt;int&gt; | carb &lt;int&gt; |\n",
       "|---|---|---|\n",
       "| 2 | 6 |  4 |\n",
       "| 4 | 6 |  1 |\n",
       "| 5 | 8 |  2 |\n",
       "| 6 | 6 |  1 |\n",
       "| 7 | 8 |  4 |\n",
       "| 8 | 4 |  2 |\n",
       "| 11 | 6 | NA |\n",
       "| 12 | 8 |  3 |\n",
       "| 13 | 8 | NA |\n",
       "| 14 | 8 |  3 |\n",
       "\n"
      ],
      "text/plain": [
       "   cyl carb\n",
       "2  6    4  \n",
       "4  6    1  \n",
       "5  8    2  \n",
       "6  6    1  \n",
       "7  8    4  \n",
       "8  4    2  \n",
       "11 6   NA  \n",
       "12 8    3  \n",
       "13 8   NA  \n",
       "14 8    3  "
      ]
     },
     "metadata": {},
     "output_type": "display_data"
    }
   ],
   "source": [
    "# Extraemos los registros de dos columnas donde una de ellas es no nula (en forma de matriz):\n",
    "df[!is.na(df$cyl),][c('cyl','carb')]"
   ]
  },
  {
   "cell_type": "code",
   "execution_count": 16,
   "metadata": {
    "vscode": {
     "languageId": "r"
    }
   },
   "outputs": [
    {
     "data": {
      "text/html": [
       "<table class=\"dataframe\">\n",
       "<caption>A data.frame: 10 × 2</caption>\n",
       "<thead>\n",
       "\t<tr><th></th><th scope=col>cyl</th><th scope=col>carb</th></tr>\n",
       "\t<tr><th></th><th scope=col>&lt;int&gt;</th><th scope=col>&lt;int&gt;</th></tr>\n",
       "</thead>\n",
       "<tbody>\n",
       "\t<tr><th scope=row>2</th><td>6</td><td> 4</td></tr>\n",
       "\t<tr><th scope=row>4</th><td>6</td><td> 1</td></tr>\n",
       "\t<tr><th scope=row>5</th><td>8</td><td> 2</td></tr>\n",
       "\t<tr><th scope=row>6</th><td>6</td><td> 1</td></tr>\n",
       "\t<tr><th scope=row>7</th><td>8</td><td> 4</td></tr>\n",
       "\t<tr><th scope=row>8</th><td>4</td><td> 2</td></tr>\n",
       "\t<tr><th scope=row>11</th><td>6</td><td>NA</td></tr>\n",
       "\t<tr><th scope=row>12</th><td>8</td><td> 3</td></tr>\n",
       "\t<tr><th scope=row>13</th><td>8</td><td>NA</td></tr>\n",
       "\t<tr><th scope=row>14</th><td>8</td><td> 3</td></tr>\n",
       "</tbody>\n",
       "</table>\n"
      ],
      "text/latex": [
       "A data.frame: 10 × 2\n",
       "\\begin{tabular}{r|ll}\n",
       "  & cyl & carb\\\\\n",
       "  & <int> & <int>\\\\\n",
       "\\hline\n",
       "\t2 & 6 &  4\\\\\n",
       "\t4 & 6 &  1\\\\\n",
       "\t5 & 8 &  2\\\\\n",
       "\t6 & 6 &  1\\\\\n",
       "\t7 & 8 &  4\\\\\n",
       "\t8 & 4 &  2\\\\\n",
       "\t11 & 6 & NA\\\\\n",
       "\t12 & 8 &  3\\\\\n",
       "\t13 & 8 & NA\\\\\n",
       "\t14 & 8 &  3\\\\\n",
       "\\end{tabular}\n"
      ],
      "text/markdown": [
       "\n",
       "A data.frame: 10 × 2\n",
       "\n",
       "| <!--/--> | cyl &lt;int&gt; | carb &lt;int&gt; |\n",
       "|---|---|---|\n",
       "| 2 | 6 |  4 |\n",
       "| 4 | 6 |  1 |\n",
       "| 5 | 8 |  2 |\n",
       "| 6 | 6 |  1 |\n",
       "| 7 | 8 |  4 |\n",
       "| 8 | 4 |  2 |\n",
       "| 11 | 6 | NA |\n",
       "| 12 | 8 |  3 |\n",
       "| 13 | 8 | NA |\n",
       "| 14 | 8 |  3 |\n",
       "\n"
      ],
      "text/plain": [
       "   cyl carb\n",
       "2  6    4  \n",
       "4  6    1  \n",
       "5  8    2  \n",
       "6  6    1  \n",
       "7  8    4  \n",
       "8  4    2  \n",
       "11 6   NA  \n",
       "12 8    3  \n",
       "13 8   NA  \n",
       "14 8    3  "
      ]
     },
     "metadata": {},
     "output_type": "display_data"
    }
   ],
   "source": [
    "# Extraemos los registros de dos columnas donde una de ellas es no nula (en forma de matriz):\n",
    "df[c('cyl','carb')][!is.na(df$cyl),]"
   ]
  },
  {
   "cell_type": "code",
   "execution_count": 17,
   "metadata": {
    "vscode": {
     "languageId": "r"
    }
   },
   "outputs": [
    {
     "data": {
      "text/html": [
       "<table class=\"dataframe\">\n",
       "<caption>A data.frame: 10 × 1</caption>\n",
       "<thead>\n",
       "\t<tr><th></th><th scope=col>cyl</th></tr>\n",
       "\t<tr><th></th><th scope=col>&lt;int&gt;</th></tr>\n",
       "</thead>\n",
       "<tbody>\n",
       "\t<tr><th scope=row>2</th><td>6</td></tr>\n",
       "\t<tr><th scope=row>4</th><td>6</td></tr>\n",
       "\t<tr><th scope=row>5</th><td>8</td></tr>\n",
       "\t<tr><th scope=row>6</th><td>6</td></tr>\n",
       "\t<tr><th scope=row>7</th><td>8</td></tr>\n",
       "\t<tr><th scope=row>8</th><td>4</td></tr>\n",
       "\t<tr><th scope=row>11</th><td>6</td></tr>\n",
       "\t<tr><th scope=row>12</th><td>8</td></tr>\n",
       "\t<tr><th scope=row>13</th><td>8</td></tr>\n",
       "\t<tr><th scope=row>14</th><td>8</td></tr>\n",
       "</tbody>\n",
       "</table>\n"
      ],
      "text/latex": [
       "A data.frame: 10 × 1\n",
       "\\begin{tabular}{r|l}\n",
       "  & cyl\\\\\n",
       "  & <int>\\\\\n",
       "\\hline\n",
       "\t2 & 6\\\\\n",
       "\t4 & 6\\\\\n",
       "\t5 & 8\\\\\n",
       "\t6 & 6\\\\\n",
       "\t7 & 8\\\\\n",
       "\t8 & 4\\\\\n",
       "\t11 & 6\\\\\n",
       "\t12 & 8\\\\\n",
       "\t13 & 8\\\\\n",
       "\t14 & 8\\\\\n",
       "\\end{tabular}\n"
      ],
      "text/markdown": [
       "\n",
       "A data.frame: 10 × 1\n",
       "\n",
       "| <!--/--> | cyl &lt;int&gt; |\n",
       "|---|---|\n",
       "| 2 | 6 |\n",
       "| 4 | 6 |\n",
       "| 5 | 8 |\n",
       "| 6 | 6 |\n",
       "| 7 | 8 |\n",
       "| 8 | 4 |\n",
       "| 11 | 6 |\n",
       "| 12 | 8 |\n",
       "| 13 | 8 |\n",
       "| 14 | 8 |\n",
       "\n"
      ],
      "text/plain": [
       "   cyl\n",
       "2  6  \n",
       "4  6  \n",
       "5  8  \n",
       "6  6  \n",
       "7  8  \n",
       "8  4  \n",
       "11 6  \n",
       "12 8  \n",
       "13 8  \n",
       "14 8  "
      ]
     },
     "metadata": {},
     "output_type": "display_data"
    }
   ],
   "source": [
    "# Extraemos los valores no nulos de una columna dada (en forma de matriz):\n",
    "df[!is.na(df$cyl),]['cyl']"
   ]
  },
  {
   "cell_type": "code",
   "execution_count": 18,
   "metadata": {
    "vscode": {
     "languageId": "r"
    }
   },
   "outputs": [
    {
     "data": {
      "text/html": [
       "<table class=\"dataframe\">\n",
       "<caption>A data.frame: 10 × 11</caption>\n",
       "<thead>\n",
       "\t<tr><th></th><th scope=col>mpg</th><th scope=col>cyl</th><th scope=col>disp</th><th scope=col>hp</th><th scope=col>drat</th><th scope=col>wt</th><th scope=col>qsec</th><th scope=col>vs</th><th scope=col>am</th><th scope=col>gear</th><th scope=col>carb</th></tr>\n",
       "\t<tr><th></th><th scope=col>&lt;dbl&gt;</th><th scope=col>&lt;int&gt;</th><th scope=col>&lt;dbl&gt;</th><th scope=col>&lt;int&gt;</th><th scope=col>&lt;dbl&gt;</th><th scope=col>&lt;dbl&gt;</th><th scope=col>&lt;dbl&gt;</th><th scope=col>&lt;int&gt;</th><th scope=col>&lt;int&gt;</th><th scope=col>&lt;int&gt;</th><th scope=col>&lt;int&gt;</th></tr>\n",
       "</thead>\n",
       "<tbody>\n",
       "\t<tr><th scope=row>2</th><td>  NA</td><td>6</td><td>160.0</td><td> NA</td><td>3.90</td><td>2.875</td><td>17.02</td><td> 0</td><td> 1</td><td> 4</td><td> 4</td></tr>\n",
       "\t<tr><th scope=row>4</th><td>  NA</td><td>6</td><td>   NA</td><td>110</td><td>3.08</td><td>3.215</td><td>19.44</td><td> 1</td><td> 0</td><td> 3</td><td> 1</td></tr>\n",
       "\t<tr><th scope=row>5</th><td>  NA</td><td>8</td><td>360.0</td><td>175</td><td>3.15</td><td>3.440</td><td>17.02</td><td> 0</td><td> 0</td><td> 3</td><td> 2</td></tr>\n",
       "\t<tr><th scope=row>6</th><td>18.1</td><td>6</td><td>225.0</td><td>105</td><td>  NA</td><td>3.460</td><td>20.22</td><td> 1</td><td> 0</td><td> 3</td><td> 1</td></tr>\n",
       "\t<tr><th scope=row>7</th><td>14.3</td><td>8</td><td>360.0</td><td>245</td><td>3.21</td><td>3.570</td><td>15.84</td><td> 0</td><td> 0</td><td> 3</td><td> 4</td></tr>\n",
       "\t<tr><th scope=row>8</th><td>24.4</td><td>4</td><td>146.7</td><td> 62</td><td>3.69</td><td>3.190</td><td>20.00</td><td> 1</td><td> 0</td><td> 4</td><td> 2</td></tr>\n",
       "\t<tr><th scope=row>11</th><td>  NA</td><td>6</td><td>167.6</td><td>123</td><td>3.92</td><td>3.440</td><td>18.90</td><td> 1</td><td>NA</td><td> 4</td><td>NA</td></tr>\n",
       "\t<tr><th scope=row>12</th><td>16.4</td><td>8</td><td>275.8</td><td> NA</td><td>  NA</td><td>   NA</td><td>   NA</td><td>NA</td><td>NA</td><td> 3</td><td> 3</td></tr>\n",
       "\t<tr><th scope=row>13</th><td>17.3</td><td>8</td><td>275.8</td><td>180</td><td>  NA</td><td>3.730</td><td>17.60</td><td> 0</td><td> 0</td><td>NA</td><td>NA</td></tr>\n",
       "\t<tr><th scope=row>14</th><td>15.2</td><td>8</td><td>275.8</td><td>180</td><td>3.07</td><td>   NA</td><td>18.00</td><td> 0</td><td> 0</td><td> 3</td><td> 3</td></tr>\n",
       "</tbody>\n",
       "</table>\n"
      ],
      "text/latex": [
       "A data.frame: 10 × 11\n",
       "\\begin{tabular}{r|lllllllllll}\n",
       "  & mpg & cyl & disp & hp & drat & wt & qsec & vs & am & gear & carb\\\\\n",
       "  & <dbl> & <int> & <dbl> & <int> & <dbl> & <dbl> & <dbl> & <int> & <int> & <int> & <int>\\\\\n",
       "\\hline\n",
       "\t2 &   NA & 6 & 160.0 &  NA & 3.90 & 2.875 & 17.02 &  0 &  1 &  4 &  4\\\\\n",
       "\t4 &   NA & 6 &    NA & 110 & 3.08 & 3.215 & 19.44 &  1 &  0 &  3 &  1\\\\\n",
       "\t5 &   NA & 8 & 360.0 & 175 & 3.15 & 3.440 & 17.02 &  0 &  0 &  3 &  2\\\\\n",
       "\t6 & 18.1 & 6 & 225.0 & 105 &   NA & 3.460 & 20.22 &  1 &  0 &  3 &  1\\\\\n",
       "\t7 & 14.3 & 8 & 360.0 & 245 & 3.21 & 3.570 & 15.84 &  0 &  0 &  3 &  4\\\\\n",
       "\t8 & 24.4 & 4 & 146.7 &  62 & 3.69 & 3.190 & 20.00 &  1 &  0 &  4 &  2\\\\\n",
       "\t11 &   NA & 6 & 167.6 & 123 & 3.92 & 3.440 & 18.90 &  1 & NA &  4 & NA\\\\\n",
       "\t12 & 16.4 & 8 & 275.8 &  NA &   NA &    NA &    NA & NA & NA &  3 &  3\\\\\n",
       "\t13 & 17.3 & 8 & 275.8 & 180 &   NA & 3.730 & 17.60 &  0 &  0 & NA & NA\\\\\n",
       "\t14 & 15.2 & 8 & 275.8 & 180 & 3.07 &    NA & 18.00 &  0 &  0 &  3 &  3\\\\\n",
       "\\end{tabular}\n"
      ],
      "text/markdown": [
       "\n",
       "A data.frame: 10 × 11\n",
       "\n",
       "| <!--/--> | mpg &lt;dbl&gt; | cyl &lt;int&gt; | disp &lt;dbl&gt; | hp &lt;int&gt; | drat &lt;dbl&gt; | wt &lt;dbl&gt; | qsec &lt;dbl&gt; | vs &lt;int&gt; | am &lt;int&gt; | gear &lt;int&gt; | carb &lt;int&gt; |\n",
       "|---|---|---|---|---|---|---|---|---|---|---|---|\n",
       "| 2 |   NA | 6 | 160.0 |  NA | 3.90 | 2.875 | 17.02 |  0 |  1 |  4 |  4 |\n",
       "| 4 |   NA | 6 |    NA | 110 | 3.08 | 3.215 | 19.44 |  1 |  0 |  3 |  1 |\n",
       "| 5 |   NA | 8 | 360.0 | 175 | 3.15 | 3.440 | 17.02 |  0 |  0 |  3 |  2 |\n",
       "| 6 | 18.1 | 6 | 225.0 | 105 |   NA | 3.460 | 20.22 |  1 |  0 |  3 |  1 |\n",
       "| 7 | 14.3 | 8 | 360.0 | 245 | 3.21 | 3.570 | 15.84 |  0 |  0 |  3 |  4 |\n",
       "| 8 | 24.4 | 4 | 146.7 |  62 | 3.69 | 3.190 | 20.00 |  1 |  0 |  4 |  2 |\n",
       "| 11 |   NA | 6 | 167.6 | 123 | 3.92 | 3.440 | 18.90 |  1 | NA |  4 | NA |\n",
       "| 12 | 16.4 | 8 | 275.8 |  NA |   NA |    NA |    NA | NA | NA |  3 |  3 |\n",
       "| 13 | 17.3 | 8 | 275.8 | 180 |   NA | 3.730 | 17.60 |  0 |  0 | NA | NA |\n",
       "| 14 | 15.2 | 8 | 275.8 | 180 | 3.07 |    NA | 18.00 |  0 |  0 |  3 |  3 |\n",
       "\n"
      ],
      "text/plain": [
       "   mpg  cyl disp  hp  drat wt    qsec  vs am gear carb\n",
       "2    NA 6   160.0  NA 3.90 2.875 17.02  0  1  4    4  \n",
       "4    NA 6      NA 110 3.08 3.215 19.44  1  0  3    1  \n",
       "5    NA 8   360.0 175 3.15 3.440 17.02  0  0  3    2  \n",
       "6  18.1 6   225.0 105   NA 3.460 20.22  1  0  3    1  \n",
       "7  14.3 8   360.0 245 3.21 3.570 15.84  0  0  3    4  \n",
       "8  24.4 4   146.7  62 3.69 3.190 20.00  1  0  4    2  \n",
       "11   NA 6   167.6 123 3.92 3.440 18.90  1 NA  4   NA  \n",
       "12 16.4 8   275.8  NA   NA    NA    NA NA NA  3    3  \n",
       "13 17.3 8   275.8 180   NA 3.730 17.60  0  0 NA   NA  \n",
       "14 15.2 8   275.8 180 3.07    NA 18.00  0  0  3    3  "
      ]
     },
     "metadata": {},
     "output_type": "display_data"
    }
   ],
   "source": [
    "# Extraemos los registros donde una columna dada es no nula (en forma de matriz):\n",
    "df[!is.na(df$cyl),]"
   ]
  },
  {
   "cell_type": "code",
   "execution_count": 19,
   "metadata": {
    "vscode": {
     "languageId": "r"
    }
   },
   "outputs": [
    {
     "name": "stdout",
     "output_type": "stream",
     "text": [
      "[1] 6.8\n",
      "[1] 2.583333\n"
     ]
    }
   ],
   "source": [
    "print(mu_cyl)\n",
    "print(mu_carb)"
   ]
  },
  {
   "cell_type": "code",
   "execution_count": 21,
   "metadata": {
    "vscode": {
     "languageId": "r"
    }
   },
   "outputs": [],
   "source": [
    "# Reemplazamos los valores nulos de una columna por su promedio:\n",
    "df$cyl[is.na(df$cyl)] <- mu_cyl\n",
    "df$carb[is.na(df$carb)] <- mu_carb"
   ]
  },
  {
   "cell_type": "code",
   "execution_count": 22,
   "metadata": {
    "vscode": {
     "languageId": "r"
    }
   },
   "outputs": [
    {
     "data": {
      "text/html": [
       "<table class=\"dataframe\">\n",
       "<caption>A data.frame: 14 × 2</caption>\n",
       "<thead>\n",
       "\t<tr><th scope=col>cyl</th><th scope=col>carb</th></tr>\n",
       "\t<tr><th scope=col>&lt;dbl&gt;</th><th scope=col>&lt;dbl&gt;</th></tr>\n",
       "</thead>\n",
       "<tbody>\n",
       "\t<tr><td>6.8</td><td>4.000000</td></tr>\n",
       "\t<tr><td>6.0</td><td>4.000000</td></tr>\n",
       "\t<tr><td>6.8</td><td>1.000000</td></tr>\n",
       "\t<tr><td>6.0</td><td>1.000000</td></tr>\n",
       "\t<tr><td>8.0</td><td>2.000000</td></tr>\n",
       "\t<tr><td>6.0</td><td>1.000000</td></tr>\n",
       "\t<tr><td>8.0</td><td>4.000000</td></tr>\n",
       "\t<tr><td>4.0</td><td>2.000000</td></tr>\n",
       "\t<tr><td>6.8</td><td>2.000000</td></tr>\n",
       "\t<tr><td>6.8</td><td>4.000000</td></tr>\n",
       "\t<tr><td>6.0</td><td>2.583333</td></tr>\n",
       "\t<tr><td>8.0</td><td>3.000000</td></tr>\n",
       "\t<tr><td>8.0</td><td>2.583333</td></tr>\n",
       "\t<tr><td>8.0</td><td>3.000000</td></tr>\n",
       "</tbody>\n",
       "</table>\n"
      ],
      "text/latex": [
       "A data.frame: 14 × 2\n",
       "\\begin{tabular}{ll}\n",
       " cyl & carb\\\\\n",
       " <dbl> & <dbl>\\\\\n",
       "\\hline\n",
       "\t 6.8 & 4.000000\\\\\n",
       "\t 6.0 & 4.000000\\\\\n",
       "\t 6.8 & 1.000000\\\\\n",
       "\t 6.0 & 1.000000\\\\\n",
       "\t 8.0 & 2.000000\\\\\n",
       "\t 6.0 & 1.000000\\\\\n",
       "\t 8.0 & 4.000000\\\\\n",
       "\t 4.0 & 2.000000\\\\\n",
       "\t 6.8 & 2.000000\\\\\n",
       "\t 6.8 & 4.000000\\\\\n",
       "\t 6.0 & 2.583333\\\\\n",
       "\t 8.0 & 3.000000\\\\\n",
       "\t 8.0 & 2.583333\\\\\n",
       "\t 8.0 & 3.000000\\\\\n",
       "\\end{tabular}\n"
      ],
      "text/markdown": [
       "\n",
       "A data.frame: 14 × 2\n",
       "\n",
       "| cyl &lt;dbl&gt; | carb &lt;dbl&gt; |\n",
       "|---|---|\n",
       "| 6.8 | 4.000000 |\n",
       "| 6.0 | 4.000000 |\n",
       "| 6.8 | 1.000000 |\n",
       "| 6.0 | 1.000000 |\n",
       "| 8.0 | 2.000000 |\n",
       "| 6.0 | 1.000000 |\n",
       "| 8.0 | 4.000000 |\n",
       "| 4.0 | 2.000000 |\n",
       "| 6.8 | 2.000000 |\n",
       "| 6.8 | 4.000000 |\n",
       "| 6.0 | 2.583333 |\n",
       "| 8.0 | 3.000000 |\n",
       "| 8.0 | 2.583333 |\n",
       "| 8.0 | 3.000000 |\n",
       "\n"
      ],
      "text/plain": [
       "   cyl carb    \n",
       "1  6.8 4.000000\n",
       "2  6.0 4.000000\n",
       "3  6.8 1.000000\n",
       "4  6.0 1.000000\n",
       "5  8.0 2.000000\n",
       "6  6.0 1.000000\n",
       "7  8.0 4.000000\n",
       "8  4.0 2.000000\n",
       "9  6.8 2.000000\n",
       "10 6.8 4.000000\n",
       "11 6.0 2.583333\n",
       "12 8.0 3.000000\n",
       "13 8.0 2.583333\n",
       "14 8.0 3.000000"
      ]
     },
     "metadata": {},
     "output_type": "display_data"
    }
   ],
   "source": [
    "# Extraemos los registros donde una columna dada es no nula (en forma de matriz):\n",
    "df[c('cyl','carb')]"
   ]
  },
  {
   "cell_type": "code",
   "execution_count": null,
   "metadata": {
    "vscode": {
     "languageId": "r"
    }
   },
   "outputs": [],
   "source": []
  },
  {
   "cell_type": "code",
   "execution_count": 23,
   "metadata": {
    "vscode": {
     "languageId": "r"
    }
   },
   "outputs": [
    {
     "data": {
      "text/html": [
       "FALSE"
      ],
      "text/latex": [
       "FALSE"
      ],
      "text/markdown": [
       "FALSE"
      ],
      "text/plain": [
       "[1] FALSE"
      ]
     },
     "metadata": {},
     "output_type": "display_data"
    }
   ],
   "source": [
    "# Verificamos si hay registros vacíos en una columna dada:\n",
    "any(is.na(df$cyl))"
   ]
  },
  {
   "cell_type": "code",
   "execution_count": 25,
   "metadata": {
    "vscode": {
     "languageId": "r"
    }
   },
   "outputs": [
    {
     "data": {
      "text/html": [
       "<style>\n",
       ".list-inline {list-style: none; margin:0; padding: 0}\n",
       ".list-inline>li {display: inline-block}\n",
       ".list-inline>li:not(:last-child)::after {content: \"\\00b7\"; padding: 0 .5ex}\n",
       "</style>\n",
       "<ol class=list-inline><li>FALSE</li><li>FALSE</li><li>FALSE</li><li>FALSE</li><li>FALSE</li><li>FALSE</li><li>FALSE</li><li>FALSE</li><li>FALSE</li><li>FALSE</li><li>FALSE</li><li>FALSE</li><li>FALSE</li><li>FALSE</li></ol>\n"
      ],
      "text/latex": [
       "\\begin{enumerate*}\n",
       "\\item FALSE\n",
       "\\item FALSE\n",
       "\\item FALSE\n",
       "\\item FALSE\n",
       "\\item FALSE\n",
       "\\item FALSE\n",
       "\\item FALSE\n",
       "\\item FALSE\n",
       "\\item FALSE\n",
       "\\item FALSE\n",
       "\\item FALSE\n",
       "\\item FALSE\n",
       "\\item FALSE\n",
       "\\item FALSE\n",
       "\\end{enumerate*}\n"
      ],
      "text/markdown": [
       "1. FALSE\n",
       "2. FALSE\n",
       "3. FALSE\n",
       "4. FALSE\n",
       "5. FALSE\n",
       "6. FALSE\n",
       "7. FALSE\n",
       "8. FALSE\n",
       "9. FALSE\n",
       "10. FALSE\n",
       "11. FALSE\n",
       "12. FALSE\n",
       "13. FALSE\n",
       "14. FALSE\n",
       "\n",
       "\n"
      ],
      "text/plain": [
       " [1] FALSE FALSE FALSE FALSE FALSE FALSE FALSE FALSE FALSE FALSE FALSE FALSE\n",
       "[13] FALSE FALSE"
      ]
     },
     "metadata": {},
     "output_type": "display_data"
    }
   ],
   "source": [
    "is.na(df$cyl)"
   ]
  },
  {
   "cell_type": "code",
   "execution_count": 24,
   "metadata": {
    "vscode": {
     "languageId": "r"
    }
   },
   "outputs": [
    {
     "data": {
      "text/html": [
       "0"
      ],
      "text/latex": [
       "0"
      ],
      "text/markdown": [
       "0"
      ],
      "text/plain": [
       "[1] 0"
      ]
     },
     "metadata": {},
     "output_type": "display_data"
    }
   ],
   "source": [
    "# Verificamos cuántos registros vacíos hay en un columna dada:\n",
    "n_nulls_cyl <- sum(is.na(df$cyl))\n",
    "n_nulls_cyl"
   ]
  },
  {
   "cell_type": "code",
   "execution_count": 26,
   "metadata": {
    "vscode": {
     "languageId": "r"
    }
   },
   "outputs": [
    {
     "data": {
      "text/html": [
       "14"
      ],
      "text/latex": [
       "14"
      ],
      "text/markdown": [
       "14"
      ],
      "text/plain": [
       "[1] 14"
      ]
     },
     "metadata": {},
     "output_type": "display_data"
    }
   ],
   "source": [
    "# Verificamos cuántos registros no vacíos hay en un columna dada:\n",
    "n_not_nulls_cyl <- sum(!is.na(df$cyl))\n",
    "n_not_nulls_cyl"
   ]
  },
  {
   "cell_type": "code",
   "execution_count": 27,
   "metadata": {
    "vscode": {
     "languageId": "r"
    }
   },
   "outputs": [
    {
     "name": "stdout",
     "output_type": "stream",
     "text": [
      "[1] 14\n",
      "[1] 14\n"
     ]
    }
   ],
   "source": [
    "# Número de elementos en una columna dada:\n",
    "l1 <- length(df$cyl)\n",
    "l2 <- n_nulls_cyl + n_not_nulls_cyl\n",
    "\n",
    "print(l1)\n",
    "print(l2)"
   ]
  },
  {
   "cell_type": "code",
   "execution_count": 28,
   "metadata": {
    "vscode": {
     "languageId": "r"
    }
   },
   "outputs": [
    {
     "data": {
      "text/html": [
       "TRUE"
      ],
      "text/latex": [
       "TRUE"
      ],
      "text/markdown": [
       "TRUE"
      ],
      "text/plain": [
       "[1] TRUE"
      ]
     },
     "metadata": {},
     "output_type": "display_data"
    }
   ],
   "source": [
    "# Verificar si existe algún registro vacío en todo el DataFrame:\n",
    "any( is.na(df) )"
   ]
  },
  {
   "cell_type": "code",
   "execution_count": 29,
   "metadata": {
    "vscode": {
     "languageId": "r"
    }
   },
   "outputs": [
    {
     "data": {
      "text/html": [
       "23"
      ],
      "text/latex": [
       "23"
      ],
      "text/markdown": [
       "23"
      ],
      "text/plain": [
       "[1] 23"
      ]
     },
     "metadata": {},
     "output_type": "display_data"
    }
   ],
   "source": [
    "# Numero de registros vacíos en todo el DataFrame:\n",
    "n_nulls_df <- sum( is.na(df) )\n",
    "n_nulls_df"
   ]
  },
  {
   "cell_type": "code",
   "execution_count": 30,
   "metadata": {
    "vscode": {
     "languageId": "r"
    }
   },
   "outputs": [
    {
     "data": {
      "text/html": [
       "131"
      ],
      "text/latex": [
       "131"
      ],
      "text/markdown": [
       "131"
      ],
      "text/plain": [
       "[1] 131"
      ]
     },
     "metadata": {},
     "output_type": "display_data"
    }
   ],
   "source": [
    "# Número de registros no vacíos en todo el DataFrame:\n",
    "n_not_nulls_df <- sum( !is.na(df) )\n",
    "n_not_nulls_df"
   ]
  },
  {
   "cell_type": "code",
   "execution_count": 31,
   "metadata": {
    "vscode": {
     "languageId": "r"
    }
   },
   "outputs": [
    {
     "data": {
      "text/html": [
       "<style>\n",
       ".list-inline {list-style: none; margin:0; padding: 0}\n",
       ".list-inline>li {display: inline-block}\n",
       ".list-inline>li:not(:last-child)::after {content: \"\\00b7\"; padding: 0 .5ex}\n",
       "</style>\n",
       "<ol class=list-inline><li>14</li><li>11</li></ol>\n"
      ],
      "text/latex": [
       "\\begin{enumerate*}\n",
       "\\item 14\n",
       "\\item 11\n",
       "\\end{enumerate*}\n"
      ],
      "text/markdown": [
       "1. 14\n",
       "2. 11\n",
       "\n",
       "\n"
      ],
      "text/plain": [
       "[1] 14 11"
      ]
     },
     "metadata": {},
     "output_type": "display_data"
    }
   ],
   "source": [
    "# Números de renglones y columnas del DataFrame:\n",
    "dim(df)"
   ]
  },
  {
   "cell_type": "code",
   "execution_count": 32,
   "metadata": {
    "vscode": {
     "languageId": "r"
    }
   },
   "outputs": [
    {
     "name": "stdout",
     "output_type": "stream",
     "text": [
      "[1] 154\n",
      "[1] 154\n"
     ]
    }
   ],
   "source": [
    "# Número de entradas del DataFrame:\n",
    "d1 <- prod( dim(df) )\n",
    "d2 <- n_nulls_df + n_not_nulls_df\n",
    "\n",
    "print(d1)\n",
    "print(d2)"
   ]
  },
  {
   "cell_type": "code",
   "execution_count": null,
   "metadata": {
    "vscode": {
     "languageId": "r"
    }
   },
   "outputs": [],
   "source": []
  },
  {
   "cell_type": "code",
   "execution_count": 33,
   "metadata": {
    "vscode": {
     "languageId": "r"
    }
   },
   "outputs": [
    {
     "data": {
      "text/html": [
       "<table class=\"dataframe\">\n",
       "<caption>A data.frame: 14 × 11</caption>\n",
       "<thead>\n",
       "\t<tr><th scope=col>mpg</th><th scope=col>cyl</th><th scope=col>disp</th><th scope=col>hp</th><th scope=col>drat</th><th scope=col>wt</th><th scope=col>qsec</th><th scope=col>vs</th><th scope=col>am</th><th scope=col>gear</th><th scope=col>carb</th></tr>\n",
       "\t<tr><th scope=col>&lt;dbl&gt;</th><th scope=col>&lt;dbl&gt;</th><th scope=col>&lt;dbl&gt;</th><th scope=col>&lt;dbl&gt;</th><th scope=col>&lt;dbl&gt;</th><th scope=col>&lt;dbl&gt;</th><th scope=col>&lt;dbl&gt;</th><th scope=col>&lt;dbl&gt;</th><th scope=col>&lt;dbl&gt;</th><th scope=col>&lt;dbl&gt;</th><th scope=col>&lt;dbl&gt;</th></tr>\n",
       "</thead>\n",
       "<tbody>\n",
       "\t<tr><td>21.0</td><td>6.8</td><td>  0.0</td><td>  0</td><td>3.90</td><td>0.000</td><td>16.46</td><td>0</td><td>1</td><td>4</td><td>4.000000</td></tr>\n",
       "\t<tr><td> 0.0</td><td>6.0</td><td>160.0</td><td>  0</td><td>3.90</td><td>2.875</td><td>17.02</td><td>0</td><td>1</td><td>4</td><td>4.000000</td></tr>\n",
       "\t<tr><td>22.8</td><td>6.8</td><td>  0.0</td><td> 93</td><td>3.85</td><td>2.320</td><td>18.61</td><td>1</td><td>1</td><td>4</td><td>1.000000</td></tr>\n",
       "\t<tr><td> 0.0</td><td>6.0</td><td>  0.0</td><td>110</td><td>3.08</td><td>3.215</td><td>19.44</td><td>1</td><td>0</td><td>3</td><td>1.000000</td></tr>\n",
       "\t<tr><td> 0.0</td><td>8.0</td><td>360.0</td><td>175</td><td>3.15</td><td>3.440</td><td>17.02</td><td>0</td><td>0</td><td>3</td><td>2.000000</td></tr>\n",
       "\t<tr><td>18.1</td><td>6.0</td><td>225.0</td><td>105</td><td>0.00</td><td>3.460</td><td>20.22</td><td>1</td><td>0</td><td>3</td><td>1.000000</td></tr>\n",
       "\t<tr><td>14.3</td><td>8.0</td><td>360.0</td><td>245</td><td>3.21</td><td>3.570</td><td>15.84</td><td>0</td><td>0</td><td>3</td><td>4.000000</td></tr>\n",
       "\t<tr><td>24.4</td><td>4.0</td><td>146.7</td><td> 62</td><td>3.69</td><td>3.190</td><td>20.00</td><td>1</td><td>0</td><td>4</td><td>2.000000</td></tr>\n",
       "\t<tr><td>22.8</td><td>6.8</td><td>140.8</td><td>  0</td><td>3.92</td><td>3.150</td><td>22.90</td><td>1</td><td>0</td><td>4</td><td>2.000000</td></tr>\n",
       "\t<tr><td> 0.0</td><td>6.8</td><td>167.6</td><td>123</td><td>3.92</td><td>3.440</td><td>18.30</td><td>1</td><td>0</td><td>4</td><td>4.000000</td></tr>\n",
       "\t<tr><td> 0.0</td><td>6.0</td><td>167.6</td><td>123</td><td>3.92</td><td>3.440</td><td>18.90</td><td>1</td><td>0</td><td>4</td><td>2.583333</td></tr>\n",
       "\t<tr><td>16.4</td><td>8.0</td><td>275.8</td><td>  0</td><td>0.00</td><td>0.000</td><td> 0.00</td><td>0</td><td>0</td><td>3</td><td>3.000000</td></tr>\n",
       "\t<tr><td>17.3</td><td>8.0</td><td>275.8</td><td>180</td><td>0.00</td><td>3.730</td><td>17.60</td><td>0</td><td>0</td><td>0</td><td>2.583333</td></tr>\n",
       "\t<tr><td>15.2</td><td>8.0</td><td>275.8</td><td>180</td><td>3.07</td><td>0.000</td><td>18.00</td><td>0</td><td>0</td><td>3</td><td>3.000000</td></tr>\n",
       "</tbody>\n",
       "</table>\n"
      ],
      "text/latex": [
       "A data.frame: 14 × 11\n",
       "\\begin{tabular}{lllllllllll}\n",
       " mpg & cyl & disp & hp & drat & wt & qsec & vs & am & gear & carb\\\\\n",
       " <dbl> & <dbl> & <dbl> & <dbl> & <dbl> & <dbl> & <dbl> & <dbl> & <dbl> & <dbl> & <dbl>\\\\\n",
       "\\hline\n",
       "\t 21.0 & 6.8 &   0.0 &   0 & 3.90 & 0.000 & 16.46 & 0 & 1 & 4 & 4.000000\\\\\n",
       "\t  0.0 & 6.0 & 160.0 &   0 & 3.90 & 2.875 & 17.02 & 0 & 1 & 4 & 4.000000\\\\\n",
       "\t 22.8 & 6.8 &   0.0 &  93 & 3.85 & 2.320 & 18.61 & 1 & 1 & 4 & 1.000000\\\\\n",
       "\t  0.0 & 6.0 &   0.0 & 110 & 3.08 & 3.215 & 19.44 & 1 & 0 & 3 & 1.000000\\\\\n",
       "\t  0.0 & 8.0 & 360.0 & 175 & 3.15 & 3.440 & 17.02 & 0 & 0 & 3 & 2.000000\\\\\n",
       "\t 18.1 & 6.0 & 225.0 & 105 & 0.00 & 3.460 & 20.22 & 1 & 0 & 3 & 1.000000\\\\\n",
       "\t 14.3 & 8.0 & 360.0 & 245 & 3.21 & 3.570 & 15.84 & 0 & 0 & 3 & 4.000000\\\\\n",
       "\t 24.4 & 4.0 & 146.7 &  62 & 3.69 & 3.190 & 20.00 & 1 & 0 & 4 & 2.000000\\\\\n",
       "\t 22.8 & 6.8 & 140.8 &   0 & 3.92 & 3.150 & 22.90 & 1 & 0 & 4 & 2.000000\\\\\n",
       "\t  0.0 & 6.8 & 167.6 & 123 & 3.92 & 3.440 & 18.30 & 1 & 0 & 4 & 4.000000\\\\\n",
       "\t  0.0 & 6.0 & 167.6 & 123 & 3.92 & 3.440 & 18.90 & 1 & 0 & 4 & 2.583333\\\\\n",
       "\t 16.4 & 8.0 & 275.8 &   0 & 0.00 & 0.000 &  0.00 & 0 & 0 & 3 & 3.000000\\\\\n",
       "\t 17.3 & 8.0 & 275.8 & 180 & 0.00 & 3.730 & 17.60 & 0 & 0 & 0 & 2.583333\\\\\n",
       "\t 15.2 & 8.0 & 275.8 & 180 & 3.07 & 0.000 & 18.00 & 0 & 0 & 3 & 3.000000\\\\\n",
       "\\end{tabular}\n"
      ],
      "text/markdown": [
       "\n",
       "A data.frame: 14 × 11\n",
       "\n",
       "| mpg &lt;dbl&gt; | cyl &lt;dbl&gt; | disp &lt;dbl&gt; | hp &lt;dbl&gt; | drat &lt;dbl&gt; | wt &lt;dbl&gt; | qsec &lt;dbl&gt; | vs &lt;dbl&gt; | am &lt;dbl&gt; | gear &lt;dbl&gt; | carb &lt;dbl&gt; |\n",
       "|---|---|---|---|---|---|---|---|---|---|---|\n",
       "| 21.0 | 6.8 |   0.0 |   0 | 3.90 | 0.000 | 16.46 | 0 | 1 | 4 | 4.000000 |\n",
       "|  0.0 | 6.0 | 160.0 |   0 | 3.90 | 2.875 | 17.02 | 0 | 1 | 4 | 4.000000 |\n",
       "| 22.8 | 6.8 |   0.0 |  93 | 3.85 | 2.320 | 18.61 | 1 | 1 | 4 | 1.000000 |\n",
       "|  0.0 | 6.0 |   0.0 | 110 | 3.08 | 3.215 | 19.44 | 1 | 0 | 3 | 1.000000 |\n",
       "|  0.0 | 8.0 | 360.0 | 175 | 3.15 | 3.440 | 17.02 | 0 | 0 | 3 | 2.000000 |\n",
       "| 18.1 | 6.0 | 225.0 | 105 | 0.00 | 3.460 | 20.22 | 1 | 0 | 3 | 1.000000 |\n",
       "| 14.3 | 8.0 | 360.0 | 245 | 3.21 | 3.570 | 15.84 | 0 | 0 | 3 | 4.000000 |\n",
       "| 24.4 | 4.0 | 146.7 |  62 | 3.69 | 3.190 | 20.00 | 1 | 0 | 4 | 2.000000 |\n",
       "| 22.8 | 6.8 | 140.8 |   0 | 3.92 | 3.150 | 22.90 | 1 | 0 | 4 | 2.000000 |\n",
       "|  0.0 | 6.8 | 167.6 | 123 | 3.92 | 3.440 | 18.30 | 1 | 0 | 4 | 4.000000 |\n",
       "|  0.0 | 6.0 | 167.6 | 123 | 3.92 | 3.440 | 18.90 | 1 | 0 | 4 | 2.583333 |\n",
       "| 16.4 | 8.0 | 275.8 |   0 | 0.00 | 0.000 |  0.00 | 0 | 0 | 3 | 3.000000 |\n",
       "| 17.3 | 8.0 | 275.8 | 180 | 0.00 | 3.730 | 17.60 | 0 | 0 | 0 | 2.583333 |\n",
       "| 15.2 | 8.0 | 275.8 | 180 | 3.07 | 0.000 | 18.00 | 0 | 0 | 3 | 3.000000 |\n",
       "\n"
      ],
      "text/plain": [
       "   mpg  cyl disp  hp  drat wt    qsec  vs am gear carb    \n",
       "1  21.0 6.8   0.0   0 3.90 0.000 16.46 0  1  4    4.000000\n",
       "2   0.0 6.0 160.0   0 3.90 2.875 17.02 0  1  4    4.000000\n",
       "3  22.8 6.8   0.0  93 3.85 2.320 18.61 1  1  4    1.000000\n",
       "4   0.0 6.0   0.0 110 3.08 3.215 19.44 1  0  3    1.000000\n",
       "5   0.0 8.0 360.0 175 3.15 3.440 17.02 0  0  3    2.000000\n",
       "6  18.1 6.0 225.0 105 0.00 3.460 20.22 1  0  3    1.000000\n",
       "7  14.3 8.0 360.0 245 3.21 3.570 15.84 0  0  3    4.000000\n",
       "8  24.4 4.0 146.7  62 3.69 3.190 20.00 1  0  4    2.000000\n",
       "9  22.8 6.8 140.8   0 3.92 3.150 22.90 1  0  4    2.000000\n",
       "10  0.0 6.8 167.6 123 3.92 3.440 18.30 1  0  4    4.000000\n",
       "11  0.0 6.0 167.6 123 3.92 3.440 18.90 1  0  4    2.583333\n",
       "12 16.4 8.0 275.8   0 0.00 0.000  0.00 0  0  3    3.000000\n",
       "13 17.3 8.0 275.8 180 0.00 3.730 17.60 0  0  0    2.583333\n",
       "14 15.2 8.0 275.8 180 3.07 0.000 18.00 0  0  3    3.000000"
      ]
     },
     "metadata": {},
     "output_type": "display_data"
    }
   ],
   "source": [
    "# Asignamos 0 en los campos nulos de todo el DataFrame:\n",
    "df[ is.na(df) ] <- 0\n",
    "\n",
    "df"
   ]
  },
  {
   "cell_type": "code",
   "execution_count": null,
   "metadata": {
    "vscode": {
     "languageId": "r"
    }
   },
   "outputs": [],
   "source": []
  }
 ],
 "metadata": {
  "kernelspec": {
   "display_name": "R",
   "language": "R",
   "name": "ir"
  },
  "language_info": {
   "codemirror_mode": "r",
   "file_extension": ".r",
   "mimetype": "text/x-r-source",
   "name": "R",
   "pygments_lexer": "r",
   "version": "4.3.1"
  },
  "orig_nbformat": 4
 },
 "nbformat": 4,
 "nbformat_minor": 2
}
