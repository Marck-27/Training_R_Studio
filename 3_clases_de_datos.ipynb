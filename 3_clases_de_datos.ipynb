{
 "cells": [
  {
   "attachments": {},
   "cell_type": "markdown",
   "metadata": {},
   "source": [
    "## Clases de datos\n",
    "\n",
    "Para identificar los representantes de las clases de datos en un vector o una matriz, debemos aplicar la función `factor()` "
   ]
  },
  {
   "cell_type": "code",
   "execution_count": 2,
   "metadata": {
    "vscode": {
     "languageId": "r"
    }
   },
   "outputs": [
    {
     "data": {
      "text/html": [
       "<style>\n",
       ".list-inline {list-style: none; margin:0; padding: 0}\n",
       ".list-inline>li {display: inline-block}\n",
       ".list-inline>li:not(:last-child)::after {content: \"\\00b7\"; padding: 0 .5ex}\n",
       "</style>\n",
       "<ol class=list-inline><li>5</li><li>5</li><li>10</li><li>10</li><li>10</li><li>10</li><li>2</li><li>3</li><li>4</li><li>7</li></ol>\n"
      ],
      "text/latex": [
       "\\begin{enumerate*}\n",
       "\\item 5\n",
       "\\item 5\n",
       "\\item 10\n",
       "\\item 10\n",
       "\\item 10\n",
       "\\item 10\n",
       "\\item 2\n",
       "\\item 3\n",
       "\\item 4\n",
       "\\item 7\n",
       "\\end{enumerate*}\n"
      ],
      "text/markdown": [
       "1. 5\n",
       "2. 5\n",
       "3. 10\n",
       "4. 10\n",
       "5. 10\n",
       "6. 10\n",
       "7. 2\n",
       "8. 3\n",
       "9. 4\n",
       "10. 7\n",
       "\n",
       "\n"
      ],
      "text/plain": [
       " [1]  5  5 10 10 10 10  2  3  4  7"
      ]
     },
     "metadata": {},
     "output_type": "display_data"
    }
   ],
   "source": [
    "v <- c(5,5,10,10,10,10,2,3,4,7)\n",
    "v"
   ]
  },
  {
   "cell_type": "code",
   "execution_count": 3,
   "metadata": {
    "vscode": {
     "languageId": "r"
    }
   },
   "outputs": [
    {
     "data": {
      "text/html": [
       "<style>\n",
       ".list-inline {list-style: none; margin:0; padding: 0}\n",
       ".list-inline>li {display: inline-block}\n",
       ".list-inline>li:not(:last-child)::after {content: \"\\00b7\"; padding: 0 .5ex}\n",
       "</style>\n",
       "<ol class=list-inline><li>5</li><li>5</li><li>10</li><li>10</li><li>10</li><li>10</li><li>2</li><li>3</li><li>4</li><li>7</li></ol>\n",
       "\n",
       "<details>\n",
       "\t<summary style=display:list-item;cursor:pointer>\n",
       "\t\t<strong>Levels</strong>:\n",
       "\t</summary>\n",
       "\t<style>\n",
       "\t.list-inline {list-style: none; margin:0; padding: 0}\n",
       "\t.list-inline>li {display: inline-block}\n",
       "\t.list-inline>li:not(:last-child)::after {content: \"\\00b7\"; padding: 0 .5ex}\n",
       "\t</style>\n",
       "\t<ol class=list-inline><li>'2'</li><li>'3'</li><li>'4'</li><li>'5'</li><li>'7'</li><li>'10'</li></ol>\n",
       "</details>"
      ],
      "text/latex": [
       "\\begin{enumerate*}\n",
       "\\item 5\n",
       "\\item 5\n",
       "\\item 10\n",
       "\\item 10\n",
       "\\item 10\n",
       "\\item 10\n",
       "\\item 2\n",
       "\\item 3\n",
       "\\item 4\n",
       "\\item 7\n",
       "\\end{enumerate*}\n",
       "\n",
       "\\emph{Levels}: \\begin{enumerate*}\n",
       "\\item '2'\n",
       "\\item '3'\n",
       "\\item '4'\n",
       "\\item '5'\n",
       "\\item '7'\n",
       "\\item '10'\n",
       "\\end{enumerate*}\n"
      ],
      "text/markdown": [
       "1. 5\n",
       "2. 5\n",
       "3. 10\n",
       "4. 10\n",
       "5. 10\n",
       "6. 10\n",
       "7. 2\n",
       "8. 3\n",
       "9. 4\n",
       "10. 7\n",
       "\n",
       "\n",
       "\n",
       "**Levels**: 1. '2'\n",
       "2. '3'\n",
       "3. '4'\n",
       "4. '5'\n",
       "5. '7'\n",
       "6. '10'\n",
       "\n",
       "\n"
      ],
      "text/plain": [
       " [1] 5  5  10 10 10 10 2  3  4  7 \n",
       "Levels: 2 3 4 5 7 10"
      ]
     },
     "metadata": {},
     "output_type": "display_data"
    }
   ],
   "source": [
    "factor(v)"
   ]
  },
  {
   "attachments": {},
   "cell_type": "markdown",
   "metadata": {},
   "source": [
    "### Frecuencia de datos"
   ]
  },
  {
   "cell_type": "code",
   "execution_count": 4,
   "metadata": {
    "vscode": {
     "languageId": "r"
    }
   },
   "outputs": [
    {
     "data": {
      "text/html": [
       "<style>\n",
       ".dl-inline {width: auto; margin:0; padding: 0}\n",
       ".dl-inline>dt, .dl-inline>dd {float: none; width: auto; display: inline-block}\n",
       ".dl-inline>dt::after {content: \":\\0020\"; padding-right: .5ex}\n",
       ".dl-inline>dt:not(:first-of-type) {padding-left: .5ex}\n",
       "</style><dl class=dl-inline><dt>2</dt><dd>1</dd><dt>3</dt><dd>1</dd><dt>4</dt><dd>1</dd><dt>5</dt><dd>2</dd><dt>7</dt><dd>1</dd><dt>10</dt><dd>4</dd></dl>\n"
      ],
      "text/latex": [
       "\\begin{description*}\n",
       "\\item[2] 1\n",
       "\\item[3] 1\n",
       "\\item[4] 1\n",
       "\\item[5] 2\n",
       "\\item[7] 1\n",
       "\\item[10] 4\n",
       "\\end{description*}\n"
      ],
      "text/markdown": [
       "2\n",
       ":   13\n",
       ":   14\n",
       ":   15\n",
       ":   27\n",
       ":   110\n",
       ":   4\n",
       "\n"
      ],
      "text/plain": [
       " 2  3  4  5  7 10 \n",
       " 1  1  1  2  1  4 "
      ]
     },
     "metadata": {},
     "output_type": "display_data"
    }
   ],
   "source": [
    "summary(factor(v))"
   ]
  },
  {
   "cell_type": "code",
   "execution_count": 7,
   "metadata": {
    "vscode": {
     "languageId": "r"
    }
   },
   "outputs": [
    {
     "data": {
      "text/html": [
       "<style>\n",
       ".list-inline {list-style: none; margin:0; padding: 0}\n",
       ".list-inline>li {display: inline-block}\n",
       ".list-inline>li:not(:last-child)::after {content: \"\\00b7\"; padding: 0 .5ex}\n",
       "</style>\n",
       "<ol class=list-inline><li>'Francia'</li><li>'Mexico'</li><li>'USA'</li><li>'Canada'</li><li>'Argentina'</li><li>'Canada'</li><li>'Mexico'</li><li>'USA'</li><li>'Mexico'</li><li>'Mexico'</li><li>'Francia'</li></ol>\n"
      ],
      "text/latex": [
       "\\begin{enumerate*}\n",
       "\\item 'Francia'\n",
       "\\item 'Mexico'\n",
       "\\item 'USA'\n",
       "\\item 'Canada'\n",
       "\\item 'Argentina'\n",
       "\\item 'Canada'\n",
       "\\item 'Mexico'\n",
       "\\item 'USA'\n",
       "\\item 'Mexico'\n",
       "\\item 'Mexico'\n",
       "\\item 'Francia'\n",
       "\\end{enumerate*}\n"
      ],
      "text/markdown": [
       "1. 'Francia'\n",
       "2. 'Mexico'\n",
       "3. 'USA'\n",
       "4. 'Canada'\n",
       "5. 'Argentina'\n",
       "6. 'Canada'\n",
       "7. 'Mexico'\n",
       "8. 'USA'\n",
       "9. 'Mexico'\n",
       "10. 'Mexico'\n",
       "11. 'Francia'\n",
       "\n",
       "\n"
      ],
      "text/plain": [
       " [1] \"Francia\"   \"Mexico\"    \"USA\"       \"Canada\"    \"Argentina\" \"Canada\"   \n",
       " [7] \"Mexico\"    \"USA\"       \"Mexico\"    \"Mexico\"    \"Francia\"  "
      ]
     },
     "metadata": {},
     "output_type": "display_data"
    }
   ],
   "source": [
    "paises <- c('Francia','Mexico', 'USA', 'Canada', 'Argentina','Canada','Mexico', 'USA', 'Mexico', 'Mexico','Francia')\n",
    "paises"
   ]
  },
  {
   "attachments": {},
   "cell_type": "markdown",
   "metadata": {},
   "source": [
    "En el siguiente ejemplo extraemos la frecuencia y definimos un orden:"
   ]
  },
  {
   "cell_type": "code",
   "execution_count": 12,
   "metadata": {
    "vscode": {
     "languageId": "r"
    }
   },
   "outputs": [
    {
     "data": {
      "text/html": [
       "<style>\n",
       ".dl-inline {width: auto; margin:0; padding: 0}\n",
       ".dl-inline>dt, .dl-inline>dd {float: none; width: auto; display: inline-block}\n",
       ".dl-inline>dt::after {content: \":\\0020\"; padding-right: .5ex}\n",
       ".dl-inline>dt:not(:first-of-type) {padding-left: .5ex}\n",
       "</style><dl class=dl-inline><dt>Argentina</dt><dd>1</dd><dt>Canada</dt><dd>2</dd><dt>Francia</dt><dd>2</dd><dt>Mexico</dt><dd>4</dd><dt>USA</dt><dd>2</dd></dl>\n"
      ],
      "text/latex": [
       "\\begin{description*}\n",
       "\\item[Argentina] 1\n",
       "\\item[Canada] 2\n",
       "\\item[Francia] 2\n",
       "\\item[Mexico] 4\n",
       "\\item[USA] 2\n",
       "\\end{description*}\n"
      ],
      "text/markdown": [
       "Argentina\n",
       ":   1Canada\n",
       ":   2Francia\n",
       ":   2Mexico\n",
       ":   4USA\n",
       ":   2\n",
       "\n"
      ],
      "text/plain": [
       "Argentina    Canada   Francia    Mexico       USA \n",
       "        1         2         2         4         2 "
      ]
     },
     "metadata": {},
     "output_type": "display_data"
    }
   ],
   "source": [
    "frecuencia_paises <- factor(paises, ordered = TRUE, levels=c('Argentina','Canada','Francia','Mexico','USA'))\n",
    "summary(frecuencia_paises)"
   ]
  },
  {
   "cell_type": "code",
   "execution_count": 13,
   "metadata": {
    "vscode": {
     "languageId": "r"
    }
   },
   "outputs": [
    {
     "data": {
      "text/html": [
       "<style>\n",
       ".dl-inline {width: auto; margin:0; padding: 0}\n",
       ".dl-inline>dt, .dl-inline>dd {float: none; width: auto; display: inline-block}\n",
       ".dl-inline>dt::after {content: \":\\0020\"; padding-right: .5ex}\n",
       ".dl-inline>dt:not(:first-of-type) {padding-left: .5ex}\n",
       "</style><dl class=dl-inline><dt>USA</dt><dd>2</dd><dt>Mexico</dt><dd>4</dd><dt>Francia</dt><dd>2</dd><dt>Canada</dt><dd>2</dd><dt>Argentina</dt><dd>1</dd></dl>\n"
      ],
      "text/latex": [
       "\\begin{description*}\n",
       "\\item[USA] 2\n",
       "\\item[Mexico] 4\n",
       "\\item[Francia] 2\n",
       "\\item[Canada] 2\n",
       "\\item[Argentina] 1\n",
       "\\end{description*}\n"
      ],
      "text/markdown": [
       "USA\n",
       ":   2Mexico\n",
       ":   4Francia\n",
       ":   2Canada\n",
       ":   2Argentina\n",
       ":   1\n",
       "\n"
      ],
      "text/plain": [
       "      USA    Mexico   Francia    Canada Argentina \n",
       "        2         4         2         2         1 "
      ]
     },
     "metadata": {},
     "output_type": "display_data"
    }
   ],
   "source": [
    "frecuencia_paises <- factor(paises, ordered = TRUE, levels=c('USA','Mexico','Francia','Canada','Argentina'))\n",
    "summary(frecuencia_paises)"
   ]
  },
  {
   "cell_type": "code",
   "execution_count": 14,
   "metadata": {
    "vscode": {
     "languageId": "r"
    }
   },
   "outputs": [
    {
     "data": {
      "text/html": [
       "<style>\n",
       ".dl-inline {width: auto; margin:0; padding: 0}\n",
       ".dl-inline>dt, .dl-inline>dd {float: none; width: auto; display: inline-block}\n",
       ".dl-inline>dt::after {content: \":\\0020\"; padding-right: .5ex}\n",
       ".dl-inline>dt:not(:first-of-type) {padding-left: .5ex}\n",
       "</style><dl class=dl-inline><dt>Mexico</dt><dd>4</dd><dt>USA</dt><dd>2</dd><dt>Canada</dt><dd>2</dd><dt>NA's</dt><dd>3</dd></dl>\n"
      ],
      "text/latex": [
       "\\begin{description*}\n",
       "\\item[Mexico] 4\n",
       "\\item[USA] 2\n",
       "\\item[Canada] 2\n",
       "\\item[NA's] 3\n",
       "\\end{description*}\n"
      ],
      "text/markdown": [
       "Mexico\n",
       ":   4USA\n",
       ":   2Canada\n",
       ":   2NA's\n",
       ":   3\n",
       "\n"
      ],
      "text/plain": [
       "Mexico    USA Canada   NA's \n",
       "     4      2      2      3 "
      ]
     },
     "metadata": {},
     "output_type": "display_data"
    }
   ],
   "source": [
    "frecuencia_paises <- factor(paises, ordered = TRUE, levels=c('Mexico','USA','Canada'))\n",
    "summary(frecuencia_paises)"
   ]
  },
  {
   "cell_type": "code",
   "execution_count": null,
   "metadata": {
    "vscode": {
     "languageId": "r"
    }
   },
   "outputs": [],
   "source": []
  }
 ],
 "metadata": {
  "kernelspec": {
   "display_name": "R",
   "language": "R",
   "name": "ir"
  },
  "language_info": {
   "codemirror_mode": "r",
   "file_extension": ".r",
   "mimetype": "text/x-r-source",
   "name": "R",
   "pygments_lexer": "r",
   "version": "4.2.3"
  },
  "orig_nbformat": 4
 },
 "nbformat": 4,
 "nbformat_minor": 2
}
