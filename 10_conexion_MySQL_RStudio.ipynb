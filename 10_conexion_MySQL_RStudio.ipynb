{
 "cells": [
  {
   "attachments": {},
   "cell_type": "markdown",
   "metadata": {},
   "source": [
    "# Conexión a una base de datos MySQL desde R (Lectura desde la base de datos)\n",
    "\n",
    "Necesitamos instalar el paquete: `install.packages('RMySQL')`"
   ]
  },
  {
   "cell_type": "code",
   "execution_count": 1,
   "metadata": {
    "vscode": {
     "languageId": "r"
    }
   },
   "outputs": [],
   "source": [
    "#install.packages('RMySQL')"
   ]
  },
  {
   "cell_type": "code",
   "execution_count": 2,
   "metadata": {
    "vscode": {
     "languageId": "r"
    }
   },
   "outputs": [
    {
     "name": "stderr",
     "output_type": "stream",
     "text": [
      "Loading required package: DBI\n",
      "\n"
     ]
    }
   ],
   "source": [
    "# Importamos la librería \"RMySQL\"\n",
    "library(RMySQL)"
   ]
  },
  {
   "attachments": {},
   "cell_type": "markdown",
   "metadata": {},
   "source": [
    "### Datos de conexión (extraídos desde MySQL Workbench)\n",
    "<img src=\"im/cap_mysql_workbench.png\"  width=\"50%\" height=\"30%\">"
   ]
  },
  {
   "cell_type": "code",
   "execution_count": 3,
   "metadata": {
    "vscode": {
     "languageId": "r"
    }
   },
   "outputs": [
    {
     "data": {
      "text/plain": [
       "<MySQLConnection:0,0>"
      ]
     },
     "metadata": {},
     "output_type": "display_data"
    }
   ],
   "source": [
    "# Creamos la cadena de conexión:\n",
    "db_conn <- dbConnect(MySQL(), user='root', host = 'localhost', password = 'Marcos27', dbname='platzi')\n",
    "db_conn"
   ]
  },
  {
   "cell_type": "code",
   "execution_count": 4,
   "metadata": {
    "vscode": {
     "languageId": "r"
    }
   },
   "outputs": [
    {
     "data": {
      "text/html": [
       "<table class=\"dataframe\">\n",
       "<caption>A data.frame: 3 × 1</caption>\n",
       "<thead>\n",
       "\t<tr><th scope=col>Tables_in_platzi</th></tr>\n",
       "\t<tr><th scope=col>&lt;chr&gt;</th></tr>\n",
       "</thead>\n",
       "<tbody>\n",
       "\t<tr><td>TopAlumnos</td></tr>\n",
       "\t<tr><td>alumnos   </td></tr>\n",
       "\t<tr><td>carreras  </td></tr>\n",
       "</tbody>\n",
       "</table>\n"
      ],
      "text/latex": [
       "A data.frame: 3 × 1\n",
       "\\begin{tabular}{l}\n",
       " Tables\\_in\\_platzi\\\\\n",
       " <chr>\\\\\n",
       "\\hline\n",
       "\t TopAlumnos\\\\\n",
       "\t alumnos   \\\\\n",
       "\t carreras  \\\\\n",
       "\\end{tabular}\n"
      ],
      "text/markdown": [
       "\n",
       "A data.frame: 3 × 1\n",
       "\n",
       "| Tables_in_platzi &lt;chr&gt; |\n",
       "|---|\n",
       "| TopAlumnos |\n",
       "| alumnos    |\n",
       "| carreras   |\n",
       "\n"
      ],
      "text/plain": [
       "  Tables_in_platzi\n",
       "1 TopAlumnos      \n",
       "2 alumnos         \n",
       "3 carreras        "
      ]
     },
     "metadata": {},
     "output_type": "display_data"
    }
   ],
   "source": [
    "# Mostramos tablas de la base de datos:\n",
    "dbGetQuery(db_conn, statement = 'SHOW TABLES;')"
   ]
  },
  {
   "attachments": {},
   "cell_type": "markdown",
   "metadata": {},
   "source": [
    "### Forma 1 de cargar una tabla en un DataFrame"
   ]
  },
  {
   "cell_type": "code",
   "execution_count": 5,
   "metadata": {
    "vscode": {
     "languageId": "r"
    }
   },
   "outputs": [
    {
     "name": "stderr",
     "output_type": "stream",
     "text": [
      "Warning message in .local(conn, statement, ...):\n",
      "“unrecognized MySQL field type 7 in column 5 imported as character”\n"
     ]
    },
    {
     "data": {
      "text/html": [
       "<table class=\"dataframe\">\n",
       "<caption>A data.frame: 6 × 8</caption>\n",
       "<thead>\n",
       "\t<tr><th></th><th scope=col>id</th><th scope=col>nombre</th><th scope=col>apellido</th><th scope=col>email</th><th scope=col>colegiatura</th><th scope=col>fecha_incorporacion</th><th scope=col>carrera_id</th><th scope=col>tutor_id</th></tr>\n",
       "\t<tr><th></th><th scope=col>&lt;int&gt;</th><th scope=col>&lt;chr&gt;</th><th scope=col>&lt;chr&gt;</th><th scope=col>&lt;chr&gt;</th><th scope=col>&lt;dbl&gt;</th><th scope=col>&lt;chr&gt;</th><th scope=col>&lt;int&gt;</th><th scope=col>&lt;int&gt;</th></tr>\n",
       "</thead>\n",
       "<tbody>\n",
       "\t<tr><th scope=row>1</th><td>1</td><td>Wanda   </td><td>Billington</td><td>wbillington0@nsw.gov.au</td><td>5000</td><td>2020-05-17 22:49:29</td><td>23</td><td> 9</td></tr>\n",
       "\t<tr><th scope=row>2</th><td>2</td><td>Blayne  </td><td>Wakeley   </td><td>bwakeley1@google.cn    </td><td>2500</td><td>2018-09-01 17:51:49</td><td>40</td><td>26</td></tr>\n",
       "\t<tr><th scope=row>3</th><td>3</td><td>Hilde   </td><td>Matiewe   </td><td>hmatiewe2@hibu.com     </td><td>2300</td><td>2020-07-18 00:03:21</td><td>48</td><td>25</td></tr>\n",
       "\t<tr><th scope=row>4</th><td>4</td><td>Leanna  </td><td>NA        </td><td>ldusey3@ebay.co.uk     </td><td>2000</td><td>2018-02-05 17:28:38</td><td>36</td><td>14</td></tr>\n",
       "\t<tr><th scope=row>5</th><td>5</td><td>Maire   </td><td>Garnall   </td><td>mgarnall4@artisteer.com</td><td>4800</td><td>2020-08-04 03:43:57</td><td>14</td><td> 7</td></tr>\n",
       "\t<tr><th scope=row>6</th><td>6</td><td>Nikolaus</td><td>Freeborn  </td><td>nfreeborn5@yandex.ru   </td><td>2000</td><td>2019-06-05 07:45:19</td><td>28</td><td>13</td></tr>\n",
       "</tbody>\n",
       "</table>\n"
      ],
      "text/latex": [
       "A data.frame: 6 × 8\n",
       "\\begin{tabular}{r|llllllll}\n",
       "  & id & nombre & apellido & email & colegiatura & fecha\\_incorporacion & carrera\\_id & tutor\\_id\\\\\n",
       "  & <int> & <chr> & <chr> & <chr> & <dbl> & <chr> & <int> & <int>\\\\\n",
       "\\hline\n",
       "\t1 & 1 & Wanda    & Billington & wbillington0@nsw.gov.au & 5000 & 2020-05-17 22:49:29 & 23 &  9\\\\\n",
       "\t2 & 2 & Blayne   & Wakeley    & bwakeley1@google.cn     & 2500 & 2018-09-01 17:51:49 & 40 & 26\\\\\n",
       "\t3 & 3 & Hilde    & Matiewe    & hmatiewe2@hibu.com      & 2300 & 2020-07-18 00:03:21 & 48 & 25\\\\\n",
       "\t4 & 4 & Leanna   & NA         & ldusey3@ebay.co.uk      & 2000 & 2018-02-05 17:28:38 & 36 & 14\\\\\n",
       "\t5 & 5 & Maire    & Garnall    & mgarnall4@artisteer.com & 4800 & 2020-08-04 03:43:57 & 14 &  7\\\\\n",
       "\t6 & 6 & Nikolaus & Freeborn   & nfreeborn5@yandex.ru    & 2000 & 2019-06-05 07:45:19 & 28 & 13\\\\\n",
       "\\end{tabular}\n"
      ],
      "text/markdown": [
       "\n",
       "A data.frame: 6 × 8\n",
       "\n",
       "| <!--/--> | id &lt;int&gt; | nombre &lt;chr&gt; | apellido &lt;chr&gt; | email &lt;chr&gt; | colegiatura &lt;dbl&gt; | fecha_incorporacion &lt;chr&gt; | carrera_id &lt;int&gt; | tutor_id &lt;int&gt; |\n",
       "|---|---|---|---|---|---|---|---|---|\n",
       "| 1 | 1 | Wanda    | Billington | wbillington0@nsw.gov.au | 5000 | 2020-05-17 22:49:29 | 23 |  9 |\n",
       "| 2 | 2 | Blayne   | Wakeley    | bwakeley1@google.cn     | 2500 | 2018-09-01 17:51:49 | 40 | 26 |\n",
       "| 3 | 3 | Hilde    | Matiewe    | hmatiewe2@hibu.com      | 2300 | 2020-07-18 00:03:21 | 48 | 25 |\n",
       "| 4 | 4 | Leanna   | NA         | ldusey3@ebay.co.uk      | 2000 | 2018-02-05 17:28:38 | 36 | 14 |\n",
       "| 5 | 5 | Maire    | Garnall    | mgarnall4@artisteer.com | 4800 | 2020-08-04 03:43:57 | 14 |  7 |\n",
       "| 6 | 6 | Nikolaus | Freeborn   | nfreeborn5@yandex.ru    | 2000 | 2019-06-05 07:45:19 | 28 | 13 |\n",
       "\n"
      ],
      "text/plain": [
       "  id nombre   apellido   email                   colegiatura\n",
       "1 1  Wanda    Billington wbillington0@nsw.gov.au 5000       \n",
       "2 2  Blayne   Wakeley    bwakeley1@google.cn     2500       \n",
       "3 3  Hilde    Matiewe    hmatiewe2@hibu.com      2300       \n",
       "4 4  Leanna   NA         ldusey3@ebay.co.uk      2000       \n",
       "5 5  Maire    Garnall    mgarnall4@artisteer.com 4800       \n",
       "6 6  Nikolaus Freeborn   nfreeborn5@yandex.ru    2000       \n",
       "  fecha_incorporacion carrera_id tutor_id\n",
       "1 2020-05-17 22:49:29 23          9      \n",
       "2 2018-09-01 17:51:49 40         26      \n",
       "3 2020-07-18 00:03:21 48         25      \n",
       "4 2018-02-05 17:28:38 36         14      \n",
       "5 2020-08-04 03:43:57 14          7      \n",
       "6 2019-06-05 07:45:19 28         13      "
      ]
     },
     "metadata": {},
     "output_type": "display_data"
    }
   ],
   "source": [
    "query1 <- 'SELECT * FROM platzi.alumnos'\n",
    "\n",
    "df_alumnos <- dbGetQuery(db_conn, statement = query1)\n",
    "\n",
    "head(df_alumnos)"
   ]
  },
  {
   "cell_type": "code",
   "execution_count": 6,
   "metadata": {
    "vscode": {
     "languageId": "r"
    }
   },
   "outputs": [],
   "source": [
    "# Guardamos datos en archivo csv\n",
    "write.csv(df_alumnos, file = 'data/tabla_alumnos.csv' , row.names = FALSE)"
   ]
  },
  {
   "attachments": {},
   "cell_type": "markdown",
   "metadata": {},
   "source": [
    "### Forma 2 de cargar una tabla en un DataFrame"
   ]
  },
  {
   "cell_type": "code",
   "execution_count": 7,
   "metadata": {
    "vscode": {
     "languageId": "r"
    }
   },
   "outputs": [
    {
     "name": "stderr",
     "output_type": "stream",
     "text": [
      "Warning message in .local(conn, statement, ...):\n",
      "“unrecognized MySQL field type 7 in column 2 imported as character”\n"
     ]
    },
    {
     "data": {
      "text/html": [
       "<table class=\"dataframe\">\n",
       "<caption>A data.frame: 6 × 4</caption>\n",
       "<thead>\n",
       "\t<tr><th></th><th scope=col>id</th><th scope=col>carrera</th><th scope=col>fecha_alta</th><th scope=col>vigente</th></tr>\n",
       "\t<tr><th></th><th scope=col>&lt;int&gt;</th><th scope=col>&lt;chr&gt;</th><th scope=col>&lt;chr&gt;</th><th scope=col>&lt;int&gt;</th></tr>\n",
       "</thead>\n",
       "<tbody>\n",
       "\t<tr><th scope=row>1</th><td>1</td><td>Negocios y administración                                           </td><td>2017-05-28 06:42:45</td><td>1</td></tr>\n",
       "\t<tr><th scope=row>2</th><td>2</td><td>Administración y gestión de empresas                                </td><td>2016-03-24 13:52:17</td><td>0</td></tr>\n",
       "\t<tr><th scope=row>3</th><td>3</td><td>Contabilidad y fiscalización                                        </td><td>2018-10-29 18:33:57</td><td>1</td></tr>\n",
       "\t<tr><th scope=row>4</th><td>4</td><td>Finanzas, banca y seguros                                           </td><td>2020-05-11 02:05:57</td><td>0</td></tr>\n",
       "\t<tr><th scope=row>5</th><td>5</td><td>Mercadotecnia y publicidad                                          </td><td>2020-03-20 23:53:23</td><td>0</td></tr>\n",
       "\t<tr><th scope=row>6</th><td>6</td><td>Negocios y administración, programas multidisciplinarios o generales</td><td>2019-02-25 09:02:59</td><td>1</td></tr>\n",
       "</tbody>\n",
       "</table>\n"
      ],
      "text/latex": [
       "A data.frame: 6 × 4\n",
       "\\begin{tabular}{r|llll}\n",
       "  & id & carrera & fecha\\_alta & vigente\\\\\n",
       "  & <int> & <chr> & <chr> & <int>\\\\\n",
       "\\hline\n",
       "\t1 & 1 & Negocios y administración                                            & 2017-05-28 06:42:45 & 1\\\\\n",
       "\t2 & 2 & Administración y gestión de empresas                                 & 2016-03-24 13:52:17 & 0\\\\\n",
       "\t3 & 3 & Contabilidad y fiscalización                                         & 2018-10-29 18:33:57 & 1\\\\\n",
       "\t4 & 4 & Finanzas, banca y seguros                                            & 2020-05-11 02:05:57 & 0\\\\\n",
       "\t5 & 5 & Mercadotecnia y publicidad                                           & 2020-03-20 23:53:23 & 0\\\\\n",
       "\t6 & 6 & Negocios y administración, programas multidisciplinarios o generales & 2019-02-25 09:02:59 & 1\\\\\n",
       "\\end{tabular}\n"
      ],
      "text/markdown": [
       "\n",
       "A data.frame: 6 × 4\n",
       "\n",
       "| <!--/--> | id &lt;int&gt; | carrera &lt;chr&gt; | fecha_alta &lt;chr&gt; | vigente &lt;int&gt; |\n",
       "|---|---|---|---|---|\n",
       "| 1 | 1 | Negocios y administración                                            | 2017-05-28 06:42:45 | 1 |\n",
       "| 2 | 2 | Administración y gestión de empresas                                 | 2016-03-24 13:52:17 | 0 |\n",
       "| 3 | 3 | Contabilidad y fiscalización                                         | 2018-10-29 18:33:57 | 1 |\n",
       "| 4 | 4 | Finanzas, banca y seguros                                            | 2020-05-11 02:05:57 | 0 |\n",
       "| 5 | 5 | Mercadotecnia y publicidad                                           | 2020-03-20 23:53:23 | 0 |\n",
       "| 6 | 6 | Negocios y administración, programas multidisciplinarios o generales | 2019-02-25 09:02:59 | 1 |\n",
       "\n"
      ],
      "text/plain": [
       "  id carrera                                                             \n",
       "1 1  Negocios y administración                                           \n",
       "2 2  Administración y gestión de empresas                                \n",
       "3 3  Contabilidad y fiscalización                                        \n",
       "4 4  Finanzas, banca y seguros                                           \n",
       "5 5  Mercadotecnia y publicidad                                          \n",
       "6 6  Negocios y administración, programas multidisciplinarios o generales\n",
       "  fecha_alta          vigente\n",
       "1 2017-05-28 06:42:45 1      \n",
       "2 2016-03-24 13:52:17 0      \n",
       "3 2018-10-29 18:33:57 1      \n",
       "4 2020-05-11 02:05:57 0      \n",
       "5 2020-03-20 23:53:23 0      \n",
       "6 2019-02-25 09:02:59 1      "
      ]
     },
     "metadata": {},
     "output_type": "display_data"
    }
   ],
   "source": [
    "df_carreras <- dbReadTable(db_conn, 'carreras')\n",
    "head(df_carreras)"
   ]
  },
  {
   "cell_type": "code",
   "execution_count": 8,
   "metadata": {
    "vscode": {
     "languageId": "r"
    }
   },
   "outputs": [
    {
     "data": {
      "text/html": [
       "'data.frame'"
      ],
      "text/latex": [
       "'data.frame'"
      ],
      "text/markdown": [
       "'data.frame'"
      ],
      "text/plain": [
       "[1] \"data.frame\""
      ]
     },
     "metadata": {},
     "output_type": "display_data"
    }
   ],
   "source": [
    "class(df_carreras)"
   ]
  },
  {
   "cell_type": "code",
   "execution_count": 9,
   "metadata": {
    "vscode": {
     "languageId": "r"
    }
   },
   "outputs": [
    {
     "name": "stdout",
     "output_type": "stream",
     "text": [
      "'data.frame':\t60 obs. of  4 variables:\n",
      " $ id        : int  1 2 3 4 5 6 7 8 9 10 ...\n",
      " $ carrera   : chr  \"Negocios y administración\" \"Administración y gestión de empresas\" \"Contabilidad y fiscalización\" \"Finanzas, banca y seguros\" ...\n",
      " $ fecha_alta: chr  \"2017-05-28 06:42:45\" \"2016-03-24 13:52:17\" \"2018-10-29 18:33:57\" \"2020-05-11 02:05:57\" ...\n",
      " $ vigente   : int  1 0 1 0 0 1 1 1 1 0 ...\n"
     ]
    }
   ],
   "source": [
    "str(df_carreras)"
   ]
  },
  {
   "cell_type": "code",
   "execution_count": 10,
   "metadata": {
    "vscode": {
     "languageId": "r"
    }
   },
   "outputs": [],
   "source": [
    "# Guardamos datos en archivo csv\n",
    "write.csv(df_carreras, file = 'data/tabla_carreras.csv' , row.names = FALSE)"
   ]
  },
  {
   "cell_type": "code",
   "execution_count": 11,
   "metadata": {
    "vscode": {
     "languageId": "r"
    }
   },
   "outputs": [
    {
     "data": {
      "text/html": [
       "TRUE"
      ],
      "text/latex": [
       "TRUE"
      ],
      "text/markdown": [
       "TRUE"
      ],
      "text/plain": [
       "[1] TRUE"
      ]
     },
     "metadata": {},
     "output_type": "display_data"
    }
   ],
   "source": [
    "# Cerramos conexión:\n",
    "dbDisconnect(db_conn)"
   ]
  }
 ],
 "metadata": {
  "kernelspec": {
   "display_name": "R",
   "language": "R",
   "name": "ir"
  },
  "language_info": {
   "codemirror_mode": "r",
   "file_extension": ".r",
   "mimetype": "text/x-r-source",
   "name": "R",
   "pygments_lexer": "r",
   "version": "4.3.0"
  },
  "orig_nbformat": 4
 },
 "nbformat": 4,
 "nbformat_minor": 2
}
