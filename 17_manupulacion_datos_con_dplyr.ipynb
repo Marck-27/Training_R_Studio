{
 "cells": [
  {
   "cell_type": "markdown",
   "metadata": {},
   "source": [
    "# Manipulación de datos con `dplyr`"
   ]
  },
  {
   "cell_type": "code",
   "execution_count": 2,
   "metadata": {
    "vscode": {
     "languageId": "r"
    }
   },
   "outputs": [],
   "source": [
    "#install.packages('dplyr')\n",
    "#install.packages('nycflights13')"
   ]
  },
  {
   "cell_type": "code",
   "execution_count": 3,
   "metadata": {
    "vscode": {
     "languageId": "r"
    }
   },
   "outputs": [
    {
     "name": "stderr",
     "output_type": "stream",
     "text": [
      "\n",
      "Attaching package: ‘dplyr’\n",
      "\n",
      "\n",
      "The following objects are masked from ‘package:stats’:\n",
      "\n",
      "    filter, lag\n",
      "\n",
      "\n",
      "The following objects are masked from ‘package:base’:\n",
      "\n",
      "    intersect, setdiff, setequal, union\n",
      "\n",
      "\n"
     ]
    }
   ],
   "source": [
    "library(dplyr) #<-- Paquete con funciones para manipulación de datos\n",
    "library(nycflights13) # <-- paquete que permite usar el dataset \"nycflights13\""
   ]
  },
  {
   "cell_type": "code",
   "execution_count": 4,
   "metadata": {
    "vscode": {
     "languageId": "r"
    }
   },
   "outputs": [
    {
     "data": {
      "text/html": [
       "<style>\n",
       ".list-inline {list-style: none; margin:0; padding: 0}\n",
       ".list-inline>li {display: inline-block}\n",
       ".list-inline>li:not(:last-child)::after {content: \"\\00b7\"; padding: 0 .5ex}\n",
       "</style>\n",
       "<ol class=list-inline><li>'tbl_df'</li><li>'tbl'</li><li>'data.frame'</li></ol>\n"
      ],
      "text/latex": [
       "\\begin{enumerate*}\n",
       "\\item 'tbl\\_df'\n",
       "\\item 'tbl'\n",
       "\\item 'data.frame'\n",
       "\\end{enumerate*}\n"
      ],
      "text/markdown": [
       "1. 'tbl_df'\n",
       "2. 'tbl'\n",
       "3. 'data.frame'\n",
       "\n",
       "\n"
      ],
      "text/plain": [
       "[1] \"tbl_df\"     \"tbl\"        \"data.frame\""
      ]
     },
     "metadata": {},
     "output_type": "display_data"
    }
   ],
   "source": [
    "df <- flights\n",
    "class(df)"
   ]
  },
  {
   "cell_type": "code",
   "execution_count": 5,
   "metadata": {
    "vscode": {
     "languageId": "r"
    }
   },
   "outputs": [
    {
     "data": {
      "text/html": [
       "<table class=\"dataframe\">\n",
       "<caption>A tibble: 6 × 19</caption>\n",
       "<thead>\n",
       "\t<tr><th scope=col>year</th><th scope=col>month</th><th scope=col>day</th><th scope=col>dep_time</th><th scope=col>sched_dep_time</th><th scope=col>dep_delay</th><th scope=col>arr_time</th><th scope=col>sched_arr_time</th><th scope=col>arr_delay</th><th scope=col>carrier</th><th scope=col>flight</th><th scope=col>tailnum</th><th scope=col>origin</th><th scope=col>dest</th><th scope=col>air_time</th><th scope=col>distance</th><th scope=col>hour</th><th scope=col>minute</th><th scope=col>time_hour</th></tr>\n",
       "\t<tr><th scope=col>&lt;int&gt;</th><th scope=col>&lt;int&gt;</th><th scope=col>&lt;int&gt;</th><th scope=col>&lt;int&gt;</th><th scope=col>&lt;int&gt;</th><th scope=col>&lt;dbl&gt;</th><th scope=col>&lt;int&gt;</th><th scope=col>&lt;int&gt;</th><th scope=col>&lt;dbl&gt;</th><th scope=col>&lt;chr&gt;</th><th scope=col>&lt;int&gt;</th><th scope=col>&lt;chr&gt;</th><th scope=col>&lt;chr&gt;</th><th scope=col>&lt;chr&gt;</th><th scope=col>&lt;dbl&gt;</th><th scope=col>&lt;dbl&gt;</th><th scope=col>&lt;dbl&gt;</th><th scope=col>&lt;dbl&gt;</th><th scope=col>&lt;dttm&gt;</th></tr>\n",
       "</thead>\n",
       "<tbody>\n",
       "\t<tr><td>2013</td><td>1</td><td>1</td><td>517</td><td>515</td><td> 2</td><td> 830</td><td> 819</td><td> 11</td><td>UA</td><td>1545</td><td>N14228</td><td>EWR</td><td>IAH</td><td>227</td><td>1400</td><td>5</td><td>15</td><td>2013-01-01 05:00:00</td></tr>\n",
       "\t<tr><td>2013</td><td>1</td><td>1</td><td>533</td><td>529</td><td> 4</td><td> 850</td><td> 830</td><td> 20</td><td>UA</td><td>1714</td><td>N24211</td><td>LGA</td><td>IAH</td><td>227</td><td>1416</td><td>5</td><td>29</td><td>2013-01-01 05:00:00</td></tr>\n",
       "\t<tr><td>2013</td><td>1</td><td>1</td><td>542</td><td>540</td><td> 2</td><td> 923</td><td> 850</td><td> 33</td><td>AA</td><td>1141</td><td>N619AA</td><td>JFK</td><td>MIA</td><td>160</td><td>1089</td><td>5</td><td>40</td><td>2013-01-01 05:00:00</td></tr>\n",
       "\t<tr><td>2013</td><td>1</td><td>1</td><td>544</td><td>545</td><td>-1</td><td>1004</td><td>1022</td><td>-18</td><td>B6</td><td> 725</td><td>N804JB</td><td>JFK</td><td>BQN</td><td>183</td><td>1576</td><td>5</td><td>45</td><td>2013-01-01 05:00:00</td></tr>\n",
       "\t<tr><td>2013</td><td>1</td><td>1</td><td>554</td><td>600</td><td>-6</td><td> 812</td><td> 837</td><td>-25</td><td>DL</td><td> 461</td><td>N668DN</td><td>LGA</td><td>ATL</td><td>116</td><td> 762</td><td>6</td><td> 0</td><td>2013-01-01 06:00:00</td></tr>\n",
       "\t<tr><td>2013</td><td>1</td><td>1</td><td>554</td><td>558</td><td>-4</td><td> 740</td><td> 728</td><td> 12</td><td>UA</td><td>1696</td><td>N39463</td><td>EWR</td><td>ORD</td><td>150</td><td> 719</td><td>5</td><td>58</td><td>2013-01-01 05:00:00</td></tr>\n",
       "</tbody>\n",
       "</table>\n"
      ],
      "text/latex": [
       "A tibble: 6 × 19\n",
       "\\begin{tabular}{lllllllllllllllllll}\n",
       " year & month & day & dep\\_time & sched\\_dep\\_time & dep\\_delay & arr\\_time & sched\\_arr\\_time & arr\\_delay & carrier & flight & tailnum & origin & dest & air\\_time & distance & hour & minute & time\\_hour\\\\\n",
       " <int> & <int> & <int> & <int> & <int> & <dbl> & <int> & <int> & <dbl> & <chr> & <int> & <chr> & <chr> & <chr> & <dbl> & <dbl> & <dbl> & <dbl> & <dttm>\\\\\n",
       "\\hline\n",
       "\t 2013 & 1 & 1 & 517 & 515 &  2 &  830 &  819 &  11 & UA & 1545 & N14228 & EWR & IAH & 227 & 1400 & 5 & 15 & 2013-01-01 05:00:00\\\\\n",
       "\t 2013 & 1 & 1 & 533 & 529 &  4 &  850 &  830 &  20 & UA & 1714 & N24211 & LGA & IAH & 227 & 1416 & 5 & 29 & 2013-01-01 05:00:00\\\\\n",
       "\t 2013 & 1 & 1 & 542 & 540 &  2 &  923 &  850 &  33 & AA & 1141 & N619AA & JFK & MIA & 160 & 1089 & 5 & 40 & 2013-01-01 05:00:00\\\\\n",
       "\t 2013 & 1 & 1 & 544 & 545 & -1 & 1004 & 1022 & -18 & B6 &  725 & N804JB & JFK & BQN & 183 & 1576 & 5 & 45 & 2013-01-01 05:00:00\\\\\n",
       "\t 2013 & 1 & 1 & 554 & 600 & -6 &  812 &  837 & -25 & DL &  461 & N668DN & LGA & ATL & 116 &  762 & 6 &  0 & 2013-01-01 06:00:00\\\\\n",
       "\t 2013 & 1 & 1 & 554 & 558 & -4 &  740 &  728 &  12 & UA & 1696 & N39463 & EWR & ORD & 150 &  719 & 5 & 58 & 2013-01-01 05:00:00\\\\\n",
       "\\end{tabular}\n"
      ],
      "text/markdown": [
       "\n",
       "A tibble: 6 × 19\n",
       "\n",
       "| year &lt;int&gt; | month &lt;int&gt; | day &lt;int&gt; | dep_time &lt;int&gt; | sched_dep_time &lt;int&gt; | dep_delay &lt;dbl&gt; | arr_time &lt;int&gt; | sched_arr_time &lt;int&gt; | arr_delay &lt;dbl&gt; | carrier &lt;chr&gt; | flight &lt;int&gt; | tailnum &lt;chr&gt; | origin &lt;chr&gt; | dest &lt;chr&gt; | air_time &lt;dbl&gt; | distance &lt;dbl&gt; | hour &lt;dbl&gt; | minute &lt;dbl&gt; | time_hour &lt;dttm&gt; |\n",
       "|---|---|---|---|---|---|---|---|---|---|---|---|---|---|---|---|---|---|---|\n",
       "| 2013 | 1 | 1 | 517 | 515 |  2 |  830 |  819 |  11 | UA | 1545 | N14228 | EWR | IAH | 227 | 1400 | 5 | 15 | 2013-01-01 05:00:00 |\n",
       "| 2013 | 1 | 1 | 533 | 529 |  4 |  850 |  830 |  20 | UA | 1714 | N24211 | LGA | IAH | 227 | 1416 | 5 | 29 | 2013-01-01 05:00:00 |\n",
       "| 2013 | 1 | 1 | 542 | 540 |  2 |  923 |  850 |  33 | AA | 1141 | N619AA | JFK | MIA | 160 | 1089 | 5 | 40 | 2013-01-01 05:00:00 |\n",
       "| 2013 | 1 | 1 | 544 | 545 | -1 | 1004 | 1022 | -18 | B6 |  725 | N804JB | JFK | BQN | 183 | 1576 | 5 | 45 | 2013-01-01 05:00:00 |\n",
       "| 2013 | 1 | 1 | 554 | 600 | -6 |  812 |  837 | -25 | DL |  461 | N668DN | LGA | ATL | 116 |  762 | 6 |  0 | 2013-01-01 06:00:00 |\n",
       "| 2013 | 1 | 1 | 554 | 558 | -4 |  740 |  728 |  12 | UA | 1696 | N39463 | EWR | ORD | 150 |  719 | 5 | 58 | 2013-01-01 05:00:00 |\n",
       "\n"
      ],
      "text/plain": [
       "  year month day dep_time sched_dep_time dep_delay arr_time sched_arr_time\n",
       "1 2013 1     1   517      515             2         830      819          \n",
       "2 2013 1     1   533      529             4         850      830          \n",
       "3 2013 1     1   542      540             2         923      850          \n",
       "4 2013 1     1   544      545            -1        1004     1022          \n",
       "5 2013 1     1   554      600            -6         812      837          \n",
       "6 2013 1     1   554      558            -4         740      728          \n",
       "  arr_delay carrier flight tailnum origin dest air_time distance hour minute\n",
       "1  11       UA      1545   N14228  EWR    IAH  227      1400     5    15    \n",
       "2  20       UA      1714   N24211  LGA    IAH  227      1416     5    29    \n",
       "3  33       AA      1141   N619AA  JFK    MIA  160      1089     5    40    \n",
       "4 -18       B6       725   N804JB  JFK    BQN  183      1576     5    45    \n",
       "5 -25       DL       461   N668DN  LGA    ATL  116       762     6     0    \n",
       "6  12       UA      1696   N39463  EWR    ORD  150       719     5    58    \n",
       "  time_hour          \n",
       "1 2013-01-01 05:00:00\n",
       "2 2013-01-01 05:00:00\n",
       "3 2013-01-01 05:00:00\n",
       "4 2013-01-01 05:00:00\n",
       "5 2013-01-01 06:00:00\n",
       "6 2013-01-01 05:00:00"
      ]
     },
     "metadata": {},
     "output_type": "display_data"
    }
   ],
   "source": [
    "head(df)"
   ]
  },
  {
   "cell_type": "markdown",
   "metadata": {},
   "source": [
    "### Agregación y eliminación de columnas"
   ]
  },
  {
   "cell_type": "code",
   "execution_count": 6,
   "metadata": {
    "vscode": {
     "languageId": "r"
    }
   },
   "outputs": [],
   "source": [
    "# Agregamos la columna \"fecha\":\n",
    "df$fecha <- as.Date(df$time_hour, format='%Y-%m-%d')"
   ]
  },
  {
   "cell_type": "code",
   "execution_count": 7,
   "metadata": {
    "vscode": {
     "languageId": "r"
    }
   },
   "outputs": [],
   "source": [
    "# Agregamos la columna \"hora\":\n",
    "df$hora <- format( df$time_hour, format = '%H:%M:%S')"
   ]
  },
  {
   "cell_type": "code",
   "execution_count": 8,
   "metadata": {
    "vscode": {
     "languageId": "r"
    }
   },
   "outputs": [],
   "source": [
    "# Eliminamos la columna \"time_hour\"\n",
    "df$time_hour <- NULL"
   ]
  },
  {
   "cell_type": "code",
   "execution_count": 9,
   "metadata": {
    "vscode": {
     "languageId": "r"
    }
   },
   "outputs": [
    {
     "data": {
      "text/html": [
       "<table class=\"dataframe\">\n",
       "<caption>A tibble: 6 × 20</caption>\n",
       "<thead>\n",
       "\t<tr><th scope=col>year</th><th scope=col>month</th><th scope=col>day</th><th scope=col>dep_time</th><th scope=col>sched_dep_time</th><th scope=col>dep_delay</th><th scope=col>arr_time</th><th scope=col>sched_arr_time</th><th scope=col>arr_delay</th><th scope=col>carrier</th><th scope=col>flight</th><th scope=col>tailnum</th><th scope=col>origin</th><th scope=col>dest</th><th scope=col>air_time</th><th scope=col>distance</th><th scope=col>hour</th><th scope=col>minute</th><th scope=col>fecha</th><th scope=col>hora</th></tr>\n",
       "\t<tr><th scope=col>&lt;int&gt;</th><th scope=col>&lt;int&gt;</th><th scope=col>&lt;int&gt;</th><th scope=col>&lt;int&gt;</th><th scope=col>&lt;int&gt;</th><th scope=col>&lt;dbl&gt;</th><th scope=col>&lt;int&gt;</th><th scope=col>&lt;int&gt;</th><th scope=col>&lt;dbl&gt;</th><th scope=col>&lt;chr&gt;</th><th scope=col>&lt;int&gt;</th><th scope=col>&lt;chr&gt;</th><th scope=col>&lt;chr&gt;</th><th scope=col>&lt;chr&gt;</th><th scope=col>&lt;dbl&gt;</th><th scope=col>&lt;dbl&gt;</th><th scope=col>&lt;dbl&gt;</th><th scope=col>&lt;dbl&gt;</th><th scope=col>&lt;date&gt;</th><th scope=col>&lt;chr&gt;</th></tr>\n",
       "</thead>\n",
       "<tbody>\n",
       "\t<tr><td>2013</td><td>1</td><td>1</td><td>517</td><td>515</td><td> 2</td><td> 830</td><td> 819</td><td> 11</td><td>UA</td><td>1545</td><td>N14228</td><td>EWR</td><td>IAH</td><td>227</td><td>1400</td><td>5</td><td>15</td><td>2013-01-01</td><td>05:00:00</td></tr>\n",
       "\t<tr><td>2013</td><td>1</td><td>1</td><td>533</td><td>529</td><td> 4</td><td> 850</td><td> 830</td><td> 20</td><td>UA</td><td>1714</td><td>N24211</td><td>LGA</td><td>IAH</td><td>227</td><td>1416</td><td>5</td><td>29</td><td>2013-01-01</td><td>05:00:00</td></tr>\n",
       "\t<tr><td>2013</td><td>1</td><td>1</td><td>542</td><td>540</td><td> 2</td><td> 923</td><td> 850</td><td> 33</td><td>AA</td><td>1141</td><td>N619AA</td><td>JFK</td><td>MIA</td><td>160</td><td>1089</td><td>5</td><td>40</td><td>2013-01-01</td><td>05:00:00</td></tr>\n",
       "\t<tr><td>2013</td><td>1</td><td>1</td><td>544</td><td>545</td><td>-1</td><td>1004</td><td>1022</td><td>-18</td><td>B6</td><td> 725</td><td>N804JB</td><td>JFK</td><td>BQN</td><td>183</td><td>1576</td><td>5</td><td>45</td><td>2013-01-01</td><td>05:00:00</td></tr>\n",
       "\t<tr><td>2013</td><td>1</td><td>1</td><td>554</td><td>600</td><td>-6</td><td> 812</td><td> 837</td><td>-25</td><td>DL</td><td> 461</td><td>N668DN</td><td>LGA</td><td>ATL</td><td>116</td><td> 762</td><td>6</td><td> 0</td><td>2013-01-01</td><td>06:00:00</td></tr>\n",
       "\t<tr><td>2013</td><td>1</td><td>1</td><td>554</td><td>558</td><td>-4</td><td> 740</td><td> 728</td><td> 12</td><td>UA</td><td>1696</td><td>N39463</td><td>EWR</td><td>ORD</td><td>150</td><td> 719</td><td>5</td><td>58</td><td>2013-01-01</td><td>05:00:00</td></tr>\n",
       "</tbody>\n",
       "</table>\n"
      ],
      "text/latex": [
       "A tibble: 6 × 20\n",
       "\\begin{tabular}{llllllllllllllllllll}\n",
       " year & month & day & dep\\_time & sched\\_dep\\_time & dep\\_delay & arr\\_time & sched\\_arr\\_time & arr\\_delay & carrier & flight & tailnum & origin & dest & air\\_time & distance & hour & minute & fecha & hora\\\\\n",
       " <int> & <int> & <int> & <int> & <int> & <dbl> & <int> & <int> & <dbl> & <chr> & <int> & <chr> & <chr> & <chr> & <dbl> & <dbl> & <dbl> & <dbl> & <date> & <chr>\\\\\n",
       "\\hline\n",
       "\t 2013 & 1 & 1 & 517 & 515 &  2 &  830 &  819 &  11 & UA & 1545 & N14228 & EWR & IAH & 227 & 1400 & 5 & 15 & 2013-01-01 & 05:00:00\\\\\n",
       "\t 2013 & 1 & 1 & 533 & 529 &  4 &  850 &  830 &  20 & UA & 1714 & N24211 & LGA & IAH & 227 & 1416 & 5 & 29 & 2013-01-01 & 05:00:00\\\\\n",
       "\t 2013 & 1 & 1 & 542 & 540 &  2 &  923 &  850 &  33 & AA & 1141 & N619AA & JFK & MIA & 160 & 1089 & 5 & 40 & 2013-01-01 & 05:00:00\\\\\n",
       "\t 2013 & 1 & 1 & 544 & 545 & -1 & 1004 & 1022 & -18 & B6 &  725 & N804JB & JFK & BQN & 183 & 1576 & 5 & 45 & 2013-01-01 & 05:00:00\\\\\n",
       "\t 2013 & 1 & 1 & 554 & 600 & -6 &  812 &  837 & -25 & DL &  461 & N668DN & LGA & ATL & 116 &  762 & 6 &  0 & 2013-01-01 & 06:00:00\\\\\n",
       "\t 2013 & 1 & 1 & 554 & 558 & -4 &  740 &  728 &  12 & UA & 1696 & N39463 & EWR & ORD & 150 &  719 & 5 & 58 & 2013-01-01 & 05:00:00\\\\\n",
       "\\end{tabular}\n"
      ],
      "text/markdown": [
       "\n",
       "A tibble: 6 × 20\n",
       "\n",
       "| year &lt;int&gt; | month &lt;int&gt; | day &lt;int&gt; | dep_time &lt;int&gt; | sched_dep_time &lt;int&gt; | dep_delay &lt;dbl&gt; | arr_time &lt;int&gt; | sched_arr_time &lt;int&gt; | arr_delay &lt;dbl&gt; | carrier &lt;chr&gt; | flight &lt;int&gt; | tailnum &lt;chr&gt; | origin &lt;chr&gt; | dest &lt;chr&gt; | air_time &lt;dbl&gt; | distance &lt;dbl&gt; | hour &lt;dbl&gt; | minute &lt;dbl&gt; | fecha &lt;date&gt; | hora &lt;chr&gt; |\n",
       "|---|---|---|---|---|---|---|---|---|---|---|---|---|---|---|---|---|---|---|---|\n",
       "| 2013 | 1 | 1 | 517 | 515 |  2 |  830 |  819 |  11 | UA | 1545 | N14228 | EWR | IAH | 227 | 1400 | 5 | 15 | 2013-01-01 | 05:00:00 |\n",
       "| 2013 | 1 | 1 | 533 | 529 |  4 |  850 |  830 |  20 | UA | 1714 | N24211 | LGA | IAH | 227 | 1416 | 5 | 29 | 2013-01-01 | 05:00:00 |\n",
       "| 2013 | 1 | 1 | 542 | 540 |  2 |  923 |  850 |  33 | AA | 1141 | N619AA | JFK | MIA | 160 | 1089 | 5 | 40 | 2013-01-01 | 05:00:00 |\n",
       "| 2013 | 1 | 1 | 544 | 545 | -1 | 1004 | 1022 | -18 | B6 |  725 | N804JB | JFK | BQN | 183 | 1576 | 5 | 45 | 2013-01-01 | 05:00:00 |\n",
       "| 2013 | 1 | 1 | 554 | 600 | -6 |  812 |  837 | -25 | DL |  461 | N668DN | LGA | ATL | 116 |  762 | 6 |  0 | 2013-01-01 | 06:00:00 |\n",
       "| 2013 | 1 | 1 | 554 | 558 | -4 |  740 |  728 |  12 | UA | 1696 | N39463 | EWR | ORD | 150 |  719 | 5 | 58 | 2013-01-01 | 05:00:00 |\n",
       "\n"
      ],
      "text/plain": [
       "  year month day dep_time sched_dep_time dep_delay arr_time sched_arr_time\n",
       "1 2013 1     1   517      515             2         830      819          \n",
       "2 2013 1     1   533      529             4         850      830          \n",
       "3 2013 1     1   542      540             2         923      850          \n",
       "4 2013 1     1   544      545            -1        1004     1022          \n",
       "5 2013 1     1   554      600            -6         812      837          \n",
       "6 2013 1     1   554      558            -4         740      728          \n",
       "  arr_delay carrier flight tailnum origin dest air_time distance hour minute\n",
       "1  11       UA      1545   N14228  EWR    IAH  227      1400     5    15    \n",
       "2  20       UA      1714   N24211  LGA    IAH  227      1416     5    29    \n",
       "3  33       AA      1141   N619AA  JFK    MIA  160      1089     5    40    \n",
       "4 -18       B6       725   N804JB  JFK    BQN  183      1576     5    45    \n",
       "5 -25       DL       461   N668DN  LGA    ATL  116       762     6     0    \n",
       "6  12       UA      1696   N39463  EWR    ORD  150       719     5    58    \n",
       "  fecha      hora    \n",
       "1 2013-01-01 05:00:00\n",
       "2 2013-01-01 05:00:00\n",
       "3 2013-01-01 05:00:00\n",
       "4 2013-01-01 05:00:00\n",
       "5 2013-01-01 06:00:00\n",
       "6 2013-01-01 05:00:00"
      ]
     },
     "metadata": {},
     "output_type": "display_data"
    }
   ],
   "source": [
    "head(df)"
   ]
  },
  {
   "cell_type": "markdown",
   "metadata": {},
   "source": [
    "### Información del dataframe"
   ]
  },
  {
   "cell_type": "code",
   "execution_count": 10,
   "metadata": {
    "vscode": {
     "languageId": "r"
    }
   },
   "outputs": [
    {
     "name": "stdout",
     "output_type": "stream",
     "text": [
      "tibble [336,776 × 20] (S3: tbl_df/tbl/data.frame)\n",
      " $ year          : int [1:336776] 2013 2013 2013 2013 2013 2013 2013 2013 2013 2013 ...\n",
      " $ month         : int [1:336776] 1 1 1 1 1 1 1 1 1 1 ...\n",
      " $ day           : int [1:336776] 1 1 1 1 1 1 1 1 1 1 ...\n",
      " $ dep_time      : int [1:336776] 517 533 542 544 554 554 555 557 557 558 ...\n",
      " $ sched_dep_time: int [1:336776] 515 529 540 545 600 558 600 600 600 600 ...\n",
      " $ dep_delay     : num [1:336776] 2 4 2 -1 -6 -4 -5 -3 -3 -2 ...\n",
      " $ arr_time      : int [1:336776] 830 850 923 1004 812 740 913 709 838 753 ...\n",
      " $ sched_arr_time: int [1:336776] 819 830 850 1022 837 728 854 723 846 745 ...\n",
      " $ arr_delay     : num [1:336776] 11 20 33 -18 -25 12 19 -14 -8 8 ...\n",
      " $ carrier       : chr [1:336776] \"UA\" \"UA\" \"AA\" \"B6\" ...\n",
      " $ flight        : int [1:336776] 1545 1714 1141 725 461 1696 507 5708 79 301 ...\n",
      " $ tailnum       : chr [1:336776] \"N14228\" \"N24211\" \"N619AA\" \"N804JB\" ...\n",
      " $ origin        : chr [1:336776] \"EWR\" \"LGA\" \"JFK\" \"JFK\" ...\n",
      " $ dest          : chr [1:336776] \"IAH\" \"IAH\" \"MIA\" \"BQN\" ...\n",
      " $ air_time      : num [1:336776] 227 227 160 183 116 150 158 53 140 138 ...\n",
      " $ distance      : num [1:336776] 1400 1416 1089 1576 762 ...\n",
      " $ hour          : num [1:336776] 5 5 5 5 6 5 6 6 6 6 ...\n",
      " $ minute        : num [1:336776] 15 29 40 45 0 58 0 0 0 0 ...\n",
      " $ fecha         : Date[1:336776], format: \"2013-01-01\" \"2013-01-01\" ...\n",
      " $ hora          : chr [1:336776] \"05:00:00\" \"05:00:00\" \"05:00:00\" \"05:00:00\" ...\n"
     ]
    }
   ],
   "source": [
    "str(df)"
   ]
  },
  {
   "cell_type": "markdown",
   "metadata": {},
   "source": [
    "### Extracción de valores únicos"
   ]
  },
  {
   "cell_type": "code",
   "execution_count": 11,
   "metadata": {
    "vscode": {
     "languageId": "r"
    }
   },
   "outputs": [
    {
     "data": {
      "text/html": [
       "<style>\n",
       ".list-inline {list-style: none; margin:0; padding: 0}\n",
       ".list-inline>li {display: inline-block}\n",
       ".list-inline>li:not(:last-child)::after {content: \"\\00b7\"; padding: 0 .5ex}\n",
       "</style>\n",
       "<ol class=list-inline><li>1</li><li>2</li><li>3</li><li>4</li><li>5</li><li>6</li><li>7</li><li>8</li><li>9</li><li>10</li><li>11</li><li>12</li></ol>\n"
      ],
      "text/latex": [
       "\\begin{enumerate*}\n",
       "\\item 1\n",
       "\\item 2\n",
       "\\item 3\n",
       "\\item 4\n",
       "\\item 5\n",
       "\\item 6\n",
       "\\item 7\n",
       "\\item 8\n",
       "\\item 9\n",
       "\\item 10\n",
       "\\item 11\n",
       "\\item 12\n",
       "\\end{enumerate*}\n"
      ],
      "text/markdown": [
       "1. 1\n",
       "2. 2\n",
       "3. 3\n",
       "4. 4\n",
       "5. 5\n",
       "6. 6\n",
       "7. 7\n",
       "8. 8\n",
       "9. 9\n",
       "10. 10\n",
       "11. 11\n",
       "12. 12\n",
       "\n",
       "\n"
      ],
      "text/plain": [
       " [1]  1  2  3  4  5  6  7  8  9 10 11 12"
      ]
     },
     "metadata": {},
     "output_type": "display_data"
    }
   ],
   "source": [
    "month_vals <- sort( unique(df$month) )\n",
    "month_vals"
   ]
  },
  {
   "cell_type": "code",
   "execution_count": 12,
   "metadata": {
    "vscode": {
     "languageId": "r"
    }
   },
   "outputs": [
    {
     "data": {
      "text/html": [
       "<style>\n",
       ".list-inline {list-style: none; margin:0; padding: 0}\n",
       ".list-inline>li {display: inline-block}\n",
       ".list-inline>li:not(:last-child)::after {content: \"\\00b7\"; padding: 0 .5ex}\n",
       "</style>\n",
       "<ol class=list-inline><li>'UA'</li><li>'AA'</li><li>'B6'</li><li>'DL'</li><li>'EV'</li><li>'MQ'</li><li>'US'</li><li>'WN'</li><li>'VX'</li><li>'FL'</li><li>'AS'</li><li>'9E'</li><li>'F9'</li><li>'HA'</li><li>'YV'</li><li>'OO'</li></ol>\n"
      ],
      "text/latex": [
       "\\begin{enumerate*}\n",
       "\\item 'UA'\n",
       "\\item 'AA'\n",
       "\\item 'B6'\n",
       "\\item 'DL'\n",
       "\\item 'EV'\n",
       "\\item 'MQ'\n",
       "\\item 'US'\n",
       "\\item 'WN'\n",
       "\\item 'VX'\n",
       "\\item 'FL'\n",
       "\\item 'AS'\n",
       "\\item '9E'\n",
       "\\item 'F9'\n",
       "\\item 'HA'\n",
       "\\item 'YV'\n",
       "\\item 'OO'\n",
       "\\end{enumerate*}\n"
      ],
      "text/markdown": [
       "1. 'UA'\n",
       "2. 'AA'\n",
       "3. 'B6'\n",
       "4. 'DL'\n",
       "5. 'EV'\n",
       "6. 'MQ'\n",
       "7. 'US'\n",
       "8. 'WN'\n",
       "9. 'VX'\n",
       "10. 'FL'\n",
       "11. 'AS'\n",
       "12. '9E'\n",
       "13. 'F9'\n",
       "14. 'HA'\n",
       "15. 'YV'\n",
       "16. 'OO'\n",
       "\n",
       "\n"
      ],
      "text/plain": [
       " [1] \"UA\" \"AA\" \"B6\" \"DL\" \"EV\" \"MQ\" \"US\" \"WN\" \"VX\" \"FL\" \"AS\" \"9E\" \"F9\" \"HA\" \"YV\"\n",
       "[16] \"OO\""
      ]
     },
     "metadata": {},
     "output_type": "display_data"
    }
   ],
   "source": [
    "carrier_vals <- unique(df$carrier)\n",
    "carrier_vals"
   ]
  },
  {
   "cell_type": "code",
   "execution_count": 13,
   "metadata": {
    "vscode": {
     "languageId": "r"
    }
   },
   "outputs": [
    {
     "data": {
      "text/html": [
       "<table class=\"dataframe\">\n",
       "<caption>A tibble: 16 × 1</caption>\n",
       "<thead>\n",
       "\t<tr><th scope=col>carrier</th></tr>\n",
       "\t<tr><th scope=col>&lt;chr&gt;</th></tr>\n",
       "</thead>\n",
       "<tbody>\n",
       "\t<tr><td>UA</td></tr>\n",
       "\t<tr><td>AA</td></tr>\n",
       "\t<tr><td>B6</td></tr>\n",
       "\t<tr><td>DL</td></tr>\n",
       "\t<tr><td>EV</td></tr>\n",
       "\t<tr><td>MQ</td></tr>\n",
       "\t<tr><td>US</td></tr>\n",
       "\t<tr><td>WN</td></tr>\n",
       "\t<tr><td>VX</td></tr>\n",
       "\t<tr><td>FL</td></tr>\n",
       "\t<tr><td>AS</td></tr>\n",
       "\t<tr><td>9E</td></tr>\n",
       "\t<tr><td>F9</td></tr>\n",
       "\t<tr><td>HA</td></tr>\n",
       "\t<tr><td>YV</td></tr>\n",
       "\t<tr><td>OO</td></tr>\n",
       "</tbody>\n",
       "</table>\n"
      ],
      "text/latex": [
       "A tibble: 16 × 1\n",
       "\\begin{tabular}{l}\n",
       " carrier\\\\\n",
       " <chr>\\\\\n",
       "\\hline\n",
       "\t UA\\\\\n",
       "\t AA\\\\\n",
       "\t B6\\\\\n",
       "\t DL\\\\\n",
       "\t EV\\\\\n",
       "\t MQ\\\\\n",
       "\t US\\\\\n",
       "\t WN\\\\\n",
       "\t VX\\\\\n",
       "\t FL\\\\\n",
       "\t AS\\\\\n",
       "\t 9E\\\\\n",
       "\t F9\\\\\n",
       "\t HA\\\\\n",
       "\t YV\\\\\n",
       "\t OO\\\\\n",
       "\\end{tabular}\n"
      ],
      "text/markdown": [
       "\n",
       "A tibble: 16 × 1\n",
       "\n",
       "| carrier &lt;chr&gt; |\n",
       "|---|\n",
       "| UA |\n",
       "| AA |\n",
       "| B6 |\n",
       "| DL |\n",
       "| EV |\n",
       "| MQ |\n",
       "| US |\n",
       "| WN |\n",
       "| VX |\n",
       "| FL |\n",
       "| AS |\n",
       "| 9E |\n",
       "| F9 |\n",
       "| HA |\n",
       "| YV |\n",
       "| OO |\n",
       "\n"
      ],
      "text/plain": [
       "   carrier\n",
       "1  UA     \n",
       "2  AA     \n",
       "3  B6     \n",
       "4  DL     \n",
       "5  EV     \n",
       "6  MQ     \n",
       "7  US     \n",
       "8  WN     \n",
       "9  VX     \n",
       "10 FL     \n",
       "11 AS     \n",
       "12 9E     \n",
       "13 F9     \n",
       "14 HA     \n",
       "15 YV     \n",
       "16 OO     "
      ]
     },
     "metadata": {},
     "output_type": "display_data"
    }
   ],
   "source": [
    "unique( select(df,carrier))"
   ]
  },
  {
   "cell_type": "code",
   "execution_count": 14,
   "metadata": {
    "vscode": {
     "languageId": "r"
    }
   },
   "outputs": [
    {
     "data": {
      "text/html": [
       "<table class=\"dataframe\">\n",
       "<caption>A tibble: 16 × 1</caption>\n",
       "<thead>\n",
       "\t<tr><th scope=col>carrier</th></tr>\n",
       "\t<tr><th scope=col>&lt;chr&gt;</th></tr>\n",
       "</thead>\n",
       "<tbody>\n",
       "\t<tr><td>UA</td></tr>\n",
       "\t<tr><td>AA</td></tr>\n",
       "\t<tr><td>B6</td></tr>\n",
       "\t<tr><td>DL</td></tr>\n",
       "\t<tr><td>EV</td></tr>\n",
       "\t<tr><td>MQ</td></tr>\n",
       "\t<tr><td>US</td></tr>\n",
       "\t<tr><td>WN</td></tr>\n",
       "\t<tr><td>VX</td></tr>\n",
       "\t<tr><td>FL</td></tr>\n",
       "\t<tr><td>AS</td></tr>\n",
       "\t<tr><td>9E</td></tr>\n",
       "\t<tr><td>F9</td></tr>\n",
       "\t<tr><td>HA</td></tr>\n",
       "\t<tr><td>YV</td></tr>\n",
       "\t<tr><td>OO</td></tr>\n",
       "</tbody>\n",
       "</table>\n"
      ],
      "text/latex": [
       "A tibble: 16 × 1\n",
       "\\begin{tabular}{l}\n",
       " carrier\\\\\n",
       " <chr>\\\\\n",
       "\\hline\n",
       "\t UA\\\\\n",
       "\t AA\\\\\n",
       "\t B6\\\\\n",
       "\t DL\\\\\n",
       "\t EV\\\\\n",
       "\t MQ\\\\\n",
       "\t US\\\\\n",
       "\t WN\\\\\n",
       "\t VX\\\\\n",
       "\t FL\\\\\n",
       "\t AS\\\\\n",
       "\t 9E\\\\\n",
       "\t F9\\\\\n",
       "\t HA\\\\\n",
       "\t YV\\\\\n",
       "\t OO\\\\\n",
       "\\end{tabular}\n"
      ],
      "text/markdown": [
       "\n",
       "A tibble: 16 × 1\n",
       "\n",
       "| carrier &lt;chr&gt; |\n",
       "|---|\n",
       "| UA |\n",
       "| AA |\n",
       "| B6 |\n",
       "| DL |\n",
       "| EV |\n",
       "| MQ |\n",
       "| US |\n",
       "| WN |\n",
       "| VX |\n",
       "| FL |\n",
       "| AS |\n",
       "| 9E |\n",
       "| F9 |\n",
       "| HA |\n",
       "| YV |\n",
       "| OO |\n",
       "\n"
      ],
      "text/plain": [
       "   carrier\n",
       "1  UA     \n",
       "2  AA     \n",
       "3  B6     \n",
       "4  DL     \n",
       "5  EV     \n",
       "6  MQ     \n",
       "7  US     \n",
       "8  WN     \n",
       "9  VX     \n",
       "10 FL     \n",
       "11 AS     \n",
       "12 9E     \n",
       "13 F9     \n",
       "14 HA     \n",
       "15 YV     \n",
       "16 OO     "
      ]
     },
     "metadata": {},
     "output_type": "display_data"
    }
   ],
   "source": [
    "distinct( select(df,carrier))"
   ]
  },
  {
   "cell_type": "code",
   "execution_count": 15,
   "metadata": {
    "vscode": {
     "languageId": "r"
    }
   },
   "outputs": [
    {
     "data": {
      "text/html": [
       "<style>\n",
       ".list-inline {list-style: none; margin:0; padding: 0}\n",
       ".list-inline>li {display: inline-block}\n",
       ".list-inline>li:not(:last-child)::after {content: \"\\00b7\"; padding: 0 .5ex}\n",
       "</style>\n",
       "<ol class=list-inline><li>'EWR'</li><li>'LGA'</li><li>'JFK'</li></ol>\n"
      ],
      "text/latex": [
       "\\begin{enumerate*}\n",
       "\\item 'EWR'\n",
       "\\item 'LGA'\n",
       "\\item 'JFK'\n",
       "\\end{enumerate*}\n"
      ],
      "text/markdown": [
       "1. 'EWR'\n",
       "2. 'LGA'\n",
       "3. 'JFK'\n",
       "\n",
       "\n"
      ],
      "text/plain": [
       "[1] \"EWR\" \"LGA\" \"JFK\""
      ]
     },
     "metadata": {},
     "output_type": "display_data"
    }
   ],
   "source": [
    "origin_vals <- unique(df$origin)\n",
    "origin_vals"
   ]
  },
  {
   "cell_type": "code",
   "execution_count": 16,
   "metadata": {
    "vscode": {
     "languageId": "r"
    }
   },
   "outputs": [
    {
     "data": {
      "text/html": [
       "<style>\n",
       ".list-inline {list-style: none; margin:0; padding: 0}\n",
       ".list-inline>li {display: inline-block}\n",
       ".list-inline>li:not(:last-child)::after {content: \"\\00b7\"; padding: 0 .5ex}\n",
       "</style>\n",
       "<ol class=list-inline><li>'IAH'</li><li>'MIA'</li><li>'BQN'</li><li>'ATL'</li><li>'ORD'</li><li>'FLL'</li><li>'IAD'</li><li>'MCO'</li><li>'PBI'</li><li>'TPA'</li><li>'LAX'</li><li>'SFO'</li><li>'DFW'</li><li>'BOS'</li><li>'LAS'</li><li>'MSP'</li><li>'DTW'</li><li>'RSW'</li><li>'SJU'</li><li>'PHX'</li><li>'BWI'</li><li>'CLT'</li><li>'BUF'</li><li>'DEN'</li><li>'SNA'</li><li>'MSY'</li><li>'SLC'</li><li>'XNA'</li><li>'MKE'</li><li>'SEA'</li><li>'ROC'</li><li>'SYR'</li><li>'SRQ'</li><li>'RDU'</li><li>'CMH'</li><li>'JAX'</li><li>'CHS'</li><li>'MEM'</li><li>'PIT'</li><li>'SAN'</li><li>'DCA'</li><li>'CLE'</li><li>'STL'</li><li>'MYR'</li><li>'JAC'</li><li>'MDW'</li><li>'HNL'</li><li>'BNA'</li><li>'AUS'</li><li>'BTV'</li><li>'PHL'</li><li>'STT'</li><li>'EGE'</li><li>'AVL'</li><li>'PWM'</li><li>'IND'</li><li>'SAV'</li><li>'CAK'</li><li>'HOU'</li><li>'LGB'</li><li>'DAY'</li><li>'ALB'</li><li>'BDL'</li><li>'MHT'</li><li>'MSN'</li><li>'GSO'</li><li>'CVG'</li><li>'BUR'</li><li>'RIC'</li><li>'GSP'</li><li>'GRR'</li><li>'MCI'</li><li>'ORF'</li><li>'SAT'</li><li>'SDF'</li><li>'PDX'</li><li>'SJC'</li><li>'OMA'</li><li>'CRW'</li><li>'OAK'</li><li>'SMF'</li><li>'TUL'</li><li>'TYS'</li><li>'OKC'</li><li>'PVD'</li><li>'DSM'</li><li>'PSE'</li><li>'BHM'</li><li>'CAE'</li><li>'HDN'</li><li>'BZN'</li><li>'MTJ'</li><li>'EYW'</li><li>'PSP'</li><li>'ACK'</li><li>'BGR'</li><li>'ABQ'</li><li>'ILM'</li><li>'MVY'</li><li>'SBN'</li><li>'LEX'</li><li>'CHO'</li><li>'TVC'</li><li>'ANC'</li><li>'LGA'</li></ol>\n"
      ],
      "text/latex": [
       "\\begin{enumerate*}\n",
       "\\item 'IAH'\n",
       "\\item 'MIA'\n",
       "\\item 'BQN'\n",
       "\\item 'ATL'\n",
       "\\item 'ORD'\n",
       "\\item 'FLL'\n",
       "\\item 'IAD'\n",
       "\\item 'MCO'\n",
       "\\item 'PBI'\n",
       "\\item 'TPA'\n",
       "\\item 'LAX'\n",
       "\\item 'SFO'\n",
       "\\item 'DFW'\n",
       "\\item 'BOS'\n",
       "\\item 'LAS'\n",
       "\\item 'MSP'\n",
       "\\item 'DTW'\n",
       "\\item 'RSW'\n",
       "\\item 'SJU'\n",
       "\\item 'PHX'\n",
       "\\item 'BWI'\n",
       "\\item 'CLT'\n",
       "\\item 'BUF'\n",
       "\\item 'DEN'\n",
       "\\item 'SNA'\n",
       "\\item 'MSY'\n",
       "\\item 'SLC'\n",
       "\\item 'XNA'\n",
       "\\item 'MKE'\n",
       "\\item 'SEA'\n",
       "\\item 'ROC'\n",
       "\\item 'SYR'\n",
       "\\item 'SRQ'\n",
       "\\item 'RDU'\n",
       "\\item 'CMH'\n",
       "\\item 'JAX'\n",
       "\\item 'CHS'\n",
       "\\item 'MEM'\n",
       "\\item 'PIT'\n",
       "\\item 'SAN'\n",
       "\\item 'DCA'\n",
       "\\item 'CLE'\n",
       "\\item 'STL'\n",
       "\\item 'MYR'\n",
       "\\item 'JAC'\n",
       "\\item 'MDW'\n",
       "\\item 'HNL'\n",
       "\\item 'BNA'\n",
       "\\item 'AUS'\n",
       "\\item 'BTV'\n",
       "\\item 'PHL'\n",
       "\\item 'STT'\n",
       "\\item 'EGE'\n",
       "\\item 'AVL'\n",
       "\\item 'PWM'\n",
       "\\item 'IND'\n",
       "\\item 'SAV'\n",
       "\\item 'CAK'\n",
       "\\item 'HOU'\n",
       "\\item 'LGB'\n",
       "\\item 'DAY'\n",
       "\\item 'ALB'\n",
       "\\item 'BDL'\n",
       "\\item 'MHT'\n",
       "\\item 'MSN'\n",
       "\\item 'GSO'\n",
       "\\item 'CVG'\n",
       "\\item 'BUR'\n",
       "\\item 'RIC'\n",
       "\\item 'GSP'\n",
       "\\item 'GRR'\n",
       "\\item 'MCI'\n",
       "\\item 'ORF'\n",
       "\\item 'SAT'\n",
       "\\item 'SDF'\n",
       "\\item 'PDX'\n",
       "\\item 'SJC'\n",
       "\\item 'OMA'\n",
       "\\item 'CRW'\n",
       "\\item 'OAK'\n",
       "\\item 'SMF'\n",
       "\\item 'TUL'\n",
       "\\item 'TYS'\n",
       "\\item 'OKC'\n",
       "\\item 'PVD'\n",
       "\\item 'DSM'\n",
       "\\item 'PSE'\n",
       "\\item 'BHM'\n",
       "\\item 'CAE'\n",
       "\\item 'HDN'\n",
       "\\item 'BZN'\n",
       "\\item 'MTJ'\n",
       "\\item 'EYW'\n",
       "\\item 'PSP'\n",
       "\\item 'ACK'\n",
       "\\item 'BGR'\n",
       "\\item 'ABQ'\n",
       "\\item 'ILM'\n",
       "\\item 'MVY'\n",
       "\\item 'SBN'\n",
       "\\item 'LEX'\n",
       "\\item 'CHO'\n",
       "\\item 'TVC'\n",
       "\\item 'ANC'\n",
       "\\item 'LGA'\n",
       "\\end{enumerate*}\n"
      ],
      "text/markdown": [
       "1. 'IAH'\n",
       "2. 'MIA'\n",
       "3. 'BQN'\n",
       "4. 'ATL'\n",
       "5. 'ORD'\n",
       "6. 'FLL'\n",
       "7. 'IAD'\n",
       "8. 'MCO'\n",
       "9. 'PBI'\n",
       "10. 'TPA'\n",
       "11. 'LAX'\n",
       "12. 'SFO'\n",
       "13. 'DFW'\n",
       "14. 'BOS'\n",
       "15. 'LAS'\n",
       "16. 'MSP'\n",
       "17. 'DTW'\n",
       "18. 'RSW'\n",
       "19. 'SJU'\n",
       "20. 'PHX'\n",
       "21. 'BWI'\n",
       "22. 'CLT'\n",
       "23. 'BUF'\n",
       "24. 'DEN'\n",
       "25. 'SNA'\n",
       "26. 'MSY'\n",
       "27. 'SLC'\n",
       "28. 'XNA'\n",
       "29. 'MKE'\n",
       "30. 'SEA'\n",
       "31. 'ROC'\n",
       "32. 'SYR'\n",
       "33. 'SRQ'\n",
       "34. 'RDU'\n",
       "35. 'CMH'\n",
       "36. 'JAX'\n",
       "37. 'CHS'\n",
       "38. 'MEM'\n",
       "39. 'PIT'\n",
       "40. 'SAN'\n",
       "41. 'DCA'\n",
       "42. 'CLE'\n",
       "43. 'STL'\n",
       "44. 'MYR'\n",
       "45. 'JAC'\n",
       "46. 'MDW'\n",
       "47. 'HNL'\n",
       "48. 'BNA'\n",
       "49. 'AUS'\n",
       "50. 'BTV'\n",
       "51. 'PHL'\n",
       "52. 'STT'\n",
       "53. 'EGE'\n",
       "54. 'AVL'\n",
       "55. 'PWM'\n",
       "56. 'IND'\n",
       "57. 'SAV'\n",
       "58. 'CAK'\n",
       "59. 'HOU'\n",
       "60. 'LGB'\n",
       "61. 'DAY'\n",
       "62. 'ALB'\n",
       "63. 'BDL'\n",
       "64. 'MHT'\n",
       "65. 'MSN'\n",
       "66. 'GSO'\n",
       "67. 'CVG'\n",
       "68. 'BUR'\n",
       "69. 'RIC'\n",
       "70. 'GSP'\n",
       "71. 'GRR'\n",
       "72. 'MCI'\n",
       "73. 'ORF'\n",
       "74. 'SAT'\n",
       "75. 'SDF'\n",
       "76. 'PDX'\n",
       "77. 'SJC'\n",
       "78. 'OMA'\n",
       "79. 'CRW'\n",
       "80. 'OAK'\n",
       "81. 'SMF'\n",
       "82. 'TUL'\n",
       "83. 'TYS'\n",
       "84. 'OKC'\n",
       "85. 'PVD'\n",
       "86. 'DSM'\n",
       "87. 'PSE'\n",
       "88. 'BHM'\n",
       "89. 'CAE'\n",
       "90. 'HDN'\n",
       "91. 'BZN'\n",
       "92. 'MTJ'\n",
       "93. 'EYW'\n",
       "94. 'PSP'\n",
       "95. 'ACK'\n",
       "96. 'BGR'\n",
       "97. 'ABQ'\n",
       "98. 'ILM'\n",
       "99. 'MVY'\n",
       "100. 'SBN'\n",
       "101. 'LEX'\n",
       "102. 'CHO'\n",
       "103. 'TVC'\n",
       "104. 'ANC'\n",
       "105. 'LGA'\n",
       "\n",
       "\n"
      ],
      "text/plain": [
       "  [1] \"IAH\" \"MIA\" \"BQN\" \"ATL\" \"ORD\" \"FLL\" \"IAD\" \"MCO\" \"PBI\" \"TPA\" \"LAX\" \"SFO\"\n",
       " [13] \"DFW\" \"BOS\" \"LAS\" \"MSP\" \"DTW\" \"RSW\" \"SJU\" \"PHX\" \"BWI\" \"CLT\" \"BUF\" \"DEN\"\n",
       " [25] \"SNA\" \"MSY\" \"SLC\" \"XNA\" \"MKE\" \"SEA\" \"ROC\" \"SYR\" \"SRQ\" \"RDU\" \"CMH\" \"JAX\"\n",
       " [37] \"CHS\" \"MEM\" \"PIT\" \"SAN\" \"DCA\" \"CLE\" \"STL\" \"MYR\" \"JAC\" \"MDW\" \"HNL\" \"BNA\"\n",
       " [49] \"AUS\" \"BTV\" \"PHL\" \"STT\" \"EGE\" \"AVL\" \"PWM\" \"IND\" \"SAV\" \"CAK\" \"HOU\" \"LGB\"\n",
       " [61] \"DAY\" \"ALB\" \"BDL\" \"MHT\" \"MSN\" \"GSO\" \"CVG\" \"BUR\" \"RIC\" \"GSP\" \"GRR\" \"MCI\"\n",
       " [73] \"ORF\" \"SAT\" \"SDF\" \"PDX\" \"SJC\" \"OMA\" \"CRW\" \"OAK\" \"SMF\" \"TUL\" \"TYS\" \"OKC\"\n",
       " [85] \"PVD\" \"DSM\" \"PSE\" \"BHM\" \"CAE\" \"HDN\" \"BZN\" \"MTJ\" \"EYW\" \"PSP\" \"ACK\" \"BGR\"\n",
       " [97] \"ABQ\" \"ILM\" \"MVY\" \"SBN\" \"LEX\" \"CHO\" \"TVC\" \"ANC\" \"LGA\""
      ]
     },
     "metadata": {},
     "output_type": "display_data"
    }
   ],
   "source": [
    "dest_vals <- unique(df$dest)\n",
    "dest_vals"
   ]
  },
  {
   "cell_type": "markdown",
   "metadata": {},
   "source": [
    "### Filtrado de datos"
   ]
  },
  {
   "cell_type": "code",
   "execution_count": 17,
   "metadata": {
    "vscode": {
     "languageId": "r"
    }
   },
   "outputs": [
    {
     "data": {
      "text/html": [
       "<table class=\"dataframe\">\n",
       "<caption>A tibble: 12 × 20</caption>\n",
       "<thead>\n",
       "\t<tr><th scope=col>year</th><th scope=col>month</th><th scope=col>day</th><th scope=col>dep_time</th><th scope=col>sched_dep_time</th><th scope=col>dep_delay</th><th scope=col>arr_time</th><th scope=col>sched_arr_time</th><th scope=col>arr_delay</th><th scope=col>carrier</th><th scope=col>flight</th><th scope=col>tailnum</th><th scope=col>origin</th><th scope=col>dest</th><th scope=col>air_time</th><th scope=col>distance</th><th scope=col>hour</th><th scope=col>minute</th><th scope=col>fecha</th><th scope=col>hora</th></tr>\n",
       "\t<tr><th scope=col>&lt;int&gt;</th><th scope=col>&lt;int&gt;</th><th scope=col>&lt;int&gt;</th><th scope=col>&lt;int&gt;</th><th scope=col>&lt;int&gt;</th><th scope=col>&lt;dbl&gt;</th><th scope=col>&lt;int&gt;</th><th scope=col>&lt;int&gt;</th><th scope=col>&lt;dbl&gt;</th><th scope=col>&lt;chr&gt;</th><th scope=col>&lt;int&gt;</th><th scope=col>&lt;chr&gt;</th><th scope=col>&lt;chr&gt;</th><th scope=col>&lt;chr&gt;</th><th scope=col>&lt;dbl&gt;</th><th scope=col>&lt;dbl&gt;</th><th scope=col>&lt;dbl&gt;</th><th scope=col>&lt;dbl&gt;</th><th scope=col>&lt;date&gt;</th><th scope=col>&lt;chr&gt;</th></tr>\n",
       "</thead>\n",
       "<tbody>\n",
       "\t<tr><td>2013</td><td>6</td><td>27</td><td> 703</td><td> 655</td><td> 8</td><td> 853</td><td> 906</td><td>-13</td><td>US</td><td>334</td><td>N650AW</td><td>EWR</td><td>PHX</td><td>269</td><td>2133</td><td> 6</td><td>55</td><td>2013-06-27</td><td>06:00:00</td></tr>\n",
       "\t<tr><td>2013</td><td>6</td><td>27</td><td>1021</td><td>1025</td><td>-4</td><td>1157</td><td>1222</td><td>-25</td><td>US</td><td>604</td><td>N658AW</td><td>EWR</td><td>PHX</td><td>260</td><td>2133</td><td>10</td><td>25</td><td>2013-06-27</td><td>10:00:00</td></tr>\n",
       "\t<tr><td>2013</td><td>6</td><td>27</td><td>1427</td><td>1359</td><td>28</td><td>1557</td><td>1556</td><td>  1</td><td>US</td><td>688</td><td>N675AW</td><td>EWR</td><td>PHX</td><td>256</td><td>2133</td><td>13</td><td>59</td><td>2013-06-27</td><td>13:00:00</td></tr>\n",
       "\t<tr><td>2013</td><td>6</td><td>27</td><td>1757</td><td>1655</td><td>62</td><td>2012</td><td>1900</td><td> 72</td><td>US</td><td>681</td><td>N602AW</td><td>EWR</td><td>PHX</td><td>274</td><td>2133</td><td>16</td><td>55</td><td>2013-06-27</td><td>16:00:00</td></tr>\n",
       "\t<tr><td>2013</td><td>6</td><td>28</td><td>1023</td><td>1025</td><td>-2</td><td>1222</td><td>1222</td><td>  0</td><td>US</td><td>604</td><td>N652AW</td><td>EWR</td><td>PHX</td><td>279</td><td>2133</td><td>10</td><td>25</td><td>2013-06-28</td><td>10:00:00</td></tr>\n",
       "\t<tr><td>2013</td><td>6</td><td>28</td><td>1438</td><td>1359</td><td>39</td><td>1631</td><td>1556</td><td> 35</td><td>US</td><td>688</td><td>N677AW</td><td>EWR</td><td>PHX</td><td>271</td><td>2133</td><td>13</td><td>59</td><td>2013-06-28</td><td>13:00:00</td></tr>\n",
       "\t<tr><td>2013</td><td>6</td><td>28</td><td>1701</td><td>1655</td><td> 6</td><td>1908</td><td>1900</td><td>  8</td><td>US</td><td>681</td><td>N678AW</td><td>EWR</td><td>PHX</td><td>282</td><td>2133</td><td>16</td><td>55</td><td>2013-06-28</td><td>16:00:00</td></tr>\n",
       "\t<tr><td>2013</td><td>6</td><td>28</td><td>  NA</td><td> 655</td><td>NA</td><td>  NA</td><td> 906</td><td> NA</td><td>US</td><td>334</td><td>NA    </td><td>EWR</td><td>PHX</td><td> NA</td><td>2133</td><td> 6</td><td>55</td><td>2013-06-28</td><td>06:00:00</td></tr>\n",
       "\t<tr><td>2013</td><td>6</td><td>29</td><td> 701</td><td> 655</td><td> 6</td><td> 851</td><td> 906</td><td>-15</td><td>US</td><td>334</td><td>N676AW</td><td>EWR</td><td>PHX</td><td>271</td><td>2133</td><td> 6</td><td>55</td><td>2013-06-29</td><td>06:00:00</td></tr>\n",
       "\t<tr><td>2013</td><td>6</td><td>29</td><td>1022</td><td>1025</td><td>-3</td><td>1209</td><td>1222</td><td>-13</td><td>US</td><td>604</td><td>N652AW</td><td>EWR</td><td>PHX</td><td>271</td><td>2133</td><td>10</td><td>25</td><td>2013-06-29</td><td>10:00:00</td></tr>\n",
       "\t<tr><td>2013</td><td>6</td><td>29</td><td>1413</td><td>1359</td><td>14</td><td>1630</td><td>1556</td><td> 34</td><td>US</td><td>688</td><td>N650AW</td><td>EWR</td><td>PHX</td><td>298</td><td>2133</td><td>13</td><td>59</td><td>2013-06-29</td><td>13:00:00</td></tr>\n",
       "\t<tr><td>2013</td><td>6</td><td>29</td><td>1652</td><td>1655</td><td>-3</td><td>1842</td><td>1900</td><td>-18</td><td>US</td><td>627</td><td>N826AW</td><td>EWR</td><td>PHX</td><td>274</td><td>2133</td><td>16</td><td>55</td><td>2013-06-29</td><td>16:00:00</td></tr>\n",
       "</tbody>\n",
       "</table>\n"
      ],
      "text/latex": [
       "A tibble: 12 × 20\n",
       "\\begin{tabular}{llllllllllllllllllll}\n",
       " year & month & day & dep\\_time & sched\\_dep\\_time & dep\\_delay & arr\\_time & sched\\_arr\\_time & arr\\_delay & carrier & flight & tailnum & origin & dest & air\\_time & distance & hour & minute & fecha & hora\\\\\n",
       " <int> & <int> & <int> & <int> & <int> & <dbl> & <int> & <int> & <dbl> & <chr> & <int> & <chr> & <chr> & <chr> & <dbl> & <dbl> & <dbl> & <dbl> & <date> & <chr>\\\\\n",
       "\\hline\n",
       "\t 2013 & 6 & 27 &  703 &  655 &  8 &  853 &  906 & -13 & US & 334 & N650AW & EWR & PHX & 269 & 2133 &  6 & 55 & 2013-06-27 & 06:00:00\\\\\n",
       "\t 2013 & 6 & 27 & 1021 & 1025 & -4 & 1157 & 1222 & -25 & US & 604 & N658AW & EWR & PHX & 260 & 2133 & 10 & 25 & 2013-06-27 & 10:00:00\\\\\n",
       "\t 2013 & 6 & 27 & 1427 & 1359 & 28 & 1557 & 1556 &   1 & US & 688 & N675AW & EWR & PHX & 256 & 2133 & 13 & 59 & 2013-06-27 & 13:00:00\\\\\n",
       "\t 2013 & 6 & 27 & 1757 & 1655 & 62 & 2012 & 1900 &  72 & US & 681 & N602AW & EWR & PHX & 274 & 2133 & 16 & 55 & 2013-06-27 & 16:00:00\\\\\n",
       "\t 2013 & 6 & 28 & 1023 & 1025 & -2 & 1222 & 1222 &   0 & US & 604 & N652AW & EWR & PHX & 279 & 2133 & 10 & 25 & 2013-06-28 & 10:00:00\\\\\n",
       "\t 2013 & 6 & 28 & 1438 & 1359 & 39 & 1631 & 1556 &  35 & US & 688 & N677AW & EWR & PHX & 271 & 2133 & 13 & 59 & 2013-06-28 & 13:00:00\\\\\n",
       "\t 2013 & 6 & 28 & 1701 & 1655 &  6 & 1908 & 1900 &   8 & US & 681 & N678AW & EWR & PHX & 282 & 2133 & 16 & 55 & 2013-06-28 & 16:00:00\\\\\n",
       "\t 2013 & 6 & 28 &   NA &  655 & NA &   NA &  906 &  NA & US & 334 & NA     & EWR & PHX &  NA & 2133 &  6 & 55 & 2013-06-28 & 06:00:00\\\\\n",
       "\t 2013 & 6 & 29 &  701 &  655 &  6 &  851 &  906 & -15 & US & 334 & N676AW & EWR & PHX & 271 & 2133 &  6 & 55 & 2013-06-29 & 06:00:00\\\\\n",
       "\t 2013 & 6 & 29 & 1022 & 1025 & -3 & 1209 & 1222 & -13 & US & 604 & N652AW & EWR & PHX & 271 & 2133 & 10 & 25 & 2013-06-29 & 10:00:00\\\\\n",
       "\t 2013 & 6 & 29 & 1413 & 1359 & 14 & 1630 & 1556 &  34 & US & 688 & N650AW & EWR & PHX & 298 & 2133 & 13 & 59 & 2013-06-29 & 13:00:00\\\\\n",
       "\t 2013 & 6 & 29 & 1652 & 1655 & -3 & 1842 & 1900 & -18 & US & 627 & N826AW & EWR & PHX & 274 & 2133 & 16 & 55 & 2013-06-29 & 16:00:00\\\\\n",
       "\\end{tabular}\n"
      ],
      "text/markdown": [
       "\n",
       "A tibble: 12 × 20\n",
       "\n",
       "| year &lt;int&gt; | month &lt;int&gt; | day &lt;int&gt; | dep_time &lt;int&gt; | sched_dep_time &lt;int&gt; | dep_delay &lt;dbl&gt; | arr_time &lt;int&gt; | sched_arr_time &lt;int&gt; | arr_delay &lt;dbl&gt; | carrier &lt;chr&gt; | flight &lt;int&gt; | tailnum &lt;chr&gt; | origin &lt;chr&gt; | dest &lt;chr&gt; | air_time &lt;dbl&gt; | distance &lt;dbl&gt; | hour &lt;dbl&gt; | minute &lt;dbl&gt; | fecha &lt;date&gt; | hora &lt;chr&gt; |\n",
       "|---|---|---|---|---|---|---|---|---|---|---|---|---|---|---|---|---|---|---|---|\n",
       "| 2013 | 6 | 27 |  703 |  655 |  8 |  853 |  906 | -13 | US | 334 | N650AW | EWR | PHX | 269 | 2133 |  6 | 55 | 2013-06-27 | 06:00:00 |\n",
       "| 2013 | 6 | 27 | 1021 | 1025 | -4 | 1157 | 1222 | -25 | US | 604 | N658AW | EWR | PHX | 260 | 2133 | 10 | 25 | 2013-06-27 | 10:00:00 |\n",
       "| 2013 | 6 | 27 | 1427 | 1359 | 28 | 1557 | 1556 |   1 | US | 688 | N675AW | EWR | PHX | 256 | 2133 | 13 | 59 | 2013-06-27 | 13:00:00 |\n",
       "| 2013 | 6 | 27 | 1757 | 1655 | 62 | 2012 | 1900 |  72 | US | 681 | N602AW | EWR | PHX | 274 | 2133 | 16 | 55 | 2013-06-27 | 16:00:00 |\n",
       "| 2013 | 6 | 28 | 1023 | 1025 | -2 | 1222 | 1222 |   0 | US | 604 | N652AW | EWR | PHX | 279 | 2133 | 10 | 25 | 2013-06-28 | 10:00:00 |\n",
       "| 2013 | 6 | 28 | 1438 | 1359 | 39 | 1631 | 1556 |  35 | US | 688 | N677AW | EWR | PHX | 271 | 2133 | 13 | 59 | 2013-06-28 | 13:00:00 |\n",
       "| 2013 | 6 | 28 | 1701 | 1655 |  6 | 1908 | 1900 |   8 | US | 681 | N678AW | EWR | PHX | 282 | 2133 | 16 | 55 | 2013-06-28 | 16:00:00 |\n",
       "| 2013 | 6 | 28 |   NA |  655 | NA |   NA |  906 |  NA | US | 334 | NA     | EWR | PHX |  NA | 2133 |  6 | 55 | 2013-06-28 | 06:00:00 |\n",
       "| 2013 | 6 | 29 |  701 |  655 |  6 |  851 |  906 | -15 | US | 334 | N676AW | EWR | PHX | 271 | 2133 |  6 | 55 | 2013-06-29 | 06:00:00 |\n",
       "| 2013 | 6 | 29 | 1022 | 1025 | -3 | 1209 | 1222 | -13 | US | 604 | N652AW | EWR | PHX | 271 | 2133 | 10 | 25 | 2013-06-29 | 10:00:00 |\n",
       "| 2013 | 6 | 29 | 1413 | 1359 | 14 | 1630 | 1556 |  34 | US | 688 | N650AW | EWR | PHX | 298 | 2133 | 13 | 59 | 2013-06-29 | 13:00:00 |\n",
       "| 2013 | 6 | 29 | 1652 | 1655 | -3 | 1842 | 1900 | -18 | US | 627 | N826AW | EWR | PHX | 274 | 2133 | 16 | 55 | 2013-06-29 | 16:00:00 |\n",
       "\n"
      ],
      "text/plain": [
       "   year month day dep_time sched_dep_time dep_delay arr_time sched_arr_time\n",
       "1  2013 6     27   703      655            8         853      906          \n",
       "2  2013 6     27  1021     1025           -4        1157     1222          \n",
       "3  2013 6     27  1427     1359           28        1557     1556          \n",
       "4  2013 6     27  1757     1655           62        2012     1900          \n",
       "5  2013 6     28  1023     1025           -2        1222     1222          \n",
       "6  2013 6     28  1438     1359           39        1631     1556          \n",
       "7  2013 6     28  1701     1655            6        1908     1900          \n",
       "8  2013 6     28    NA      655           NA          NA      906          \n",
       "9  2013 6     29   701      655            6         851      906          \n",
       "10 2013 6     29  1022     1025           -3        1209     1222          \n",
       "11 2013 6     29  1413     1359           14        1630     1556          \n",
       "12 2013 6     29  1652     1655           -3        1842     1900          \n",
       "   arr_delay carrier flight tailnum origin dest air_time distance hour minute\n",
       "1  -13       US      334    N650AW  EWR    PHX  269      2133      6   55    \n",
       "2  -25       US      604    N658AW  EWR    PHX  260      2133     10   25    \n",
       "3    1       US      688    N675AW  EWR    PHX  256      2133     13   59    \n",
       "4   72       US      681    N602AW  EWR    PHX  274      2133     16   55    \n",
       "5    0       US      604    N652AW  EWR    PHX  279      2133     10   25    \n",
       "6   35       US      688    N677AW  EWR    PHX  271      2133     13   59    \n",
       "7    8       US      681    N678AW  EWR    PHX  282      2133     16   55    \n",
       "8   NA       US      334    NA      EWR    PHX   NA      2133      6   55    \n",
       "9  -15       US      334    N676AW  EWR    PHX  271      2133      6   55    \n",
       "10 -13       US      604    N652AW  EWR    PHX  271      2133     10   25    \n",
       "11  34       US      688    N650AW  EWR    PHX  298      2133     13   59    \n",
       "12 -18       US      627    N826AW  EWR    PHX  274      2133     16   55    \n",
       "   fecha      hora    \n",
       "1  2013-06-27 06:00:00\n",
       "2  2013-06-27 10:00:00\n",
       "3  2013-06-27 13:00:00\n",
       "4  2013-06-27 16:00:00\n",
       "5  2013-06-28 10:00:00\n",
       "6  2013-06-28 13:00:00\n",
       "7  2013-06-28 16:00:00\n",
       "8  2013-06-28 06:00:00\n",
       "9  2013-06-29 06:00:00\n",
       "10 2013-06-29 10:00:00\n",
       "11 2013-06-29 13:00:00\n",
       "12 2013-06-29 16:00:00"
      ]
     },
     "metadata": {},
     "output_type": "display_data"
    }
   ],
   "source": [
    "df2 <- filter(df, carrier=='US', origin=='EWR', dest=='PHX', ('2013-06-27'<= fecha)&(fecha <='2013-06-29') )\n",
    "df2"
   ]
  },
  {
   "cell_type": "code",
   "execution_count": 18,
   "metadata": {
    "vscode": {
     "languageId": "r"
    }
   },
   "outputs": [
    {
     "name": "stdout",
     "output_type": "stream",
     "text": [
      "[1] \"Dimensión: 12 x 20\"\n"
     ]
    }
   ],
   "source": [
    "n_rows <- dim(df2)[1]\n",
    "n_cols <- dim(df2)[2]\n",
    "\n",
    "print( paste('Dimensión:',n_rows,'x',n_cols) )\n"
   ]
  },
  {
   "cell_type": "markdown",
   "metadata": {},
   "source": [
    "### Selección de columnas y renglones"
   ]
  },
  {
   "cell_type": "code",
   "execution_count": 19,
   "metadata": {
    "vscode": {
     "languageId": "r"
    }
   },
   "outputs": [
    {
     "data": {
      "text/html": [
       "<style>\n",
       ".list-inline {list-style: none; margin:0; padding: 0}\n",
       ".list-inline>li {display: inline-block}\n",
       ".list-inline>li:not(:last-child)::after {content: \"\\00b7\"; padding: 0 .5ex}\n",
       "</style>\n",
       "<ol class=list-inline><li>'year'</li><li>'month'</li><li>'day'</li><li>'dep_time'</li><li>'sched_dep_time'</li><li>'dep_delay'</li><li>'arr_time'</li><li>'sched_arr_time'</li><li>'arr_delay'</li><li>'carrier'</li><li>'flight'</li><li>'tailnum'</li><li>'origin'</li><li>'dest'</li><li>'air_time'</li><li>'distance'</li><li>'hour'</li><li>'minute'</li><li>'fecha'</li><li>'hora'</li></ol>\n"
      ],
      "text/latex": [
       "\\begin{enumerate*}\n",
       "\\item 'year'\n",
       "\\item 'month'\n",
       "\\item 'day'\n",
       "\\item 'dep\\_time'\n",
       "\\item 'sched\\_dep\\_time'\n",
       "\\item 'dep\\_delay'\n",
       "\\item 'arr\\_time'\n",
       "\\item 'sched\\_arr\\_time'\n",
       "\\item 'arr\\_delay'\n",
       "\\item 'carrier'\n",
       "\\item 'flight'\n",
       "\\item 'tailnum'\n",
       "\\item 'origin'\n",
       "\\item 'dest'\n",
       "\\item 'air\\_time'\n",
       "\\item 'distance'\n",
       "\\item 'hour'\n",
       "\\item 'minute'\n",
       "\\item 'fecha'\n",
       "\\item 'hora'\n",
       "\\end{enumerate*}\n"
      ],
      "text/markdown": [
       "1. 'year'\n",
       "2. 'month'\n",
       "3. 'day'\n",
       "4. 'dep_time'\n",
       "5. 'sched_dep_time'\n",
       "6. 'dep_delay'\n",
       "7. 'arr_time'\n",
       "8. 'sched_arr_time'\n",
       "9. 'arr_delay'\n",
       "10. 'carrier'\n",
       "11. 'flight'\n",
       "12. 'tailnum'\n",
       "13. 'origin'\n",
       "14. 'dest'\n",
       "15. 'air_time'\n",
       "16. 'distance'\n",
       "17. 'hour'\n",
       "18. 'minute'\n",
       "19. 'fecha'\n",
       "20. 'hora'\n",
       "\n",
       "\n"
      ],
      "text/plain": [
       " [1] \"year\"           \"month\"          \"day\"            \"dep_time\"      \n",
       " [5] \"sched_dep_time\" \"dep_delay\"      \"arr_time\"       \"sched_arr_time\"\n",
       " [9] \"arr_delay\"      \"carrier\"        \"flight\"         \"tailnum\"       \n",
       "[13] \"origin\"         \"dest\"           \"air_time\"       \"distance\"      \n",
       "[17] \"hour\"           \"minute\"         \"fecha\"          \"hora\"          "
      ]
     },
     "metadata": {},
     "output_type": "display_data"
    }
   ],
   "source": [
    "cols <- colnames(df2)\n",
    "cols"
   ]
  },
  {
   "cell_type": "code",
   "execution_count": 21,
   "metadata": {
    "vscode": {
     "languageId": "r"
    }
   },
   "outputs": [
    {
     "data": {
      "text/html": [
       "<table class=\"dataframe\">\n",
       "<caption>A tibble: 12 × 3</caption>\n",
       "<thead>\n",
       "\t<tr><th scope=col>fecha</th><th scope=col>carrier</th><th scope=col>day</th></tr>\n",
       "\t<tr><th scope=col>&lt;date&gt;</th><th scope=col>&lt;chr&gt;</th><th scope=col>&lt;int&gt;</th></tr>\n",
       "</thead>\n",
       "<tbody>\n",
       "\t<tr><td>2013-06-27</td><td>US</td><td>27</td></tr>\n",
       "\t<tr><td>2013-06-27</td><td>US</td><td>27</td></tr>\n",
       "\t<tr><td>2013-06-27</td><td>US</td><td>27</td></tr>\n",
       "\t<tr><td>2013-06-27</td><td>US</td><td>27</td></tr>\n",
       "\t<tr><td>2013-06-28</td><td>US</td><td>28</td></tr>\n",
       "\t<tr><td>2013-06-28</td><td>US</td><td>28</td></tr>\n",
       "\t<tr><td>2013-06-28</td><td>US</td><td>28</td></tr>\n",
       "\t<tr><td>2013-06-28</td><td>US</td><td>28</td></tr>\n",
       "\t<tr><td>2013-06-29</td><td>US</td><td>29</td></tr>\n",
       "\t<tr><td>2013-06-29</td><td>US</td><td>29</td></tr>\n",
       "\t<tr><td>2013-06-29</td><td>US</td><td>29</td></tr>\n",
       "\t<tr><td>2013-06-29</td><td>US</td><td>29</td></tr>\n",
       "</tbody>\n",
       "</table>\n"
      ],
      "text/latex": [
       "A tibble: 12 × 3\n",
       "\\begin{tabular}{lll}\n",
       " fecha & carrier & day\\\\\n",
       " <date> & <chr> & <int>\\\\\n",
       "\\hline\n",
       "\t 2013-06-27 & US & 27\\\\\n",
       "\t 2013-06-27 & US & 27\\\\\n",
       "\t 2013-06-27 & US & 27\\\\\n",
       "\t 2013-06-27 & US & 27\\\\\n",
       "\t 2013-06-28 & US & 28\\\\\n",
       "\t 2013-06-28 & US & 28\\\\\n",
       "\t 2013-06-28 & US & 28\\\\\n",
       "\t 2013-06-28 & US & 28\\\\\n",
       "\t 2013-06-29 & US & 29\\\\\n",
       "\t 2013-06-29 & US & 29\\\\\n",
       "\t 2013-06-29 & US & 29\\\\\n",
       "\t 2013-06-29 & US & 29\\\\\n",
       "\\end{tabular}\n"
      ],
      "text/markdown": [
       "\n",
       "A tibble: 12 × 3\n",
       "\n",
       "| fecha &lt;date&gt; | carrier &lt;chr&gt; | day &lt;int&gt; |\n",
       "|---|---|---|\n",
       "| 2013-06-27 | US | 27 |\n",
       "| 2013-06-27 | US | 27 |\n",
       "| 2013-06-27 | US | 27 |\n",
       "| 2013-06-27 | US | 27 |\n",
       "| 2013-06-28 | US | 28 |\n",
       "| 2013-06-28 | US | 28 |\n",
       "| 2013-06-28 | US | 28 |\n",
       "| 2013-06-28 | US | 28 |\n",
       "| 2013-06-29 | US | 29 |\n",
       "| 2013-06-29 | US | 29 |\n",
       "| 2013-06-29 | US | 29 |\n",
       "| 2013-06-29 | US | 29 |\n",
       "\n"
      ],
      "text/plain": [
       "   fecha      carrier day\n",
       "1  2013-06-27 US      27 \n",
       "2  2013-06-27 US      27 \n",
       "3  2013-06-27 US      27 \n",
       "4  2013-06-27 US      27 \n",
       "5  2013-06-28 US      28 \n",
       "6  2013-06-28 US      28 \n",
       "7  2013-06-28 US      28 \n",
       "8  2013-06-28 US      28 \n",
       "9  2013-06-29 US      29 \n",
       "10 2013-06-29 US      29 \n",
       "11 2013-06-29 US      29 \n",
       "12 2013-06-29 US      29 "
      ]
     },
     "metadata": {},
     "output_type": "display_data"
    }
   ],
   "source": [
    "# Seleccionar columnas específicas\n",
    "select(df2,fecha, carrier, day)"
   ]
  },
  {
   "cell_type": "code",
   "execution_count": 25,
   "metadata": {
    "vscode": {
     "languageId": "r"
    }
   },
   "outputs": [
    {
     "data": {
      "text/html": [
       "<table class=\"dataframe\">\n",
       "<caption>A tibble: 12 × 3</caption>\n",
       "<thead>\n",
       "\t<tr><th scope=col>fecha</th><th scope=col>carrier</th><th scope=col>day</th></tr>\n",
       "\t<tr><th scope=col>&lt;date&gt;</th><th scope=col>&lt;chr&gt;</th><th scope=col>&lt;int&gt;</th></tr>\n",
       "</thead>\n",
       "<tbody>\n",
       "\t<tr><td>2013-06-27</td><td>US</td><td>27</td></tr>\n",
       "\t<tr><td>2013-06-27</td><td>US</td><td>27</td></tr>\n",
       "\t<tr><td>2013-06-27</td><td>US</td><td>27</td></tr>\n",
       "\t<tr><td>2013-06-27</td><td>US</td><td>27</td></tr>\n",
       "\t<tr><td>2013-06-28</td><td>US</td><td>28</td></tr>\n",
       "\t<tr><td>2013-06-28</td><td>US</td><td>28</td></tr>\n",
       "\t<tr><td>2013-06-28</td><td>US</td><td>28</td></tr>\n",
       "\t<tr><td>2013-06-28</td><td>US</td><td>28</td></tr>\n",
       "\t<tr><td>2013-06-29</td><td>US</td><td>29</td></tr>\n",
       "\t<tr><td>2013-06-29</td><td>US</td><td>29</td></tr>\n",
       "\t<tr><td>2013-06-29</td><td>US</td><td>29</td></tr>\n",
       "\t<tr><td>2013-06-29</td><td>US</td><td>29</td></tr>\n",
       "</tbody>\n",
       "</table>\n"
      ],
      "text/latex": [
       "A tibble: 12 × 3\n",
       "\\begin{tabular}{lll}\n",
       " fecha & carrier & day\\\\\n",
       " <date> & <chr> & <int>\\\\\n",
       "\\hline\n",
       "\t 2013-06-27 & US & 27\\\\\n",
       "\t 2013-06-27 & US & 27\\\\\n",
       "\t 2013-06-27 & US & 27\\\\\n",
       "\t 2013-06-27 & US & 27\\\\\n",
       "\t 2013-06-28 & US & 28\\\\\n",
       "\t 2013-06-28 & US & 28\\\\\n",
       "\t 2013-06-28 & US & 28\\\\\n",
       "\t 2013-06-28 & US & 28\\\\\n",
       "\t 2013-06-29 & US & 29\\\\\n",
       "\t 2013-06-29 & US & 29\\\\\n",
       "\t 2013-06-29 & US & 29\\\\\n",
       "\t 2013-06-29 & US & 29\\\\\n",
       "\\end{tabular}\n"
      ],
      "text/markdown": [
       "\n",
       "A tibble: 12 × 3\n",
       "\n",
       "| fecha &lt;date&gt; | carrier &lt;chr&gt; | day &lt;int&gt; |\n",
       "|---|---|---|\n",
       "| 2013-06-27 | US | 27 |\n",
       "| 2013-06-27 | US | 27 |\n",
       "| 2013-06-27 | US | 27 |\n",
       "| 2013-06-27 | US | 27 |\n",
       "| 2013-06-28 | US | 28 |\n",
       "| 2013-06-28 | US | 28 |\n",
       "| 2013-06-28 | US | 28 |\n",
       "| 2013-06-28 | US | 28 |\n",
       "| 2013-06-29 | US | 29 |\n",
       "| 2013-06-29 | US | 29 |\n",
       "| 2013-06-29 | US | 29 |\n",
       "| 2013-06-29 | US | 29 |\n",
       "\n"
      ],
      "text/plain": [
       "   fecha      carrier day\n",
       "1  2013-06-27 US      27 \n",
       "2  2013-06-27 US      27 \n",
       "3  2013-06-27 US      27 \n",
       "4  2013-06-27 US      27 \n",
       "5  2013-06-28 US      28 \n",
       "6  2013-06-28 US      28 \n",
       "7  2013-06-28 US      28 \n",
       "8  2013-06-28 US      28 \n",
       "9  2013-06-29 US      29 \n",
       "10 2013-06-29 US      29 \n",
       "11 2013-06-29 US      29 \n",
       "12 2013-06-29 US      29 "
      ]
     },
     "metadata": {},
     "output_type": "display_data"
    }
   ],
   "source": [
    "df2[c('fecha','carrier','day')]"
   ]
  },
  {
   "cell_type": "code",
   "execution_count": 26,
   "metadata": {
    "vscode": {
     "languageId": "r"
    }
   },
   "outputs": [
    {
     "data": {
      "text/html": [
       "<style>\n",
       ".list-inline {list-style: none; margin:0; padding: 0}\n",
       ".list-inline>li {display: inline-block}\n",
       ".list-inline>li:not(:last-child)::after {content: \"\\00b7\"; padding: 0 .5ex}\n",
       "</style>\n",
       "<ol class=list-inline><li>1</li><li>2</li><li>3</li><li>10</li><li>11</li><li>12</li></ol>\n"
      ],
      "text/latex": [
       "\\begin{enumerate*}\n",
       "\\item 1\n",
       "\\item 2\n",
       "\\item 3\n",
       "\\item 10\n",
       "\\item 11\n",
       "\\item 12\n",
       "\\end{enumerate*}\n"
      ],
      "text/markdown": [
       "1. 1\n",
       "2. 2\n",
       "3. 3\n",
       "4. 10\n",
       "5. 11\n",
       "6. 12\n",
       "\n",
       "\n"
      ],
      "text/plain": [
       "[1]  1  2  3 10 11 12"
      ]
     },
     "metadata": {},
     "output_type": "display_data"
    }
   ],
   "source": [
    "idx <- append( 1:3 , 10:12 )\n",
    "idx"
   ]
  },
  {
   "cell_type": "code",
   "execution_count": 27,
   "metadata": {
    "vscode": {
     "languageId": "r"
    }
   },
   "outputs": [
    {
     "data": {
      "text/html": [
       "<table class=\"dataframe\">\n",
       "<caption>A tibble: 6 × 20</caption>\n",
       "<thead>\n",
       "\t<tr><th scope=col>year</th><th scope=col>month</th><th scope=col>day</th><th scope=col>dep_time</th><th scope=col>sched_dep_time</th><th scope=col>dep_delay</th><th scope=col>arr_time</th><th scope=col>sched_arr_time</th><th scope=col>arr_delay</th><th scope=col>carrier</th><th scope=col>flight</th><th scope=col>tailnum</th><th scope=col>origin</th><th scope=col>dest</th><th scope=col>air_time</th><th scope=col>distance</th><th scope=col>hour</th><th scope=col>minute</th><th scope=col>fecha</th><th scope=col>hora</th></tr>\n",
       "\t<tr><th scope=col>&lt;int&gt;</th><th scope=col>&lt;int&gt;</th><th scope=col>&lt;int&gt;</th><th scope=col>&lt;int&gt;</th><th scope=col>&lt;int&gt;</th><th scope=col>&lt;dbl&gt;</th><th scope=col>&lt;int&gt;</th><th scope=col>&lt;int&gt;</th><th scope=col>&lt;dbl&gt;</th><th scope=col>&lt;chr&gt;</th><th scope=col>&lt;int&gt;</th><th scope=col>&lt;chr&gt;</th><th scope=col>&lt;chr&gt;</th><th scope=col>&lt;chr&gt;</th><th scope=col>&lt;dbl&gt;</th><th scope=col>&lt;dbl&gt;</th><th scope=col>&lt;dbl&gt;</th><th scope=col>&lt;dbl&gt;</th><th scope=col>&lt;date&gt;</th><th scope=col>&lt;chr&gt;</th></tr>\n",
       "</thead>\n",
       "<tbody>\n",
       "\t<tr><td>2013</td><td>6</td><td>27</td><td> 703</td><td> 655</td><td> 8</td><td> 853</td><td> 906</td><td>-13</td><td>US</td><td>334</td><td>N650AW</td><td>EWR</td><td>PHX</td><td>269</td><td>2133</td><td> 6</td><td>55</td><td>2013-06-27</td><td>06:00:00</td></tr>\n",
       "\t<tr><td>2013</td><td>6</td><td>27</td><td>1021</td><td>1025</td><td>-4</td><td>1157</td><td>1222</td><td>-25</td><td>US</td><td>604</td><td>N658AW</td><td>EWR</td><td>PHX</td><td>260</td><td>2133</td><td>10</td><td>25</td><td>2013-06-27</td><td>10:00:00</td></tr>\n",
       "\t<tr><td>2013</td><td>6</td><td>27</td><td>1427</td><td>1359</td><td>28</td><td>1557</td><td>1556</td><td>  1</td><td>US</td><td>688</td><td>N675AW</td><td>EWR</td><td>PHX</td><td>256</td><td>2133</td><td>13</td><td>59</td><td>2013-06-27</td><td>13:00:00</td></tr>\n",
       "\t<tr><td>2013</td><td>6</td><td>29</td><td>1022</td><td>1025</td><td>-3</td><td>1209</td><td>1222</td><td>-13</td><td>US</td><td>604</td><td>N652AW</td><td>EWR</td><td>PHX</td><td>271</td><td>2133</td><td>10</td><td>25</td><td>2013-06-29</td><td>10:00:00</td></tr>\n",
       "\t<tr><td>2013</td><td>6</td><td>29</td><td>1413</td><td>1359</td><td>14</td><td>1630</td><td>1556</td><td> 34</td><td>US</td><td>688</td><td>N650AW</td><td>EWR</td><td>PHX</td><td>298</td><td>2133</td><td>13</td><td>59</td><td>2013-06-29</td><td>13:00:00</td></tr>\n",
       "\t<tr><td>2013</td><td>6</td><td>29</td><td>1652</td><td>1655</td><td>-3</td><td>1842</td><td>1900</td><td>-18</td><td>US</td><td>627</td><td>N826AW</td><td>EWR</td><td>PHX</td><td>274</td><td>2133</td><td>16</td><td>55</td><td>2013-06-29</td><td>16:00:00</td></tr>\n",
       "</tbody>\n",
       "</table>\n"
      ],
      "text/latex": [
       "A tibble: 6 × 20\n",
       "\\begin{tabular}{llllllllllllllllllll}\n",
       " year & month & day & dep\\_time & sched\\_dep\\_time & dep\\_delay & arr\\_time & sched\\_arr\\_time & arr\\_delay & carrier & flight & tailnum & origin & dest & air\\_time & distance & hour & minute & fecha & hora\\\\\n",
       " <int> & <int> & <int> & <int> & <int> & <dbl> & <int> & <int> & <dbl> & <chr> & <int> & <chr> & <chr> & <chr> & <dbl> & <dbl> & <dbl> & <dbl> & <date> & <chr>\\\\\n",
       "\\hline\n",
       "\t 2013 & 6 & 27 &  703 &  655 &  8 &  853 &  906 & -13 & US & 334 & N650AW & EWR & PHX & 269 & 2133 &  6 & 55 & 2013-06-27 & 06:00:00\\\\\n",
       "\t 2013 & 6 & 27 & 1021 & 1025 & -4 & 1157 & 1222 & -25 & US & 604 & N658AW & EWR & PHX & 260 & 2133 & 10 & 25 & 2013-06-27 & 10:00:00\\\\\n",
       "\t 2013 & 6 & 27 & 1427 & 1359 & 28 & 1557 & 1556 &   1 & US & 688 & N675AW & EWR & PHX & 256 & 2133 & 13 & 59 & 2013-06-27 & 13:00:00\\\\\n",
       "\t 2013 & 6 & 29 & 1022 & 1025 & -3 & 1209 & 1222 & -13 & US & 604 & N652AW & EWR & PHX & 271 & 2133 & 10 & 25 & 2013-06-29 & 10:00:00\\\\\n",
       "\t 2013 & 6 & 29 & 1413 & 1359 & 14 & 1630 & 1556 &  34 & US & 688 & N650AW & EWR & PHX & 298 & 2133 & 13 & 59 & 2013-06-29 & 13:00:00\\\\\n",
       "\t 2013 & 6 & 29 & 1652 & 1655 & -3 & 1842 & 1900 & -18 & US & 627 & N826AW & EWR & PHX & 274 & 2133 & 16 & 55 & 2013-06-29 & 16:00:00\\\\\n",
       "\\end{tabular}\n"
      ],
      "text/markdown": [
       "\n",
       "A tibble: 6 × 20\n",
       "\n",
       "| year &lt;int&gt; | month &lt;int&gt; | day &lt;int&gt; | dep_time &lt;int&gt; | sched_dep_time &lt;int&gt; | dep_delay &lt;dbl&gt; | arr_time &lt;int&gt; | sched_arr_time &lt;int&gt; | arr_delay &lt;dbl&gt; | carrier &lt;chr&gt; | flight &lt;int&gt; | tailnum &lt;chr&gt; | origin &lt;chr&gt; | dest &lt;chr&gt; | air_time &lt;dbl&gt; | distance &lt;dbl&gt; | hour &lt;dbl&gt; | minute &lt;dbl&gt; | fecha &lt;date&gt; | hora &lt;chr&gt; |\n",
       "|---|---|---|---|---|---|---|---|---|---|---|---|---|---|---|---|---|---|---|---|\n",
       "| 2013 | 6 | 27 |  703 |  655 |  8 |  853 |  906 | -13 | US | 334 | N650AW | EWR | PHX | 269 | 2133 |  6 | 55 | 2013-06-27 | 06:00:00 |\n",
       "| 2013 | 6 | 27 | 1021 | 1025 | -4 | 1157 | 1222 | -25 | US | 604 | N658AW | EWR | PHX | 260 | 2133 | 10 | 25 | 2013-06-27 | 10:00:00 |\n",
       "| 2013 | 6 | 27 | 1427 | 1359 | 28 | 1557 | 1556 |   1 | US | 688 | N675AW | EWR | PHX | 256 | 2133 | 13 | 59 | 2013-06-27 | 13:00:00 |\n",
       "| 2013 | 6 | 29 | 1022 | 1025 | -3 | 1209 | 1222 | -13 | US | 604 | N652AW | EWR | PHX | 271 | 2133 | 10 | 25 | 2013-06-29 | 10:00:00 |\n",
       "| 2013 | 6 | 29 | 1413 | 1359 | 14 | 1630 | 1556 |  34 | US | 688 | N650AW | EWR | PHX | 298 | 2133 | 13 | 59 | 2013-06-29 | 13:00:00 |\n",
       "| 2013 | 6 | 29 | 1652 | 1655 | -3 | 1842 | 1900 | -18 | US | 627 | N826AW | EWR | PHX | 274 | 2133 | 16 | 55 | 2013-06-29 | 16:00:00 |\n",
       "\n"
      ],
      "text/plain": [
       "  year month day dep_time sched_dep_time dep_delay arr_time sched_arr_time\n",
       "1 2013 6     27   703      655            8         853      906          \n",
       "2 2013 6     27  1021     1025           -4        1157     1222          \n",
       "3 2013 6     27  1427     1359           28        1557     1556          \n",
       "4 2013 6     29  1022     1025           -3        1209     1222          \n",
       "5 2013 6     29  1413     1359           14        1630     1556          \n",
       "6 2013 6     29  1652     1655           -3        1842     1900          \n",
       "  arr_delay carrier flight tailnum origin dest air_time distance hour minute\n",
       "1 -13       US      334    N650AW  EWR    PHX  269      2133      6   55    \n",
       "2 -25       US      604    N658AW  EWR    PHX  260      2133     10   25    \n",
       "3   1       US      688    N675AW  EWR    PHX  256      2133     13   59    \n",
       "4 -13       US      604    N652AW  EWR    PHX  271      2133     10   25    \n",
       "5  34       US      688    N650AW  EWR    PHX  298      2133     13   59    \n",
       "6 -18       US      627    N826AW  EWR    PHX  274      2133     16   55    \n",
       "  fecha      hora    \n",
       "1 2013-06-27 06:00:00\n",
       "2 2013-06-27 10:00:00\n",
       "3 2013-06-27 13:00:00\n",
       "4 2013-06-29 10:00:00\n",
       "5 2013-06-29 13:00:00\n",
       "6 2013-06-29 16:00:00"
      ]
     },
     "metadata": {},
     "output_type": "display_data"
    }
   ],
   "source": [
    "# Seleccionar renglones de acuerdo a su índice\n",
    "slice( df2, idx )"
   ]
  },
  {
   "cell_type": "markdown",
   "metadata": {},
   "source": [
    "### Exclusión de columnas"
   ]
  },
  {
   "cell_type": "code",
   "execution_count": 28,
   "metadata": {
    "vscode": {
     "languageId": "r"
    }
   },
   "outputs": [
    {
     "data": {
      "text/html": [
       "<style>\n",
       ".list-inline {list-style: none; margin:0; padding: 0}\n",
       ".list-inline>li {display: inline-block}\n",
       ".list-inline>li:not(:last-child)::after {content: \"\\00b7\"; padding: 0 .5ex}\n",
       "</style>\n",
       "<ol class=list-inline><li>'year'</li><li>'month'</li><li>'day'</li><li>'dep_time'</li><li>'sched_dep_time'</li><li>'dep_delay'</li><li>'arr_time'</li><li>'sched_arr_time'</li><li>'arr_delay'</li><li>'carrier'</li><li>'flight'</li><li>'tailnum'</li><li>'origin'</li><li>'dest'</li><li>'air_time'</li><li>'distance'</li><li>'hour'</li><li>'minute'</li><li>'fecha'</li><li>'hora'</li></ol>\n"
      ],
      "text/latex": [
       "\\begin{enumerate*}\n",
       "\\item 'year'\n",
       "\\item 'month'\n",
       "\\item 'day'\n",
       "\\item 'dep\\_time'\n",
       "\\item 'sched\\_dep\\_time'\n",
       "\\item 'dep\\_delay'\n",
       "\\item 'arr\\_time'\n",
       "\\item 'sched\\_arr\\_time'\n",
       "\\item 'arr\\_delay'\n",
       "\\item 'carrier'\n",
       "\\item 'flight'\n",
       "\\item 'tailnum'\n",
       "\\item 'origin'\n",
       "\\item 'dest'\n",
       "\\item 'air\\_time'\n",
       "\\item 'distance'\n",
       "\\item 'hour'\n",
       "\\item 'minute'\n",
       "\\item 'fecha'\n",
       "\\item 'hora'\n",
       "\\end{enumerate*}\n"
      ],
      "text/markdown": [
       "1. 'year'\n",
       "2. 'month'\n",
       "3. 'day'\n",
       "4. 'dep_time'\n",
       "5. 'sched_dep_time'\n",
       "6. 'dep_delay'\n",
       "7. 'arr_time'\n",
       "8. 'sched_arr_time'\n",
       "9. 'arr_delay'\n",
       "10. 'carrier'\n",
       "11. 'flight'\n",
       "12. 'tailnum'\n",
       "13. 'origin'\n",
       "14. 'dest'\n",
       "15. 'air_time'\n",
       "16. 'distance'\n",
       "17. 'hour'\n",
       "18. 'minute'\n",
       "19. 'fecha'\n",
       "20. 'hora'\n",
       "\n",
       "\n"
      ],
      "text/plain": [
       " [1] \"year\"           \"month\"          \"day\"            \"dep_time\"      \n",
       " [5] \"sched_dep_time\" \"dep_delay\"      \"arr_time\"       \"sched_arr_time\"\n",
       " [9] \"arr_delay\"      \"carrier\"        \"flight\"         \"tailnum\"       \n",
       "[13] \"origin\"         \"dest\"           \"air_time\"       \"distance\"      \n",
       "[17] \"hour\"           \"minute\"         \"fecha\"          \"hora\"          "
      ]
     },
     "metadata": {},
     "output_type": "display_data"
    }
   ],
   "source": [
    "cols"
   ]
  },
  {
   "cell_type": "code",
   "execution_count": 29,
   "metadata": {
    "vscode": {
     "languageId": "r"
    }
   },
   "outputs": [
    {
     "data": {
      "text/html": [
       "<style>\n",
       ".list-inline {list-style: none; margin:0; padding: 0}\n",
       ".list-inline>li {display: inline-block}\n",
       ".list-inline>li:not(:last-child)::after {content: \"\\00b7\"; padding: 0 .5ex}\n",
       "</style>\n",
       "<ol class=list-inline><li>'year'</li><li>'month'</li><li>'day'</li><li>'dep_time'</li><li>'sched_dep_time'</li><li>'dep_delay'</li><li>'arr_time'</li><li>'sched_arr_time'</li><li>'arr_delay'</li><li>'carrier'</li></ol>\n"
      ],
      "text/latex": [
       "\\begin{enumerate*}\n",
       "\\item 'year'\n",
       "\\item 'month'\n",
       "\\item 'day'\n",
       "\\item 'dep\\_time'\n",
       "\\item 'sched\\_dep\\_time'\n",
       "\\item 'dep\\_delay'\n",
       "\\item 'arr\\_time'\n",
       "\\item 'sched\\_arr\\_time'\n",
       "\\item 'arr\\_delay'\n",
       "\\item 'carrier'\n",
       "\\end{enumerate*}\n"
      ],
      "text/markdown": [
       "1. 'year'\n",
       "2. 'month'\n",
       "3. 'day'\n",
       "4. 'dep_time'\n",
       "5. 'sched_dep_time'\n",
       "6. 'dep_delay'\n",
       "7. 'arr_time'\n",
       "8. 'sched_arr_time'\n",
       "9. 'arr_delay'\n",
       "10. 'carrier'\n",
       "\n",
       "\n"
      ],
      "text/plain": [
       " [1] \"year\"           \"month\"          \"day\"            \"dep_time\"      \n",
       " [5] \"sched_dep_time\" \"dep_delay\"      \"arr_time\"       \"sched_arr_time\"\n",
       " [9] \"arr_delay\"      \"carrier\"       "
      ]
     },
     "metadata": {},
     "output_type": "display_data"
    }
   ],
   "source": [
    "excluded_cols <- c(cols[1:10])\n",
    "excluded_cols"
   ]
  },
  {
   "cell_type": "code",
   "execution_count": 35,
   "metadata": {
    "vscode": {
     "languageId": "r"
    }
   },
   "outputs": [
    {
     "data": {
      "text/html": [
       "<style>\n",
       ".list-inline {list-style: none; margin:0; padding: 0}\n",
       ".list-inline>li {display: inline-block}\n",
       ".list-inline>li:not(:last-child)::after {content: \"\\00b7\"; padding: 0 .5ex}\n",
       "</style>\n",
       "<ol class=list-inline><li>'flight'</li><li>'tailnum'</li><li>'origin'</li><li>'dest'</li><li>'air_time'</li><li>'distance'</li><li>'hour'</li><li>'minute'</li><li>'fecha'</li><li>'hora'</li></ol>\n"
      ],
      "text/latex": [
       "\\begin{enumerate*}\n",
       "\\item 'flight'\n",
       "\\item 'tailnum'\n",
       "\\item 'origin'\n",
       "\\item 'dest'\n",
       "\\item 'air\\_time'\n",
       "\\item 'distance'\n",
       "\\item 'hour'\n",
       "\\item 'minute'\n",
       "\\item 'fecha'\n",
       "\\item 'hora'\n",
       "\\end{enumerate*}\n"
      ],
      "text/markdown": [
       "1. 'flight'\n",
       "2. 'tailnum'\n",
       "3. 'origin'\n",
       "4. 'dest'\n",
       "5. 'air_time'\n",
       "6. 'distance'\n",
       "7. 'hour'\n",
       "8. 'minute'\n",
       "9. 'fecha'\n",
       "10. 'hora'\n",
       "\n",
       "\n"
      ],
      "text/plain": [
       " [1] \"flight\"   \"tailnum\"  \"origin\"   \"dest\"     \"air_time\" \"distance\"\n",
       " [7] \"hour\"     \"minute\"   \"fecha\"    \"hora\"    "
      ]
     },
     "metadata": {},
     "output_type": "display_data"
    }
   ],
   "source": [
    "selected_cols <- cols[ !(cols %in% excluded_cols ) ]\n",
    "selected_cols"
   ]
  },
  {
   "cell_type": "code",
   "execution_count": 36,
   "metadata": {
    "vscode": {
     "languageId": "r"
    }
   },
   "outputs": [
    {
     "data": {
      "text/html": [
       "<table class=\"dataframe\">\n",
       "<caption>A tibble: 12 × 10</caption>\n",
       "<thead>\n",
       "\t<tr><th scope=col>flight</th><th scope=col>tailnum</th><th scope=col>origin</th><th scope=col>dest</th><th scope=col>air_time</th><th scope=col>distance</th><th scope=col>hour</th><th scope=col>minute</th><th scope=col>fecha</th><th scope=col>hora</th></tr>\n",
       "\t<tr><th scope=col>&lt;int&gt;</th><th scope=col>&lt;chr&gt;</th><th scope=col>&lt;chr&gt;</th><th scope=col>&lt;chr&gt;</th><th scope=col>&lt;dbl&gt;</th><th scope=col>&lt;dbl&gt;</th><th scope=col>&lt;dbl&gt;</th><th scope=col>&lt;dbl&gt;</th><th scope=col>&lt;date&gt;</th><th scope=col>&lt;chr&gt;</th></tr>\n",
       "</thead>\n",
       "<tbody>\n",
       "\t<tr><td>334</td><td>N650AW</td><td>EWR</td><td>PHX</td><td>269</td><td>2133</td><td> 6</td><td>55</td><td>2013-06-27</td><td>06:00:00</td></tr>\n",
       "\t<tr><td>604</td><td>N658AW</td><td>EWR</td><td>PHX</td><td>260</td><td>2133</td><td>10</td><td>25</td><td>2013-06-27</td><td>10:00:00</td></tr>\n",
       "\t<tr><td>688</td><td>N675AW</td><td>EWR</td><td>PHX</td><td>256</td><td>2133</td><td>13</td><td>59</td><td>2013-06-27</td><td>13:00:00</td></tr>\n",
       "\t<tr><td>681</td><td>N602AW</td><td>EWR</td><td>PHX</td><td>274</td><td>2133</td><td>16</td><td>55</td><td>2013-06-27</td><td>16:00:00</td></tr>\n",
       "\t<tr><td>604</td><td>N652AW</td><td>EWR</td><td>PHX</td><td>279</td><td>2133</td><td>10</td><td>25</td><td>2013-06-28</td><td>10:00:00</td></tr>\n",
       "\t<tr><td>688</td><td>N677AW</td><td>EWR</td><td>PHX</td><td>271</td><td>2133</td><td>13</td><td>59</td><td>2013-06-28</td><td>13:00:00</td></tr>\n",
       "\t<tr><td>681</td><td>N678AW</td><td>EWR</td><td>PHX</td><td>282</td><td>2133</td><td>16</td><td>55</td><td>2013-06-28</td><td>16:00:00</td></tr>\n",
       "\t<tr><td>334</td><td>NA    </td><td>EWR</td><td>PHX</td><td> NA</td><td>2133</td><td> 6</td><td>55</td><td>2013-06-28</td><td>06:00:00</td></tr>\n",
       "\t<tr><td>334</td><td>N676AW</td><td>EWR</td><td>PHX</td><td>271</td><td>2133</td><td> 6</td><td>55</td><td>2013-06-29</td><td>06:00:00</td></tr>\n",
       "\t<tr><td>604</td><td>N652AW</td><td>EWR</td><td>PHX</td><td>271</td><td>2133</td><td>10</td><td>25</td><td>2013-06-29</td><td>10:00:00</td></tr>\n",
       "\t<tr><td>688</td><td>N650AW</td><td>EWR</td><td>PHX</td><td>298</td><td>2133</td><td>13</td><td>59</td><td>2013-06-29</td><td>13:00:00</td></tr>\n",
       "\t<tr><td>627</td><td>N826AW</td><td>EWR</td><td>PHX</td><td>274</td><td>2133</td><td>16</td><td>55</td><td>2013-06-29</td><td>16:00:00</td></tr>\n",
       "</tbody>\n",
       "</table>\n"
      ],
      "text/latex": [
       "A tibble: 12 × 10\n",
       "\\begin{tabular}{llllllllll}\n",
       " flight & tailnum & origin & dest & air\\_time & distance & hour & minute & fecha & hora\\\\\n",
       " <int> & <chr> & <chr> & <chr> & <dbl> & <dbl> & <dbl> & <dbl> & <date> & <chr>\\\\\n",
       "\\hline\n",
       "\t 334 & N650AW & EWR & PHX & 269 & 2133 &  6 & 55 & 2013-06-27 & 06:00:00\\\\\n",
       "\t 604 & N658AW & EWR & PHX & 260 & 2133 & 10 & 25 & 2013-06-27 & 10:00:00\\\\\n",
       "\t 688 & N675AW & EWR & PHX & 256 & 2133 & 13 & 59 & 2013-06-27 & 13:00:00\\\\\n",
       "\t 681 & N602AW & EWR & PHX & 274 & 2133 & 16 & 55 & 2013-06-27 & 16:00:00\\\\\n",
       "\t 604 & N652AW & EWR & PHX & 279 & 2133 & 10 & 25 & 2013-06-28 & 10:00:00\\\\\n",
       "\t 688 & N677AW & EWR & PHX & 271 & 2133 & 13 & 59 & 2013-06-28 & 13:00:00\\\\\n",
       "\t 681 & N678AW & EWR & PHX & 282 & 2133 & 16 & 55 & 2013-06-28 & 16:00:00\\\\\n",
       "\t 334 & NA     & EWR & PHX &  NA & 2133 &  6 & 55 & 2013-06-28 & 06:00:00\\\\\n",
       "\t 334 & N676AW & EWR & PHX & 271 & 2133 &  6 & 55 & 2013-06-29 & 06:00:00\\\\\n",
       "\t 604 & N652AW & EWR & PHX & 271 & 2133 & 10 & 25 & 2013-06-29 & 10:00:00\\\\\n",
       "\t 688 & N650AW & EWR & PHX & 298 & 2133 & 13 & 59 & 2013-06-29 & 13:00:00\\\\\n",
       "\t 627 & N826AW & EWR & PHX & 274 & 2133 & 16 & 55 & 2013-06-29 & 16:00:00\\\\\n",
       "\\end{tabular}\n"
      ],
      "text/markdown": [
       "\n",
       "A tibble: 12 × 10\n",
       "\n",
       "| flight &lt;int&gt; | tailnum &lt;chr&gt; | origin &lt;chr&gt; | dest &lt;chr&gt; | air_time &lt;dbl&gt; | distance &lt;dbl&gt; | hour &lt;dbl&gt; | minute &lt;dbl&gt; | fecha &lt;date&gt; | hora &lt;chr&gt; |\n",
       "|---|---|---|---|---|---|---|---|---|---|\n",
       "| 334 | N650AW | EWR | PHX | 269 | 2133 |  6 | 55 | 2013-06-27 | 06:00:00 |\n",
       "| 604 | N658AW | EWR | PHX | 260 | 2133 | 10 | 25 | 2013-06-27 | 10:00:00 |\n",
       "| 688 | N675AW | EWR | PHX | 256 | 2133 | 13 | 59 | 2013-06-27 | 13:00:00 |\n",
       "| 681 | N602AW | EWR | PHX | 274 | 2133 | 16 | 55 | 2013-06-27 | 16:00:00 |\n",
       "| 604 | N652AW | EWR | PHX | 279 | 2133 | 10 | 25 | 2013-06-28 | 10:00:00 |\n",
       "| 688 | N677AW | EWR | PHX | 271 | 2133 | 13 | 59 | 2013-06-28 | 13:00:00 |\n",
       "| 681 | N678AW | EWR | PHX | 282 | 2133 | 16 | 55 | 2013-06-28 | 16:00:00 |\n",
       "| 334 | NA     | EWR | PHX |  NA | 2133 |  6 | 55 | 2013-06-28 | 06:00:00 |\n",
       "| 334 | N676AW | EWR | PHX | 271 | 2133 |  6 | 55 | 2013-06-29 | 06:00:00 |\n",
       "| 604 | N652AW | EWR | PHX | 271 | 2133 | 10 | 25 | 2013-06-29 | 10:00:00 |\n",
       "| 688 | N650AW | EWR | PHX | 298 | 2133 | 13 | 59 | 2013-06-29 | 13:00:00 |\n",
       "| 627 | N826AW | EWR | PHX | 274 | 2133 | 16 | 55 | 2013-06-29 | 16:00:00 |\n",
       "\n"
      ],
      "text/plain": [
       "   flight tailnum origin dest air_time distance hour minute fecha      hora    \n",
       "1  334    N650AW  EWR    PHX  269      2133      6   55     2013-06-27 06:00:00\n",
       "2  604    N658AW  EWR    PHX  260      2133     10   25     2013-06-27 10:00:00\n",
       "3  688    N675AW  EWR    PHX  256      2133     13   59     2013-06-27 13:00:00\n",
       "4  681    N602AW  EWR    PHX  274      2133     16   55     2013-06-27 16:00:00\n",
       "5  604    N652AW  EWR    PHX  279      2133     10   25     2013-06-28 10:00:00\n",
       "6  688    N677AW  EWR    PHX  271      2133     13   59     2013-06-28 13:00:00\n",
       "7  681    N678AW  EWR    PHX  282      2133     16   55     2013-06-28 16:00:00\n",
       "8  334    NA      EWR    PHX   NA      2133      6   55     2013-06-28 06:00:00\n",
       "9  334    N676AW  EWR    PHX  271      2133      6   55     2013-06-29 06:00:00\n",
       "10 604    N652AW  EWR    PHX  271      2133     10   25     2013-06-29 10:00:00\n",
       "11 688    N650AW  EWR    PHX  298      2133     13   59     2013-06-29 13:00:00\n",
       "12 627    N826AW  EWR    PHX  274      2133     16   55     2013-06-29 16:00:00"
      ]
     },
     "metadata": {},
     "output_type": "display_data"
    }
   ],
   "source": [
    "df2[ c(selected_cols) ]"
   ]
  },
  {
   "cell_type": "markdown",
   "metadata": {},
   "source": [
    "### Ordenamiento con respecto a cierta columna"
   ]
  },
  {
   "cell_type": "code",
   "execution_count": 37,
   "metadata": {
    "vscode": {
     "languageId": "r"
    }
   },
   "outputs": [
    {
     "data": {
      "text/html": [
       "<table class=\"dataframe\">\n",
       "<caption>A tibble: 12 × 20</caption>\n",
       "<thead>\n",
       "\t<tr><th scope=col>year</th><th scope=col>month</th><th scope=col>day</th><th scope=col>dep_time</th><th scope=col>sched_dep_time</th><th scope=col>dep_delay</th><th scope=col>arr_time</th><th scope=col>sched_arr_time</th><th scope=col>arr_delay</th><th scope=col>carrier</th><th scope=col>flight</th><th scope=col>tailnum</th><th scope=col>origin</th><th scope=col>dest</th><th scope=col>air_time</th><th scope=col>distance</th><th scope=col>hour</th><th scope=col>minute</th><th scope=col>fecha</th><th scope=col>hora</th></tr>\n",
       "\t<tr><th scope=col>&lt;int&gt;</th><th scope=col>&lt;int&gt;</th><th scope=col>&lt;int&gt;</th><th scope=col>&lt;int&gt;</th><th scope=col>&lt;int&gt;</th><th scope=col>&lt;dbl&gt;</th><th scope=col>&lt;int&gt;</th><th scope=col>&lt;int&gt;</th><th scope=col>&lt;dbl&gt;</th><th scope=col>&lt;chr&gt;</th><th scope=col>&lt;int&gt;</th><th scope=col>&lt;chr&gt;</th><th scope=col>&lt;chr&gt;</th><th scope=col>&lt;chr&gt;</th><th scope=col>&lt;dbl&gt;</th><th scope=col>&lt;dbl&gt;</th><th scope=col>&lt;dbl&gt;</th><th scope=col>&lt;dbl&gt;</th><th scope=col>&lt;date&gt;</th><th scope=col>&lt;chr&gt;</th></tr>\n",
       "</thead>\n",
       "<tbody>\n",
       "\t<tr><td>2013</td><td>6</td><td>27</td><td> 703</td><td> 655</td><td> 8</td><td> 853</td><td> 906</td><td>-13</td><td>US</td><td>334</td><td>N650AW</td><td>EWR</td><td>PHX</td><td>269</td><td>2133</td><td> 6</td><td>55</td><td>2013-06-27</td><td>06:00:00</td></tr>\n",
       "\t<tr><td>2013</td><td>6</td><td>28</td><td>  NA</td><td> 655</td><td>NA</td><td>  NA</td><td> 906</td><td> NA</td><td>US</td><td>334</td><td>NA    </td><td>EWR</td><td>PHX</td><td> NA</td><td>2133</td><td> 6</td><td>55</td><td>2013-06-28</td><td>06:00:00</td></tr>\n",
       "\t<tr><td>2013</td><td>6</td><td>29</td><td> 701</td><td> 655</td><td> 6</td><td> 851</td><td> 906</td><td>-15</td><td>US</td><td>334</td><td>N676AW</td><td>EWR</td><td>PHX</td><td>271</td><td>2133</td><td> 6</td><td>55</td><td>2013-06-29</td><td>06:00:00</td></tr>\n",
       "\t<tr><td>2013</td><td>6</td><td>27</td><td>1021</td><td>1025</td><td>-4</td><td>1157</td><td>1222</td><td>-25</td><td>US</td><td>604</td><td>N658AW</td><td>EWR</td><td>PHX</td><td>260</td><td>2133</td><td>10</td><td>25</td><td>2013-06-27</td><td>10:00:00</td></tr>\n",
       "\t<tr><td>2013</td><td>6</td><td>28</td><td>1023</td><td>1025</td><td>-2</td><td>1222</td><td>1222</td><td>  0</td><td>US</td><td>604</td><td>N652AW</td><td>EWR</td><td>PHX</td><td>279</td><td>2133</td><td>10</td><td>25</td><td>2013-06-28</td><td>10:00:00</td></tr>\n",
       "\t<tr><td>2013</td><td>6</td><td>29</td><td>1022</td><td>1025</td><td>-3</td><td>1209</td><td>1222</td><td>-13</td><td>US</td><td>604</td><td>N652AW</td><td>EWR</td><td>PHX</td><td>271</td><td>2133</td><td>10</td><td>25</td><td>2013-06-29</td><td>10:00:00</td></tr>\n",
       "\t<tr><td>2013</td><td>6</td><td>27</td><td>1427</td><td>1359</td><td>28</td><td>1557</td><td>1556</td><td>  1</td><td>US</td><td>688</td><td>N675AW</td><td>EWR</td><td>PHX</td><td>256</td><td>2133</td><td>13</td><td>59</td><td>2013-06-27</td><td>13:00:00</td></tr>\n",
       "\t<tr><td>2013</td><td>6</td><td>28</td><td>1438</td><td>1359</td><td>39</td><td>1631</td><td>1556</td><td> 35</td><td>US</td><td>688</td><td>N677AW</td><td>EWR</td><td>PHX</td><td>271</td><td>2133</td><td>13</td><td>59</td><td>2013-06-28</td><td>13:00:00</td></tr>\n",
       "\t<tr><td>2013</td><td>6</td><td>29</td><td>1413</td><td>1359</td><td>14</td><td>1630</td><td>1556</td><td> 34</td><td>US</td><td>688</td><td>N650AW</td><td>EWR</td><td>PHX</td><td>298</td><td>2133</td><td>13</td><td>59</td><td>2013-06-29</td><td>13:00:00</td></tr>\n",
       "\t<tr><td>2013</td><td>6</td><td>27</td><td>1757</td><td>1655</td><td>62</td><td>2012</td><td>1900</td><td> 72</td><td>US</td><td>681</td><td>N602AW</td><td>EWR</td><td>PHX</td><td>274</td><td>2133</td><td>16</td><td>55</td><td>2013-06-27</td><td>16:00:00</td></tr>\n",
       "\t<tr><td>2013</td><td>6</td><td>28</td><td>1701</td><td>1655</td><td> 6</td><td>1908</td><td>1900</td><td>  8</td><td>US</td><td>681</td><td>N678AW</td><td>EWR</td><td>PHX</td><td>282</td><td>2133</td><td>16</td><td>55</td><td>2013-06-28</td><td>16:00:00</td></tr>\n",
       "\t<tr><td>2013</td><td>6</td><td>29</td><td>1652</td><td>1655</td><td>-3</td><td>1842</td><td>1900</td><td>-18</td><td>US</td><td>627</td><td>N826AW</td><td>EWR</td><td>PHX</td><td>274</td><td>2133</td><td>16</td><td>55</td><td>2013-06-29</td><td>16:00:00</td></tr>\n",
       "</tbody>\n",
       "</table>\n"
      ],
      "text/latex": [
       "A tibble: 12 × 20\n",
       "\\begin{tabular}{llllllllllllllllllll}\n",
       " year & month & day & dep\\_time & sched\\_dep\\_time & dep\\_delay & arr\\_time & sched\\_arr\\_time & arr\\_delay & carrier & flight & tailnum & origin & dest & air\\_time & distance & hour & minute & fecha & hora\\\\\n",
       " <int> & <int> & <int> & <int> & <int> & <dbl> & <int> & <int> & <dbl> & <chr> & <int> & <chr> & <chr> & <chr> & <dbl> & <dbl> & <dbl> & <dbl> & <date> & <chr>\\\\\n",
       "\\hline\n",
       "\t 2013 & 6 & 27 &  703 &  655 &  8 &  853 &  906 & -13 & US & 334 & N650AW & EWR & PHX & 269 & 2133 &  6 & 55 & 2013-06-27 & 06:00:00\\\\\n",
       "\t 2013 & 6 & 28 &   NA &  655 & NA &   NA &  906 &  NA & US & 334 & NA     & EWR & PHX &  NA & 2133 &  6 & 55 & 2013-06-28 & 06:00:00\\\\\n",
       "\t 2013 & 6 & 29 &  701 &  655 &  6 &  851 &  906 & -15 & US & 334 & N676AW & EWR & PHX & 271 & 2133 &  6 & 55 & 2013-06-29 & 06:00:00\\\\\n",
       "\t 2013 & 6 & 27 & 1021 & 1025 & -4 & 1157 & 1222 & -25 & US & 604 & N658AW & EWR & PHX & 260 & 2133 & 10 & 25 & 2013-06-27 & 10:00:00\\\\\n",
       "\t 2013 & 6 & 28 & 1023 & 1025 & -2 & 1222 & 1222 &   0 & US & 604 & N652AW & EWR & PHX & 279 & 2133 & 10 & 25 & 2013-06-28 & 10:00:00\\\\\n",
       "\t 2013 & 6 & 29 & 1022 & 1025 & -3 & 1209 & 1222 & -13 & US & 604 & N652AW & EWR & PHX & 271 & 2133 & 10 & 25 & 2013-06-29 & 10:00:00\\\\\n",
       "\t 2013 & 6 & 27 & 1427 & 1359 & 28 & 1557 & 1556 &   1 & US & 688 & N675AW & EWR & PHX & 256 & 2133 & 13 & 59 & 2013-06-27 & 13:00:00\\\\\n",
       "\t 2013 & 6 & 28 & 1438 & 1359 & 39 & 1631 & 1556 &  35 & US & 688 & N677AW & EWR & PHX & 271 & 2133 & 13 & 59 & 2013-06-28 & 13:00:00\\\\\n",
       "\t 2013 & 6 & 29 & 1413 & 1359 & 14 & 1630 & 1556 &  34 & US & 688 & N650AW & EWR & PHX & 298 & 2133 & 13 & 59 & 2013-06-29 & 13:00:00\\\\\n",
       "\t 2013 & 6 & 27 & 1757 & 1655 & 62 & 2012 & 1900 &  72 & US & 681 & N602AW & EWR & PHX & 274 & 2133 & 16 & 55 & 2013-06-27 & 16:00:00\\\\\n",
       "\t 2013 & 6 & 28 & 1701 & 1655 &  6 & 1908 & 1900 &   8 & US & 681 & N678AW & EWR & PHX & 282 & 2133 & 16 & 55 & 2013-06-28 & 16:00:00\\\\\n",
       "\t 2013 & 6 & 29 & 1652 & 1655 & -3 & 1842 & 1900 & -18 & US & 627 & N826AW & EWR & PHX & 274 & 2133 & 16 & 55 & 2013-06-29 & 16:00:00\\\\\n",
       "\\end{tabular}\n"
      ],
      "text/markdown": [
       "\n",
       "A tibble: 12 × 20\n",
       "\n",
       "| year &lt;int&gt; | month &lt;int&gt; | day &lt;int&gt; | dep_time &lt;int&gt; | sched_dep_time &lt;int&gt; | dep_delay &lt;dbl&gt; | arr_time &lt;int&gt; | sched_arr_time &lt;int&gt; | arr_delay &lt;dbl&gt; | carrier &lt;chr&gt; | flight &lt;int&gt; | tailnum &lt;chr&gt; | origin &lt;chr&gt; | dest &lt;chr&gt; | air_time &lt;dbl&gt; | distance &lt;dbl&gt; | hour &lt;dbl&gt; | minute &lt;dbl&gt; | fecha &lt;date&gt; | hora &lt;chr&gt; |\n",
       "|---|---|---|---|---|---|---|---|---|---|---|---|---|---|---|---|---|---|---|---|\n",
       "| 2013 | 6 | 27 |  703 |  655 |  8 |  853 |  906 | -13 | US | 334 | N650AW | EWR | PHX | 269 | 2133 |  6 | 55 | 2013-06-27 | 06:00:00 |\n",
       "| 2013 | 6 | 28 |   NA |  655 | NA |   NA |  906 |  NA | US | 334 | NA     | EWR | PHX |  NA | 2133 |  6 | 55 | 2013-06-28 | 06:00:00 |\n",
       "| 2013 | 6 | 29 |  701 |  655 |  6 |  851 |  906 | -15 | US | 334 | N676AW | EWR | PHX | 271 | 2133 |  6 | 55 | 2013-06-29 | 06:00:00 |\n",
       "| 2013 | 6 | 27 | 1021 | 1025 | -4 | 1157 | 1222 | -25 | US | 604 | N658AW | EWR | PHX | 260 | 2133 | 10 | 25 | 2013-06-27 | 10:00:00 |\n",
       "| 2013 | 6 | 28 | 1023 | 1025 | -2 | 1222 | 1222 |   0 | US | 604 | N652AW | EWR | PHX | 279 | 2133 | 10 | 25 | 2013-06-28 | 10:00:00 |\n",
       "| 2013 | 6 | 29 | 1022 | 1025 | -3 | 1209 | 1222 | -13 | US | 604 | N652AW | EWR | PHX | 271 | 2133 | 10 | 25 | 2013-06-29 | 10:00:00 |\n",
       "| 2013 | 6 | 27 | 1427 | 1359 | 28 | 1557 | 1556 |   1 | US | 688 | N675AW | EWR | PHX | 256 | 2133 | 13 | 59 | 2013-06-27 | 13:00:00 |\n",
       "| 2013 | 6 | 28 | 1438 | 1359 | 39 | 1631 | 1556 |  35 | US | 688 | N677AW | EWR | PHX | 271 | 2133 | 13 | 59 | 2013-06-28 | 13:00:00 |\n",
       "| 2013 | 6 | 29 | 1413 | 1359 | 14 | 1630 | 1556 |  34 | US | 688 | N650AW | EWR | PHX | 298 | 2133 | 13 | 59 | 2013-06-29 | 13:00:00 |\n",
       "| 2013 | 6 | 27 | 1757 | 1655 | 62 | 2012 | 1900 |  72 | US | 681 | N602AW | EWR | PHX | 274 | 2133 | 16 | 55 | 2013-06-27 | 16:00:00 |\n",
       "| 2013 | 6 | 28 | 1701 | 1655 |  6 | 1908 | 1900 |   8 | US | 681 | N678AW | EWR | PHX | 282 | 2133 | 16 | 55 | 2013-06-28 | 16:00:00 |\n",
       "| 2013 | 6 | 29 | 1652 | 1655 | -3 | 1842 | 1900 | -18 | US | 627 | N826AW | EWR | PHX | 274 | 2133 | 16 | 55 | 2013-06-29 | 16:00:00 |\n",
       "\n"
      ],
      "text/plain": [
       "   year month day dep_time sched_dep_time dep_delay arr_time sched_arr_time\n",
       "1  2013 6     27   703      655            8         853      906          \n",
       "2  2013 6     28    NA      655           NA          NA      906          \n",
       "3  2013 6     29   701      655            6         851      906          \n",
       "4  2013 6     27  1021     1025           -4        1157     1222          \n",
       "5  2013 6     28  1023     1025           -2        1222     1222          \n",
       "6  2013 6     29  1022     1025           -3        1209     1222          \n",
       "7  2013 6     27  1427     1359           28        1557     1556          \n",
       "8  2013 6     28  1438     1359           39        1631     1556          \n",
       "9  2013 6     29  1413     1359           14        1630     1556          \n",
       "10 2013 6     27  1757     1655           62        2012     1900          \n",
       "11 2013 6     28  1701     1655            6        1908     1900          \n",
       "12 2013 6     29  1652     1655           -3        1842     1900          \n",
       "   arr_delay carrier flight tailnum origin dest air_time distance hour minute\n",
       "1  -13       US      334    N650AW  EWR    PHX  269      2133      6   55    \n",
       "2   NA       US      334    NA      EWR    PHX   NA      2133      6   55    \n",
       "3  -15       US      334    N676AW  EWR    PHX  271      2133      6   55    \n",
       "4  -25       US      604    N658AW  EWR    PHX  260      2133     10   25    \n",
       "5    0       US      604    N652AW  EWR    PHX  279      2133     10   25    \n",
       "6  -13       US      604    N652AW  EWR    PHX  271      2133     10   25    \n",
       "7    1       US      688    N675AW  EWR    PHX  256      2133     13   59    \n",
       "8   35       US      688    N677AW  EWR    PHX  271      2133     13   59    \n",
       "9   34       US      688    N650AW  EWR    PHX  298      2133     13   59    \n",
       "10  72       US      681    N602AW  EWR    PHX  274      2133     16   55    \n",
       "11   8       US      681    N678AW  EWR    PHX  282      2133     16   55    \n",
       "12 -18       US      627    N826AW  EWR    PHX  274      2133     16   55    \n",
       "   fecha      hora    \n",
       "1  2013-06-27 06:00:00\n",
       "2  2013-06-28 06:00:00\n",
       "3  2013-06-29 06:00:00\n",
       "4  2013-06-27 10:00:00\n",
       "5  2013-06-28 10:00:00\n",
       "6  2013-06-29 10:00:00\n",
       "7  2013-06-27 13:00:00\n",
       "8  2013-06-28 13:00:00\n",
       "9  2013-06-29 13:00:00\n",
       "10 2013-06-27 16:00:00\n",
       "11 2013-06-28 16:00:00\n",
       "12 2013-06-29 16:00:00"
      ]
     },
     "metadata": {},
     "output_type": "display_data"
    }
   ],
   "source": [
    "# Ordenar con respecto a \"hora\"\n",
    "arrange( df2, hora )"
   ]
  },
  {
   "cell_type": "code",
   "execution_count": 38,
   "metadata": {
    "vscode": {
     "languageId": "r"
    }
   },
   "outputs": [
    {
     "data": {
      "text/html": [
       "<table class=\"dataframe\">\n",
       "<caption>A tibble: 12 × 20</caption>\n",
       "<thead>\n",
       "\t<tr><th scope=col>year</th><th scope=col>month</th><th scope=col>day</th><th scope=col>dep_time</th><th scope=col>sched_dep_time</th><th scope=col>dep_delay</th><th scope=col>arr_time</th><th scope=col>sched_arr_time</th><th scope=col>arr_delay</th><th scope=col>carrier</th><th scope=col>flight</th><th scope=col>tailnum</th><th scope=col>origin</th><th scope=col>dest</th><th scope=col>air_time</th><th scope=col>distance</th><th scope=col>hour</th><th scope=col>minute</th><th scope=col>fecha</th><th scope=col>hora</th></tr>\n",
       "\t<tr><th scope=col>&lt;int&gt;</th><th scope=col>&lt;int&gt;</th><th scope=col>&lt;int&gt;</th><th scope=col>&lt;int&gt;</th><th scope=col>&lt;int&gt;</th><th scope=col>&lt;dbl&gt;</th><th scope=col>&lt;int&gt;</th><th scope=col>&lt;int&gt;</th><th scope=col>&lt;dbl&gt;</th><th scope=col>&lt;chr&gt;</th><th scope=col>&lt;int&gt;</th><th scope=col>&lt;chr&gt;</th><th scope=col>&lt;chr&gt;</th><th scope=col>&lt;chr&gt;</th><th scope=col>&lt;dbl&gt;</th><th scope=col>&lt;dbl&gt;</th><th scope=col>&lt;dbl&gt;</th><th scope=col>&lt;dbl&gt;</th><th scope=col>&lt;date&gt;</th><th scope=col>&lt;chr&gt;</th></tr>\n",
       "</thead>\n",
       "<tbody>\n",
       "\t<tr><td>2013</td><td>6</td><td>29</td><td> 701</td><td> 655</td><td> 6</td><td> 851</td><td> 906</td><td>-15</td><td>US</td><td>334</td><td>N676AW</td><td>EWR</td><td>PHX</td><td>271</td><td>2133</td><td> 6</td><td>55</td><td>2013-06-29</td><td>06:00:00</td></tr>\n",
       "\t<tr><td>2013</td><td>6</td><td>27</td><td> 703</td><td> 655</td><td> 8</td><td> 853</td><td> 906</td><td>-13</td><td>US</td><td>334</td><td>N650AW</td><td>EWR</td><td>PHX</td><td>269</td><td>2133</td><td> 6</td><td>55</td><td>2013-06-27</td><td>06:00:00</td></tr>\n",
       "\t<tr><td>2013</td><td>6</td><td>28</td><td>  NA</td><td> 655</td><td>NA</td><td>  NA</td><td> 906</td><td> NA</td><td>US</td><td>334</td><td>NA    </td><td>EWR</td><td>PHX</td><td> NA</td><td>2133</td><td> 6</td><td>55</td><td>2013-06-28</td><td>06:00:00</td></tr>\n",
       "\t<tr><td>2013</td><td>6</td><td>27</td><td>1021</td><td>1025</td><td>-4</td><td>1157</td><td>1222</td><td>-25</td><td>US</td><td>604</td><td>N658AW</td><td>EWR</td><td>PHX</td><td>260</td><td>2133</td><td>10</td><td>25</td><td>2013-06-27</td><td>10:00:00</td></tr>\n",
       "\t<tr><td>2013</td><td>6</td><td>29</td><td>1022</td><td>1025</td><td>-3</td><td>1209</td><td>1222</td><td>-13</td><td>US</td><td>604</td><td>N652AW</td><td>EWR</td><td>PHX</td><td>271</td><td>2133</td><td>10</td><td>25</td><td>2013-06-29</td><td>10:00:00</td></tr>\n",
       "\t<tr><td>2013</td><td>6</td><td>28</td><td>1023</td><td>1025</td><td>-2</td><td>1222</td><td>1222</td><td>  0</td><td>US</td><td>604</td><td>N652AW</td><td>EWR</td><td>PHX</td><td>279</td><td>2133</td><td>10</td><td>25</td><td>2013-06-28</td><td>10:00:00</td></tr>\n",
       "\t<tr><td>2013</td><td>6</td><td>29</td><td>1413</td><td>1359</td><td>14</td><td>1630</td><td>1556</td><td> 34</td><td>US</td><td>688</td><td>N650AW</td><td>EWR</td><td>PHX</td><td>298</td><td>2133</td><td>13</td><td>59</td><td>2013-06-29</td><td>13:00:00</td></tr>\n",
       "\t<tr><td>2013</td><td>6</td><td>27</td><td>1427</td><td>1359</td><td>28</td><td>1557</td><td>1556</td><td>  1</td><td>US</td><td>688</td><td>N675AW</td><td>EWR</td><td>PHX</td><td>256</td><td>2133</td><td>13</td><td>59</td><td>2013-06-27</td><td>13:00:00</td></tr>\n",
       "\t<tr><td>2013</td><td>6</td><td>28</td><td>1438</td><td>1359</td><td>39</td><td>1631</td><td>1556</td><td> 35</td><td>US</td><td>688</td><td>N677AW</td><td>EWR</td><td>PHX</td><td>271</td><td>2133</td><td>13</td><td>59</td><td>2013-06-28</td><td>13:00:00</td></tr>\n",
       "\t<tr><td>2013</td><td>6</td><td>29</td><td>1652</td><td>1655</td><td>-3</td><td>1842</td><td>1900</td><td>-18</td><td>US</td><td>627</td><td>N826AW</td><td>EWR</td><td>PHX</td><td>274</td><td>2133</td><td>16</td><td>55</td><td>2013-06-29</td><td>16:00:00</td></tr>\n",
       "\t<tr><td>2013</td><td>6</td><td>28</td><td>1701</td><td>1655</td><td> 6</td><td>1908</td><td>1900</td><td>  8</td><td>US</td><td>681</td><td>N678AW</td><td>EWR</td><td>PHX</td><td>282</td><td>2133</td><td>16</td><td>55</td><td>2013-06-28</td><td>16:00:00</td></tr>\n",
       "\t<tr><td>2013</td><td>6</td><td>27</td><td>1757</td><td>1655</td><td>62</td><td>2012</td><td>1900</td><td> 72</td><td>US</td><td>681</td><td>N602AW</td><td>EWR</td><td>PHX</td><td>274</td><td>2133</td><td>16</td><td>55</td><td>2013-06-27</td><td>16:00:00</td></tr>\n",
       "</tbody>\n",
       "</table>\n"
      ],
      "text/latex": [
       "A tibble: 12 × 20\n",
       "\\begin{tabular}{llllllllllllllllllll}\n",
       " year & month & day & dep\\_time & sched\\_dep\\_time & dep\\_delay & arr\\_time & sched\\_arr\\_time & arr\\_delay & carrier & flight & tailnum & origin & dest & air\\_time & distance & hour & minute & fecha & hora\\\\\n",
       " <int> & <int> & <int> & <int> & <int> & <dbl> & <int> & <int> & <dbl> & <chr> & <int> & <chr> & <chr> & <chr> & <dbl> & <dbl> & <dbl> & <dbl> & <date> & <chr>\\\\\n",
       "\\hline\n",
       "\t 2013 & 6 & 29 &  701 &  655 &  6 &  851 &  906 & -15 & US & 334 & N676AW & EWR & PHX & 271 & 2133 &  6 & 55 & 2013-06-29 & 06:00:00\\\\\n",
       "\t 2013 & 6 & 27 &  703 &  655 &  8 &  853 &  906 & -13 & US & 334 & N650AW & EWR & PHX & 269 & 2133 &  6 & 55 & 2013-06-27 & 06:00:00\\\\\n",
       "\t 2013 & 6 & 28 &   NA &  655 & NA &   NA &  906 &  NA & US & 334 & NA     & EWR & PHX &  NA & 2133 &  6 & 55 & 2013-06-28 & 06:00:00\\\\\n",
       "\t 2013 & 6 & 27 & 1021 & 1025 & -4 & 1157 & 1222 & -25 & US & 604 & N658AW & EWR & PHX & 260 & 2133 & 10 & 25 & 2013-06-27 & 10:00:00\\\\\n",
       "\t 2013 & 6 & 29 & 1022 & 1025 & -3 & 1209 & 1222 & -13 & US & 604 & N652AW & EWR & PHX & 271 & 2133 & 10 & 25 & 2013-06-29 & 10:00:00\\\\\n",
       "\t 2013 & 6 & 28 & 1023 & 1025 & -2 & 1222 & 1222 &   0 & US & 604 & N652AW & EWR & PHX & 279 & 2133 & 10 & 25 & 2013-06-28 & 10:00:00\\\\\n",
       "\t 2013 & 6 & 29 & 1413 & 1359 & 14 & 1630 & 1556 &  34 & US & 688 & N650AW & EWR & PHX & 298 & 2133 & 13 & 59 & 2013-06-29 & 13:00:00\\\\\n",
       "\t 2013 & 6 & 27 & 1427 & 1359 & 28 & 1557 & 1556 &   1 & US & 688 & N675AW & EWR & PHX & 256 & 2133 & 13 & 59 & 2013-06-27 & 13:00:00\\\\\n",
       "\t 2013 & 6 & 28 & 1438 & 1359 & 39 & 1631 & 1556 &  35 & US & 688 & N677AW & EWR & PHX & 271 & 2133 & 13 & 59 & 2013-06-28 & 13:00:00\\\\\n",
       "\t 2013 & 6 & 29 & 1652 & 1655 & -3 & 1842 & 1900 & -18 & US & 627 & N826AW & EWR & PHX & 274 & 2133 & 16 & 55 & 2013-06-29 & 16:00:00\\\\\n",
       "\t 2013 & 6 & 28 & 1701 & 1655 &  6 & 1908 & 1900 &   8 & US & 681 & N678AW & EWR & PHX & 282 & 2133 & 16 & 55 & 2013-06-28 & 16:00:00\\\\\n",
       "\t 2013 & 6 & 27 & 1757 & 1655 & 62 & 2012 & 1900 &  72 & US & 681 & N602AW & EWR & PHX & 274 & 2133 & 16 & 55 & 2013-06-27 & 16:00:00\\\\\n",
       "\\end{tabular}\n"
      ],
      "text/markdown": [
       "\n",
       "A tibble: 12 × 20\n",
       "\n",
       "| year &lt;int&gt; | month &lt;int&gt; | day &lt;int&gt; | dep_time &lt;int&gt; | sched_dep_time &lt;int&gt; | dep_delay &lt;dbl&gt; | arr_time &lt;int&gt; | sched_arr_time &lt;int&gt; | arr_delay &lt;dbl&gt; | carrier &lt;chr&gt; | flight &lt;int&gt; | tailnum &lt;chr&gt; | origin &lt;chr&gt; | dest &lt;chr&gt; | air_time &lt;dbl&gt; | distance &lt;dbl&gt; | hour &lt;dbl&gt; | minute &lt;dbl&gt; | fecha &lt;date&gt; | hora &lt;chr&gt; |\n",
       "|---|---|---|---|---|---|---|---|---|---|---|---|---|---|---|---|---|---|---|---|\n",
       "| 2013 | 6 | 29 |  701 |  655 |  6 |  851 |  906 | -15 | US | 334 | N676AW | EWR | PHX | 271 | 2133 |  6 | 55 | 2013-06-29 | 06:00:00 |\n",
       "| 2013 | 6 | 27 |  703 |  655 |  8 |  853 |  906 | -13 | US | 334 | N650AW | EWR | PHX | 269 | 2133 |  6 | 55 | 2013-06-27 | 06:00:00 |\n",
       "| 2013 | 6 | 28 |   NA |  655 | NA |   NA |  906 |  NA | US | 334 | NA     | EWR | PHX |  NA | 2133 |  6 | 55 | 2013-06-28 | 06:00:00 |\n",
       "| 2013 | 6 | 27 | 1021 | 1025 | -4 | 1157 | 1222 | -25 | US | 604 | N658AW | EWR | PHX | 260 | 2133 | 10 | 25 | 2013-06-27 | 10:00:00 |\n",
       "| 2013 | 6 | 29 | 1022 | 1025 | -3 | 1209 | 1222 | -13 | US | 604 | N652AW | EWR | PHX | 271 | 2133 | 10 | 25 | 2013-06-29 | 10:00:00 |\n",
       "| 2013 | 6 | 28 | 1023 | 1025 | -2 | 1222 | 1222 |   0 | US | 604 | N652AW | EWR | PHX | 279 | 2133 | 10 | 25 | 2013-06-28 | 10:00:00 |\n",
       "| 2013 | 6 | 29 | 1413 | 1359 | 14 | 1630 | 1556 |  34 | US | 688 | N650AW | EWR | PHX | 298 | 2133 | 13 | 59 | 2013-06-29 | 13:00:00 |\n",
       "| 2013 | 6 | 27 | 1427 | 1359 | 28 | 1557 | 1556 |   1 | US | 688 | N675AW | EWR | PHX | 256 | 2133 | 13 | 59 | 2013-06-27 | 13:00:00 |\n",
       "| 2013 | 6 | 28 | 1438 | 1359 | 39 | 1631 | 1556 |  35 | US | 688 | N677AW | EWR | PHX | 271 | 2133 | 13 | 59 | 2013-06-28 | 13:00:00 |\n",
       "| 2013 | 6 | 29 | 1652 | 1655 | -3 | 1842 | 1900 | -18 | US | 627 | N826AW | EWR | PHX | 274 | 2133 | 16 | 55 | 2013-06-29 | 16:00:00 |\n",
       "| 2013 | 6 | 28 | 1701 | 1655 |  6 | 1908 | 1900 |   8 | US | 681 | N678AW | EWR | PHX | 282 | 2133 | 16 | 55 | 2013-06-28 | 16:00:00 |\n",
       "| 2013 | 6 | 27 | 1757 | 1655 | 62 | 2012 | 1900 |  72 | US | 681 | N602AW | EWR | PHX | 274 | 2133 | 16 | 55 | 2013-06-27 | 16:00:00 |\n",
       "\n"
      ],
      "text/plain": [
       "   year month day dep_time sched_dep_time dep_delay arr_time sched_arr_time\n",
       "1  2013 6     29   701      655            6         851      906          \n",
       "2  2013 6     27   703      655            8         853      906          \n",
       "3  2013 6     28    NA      655           NA          NA      906          \n",
       "4  2013 6     27  1021     1025           -4        1157     1222          \n",
       "5  2013 6     29  1022     1025           -3        1209     1222          \n",
       "6  2013 6     28  1023     1025           -2        1222     1222          \n",
       "7  2013 6     29  1413     1359           14        1630     1556          \n",
       "8  2013 6     27  1427     1359           28        1557     1556          \n",
       "9  2013 6     28  1438     1359           39        1631     1556          \n",
       "10 2013 6     29  1652     1655           -3        1842     1900          \n",
       "11 2013 6     28  1701     1655            6        1908     1900          \n",
       "12 2013 6     27  1757     1655           62        2012     1900          \n",
       "   arr_delay carrier flight tailnum origin dest air_time distance hour minute\n",
       "1  -15       US      334    N676AW  EWR    PHX  271      2133      6   55    \n",
       "2  -13       US      334    N650AW  EWR    PHX  269      2133      6   55    \n",
       "3   NA       US      334    NA      EWR    PHX   NA      2133      6   55    \n",
       "4  -25       US      604    N658AW  EWR    PHX  260      2133     10   25    \n",
       "5  -13       US      604    N652AW  EWR    PHX  271      2133     10   25    \n",
       "6    0       US      604    N652AW  EWR    PHX  279      2133     10   25    \n",
       "7   34       US      688    N650AW  EWR    PHX  298      2133     13   59    \n",
       "8    1       US      688    N675AW  EWR    PHX  256      2133     13   59    \n",
       "9   35       US      688    N677AW  EWR    PHX  271      2133     13   59    \n",
       "10 -18       US      627    N826AW  EWR    PHX  274      2133     16   55    \n",
       "11   8       US      681    N678AW  EWR    PHX  282      2133     16   55    \n",
       "12  72       US      681    N602AW  EWR    PHX  274      2133     16   55    \n",
       "   fecha      hora    \n",
       "1  2013-06-29 06:00:00\n",
       "2  2013-06-27 06:00:00\n",
       "3  2013-06-28 06:00:00\n",
       "4  2013-06-27 10:00:00\n",
       "5  2013-06-29 10:00:00\n",
       "6  2013-06-28 10:00:00\n",
       "7  2013-06-29 13:00:00\n",
       "8  2013-06-27 13:00:00\n",
       "9  2013-06-28 13:00:00\n",
       "10 2013-06-29 16:00:00\n",
       "11 2013-06-28 16:00:00\n",
       "12 2013-06-27 16:00:00"
      ]
     },
     "metadata": {},
     "output_type": "display_data"
    }
   ],
   "source": [
    "# Ordenar con respecto a \"hora\" y después \"dep_delay\"\n",
    "arrange( df2, hora, dep_delay )"
   ]
  },
  {
   "cell_type": "markdown",
   "metadata": {},
   "source": [
    "### Renombrado de columnas"
   ]
  },
  {
   "cell_type": "code",
   "execution_count": 39,
   "metadata": {
    "vscode": {
     "languageId": "r"
    }
   },
   "outputs": [
    {
     "data": {
      "text/html": [
       "<table class=\"dataframe\">\n",
       "<caption>A tibble: 12 × 20</caption>\n",
       "<thead>\n",
       "\t<tr><th scope=col>year</th><th scope=col>month</th><th scope=col>day</th><th scope=col>dep_time</th><th scope=col>sched_dep_time</th><th scope=col>dep_delay</th><th scope=col>arr_time</th><th scope=col>sched_arr_time</th><th scope=col>arr_delay</th><th scope=col>aerolinea</th><th scope=col>flight</th><th scope=col>tailnum</th><th scope=col>origin</th><th scope=col>dest</th><th scope=col>air_time</th><th scope=col>distance</th><th scope=col>hour</th><th scope=col>minute</th><th scope=col>fecha</th><th scope=col>hora</th></tr>\n",
       "\t<tr><th scope=col>&lt;int&gt;</th><th scope=col>&lt;int&gt;</th><th scope=col>&lt;int&gt;</th><th scope=col>&lt;int&gt;</th><th scope=col>&lt;int&gt;</th><th scope=col>&lt;dbl&gt;</th><th scope=col>&lt;int&gt;</th><th scope=col>&lt;int&gt;</th><th scope=col>&lt;dbl&gt;</th><th scope=col>&lt;chr&gt;</th><th scope=col>&lt;int&gt;</th><th scope=col>&lt;chr&gt;</th><th scope=col>&lt;chr&gt;</th><th scope=col>&lt;chr&gt;</th><th scope=col>&lt;dbl&gt;</th><th scope=col>&lt;dbl&gt;</th><th scope=col>&lt;dbl&gt;</th><th scope=col>&lt;dbl&gt;</th><th scope=col>&lt;date&gt;</th><th scope=col>&lt;chr&gt;</th></tr>\n",
       "</thead>\n",
       "<tbody>\n",
       "\t<tr><td>2013</td><td>6</td><td>27</td><td> 703</td><td> 655</td><td> 8</td><td> 853</td><td> 906</td><td>-13</td><td>US</td><td>334</td><td>N650AW</td><td>EWR</td><td>PHX</td><td>269</td><td>2133</td><td> 6</td><td>55</td><td>2013-06-27</td><td>06:00:00</td></tr>\n",
       "\t<tr><td>2013</td><td>6</td><td>27</td><td>1021</td><td>1025</td><td>-4</td><td>1157</td><td>1222</td><td>-25</td><td>US</td><td>604</td><td>N658AW</td><td>EWR</td><td>PHX</td><td>260</td><td>2133</td><td>10</td><td>25</td><td>2013-06-27</td><td>10:00:00</td></tr>\n",
       "\t<tr><td>2013</td><td>6</td><td>27</td><td>1427</td><td>1359</td><td>28</td><td>1557</td><td>1556</td><td>  1</td><td>US</td><td>688</td><td>N675AW</td><td>EWR</td><td>PHX</td><td>256</td><td>2133</td><td>13</td><td>59</td><td>2013-06-27</td><td>13:00:00</td></tr>\n",
       "\t<tr><td>2013</td><td>6</td><td>27</td><td>1757</td><td>1655</td><td>62</td><td>2012</td><td>1900</td><td> 72</td><td>US</td><td>681</td><td>N602AW</td><td>EWR</td><td>PHX</td><td>274</td><td>2133</td><td>16</td><td>55</td><td>2013-06-27</td><td>16:00:00</td></tr>\n",
       "\t<tr><td>2013</td><td>6</td><td>28</td><td>1023</td><td>1025</td><td>-2</td><td>1222</td><td>1222</td><td>  0</td><td>US</td><td>604</td><td>N652AW</td><td>EWR</td><td>PHX</td><td>279</td><td>2133</td><td>10</td><td>25</td><td>2013-06-28</td><td>10:00:00</td></tr>\n",
       "\t<tr><td>2013</td><td>6</td><td>28</td><td>1438</td><td>1359</td><td>39</td><td>1631</td><td>1556</td><td> 35</td><td>US</td><td>688</td><td>N677AW</td><td>EWR</td><td>PHX</td><td>271</td><td>2133</td><td>13</td><td>59</td><td>2013-06-28</td><td>13:00:00</td></tr>\n",
       "\t<tr><td>2013</td><td>6</td><td>28</td><td>1701</td><td>1655</td><td> 6</td><td>1908</td><td>1900</td><td>  8</td><td>US</td><td>681</td><td>N678AW</td><td>EWR</td><td>PHX</td><td>282</td><td>2133</td><td>16</td><td>55</td><td>2013-06-28</td><td>16:00:00</td></tr>\n",
       "\t<tr><td>2013</td><td>6</td><td>28</td><td>  NA</td><td> 655</td><td>NA</td><td>  NA</td><td> 906</td><td> NA</td><td>US</td><td>334</td><td>NA    </td><td>EWR</td><td>PHX</td><td> NA</td><td>2133</td><td> 6</td><td>55</td><td>2013-06-28</td><td>06:00:00</td></tr>\n",
       "\t<tr><td>2013</td><td>6</td><td>29</td><td> 701</td><td> 655</td><td> 6</td><td> 851</td><td> 906</td><td>-15</td><td>US</td><td>334</td><td>N676AW</td><td>EWR</td><td>PHX</td><td>271</td><td>2133</td><td> 6</td><td>55</td><td>2013-06-29</td><td>06:00:00</td></tr>\n",
       "\t<tr><td>2013</td><td>6</td><td>29</td><td>1022</td><td>1025</td><td>-3</td><td>1209</td><td>1222</td><td>-13</td><td>US</td><td>604</td><td>N652AW</td><td>EWR</td><td>PHX</td><td>271</td><td>2133</td><td>10</td><td>25</td><td>2013-06-29</td><td>10:00:00</td></tr>\n",
       "\t<tr><td>2013</td><td>6</td><td>29</td><td>1413</td><td>1359</td><td>14</td><td>1630</td><td>1556</td><td> 34</td><td>US</td><td>688</td><td>N650AW</td><td>EWR</td><td>PHX</td><td>298</td><td>2133</td><td>13</td><td>59</td><td>2013-06-29</td><td>13:00:00</td></tr>\n",
       "\t<tr><td>2013</td><td>6</td><td>29</td><td>1652</td><td>1655</td><td>-3</td><td>1842</td><td>1900</td><td>-18</td><td>US</td><td>627</td><td>N826AW</td><td>EWR</td><td>PHX</td><td>274</td><td>2133</td><td>16</td><td>55</td><td>2013-06-29</td><td>16:00:00</td></tr>\n",
       "</tbody>\n",
       "</table>\n"
      ],
      "text/latex": [
       "A tibble: 12 × 20\n",
       "\\begin{tabular}{llllllllllllllllllll}\n",
       " year & month & day & dep\\_time & sched\\_dep\\_time & dep\\_delay & arr\\_time & sched\\_arr\\_time & arr\\_delay & aerolinea & flight & tailnum & origin & dest & air\\_time & distance & hour & minute & fecha & hora\\\\\n",
       " <int> & <int> & <int> & <int> & <int> & <dbl> & <int> & <int> & <dbl> & <chr> & <int> & <chr> & <chr> & <chr> & <dbl> & <dbl> & <dbl> & <dbl> & <date> & <chr>\\\\\n",
       "\\hline\n",
       "\t 2013 & 6 & 27 &  703 &  655 &  8 &  853 &  906 & -13 & US & 334 & N650AW & EWR & PHX & 269 & 2133 &  6 & 55 & 2013-06-27 & 06:00:00\\\\\n",
       "\t 2013 & 6 & 27 & 1021 & 1025 & -4 & 1157 & 1222 & -25 & US & 604 & N658AW & EWR & PHX & 260 & 2133 & 10 & 25 & 2013-06-27 & 10:00:00\\\\\n",
       "\t 2013 & 6 & 27 & 1427 & 1359 & 28 & 1557 & 1556 &   1 & US & 688 & N675AW & EWR & PHX & 256 & 2133 & 13 & 59 & 2013-06-27 & 13:00:00\\\\\n",
       "\t 2013 & 6 & 27 & 1757 & 1655 & 62 & 2012 & 1900 &  72 & US & 681 & N602AW & EWR & PHX & 274 & 2133 & 16 & 55 & 2013-06-27 & 16:00:00\\\\\n",
       "\t 2013 & 6 & 28 & 1023 & 1025 & -2 & 1222 & 1222 &   0 & US & 604 & N652AW & EWR & PHX & 279 & 2133 & 10 & 25 & 2013-06-28 & 10:00:00\\\\\n",
       "\t 2013 & 6 & 28 & 1438 & 1359 & 39 & 1631 & 1556 &  35 & US & 688 & N677AW & EWR & PHX & 271 & 2133 & 13 & 59 & 2013-06-28 & 13:00:00\\\\\n",
       "\t 2013 & 6 & 28 & 1701 & 1655 &  6 & 1908 & 1900 &   8 & US & 681 & N678AW & EWR & PHX & 282 & 2133 & 16 & 55 & 2013-06-28 & 16:00:00\\\\\n",
       "\t 2013 & 6 & 28 &   NA &  655 & NA &   NA &  906 &  NA & US & 334 & NA     & EWR & PHX &  NA & 2133 &  6 & 55 & 2013-06-28 & 06:00:00\\\\\n",
       "\t 2013 & 6 & 29 &  701 &  655 &  6 &  851 &  906 & -15 & US & 334 & N676AW & EWR & PHX & 271 & 2133 &  6 & 55 & 2013-06-29 & 06:00:00\\\\\n",
       "\t 2013 & 6 & 29 & 1022 & 1025 & -3 & 1209 & 1222 & -13 & US & 604 & N652AW & EWR & PHX & 271 & 2133 & 10 & 25 & 2013-06-29 & 10:00:00\\\\\n",
       "\t 2013 & 6 & 29 & 1413 & 1359 & 14 & 1630 & 1556 &  34 & US & 688 & N650AW & EWR & PHX & 298 & 2133 & 13 & 59 & 2013-06-29 & 13:00:00\\\\\n",
       "\t 2013 & 6 & 29 & 1652 & 1655 & -3 & 1842 & 1900 & -18 & US & 627 & N826AW & EWR & PHX & 274 & 2133 & 16 & 55 & 2013-06-29 & 16:00:00\\\\\n",
       "\\end{tabular}\n"
      ],
      "text/markdown": [
       "\n",
       "A tibble: 12 × 20\n",
       "\n",
       "| year &lt;int&gt; | month &lt;int&gt; | day &lt;int&gt; | dep_time &lt;int&gt; | sched_dep_time &lt;int&gt; | dep_delay &lt;dbl&gt; | arr_time &lt;int&gt; | sched_arr_time &lt;int&gt; | arr_delay &lt;dbl&gt; | aerolinea &lt;chr&gt; | flight &lt;int&gt; | tailnum &lt;chr&gt; | origin &lt;chr&gt; | dest &lt;chr&gt; | air_time &lt;dbl&gt; | distance &lt;dbl&gt; | hour &lt;dbl&gt; | minute &lt;dbl&gt; | fecha &lt;date&gt; | hora &lt;chr&gt; |\n",
       "|---|---|---|---|---|---|---|---|---|---|---|---|---|---|---|---|---|---|---|---|\n",
       "| 2013 | 6 | 27 |  703 |  655 |  8 |  853 |  906 | -13 | US | 334 | N650AW | EWR | PHX | 269 | 2133 |  6 | 55 | 2013-06-27 | 06:00:00 |\n",
       "| 2013 | 6 | 27 | 1021 | 1025 | -4 | 1157 | 1222 | -25 | US | 604 | N658AW | EWR | PHX | 260 | 2133 | 10 | 25 | 2013-06-27 | 10:00:00 |\n",
       "| 2013 | 6 | 27 | 1427 | 1359 | 28 | 1557 | 1556 |   1 | US | 688 | N675AW | EWR | PHX | 256 | 2133 | 13 | 59 | 2013-06-27 | 13:00:00 |\n",
       "| 2013 | 6 | 27 | 1757 | 1655 | 62 | 2012 | 1900 |  72 | US | 681 | N602AW | EWR | PHX | 274 | 2133 | 16 | 55 | 2013-06-27 | 16:00:00 |\n",
       "| 2013 | 6 | 28 | 1023 | 1025 | -2 | 1222 | 1222 |   0 | US | 604 | N652AW | EWR | PHX | 279 | 2133 | 10 | 25 | 2013-06-28 | 10:00:00 |\n",
       "| 2013 | 6 | 28 | 1438 | 1359 | 39 | 1631 | 1556 |  35 | US | 688 | N677AW | EWR | PHX | 271 | 2133 | 13 | 59 | 2013-06-28 | 13:00:00 |\n",
       "| 2013 | 6 | 28 | 1701 | 1655 |  6 | 1908 | 1900 |   8 | US | 681 | N678AW | EWR | PHX | 282 | 2133 | 16 | 55 | 2013-06-28 | 16:00:00 |\n",
       "| 2013 | 6 | 28 |   NA |  655 | NA |   NA |  906 |  NA | US | 334 | NA     | EWR | PHX |  NA | 2133 |  6 | 55 | 2013-06-28 | 06:00:00 |\n",
       "| 2013 | 6 | 29 |  701 |  655 |  6 |  851 |  906 | -15 | US | 334 | N676AW | EWR | PHX | 271 | 2133 |  6 | 55 | 2013-06-29 | 06:00:00 |\n",
       "| 2013 | 6 | 29 | 1022 | 1025 | -3 | 1209 | 1222 | -13 | US | 604 | N652AW | EWR | PHX | 271 | 2133 | 10 | 25 | 2013-06-29 | 10:00:00 |\n",
       "| 2013 | 6 | 29 | 1413 | 1359 | 14 | 1630 | 1556 |  34 | US | 688 | N650AW | EWR | PHX | 298 | 2133 | 13 | 59 | 2013-06-29 | 13:00:00 |\n",
       "| 2013 | 6 | 29 | 1652 | 1655 | -3 | 1842 | 1900 | -18 | US | 627 | N826AW | EWR | PHX | 274 | 2133 | 16 | 55 | 2013-06-29 | 16:00:00 |\n",
       "\n"
      ],
      "text/plain": [
       "   year month day dep_time sched_dep_time dep_delay arr_time sched_arr_time\n",
       "1  2013 6     27   703      655            8         853      906          \n",
       "2  2013 6     27  1021     1025           -4        1157     1222          \n",
       "3  2013 6     27  1427     1359           28        1557     1556          \n",
       "4  2013 6     27  1757     1655           62        2012     1900          \n",
       "5  2013 6     28  1023     1025           -2        1222     1222          \n",
       "6  2013 6     28  1438     1359           39        1631     1556          \n",
       "7  2013 6     28  1701     1655            6        1908     1900          \n",
       "8  2013 6     28    NA      655           NA          NA      906          \n",
       "9  2013 6     29   701      655            6         851      906          \n",
       "10 2013 6     29  1022     1025           -3        1209     1222          \n",
       "11 2013 6     29  1413     1359           14        1630     1556          \n",
       "12 2013 6     29  1652     1655           -3        1842     1900          \n",
       "   arr_delay aerolinea flight tailnum origin dest air_time distance hour minute\n",
       "1  -13       US        334    N650AW  EWR    PHX  269      2133      6   55    \n",
       "2  -25       US        604    N658AW  EWR    PHX  260      2133     10   25    \n",
       "3    1       US        688    N675AW  EWR    PHX  256      2133     13   59    \n",
       "4   72       US        681    N602AW  EWR    PHX  274      2133     16   55    \n",
       "5    0       US        604    N652AW  EWR    PHX  279      2133     10   25    \n",
       "6   35       US        688    N677AW  EWR    PHX  271      2133     13   59    \n",
       "7    8       US        681    N678AW  EWR    PHX  282      2133     16   55    \n",
       "8   NA       US        334    NA      EWR    PHX   NA      2133      6   55    \n",
       "9  -15       US        334    N676AW  EWR    PHX  271      2133      6   55    \n",
       "10 -13       US        604    N652AW  EWR    PHX  271      2133     10   25    \n",
       "11  34       US        688    N650AW  EWR    PHX  298      2133     13   59    \n",
       "12 -18       US        627    N826AW  EWR    PHX  274      2133     16   55    \n",
       "   fecha      hora    \n",
       "1  2013-06-27 06:00:00\n",
       "2  2013-06-27 10:00:00\n",
       "3  2013-06-27 13:00:00\n",
       "4  2013-06-27 16:00:00\n",
       "5  2013-06-28 10:00:00\n",
       "6  2013-06-28 13:00:00\n",
       "7  2013-06-28 16:00:00\n",
       "8  2013-06-28 06:00:00\n",
       "9  2013-06-29 06:00:00\n",
       "10 2013-06-29 10:00:00\n",
       "11 2013-06-29 13:00:00\n",
       "12 2013-06-29 16:00:00"
      ]
     },
     "metadata": {},
     "output_type": "display_data"
    }
   ],
   "source": [
    "df2 <- rename(df2, aerolinea=carrier)\n",
    "df2"
   ]
  },
  {
   "cell_type": "markdown",
   "metadata": {},
   "source": [
    "### Rellenado de registros nulos"
   ]
  },
  {
   "cell_type": "code",
   "execution_count": 40,
   "metadata": {
    "vscode": {
     "languageId": "r"
    }
   },
   "outputs": [
    {
     "data": {
      "text/html": [
       "&lt;NA&gt;"
      ],
      "text/latex": [
       "<NA>"
      ],
      "text/markdown": [
       "&lt;NA&gt;"
      ],
      "text/plain": [
       "[1] NA"
      ]
     },
     "metadata": {},
     "output_type": "display_data"
    }
   ],
   "source": [
    "# Cuando hay registros nulos, no se calculan los valores\n",
    "mean(df2$air_time)"
   ]
  },
  {
   "cell_type": "code",
   "execution_count": 41,
   "metadata": {
    "vscode": {
     "languageId": "r"
    }
   },
   "outputs": [
    {
     "data": {
      "text/html": [
       "<style>\n",
       ".list-inline {list-style: none; margin:0; padding: 0}\n",
       ".list-inline>li {display: inline-block}\n",
       ".list-inline>li:not(:last-child)::after {content: \"\\00b7\"; padding: 0 .5ex}\n",
       "</style>\n",
       "<ol class=list-inline><li>269</li><li>260</li><li>256</li><li>274</li><li>279</li><li>271</li><li>282</li><li>271</li><li>271</li><li>298</li><li>274</li></ol>\n"
      ],
      "text/latex": [
       "\\begin{enumerate*}\n",
       "\\item 269\n",
       "\\item 260\n",
       "\\item 256\n",
       "\\item 274\n",
       "\\item 279\n",
       "\\item 271\n",
       "\\item 282\n",
       "\\item 271\n",
       "\\item 271\n",
       "\\item 298\n",
       "\\item 274\n",
       "\\end{enumerate*}\n"
      ],
      "text/markdown": [
       "1. 269\n",
       "2. 260\n",
       "3. 256\n",
       "4. 274\n",
       "5. 279\n",
       "6. 271\n",
       "7. 282\n",
       "8. 271\n",
       "9. 271\n",
       "10. 298\n",
       "11. 274\n",
       "\n",
       "\n"
      ],
      "text/plain": [
       " [1] 269 260 256 274 279 271 282 271 271 298 274"
      ]
     },
     "metadata": {},
     "output_type": "display_data"
    }
   ],
   "source": [
    "# Extraemos valores no nulos de una columna:\n",
    "df2$air_time[!is.na(df2$air_time)]"
   ]
  },
  {
   "cell_type": "code",
   "execution_count": 42,
   "metadata": {
    "vscode": {
     "languageId": "r"
    }
   },
   "outputs": [
    {
     "data": {
      "text/html": [
       "273"
      ],
      "text/latex": [
       "273"
      ],
      "text/markdown": [
       "273"
      ],
      "text/plain": [
       "[1] 273"
      ]
     },
     "metadata": {},
     "output_type": "display_data"
    }
   ],
   "source": [
    "# Calculamos la media sobre los valores no nulos de una columna:\n",
    "mu_air_time <- mean( df2$air_time[!is.na(df2$air_time)] )\n",
    "mu_air_time <- round(mu_air_time)\n",
    "mu_air_time"
   ]
  },
  {
   "cell_type": "code",
   "execution_count": 43,
   "metadata": {
    "vscode": {
     "languageId": "r"
    }
   },
   "outputs": [],
   "source": [
    "# Asignamos valor a los registros nulos de una columna:\n",
    "df2$air_time[is.na(df2$air_time)] <- mu_air_time"
   ]
  },
  {
   "cell_type": "code",
   "execution_count": 44,
   "metadata": {
    "vscode": {
     "languageId": "r"
    }
   },
   "outputs": [
    {
     "data": {
      "text/html": [
       "<table class=\"dataframe\">\n",
       "<caption>A tibble: 12 × 20</caption>\n",
       "<thead>\n",
       "\t<tr><th scope=col>year</th><th scope=col>month</th><th scope=col>day</th><th scope=col>dep_time</th><th scope=col>sched_dep_time</th><th scope=col>dep_delay</th><th scope=col>arr_time</th><th scope=col>sched_arr_time</th><th scope=col>arr_delay</th><th scope=col>aerolinea</th><th scope=col>flight</th><th scope=col>tailnum</th><th scope=col>origin</th><th scope=col>dest</th><th scope=col>air_time</th><th scope=col>distance</th><th scope=col>hour</th><th scope=col>minute</th><th scope=col>fecha</th><th scope=col>hora</th></tr>\n",
       "\t<tr><th scope=col>&lt;int&gt;</th><th scope=col>&lt;int&gt;</th><th scope=col>&lt;int&gt;</th><th scope=col>&lt;int&gt;</th><th scope=col>&lt;int&gt;</th><th scope=col>&lt;dbl&gt;</th><th scope=col>&lt;int&gt;</th><th scope=col>&lt;int&gt;</th><th scope=col>&lt;dbl&gt;</th><th scope=col>&lt;chr&gt;</th><th scope=col>&lt;int&gt;</th><th scope=col>&lt;chr&gt;</th><th scope=col>&lt;chr&gt;</th><th scope=col>&lt;chr&gt;</th><th scope=col>&lt;dbl&gt;</th><th scope=col>&lt;dbl&gt;</th><th scope=col>&lt;dbl&gt;</th><th scope=col>&lt;dbl&gt;</th><th scope=col>&lt;date&gt;</th><th scope=col>&lt;chr&gt;</th></tr>\n",
       "</thead>\n",
       "<tbody>\n",
       "\t<tr><td>2013</td><td>6</td><td>27</td><td> 703</td><td> 655</td><td> 8</td><td> 853</td><td> 906</td><td>-13</td><td>US</td><td>334</td><td>N650AW</td><td>EWR</td><td>PHX</td><td>269</td><td>2133</td><td> 6</td><td>55</td><td>2013-06-27</td><td>06:00:00</td></tr>\n",
       "\t<tr><td>2013</td><td>6</td><td>27</td><td>1021</td><td>1025</td><td>-4</td><td>1157</td><td>1222</td><td>-25</td><td>US</td><td>604</td><td>N658AW</td><td>EWR</td><td>PHX</td><td>260</td><td>2133</td><td>10</td><td>25</td><td>2013-06-27</td><td>10:00:00</td></tr>\n",
       "\t<tr><td>2013</td><td>6</td><td>27</td><td>1427</td><td>1359</td><td>28</td><td>1557</td><td>1556</td><td>  1</td><td>US</td><td>688</td><td>N675AW</td><td>EWR</td><td>PHX</td><td>256</td><td>2133</td><td>13</td><td>59</td><td>2013-06-27</td><td>13:00:00</td></tr>\n",
       "\t<tr><td>2013</td><td>6</td><td>27</td><td>1757</td><td>1655</td><td>62</td><td>2012</td><td>1900</td><td> 72</td><td>US</td><td>681</td><td>N602AW</td><td>EWR</td><td>PHX</td><td>274</td><td>2133</td><td>16</td><td>55</td><td>2013-06-27</td><td>16:00:00</td></tr>\n",
       "\t<tr><td>2013</td><td>6</td><td>28</td><td>1023</td><td>1025</td><td>-2</td><td>1222</td><td>1222</td><td>  0</td><td>US</td><td>604</td><td>N652AW</td><td>EWR</td><td>PHX</td><td>279</td><td>2133</td><td>10</td><td>25</td><td>2013-06-28</td><td>10:00:00</td></tr>\n",
       "\t<tr><td>2013</td><td>6</td><td>28</td><td>1438</td><td>1359</td><td>39</td><td>1631</td><td>1556</td><td> 35</td><td>US</td><td>688</td><td>N677AW</td><td>EWR</td><td>PHX</td><td>271</td><td>2133</td><td>13</td><td>59</td><td>2013-06-28</td><td>13:00:00</td></tr>\n",
       "\t<tr><td>2013</td><td>6</td><td>28</td><td>1701</td><td>1655</td><td> 6</td><td>1908</td><td>1900</td><td>  8</td><td>US</td><td>681</td><td>N678AW</td><td>EWR</td><td>PHX</td><td>282</td><td>2133</td><td>16</td><td>55</td><td>2013-06-28</td><td>16:00:00</td></tr>\n",
       "\t<tr><td>2013</td><td>6</td><td>28</td><td>  NA</td><td> 655</td><td>NA</td><td>  NA</td><td> 906</td><td> NA</td><td>US</td><td>334</td><td>NA    </td><td>EWR</td><td>PHX</td><td>273</td><td>2133</td><td> 6</td><td>55</td><td>2013-06-28</td><td>06:00:00</td></tr>\n",
       "\t<tr><td>2013</td><td>6</td><td>29</td><td> 701</td><td> 655</td><td> 6</td><td> 851</td><td> 906</td><td>-15</td><td>US</td><td>334</td><td>N676AW</td><td>EWR</td><td>PHX</td><td>271</td><td>2133</td><td> 6</td><td>55</td><td>2013-06-29</td><td>06:00:00</td></tr>\n",
       "\t<tr><td>2013</td><td>6</td><td>29</td><td>1022</td><td>1025</td><td>-3</td><td>1209</td><td>1222</td><td>-13</td><td>US</td><td>604</td><td>N652AW</td><td>EWR</td><td>PHX</td><td>271</td><td>2133</td><td>10</td><td>25</td><td>2013-06-29</td><td>10:00:00</td></tr>\n",
       "\t<tr><td>2013</td><td>6</td><td>29</td><td>1413</td><td>1359</td><td>14</td><td>1630</td><td>1556</td><td> 34</td><td>US</td><td>688</td><td>N650AW</td><td>EWR</td><td>PHX</td><td>298</td><td>2133</td><td>13</td><td>59</td><td>2013-06-29</td><td>13:00:00</td></tr>\n",
       "\t<tr><td>2013</td><td>6</td><td>29</td><td>1652</td><td>1655</td><td>-3</td><td>1842</td><td>1900</td><td>-18</td><td>US</td><td>627</td><td>N826AW</td><td>EWR</td><td>PHX</td><td>274</td><td>2133</td><td>16</td><td>55</td><td>2013-06-29</td><td>16:00:00</td></tr>\n",
       "</tbody>\n",
       "</table>\n"
      ],
      "text/latex": [
       "A tibble: 12 × 20\n",
       "\\begin{tabular}{llllllllllllllllllll}\n",
       " year & month & day & dep\\_time & sched\\_dep\\_time & dep\\_delay & arr\\_time & sched\\_arr\\_time & arr\\_delay & aerolinea & flight & tailnum & origin & dest & air\\_time & distance & hour & minute & fecha & hora\\\\\n",
       " <int> & <int> & <int> & <int> & <int> & <dbl> & <int> & <int> & <dbl> & <chr> & <int> & <chr> & <chr> & <chr> & <dbl> & <dbl> & <dbl> & <dbl> & <date> & <chr>\\\\\n",
       "\\hline\n",
       "\t 2013 & 6 & 27 &  703 &  655 &  8 &  853 &  906 & -13 & US & 334 & N650AW & EWR & PHX & 269 & 2133 &  6 & 55 & 2013-06-27 & 06:00:00\\\\\n",
       "\t 2013 & 6 & 27 & 1021 & 1025 & -4 & 1157 & 1222 & -25 & US & 604 & N658AW & EWR & PHX & 260 & 2133 & 10 & 25 & 2013-06-27 & 10:00:00\\\\\n",
       "\t 2013 & 6 & 27 & 1427 & 1359 & 28 & 1557 & 1556 &   1 & US & 688 & N675AW & EWR & PHX & 256 & 2133 & 13 & 59 & 2013-06-27 & 13:00:00\\\\\n",
       "\t 2013 & 6 & 27 & 1757 & 1655 & 62 & 2012 & 1900 &  72 & US & 681 & N602AW & EWR & PHX & 274 & 2133 & 16 & 55 & 2013-06-27 & 16:00:00\\\\\n",
       "\t 2013 & 6 & 28 & 1023 & 1025 & -2 & 1222 & 1222 &   0 & US & 604 & N652AW & EWR & PHX & 279 & 2133 & 10 & 25 & 2013-06-28 & 10:00:00\\\\\n",
       "\t 2013 & 6 & 28 & 1438 & 1359 & 39 & 1631 & 1556 &  35 & US & 688 & N677AW & EWR & PHX & 271 & 2133 & 13 & 59 & 2013-06-28 & 13:00:00\\\\\n",
       "\t 2013 & 6 & 28 & 1701 & 1655 &  6 & 1908 & 1900 &   8 & US & 681 & N678AW & EWR & PHX & 282 & 2133 & 16 & 55 & 2013-06-28 & 16:00:00\\\\\n",
       "\t 2013 & 6 & 28 &   NA &  655 & NA &   NA &  906 &  NA & US & 334 & NA     & EWR & PHX & 273 & 2133 &  6 & 55 & 2013-06-28 & 06:00:00\\\\\n",
       "\t 2013 & 6 & 29 &  701 &  655 &  6 &  851 &  906 & -15 & US & 334 & N676AW & EWR & PHX & 271 & 2133 &  6 & 55 & 2013-06-29 & 06:00:00\\\\\n",
       "\t 2013 & 6 & 29 & 1022 & 1025 & -3 & 1209 & 1222 & -13 & US & 604 & N652AW & EWR & PHX & 271 & 2133 & 10 & 25 & 2013-06-29 & 10:00:00\\\\\n",
       "\t 2013 & 6 & 29 & 1413 & 1359 & 14 & 1630 & 1556 &  34 & US & 688 & N650AW & EWR & PHX & 298 & 2133 & 13 & 59 & 2013-06-29 & 13:00:00\\\\\n",
       "\t 2013 & 6 & 29 & 1652 & 1655 & -3 & 1842 & 1900 & -18 & US & 627 & N826AW & EWR & PHX & 274 & 2133 & 16 & 55 & 2013-06-29 & 16:00:00\\\\\n",
       "\\end{tabular}\n"
      ],
      "text/markdown": [
       "\n",
       "A tibble: 12 × 20\n",
       "\n",
       "| year &lt;int&gt; | month &lt;int&gt; | day &lt;int&gt; | dep_time &lt;int&gt; | sched_dep_time &lt;int&gt; | dep_delay &lt;dbl&gt; | arr_time &lt;int&gt; | sched_arr_time &lt;int&gt; | arr_delay &lt;dbl&gt; | aerolinea &lt;chr&gt; | flight &lt;int&gt; | tailnum &lt;chr&gt; | origin &lt;chr&gt; | dest &lt;chr&gt; | air_time &lt;dbl&gt; | distance &lt;dbl&gt; | hour &lt;dbl&gt; | minute &lt;dbl&gt; | fecha &lt;date&gt; | hora &lt;chr&gt; |\n",
       "|---|---|---|---|---|---|---|---|---|---|---|---|---|---|---|---|---|---|---|---|\n",
       "| 2013 | 6 | 27 |  703 |  655 |  8 |  853 |  906 | -13 | US | 334 | N650AW | EWR | PHX | 269 | 2133 |  6 | 55 | 2013-06-27 | 06:00:00 |\n",
       "| 2013 | 6 | 27 | 1021 | 1025 | -4 | 1157 | 1222 | -25 | US | 604 | N658AW | EWR | PHX | 260 | 2133 | 10 | 25 | 2013-06-27 | 10:00:00 |\n",
       "| 2013 | 6 | 27 | 1427 | 1359 | 28 | 1557 | 1556 |   1 | US | 688 | N675AW | EWR | PHX | 256 | 2133 | 13 | 59 | 2013-06-27 | 13:00:00 |\n",
       "| 2013 | 6 | 27 | 1757 | 1655 | 62 | 2012 | 1900 |  72 | US | 681 | N602AW | EWR | PHX | 274 | 2133 | 16 | 55 | 2013-06-27 | 16:00:00 |\n",
       "| 2013 | 6 | 28 | 1023 | 1025 | -2 | 1222 | 1222 |   0 | US | 604 | N652AW | EWR | PHX | 279 | 2133 | 10 | 25 | 2013-06-28 | 10:00:00 |\n",
       "| 2013 | 6 | 28 | 1438 | 1359 | 39 | 1631 | 1556 |  35 | US | 688 | N677AW | EWR | PHX | 271 | 2133 | 13 | 59 | 2013-06-28 | 13:00:00 |\n",
       "| 2013 | 6 | 28 | 1701 | 1655 |  6 | 1908 | 1900 |   8 | US | 681 | N678AW | EWR | PHX | 282 | 2133 | 16 | 55 | 2013-06-28 | 16:00:00 |\n",
       "| 2013 | 6 | 28 |   NA |  655 | NA |   NA |  906 |  NA | US | 334 | NA     | EWR | PHX | 273 | 2133 |  6 | 55 | 2013-06-28 | 06:00:00 |\n",
       "| 2013 | 6 | 29 |  701 |  655 |  6 |  851 |  906 | -15 | US | 334 | N676AW | EWR | PHX | 271 | 2133 |  6 | 55 | 2013-06-29 | 06:00:00 |\n",
       "| 2013 | 6 | 29 | 1022 | 1025 | -3 | 1209 | 1222 | -13 | US | 604 | N652AW | EWR | PHX | 271 | 2133 | 10 | 25 | 2013-06-29 | 10:00:00 |\n",
       "| 2013 | 6 | 29 | 1413 | 1359 | 14 | 1630 | 1556 |  34 | US | 688 | N650AW | EWR | PHX | 298 | 2133 | 13 | 59 | 2013-06-29 | 13:00:00 |\n",
       "| 2013 | 6 | 29 | 1652 | 1655 | -3 | 1842 | 1900 | -18 | US | 627 | N826AW | EWR | PHX | 274 | 2133 | 16 | 55 | 2013-06-29 | 16:00:00 |\n",
       "\n"
      ],
      "text/plain": [
       "   year month day dep_time sched_dep_time dep_delay arr_time sched_arr_time\n",
       "1  2013 6     27   703      655            8         853      906          \n",
       "2  2013 6     27  1021     1025           -4        1157     1222          \n",
       "3  2013 6     27  1427     1359           28        1557     1556          \n",
       "4  2013 6     27  1757     1655           62        2012     1900          \n",
       "5  2013 6     28  1023     1025           -2        1222     1222          \n",
       "6  2013 6     28  1438     1359           39        1631     1556          \n",
       "7  2013 6     28  1701     1655            6        1908     1900          \n",
       "8  2013 6     28    NA      655           NA          NA      906          \n",
       "9  2013 6     29   701      655            6         851      906          \n",
       "10 2013 6     29  1022     1025           -3        1209     1222          \n",
       "11 2013 6     29  1413     1359           14        1630     1556          \n",
       "12 2013 6     29  1652     1655           -3        1842     1900          \n",
       "   arr_delay aerolinea flight tailnum origin dest air_time distance hour minute\n",
       "1  -13       US        334    N650AW  EWR    PHX  269      2133      6   55    \n",
       "2  -25       US        604    N658AW  EWR    PHX  260      2133     10   25    \n",
       "3    1       US        688    N675AW  EWR    PHX  256      2133     13   59    \n",
       "4   72       US        681    N602AW  EWR    PHX  274      2133     16   55    \n",
       "5    0       US        604    N652AW  EWR    PHX  279      2133     10   25    \n",
       "6   35       US        688    N677AW  EWR    PHX  271      2133     13   59    \n",
       "7    8       US        681    N678AW  EWR    PHX  282      2133     16   55    \n",
       "8   NA       US        334    NA      EWR    PHX  273      2133      6   55    \n",
       "9  -15       US        334    N676AW  EWR    PHX  271      2133      6   55    \n",
       "10 -13       US        604    N652AW  EWR    PHX  271      2133     10   25    \n",
       "11  34       US        688    N650AW  EWR    PHX  298      2133     13   59    \n",
       "12 -18       US        627    N826AW  EWR    PHX  274      2133     16   55    \n",
       "   fecha      hora    \n",
       "1  2013-06-27 06:00:00\n",
       "2  2013-06-27 10:00:00\n",
       "3  2013-06-27 13:00:00\n",
       "4  2013-06-27 16:00:00\n",
       "5  2013-06-28 10:00:00\n",
       "6  2013-06-28 13:00:00\n",
       "7  2013-06-28 16:00:00\n",
       "8  2013-06-28 06:00:00\n",
       "9  2013-06-29 06:00:00\n",
       "10 2013-06-29 10:00:00\n",
       "11 2013-06-29 13:00:00\n",
       "12 2013-06-29 16:00:00"
      ]
     },
     "metadata": {},
     "output_type": "display_data"
    }
   ],
   "source": [
    "df2"
   ]
  },
  {
   "cell_type": "code",
   "execution_count": 45,
   "metadata": {
    "vscode": {
     "languageId": "r"
    }
   },
   "outputs": [
    {
     "data": {
      "text/html": [
       "273.166666666667"
      ],
      "text/latex": [
       "273.166666666667"
      ],
      "text/markdown": [
       "273.166666666667"
      ],
      "text/plain": [
       "[1] 273.1667"
      ]
     },
     "metadata": {},
     "output_type": "display_data"
    }
   ],
   "source": [
    "mean(df2$air_time)"
   ]
  },
  {
   "cell_type": "markdown",
   "metadata": {},
   "source": [
    "### Extracción aleatoria de registros"
   ]
  },
  {
   "cell_type": "code",
   "execution_count": 46,
   "metadata": {
    "vscode": {
     "languageId": "r"
    }
   },
   "outputs": [
    {
     "data": {
      "text/html": [
       "<table class=\"dataframe\">\n",
       "<caption>A tibble: 5 × 20</caption>\n",
       "<thead>\n",
       "\t<tr><th scope=col>year</th><th scope=col>month</th><th scope=col>day</th><th scope=col>dep_time</th><th scope=col>sched_dep_time</th><th scope=col>dep_delay</th><th scope=col>arr_time</th><th scope=col>sched_arr_time</th><th scope=col>arr_delay</th><th scope=col>aerolinea</th><th scope=col>flight</th><th scope=col>tailnum</th><th scope=col>origin</th><th scope=col>dest</th><th scope=col>air_time</th><th scope=col>distance</th><th scope=col>hour</th><th scope=col>minute</th><th scope=col>fecha</th><th scope=col>hora</th></tr>\n",
       "\t<tr><th scope=col>&lt;int&gt;</th><th scope=col>&lt;int&gt;</th><th scope=col>&lt;int&gt;</th><th scope=col>&lt;int&gt;</th><th scope=col>&lt;int&gt;</th><th scope=col>&lt;dbl&gt;</th><th scope=col>&lt;int&gt;</th><th scope=col>&lt;int&gt;</th><th scope=col>&lt;dbl&gt;</th><th scope=col>&lt;chr&gt;</th><th scope=col>&lt;int&gt;</th><th scope=col>&lt;chr&gt;</th><th scope=col>&lt;chr&gt;</th><th scope=col>&lt;chr&gt;</th><th scope=col>&lt;dbl&gt;</th><th scope=col>&lt;dbl&gt;</th><th scope=col>&lt;dbl&gt;</th><th scope=col>&lt;dbl&gt;</th><th scope=col>&lt;date&gt;</th><th scope=col>&lt;chr&gt;</th></tr>\n",
       "</thead>\n",
       "<tbody>\n",
       "\t<tr><td>2013</td><td>6</td><td>27</td><td> 703</td><td> 655</td><td> 8</td><td> 853</td><td> 906</td><td>-13</td><td>US</td><td>334</td><td>N650AW</td><td>EWR</td><td>PHX</td><td>269</td><td>2133</td><td> 6</td><td>55</td><td>2013-06-27</td><td>06:00:00</td></tr>\n",
       "\t<tr><td>2013</td><td>6</td><td>28</td><td>1438</td><td>1359</td><td>39</td><td>1631</td><td>1556</td><td> 35</td><td>US</td><td>688</td><td>N677AW</td><td>EWR</td><td>PHX</td><td>271</td><td>2133</td><td>13</td><td>59</td><td>2013-06-28</td><td>13:00:00</td></tr>\n",
       "\t<tr><td>2013</td><td>6</td><td>28</td><td>1701</td><td>1655</td><td> 6</td><td>1908</td><td>1900</td><td>  8</td><td>US</td><td>681</td><td>N678AW</td><td>EWR</td><td>PHX</td><td>282</td><td>2133</td><td>16</td><td>55</td><td>2013-06-28</td><td>16:00:00</td></tr>\n",
       "\t<tr><td>2013</td><td>6</td><td>28</td><td>  NA</td><td> 655</td><td>NA</td><td>  NA</td><td> 906</td><td> NA</td><td>US</td><td>334</td><td>NA    </td><td>EWR</td><td>PHX</td><td>273</td><td>2133</td><td> 6</td><td>55</td><td>2013-06-28</td><td>06:00:00</td></tr>\n",
       "\t<tr><td>2013</td><td>6</td><td>27</td><td>1021</td><td>1025</td><td>-4</td><td>1157</td><td>1222</td><td>-25</td><td>US</td><td>604</td><td>N658AW</td><td>EWR</td><td>PHX</td><td>260</td><td>2133</td><td>10</td><td>25</td><td>2013-06-27</td><td>10:00:00</td></tr>\n",
       "</tbody>\n",
       "</table>\n"
      ],
      "text/latex": [
       "A tibble: 5 × 20\n",
       "\\begin{tabular}{llllllllllllllllllll}\n",
       " year & month & day & dep\\_time & sched\\_dep\\_time & dep\\_delay & arr\\_time & sched\\_arr\\_time & arr\\_delay & aerolinea & flight & tailnum & origin & dest & air\\_time & distance & hour & minute & fecha & hora\\\\\n",
       " <int> & <int> & <int> & <int> & <int> & <dbl> & <int> & <int> & <dbl> & <chr> & <int> & <chr> & <chr> & <chr> & <dbl> & <dbl> & <dbl> & <dbl> & <date> & <chr>\\\\\n",
       "\\hline\n",
       "\t 2013 & 6 & 27 &  703 &  655 &  8 &  853 &  906 & -13 & US & 334 & N650AW & EWR & PHX & 269 & 2133 &  6 & 55 & 2013-06-27 & 06:00:00\\\\\n",
       "\t 2013 & 6 & 28 & 1438 & 1359 & 39 & 1631 & 1556 &  35 & US & 688 & N677AW & EWR & PHX & 271 & 2133 & 13 & 59 & 2013-06-28 & 13:00:00\\\\\n",
       "\t 2013 & 6 & 28 & 1701 & 1655 &  6 & 1908 & 1900 &   8 & US & 681 & N678AW & EWR & PHX & 282 & 2133 & 16 & 55 & 2013-06-28 & 16:00:00\\\\\n",
       "\t 2013 & 6 & 28 &   NA &  655 & NA &   NA &  906 &  NA & US & 334 & NA     & EWR & PHX & 273 & 2133 &  6 & 55 & 2013-06-28 & 06:00:00\\\\\n",
       "\t 2013 & 6 & 27 & 1021 & 1025 & -4 & 1157 & 1222 & -25 & US & 604 & N658AW & EWR & PHX & 260 & 2133 & 10 & 25 & 2013-06-27 & 10:00:00\\\\\n",
       "\\end{tabular}\n"
      ],
      "text/markdown": [
       "\n",
       "A tibble: 5 × 20\n",
       "\n",
       "| year &lt;int&gt; | month &lt;int&gt; | day &lt;int&gt; | dep_time &lt;int&gt; | sched_dep_time &lt;int&gt; | dep_delay &lt;dbl&gt; | arr_time &lt;int&gt; | sched_arr_time &lt;int&gt; | arr_delay &lt;dbl&gt; | aerolinea &lt;chr&gt; | flight &lt;int&gt; | tailnum &lt;chr&gt; | origin &lt;chr&gt; | dest &lt;chr&gt; | air_time &lt;dbl&gt; | distance &lt;dbl&gt; | hour &lt;dbl&gt; | minute &lt;dbl&gt; | fecha &lt;date&gt; | hora &lt;chr&gt; |\n",
       "|---|---|---|---|---|---|---|---|---|---|---|---|---|---|---|---|---|---|---|---|\n",
       "| 2013 | 6 | 27 |  703 |  655 |  8 |  853 |  906 | -13 | US | 334 | N650AW | EWR | PHX | 269 | 2133 |  6 | 55 | 2013-06-27 | 06:00:00 |\n",
       "| 2013 | 6 | 28 | 1438 | 1359 | 39 | 1631 | 1556 |  35 | US | 688 | N677AW | EWR | PHX | 271 | 2133 | 13 | 59 | 2013-06-28 | 13:00:00 |\n",
       "| 2013 | 6 | 28 | 1701 | 1655 |  6 | 1908 | 1900 |   8 | US | 681 | N678AW | EWR | PHX | 282 | 2133 | 16 | 55 | 2013-06-28 | 16:00:00 |\n",
       "| 2013 | 6 | 28 |   NA |  655 | NA |   NA |  906 |  NA | US | 334 | NA     | EWR | PHX | 273 | 2133 |  6 | 55 | 2013-06-28 | 06:00:00 |\n",
       "| 2013 | 6 | 27 | 1021 | 1025 | -4 | 1157 | 1222 | -25 | US | 604 | N658AW | EWR | PHX | 260 | 2133 | 10 | 25 | 2013-06-27 | 10:00:00 |\n",
       "\n"
      ],
      "text/plain": [
       "  year month day dep_time sched_dep_time dep_delay arr_time sched_arr_time\n",
       "1 2013 6     27   703      655            8         853      906          \n",
       "2 2013 6     28  1438     1359           39        1631     1556          \n",
       "3 2013 6     28  1701     1655            6        1908     1900          \n",
       "4 2013 6     28    NA      655           NA          NA      906          \n",
       "5 2013 6     27  1021     1025           -4        1157     1222          \n",
       "  arr_delay aerolinea flight tailnum origin dest air_time distance hour minute\n",
       "1 -13       US        334    N650AW  EWR    PHX  269      2133      6   55    \n",
       "2  35       US        688    N677AW  EWR    PHX  271      2133     13   59    \n",
       "3   8       US        681    N678AW  EWR    PHX  282      2133     16   55    \n",
       "4  NA       US        334    NA      EWR    PHX  273      2133      6   55    \n",
       "5 -25       US        604    N658AW  EWR    PHX  260      2133     10   25    \n",
       "  fecha      hora    \n",
       "1 2013-06-27 06:00:00\n",
       "2 2013-06-28 13:00:00\n",
       "3 2013-06-28 16:00:00\n",
       "4 2013-06-28 06:00:00\n",
       "5 2013-06-27 10:00:00"
      ]
     },
     "metadata": {},
     "output_type": "display_data"
    }
   ],
   "source": [
    "sample_n(df2,5)"
   ]
  },
  {
   "cell_type": "code",
   "execution_count": null,
   "metadata": {
    "vscode": {
     "languageId": "r"
    }
   },
   "outputs": [],
   "source": []
  }
 ],
 "metadata": {
  "kernelspec": {
   "display_name": "R",
   "language": "R",
   "name": "ir"
  },
  "language_info": {
   "codemirror_mode": "r",
   "file_extension": ".r",
   "mimetype": "text/x-r-source",
   "name": "R",
   "pygments_lexer": "r",
   "version": "4.3.1"
  },
  "orig_nbformat": 4
 },
 "nbformat": 4,
 "nbformat_minor": 2
}
