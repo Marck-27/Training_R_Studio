{
 "cells": [
  {
   "cell_type": "markdown",
   "metadata": {},
   "source": [
    "# Fecha y hora"
   ]
  },
  {
   "cell_type": "code",
   "execution_count": 1,
   "metadata": {
    "vscode": {
     "languageId": "r"
    }
   },
   "outputs": [
    {
     "data": {
      "text/plain": [
       "[1] \"2023-07-22 10:38:15 CST\""
      ]
     },
     "metadata": {},
     "output_type": "display_data"
    }
   ],
   "source": [
    "# fecha y hora\n",
    "fecha_hora <- Sys.time()\n",
    "fecha_hora"
   ]
  },
  {
   "cell_type": "code",
   "execution_count": 2,
   "metadata": {
    "vscode": {
     "languageId": "r"
    }
   },
   "outputs": [
    {
     "data": {
      "text/html": [
       "'10:38:15'"
      ],
      "text/latex": [
       "'10:38:15'"
      ],
      "text/markdown": [
       "'10:38:15'"
      ],
      "text/plain": [
       "[1] \"10:38:15\""
      ]
     },
     "metadata": {},
     "output_type": "display_data"
    }
   ],
   "source": [
    "# Extraer unicamente la hora:\n",
    "hora <- format( fecha_hora, format = '%H:%M:%S')\n",
    "hora"
   ]
  },
  {
   "cell_type": "code",
   "execution_count": 3,
   "metadata": {
    "vscode": {
     "languageId": "r"
    }
   },
   "outputs": [
    {
     "data": {
      "text/html": [
       "'2023-07-22'"
      ],
      "text/latex": [
       "'2023-07-22'"
      ],
      "text/markdown": [
       "'2023-07-22'"
      ],
      "text/plain": [
       "[1] \"2023-07-22\""
      ]
     },
     "metadata": {},
     "output_type": "display_data"
    }
   ],
   "source": [
    "# Extraer unicamente la hora:\n",
    "format( fecha_hora, format = '%Y-%m-%d')"
   ]
  },
  {
   "cell_type": "code",
   "execution_count": 4,
   "metadata": {
    "vscode": {
     "languageId": "r"
    }
   },
   "outputs": [
    {
     "data": {
      "text/html": [
       "<time datetime=\"2023-07-22\">2023-07-22</time>"
      ],
      "text/latex": [
       "2023-07-22"
      ],
      "text/markdown": [
       "2023-07-22"
      ],
      "text/plain": [
       "[1] \"2023-07-22\""
      ]
     },
     "metadata": {},
     "output_type": "display_data"
    }
   ],
   "source": [
    "# Extraer unicamente la hora:\n",
    "fecha <- Sys.Date()\n",
    "fecha"
   ]
  },
  {
   "cell_type": "code",
   "execution_count": 5,
   "metadata": {
    "vscode": {
     "languageId": "r"
    }
   },
   "outputs": [
    {
     "data": {
      "text/html": [
       "'Date'"
      ],
      "text/latex": [
       "'Date'"
      ],
      "text/markdown": [
       "'Date'"
      ],
      "text/plain": [
       "[1] \"Date\""
      ]
     },
     "metadata": {},
     "output_type": "display_data"
    }
   ],
   "source": [
    "class(fecha)"
   ]
  },
  {
   "cell_type": "code",
   "execution_count": 6,
   "metadata": {
    "vscode": {
     "languageId": "r"
    }
   },
   "outputs": [
    {
     "data": {
      "text/html": [
       "<time datetime=\"2023-12-31\">2023-12-31</time>"
      ],
      "text/latex": [
       "2023-12-31"
      ],
      "text/markdown": [
       "2023-12-31"
      ],
      "text/plain": [
       "[1] \"2023-12-31\""
      ]
     },
     "metadata": {},
     "output_type": "display_data"
    }
   ],
   "source": [
    "fecha2 <- as.Date('2023-12-31', format='%Y-%m-%d')\n",
    "fecha2"
   ]
  },
  {
   "cell_type": "markdown",
   "metadata": {},
   "source": [
    "%d - numero de día del mes\n",
    "\n",
    "%m - numero del mes\n",
    "\n",
    "%b - abreviatura del mes en inglés (Jan, Feb, Mar,...)\n",
    "\n",
    "%B - nombre completo del mes en inglés (January, February, March,...)\n",
    "\n",
    "%y - año 2 dígitos\n",
    "\n",
    "%Y - año 4 dígitos"
   ]
  },
  {
   "cell_type": "code",
   "execution_count": 7,
   "metadata": {
    "vscode": {
     "languageId": "r"
    }
   },
   "outputs": [
    {
     "data": {
      "text/html": [
       "'Date'"
      ],
      "text/latex": [
       "'Date'"
      ],
      "text/markdown": [
       "'Date'"
      ],
      "text/plain": [
       "[1] \"Date\""
      ]
     },
     "metadata": {},
     "output_type": "display_data"
    }
   ],
   "source": [
    "class(fecha2)"
   ]
  },
  {
   "cell_type": "code",
   "execution_count": null,
   "metadata": {
    "vscode": {
     "languageId": "r"
    }
   },
   "outputs": [],
   "source": []
  }
 ],
 "metadata": {
  "kernelspec": {
   "display_name": "R",
   "language": "R",
   "name": "ir"
  },
  "language_info": {
   "codemirror_mode": "r",
   "file_extension": ".r",
   "mimetype": "text/x-r-source",
   "name": "R",
   "pygments_lexer": "r",
   "version": "4.3.1"
  },
  "orig_nbformat": 4
 },
 "nbformat": 4,
 "nbformat_minor": 2
}
