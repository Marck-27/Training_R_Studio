{
 "cells": [
  {
   "attachments": {},
   "cell_type": "markdown",
   "metadata": {},
   "source": [
    "# Escritura hacia base de datos MySQL\n",
    "\n",
    "Necesitamos instalar el paquete: `install.packages('RMySQL')`"
   ]
  },
  {
   "cell_type": "code",
   "execution_count": 1,
   "metadata": {
    "vscode": {
     "languageId": "r"
    }
   },
   "outputs": [],
   "source": [
    "#install.packages('RMySQL')"
   ]
  },
  {
   "cell_type": "code",
   "execution_count": 2,
   "metadata": {
    "vscode": {
     "languageId": "r"
    }
   },
   "outputs": [
    {
     "name": "stderr",
     "output_type": "stream",
     "text": [
      "Loading required package: DBI\n",
      "\n"
     ]
    }
   ],
   "source": [
    "# Importamos la librería \"RMySQL\"\n",
    "library(RMySQL)"
   ]
  },
  {
   "attachments": {},
   "cell_type": "markdown",
   "metadata": {},
   "source": [
    "### Cargamos datos que escribiremos en la base de datos"
   ]
  },
  {
   "cell_type": "code",
   "execution_count": 3,
   "metadata": {
    "vscode": {
     "languageId": "r"
    }
   },
   "outputs": [
    {
     "data": {
      "text/html": [
       "<table class=\"dataframe\">\n",
       "<caption>A data.frame: 6 × 8</caption>\n",
       "<thead>\n",
       "\t<tr><th></th><th scope=col>id</th><th scope=col>nombre</th><th scope=col>apellido</th><th scope=col>email</th><th scope=col>colegiatura</th><th scope=col>fecha_incorporacion</th><th scope=col>carrera_id</th><th scope=col>tutor_id</th></tr>\n",
       "\t<tr><th></th><th scope=col>&lt;int&gt;</th><th scope=col>&lt;chr&gt;</th><th scope=col>&lt;chr&gt;</th><th scope=col>&lt;chr&gt;</th><th scope=col>&lt;int&gt;</th><th scope=col>&lt;chr&gt;</th><th scope=col>&lt;int&gt;</th><th scope=col>&lt;int&gt;</th></tr>\n",
       "</thead>\n",
       "<tbody>\n",
       "\t<tr><th scope=row>1</th><td>1</td><td>Wanda   </td><td>Billington</td><td>wbillington0@nsw.gov.au</td><td>5000</td><td>2020-05-17 22:49:29</td><td>23</td><td> 9</td></tr>\n",
       "\t<tr><th scope=row>2</th><td>2</td><td>Blayne  </td><td>Wakeley   </td><td>bwakeley1@google.cn    </td><td>2500</td><td>2018-09-01 17:51:49</td><td>40</td><td>26</td></tr>\n",
       "\t<tr><th scope=row>3</th><td>3</td><td>Hilde   </td><td>Matiewe   </td><td>hmatiewe2@hibu.com     </td><td>2300</td><td>2020-07-18 00:03:21</td><td>48</td><td>25</td></tr>\n",
       "\t<tr><th scope=row>4</th><td>4</td><td>Leanna  </td><td>NA        </td><td>ldusey3@ebay.co.uk     </td><td>2000</td><td>2018-02-05 17:28:38</td><td>36</td><td>14</td></tr>\n",
       "\t<tr><th scope=row>5</th><td>5</td><td>Maire   </td><td>Garnall   </td><td>mgarnall4@artisteer.com</td><td>4800</td><td>2020-08-04 03:43:57</td><td>14</td><td> 7</td></tr>\n",
       "\t<tr><th scope=row>6</th><td>6</td><td>Nikolaus</td><td>Freeborn  </td><td>nfreeborn5@yandex.ru   </td><td>2000</td><td>2019-06-05 07:45:19</td><td>28</td><td>13</td></tr>\n",
       "</tbody>\n",
       "</table>\n"
      ],
      "text/latex": [
       "A data.frame: 6 × 8\n",
       "\\begin{tabular}{r|llllllll}\n",
       "  & id & nombre & apellido & email & colegiatura & fecha\\_incorporacion & carrera\\_id & tutor\\_id\\\\\n",
       "  & <int> & <chr> & <chr> & <chr> & <int> & <chr> & <int> & <int>\\\\\n",
       "\\hline\n",
       "\t1 & 1 & Wanda    & Billington & wbillington0@nsw.gov.au & 5000 & 2020-05-17 22:49:29 & 23 &  9\\\\\n",
       "\t2 & 2 & Blayne   & Wakeley    & bwakeley1@google.cn     & 2500 & 2018-09-01 17:51:49 & 40 & 26\\\\\n",
       "\t3 & 3 & Hilde    & Matiewe    & hmatiewe2@hibu.com      & 2300 & 2020-07-18 00:03:21 & 48 & 25\\\\\n",
       "\t4 & 4 & Leanna   & NA         & ldusey3@ebay.co.uk      & 2000 & 2018-02-05 17:28:38 & 36 & 14\\\\\n",
       "\t5 & 5 & Maire    & Garnall    & mgarnall4@artisteer.com & 4800 & 2020-08-04 03:43:57 & 14 &  7\\\\\n",
       "\t6 & 6 & Nikolaus & Freeborn   & nfreeborn5@yandex.ru    & 2000 & 2019-06-05 07:45:19 & 28 & 13\\\\\n",
       "\\end{tabular}\n"
      ],
      "text/markdown": [
       "\n",
       "A data.frame: 6 × 8\n",
       "\n",
       "| <!--/--> | id &lt;int&gt; | nombre &lt;chr&gt; | apellido &lt;chr&gt; | email &lt;chr&gt; | colegiatura &lt;int&gt; | fecha_incorporacion &lt;chr&gt; | carrera_id &lt;int&gt; | tutor_id &lt;int&gt; |\n",
       "|---|---|---|---|---|---|---|---|---|\n",
       "| 1 | 1 | Wanda    | Billington | wbillington0@nsw.gov.au | 5000 | 2020-05-17 22:49:29 | 23 |  9 |\n",
       "| 2 | 2 | Blayne   | Wakeley    | bwakeley1@google.cn     | 2500 | 2018-09-01 17:51:49 | 40 | 26 |\n",
       "| 3 | 3 | Hilde    | Matiewe    | hmatiewe2@hibu.com      | 2300 | 2020-07-18 00:03:21 | 48 | 25 |\n",
       "| 4 | 4 | Leanna   | NA         | ldusey3@ebay.co.uk      | 2000 | 2018-02-05 17:28:38 | 36 | 14 |\n",
       "| 5 | 5 | Maire    | Garnall    | mgarnall4@artisteer.com | 4800 | 2020-08-04 03:43:57 | 14 |  7 |\n",
       "| 6 | 6 | Nikolaus | Freeborn   | nfreeborn5@yandex.ru    | 2000 | 2019-06-05 07:45:19 | 28 | 13 |\n",
       "\n"
      ],
      "text/plain": [
       "  id nombre   apellido   email                   colegiatura\n",
       "1 1  Wanda    Billington wbillington0@nsw.gov.au 5000       \n",
       "2 2  Blayne   Wakeley    bwakeley1@google.cn     2500       \n",
       "3 3  Hilde    Matiewe    hmatiewe2@hibu.com      2300       \n",
       "4 4  Leanna   NA         ldusey3@ebay.co.uk      2000       \n",
       "5 5  Maire    Garnall    mgarnall4@artisteer.com 4800       \n",
       "6 6  Nikolaus Freeborn   nfreeborn5@yandex.ru    2000       \n",
       "  fecha_incorporacion carrera_id tutor_id\n",
       "1 2020-05-17 22:49:29 23          9      \n",
       "2 2018-09-01 17:51:49 40         26      \n",
       "3 2020-07-18 00:03:21 48         25      \n",
       "4 2018-02-05 17:28:38 36         14      \n",
       "5 2020-08-04 03:43:57 14          7      \n",
       "6 2019-06-05 07:45:19 28         13      "
      ]
     },
     "metadata": {},
     "output_type": "display_data"
    }
   ],
   "source": [
    "df1 <- read.csv(file = 'data/tabla_alumnos.csv')\n",
    "head(df1)"
   ]
  },
  {
   "cell_type": "code",
   "execution_count": 4,
   "metadata": {
    "vscode": {
     "languageId": "r"
    }
   },
   "outputs": [
    {
     "data": {
      "text/html": [
       "<style>\n",
       ".list-inline {list-style: none; margin:0; padding: 0}\n",
       ".list-inline>li {display: inline-block}\n",
       ".list-inline>li:not(:last-child)::after {content: \"\\00b7\"; padding: 0 .5ex}\n",
       "</style>\n",
       "<ol class=list-inline><li>'id'</li><li>'nombre'</li><li>'apellido'</li><li>'email'</li><li>'colegiatura'</li><li>'fecha_incorporacion'</li><li>'carrera_id'</li><li>'tutor_id'</li></ol>\n"
      ],
      "text/latex": [
       "\\begin{enumerate*}\n",
       "\\item 'id'\n",
       "\\item 'nombre'\n",
       "\\item 'apellido'\n",
       "\\item 'email'\n",
       "\\item 'colegiatura'\n",
       "\\item 'fecha\\_incorporacion'\n",
       "\\item 'carrera\\_id'\n",
       "\\item 'tutor\\_id'\n",
       "\\end{enumerate*}\n"
      ],
      "text/markdown": [
       "1. 'id'\n",
       "2. 'nombre'\n",
       "3. 'apellido'\n",
       "4. 'email'\n",
       "5. 'colegiatura'\n",
       "6. 'fecha_incorporacion'\n",
       "7. 'carrera_id'\n",
       "8. 'tutor_id'\n",
       "\n",
       "\n"
      ],
      "text/plain": [
       "[1] \"id\"                  \"nombre\"              \"apellido\"           \n",
       "[4] \"email\"               \"colegiatura\"         \"fecha_incorporacion\"\n",
       "[7] \"carrera_id\"          \"tutor_id\"           "
      ]
     },
     "metadata": {},
     "output_type": "display_data"
    }
   ],
   "source": [
    "colnames(df1)"
   ]
  },
  {
   "cell_type": "code",
   "execution_count": 5,
   "metadata": {
    "vscode": {
     "languageId": "r"
    }
   },
   "outputs": [
    {
     "data": {
      "text/html": [
       "<table class=\"dataframe\">\n",
       "<caption>A data.frame: 6 × 8</caption>\n",
       "<thead>\n",
       "\t<tr><th></th><th scope=col>alumno_id</th><th scope=col>nombre</th><th scope=col>apellido</th><th scope=col>email</th><th scope=col>colegiatura</th><th scope=col>fecha_incorporacion</th><th scope=col>carrera_id</th><th scope=col>tutor_id</th></tr>\n",
       "\t<tr><th></th><th scope=col>&lt;int&gt;</th><th scope=col>&lt;chr&gt;</th><th scope=col>&lt;chr&gt;</th><th scope=col>&lt;chr&gt;</th><th scope=col>&lt;int&gt;</th><th scope=col>&lt;chr&gt;</th><th scope=col>&lt;int&gt;</th><th scope=col>&lt;int&gt;</th></tr>\n",
       "</thead>\n",
       "<tbody>\n",
       "\t<tr><th scope=row>1</th><td>1</td><td>Wanda   </td><td>Billington</td><td>wbillington0@nsw.gov.au</td><td>5000</td><td>2020-05-17 22:49:29</td><td>23</td><td> 9</td></tr>\n",
       "\t<tr><th scope=row>2</th><td>2</td><td>Blayne  </td><td>Wakeley   </td><td>bwakeley1@google.cn    </td><td>2500</td><td>2018-09-01 17:51:49</td><td>40</td><td>26</td></tr>\n",
       "\t<tr><th scope=row>3</th><td>3</td><td>Hilde   </td><td>Matiewe   </td><td>hmatiewe2@hibu.com     </td><td>2300</td><td>2020-07-18 00:03:21</td><td>48</td><td>25</td></tr>\n",
       "\t<tr><th scope=row>4</th><td>4</td><td>Leanna  </td><td>NA        </td><td>ldusey3@ebay.co.uk     </td><td>2000</td><td>2018-02-05 17:28:38</td><td>36</td><td>14</td></tr>\n",
       "\t<tr><th scope=row>5</th><td>5</td><td>Maire   </td><td>Garnall   </td><td>mgarnall4@artisteer.com</td><td>4800</td><td>2020-08-04 03:43:57</td><td>14</td><td> 7</td></tr>\n",
       "\t<tr><th scope=row>6</th><td>6</td><td>Nikolaus</td><td>Freeborn  </td><td>nfreeborn5@yandex.ru   </td><td>2000</td><td>2019-06-05 07:45:19</td><td>28</td><td>13</td></tr>\n",
       "</tbody>\n",
       "</table>\n"
      ],
      "text/latex": [
       "A data.frame: 6 × 8\n",
       "\\begin{tabular}{r|llllllll}\n",
       "  & alumno\\_id & nombre & apellido & email & colegiatura & fecha\\_incorporacion & carrera\\_id & tutor\\_id\\\\\n",
       "  & <int> & <chr> & <chr> & <chr> & <int> & <chr> & <int> & <int>\\\\\n",
       "\\hline\n",
       "\t1 & 1 & Wanda    & Billington & wbillington0@nsw.gov.au & 5000 & 2020-05-17 22:49:29 & 23 &  9\\\\\n",
       "\t2 & 2 & Blayne   & Wakeley    & bwakeley1@google.cn     & 2500 & 2018-09-01 17:51:49 & 40 & 26\\\\\n",
       "\t3 & 3 & Hilde    & Matiewe    & hmatiewe2@hibu.com      & 2300 & 2020-07-18 00:03:21 & 48 & 25\\\\\n",
       "\t4 & 4 & Leanna   & NA         & ldusey3@ebay.co.uk      & 2000 & 2018-02-05 17:28:38 & 36 & 14\\\\\n",
       "\t5 & 5 & Maire    & Garnall    & mgarnall4@artisteer.com & 4800 & 2020-08-04 03:43:57 & 14 &  7\\\\\n",
       "\t6 & 6 & Nikolaus & Freeborn   & nfreeborn5@yandex.ru    & 2000 & 2019-06-05 07:45:19 & 28 & 13\\\\\n",
       "\\end{tabular}\n"
      ],
      "text/markdown": [
       "\n",
       "A data.frame: 6 × 8\n",
       "\n",
       "| <!--/--> | alumno_id &lt;int&gt; | nombre &lt;chr&gt; | apellido &lt;chr&gt; | email &lt;chr&gt; | colegiatura &lt;int&gt; | fecha_incorporacion &lt;chr&gt; | carrera_id &lt;int&gt; | tutor_id &lt;int&gt; |\n",
       "|---|---|---|---|---|---|---|---|---|\n",
       "| 1 | 1 | Wanda    | Billington | wbillington0@nsw.gov.au | 5000 | 2020-05-17 22:49:29 | 23 |  9 |\n",
       "| 2 | 2 | Blayne   | Wakeley    | bwakeley1@google.cn     | 2500 | 2018-09-01 17:51:49 | 40 | 26 |\n",
       "| 3 | 3 | Hilde    | Matiewe    | hmatiewe2@hibu.com      | 2300 | 2020-07-18 00:03:21 | 48 | 25 |\n",
       "| 4 | 4 | Leanna   | NA         | ldusey3@ebay.co.uk      | 2000 | 2018-02-05 17:28:38 | 36 | 14 |\n",
       "| 5 | 5 | Maire    | Garnall    | mgarnall4@artisteer.com | 4800 | 2020-08-04 03:43:57 | 14 |  7 |\n",
       "| 6 | 6 | Nikolaus | Freeborn   | nfreeborn5@yandex.ru    | 2000 | 2019-06-05 07:45:19 | 28 | 13 |\n",
       "\n"
      ],
      "text/plain": [
       "  alumno_id nombre   apellido   email                   colegiatura\n",
       "1 1         Wanda    Billington wbillington0@nsw.gov.au 5000       \n",
       "2 2         Blayne   Wakeley    bwakeley1@google.cn     2500       \n",
       "3 3         Hilde    Matiewe    hmatiewe2@hibu.com      2300       \n",
       "4 4         Leanna   NA         ldusey3@ebay.co.uk      2000       \n",
       "5 5         Maire    Garnall    mgarnall4@artisteer.com 4800       \n",
       "6 6         Nikolaus Freeborn   nfreeborn5@yandex.ru    2000       \n",
       "  fecha_incorporacion carrera_id tutor_id\n",
       "1 2020-05-17 22:49:29 23          9      \n",
       "2 2018-09-01 17:51:49 40         26      \n",
       "3 2020-07-18 00:03:21 48         25      \n",
       "4 2018-02-05 17:28:38 36         14      \n",
       "5 2020-08-04 03:43:57 14          7      \n",
       "6 2019-06-05 07:45:19 28         13      "
      ]
     },
     "metadata": {},
     "output_type": "display_data"
    }
   ],
   "source": [
    "colnames(df1) <- c('alumno_id','nombre','apellido','email','colegiatura','fecha_incorporacion','carrera_id','tutor_id')\n",
    "head(df1)"
   ]
  },
  {
   "cell_type": "code",
   "execution_count": 6,
   "metadata": {
    "vscode": {
     "languageId": "r"
    }
   },
   "outputs": [
    {
     "data": {
      "text/html": [
       "<table class=\"dataframe\">\n",
       "<caption>A data.frame: 6 × 4</caption>\n",
       "<thead>\n",
       "\t<tr><th></th><th scope=col>id</th><th scope=col>carrera</th><th scope=col>fecha_alta</th><th scope=col>vigente</th></tr>\n",
       "\t<tr><th></th><th scope=col>&lt;int&gt;</th><th scope=col>&lt;chr&gt;</th><th scope=col>&lt;chr&gt;</th><th scope=col>&lt;int&gt;</th></tr>\n",
       "</thead>\n",
       "<tbody>\n",
       "\t<tr><th scope=row>1</th><td>1</td><td>Negocios y administración                                           </td><td>2017-05-28 06:42:45</td><td>1</td></tr>\n",
       "\t<tr><th scope=row>2</th><td>2</td><td>Administración y gestión de empresas                                </td><td>2016-03-24 13:52:17</td><td>0</td></tr>\n",
       "\t<tr><th scope=row>3</th><td>3</td><td>Contabilidad y fiscalización                                        </td><td>2018-10-29 18:33:57</td><td>1</td></tr>\n",
       "\t<tr><th scope=row>4</th><td>4</td><td>Finanzas, banca y seguros                                           </td><td>2020-05-11 02:05:57</td><td>0</td></tr>\n",
       "\t<tr><th scope=row>5</th><td>5</td><td>Mercadotecnia y publicidad                                          </td><td>2020-03-20 23:53:23</td><td>0</td></tr>\n",
       "\t<tr><th scope=row>6</th><td>6</td><td>Negocios y administración, programas multidisciplinarios o generales</td><td>2019-02-25 09:02:59</td><td>1</td></tr>\n",
       "</tbody>\n",
       "</table>\n"
      ],
      "text/latex": [
       "A data.frame: 6 × 4\n",
       "\\begin{tabular}{r|llll}\n",
       "  & id & carrera & fecha\\_alta & vigente\\\\\n",
       "  & <int> & <chr> & <chr> & <int>\\\\\n",
       "\\hline\n",
       "\t1 & 1 & Negocios y administración                                            & 2017-05-28 06:42:45 & 1\\\\\n",
       "\t2 & 2 & Administración y gestión de empresas                                 & 2016-03-24 13:52:17 & 0\\\\\n",
       "\t3 & 3 & Contabilidad y fiscalización                                         & 2018-10-29 18:33:57 & 1\\\\\n",
       "\t4 & 4 & Finanzas, banca y seguros                                            & 2020-05-11 02:05:57 & 0\\\\\n",
       "\t5 & 5 & Mercadotecnia y publicidad                                           & 2020-03-20 23:53:23 & 0\\\\\n",
       "\t6 & 6 & Negocios y administración, programas multidisciplinarios o generales & 2019-02-25 09:02:59 & 1\\\\\n",
       "\\end{tabular}\n"
      ],
      "text/markdown": [
       "\n",
       "A data.frame: 6 × 4\n",
       "\n",
       "| <!--/--> | id &lt;int&gt; | carrera &lt;chr&gt; | fecha_alta &lt;chr&gt; | vigente &lt;int&gt; |\n",
       "|---|---|---|---|---|\n",
       "| 1 | 1 | Negocios y administración                                            | 2017-05-28 06:42:45 | 1 |\n",
       "| 2 | 2 | Administración y gestión de empresas                                 | 2016-03-24 13:52:17 | 0 |\n",
       "| 3 | 3 | Contabilidad y fiscalización                                         | 2018-10-29 18:33:57 | 1 |\n",
       "| 4 | 4 | Finanzas, banca y seguros                                            | 2020-05-11 02:05:57 | 0 |\n",
       "| 5 | 5 | Mercadotecnia y publicidad                                           | 2020-03-20 23:53:23 | 0 |\n",
       "| 6 | 6 | Negocios y administración, programas multidisciplinarios o generales | 2019-02-25 09:02:59 | 1 |\n",
       "\n"
      ],
      "text/plain": [
       "  id carrera                                                             \n",
       "1 1  Negocios y administración                                           \n",
       "2 2  Administración y gestión de empresas                                \n",
       "3 3  Contabilidad y fiscalización                                        \n",
       "4 4  Finanzas, banca y seguros                                           \n",
       "5 5  Mercadotecnia y publicidad                                          \n",
       "6 6  Negocios y administración, programas multidisciplinarios o generales\n",
       "  fecha_alta          vigente\n",
       "1 2017-05-28 06:42:45 1      \n",
       "2 2016-03-24 13:52:17 0      \n",
       "3 2018-10-29 18:33:57 1      \n",
       "4 2020-05-11 02:05:57 0      \n",
       "5 2020-03-20 23:53:23 0      \n",
       "6 2019-02-25 09:02:59 1      "
      ]
     },
     "metadata": {},
     "output_type": "display_data"
    }
   ],
   "source": [
    "df2 <- read.csv(file = 'data/tabla_carreras.csv')\n",
    "head(df2)"
   ]
  },
  {
   "cell_type": "code",
   "execution_count": 7,
   "metadata": {
    "vscode": {
     "languageId": "r"
    }
   },
   "outputs": [
    {
     "data": {
      "text/html": [
       "<style>\n",
       ".list-inline {list-style: none; margin:0; padding: 0}\n",
       ".list-inline>li {display: inline-block}\n",
       ".list-inline>li:not(:last-child)::after {content: \"\\00b7\"; padding: 0 .5ex}\n",
       "</style>\n",
       "<ol class=list-inline><li>'id'</li><li>'carrera'</li><li>'fecha_alta'</li><li>'vigente'</li></ol>\n"
      ],
      "text/latex": [
       "\\begin{enumerate*}\n",
       "\\item 'id'\n",
       "\\item 'carrera'\n",
       "\\item 'fecha\\_alta'\n",
       "\\item 'vigente'\n",
       "\\end{enumerate*}\n"
      ],
      "text/markdown": [
       "1. 'id'\n",
       "2. 'carrera'\n",
       "3. 'fecha_alta'\n",
       "4. 'vigente'\n",
       "\n",
       "\n"
      ],
      "text/plain": [
       "[1] \"id\"         \"carrera\"    \"fecha_alta\" \"vigente\"   "
      ]
     },
     "metadata": {},
     "output_type": "display_data"
    }
   ],
   "source": [
    "colnames(df2)"
   ]
  },
  {
   "cell_type": "code",
   "execution_count": 8,
   "metadata": {
    "vscode": {
     "languageId": "r"
    }
   },
   "outputs": [
    {
     "data": {
      "text/html": [
       "<table class=\"dataframe\">\n",
       "<caption>A data.frame: 6 × 4</caption>\n",
       "<thead>\n",
       "\t<tr><th></th><th scope=col>carrera_id</th><th scope=col>carrera</th><th scope=col>fecha_alta</th><th scope=col>vigente</th></tr>\n",
       "\t<tr><th></th><th scope=col>&lt;int&gt;</th><th scope=col>&lt;chr&gt;</th><th scope=col>&lt;chr&gt;</th><th scope=col>&lt;int&gt;</th></tr>\n",
       "</thead>\n",
       "<tbody>\n",
       "\t<tr><th scope=row>1</th><td>1</td><td>Negocios y administración                                           </td><td>2017-05-28 06:42:45</td><td>1</td></tr>\n",
       "\t<tr><th scope=row>2</th><td>2</td><td>Administración y gestión de empresas                                </td><td>2016-03-24 13:52:17</td><td>0</td></tr>\n",
       "\t<tr><th scope=row>3</th><td>3</td><td>Contabilidad y fiscalización                                        </td><td>2018-10-29 18:33:57</td><td>1</td></tr>\n",
       "\t<tr><th scope=row>4</th><td>4</td><td>Finanzas, banca y seguros                                           </td><td>2020-05-11 02:05:57</td><td>0</td></tr>\n",
       "\t<tr><th scope=row>5</th><td>5</td><td>Mercadotecnia y publicidad                                          </td><td>2020-03-20 23:53:23</td><td>0</td></tr>\n",
       "\t<tr><th scope=row>6</th><td>6</td><td>Negocios y administración, programas multidisciplinarios o generales</td><td>2019-02-25 09:02:59</td><td>1</td></tr>\n",
       "</tbody>\n",
       "</table>\n"
      ],
      "text/latex": [
       "A data.frame: 6 × 4\n",
       "\\begin{tabular}{r|llll}\n",
       "  & carrera\\_id & carrera & fecha\\_alta & vigente\\\\\n",
       "  & <int> & <chr> & <chr> & <int>\\\\\n",
       "\\hline\n",
       "\t1 & 1 & Negocios y administración                                            & 2017-05-28 06:42:45 & 1\\\\\n",
       "\t2 & 2 & Administración y gestión de empresas                                 & 2016-03-24 13:52:17 & 0\\\\\n",
       "\t3 & 3 & Contabilidad y fiscalización                                         & 2018-10-29 18:33:57 & 1\\\\\n",
       "\t4 & 4 & Finanzas, banca y seguros                                            & 2020-05-11 02:05:57 & 0\\\\\n",
       "\t5 & 5 & Mercadotecnia y publicidad                                           & 2020-03-20 23:53:23 & 0\\\\\n",
       "\t6 & 6 & Negocios y administración, programas multidisciplinarios o generales & 2019-02-25 09:02:59 & 1\\\\\n",
       "\\end{tabular}\n"
      ],
      "text/markdown": [
       "\n",
       "A data.frame: 6 × 4\n",
       "\n",
       "| <!--/--> | carrera_id &lt;int&gt; | carrera &lt;chr&gt; | fecha_alta &lt;chr&gt; | vigente &lt;int&gt; |\n",
       "|---|---|---|---|---|\n",
       "| 1 | 1 | Negocios y administración                                            | 2017-05-28 06:42:45 | 1 |\n",
       "| 2 | 2 | Administración y gestión de empresas                                 | 2016-03-24 13:52:17 | 0 |\n",
       "| 3 | 3 | Contabilidad y fiscalización                                         | 2018-10-29 18:33:57 | 1 |\n",
       "| 4 | 4 | Finanzas, banca y seguros                                            | 2020-05-11 02:05:57 | 0 |\n",
       "| 5 | 5 | Mercadotecnia y publicidad                                           | 2020-03-20 23:53:23 | 0 |\n",
       "| 6 | 6 | Negocios y administración, programas multidisciplinarios o generales | 2019-02-25 09:02:59 | 1 |\n",
       "\n"
      ],
      "text/plain": [
       "  carrera_id\n",
       "1 1         \n",
       "2 2         \n",
       "3 3         \n",
       "4 4         \n",
       "5 5         \n",
       "6 6         \n",
       "  carrera                                                             \n",
       "1 Negocios y administración                                           \n",
       "2 Administración y gestión de empresas                                \n",
       "3 Contabilidad y fiscalización                                        \n",
       "4 Finanzas, banca y seguros                                           \n",
       "5 Mercadotecnia y publicidad                                          \n",
       "6 Negocios y administración, programas multidisciplinarios o generales\n",
       "  fecha_alta          vigente\n",
       "1 2017-05-28 06:42:45 1      \n",
       "2 2016-03-24 13:52:17 0      \n",
       "3 2018-10-29 18:33:57 1      \n",
       "4 2020-05-11 02:05:57 0      \n",
       "5 2020-03-20 23:53:23 0      \n",
       "6 2019-02-25 09:02:59 1      "
      ]
     },
     "metadata": {},
     "output_type": "display_data"
    }
   ],
   "source": [
    "colnames(df2) <- c('carrera_id','carrera','fecha_alta','vigente')\n",
    "head(df2)"
   ]
  },
  {
   "cell_type": "code",
   "execution_count": 9,
   "metadata": {
    "vscode": {
     "languageId": "r"
    }
   },
   "outputs": [
    {
     "data": {
      "text/html": [
       "'data.frame'"
      ],
      "text/latex": [
       "'data.frame'"
      ],
      "text/markdown": [
       "'data.frame'"
      ],
      "text/plain": [
       "[1] \"data.frame\""
      ]
     },
     "metadata": {},
     "output_type": "display_data"
    }
   ],
   "source": [
    "class(df2)"
   ]
  },
  {
   "cell_type": "code",
   "execution_count": 10,
   "metadata": {
    "vscode": {
     "languageId": "r"
    }
   },
   "outputs": [
    {
     "name": "stdout",
     "output_type": "stream",
     "text": [
      "'data.frame':\t60 obs. of  4 variables:\n",
      " $ carrera_id: int  1 2 3 4 5 6 7 8 9 10 ...\n",
      " $ carrera   : chr  \"Negocios y administración\" \"Administración y gestión de empresas\" \"Contabilidad y fiscalización\" \"Finanzas, banca y seguros\" ...\n",
      " $ fecha_alta: chr  \"2017-05-28 06:42:45\" \"2016-03-24 13:52:17\" \"2018-10-29 18:33:57\" \"2020-05-11 02:05:57\" ...\n",
      " $ vigente   : int  1 0 1 0 0 1 1 1 1 0 ...\n"
     ]
    }
   ],
   "source": [
    "str(df2)"
   ]
  },
  {
   "attachments": {},
   "cell_type": "markdown",
   "metadata": {},
   "source": [
    "### Hacemos un JOIN entre las dos tablas"
   ]
  },
  {
   "cell_type": "code",
   "execution_count": 11,
   "metadata": {
    "vscode": {
     "languageId": "r"
    }
   },
   "outputs": [
    {
     "data": {
      "text/html": [
       "<table class=\"dataframe\">\n",
       "<caption>A data.frame: 6 × 11</caption>\n",
       "<thead>\n",
       "\t<tr><th></th><th scope=col>carrera_id</th><th scope=col>alumno_id</th><th scope=col>nombre</th><th scope=col>apellido</th><th scope=col>email</th><th scope=col>colegiatura</th><th scope=col>fecha_incorporacion</th><th scope=col>tutor_id</th><th scope=col>carrera</th><th scope=col>fecha_alta</th><th scope=col>vigente</th></tr>\n",
       "\t<tr><th></th><th scope=col>&lt;int&gt;</th><th scope=col>&lt;int&gt;</th><th scope=col>&lt;chr&gt;</th><th scope=col>&lt;chr&gt;</th><th scope=col>&lt;chr&gt;</th><th scope=col>&lt;int&gt;</th><th scope=col>&lt;chr&gt;</th><th scope=col>&lt;int&gt;</th><th scope=col>&lt;chr&gt;</th><th scope=col>&lt;chr&gt;</th><th scope=col>&lt;int&gt;</th></tr>\n",
       "</thead>\n",
       "<tbody>\n",
       "\t<tr><th scope=row>1</th><td>1</td><td>504</td><td>Geri     </td><td>NA      </td><td>gfetteplacedz@wufoo.com     </td><td>2300</td><td>2018-11-02 09:16:18</td><td> 8</td><td>Negocios y administración</td><td>2017-05-28 06:42:45</td><td>1</td></tr>\n",
       "\t<tr><th scope=row>2</th><td>1</td><td> 83</td><td>Chloris  </td><td>Markovic</td><td>cmarkovic2a@etsy.com        </td><td>4500</td><td>2018-06-21 02:41:39</td><td>29</td><td>Negocios y administración</td><td>2017-05-28 06:42:45</td><td>1</td></tr>\n",
       "\t<tr><th scope=row>3</th><td>1</td><td>724</td><td>Monroe   </td><td>NA      </td><td>mtremouletk3@list-manage.com</td><td>2000</td><td>2017-10-20 08:46:36</td><td>26</td><td>Negocios y administración</td><td>2017-05-28 06:42:45</td><td>1</td></tr>\n",
       "\t<tr><th scope=row>4</th><td>1</td><td>427</td><td>Zach     </td><td>Seally  </td><td>zseallybu@github.io         </td><td>2500</td><td>2019-10-17 04:59:27</td><td>30</td><td>Negocios y administración</td><td>2017-05-28 06:42:45</td><td>1</td></tr>\n",
       "\t<tr><th scope=row>5</th><td>1</td><td>236</td><td>Michal   </td><td>Thripp  </td><td>mthripp6j@godaddy.com       </td><td>2500</td><td>2017-10-10 09:50:47</td><td>20</td><td>Negocios y administración</td><td>2017-05-28 06:42:45</td><td>1</td></tr>\n",
       "\t<tr><th scope=row>6</th><td>1</td><td>625</td><td>Nickolaus</td><td>NA      </td><td>ngodlontonhc@fc2.com        </td><td>5000</td><td>2020-08-09 11:06:20</td><td> 2</td><td>Negocios y administración</td><td>2017-05-28 06:42:45</td><td>1</td></tr>\n",
       "</tbody>\n",
       "</table>\n"
      ],
      "text/latex": [
       "A data.frame: 6 × 11\n",
       "\\begin{tabular}{r|lllllllllll}\n",
       "  & carrera\\_id & alumno\\_id & nombre & apellido & email & colegiatura & fecha\\_incorporacion & tutor\\_id & carrera & fecha\\_alta & vigente\\\\\n",
       "  & <int> & <int> & <chr> & <chr> & <chr> & <int> & <chr> & <int> & <chr> & <chr> & <int>\\\\\n",
       "\\hline\n",
       "\t1 & 1 & 504 & Geri      & NA       & gfetteplacedz@wufoo.com      & 2300 & 2018-11-02 09:16:18 &  8 & Negocios y administración & 2017-05-28 06:42:45 & 1\\\\\n",
       "\t2 & 1 &  83 & Chloris   & Markovic & cmarkovic2a@etsy.com         & 4500 & 2018-06-21 02:41:39 & 29 & Negocios y administración & 2017-05-28 06:42:45 & 1\\\\\n",
       "\t3 & 1 & 724 & Monroe    & NA       & mtremouletk3@list-manage.com & 2000 & 2017-10-20 08:46:36 & 26 & Negocios y administración & 2017-05-28 06:42:45 & 1\\\\\n",
       "\t4 & 1 & 427 & Zach      & Seally   & zseallybu@github.io          & 2500 & 2019-10-17 04:59:27 & 30 & Negocios y administración & 2017-05-28 06:42:45 & 1\\\\\n",
       "\t5 & 1 & 236 & Michal    & Thripp   & mthripp6j@godaddy.com        & 2500 & 2017-10-10 09:50:47 & 20 & Negocios y administración & 2017-05-28 06:42:45 & 1\\\\\n",
       "\t6 & 1 & 625 & Nickolaus & NA       & ngodlontonhc@fc2.com         & 5000 & 2020-08-09 11:06:20 &  2 & Negocios y administración & 2017-05-28 06:42:45 & 1\\\\\n",
       "\\end{tabular}\n"
      ],
      "text/markdown": [
       "\n",
       "A data.frame: 6 × 11\n",
       "\n",
       "| <!--/--> | carrera_id &lt;int&gt; | alumno_id &lt;int&gt; | nombre &lt;chr&gt; | apellido &lt;chr&gt; | email &lt;chr&gt; | colegiatura &lt;int&gt; | fecha_incorporacion &lt;chr&gt; | tutor_id &lt;int&gt; | carrera &lt;chr&gt; | fecha_alta &lt;chr&gt; | vigente &lt;int&gt; |\n",
       "|---|---|---|---|---|---|---|---|---|---|---|---|\n",
       "| 1 | 1 | 504 | Geri      | NA       | gfetteplacedz@wufoo.com      | 2300 | 2018-11-02 09:16:18 |  8 | Negocios y administración | 2017-05-28 06:42:45 | 1 |\n",
       "| 2 | 1 |  83 | Chloris   | Markovic | cmarkovic2a@etsy.com         | 4500 | 2018-06-21 02:41:39 | 29 | Negocios y administración | 2017-05-28 06:42:45 | 1 |\n",
       "| 3 | 1 | 724 | Monroe    | NA       | mtremouletk3@list-manage.com | 2000 | 2017-10-20 08:46:36 | 26 | Negocios y administración | 2017-05-28 06:42:45 | 1 |\n",
       "| 4 | 1 | 427 | Zach      | Seally   | zseallybu@github.io          | 2500 | 2019-10-17 04:59:27 | 30 | Negocios y administración | 2017-05-28 06:42:45 | 1 |\n",
       "| 5 | 1 | 236 | Michal    | Thripp   | mthripp6j@godaddy.com        | 2500 | 2017-10-10 09:50:47 | 20 | Negocios y administración | 2017-05-28 06:42:45 | 1 |\n",
       "| 6 | 1 | 625 | Nickolaus | NA       | ngodlontonhc@fc2.com         | 5000 | 2020-08-09 11:06:20 |  2 | Negocios y administración | 2017-05-28 06:42:45 | 1 |\n",
       "\n"
      ],
      "text/plain": [
       "  carrera_id alumno_id nombre    apellido email                       \n",
       "1 1          504       Geri      NA       gfetteplacedz@wufoo.com     \n",
       "2 1           83       Chloris   Markovic cmarkovic2a@etsy.com        \n",
       "3 1          724       Monroe    NA       mtremouletk3@list-manage.com\n",
       "4 1          427       Zach      Seally   zseallybu@github.io         \n",
       "5 1          236       Michal    Thripp   mthripp6j@godaddy.com       \n",
       "6 1          625       Nickolaus NA       ngodlontonhc@fc2.com        \n",
       "  colegiatura fecha_incorporacion tutor_id carrera                  \n",
       "1 2300        2018-11-02 09:16:18  8       Negocios y administración\n",
       "2 4500        2018-06-21 02:41:39 29       Negocios y administración\n",
       "3 2000        2017-10-20 08:46:36 26       Negocios y administración\n",
       "4 2500        2019-10-17 04:59:27 30       Negocios y administración\n",
       "5 2500        2017-10-10 09:50:47 20       Negocios y administración\n",
       "6 5000        2020-08-09 11:06:20  2       Negocios y administración\n",
       "  fecha_alta          vigente\n",
       "1 2017-05-28 06:42:45 1      \n",
       "2 2017-05-28 06:42:45 1      \n",
       "3 2017-05-28 06:42:45 1      \n",
       "4 2017-05-28 06:42:45 1      \n",
       "5 2017-05-28 06:42:45 1      \n",
       "6 2017-05-28 06:42:45 1      "
      ]
     },
     "metadata": {},
     "output_type": "display_data"
    }
   ],
   "source": [
    "df3 <- merge(x = df1, y = df2, by = c(\"carrera_id\"))\n",
    "head(df3)"
   ]
  },
  {
   "attachments": {},
   "cell_type": "markdown",
   "metadata": {},
   "source": [
    "### Ordenamos datos con respecto a varios campos"
   ]
  },
  {
   "cell_type": "code",
   "execution_count": 12,
   "metadata": {
    "vscode": {
     "languageId": "r"
    }
   },
   "outputs": [],
   "source": [
    "selected_cols <- c('alumno_id','nombre','apellido','email','colegiatura','fecha_incorporacion','carrera','vigente')"
   ]
  },
  {
   "cell_type": "code",
   "execution_count": 13,
   "metadata": {
    "vscode": {
     "languageId": "r"
    }
   },
   "outputs": [
    {
     "data": {
      "text/html": [
       "<table class=\"dataframe\">\n",
       "<caption>A data.frame: 6 × 8</caption>\n",
       "<thead>\n",
       "\t<tr><th></th><th scope=col>alumno_id</th><th scope=col>nombre</th><th scope=col>apellido</th><th scope=col>email</th><th scope=col>colegiatura</th><th scope=col>fecha_incorporacion</th><th scope=col>carrera</th><th scope=col>vigente</th></tr>\n",
       "\t<tr><th></th><th scope=col>&lt;int&gt;</th><th scope=col>&lt;chr&gt;</th><th scope=col>&lt;chr&gt;</th><th scope=col>&lt;chr&gt;</th><th scope=col>&lt;int&gt;</th><th scope=col>&lt;chr&gt;</th><th scope=col>&lt;chr&gt;</th><th scope=col>&lt;int&gt;</th></tr>\n",
       "</thead>\n",
       "<tbody>\n",
       "\t<tr><th scope=row>6</th><td>625</td><td>Nickolaus</td><td>NA      </td><td>ngodlontonhc@fc2.com    </td><td>5000</td><td>2020-08-09 11:06:20</td><td>Negocios y administración   </td><td>1</td></tr>\n",
       "\t<tr><th scope=row>7</th><td>749</td><td>Aleksandr</td><td>Millhill</td><td>amillhillks@newsvine.com</td><td>5000</td><td>2019-06-18 20:42:38</td><td>Negocios y administración   </td><td>1</td></tr>\n",
       "\t<tr><th scope=row>9</th><td>634</td><td>Merrick  </td><td>Dunnet  </td><td>mdunnethl@uiuc.edu      </td><td>5000</td><td>2018-07-24 19:02:12</td><td>Negocios y administración   </td><td>1</td></tr>\n",
       "\t<tr><th scope=row>14</th><td> 37</td><td>Shaw     </td><td>Harrill </td><td>sharrill10@princeton.edu</td><td>5000</td><td>2018-06-07 08:25:26</td><td>Negocios y administración   </td><td>1</td></tr>\n",
       "\t<tr><th scope=row>37</th><td>893</td><td>Dulce    </td><td>Drejer  </td><td>ddrejeros@senate.gov    </td><td>5000</td><td>2018-05-01 19:51:07</td><td>Contabilidad y fiscalización</td><td>1</td></tr>\n",
       "\t<tr><th scope=row>44</th><td>577</td><td>Ced      </td><td>Lodo    </td><td>clodog0@mtv.com         </td><td>5000</td><td>2020-08-16 10:46:17</td><td>Contabilidad y fiscalización</td><td>1</td></tr>\n",
       "</tbody>\n",
       "</table>\n"
      ],
      "text/latex": [
       "A data.frame: 6 × 8\n",
       "\\begin{tabular}{r|llllllll}\n",
       "  & alumno\\_id & nombre & apellido & email & colegiatura & fecha\\_incorporacion & carrera & vigente\\\\\n",
       "  & <int> & <chr> & <chr> & <chr> & <int> & <chr> & <chr> & <int>\\\\\n",
       "\\hline\n",
       "\t6 & 625 & Nickolaus & NA       & ngodlontonhc@fc2.com     & 5000 & 2020-08-09 11:06:20 & Negocios y administración    & 1\\\\\n",
       "\t7 & 749 & Aleksandr & Millhill & amillhillks@newsvine.com & 5000 & 2019-06-18 20:42:38 & Negocios y administración    & 1\\\\\n",
       "\t9 & 634 & Merrick   & Dunnet   & mdunnethl@uiuc.edu       & 5000 & 2018-07-24 19:02:12 & Negocios y administración    & 1\\\\\n",
       "\t14 &  37 & Shaw      & Harrill  & sharrill10@princeton.edu & 5000 & 2018-06-07 08:25:26 & Negocios y administración    & 1\\\\\n",
       "\t37 & 893 & Dulce     & Drejer   & ddrejeros@senate.gov     & 5000 & 2018-05-01 19:51:07 & Contabilidad y fiscalización & 1\\\\\n",
       "\t44 & 577 & Ced       & Lodo     & clodog0@mtv.com          & 5000 & 2020-08-16 10:46:17 & Contabilidad y fiscalización & 1\\\\\n",
       "\\end{tabular}\n"
      ],
      "text/markdown": [
       "\n",
       "A data.frame: 6 × 8\n",
       "\n",
       "| <!--/--> | alumno_id &lt;int&gt; | nombre &lt;chr&gt; | apellido &lt;chr&gt; | email &lt;chr&gt; | colegiatura &lt;int&gt; | fecha_incorporacion &lt;chr&gt; | carrera &lt;chr&gt; | vigente &lt;int&gt; |\n",
       "|---|---|---|---|---|---|---|---|---|\n",
       "| 6 | 625 | Nickolaus | NA       | ngodlontonhc@fc2.com     | 5000 | 2020-08-09 11:06:20 | Negocios y administración    | 1 |\n",
       "| 7 | 749 | Aleksandr | Millhill | amillhillks@newsvine.com | 5000 | 2019-06-18 20:42:38 | Negocios y administración    | 1 |\n",
       "| 9 | 634 | Merrick   | Dunnet   | mdunnethl@uiuc.edu       | 5000 | 2018-07-24 19:02:12 | Negocios y administración    | 1 |\n",
       "| 14 |  37 | Shaw      | Harrill  | sharrill10@princeton.edu | 5000 | 2018-06-07 08:25:26 | Negocios y administración    | 1 |\n",
       "| 37 | 893 | Dulce     | Drejer   | ddrejeros@senate.gov     | 5000 | 2018-05-01 19:51:07 | Contabilidad y fiscalización | 1 |\n",
       "| 44 | 577 | Ced       | Lodo     | clodog0@mtv.com          | 5000 | 2020-08-16 10:46:17 | Contabilidad y fiscalización | 1 |\n",
       "\n"
      ],
      "text/plain": [
       "   alumno_id nombre    apellido email                    colegiatura\n",
       "6  625       Nickolaus NA       ngodlontonhc@fc2.com     5000       \n",
       "7  749       Aleksandr Millhill amillhillks@newsvine.com 5000       \n",
       "9  634       Merrick   Dunnet   mdunnethl@uiuc.edu       5000       \n",
       "14  37       Shaw      Harrill  sharrill10@princeton.edu 5000       \n",
       "37 893       Dulce     Drejer   ddrejeros@senate.gov     5000       \n",
       "44 577       Ced       Lodo     clodog0@mtv.com          5000       \n",
       "   fecha_incorporacion carrera                      vigente\n",
       "6  2020-08-09 11:06:20 Negocios y administración    1      \n",
       "7  2019-06-18 20:42:38 Negocios y administración    1      \n",
       "9  2018-07-24 19:02:12 Negocios y administración    1      \n",
       "14 2018-06-07 08:25:26 Negocios y administración    1      \n",
       "37 2018-05-01 19:51:07 Contabilidad y fiscalización 1      \n",
       "44 2020-08-16 10:46:17 Contabilidad y fiscalización 1      "
      ]
     },
     "metadata": {},
     "output_type": "display_data"
    }
   ],
   "source": [
    "# Seleccionamos los registros de alumnos vigentes cuya colgiatura está en un rango alto:\n",
    "df_top <- df3[ (4900 <= df3$colegiatura) & (df3$colegiatura <= 6000) & (df3$vigente == 1), ][selected_cols]\n",
    "head(df_top)"
   ]
  },
  {
   "cell_type": "code",
   "execution_count": 14,
   "metadata": {
    "vscode": {
     "languageId": "r"
    }
   },
   "outputs": [
    {
     "data": {
      "text/html": [
       "<table class=\"dataframe\">\n",
       "<caption>A data.frame: 6 × 8</caption>\n",
       "<thead>\n",
       "\t<tr><th></th><th scope=col>alumno_id</th><th scope=col>nombre</th><th scope=col>apellido</th><th scope=col>email</th><th scope=col>colegiatura</th><th scope=col>fecha_incorporacion</th><th scope=col>carrera</th><th scope=col>vigente</th></tr>\n",
       "\t<tr><th></th><th scope=col>&lt;int&gt;</th><th scope=col>&lt;chr&gt;</th><th scope=col>&lt;chr&gt;</th><th scope=col>&lt;chr&gt;</th><th scope=col>&lt;int&gt;</th><th scope=col>&lt;chr&gt;</th><th scope=col>&lt;chr&gt;</th><th scope=col>&lt;int&gt;</th></tr>\n",
       "</thead>\n",
       "<tbody>\n",
       "\t<tr><th scope=row>546</th><td> 98</td><td>Pepito </td><td>Allison     </td><td>pallison2p@psu.edu          </td><td>5000</td><td>2019-04-20 13:07:23</td><td>Ingeniería mecánica y metalurgia                         </td><td>1</td></tr>\n",
       "\t<tr><th scope=row>163</th><td> 57</td><td>Lane   </td><td>Antley      </td><td>lantley1k@tamu.edu          </td><td>5000</td><td>2018-02-24 22:37:18</td><td>Ciencias políticas                                       </td><td>1</td></tr>\n",
       "\t<tr><th scope=row>287</th><td>712</td><td>Ivie   </td><td>Antonopoulos</td><td>iantonopoulosjr@edublogs.org</td><td>5000</td><td>2019-08-12 17:24:34</td><td>Derecho                                                  </td><td>1</td></tr>\n",
       "\t<tr><th scope=row>432</th><td>  1</td><td>Wanda  </td><td>Billington  </td><td>wbillington0@nsw.gov.au     </td><td>5000</td><td>2020-05-17 22:49:29</td><td>Ingeniería industrial, mecánica, electrónica y tecnología</td><td>1</td></tr>\n",
       "\t<tr><th scope=row>648</th><td>736</td><td>Fayette</td><td>Binden      </td><td>fbindenkf@senate.gov        </td><td>5000</td><td>2018-05-23 16:32:49</td><td>Industria de la alimentación                             </td><td>1</td></tr>\n",
       "\t<tr><th scope=row>439</th><td>774</td><td>Coletta</td><td>Bolesworth  </td><td>cbolesworthlh@gnu.org       </td><td>5000</td><td>2019-08-18 00:05:40</td><td>Ingeniería industrial, mecánica, electrónica y tecnología</td><td>1</td></tr>\n",
       "</tbody>\n",
       "</table>\n"
      ],
      "text/latex": [
       "A data.frame: 6 × 8\n",
       "\\begin{tabular}{r|llllllll}\n",
       "  & alumno\\_id & nombre & apellido & email & colegiatura & fecha\\_incorporacion & carrera & vigente\\\\\n",
       "  & <int> & <chr> & <chr> & <chr> & <int> & <chr> & <chr> & <int>\\\\\n",
       "\\hline\n",
       "\t546 &  98 & Pepito  & Allison      & pallison2p@psu.edu           & 5000 & 2019-04-20 13:07:23 & Ingeniería mecánica y metalurgia                          & 1\\\\\n",
       "\t163 &  57 & Lane    & Antley       & lantley1k@tamu.edu           & 5000 & 2018-02-24 22:37:18 & Ciencias políticas                                        & 1\\\\\n",
       "\t287 & 712 & Ivie    & Antonopoulos & iantonopoulosjr@edublogs.org & 5000 & 2019-08-12 17:24:34 & Derecho                                                   & 1\\\\\n",
       "\t432 &   1 & Wanda   & Billington   & wbillington0@nsw.gov.au      & 5000 & 2020-05-17 22:49:29 & Ingeniería industrial, mecánica, electrónica y tecnología & 1\\\\\n",
       "\t648 & 736 & Fayette & Binden       & fbindenkf@senate.gov         & 5000 & 2018-05-23 16:32:49 & Industria de la alimentación                              & 1\\\\\n",
       "\t439 & 774 & Coletta & Bolesworth   & cbolesworthlh@gnu.org        & 5000 & 2019-08-18 00:05:40 & Ingeniería industrial, mecánica, electrónica y tecnología & 1\\\\\n",
       "\\end{tabular}\n"
      ],
      "text/markdown": [
       "\n",
       "A data.frame: 6 × 8\n",
       "\n",
       "| <!--/--> | alumno_id &lt;int&gt; | nombre &lt;chr&gt; | apellido &lt;chr&gt; | email &lt;chr&gt; | colegiatura &lt;int&gt; | fecha_incorporacion &lt;chr&gt; | carrera &lt;chr&gt; | vigente &lt;int&gt; |\n",
       "|---|---|---|---|---|---|---|---|---|\n",
       "| 546 |  98 | Pepito  | Allison      | pallison2p@psu.edu           | 5000 | 2019-04-20 13:07:23 | Ingeniería mecánica y metalurgia                          | 1 |\n",
       "| 163 |  57 | Lane    | Antley       | lantley1k@tamu.edu           | 5000 | 2018-02-24 22:37:18 | Ciencias políticas                                        | 1 |\n",
       "| 287 | 712 | Ivie    | Antonopoulos | iantonopoulosjr@edublogs.org | 5000 | 2019-08-12 17:24:34 | Derecho                                                   | 1 |\n",
       "| 432 |   1 | Wanda   | Billington   | wbillington0@nsw.gov.au      | 5000 | 2020-05-17 22:49:29 | Ingeniería industrial, mecánica, electrónica y tecnología | 1 |\n",
       "| 648 | 736 | Fayette | Binden       | fbindenkf@senate.gov         | 5000 | 2018-05-23 16:32:49 | Industria de la alimentación                              | 1 |\n",
       "| 439 | 774 | Coletta | Bolesworth   | cbolesworthlh@gnu.org        | 5000 | 2019-08-18 00:05:40 | Ingeniería industrial, mecánica, electrónica y tecnología | 1 |\n",
       "\n"
      ],
      "text/plain": [
       "    alumno_id nombre  apellido     email                        colegiatura\n",
       "546  98       Pepito  Allison      pallison2p@psu.edu           5000       \n",
       "163  57       Lane    Antley       lantley1k@tamu.edu           5000       \n",
       "287 712       Ivie    Antonopoulos iantonopoulosjr@edublogs.org 5000       \n",
       "432   1       Wanda   Billington   wbillington0@nsw.gov.au      5000       \n",
       "648 736       Fayette Binden       fbindenkf@senate.gov         5000       \n",
       "439 774       Coletta Bolesworth   cbolesworthlh@gnu.org        5000       \n",
       "    fecha_incorporacion\n",
       "546 2019-04-20 13:07:23\n",
       "163 2018-02-24 22:37:18\n",
       "287 2019-08-12 17:24:34\n",
       "432 2020-05-17 22:49:29\n",
       "648 2018-05-23 16:32:49\n",
       "439 2019-08-18 00:05:40\n",
       "    carrera                                                   vigente\n",
       "546 Ingeniería mecánica y metalurgia                          1      \n",
       "163 Ciencias políticas                                        1      \n",
       "287 Derecho                                                   1      \n",
       "432 Ingeniería industrial, mecánica, electrónica y tecnología 1      \n",
       "648 Industria de la alimentación                              1      \n",
       "439 Ingeniería industrial, mecánica, electrónica y tecnología 1      "
      ]
     },
     "metadata": {},
     "output_type": "display_data"
    }
   ],
   "source": [
    "# Ordenamos de forma descendente con respecto al campo \"colegiatura\" y después de forma ascendente con respecto al campo \"apellido\"\n",
    "\n",
    "df_top <- df_top[ order(-df_top$colegiatura, df_top$apellido), ]\n",
    "head(df_top)"
   ]
  },
  {
   "cell_type": "code",
   "execution_count": 15,
   "metadata": {
    "vscode": {
     "languageId": "r"
    }
   },
   "outputs": [
    {
     "data": {
      "text/html": [
       "<style>\n",
       ".list-inline {list-style: none; margin:0; padding: 0}\n",
       ".list-inline>li {display: inline-block}\n",
       ".list-inline>li:not(:last-child)::after {content: \"\\00b7\"; padding: 0 .5ex}\n",
       "</style>\n",
       "<ol class=list-inline><li>1000</li><li>8</li></ol>\n"
      ],
      "text/latex": [
       "\\begin{enumerate*}\n",
       "\\item 1000\n",
       "\\item 8\n",
       "\\end{enumerate*}\n"
      ],
      "text/markdown": [
       "1. 1000\n",
       "2. 8\n",
       "\n",
       "\n"
      ],
      "text/plain": [
       "[1] 1000    8"
      ]
     },
     "metadata": {},
     "output_type": "display_data"
    }
   ],
   "source": [
    "dim(df1)"
   ]
  },
  {
   "cell_type": "code",
   "execution_count": 16,
   "metadata": {
    "vscode": {
     "languageId": "r"
    }
   },
   "outputs": [
    {
     "data": {
      "text/html": [
       "1000"
      ],
      "text/latex": [
       "1000"
      ],
      "text/markdown": [
       "1000"
      ],
      "text/plain": [
       "[1] 1000"
      ]
     },
     "metadata": {},
     "output_type": "display_data"
    }
   ],
   "source": [
    "dim(df1)[1]"
   ]
  },
  {
   "cell_type": "code",
   "execution_count": 17,
   "metadata": {
    "vscode": {
     "languageId": "r"
    }
   },
   "outputs": [
    {
     "data": {
      "text/html": [
       "72"
      ],
      "text/latex": [
       "72"
      ],
      "text/markdown": [
       "72"
      ],
      "text/plain": [
       "[1] 72"
      ]
     },
     "metadata": {},
     "output_type": "display_data"
    }
   ],
   "source": [
    "dim(df_top)[1]"
   ]
  },
  {
   "cell_type": "code",
   "execution_count": 18,
   "metadata": {
    "vscode": {
     "languageId": "r"
    }
   },
   "outputs": [
    {
     "name": "stdout",
     "output_type": "stream",
     "text": [
      "[1] \"El 7.2% de los alumnos son vigentes y pagan altas colegiatura\"\n"
     ]
    }
   ],
   "source": [
    "p_alto <- dim(df_top)[1]/dim(df1)[1]*100\n",
    "\n",
    "print( paste(\"El \",p_alto,\"% de los alumnos son vigentes y pagan altas colegiatura\",sep=\"\") )"
   ]
  },
  {
   "attachments": {},
   "cell_type": "markdown",
   "metadata": {},
   "source": [
    "### Guardamos DataFrame en una tabla de MySQL"
   ]
  },
  {
   "cell_type": "code",
   "execution_count": 19,
   "metadata": {
    "vscode": {
     "languageId": "r"
    }
   },
   "outputs": [
    {
     "data": {
      "text/plain": [
       "<MySQLConnection:0,0>"
      ]
     },
     "metadata": {},
     "output_type": "display_data"
    }
   ],
   "source": [
    "# Creamos la cadena de conexión:\n",
    "db_conn <- dbConnect(MySQL(), user='root', host = 'localhost', password = 'Marcos27', dbname='platzi')\n",
    "db_conn"
   ]
  },
  {
   "cell_type": "code",
   "execution_count": 20,
   "metadata": {
    "vscode": {
     "languageId": "r"
    }
   },
   "outputs": [],
   "source": [
    "#dbWriteTable(db_conn , value= df, name='TopCarreras')"
   ]
  },
  {
   "attachments": {},
   "cell_type": "markdown",
   "metadata": {},
   "source": [
    "#### Creamos una tabla"
   ]
  },
  {
   "cell_type": "code",
   "execution_count": 21,
   "metadata": {
    "vscode": {
     "languageId": "r"
    }
   },
   "outputs": [
    {
     "name": "stdout",
     "output_type": "stream",
     "text": [
      "'data.frame':\t72 obs. of  8 variables:\n",
      " $ alumno_id          : int  98 57 712 1 736 774 996 522 277 623 ...\n",
      " $ nombre             : chr  \"Pepito\" \"Lane\" \"Ivie\" \"Wanda\" ...\n",
      " $ apellido           : chr  \"Allison\" \"Antley\" \"Antonopoulos\" \"Billington\" ...\n",
      " $ email              : chr  \"pallison2p@psu.edu\" \"lantley1k@tamu.edu\" \"iantonopoulosjr@edublogs.org\" \"wbillington0@nsw.gov.au\" ...\n",
      " $ colegiatura        : int  5000 5000 5000 5000 5000 5000 5000 5000 5000 5000 ...\n",
      " $ fecha_incorporacion: chr  \"2019-04-20 13:07:23\" \"2018-02-24 22:37:18\" \"2019-08-12 17:24:34\" \"2020-05-17 22:49:29\" ...\n",
      " $ carrera            : chr  \"Ingeniería mecánica y metalurgia\" \"Ciencias políticas\" \"Derecho\" \"Ingeniería industrial, mecánica, electrónica y tecnología\" ...\n",
      " $ vigente            : int  1 1 1 1 1 1 1 1 1 1 ...\n"
     ]
    }
   ],
   "source": [
    "# extraemos la información del DataFrame para crear la tabla en MySQL:\n",
    "str(df_top)"
   ]
  },
  {
   "cell_type": "code",
   "execution_count": 22,
   "metadata": {
    "vscode": {
     "languageId": "r"
    }
   },
   "outputs": [
    {
     "data": {
      "text/html": [],
      "text/latex": [],
      "text/markdown": [],
      "text/plain": [
       "<0 x 0 matrix>"
      ]
     },
     "metadata": {},
     "output_type": "display_data"
    }
   ],
   "source": [
    "query_crea_tabla <- \"\n",
    "CREATE TABLE IF NOT EXISTS platzi.TopAlumnos (\n",
    "    alumno_id int,\n",
    "    nombre varchar(100),\n",
    "    apellido varchar(100),\n",
    "    email varchar(100),\n",
    "    colegiatura int,\n",
    "    fecha_incorporacion varchar(200),\n",
    "    carrera varchar(100),\n",
    "    vigente int\n",
    "    );\n",
    "\"\n",
    "\n",
    "dbGetQuery(db_conn, statement = query_crea_tabla)"
   ]
  },
  {
   "attachments": {},
   "cell_type": "markdown",
   "metadata": {},
   "source": [
    "#### Insertamos los datos en la tabla"
   ]
  },
  {
   "cell_type": "code",
   "execution_count": 23,
   "metadata": {
    "vscode": {
     "languageId": "r"
    }
   },
   "outputs": [
    {
     "data": {
      "text/html": [
       "<table class=\"dataframe\">\n",
       "<caption>A data.frame: 6 × 8</caption>\n",
       "<thead>\n",
       "\t<tr><th></th><th scope=col>alumno_id</th><th scope=col>nombre</th><th scope=col>apellido</th><th scope=col>email</th><th scope=col>colegiatura</th><th scope=col>fecha_incorporacion</th><th scope=col>carrera</th><th scope=col>vigente</th></tr>\n",
       "\t<tr><th></th><th scope=col>&lt;int&gt;</th><th scope=col>&lt;chr&gt;</th><th scope=col>&lt;chr&gt;</th><th scope=col>&lt;chr&gt;</th><th scope=col>&lt;int&gt;</th><th scope=col>&lt;chr&gt;</th><th scope=col>&lt;chr&gt;</th><th scope=col>&lt;int&gt;</th></tr>\n",
       "</thead>\n",
       "<tbody>\n",
       "\t<tr><th scope=row>546</th><td> 98</td><td>Pepito </td><td>Allison     </td><td>pallison2p@psu.edu          </td><td>5000</td><td>2019-04-20 13:07:23</td><td>Ingeniería mecánica y metalurgia                         </td><td>1</td></tr>\n",
       "\t<tr><th scope=row>163</th><td> 57</td><td>Lane   </td><td>Antley      </td><td>lantley1k@tamu.edu          </td><td>5000</td><td>2018-02-24 22:37:18</td><td>Ciencias políticas                                       </td><td>1</td></tr>\n",
       "\t<tr><th scope=row>287</th><td>712</td><td>Ivie   </td><td>Antonopoulos</td><td>iantonopoulosjr@edublogs.org</td><td>5000</td><td>2019-08-12 17:24:34</td><td>Derecho                                                  </td><td>1</td></tr>\n",
       "\t<tr><th scope=row>432</th><td>  1</td><td>Wanda  </td><td>Billington  </td><td>wbillington0@nsw.gov.au     </td><td>5000</td><td>2020-05-17 22:49:29</td><td>Ingeniería industrial, mecánica, electrónica y tecnología</td><td>1</td></tr>\n",
       "\t<tr><th scope=row>648</th><td>736</td><td>Fayette</td><td>Binden      </td><td>fbindenkf@senate.gov        </td><td>5000</td><td>2018-05-23 16:32:49</td><td>Industria de la alimentación                             </td><td>1</td></tr>\n",
       "\t<tr><th scope=row>439</th><td>774</td><td>Coletta</td><td>Bolesworth  </td><td>cbolesworthlh@gnu.org       </td><td>5000</td><td>2019-08-18 00:05:40</td><td>Ingeniería industrial, mecánica, electrónica y tecnología</td><td>1</td></tr>\n",
       "</tbody>\n",
       "</table>\n"
      ],
      "text/latex": [
       "A data.frame: 6 × 8\n",
       "\\begin{tabular}{r|llllllll}\n",
       "  & alumno\\_id & nombre & apellido & email & colegiatura & fecha\\_incorporacion & carrera & vigente\\\\\n",
       "  & <int> & <chr> & <chr> & <chr> & <int> & <chr> & <chr> & <int>\\\\\n",
       "\\hline\n",
       "\t546 &  98 & Pepito  & Allison      & pallison2p@psu.edu           & 5000 & 2019-04-20 13:07:23 & Ingeniería mecánica y metalurgia                          & 1\\\\\n",
       "\t163 &  57 & Lane    & Antley       & lantley1k@tamu.edu           & 5000 & 2018-02-24 22:37:18 & Ciencias políticas                                        & 1\\\\\n",
       "\t287 & 712 & Ivie    & Antonopoulos & iantonopoulosjr@edublogs.org & 5000 & 2019-08-12 17:24:34 & Derecho                                                   & 1\\\\\n",
       "\t432 &   1 & Wanda   & Billington   & wbillington0@nsw.gov.au      & 5000 & 2020-05-17 22:49:29 & Ingeniería industrial, mecánica, electrónica y tecnología & 1\\\\\n",
       "\t648 & 736 & Fayette & Binden       & fbindenkf@senate.gov         & 5000 & 2018-05-23 16:32:49 & Industria de la alimentación                              & 1\\\\\n",
       "\t439 & 774 & Coletta & Bolesworth   & cbolesworthlh@gnu.org        & 5000 & 2019-08-18 00:05:40 & Ingeniería industrial, mecánica, electrónica y tecnología & 1\\\\\n",
       "\\end{tabular}\n"
      ],
      "text/markdown": [
       "\n",
       "A data.frame: 6 × 8\n",
       "\n",
       "| <!--/--> | alumno_id &lt;int&gt; | nombre &lt;chr&gt; | apellido &lt;chr&gt; | email &lt;chr&gt; | colegiatura &lt;int&gt; | fecha_incorporacion &lt;chr&gt; | carrera &lt;chr&gt; | vigente &lt;int&gt; |\n",
       "|---|---|---|---|---|---|---|---|---|\n",
       "| 546 |  98 | Pepito  | Allison      | pallison2p@psu.edu           | 5000 | 2019-04-20 13:07:23 | Ingeniería mecánica y metalurgia                          | 1 |\n",
       "| 163 |  57 | Lane    | Antley       | lantley1k@tamu.edu           | 5000 | 2018-02-24 22:37:18 | Ciencias políticas                                        | 1 |\n",
       "| 287 | 712 | Ivie    | Antonopoulos | iantonopoulosjr@edublogs.org | 5000 | 2019-08-12 17:24:34 | Derecho                                                   | 1 |\n",
       "| 432 |   1 | Wanda   | Billington   | wbillington0@nsw.gov.au      | 5000 | 2020-05-17 22:49:29 | Ingeniería industrial, mecánica, electrónica y tecnología | 1 |\n",
       "| 648 | 736 | Fayette | Binden       | fbindenkf@senate.gov         | 5000 | 2018-05-23 16:32:49 | Industria de la alimentación                              | 1 |\n",
       "| 439 | 774 | Coletta | Bolesworth   | cbolesworthlh@gnu.org        | 5000 | 2019-08-18 00:05:40 | Ingeniería industrial, mecánica, electrónica y tecnología | 1 |\n",
       "\n"
      ],
      "text/plain": [
       "    alumno_id nombre  apellido     email                        colegiatura\n",
       "546  98       Pepito  Allison      pallison2p@psu.edu           5000       \n",
       "163  57       Lane    Antley       lantley1k@tamu.edu           5000       \n",
       "287 712       Ivie    Antonopoulos iantonopoulosjr@edublogs.org 5000       \n",
       "432   1       Wanda   Billington   wbillington0@nsw.gov.au      5000       \n",
       "648 736       Fayette Binden       fbindenkf@senate.gov         5000       \n",
       "439 774       Coletta Bolesworth   cbolesworthlh@gnu.org        5000       \n",
       "    fecha_incorporacion\n",
       "546 2019-04-20 13:07:23\n",
       "163 2018-02-24 22:37:18\n",
       "287 2019-08-12 17:24:34\n",
       "432 2020-05-17 22:49:29\n",
       "648 2018-05-23 16:32:49\n",
       "439 2019-08-18 00:05:40\n",
       "    carrera                                                   vigente\n",
       "546 Ingeniería mecánica y metalurgia                          1      \n",
       "163 Ciencias políticas                                        1      \n",
       "287 Derecho                                                   1      \n",
       "432 Ingeniería industrial, mecánica, electrónica y tecnología 1      \n",
       "648 Industria de la alimentación                              1      \n",
       "439 Ingeniería industrial, mecánica, electrónica y tecnología 1      "
      ]
     },
     "metadata": {},
     "output_type": "display_data"
    }
   ],
   "source": [
    "head(df_top)"
   ]
  },
  {
   "cell_type": "code",
   "execution_count": 24,
   "metadata": {
    "vscode": {
     "languageId": "r"
    }
   },
   "outputs": [
    {
     "data": {
      "text/html": [],
      "text/latex": [],
      "text/markdown": [],
      "text/plain": [
       "<0 x 0 matrix>"
      ]
     },
     "metadata": {},
     "output_type": "display_data"
    }
   ],
   "source": [
    "query_insert_data <- \"\n",
    "INSERT INTO platzi.TopAlumnos VALUES(\n",
    "    98,\n",
    "    'Pepito',\n",
    "    'Allison',\n",
    "    'pallison2p@psu.edu',\n",
    "    5000,\n",
    "    '2019-04-20 13:07:23',\n",
    "    'Ingeniería mecánica y metalurgia',\n",
    "    1\n",
    "    );\n",
    "\"\n",
    "dbGetQuery(db_conn, statement = query_insert_data)"
   ]
  },
  {
   "cell_type": "code",
   "execution_count": 25,
   "metadata": {
    "vscode": {
     "languageId": "r"
    }
   },
   "outputs": [
    {
     "name": "stdout",
     "output_type": "stream",
     "text": [
      "[1] 1\n",
      "[1] 4\n",
      "[1] 9\n",
      "[1] 16\n",
      "[1] 25\n",
      "[1] 36\n",
      "[1] 49\n",
      "[1] 64\n",
      "[1] 81\n",
      "[1] 100\n"
     ]
    }
   ],
   "source": [
    "# Ejemplo For Loop:\n",
    "for(i in 1:10){\n",
    "    x1 <- i^2\n",
    "    print(x1)\n",
    "    }"
   ]
  },
  {
   "cell_type": "code",
   "execution_count": 26,
   "metadata": {
    "vscode": {
     "languageId": "r"
    }
   },
   "outputs": [
    {
     "data": {
      "text/html": [],
      "text/latex": [],
      "text/markdown": [],
      "text/plain": [
       "<0 x 0 matrix>"
      ]
     },
     "metadata": {},
     "output_type": "display_data"
    }
   ],
   "source": [
    "# Truncamos tabla:\n",
    "dbGetQuery(db_conn, statement = \"TRUNCATE TABLE platzi.TopAlumnos;\")"
   ]
  },
  {
   "cell_type": "code",
   "execution_count": 27,
   "metadata": {
    "vscode": {
     "languageId": "r"
    }
   },
   "outputs": [
    {
     "data": {
      "text/html": [
       "72"
      ],
      "text/latex": [
       "72"
      ],
      "text/markdown": [
       "72"
      ],
      "text/plain": [
       "[1] 72"
      ]
     },
     "metadata": {},
     "output_type": "display_data"
    }
   ],
   "source": [
    "n_rows <- dim(df_top)[1]\n",
    "n_rows"
   ]
  },
  {
   "cell_type": "code",
   "execution_count": 28,
   "metadata": {
    "vscode": {
     "languageId": "r"
    }
   },
   "outputs": [
    {
     "name": "stdout",
     "output_type": "stream",
     "text": [
      "[1] \"INSERT INTO platzi.TopAlumnos VALUES(98,'Pepito','Allison','pallison2p@psu.edu',5000,'2019-04-20 13:07:23','Ingeniería mecánica y metalurgia',1);\"\n",
      "[1] \"INSERT INTO platzi.TopAlumnos VALUES(57,'Lane','Antley','lantley1k@tamu.edu',5000,'2018-02-24 22:37:18','Ciencias políticas',1);\"\n",
      "[1] \"INSERT INTO platzi.TopAlumnos VALUES(712,'Ivie','Antonopoulos','iantonopoulosjr@edublogs.org',5000,'2019-08-12 17:24:34','Derecho',1);\"\n",
      "[1] \"INSERT INTO platzi.TopAlumnos VALUES(1,'Wanda','Billington','wbillington0@nsw.gov.au',5000,'2020-05-17 22:49:29','Ingeniería industrial, mecánica, electrónica y tecnología',1);\"\n",
      "[1] \"INSERT INTO platzi.TopAlumnos VALUES(736,'Fayette','Binden','fbindenkf@senate.gov',5000,'2018-05-23 16:32:49','Industria de la alimentación',1);\"\n",
      "[1] \"INSERT INTO platzi.TopAlumnos VALUES(774,'Coletta','Bolesworth','cbolesworthlh@gnu.org',5000,'2019-08-18 00:05:40','Ingeniería industrial, mecánica, electrónica y tecnología',1);\"\n",
      "[1] \"INSERT INTO platzi.TopAlumnos VALUES(996,'Lilla','Boullen','lboullenrn@europa.eu',5000,'2018-07-18 17:53:39','Derecho',1);\"\n",
      "[1] \"INSERT INTO platzi.TopAlumnos VALUES(522,'Alis','Bromehed','abromehedeh@bloglovin.com',5000,'2018-02-03 16:19:58','Trabajo y atención social',1);\"\n",
      "[1] \"INSERT INTO platzi.TopAlumnos VALUES(277,'Avigdor','Bromidge','abromidge7o@ihg.com',5000,'2019-01-26 17:08:30','Tecnologías de la información y comunicación',1);\"\n",
      "[1] \"INSERT INTO platzi.TopAlumnos VALUES(623,'Lyndell','Capewell','lcapewellha@desdev.cn',5000,'2018-08-30 17:41:58','Criminología',1);\"\n",
      "[1] \"INSERT INTO platzi.TopAlumnos VALUES(18,'Franklyn','China','fchinah@netvibes.com',5000,'2018-08-18 00:58:48','Ciencias de la información',1);\"\n",
      "[1] \"INSERT INTO platzi.TopAlumnos VALUES(887,'Inesita','Coddington','icoddingtonom@pcworld.com',5000,'2020-03-21 00:48:45','Educación',1);\"\n",
      "[1] \"INSERT INTO platzi.TopAlumnos VALUES(379,'Crawford','Creamer','ccreamerai@nba.com',5000,'2018-07-31 09:47:09','Criminología',1);\"\n",
      "[1] \"INSERT INTO platzi.TopAlumnos VALUES(896,'Zilvia','Daniells','zdaniellsov@unc.edu',5000,'2019-05-06 19:18:38','Ciencias sociales y estudios del comportamiento',1);\"\n",
      "[1] \"INSERT INTO platzi.TopAlumnos VALUES(147,'Albertine','de Keyser','adekeyser42@i2i.jp',5000,'2018-05-01 03:52:43','Ciencias de la educación, programas multidisciplinarios o generales',1);\"\n",
      "[1] \"INSERT INTO platzi.TopAlumnos VALUES(639,'Merrill','Delacroux','mdelacrouxhq@hhs.gov',5000,'2018-09-02 01:05:03','Minería y extracción',1);\"\n",
      "[1] \"INSERT INTO platzi.TopAlumnos VALUES(811,'Weber','Derye-Barrett','wderyebarrettmi@lulu.com',5000,'2019-01-26 19:31:48','Ciencias de la educación, programas multidisciplinarios o generales',1);\"\n",
      "[1] \"INSERT INTO platzi.TopAlumnos VALUES(19,'Shir','Dionisetto','sdionisettoi@google.com',5000,'2019-05-31 04:49:29','Minería y extracción',1);\"\n",
      "[1] \"INSERT INTO platzi.TopAlumnos VALUES(314,'Nate','Donnell','ndonnell8p@reuters.com',5000,'2019-11-06 16:40:36','Formación docente para otros servicios educativos',1);\"\n",
      "[1] \"INSERT INTO platzi.TopAlumnos VALUES(893,'Dulce','Drejer','ddrejeros@senate.gov',5000,'2018-05-01 19:51:07','Contabilidad y fiscalización',1);\"\n",
      "[1] \"INSERT INTO platzi.TopAlumnos VALUES(634,'Merrick','Dunnet','mdunnethl@uiuc.edu',5000,'2018-07-24 19:02:12','Negocios y administración',1);\"\n",
      "[1] \"INSERT INTO platzi.TopAlumnos VALUES(312,'Hendrik','Ekins','hekins8n@huffingtonpost.com',5000,'2020-05-07 12:41:49','Manufacturas y procesos, programas multidisciplinarios o generales',1);\"\n",
      "[1] \"INSERT INTO platzi.TopAlumnos VALUES(452,'Koressa','Exrol','kexrolcj@google.com.au',5000,'2019-07-24 18:33:06','Formación docente para educación física, artística o tecnológica',1);\"\n",
      "[1] \"INSERT INTO platzi.TopAlumnos VALUES(839,'Emlynne','Farnfield','efarnfieldna@wunderground.com',5000,'2020-02-28 07:53:14','Orientación y asesoría educativa',1);\"\n",
      "[1] \"INSERT INTO platzi.TopAlumnos VALUES(912,'Waldon','Franke','wfrankepb@hexun.com',5000,'2020-04-20 05:40:46','Formación docente para otros servicios educativos',1);\"\n",
      "[1] \"INSERT INTO platzi.TopAlumnos VALUES(36,'Wren','Gable','wgablez@sogou.com',5000,'2018-07-10 19:16:32','Ciencias políticas',1);\"\n",
      "[1] \"INSERT INTO platzi.TopAlumnos VALUES(549,'Christy','Gladwin','cgladwinf8@printfriendly.com',5000,'2018-09-23 23:42:03','Negocios y administración, programas multidisciplinarios o generales',1);\"\n",
      "[1] \"INSERT INTO platzi.TopAlumnos VALUES(613,'Dolorita','Grimme','dgrimmeh0@accuweather.com',5000,'2019-03-21 01:41:50','Derecho',1);\"\n",
      "[1] \"INSERT INTO platzi.TopAlumnos VALUES(219,'Conny','Hargreaves','chargreaves62@joomla.org',5000,'2018-10-19 05:47:38','Formación docente para otros servicios educativos',1);\"\n",
      "[1] \"INSERT INTO platzi.TopAlumnos VALUES(37,'Shaw','Harrill','sharrill10@princeton.edu',5000,'2018-06-07 08:25:26','Negocios y administración',1);\"\n",
      "[1] \"INSERT INTO platzi.TopAlumnos VALUES(354,'Glenna','Hussell','ghussell9t@squidoo.com',5000,'2018-05-01 09:46:05','Formación docente para educación física, artística o tecnológica',1);\"\n",
      "[1] \"INSERT INTO platzi.TopAlumnos VALUES(252,'Donaugh','Jeffcoat','djeffcoat6z@tuttocitta.it',5000,'2020-03-10 23:37:32','Industria de la alimentación',1);\"\n",
      "[1] \"INSERT INTO platzi.TopAlumnos VALUES(583,'Kirstin','Kencott','kkencottg6@wunderground.com',5000,'2017-12-14 12:31:27','Criminología',1);\"\n",
      "[1] \"INSERT INTO platzi.TopAlumnos VALUES(909,'Oralle','Launchbury','olaunchburyp8@free.fr',5000,'2020-07-11 22:20:10','Ciencias de la información',1);\"\n",
      "[1] \"INSERT INTO platzi.TopAlumnos VALUES(265,'Mollee','Ledward','mledward7c@google.it',5000,'2018-05-23 05:34:35','Formación docente para educación física, artística o tecnológica',1);\"\n",
      "[1] \"INSERT INTO platzi.TopAlumnos VALUES(577,'Ced','Lodo','clodog0@mtv.com',5000,'2020-08-16 10:46:17','Contabilidad y fiscalización',1);\"\n",
      "[1] \"INSERT INTO platzi.TopAlumnos VALUES(730,'Ariella','Marples','amarplesk9@mac.com',5000,'2020-03-05 06:24:47','Didáctica, pedagogía y currículo',1);\"\n",
      "[1] \"INSERT INTO platzi.TopAlumnos VALUES(107,'Hastings','McDonagh','hmcdonagh2y@hao123.com',5000,'2020-02-08 04:55:39','Formación docente para educación básica, nivel secundaria',1);\"\n",
      "[1] \"INSERT INTO platzi.TopAlumnos VALUES(496,'Ethe','McLay','emclaydr@dagondesign.com',5000,'2018-01-03 10:45:32','Formación docente para educación física, artística o tecnológica',1);\"\n",
      "[1] \"INSERT INTO platzi.TopAlumnos VALUES(460,'Bonnie','McLugish','bmclugishcr@flickr.com',5000,'2018-10-19 21:14:19','Ingeniería industrial, mecánica, electrónica y tecnología',1);\"\n",
      "[1] \"INSERT INTO platzi.TopAlumnos VALUES(749,'Aleksandr','Millhill','amillhillks@newsvine.com',5000,'2019-06-18 20:42:38','Negocios y administración',1);\"\n",
      "[1] \"INSERT INTO platzi.TopAlumnos VALUES(116,'Sollie','Mollnar','smollnar37@whitehouse.gov',5000,'2018-04-20 21:21:58','Ingeniería industrial, mecánica, electrónica y tecnología',1);\"\n",
      "[1] \"INSERT INTO platzi.TopAlumnos VALUES(553,'Valdemar','Mudie','vmudiefc@salon.com',5000,'2019-04-03 04:30:14','Ciencias de la educación, programas multidisciplinarios o generales',1);\"\n",
      "[1] \"INSERT INTO platzi.TopAlumnos VALUES(911,'Ewart','Parkman','eparkmanpa@fc2.com',5000,'2020-04-28 20:51:54','Formación docente para la enseñanza de asignaturas específicas',1);\"\n",
      "[1] \"INSERT INTO platzi.TopAlumnos VALUES(11,'Terri','Piercy','tpiercya@a8.net',5000,'2019-05-31 03:36:39','Tecnologías de la información y comunicación',1);\"\n",
      "[1] \"INSERT INTO platzi.TopAlumnos VALUES(916,'Lance','Proback','lprobackpf@army.mil',5000,'2018-03-28 02:12:20','Educación',1);\"\n",
      "[1] \"INSERT INTO platzi.TopAlumnos VALUES(128,'Mahalia','Qusklay','mqusklay3j@boston.com',5000,'2018-12-07 23:59:28','Ciencias de la información',1);\"\n",
      "[1] \"INSERT INTO platzi.TopAlumnos VALUES(630,'Sim','Rishworth','srishworthhh@howstuffworks.com',5000,'2019-03-28 10:33:39','Trabajo y atención social',1);\"\n",
      "[1] \"INSERT INTO platzi.TopAlumnos VALUES(340,'Alia','Robinson','arobinson9f@jiathis.com',5000,'2020-07-01 00:22:13','Ciencias de la información',1);\"\n",
      "[1] \"INSERT INTO platzi.TopAlumnos VALUES(642,'Delora','Rraundl','drraundlht@prweb.com',5000,'2018-02-17 08:38:27','Ciencias de la educación, programas multidisciplinarios o generales',1);\"\n",
      "[1] \"INSERT INTO platzi.TopAlumnos VALUES(54,'Rhianna','Saby','rsaby1h@dion.ne.jp',5000,'2019-10-20 16:49:57','Derecho',1);\"\n",
      "[1] \"INSERT INTO platzi.TopAlumnos VALUES(195,'Alejandro','Sculpher','asculpher5e@ucsd.edu',5000,'2017-12-04 01:00:34','Minería y extracción',1);\"\n",
      "[1] \"INSERT INTO platzi.TopAlumnos VALUES(908,'Craig','Sedwick','csedwickp7@webmd.com',5000,'2018-11-18 10:33:18','Formación docente para otros servicios educativos',1);\"\n",
      "[1] \"INSERT INTO platzi.TopAlumnos VALUES(26,'Sheryl','Shergill','sshergillp@cisco.com',5000,'2018-08-07 23:00:58','Formación docente para la enseñanza de asignaturas específicas',1);\"\n",
      "[1] \"INSERT INTO platzi.TopAlumnos VALUES(68,'Rorie','Simons','rsimons1v@issuu.com',5000,'2018-11-06 05:48:45','Ingeniería industrial, mecánica, electrónica y tecnología',1);\"\n",
      "[1] \"INSERT INTO platzi.TopAlumnos VALUES(674,'Michel','Sockell','msockellip@mozilla.org',5000,'2018-04-02 20:25:26','Ingeniería mecánica y metalurgia',1);\"\n",
      "[1] \"INSERT INTO platzi.TopAlumnos VALUES(834,'Karlie','Spataro','kspataron5@washington.edu',5000,'2018-04-08 05:10:19','Orientación y asesoría educativa',1);\"\n",
      "[1] \"INSERT INTO platzi.TopAlumnos VALUES(70,'Alexandr','Speariett','aspeariett1x@gov.uk',5000,'2018-10-13 12:01:45','Ingeniería industrial, mecánica, electrónica y tecnología',1);\"\n",
      "[1] \"INSERT INTO platzi.TopAlumnos VALUES(488,'Theressa','Storcke','tstorckedj@nytimes.com',5000,'2018-12-07 01:36:59','Formación docente para educación básica, nivel secundaria',1);\"\n",
      "[1] \"INSERT INTO platzi.TopAlumnos VALUES(33,'Barde','Turford','bturfordw@yale.edu',5000,'2019-09-23 12:54:06','Bellas artes',1);\"\n",
      "[1] \"INSERT INTO platzi.TopAlumnos VALUES(720,'Ambrosius','Valti','avaltijz@simplemachines.org',5000,'2020-07-17 21:30:03','Industria de la alimentación',1);\"\n",
      "[1] \"INSERT INTO platzi.TopAlumnos VALUES(48,'Erhart','Welford','ewelford1b@soup.io',5000,'2020-05-24 22:32:15','Derecho',1);\"\n",
      "[1] \"INSERT INTO platzi.TopAlumnos VALUES(849,'Gustave','Wooland','gwoolandnk@delicious.com',5000,'2018-12-29 14:26:11','Derecho',1);\"\n",
      "[1] \"INSERT INTO platzi.TopAlumnos VALUES(625,'Nickolaus','NA','ngodlontonhc@fc2.com',5000,'2020-08-09 11:06:20','Negocios y administración',1);\"\n",
      "[1] \"INSERT INTO platzi.TopAlumnos VALUES(29,'Hendrika','NA','hcampas@devhub.com',5000,'2017-10-05 05:42:13','Contabilidad y fiscalización',1);\"\n",
      "[1] \"INSERT INTO platzi.TopAlumnos VALUES(622,'Matthus','NA','mgaynsfordh9@discuz.net',5000,'2019-11-01 18:33:27','Ciencias de la información',1);\"\n",
      "[1] \"INSERT INTO platzi.TopAlumnos VALUES(352,'Eugenia','NA','espreag9r@addthis.com',5000,'2018-11-16 01:36:16','Ingeniería mecánica y metalurgia',1);\"\n",
      "[1] \"INSERT INTO platzi.TopAlumnos VALUES(520,'Edin','NA','ecoaleef@yandex.ru',5000,'2020-07-31 20:58:10','Ingeniería mecánica y metalurgia',1);\"\n",
      "[1] \"INSERT INTO platzi.TopAlumnos VALUES(22,'Ashien','NA','aromel@bluehost.com',5000,'2017-09-15 15:46:56','Tecnologías de la información y comunicación',1);\"\n",
      "[1] \"INSERT INTO platzi.TopAlumnos VALUES(273,'Roldan','NA','rkeddle7k@edublogs.org',5000,'2017-10-02 07:37:43','Formación docente para educación física, artística o tecnológica',1);\"\n",
      "[1] \"INSERT INTO platzi.TopAlumnos VALUES(474,'Judi','NA','jkupperd5@foxnews.com',5000,'2018-05-27 20:43:12','Formación docente para educación física, artística o tecnológica',1);\"\n",
      "[1] \"INSERT INTO platzi.TopAlumnos VALUES(672,'Bunny','NA','bmcdowellin@yandex.ru',5000,'2020-03-12 16:00:02','Didáctica, pedagogía y currículo',1);\"\n"
     ]
    }
   ],
   "source": [
    "for(i in 1:n_rows){\n",
    "    query_insert_data <- paste(\n",
    "        \"INSERT INTO platzi.TopAlumnos VALUES(\",\n",
    "        df_top[i,1],\n",
    "        \",'\",\n",
    "        df_top[i,2],\n",
    "        \"','\",\n",
    "        df_top[i,3],\n",
    "        \"','\",\n",
    "        df_top[i,4],\n",
    "        \"',\",\n",
    "        df_top[i,5],\n",
    "        \",'\",\n",
    "        df_top[i,6],\n",
    "        \"','\",\n",
    "        df_top[i,7],\n",
    "        \"',\",\n",
    "        df_top[i,8],\n",
    "        \");\"\n",
    "        ,sep=\"\")\n",
    "\n",
    "    print(query_insert_data)\n",
    "    dbGetQuery(db_conn, statement = query_insert_data)\n",
    "}"
   ]
  },
  {
   "cell_type": "code",
   "execution_count": 29,
   "metadata": {
    "vscode": {
     "languageId": "r"
    }
   },
   "outputs": [
    {
     "data": {
      "text/html": [
       "TRUE"
      ],
      "text/latex": [
       "TRUE"
      ],
      "text/markdown": [
       "TRUE"
      ],
      "text/plain": [
       "[1] TRUE"
      ]
     },
     "metadata": {},
     "output_type": "display_data"
    }
   ],
   "source": [
    "# Cerramos conexión:\n",
    "dbDisconnect(db_conn)"
   ]
  },
  {
   "cell_type": "code",
   "execution_count": null,
   "metadata": {
    "vscode": {
     "languageId": "r"
    }
   },
   "outputs": [],
   "source": []
  }
 ],
 "metadata": {
  "kernelspec": {
   "display_name": "R",
   "language": "R",
   "name": "ir"
  },
  "language_info": {
   "codemirror_mode": "r",
   "file_extension": ".r",
   "mimetype": "text/x-r-source",
   "name": "R",
   "pygments_lexer": "r",
   "version": "4.3.0"
  },
  "orig_nbformat": 4
 },
 "nbformat": 4,
 "nbformat_minor": 2
}
