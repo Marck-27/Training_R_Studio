{
 "cells": [
  {
   "cell_type": "markdown",
   "metadata": {},
   "source": [
    "# Modificando la forma de las tablas"
   ]
  },
  {
   "cell_type": "code",
   "execution_count": 1,
   "metadata": {
    "vscode": {
     "languageId": "r"
    }
   },
   "outputs": [],
   "source": [
    "# install.packages('tidyr')\n",
    "# install.packages('data.table')"
   ]
  },
  {
   "cell_type": "code",
   "execution_count": 2,
   "metadata": {
    "vscode": {
     "languageId": "r"
    }
   },
   "outputs": [],
   "source": [
    "library(tidyr)\n",
    "library(data.table)"
   ]
  },
  {
   "cell_type": "code",
   "execution_count": 3,
   "metadata": {
    "vscode": {
     "languageId": "r"
    }
   },
   "outputs": [
    {
     "data": {
      "text/html": [
       "<table class=\"dataframe\">\n",
       "<caption>A data.frame: 3 × 4</caption>\n",
       "<thead>\n",
       "\t<tr><th scope=col>anio</th><th scope=col>enero</th><th scope=col>febrero</th><th scope=col>marzo</th></tr>\n",
       "\t<tr><th scope=col>&lt;int&gt;</th><th scope=col>&lt;dbl&gt;</th><th scope=col>&lt;dbl&gt;</th><th scope=col>&lt;dbl&gt;</th></tr>\n",
       "</thead>\n",
       "<tbody>\n",
       "\t<tr><td>2018</td><td>120</td><td> 80</td><td>110</td></tr>\n",
       "\t<tr><td>2019</td><td>100</td><td> 90</td><td>150</td></tr>\n",
       "\t<tr><td>2020</td><td> 80</td><td>140</td><td> 70</td></tr>\n",
       "</tbody>\n",
       "</table>\n"
      ],
      "text/latex": [
       "A data.frame: 3 × 4\n",
       "\\begin{tabular}{llll}\n",
       " anio & enero & febrero & marzo\\\\\n",
       " <int> & <dbl> & <dbl> & <dbl>\\\\\n",
       "\\hline\n",
       "\t 2018 & 120 &  80 & 110\\\\\n",
       "\t 2019 & 100 &  90 & 150\\\\\n",
       "\t 2020 &  80 & 140 &  70\\\\\n",
       "\\end{tabular}\n"
      ],
      "text/markdown": [
       "\n",
       "A data.frame: 3 × 4\n",
       "\n",
       "| anio &lt;int&gt; | enero &lt;dbl&gt; | febrero &lt;dbl&gt; | marzo &lt;dbl&gt; |\n",
       "|---|---|---|---|\n",
       "| 2018 | 120 |  80 | 110 |\n",
       "| 2019 | 100 |  90 | 150 |\n",
       "| 2020 |  80 | 140 |  70 |\n",
       "\n"
      ],
      "text/plain": [
       "  anio enero febrero marzo\n",
       "1 2018 120    80     110  \n",
       "2 2019 100    90     150  \n",
       "3 2020  80   140      70  "
      ]
     },
     "metadata": {},
     "output_type": "display_data"
    }
   ],
   "source": [
    "anio <- c(2018:2020)\n",
    "enero <- c(120,100,80)\n",
    "febrero <- c(80,90,140)\n",
    "marzo <- c(110,150,70)\n",
    "\n",
    "df <- data.frame(anio=anio, enero=enero, febrero=febrero, marzo=marzo)\n",
    "df"
   ]
  },
  {
   "cell_type": "markdown",
   "metadata": {},
   "source": [
    "### Agrupamos columnas"
   ]
  },
  {
   "cell_type": "code",
   "execution_count": 4,
   "metadata": {
    "vscode": {
     "languageId": "r"
    }
   },
   "outputs": [
    {
     "data": {
      "text/html": [
       "<table class=\"dataframe\">\n",
       "<caption>A data.frame: 9 × 3</caption>\n",
       "<thead>\n",
       "\t<tr><th scope=col>anio</th><th scope=col>Mes</th><th scope=col>Ingresos</th></tr>\n",
       "\t<tr><th scope=col>&lt;int&gt;</th><th scope=col>&lt;chr&gt;</th><th scope=col>&lt;dbl&gt;</th></tr>\n",
       "</thead>\n",
       "<tbody>\n",
       "\t<tr><td>2018</td><td>enero  </td><td>120</td></tr>\n",
       "\t<tr><td>2019</td><td>enero  </td><td>100</td></tr>\n",
       "\t<tr><td>2020</td><td>enero  </td><td> 80</td></tr>\n",
       "\t<tr><td>2018</td><td>febrero</td><td> 80</td></tr>\n",
       "\t<tr><td>2019</td><td>febrero</td><td> 90</td></tr>\n",
       "\t<tr><td>2020</td><td>febrero</td><td>140</td></tr>\n",
       "\t<tr><td>2018</td><td>marzo  </td><td>110</td></tr>\n",
       "\t<tr><td>2019</td><td>marzo  </td><td>150</td></tr>\n",
       "\t<tr><td>2020</td><td>marzo  </td><td> 70</td></tr>\n",
       "</tbody>\n",
       "</table>\n"
      ],
      "text/latex": [
       "A data.frame: 9 × 3\n",
       "\\begin{tabular}{lll}\n",
       " anio & Mes & Ingresos\\\\\n",
       " <int> & <chr> & <dbl>\\\\\n",
       "\\hline\n",
       "\t 2018 & enero   & 120\\\\\n",
       "\t 2019 & enero   & 100\\\\\n",
       "\t 2020 & enero   &  80\\\\\n",
       "\t 2018 & febrero &  80\\\\\n",
       "\t 2019 & febrero &  90\\\\\n",
       "\t 2020 & febrero & 140\\\\\n",
       "\t 2018 & marzo   & 110\\\\\n",
       "\t 2019 & marzo   & 150\\\\\n",
       "\t 2020 & marzo   &  70\\\\\n",
       "\\end{tabular}\n"
      ],
      "text/markdown": [
       "\n",
       "A data.frame: 9 × 3\n",
       "\n",
       "| anio &lt;int&gt; | Mes &lt;chr&gt; | Ingresos &lt;dbl&gt; |\n",
       "|---|---|---|\n",
       "| 2018 | enero   | 120 |\n",
       "| 2019 | enero   | 100 |\n",
       "| 2020 | enero   |  80 |\n",
       "| 2018 | febrero |  80 |\n",
       "| 2019 | febrero |  90 |\n",
       "| 2020 | febrero | 140 |\n",
       "| 2018 | marzo   | 110 |\n",
       "| 2019 | marzo   | 150 |\n",
       "| 2020 | marzo   |  70 |\n",
       "\n"
      ],
      "text/plain": [
       "  anio Mes     Ingresos\n",
       "1 2018 enero   120     \n",
       "2 2019 enero   100     \n",
       "3 2020 enero    80     \n",
       "4 2018 febrero  80     \n",
       "5 2019 febrero  90     \n",
       "6 2020 febrero 140     \n",
       "7 2018 marzo   110     \n",
       "8 2019 marzo   150     \n",
       "9 2020 marzo    70     "
      ]
     },
     "metadata": {},
     "output_type": "display_data"
    }
   ],
   "source": [
    "df1 <- gather(df, Mes, Ingresos, enero,febrero, marzo)\n",
    "df1"
   ]
  },
  {
   "cell_type": "code",
   "execution_count": 5,
   "metadata": {
    "vscode": {
     "languageId": "r"
    }
   },
   "outputs": [
    {
     "data": {
      "text/html": [
       "<table class=\"dataframe\">\n",
       "<caption>A data.frame: 9 × 3</caption>\n",
       "<thead>\n",
       "\t<tr><th scope=col>anio</th><th scope=col>Mes</th><th scope=col>Ingresos</th></tr>\n",
       "\t<tr><th scope=col>&lt;int&gt;</th><th scope=col>&lt;chr&gt;</th><th scope=col>&lt;dbl&gt;</th></tr>\n",
       "</thead>\n",
       "<tbody>\n",
       "\t<tr><td>2018</td><td>enero  </td><td>120</td></tr>\n",
       "\t<tr><td>2019</td><td>enero  </td><td>100</td></tr>\n",
       "\t<tr><td>2020</td><td>enero  </td><td> 80</td></tr>\n",
       "\t<tr><td>2018</td><td>febrero</td><td> 80</td></tr>\n",
       "\t<tr><td>2019</td><td>febrero</td><td> 90</td></tr>\n",
       "\t<tr><td>2020</td><td>febrero</td><td>140</td></tr>\n",
       "\t<tr><td>2018</td><td>marzo  </td><td>110</td></tr>\n",
       "\t<tr><td>2019</td><td>marzo  </td><td>150</td></tr>\n",
       "\t<tr><td>2020</td><td>marzo  </td><td> 70</td></tr>\n",
       "</tbody>\n",
       "</table>\n"
      ],
      "text/latex": [
       "A data.frame: 9 × 3\n",
       "\\begin{tabular}{lll}\n",
       " anio & Mes & Ingresos\\\\\n",
       " <int> & <chr> & <dbl>\\\\\n",
       "\\hline\n",
       "\t 2018 & enero   & 120\\\\\n",
       "\t 2019 & enero   & 100\\\\\n",
       "\t 2020 & enero   &  80\\\\\n",
       "\t 2018 & febrero &  80\\\\\n",
       "\t 2019 & febrero &  90\\\\\n",
       "\t 2020 & febrero & 140\\\\\n",
       "\t 2018 & marzo   & 110\\\\\n",
       "\t 2019 & marzo   & 150\\\\\n",
       "\t 2020 & marzo   &  70\\\\\n",
       "\\end{tabular}\n"
      ],
      "text/markdown": [
       "\n",
       "A data.frame: 9 × 3\n",
       "\n",
       "| anio &lt;int&gt; | Mes &lt;chr&gt; | Ingresos &lt;dbl&gt; |\n",
       "|---|---|---|\n",
       "| 2018 | enero   | 120 |\n",
       "| 2019 | enero   | 100 |\n",
       "| 2020 | enero   |  80 |\n",
       "| 2018 | febrero |  80 |\n",
       "| 2019 | febrero |  90 |\n",
       "| 2020 | febrero | 140 |\n",
       "| 2018 | marzo   | 110 |\n",
       "| 2019 | marzo   | 150 |\n",
       "| 2020 | marzo   |  70 |\n",
       "\n"
      ],
      "text/plain": [
       "  anio Mes     Ingresos\n",
       "1 2018 enero   120     \n",
       "2 2019 enero   100     \n",
       "3 2020 enero    80     \n",
       "4 2018 febrero  80     \n",
       "5 2019 febrero  90     \n",
       "6 2020 febrero 140     \n",
       "7 2018 marzo   110     \n",
       "8 2019 marzo   150     \n",
       "9 2020 marzo    70     "
      ]
     },
     "metadata": {},
     "output_type": "display_data"
    }
   ],
   "source": [
    "# Colección de datos con \"Gather\"\n",
    "df1 <- gather(df, Mes, Ingresos, enero:marzo)\n",
    "df1"
   ]
  },
  {
   "cell_type": "code",
   "execution_count": 6,
   "metadata": {
    "vscode": {
     "languageId": "r"
    }
   },
   "outputs": [
    {
     "data": {
      "text/html": [
       "<table class=\"dataframe\">\n",
       "<caption>A data.frame: 3 × 4</caption>\n",
       "<thead>\n",
       "\t<tr><th scope=col>anio</th><th scope=col>enero</th><th scope=col>febrero</th><th scope=col>marzo</th></tr>\n",
       "\t<tr><th scope=col>&lt;int&gt;</th><th scope=col>&lt;dbl&gt;</th><th scope=col>&lt;dbl&gt;</th><th scope=col>&lt;dbl&gt;</th></tr>\n",
       "</thead>\n",
       "<tbody>\n",
       "\t<tr><td>2018</td><td>120</td><td> 80</td><td>110</td></tr>\n",
       "\t<tr><td>2019</td><td>100</td><td> 90</td><td>150</td></tr>\n",
       "\t<tr><td>2020</td><td> 80</td><td>140</td><td> 70</td></tr>\n",
       "</tbody>\n",
       "</table>\n"
      ],
      "text/latex": [
       "A data.frame: 3 × 4\n",
       "\\begin{tabular}{llll}\n",
       " anio & enero & febrero & marzo\\\\\n",
       " <int> & <dbl> & <dbl> & <dbl>\\\\\n",
       "\\hline\n",
       "\t 2018 & 120 &  80 & 110\\\\\n",
       "\t 2019 & 100 &  90 & 150\\\\\n",
       "\t 2020 &  80 & 140 &  70\\\\\n",
       "\\end{tabular}\n"
      ],
      "text/markdown": [
       "\n",
       "A data.frame: 3 × 4\n",
       "\n",
       "| anio &lt;int&gt; | enero &lt;dbl&gt; | febrero &lt;dbl&gt; | marzo &lt;dbl&gt; |\n",
       "|---|---|---|---|\n",
       "| 2018 | 120 |  80 | 110 |\n",
       "| 2019 | 100 |  90 | 150 |\n",
       "| 2020 |  80 | 140 |  70 |\n",
       "\n"
      ],
      "text/plain": [
       "  anio enero febrero marzo\n",
       "1 2018 120    80     110  \n",
       "2 2019 100    90     150  \n",
       "3 2020  80   140      70  "
      ]
     },
     "metadata": {},
     "output_type": "display_data"
    }
   ],
   "source": [
    "# Regresamos al formato anterior:\n",
    "df2 <- spread(df1, Mes, Ingresos)\n",
    "df2"
   ]
  },
  {
   "cell_type": "markdown",
   "metadata": {},
   "source": [
    "### Separación de una columna en dos nuevas"
   ]
  },
  {
   "cell_type": "code",
   "execution_count": 7,
   "metadata": {
    "vscode": {
     "languageId": "r"
    }
   },
   "outputs": [
    {
     "data": {
      "text/html": [
       "<table class=\"dataframe\">\n",
       "<caption>A data.frame: 3 × 1</caption>\n",
       "<thead>\n",
       "\t<tr><th scope=col>columna</th></tr>\n",
       "\t<tr><th scope=col>&lt;chr&gt;</th></tr>\n",
       "</thead>\n",
       "<tbody>\n",
       "\t<tr><td>a.b</td></tr>\n",
       "\t<tr><td>c.d</td></tr>\n",
       "\t<tr><td>e.f</td></tr>\n",
       "</tbody>\n",
       "</table>\n"
      ],
      "text/latex": [
       "A data.frame: 3 × 1\n",
       "\\begin{tabular}{l}\n",
       " columna\\\\\n",
       " <chr>\\\\\n",
       "\\hline\n",
       "\t a.b\\\\\n",
       "\t c.d\\\\\n",
       "\t e.f\\\\\n",
       "\\end{tabular}\n"
      ],
      "text/markdown": [
       "\n",
       "A data.frame: 3 × 1\n",
       "\n",
       "| columna &lt;chr&gt; |\n",
       "|---|\n",
       "| a.b |\n",
       "| c.d |\n",
       "| e.f |\n",
       "\n"
      ],
      "text/plain": [
       "  columna\n",
       "1 a.b    \n",
       "2 c.d    \n",
       "3 e.f    "
      ]
     },
     "metadata": {},
     "output_type": "display_data"
    }
   ],
   "source": [
    "df_dot <- data.frame(columna = c('a.b','c.d','e.f'))\n",
    "df_dot"
   ]
  },
  {
   "cell_type": "code",
   "execution_count": 8,
   "metadata": {
    "vscode": {
     "languageId": "r"
    }
   },
   "outputs": [
    {
     "data": {
      "text/html": [
       "<table class=\"dataframe\">\n",
       "<caption>A data.frame: 3 × 2</caption>\n",
       "<thead>\n",
       "\t<tr><th scope=col>c1</th><th scope=col>c2</th></tr>\n",
       "\t<tr><th scope=col>&lt;chr&gt;</th><th scope=col>&lt;chr&gt;</th></tr>\n",
       "</thead>\n",
       "<tbody>\n",
       "\t<tr><td>a</td><td>b</td></tr>\n",
       "\t<tr><td>c</td><td>d</td></tr>\n",
       "\t<tr><td>e</td><td>f</td></tr>\n",
       "</tbody>\n",
       "</table>\n"
      ],
      "text/latex": [
       "A data.frame: 3 × 2\n",
       "\\begin{tabular}{ll}\n",
       " c1 & c2\\\\\n",
       " <chr> & <chr>\\\\\n",
       "\\hline\n",
       "\t a & b\\\\\n",
       "\t c & d\\\\\n",
       "\t e & f\\\\\n",
       "\\end{tabular}\n"
      ],
      "text/markdown": [
       "\n",
       "A data.frame: 3 × 2\n",
       "\n",
       "| c1 &lt;chr&gt; | c2 &lt;chr&gt; |\n",
       "|---|---|\n",
       "| a | b |\n",
       "| c | d |\n",
       "| e | f |\n",
       "\n"
      ],
      "text/plain": [
       "  c1 c2\n",
       "1 a  b \n",
       "2 c  d \n",
       "3 e  f "
      ]
     },
     "metadata": {},
     "output_type": "display_data"
    }
   ],
   "source": [
    "df3 <- separate(df_dot, columna, c('c1','c2'))\n",
    "df3"
   ]
  },
  {
   "cell_type": "markdown",
   "metadata": {},
   "source": [
    "### Uniónn de dos columnas en una sola"
   ]
  },
  {
   "cell_type": "code",
   "execution_count": 9,
   "metadata": {
    "vscode": {
     "languageId": "r"
    }
   },
   "outputs": [
    {
     "data": {
      "text/html": [
       "<table class=\"dataframe\">\n",
       "<caption>A data.frame: 3 × 1</caption>\n",
       "<thead>\n",
       "\t<tr><th scope=col>columna_sola</th></tr>\n",
       "\t<tr><th scope=col>&lt;chr&gt;</th></tr>\n",
       "</thead>\n",
       "<tbody>\n",
       "\t<tr><td>a,b</td></tr>\n",
       "\t<tr><td>c,d</td></tr>\n",
       "\t<tr><td>e,f</td></tr>\n",
       "</tbody>\n",
       "</table>\n"
      ],
      "text/latex": [
       "A data.frame: 3 × 1\n",
       "\\begin{tabular}{l}\n",
       " columna\\_sola\\\\\n",
       " <chr>\\\\\n",
       "\\hline\n",
       "\t a,b\\\\\n",
       "\t c,d\\\\\n",
       "\t e,f\\\\\n",
       "\\end{tabular}\n"
      ],
      "text/markdown": [
       "\n",
       "A data.frame: 3 × 1\n",
       "\n",
       "| columna_sola &lt;chr&gt; |\n",
       "|---|\n",
       "| a,b |\n",
       "| c,d |\n",
       "| e,f |\n",
       "\n"
      ],
      "text/plain": [
       "  columna_sola\n",
       "1 a,b         \n",
       "2 c,d         \n",
       "3 e,f         "
      ]
     },
     "metadata": {},
     "output_type": "display_data"
    }
   ],
   "source": [
    "df4 <- unite(df3, columna_sola, c1,c2, sep=',')\n",
    "df4"
   ]
  },
  {
   "cell_type": "code",
   "execution_count": null,
   "metadata": {
    "vscode": {
     "languageId": "r"
    }
   },
   "outputs": [],
   "source": []
  }
 ],
 "metadata": {
  "kernelspec": {
   "display_name": "R",
   "language": "R",
   "name": "ir"
  },
  "language_info": {
   "codemirror_mode": "r",
   "file_extension": ".r",
   "mimetype": "text/x-r-source",
   "name": "R",
   "pygments_lexer": "r",
   "version": "4.3.1"
  },
  "orig_nbformat": 4
 },
 "nbformat": 4,
 "nbformat_minor": 2
}
