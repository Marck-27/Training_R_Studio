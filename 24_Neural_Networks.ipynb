{
 "cells": [
  {
   "cell_type": "code",
   "execution_count": 1,
   "metadata": {
    "vscode": {
     "languageId": "r"
    }
   },
   "outputs": [],
   "source": [
    "# librería que contiene el dataset \"Boston\" correspondiente a precios de casas de acuerdo a sus características\n",
    "# install.packages(\"MASS\")\n",
    "library(MASS)\n",
    "\n",
    "# paquete para particionar datos para prueba y entrenamiento:\n",
    "# install.packages('caTools')\n",
    "library(caTools)\n",
    "\n",
    "# Paquete para usar redes neuronales:\n",
    "# install.packages(\"neuralnet\")\n",
    "library(neuralnet)\n",
    "\n",
    "library(ggplot2)"
   ]
  },
  {
   "cell_type": "markdown",
   "metadata": {},
   "source": [
    "## Cargamos dataset"
   ]
  },
  {
   "cell_type": "code",
   "execution_count": 2,
   "metadata": {
    "vscode": {
     "languageId": "r"
    }
   },
   "outputs": [
    {
     "data": {
      "text/html": [
       "'data.frame'"
      ],
      "text/latex": [
       "'data.frame'"
      ],
      "text/markdown": [
       "'data.frame'"
      ],
      "text/plain": [
       "[1] \"data.frame\""
      ]
     },
     "metadata": {},
     "output_type": "display_data"
    }
   ],
   "source": [
    "df <- Boston\n",
    "class(df)"
   ]
  },
  {
   "cell_type": "code",
   "execution_count": 3,
   "metadata": {
    "vscode": {
     "languageId": "r"
    }
   },
   "outputs": [
    {
     "data": {
      "text/html": [
       "<table class=\"dataframe\">\n",
       "<caption>A data.frame: 6 × 14</caption>\n",
       "<thead>\n",
       "\t<tr><th></th><th scope=col>crim</th><th scope=col>zn</th><th scope=col>indus</th><th scope=col>chas</th><th scope=col>nox</th><th scope=col>rm</th><th scope=col>age</th><th scope=col>dis</th><th scope=col>rad</th><th scope=col>tax</th><th scope=col>ptratio</th><th scope=col>black</th><th scope=col>lstat</th><th scope=col>medv</th></tr>\n",
       "\t<tr><th></th><th scope=col>&lt;dbl&gt;</th><th scope=col>&lt;dbl&gt;</th><th scope=col>&lt;dbl&gt;</th><th scope=col>&lt;int&gt;</th><th scope=col>&lt;dbl&gt;</th><th scope=col>&lt;dbl&gt;</th><th scope=col>&lt;dbl&gt;</th><th scope=col>&lt;dbl&gt;</th><th scope=col>&lt;int&gt;</th><th scope=col>&lt;dbl&gt;</th><th scope=col>&lt;dbl&gt;</th><th scope=col>&lt;dbl&gt;</th><th scope=col>&lt;dbl&gt;</th><th scope=col>&lt;dbl&gt;</th></tr>\n",
       "</thead>\n",
       "<tbody>\n",
       "\t<tr><th scope=row>1</th><td>0.00632</td><td>18</td><td>2.31</td><td>0</td><td>0.538</td><td>6.575</td><td>65.2</td><td>4.0900</td><td>1</td><td>296</td><td>15.3</td><td>396.90</td><td>4.98</td><td>24.0</td></tr>\n",
       "\t<tr><th scope=row>2</th><td>0.02731</td><td> 0</td><td>7.07</td><td>0</td><td>0.469</td><td>6.421</td><td>78.9</td><td>4.9671</td><td>2</td><td>242</td><td>17.8</td><td>396.90</td><td>9.14</td><td>21.6</td></tr>\n",
       "\t<tr><th scope=row>3</th><td>0.02729</td><td> 0</td><td>7.07</td><td>0</td><td>0.469</td><td>7.185</td><td>61.1</td><td>4.9671</td><td>2</td><td>242</td><td>17.8</td><td>392.83</td><td>4.03</td><td>34.7</td></tr>\n",
       "\t<tr><th scope=row>4</th><td>0.03237</td><td> 0</td><td>2.18</td><td>0</td><td>0.458</td><td>6.998</td><td>45.8</td><td>6.0622</td><td>3</td><td>222</td><td>18.7</td><td>394.63</td><td>2.94</td><td>33.4</td></tr>\n",
       "\t<tr><th scope=row>5</th><td>0.06905</td><td> 0</td><td>2.18</td><td>0</td><td>0.458</td><td>7.147</td><td>54.2</td><td>6.0622</td><td>3</td><td>222</td><td>18.7</td><td>396.90</td><td>5.33</td><td>36.2</td></tr>\n",
       "\t<tr><th scope=row>6</th><td>0.02985</td><td> 0</td><td>2.18</td><td>0</td><td>0.458</td><td>6.430</td><td>58.7</td><td>6.0622</td><td>3</td><td>222</td><td>18.7</td><td>394.12</td><td>5.21</td><td>28.7</td></tr>\n",
       "</tbody>\n",
       "</table>\n"
      ],
      "text/latex": [
       "A data.frame: 6 × 14\n",
       "\\begin{tabular}{r|llllllllllllll}\n",
       "  & crim & zn & indus & chas & nox & rm & age & dis & rad & tax & ptratio & black & lstat & medv\\\\\n",
       "  & <dbl> & <dbl> & <dbl> & <int> & <dbl> & <dbl> & <dbl> & <dbl> & <int> & <dbl> & <dbl> & <dbl> & <dbl> & <dbl>\\\\\n",
       "\\hline\n",
       "\t1 & 0.00632 & 18 & 2.31 & 0 & 0.538 & 6.575 & 65.2 & 4.0900 & 1 & 296 & 15.3 & 396.90 & 4.98 & 24.0\\\\\n",
       "\t2 & 0.02731 &  0 & 7.07 & 0 & 0.469 & 6.421 & 78.9 & 4.9671 & 2 & 242 & 17.8 & 396.90 & 9.14 & 21.6\\\\\n",
       "\t3 & 0.02729 &  0 & 7.07 & 0 & 0.469 & 7.185 & 61.1 & 4.9671 & 2 & 242 & 17.8 & 392.83 & 4.03 & 34.7\\\\\n",
       "\t4 & 0.03237 &  0 & 2.18 & 0 & 0.458 & 6.998 & 45.8 & 6.0622 & 3 & 222 & 18.7 & 394.63 & 2.94 & 33.4\\\\\n",
       "\t5 & 0.06905 &  0 & 2.18 & 0 & 0.458 & 7.147 & 54.2 & 6.0622 & 3 & 222 & 18.7 & 396.90 & 5.33 & 36.2\\\\\n",
       "\t6 & 0.02985 &  0 & 2.18 & 0 & 0.458 & 6.430 & 58.7 & 6.0622 & 3 & 222 & 18.7 & 394.12 & 5.21 & 28.7\\\\\n",
       "\\end{tabular}\n"
      ],
      "text/markdown": [
       "\n",
       "A data.frame: 6 × 14\n",
       "\n",
       "| <!--/--> | crim &lt;dbl&gt; | zn &lt;dbl&gt; | indus &lt;dbl&gt; | chas &lt;int&gt; | nox &lt;dbl&gt; | rm &lt;dbl&gt; | age &lt;dbl&gt; | dis &lt;dbl&gt; | rad &lt;int&gt; | tax &lt;dbl&gt; | ptratio &lt;dbl&gt; | black &lt;dbl&gt; | lstat &lt;dbl&gt; | medv &lt;dbl&gt; |\n",
       "|---|---|---|---|---|---|---|---|---|---|---|---|---|---|---|\n",
       "| 1 | 0.00632 | 18 | 2.31 | 0 | 0.538 | 6.575 | 65.2 | 4.0900 | 1 | 296 | 15.3 | 396.90 | 4.98 | 24.0 |\n",
       "| 2 | 0.02731 |  0 | 7.07 | 0 | 0.469 | 6.421 | 78.9 | 4.9671 | 2 | 242 | 17.8 | 396.90 | 9.14 | 21.6 |\n",
       "| 3 | 0.02729 |  0 | 7.07 | 0 | 0.469 | 7.185 | 61.1 | 4.9671 | 2 | 242 | 17.8 | 392.83 | 4.03 | 34.7 |\n",
       "| 4 | 0.03237 |  0 | 2.18 | 0 | 0.458 | 6.998 | 45.8 | 6.0622 | 3 | 222 | 18.7 | 394.63 | 2.94 | 33.4 |\n",
       "| 5 | 0.06905 |  0 | 2.18 | 0 | 0.458 | 7.147 | 54.2 | 6.0622 | 3 | 222 | 18.7 | 396.90 | 5.33 | 36.2 |\n",
       "| 6 | 0.02985 |  0 | 2.18 | 0 | 0.458 | 6.430 | 58.7 | 6.0622 | 3 | 222 | 18.7 | 394.12 | 5.21 | 28.7 |\n",
       "\n"
      ],
      "text/plain": [
       "  crim    zn indus chas nox   rm    age  dis    rad tax ptratio black  lstat\n",
       "1 0.00632 18 2.31  0    0.538 6.575 65.2 4.0900 1   296 15.3    396.90 4.98 \n",
       "2 0.02731  0 7.07  0    0.469 6.421 78.9 4.9671 2   242 17.8    396.90 9.14 \n",
       "3 0.02729  0 7.07  0    0.469 7.185 61.1 4.9671 2   242 17.8    392.83 4.03 \n",
       "4 0.03237  0 2.18  0    0.458 6.998 45.8 6.0622 3   222 18.7    394.63 2.94 \n",
       "5 0.06905  0 2.18  0    0.458 7.147 54.2 6.0622 3   222 18.7    396.90 5.33 \n",
       "6 0.02985  0 2.18  0    0.458 6.430 58.7 6.0622 3   222 18.7    394.12 5.21 \n",
       "  medv\n",
       "1 24.0\n",
       "2 21.6\n",
       "3 34.7\n",
       "4 33.4\n",
       "5 36.2\n",
       "6 28.7"
      ]
     },
     "metadata": {},
     "output_type": "display_data"
    }
   ],
   "source": [
    "head(df)"
   ]
  },
  {
   "cell_type": "code",
   "execution_count": 4,
   "metadata": {
    "vscode": {
     "languageId": "r"
    }
   },
   "outputs": [
    {
     "name": "stdout",
     "output_type": "stream",
     "text": [
      "'data.frame':\t506 obs. of  14 variables:\n",
      " $ crim   : num  0.00632 0.02731 0.02729 0.03237 0.06905 ...\n",
      " $ zn     : num  18 0 0 0 0 0 12.5 12.5 12.5 12.5 ...\n",
      " $ indus  : num  2.31 7.07 7.07 2.18 2.18 2.18 7.87 7.87 7.87 7.87 ...\n",
      " $ chas   : int  0 0 0 0 0 0 0 0 0 0 ...\n",
      " $ nox    : num  0.538 0.469 0.469 0.458 0.458 0.458 0.524 0.524 0.524 0.524 ...\n",
      " $ rm     : num  6.58 6.42 7.18 7 7.15 ...\n",
      " $ age    : num  65.2 78.9 61.1 45.8 54.2 58.7 66.6 96.1 100 85.9 ...\n",
      " $ dis    : num  4.09 4.97 4.97 6.06 6.06 ...\n",
      " $ rad    : int  1 2 2 3 3 3 5 5 5 5 ...\n",
      " $ tax    : num  296 242 242 222 222 222 311 311 311 311 ...\n",
      " $ ptratio: num  15.3 17.8 17.8 18.7 18.7 18.7 15.2 15.2 15.2 15.2 ...\n",
      " $ black  : num  397 397 393 395 397 ...\n",
      " $ lstat  : num  4.98 9.14 4.03 2.94 5.33 ...\n",
      " $ medv   : num  24 21.6 34.7 33.4 36.2 28.7 22.9 27.1 16.5 18.9 ...\n"
     ]
    }
   ],
   "source": [
    "str(df)"
   ]
  },
  {
   "cell_type": "markdown",
   "metadata": {},
   "source": [
    "`medv` <-- corresponde al precio de la casa en miles de dólares (target a estimar)"
   ]
  },
  {
   "cell_type": "code",
   "execution_count": 5,
   "metadata": {
    "vscode": {
     "languageId": "r"
    }
   },
   "outputs": [
    {
     "data": {
      "text/html": [
       "FALSE"
      ],
      "text/latex": [
       "FALSE"
      ],
      "text/markdown": [
       "FALSE"
      ],
      "text/plain": [
       "[1] FALSE"
      ]
     },
     "metadata": {},
     "output_type": "display_data"
    }
   ],
   "source": [
    "# Verificamos si hay algun campo nulo en el dataset:\n",
    "any(is.na(df))"
   ]
  },
  {
   "cell_type": "markdown",
   "metadata": {},
   "source": [
    "### Normalizamos dataset"
   ]
  },
  {
   "cell_type": "code",
   "execution_count": 6,
   "metadata": {
    "vscode": {
     "languageId": "r"
    }
   },
   "outputs": [
    {
     "data": {
      "text/html": [
       "<style>\n",
       ".dl-inline {width: auto; margin:0; padding: 0}\n",
       ".dl-inline>dt, .dl-inline>dd {float: none; width: auto; display: inline-block}\n",
       ".dl-inline>dt::after {content: \":\\0020\"; padding-right: .5ex}\n",
       ".dl-inline>dt:not(:first-of-type) {padding-left: .5ex}\n",
       "</style><dl class=dl-inline><dt>crim</dt><dd>0.00632</dd><dt>zn</dt><dd>0</dd><dt>indus</dt><dd>0.46</dd><dt>chas</dt><dd>0</dd><dt>nox</dt><dd>0.385</dd><dt>rm</dt><dd>3.561</dd><dt>age</dt><dd>2.9</dd><dt>dis</dt><dd>1.1296</dd><dt>rad</dt><dd>1</dd><dt>tax</dt><dd>187</dd><dt>ptratio</dt><dd>12.6</dd><dt>black</dt><dd>0.32</dd><dt>lstat</dt><dd>1.73</dd><dt>medv</dt><dd>5</dd></dl>\n"
      ],
      "text/latex": [
       "\\begin{description*}\n",
       "\\item[crim] 0.00632\n",
       "\\item[zn] 0\n",
       "\\item[indus] 0.46\n",
       "\\item[chas] 0\n",
       "\\item[nox] 0.385\n",
       "\\item[rm] 3.561\n",
       "\\item[age] 2.9\n",
       "\\item[dis] 1.1296\n",
       "\\item[rad] 1\n",
       "\\item[tax] 187\n",
       "\\item[ptratio] 12.6\n",
       "\\item[black] 0.32\n",
       "\\item[lstat] 1.73\n",
       "\\item[medv] 5\n",
       "\\end{description*}\n"
      ],
      "text/markdown": [
       "crim\n",
       ":   0.00632zn\n",
       ":   0indus\n",
       ":   0.46chas\n",
       ":   0nox\n",
       ":   0.385rm\n",
       ":   3.561age\n",
       ":   2.9dis\n",
       ":   1.1296rad\n",
       ":   1tax\n",
       ":   187ptratio\n",
       ":   12.6black\n",
       ":   0.32lstat\n",
       ":   1.73medv\n",
       ":   5\n",
       "\n"
      ],
      "text/plain": [
       "     crim        zn     indus      chas       nox        rm       age       dis \n",
       "  0.00632   0.00000   0.46000   0.00000   0.38500   3.56100   2.90000   1.12960 \n",
       "      rad       tax   ptratio     black     lstat      medv \n",
       "  1.00000 187.00000  12.60000   0.32000   1.73000   5.00000 "
      ]
     },
     "metadata": {},
     "output_type": "display_data"
    }
   ],
   "source": [
    "# Extraemos los mínimos de cada columna:\n",
    "min_cols <- apply(df,2,min)\n",
    "min_cols"
   ]
  },
  {
   "cell_type": "code",
   "execution_count": 7,
   "metadata": {
    "vscode": {
     "languageId": "r"
    }
   },
   "outputs": [
    {
     "data": {
      "text/html": [
       "<style>\n",
       ".dl-inline {width: auto; margin:0; padding: 0}\n",
       ".dl-inline>dt, .dl-inline>dd {float: none; width: auto; display: inline-block}\n",
       ".dl-inline>dt::after {content: \":\\0020\"; padding-right: .5ex}\n",
       ".dl-inline>dt:not(:first-of-type) {padding-left: .5ex}\n",
       "</style><dl class=dl-inline><dt>crim</dt><dd>88.9762</dd><dt>zn</dt><dd>100</dd><dt>indus</dt><dd>27.74</dd><dt>chas</dt><dd>1</dd><dt>nox</dt><dd>0.871</dd><dt>rm</dt><dd>8.78</dd><dt>age</dt><dd>100</dd><dt>dis</dt><dd>12.1265</dd><dt>rad</dt><dd>24</dd><dt>tax</dt><dd>711</dd><dt>ptratio</dt><dd>22</dd><dt>black</dt><dd>396.9</dd><dt>lstat</dt><dd>37.97</dd><dt>medv</dt><dd>50</dd></dl>\n"
      ],
      "text/latex": [
       "\\begin{description*}\n",
       "\\item[crim] 88.9762\n",
       "\\item[zn] 100\n",
       "\\item[indus] 27.74\n",
       "\\item[chas] 1\n",
       "\\item[nox] 0.871\n",
       "\\item[rm] 8.78\n",
       "\\item[age] 100\n",
       "\\item[dis] 12.1265\n",
       "\\item[rad] 24\n",
       "\\item[tax] 711\n",
       "\\item[ptratio] 22\n",
       "\\item[black] 396.9\n",
       "\\item[lstat] 37.97\n",
       "\\item[medv] 50\n",
       "\\end{description*}\n"
      ],
      "text/markdown": [
       "crim\n",
       ":   88.9762zn\n",
       ":   100indus\n",
       ":   27.74chas\n",
       ":   1nox\n",
       ":   0.871rm\n",
       ":   8.78age\n",
       ":   100dis\n",
       ":   12.1265rad\n",
       ":   24tax\n",
       ":   711ptratio\n",
       ":   22black\n",
       ":   396.9lstat\n",
       ":   37.97medv\n",
       ":   50\n",
       "\n"
      ],
      "text/plain": [
       "    crim       zn    indus     chas      nox       rm      age      dis \n",
       " 88.9762 100.0000  27.7400   1.0000   0.8710   8.7800 100.0000  12.1265 \n",
       "     rad      tax  ptratio    black    lstat     medv \n",
       " 24.0000 711.0000  22.0000 396.9000  37.9700  50.0000 "
      ]
     },
     "metadata": {},
     "output_type": "display_data"
    }
   ],
   "source": [
    "# Extraemos los máximos de cada columna:\n",
    "max_cols <- apply(df,2,max)\n",
    "max_cols"
   ]
  },
  {
   "cell_type": "code",
   "execution_count": 8,
   "metadata": {
    "vscode": {
     "languageId": "r"
    }
   },
   "outputs": [
    {
     "data": {
      "text/html": [
       "5"
      ],
      "text/latex": [
       "5"
      ],
      "text/markdown": [
       "5"
      ],
      "text/plain": [
       "[1] 5"
      ]
     },
     "metadata": {},
     "output_type": "display_data"
    }
   ],
   "source": [
    "y_min <- min_cols[['medv']]\n",
    "y_min"
   ]
  },
  {
   "cell_type": "code",
   "execution_count": 9,
   "metadata": {
    "vscode": {
     "languageId": "r"
    }
   },
   "outputs": [
    {
     "data": {
      "text/html": [
       "50"
      ],
      "text/latex": [
       "50"
      ],
      "text/markdown": [
       "50"
      ],
      "text/plain": [
       "[1] 50"
      ]
     },
     "metadata": {},
     "output_type": "display_data"
    }
   ],
   "source": [
    "y_max <- max_cols[['medv']]\n",
    "y_max"
   ]
  },
  {
   "cell_type": "code",
   "execution_count": 10,
   "metadata": {
    "vscode": {
     "languageId": "r"
    }
   },
   "outputs": [
    {
     "data": {
      "text/html": [
       "<style>\n",
       ".list-inline {list-style: none; margin:0; padding: 0}\n",
       ".list-inline>li {display: inline-block}\n",
       ".list-inline>li:not(:last-child)::after {content: \"\\00b7\"; padding: 0 .5ex}\n",
       "</style>\n",
       "<ol class=list-inline><li>'matrix'</li><li>'array'</li></ol>\n"
      ],
      "text/latex": [
       "\\begin{enumerate*}\n",
       "\\item 'matrix'\n",
       "\\item 'array'\n",
       "\\end{enumerate*}\n"
      ],
      "text/markdown": [
       "1. 'matrix'\n",
       "2. 'array'\n",
       "\n",
       "\n"
      ],
      "text/plain": [
       "[1] \"matrix\" \"array\" "
      ]
     },
     "metadata": {},
     "output_type": "display_data"
    }
   ],
   "source": [
    "df_scaled <- scale(df, center=min_cols, scale=max_cols)\n",
    "class(df_scaled)"
   ]
  },
  {
   "cell_type": "code",
   "execution_count": 11,
   "metadata": {
    "vscode": {
     "languageId": "r"
    }
   },
   "outputs": [
    {
     "data": {
      "text/html": [
       "'data.frame'"
      ],
      "text/latex": [
       "'data.frame'"
      ],
      "text/markdown": [
       "'data.frame'"
      ],
      "text/plain": [
       "[1] \"data.frame\""
      ]
     },
     "metadata": {},
     "output_type": "display_data"
    }
   ],
   "source": [
    "df_scaled <- as.data.frame(df_scaled)\n",
    "class(df_scaled)"
   ]
  },
  {
   "cell_type": "code",
   "execution_count": 12,
   "metadata": {
    "vscode": {
     "languageId": "r"
    }
   },
   "outputs": [
    {
     "data": {
      "text/html": [
       "<table class=\"dataframe\">\n",
       "<caption>A data.frame: 6 × 14</caption>\n",
       "<thead>\n",
       "\t<tr><th></th><th scope=col>crim</th><th scope=col>zn</th><th scope=col>indus</th><th scope=col>chas</th><th scope=col>nox</th><th scope=col>rm</th><th scope=col>age</th><th scope=col>dis</th><th scope=col>rad</th><th scope=col>tax</th><th scope=col>ptratio</th><th scope=col>black</th><th scope=col>lstat</th><th scope=col>medv</th></tr>\n",
       "\t<tr><th></th><th scope=col>&lt;dbl&gt;</th><th scope=col>&lt;dbl&gt;</th><th scope=col>&lt;dbl&gt;</th><th scope=col>&lt;dbl&gt;</th><th scope=col>&lt;dbl&gt;</th><th scope=col>&lt;dbl&gt;</th><th scope=col>&lt;dbl&gt;</th><th scope=col>&lt;dbl&gt;</th><th scope=col>&lt;dbl&gt;</th><th scope=col>&lt;dbl&gt;</th><th scope=col>&lt;dbl&gt;</th><th scope=col>&lt;dbl&gt;</th><th scope=col>&lt;dbl&gt;</th><th scope=col>&lt;dbl&gt;</th></tr>\n",
       "</thead>\n",
       "<tbody>\n",
       "\t<tr><th scope=row>1</th><td>0.0000000000</td><td>0.18</td><td>0.06669070</td><td>0</td><td>0.17566016</td><td>0.3432802</td><td>0.623</td><td>0.2441265</td><td>0.00000000</td><td>0.15330520</td><td>0.1227273</td><td>0.9991938</td><td>0.08559389</td><td>0.380</td></tr>\n",
       "\t<tr><th scope=row>2</th><td>0.0002359058</td><td>0.00</td><td>0.23828407</td><td>0</td><td>0.09644087</td><td>0.3257403</td><td>0.760</td><td>0.3164557</td><td>0.04166667</td><td>0.07735584</td><td>0.2363636</td><td>0.9991938</td><td>0.19515407</td><td>0.332</td></tr>\n",
       "\t<tr><th scope=row>3</th><td>0.0002356810</td><td>0.00</td><td>0.23828407</td><td>0</td><td>0.09644087</td><td>0.4127563</td><td>0.582</td><td>0.3164557</td><td>0.04166667</td><td>0.07735584</td><td>0.2363636</td><td>0.9889393</td><td>0.06057414</td><td>0.594</td></tr>\n",
       "\t<tr><th scope=row>4</th><td>0.0002927749</td><td>0.00</td><td>0.06200433</td><td>0</td><td>0.08381171</td><td>0.3914579</td><td>0.429</td><td>0.4067621</td><td>0.08333333</td><td>0.04922644</td><td>0.2772727</td><td>0.9934744</td><td>0.03186726</td><td>0.568</td></tr>\n",
       "\t<tr><th scope=row>5</th><td>0.0007050200</td><td>0.00</td><td>0.06200433</td><td>0</td><td>0.08381171</td><td>0.4084282</td><td>0.513</td><td>0.4067621</td><td>0.08333333</td><td>0.04922644</td><td>0.2772727</td><td>0.9991938</td><td>0.09481169</td><td>0.624</td></tr>\n",
       "\t<tr><th scope=row>6</th><td>0.0002644527</td><td>0.00</td><td>0.06200433</td><td>0</td><td>0.08381171</td><td>0.3267654</td><td>0.558</td><td>0.4067621</td><td>0.08333333</td><td>0.04922644</td><td>0.2772727</td><td>0.9921895</td><td>0.09165130</td><td>0.474</td></tr>\n",
       "</tbody>\n",
       "</table>\n"
      ],
      "text/latex": [
       "A data.frame: 6 × 14\n",
       "\\begin{tabular}{r|llllllllllllll}\n",
       "  & crim & zn & indus & chas & nox & rm & age & dis & rad & tax & ptratio & black & lstat & medv\\\\\n",
       "  & <dbl> & <dbl> & <dbl> & <dbl> & <dbl> & <dbl> & <dbl> & <dbl> & <dbl> & <dbl> & <dbl> & <dbl> & <dbl> & <dbl>\\\\\n",
       "\\hline\n",
       "\t1 & 0.0000000000 & 0.18 & 0.06669070 & 0 & 0.17566016 & 0.3432802 & 0.623 & 0.2441265 & 0.00000000 & 0.15330520 & 0.1227273 & 0.9991938 & 0.08559389 & 0.380\\\\\n",
       "\t2 & 0.0002359058 & 0.00 & 0.23828407 & 0 & 0.09644087 & 0.3257403 & 0.760 & 0.3164557 & 0.04166667 & 0.07735584 & 0.2363636 & 0.9991938 & 0.19515407 & 0.332\\\\\n",
       "\t3 & 0.0002356810 & 0.00 & 0.23828407 & 0 & 0.09644087 & 0.4127563 & 0.582 & 0.3164557 & 0.04166667 & 0.07735584 & 0.2363636 & 0.9889393 & 0.06057414 & 0.594\\\\\n",
       "\t4 & 0.0002927749 & 0.00 & 0.06200433 & 0 & 0.08381171 & 0.3914579 & 0.429 & 0.4067621 & 0.08333333 & 0.04922644 & 0.2772727 & 0.9934744 & 0.03186726 & 0.568\\\\\n",
       "\t5 & 0.0007050200 & 0.00 & 0.06200433 & 0 & 0.08381171 & 0.4084282 & 0.513 & 0.4067621 & 0.08333333 & 0.04922644 & 0.2772727 & 0.9991938 & 0.09481169 & 0.624\\\\\n",
       "\t6 & 0.0002644527 & 0.00 & 0.06200433 & 0 & 0.08381171 & 0.3267654 & 0.558 & 0.4067621 & 0.08333333 & 0.04922644 & 0.2772727 & 0.9921895 & 0.09165130 & 0.474\\\\\n",
       "\\end{tabular}\n"
      ],
      "text/markdown": [
       "\n",
       "A data.frame: 6 × 14\n",
       "\n",
       "| <!--/--> | crim &lt;dbl&gt; | zn &lt;dbl&gt; | indus &lt;dbl&gt; | chas &lt;dbl&gt; | nox &lt;dbl&gt; | rm &lt;dbl&gt; | age &lt;dbl&gt; | dis &lt;dbl&gt; | rad &lt;dbl&gt; | tax &lt;dbl&gt; | ptratio &lt;dbl&gt; | black &lt;dbl&gt; | lstat &lt;dbl&gt; | medv &lt;dbl&gt; |\n",
       "|---|---|---|---|---|---|---|---|---|---|---|---|---|---|---|\n",
       "| 1 | 0.0000000000 | 0.18 | 0.06669070 | 0 | 0.17566016 | 0.3432802 | 0.623 | 0.2441265 | 0.00000000 | 0.15330520 | 0.1227273 | 0.9991938 | 0.08559389 | 0.380 |\n",
       "| 2 | 0.0002359058 | 0.00 | 0.23828407 | 0 | 0.09644087 | 0.3257403 | 0.760 | 0.3164557 | 0.04166667 | 0.07735584 | 0.2363636 | 0.9991938 | 0.19515407 | 0.332 |\n",
       "| 3 | 0.0002356810 | 0.00 | 0.23828407 | 0 | 0.09644087 | 0.4127563 | 0.582 | 0.3164557 | 0.04166667 | 0.07735584 | 0.2363636 | 0.9889393 | 0.06057414 | 0.594 |\n",
       "| 4 | 0.0002927749 | 0.00 | 0.06200433 | 0 | 0.08381171 | 0.3914579 | 0.429 | 0.4067621 | 0.08333333 | 0.04922644 | 0.2772727 | 0.9934744 | 0.03186726 | 0.568 |\n",
       "| 5 | 0.0007050200 | 0.00 | 0.06200433 | 0 | 0.08381171 | 0.4084282 | 0.513 | 0.4067621 | 0.08333333 | 0.04922644 | 0.2772727 | 0.9991938 | 0.09481169 | 0.624 |\n",
       "| 6 | 0.0002644527 | 0.00 | 0.06200433 | 0 | 0.08381171 | 0.3267654 | 0.558 | 0.4067621 | 0.08333333 | 0.04922644 | 0.2772727 | 0.9921895 | 0.09165130 | 0.474 |\n",
       "\n"
      ],
      "text/plain": [
       "  crim         zn   indus      chas nox        rm        age   dis      \n",
       "1 0.0000000000 0.18 0.06669070 0    0.17566016 0.3432802 0.623 0.2441265\n",
       "2 0.0002359058 0.00 0.23828407 0    0.09644087 0.3257403 0.760 0.3164557\n",
       "3 0.0002356810 0.00 0.23828407 0    0.09644087 0.4127563 0.582 0.3164557\n",
       "4 0.0002927749 0.00 0.06200433 0    0.08381171 0.3914579 0.429 0.4067621\n",
       "5 0.0007050200 0.00 0.06200433 0    0.08381171 0.4084282 0.513 0.4067621\n",
       "6 0.0002644527 0.00 0.06200433 0    0.08381171 0.3267654 0.558 0.4067621\n",
       "  rad        tax        ptratio   black     lstat      medv \n",
       "1 0.00000000 0.15330520 0.1227273 0.9991938 0.08559389 0.380\n",
       "2 0.04166667 0.07735584 0.2363636 0.9991938 0.19515407 0.332\n",
       "3 0.04166667 0.07735584 0.2363636 0.9889393 0.06057414 0.594\n",
       "4 0.08333333 0.04922644 0.2772727 0.9934744 0.03186726 0.568\n",
       "5 0.08333333 0.04922644 0.2772727 0.9991938 0.09481169 0.624\n",
       "6 0.08333333 0.04922644 0.2772727 0.9921895 0.09165130 0.474"
      ]
     },
     "metadata": {},
     "output_type": "display_data"
    }
   ],
   "source": [
    "head(df_scaled)"
   ]
  },
  {
   "cell_type": "code",
   "execution_count": 13,
   "metadata": {
    "vscode": {
     "languageId": "r"
    }
   },
   "outputs": [
    {
     "data": {
      "text/plain": [
       "      crim                 zn             indus             chas        \n",
       " Min.   :0.0000000   Min.   :0.0000   Min.   :0.0000   Min.   :0.00000  \n",
       " 1st Qu.:0.0008511   1st Qu.:0.0000   1st Qu.:0.1705   1st Qu.:0.00000  \n",
       " Median :0.0028119   Median :0.0000   Median :0.3327   Median :0.00000  \n",
       " Mean   :0.0405412   Mean   :0.1136   Mean   :0.3849   Mean   :0.06917  \n",
       " 3rd Qu.:0.0412556   3rd Qu.:0.1250   3rd Qu.:0.6359   3rd Qu.:0.00000  \n",
       " Max.   :0.9999290   Max.   :1.0000   Max.   :0.9834   Max.   :1.00000  \n",
       "      nox                rm              age              dis         \n",
       " Min.   :0.00000   Min.   :0.0000   Min.   :0.0000   Min.   :0.00000  \n",
       " 1st Qu.:0.07348   1st Qu.:0.2647   1st Qu.:0.4213   1st Qu.:0.08004  \n",
       " Median :0.17566   Median :0.3015   Median :0.7460   Median :0.17135  \n",
       " Mean   :0.19483   Mean   :0.3102   Mean   :0.6567   Mean   :0.21980  \n",
       " 3rd Qu.:0.27440   3rd Qu.:0.3488   3rd Qu.:0.9117   3rd Qu.:0.33471  \n",
       " Max.   :0.55798   Max.   :0.5944   Max.   :0.9710   Max.   :0.90685  \n",
       "      rad              tax            ptratio           black       \n",
       " Min.   :0.0000   Min.   :0.0000   Min.   :0.0000   Min.   :0.0000  \n",
       " 1st Qu.:0.1250   1st Qu.:0.1294   1st Qu.:0.2182   1st Qu.:0.9450  \n",
       " Median :0.1667   Median :0.2011   Median :0.2932   Median :0.9854  \n",
       " Mean   :0.3562   Mean   :0.3112   Mean   :0.2662   Mean   :0.8978  \n",
       " 3rd Qu.:0.9583   3rd Qu.:0.6737   3rd Qu.:0.3455   3rd Qu.:0.9975  \n",
       " Max.   :0.9583   Max.   :0.7370   Max.   :0.4273   Max.   :0.9992  \n",
       "     lstat             medv       \n",
       " Min.   :0.0000   Min.   :0.0000  \n",
       " 1st Qu.:0.1375   1st Qu.:0.2405  \n",
       " Median :0.2536   Median :0.3240  \n",
       " Mean   :0.2877   Mean   :0.3507  \n",
       " 3rd Qu.:0.4010   3rd Qu.:0.4000  \n",
       " Max.   :0.9544   Max.   :0.9000  "
      ]
     },
     "metadata": {},
     "output_type": "display_data"
    }
   ],
   "source": [
    "summary(df_scaled)"
   ]
  },
  {
   "cell_type": "markdown",
   "metadata": {},
   "source": [
    "## Particionamos datos para entrenamiento y pruebas"
   ]
  },
  {
   "cell_type": "code",
   "execution_count": 14,
   "metadata": {
    "vscode": {
     "languageId": "r"
    }
   },
   "outputs": [],
   "source": [
    "# establecemos una semilla para que se preserve la configuración del particionamiento de datos:\n",
    "set.seed(80)\n",
    "\n",
    "p_train <- 0.7 #  <-- Porcentaje para datos de entrenamiento\n",
    "\n",
    "# \"medv\" <-- labels a predecir\n",
    "booleans <- sample.split( df_scaled$medv, SplitRatio = p_train )"
   ]
  },
  {
   "cell_type": "code",
   "execution_count": 15,
   "metadata": {
    "vscode": {
     "languageId": "r"
    }
   },
   "outputs": [
    {
     "data": {
      "text/html": [
       "<table class=\"dataframe\">\n",
       "<caption>A data.frame: 6 × 14</caption>\n",
       "<thead>\n",
       "\t<tr><th></th><th scope=col>crim</th><th scope=col>zn</th><th scope=col>indus</th><th scope=col>chas</th><th scope=col>nox</th><th scope=col>rm</th><th scope=col>age</th><th scope=col>dis</th><th scope=col>rad</th><th scope=col>tax</th><th scope=col>ptratio</th><th scope=col>black</th><th scope=col>lstat</th><th scope=col>medv</th></tr>\n",
       "\t<tr><th></th><th scope=col>&lt;dbl&gt;</th><th scope=col>&lt;dbl&gt;</th><th scope=col>&lt;dbl&gt;</th><th scope=col>&lt;dbl&gt;</th><th scope=col>&lt;dbl&gt;</th><th scope=col>&lt;dbl&gt;</th><th scope=col>&lt;dbl&gt;</th><th scope=col>&lt;dbl&gt;</th><th scope=col>&lt;dbl&gt;</th><th scope=col>&lt;dbl&gt;</th><th scope=col>&lt;dbl&gt;</th><th scope=col>&lt;dbl&gt;</th><th scope=col>&lt;dbl&gt;</th><th scope=col>&lt;dbl&gt;</th></tr>\n",
       "</thead>\n",
       "<tbody>\n",
       "\t<tr><th scope=row>1</th><td>0.0000000000</td><td>0.180</td><td>0.06669070</td><td>0</td><td>0.17566016</td><td>0.3432802</td><td>0.623</td><td>0.2441265</td><td>0.00000000</td><td>0.15330520</td><td>0.1227273</td><td>0.9991938</td><td>0.08559389</td><td>0.380</td></tr>\n",
       "\t<tr><th scope=row>3</th><td>0.0002356810</td><td>0.000</td><td>0.23828407</td><td>0</td><td>0.09644087</td><td>0.4127563</td><td>0.582</td><td>0.3164557</td><td>0.04166667</td><td>0.07735584</td><td>0.2363636</td><td>0.9889393</td><td>0.06057414</td><td>0.594</td></tr>\n",
       "\t<tr><th scope=row>4</th><td>0.0002927749</td><td>0.000</td><td>0.06200433</td><td>0</td><td>0.08381171</td><td>0.3914579</td><td>0.429</td><td>0.4067621</td><td>0.08333333</td><td>0.04922644</td><td>0.2772727</td><td>0.9934744</td><td>0.03186726</td><td>0.568</td></tr>\n",
       "\t<tr><th scope=row>7</th><td>0.0009212576</td><td>0.125</td><td>0.26712329</td><td>0</td><td>0.15958668</td><td>0.2791572</td><td>0.637</td><td>0.3653898</td><td>0.16666667</td><td>0.17440225</td><td>0.1181818</td><td>0.9959184</td><td>0.28180142</td><td>0.358</td></tr>\n",
       "\t<tr><th scope=row>9</th><td>0.0023030878</td><td>0.125</td><td>0.26712329</td><td>0</td><td>0.15958668</td><td>0.2357631</td><td>0.971</td><td>0.4084031</td><td>0.16666667</td><td>0.17440225</td><td>0.1181818</td><td>0.9733182</td><td>0.74269160</td><td>0.230</td></tr>\n",
       "\t<tr><th scope=row>10</th><td>0.0018400426</td><td>0.125</td><td>0.26712329</td><td>0</td><td>0.15958668</td><td>0.2782460</td><td>0.830</td><td>0.4504597</td><td>0.16666667</td><td>0.17440225</td><td>0.1181818</td><td>0.9735198</td><td>0.40479326</td><td>0.278</td></tr>\n",
       "</tbody>\n",
       "</table>\n"
      ],
      "text/latex": [
       "A data.frame: 6 × 14\n",
       "\\begin{tabular}{r|llllllllllllll}\n",
       "  & crim & zn & indus & chas & nox & rm & age & dis & rad & tax & ptratio & black & lstat & medv\\\\\n",
       "  & <dbl> & <dbl> & <dbl> & <dbl> & <dbl> & <dbl> & <dbl> & <dbl> & <dbl> & <dbl> & <dbl> & <dbl> & <dbl> & <dbl>\\\\\n",
       "\\hline\n",
       "\t1 & 0.0000000000 & 0.180 & 0.06669070 & 0 & 0.17566016 & 0.3432802 & 0.623 & 0.2441265 & 0.00000000 & 0.15330520 & 0.1227273 & 0.9991938 & 0.08559389 & 0.380\\\\\n",
       "\t3 & 0.0002356810 & 0.000 & 0.23828407 & 0 & 0.09644087 & 0.4127563 & 0.582 & 0.3164557 & 0.04166667 & 0.07735584 & 0.2363636 & 0.9889393 & 0.06057414 & 0.594\\\\\n",
       "\t4 & 0.0002927749 & 0.000 & 0.06200433 & 0 & 0.08381171 & 0.3914579 & 0.429 & 0.4067621 & 0.08333333 & 0.04922644 & 0.2772727 & 0.9934744 & 0.03186726 & 0.568\\\\\n",
       "\t7 & 0.0009212576 & 0.125 & 0.26712329 & 0 & 0.15958668 & 0.2791572 & 0.637 & 0.3653898 & 0.16666667 & 0.17440225 & 0.1181818 & 0.9959184 & 0.28180142 & 0.358\\\\\n",
       "\t9 & 0.0023030878 & 0.125 & 0.26712329 & 0 & 0.15958668 & 0.2357631 & 0.971 & 0.4084031 & 0.16666667 & 0.17440225 & 0.1181818 & 0.9733182 & 0.74269160 & 0.230\\\\\n",
       "\t10 & 0.0018400426 & 0.125 & 0.26712329 & 0 & 0.15958668 & 0.2782460 & 0.830 & 0.4504597 & 0.16666667 & 0.17440225 & 0.1181818 & 0.9735198 & 0.40479326 & 0.278\\\\\n",
       "\\end{tabular}\n"
      ],
      "text/markdown": [
       "\n",
       "A data.frame: 6 × 14\n",
       "\n",
       "| <!--/--> | crim &lt;dbl&gt; | zn &lt;dbl&gt; | indus &lt;dbl&gt; | chas &lt;dbl&gt; | nox &lt;dbl&gt; | rm &lt;dbl&gt; | age &lt;dbl&gt; | dis &lt;dbl&gt; | rad &lt;dbl&gt; | tax &lt;dbl&gt; | ptratio &lt;dbl&gt; | black &lt;dbl&gt; | lstat &lt;dbl&gt; | medv &lt;dbl&gt; |\n",
       "|---|---|---|---|---|---|---|---|---|---|---|---|---|---|---|\n",
       "| 1 | 0.0000000000 | 0.180 | 0.06669070 | 0 | 0.17566016 | 0.3432802 | 0.623 | 0.2441265 | 0.00000000 | 0.15330520 | 0.1227273 | 0.9991938 | 0.08559389 | 0.380 |\n",
       "| 3 | 0.0002356810 | 0.000 | 0.23828407 | 0 | 0.09644087 | 0.4127563 | 0.582 | 0.3164557 | 0.04166667 | 0.07735584 | 0.2363636 | 0.9889393 | 0.06057414 | 0.594 |\n",
       "| 4 | 0.0002927749 | 0.000 | 0.06200433 | 0 | 0.08381171 | 0.3914579 | 0.429 | 0.4067621 | 0.08333333 | 0.04922644 | 0.2772727 | 0.9934744 | 0.03186726 | 0.568 |\n",
       "| 7 | 0.0009212576 | 0.125 | 0.26712329 | 0 | 0.15958668 | 0.2791572 | 0.637 | 0.3653898 | 0.16666667 | 0.17440225 | 0.1181818 | 0.9959184 | 0.28180142 | 0.358 |\n",
       "| 9 | 0.0023030878 | 0.125 | 0.26712329 | 0 | 0.15958668 | 0.2357631 | 0.971 | 0.4084031 | 0.16666667 | 0.17440225 | 0.1181818 | 0.9733182 | 0.74269160 | 0.230 |\n",
       "| 10 | 0.0018400426 | 0.125 | 0.26712329 | 0 | 0.15958668 | 0.2782460 | 0.830 | 0.4504597 | 0.16666667 | 0.17440225 | 0.1181818 | 0.9735198 | 0.40479326 | 0.278 |\n",
       "\n"
      ],
      "text/plain": [
       "   crim         zn    indus      chas nox        rm        age   dis      \n",
       "1  0.0000000000 0.180 0.06669070 0    0.17566016 0.3432802 0.623 0.2441265\n",
       "3  0.0002356810 0.000 0.23828407 0    0.09644087 0.4127563 0.582 0.3164557\n",
       "4  0.0002927749 0.000 0.06200433 0    0.08381171 0.3914579 0.429 0.4067621\n",
       "7  0.0009212576 0.125 0.26712329 0    0.15958668 0.2791572 0.637 0.3653898\n",
       "9  0.0023030878 0.125 0.26712329 0    0.15958668 0.2357631 0.971 0.4084031\n",
       "10 0.0018400426 0.125 0.26712329 0    0.15958668 0.2782460 0.830 0.4504597\n",
       "   rad        tax        ptratio   black     lstat      medv \n",
       "1  0.00000000 0.15330520 0.1227273 0.9991938 0.08559389 0.380\n",
       "3  0.04166667 0.07735584 0.2363636 0.9889393 0.06057414 0.594\n",
       "4  0.08333333 0.04922644 0.2772727 0.9934744 0.03186726 0.568\n",
       "7  0.16666667 0.17440225 0.1181818 0.9959184 0.28180142 0.358\n",
       "9  0.16666667 0.17440225 0.1181818 0.9733182 0.74269160 0.230\n",
       "10 0.16666667 0.17440225 0.1181818 0.9735198 0.40479326 0.278"
      ]
     },
     "metadata": {},
     "output_type": "display_data"
    }
   ],
   "source": [
    "df_train_scaled <- subset( df_scaled, booleans == TRUE)\n",
    "head(df_train_scaled)"
   ]
  },
  {
   "cell_type": "code",
   "execution_count": 16,
   "metadata": {
    "vscode": {
     "languageId": "r"
    }
   },
   "outputs": [
    {
     "data": {
      "text/html": [
       "<style>\n",
       ".list-inline {list-style: none; margin:0; padding: 0}\n",
       ".list-inline>li {display: inline-block}\n",
       ".list-inline>li:not(:last-child)::after {content: \"\\00b7\"; padding: 0 .5ex}\n",
       "</style>\n",
       "<ol class=list-inline><li>367</li><li>14</li></ol>\n"
      ],
      "text/latex": [
       "\\begin{enumerate*}\n",
       "\\item 367\n",
       "\\item 14\n",
       "\\end{enumerate*}\n"
      ],
      "text/markdown": [
       "1. 367\n",
       "2. 14\n",
       "\n",
       "\n"
      ],
      "text/plain": [
       "[1] 367  14"
      ]
     },
     "metadata": {},
     "output_type": "display_data"
    }
   ],
   "source": [
    "dim(df_train_scaled)"
   ]
  },
  {
   "cell_type": "code",
   "execution_count": 17,
   "metadata": {
    "vscode": {
     "languageId": "r"
    }
   },
   "outputs": [
    {
     "data": {
      "text/html": [
       "<table class=\"dataframe\">\n",
       "<caption>A data.frame: 6 × 14</caption>\n",
       "<thead>\n",
       "\t<tr><th></th><th scope=col>crim</th><th scope=col>zn</th><th scope=col>indus</th><th scope=col>chas</th><th scope=col>nox</th><th scope=col>rm</th><th scope=col>age</th><th scope=col>dis</th><th scope=col>rad</th><th scope=col>tax</th><th scope=col>ptratio</th><th scope=col>black</th><th scope=col>lstat</th><th scope=col>medv</th></tr>\n",
       "\t<tr><th></th><th scope=col>&lt;dbl&gt;</th><th scope=col>&lt;dbl&gt;</th><th scope=col>&lt;dbl&gt;</th><th scope=col>&lt;dbl&gt;</th><th scope=col>&lt;dbl&gt;</th><th scope=col>&lt;dbl&gt;</th><th scope=col>&lt;dbl&gt;</th><th scope=col>&lt;dbl&gt;</th><th scope=col>&lt;dbl&gt;</th><th scope=col>&lt;dbl&gt;</th><th scope=col>&lt;dbl&gt;</th><th scope=col>&lt;dbl&gt;</th><th scope=col>&lt;dbl&gt;</th><th scope=col>&lt;dbl&gt;</th></tr>\n",
       "</thead>\n",
       "<tbody>\n",
       "\t<tr><th scope=row>2</th><td>0.0002359058</td><td>0.000</td><td>0.23828407</td><td>0</td><td>0.09644087</td><td>0.3257403</td><td>0.760</td><td>0.3164557</td><td>0.04166667</td><td>0.07735584</td><td>0.2363636</td><td>0.9991938</td><td>0.19515407</td><td>0.332</td></tr>\n",
       "\t<tr><th scope=row>5</th><td>0.0007050200</td><td>0.000</td><td>0.06200433</td><td>0</td><td>0.08381171</td><td>0.4084282</td><td>0.513</td><td>0.4067621</td><td>0.08333333</td><td>0.04922644</td><td>0.2772727</td><td>0.9991938</td><td>0.09481169</td><td>0.624</td></tr>\n",
       "\t<tr><th scope=row>6</th><td>0.0002644527</td><td>0.000</td><td>0.06200433</td><td>0</td><td>0.08381171</td><td>0.3267654</td><td>0.558</td><td>0.4067621</td><td>0.08333333</td><td>0.04922644</td><td>0.2772727</td><td>0.9921895</td><td>0.09165130</td><td>0.474</td></tr>\n",
       "\t<tr><th scope=row>8</th><td>0.0015535615</td><td>0.125</td><td>0.26712329</td><td>0</td><td>0.15958668</td><td>0.2973804</td><td>0.932</td><td>0.3975508</td><td>0.16666667</td><td>0.17440225</td><td>0.1181818</td><td>0.9991938</td><td>0.45878325</td><td>0.442</td></tr>\n",
       "\t<tr><th scope=row>15</th><td>0.0070989770</td><td>0.000</td><td>0.27685652</td><td>0</td><td>0.17566016</td><td>0.2887244</td><td>0.816</td><td>0.2747949</td><td>0.12500000</td><td>0.16877637</td><td>0.3818182</td><td>0.9566641</td><td>0.22465104</td><td>0.264</td></tr>\n",
       "\t<tr><th scope=row>17</th><td>0.0117740474</td><td>0.000</td><td>0.27685652</td><td>0</td><td>0.17566016</td><td>0.2703872</td><td>0.264</td><td>0.2778213</td><td>0.12500000</td><td>0.16877637</td><td>0.3818182</td><td>0.9738725</td><td>0.12773242</td><td>0.362</td></tr>\n",
       "</tbody>\n",
       "</table>\n"
      ],
      "text/latex": [
       "A data.frame: 6 × 14\n",
       "\\begin{tabular}{r|llllllllllllll}\n",
       "  & crim & zn & indus & chas & nox & rm & age & dis & rad & tax & ptratio & black & lstat & medv\\\\\n",
       "  & <dbl> & <dbl> & <dbl> & <dbl> & <dbl> & <dbl> & <dbl> & <dbl> & <dbl> & <dbl> & <dbl> & <dbl> & <dbl> & <dbl>\\\\\n",
       "\\hline\n",
       "\t2 & 0.0002359058 & 0.000 & 0.23828407 & 0 & 0.09644087 & 0.3257403 & 0.760 & 0.3164557 & 0.04166667 & 0.07735584 & 0.2363636 & 0.9991938 & 0.19515407 & 0.332\\\\\n",
       "\t5 & 0.0007050200 & 0.000 & 0.06200433 & 0 & 0.08381171 & 0.4084282 & 0.513 & 0.4067621 & 0.08333333 & 0.04922644 & 0.2772727 & 0.9991938 & 0.09481169 & 0.624\\\\\n",
       "\t6 & 0.0002644527 & 0.000 & 0.06200433 & 0 & 0.08381171 & 0.3267654 & 0.558 & 0.4067621 & 0.08333333 & 0.04922644 & 0.2772727 & 0.9921895 & 0.09165130 & 0.474\\\\\n",
       "\t8 & 0.0015535615 & 0.125 & 0.26712329 & 0 & 0.15958668 & 0.2973804 & 0.932 & 0.3975508 & 0.16666667 & 0.17440225 & 0.1181818 & 0.9991938 & 0.45878325 & 0.442\\\\\n",
       "\t15 & 0.0070989770 & 0.000 & 0.27685652 & 0 & 0.17566016 & 0.2887244 & 0.816 & 0.2747949 & 0.12500000 & 0.16877637 & 0.3818182 & 0.9566641 & 0.22465104 & 0.264\\\\\n",
       "\t17 & 0.0117740474 & 0.000 & 0.27685652 & 0 & 0.17566016 & 0.2703872 & 0.264 & 0.2778213 & 0.12500000 & 0.16877637 & 0.3818182 & 0.9738725 & 0.12773242 & 0.362\\\\\n",
       "\\end{tabular}\n"
      ],
      "text/markdown": [
       "\n",
       "A data.frame: 6 × 14\n",
       "\n",
       "| <!--/--> | crim &lt;dbl&gt; | zn &lt;dbl&gt; | indus &lt;dbl&gt; | chas &lt;dbl&gt; | nox &lt;dbl&gt; | rm &lt;dbl&gt; | age &lt;dbl&gt; | dis &lt;dbl&gt; | rad &lt;dbl&gt; | tax &lt;dbl&gt; | ptratio &lt;dbl&gt; | black &lt;dbl&gt; | lstat &lt;dbl&gt; | medv &lt;dbl&gt; |\n",
       "|---|---|---|---|---|---|---|---|---|---|---|---|---|---|---|\n",
       "| 2 | 0.0002359058 | 0.000 | 0.23828407 | 0 | 0.09644087 | 0.3257403 | 0.760 | 0.3164557 | 0.04166667 | 0.07735584 | 0.2363636 | 0.9991938 | 0.19515407 | 0.332 |\n",
       "| 5 | 0.0007050200 | 0.000 | 0.06200433 | 0 | 0.08381171 | 0.4084282 | 0.513 | 0.4067621 | 0.08333333 | 0.04922644 | 0.2772727 | 0.9991938 | 0.09481169 | 0.624 |\n",
       "| 6 | 0.0002644527 | 0.000 | 0.06200433 | 0 | 0.08381171 | 0.3267654 | 0.558 | 0.4067621 | 0.08333333 | 0.04922644 | 0.2772727 | 0.9921895 | 0.09165130 | 0.474 |\n",
       "| 8 | 0.0015535615 | 0.125 | 0.26712329 | 0 | 0.15958668 | 0.2973804 | 0.932 | 0.3975508 | 0.16666667 | 0.17440225 | 0.1181818 | 0.9991938 | 0.45878325 | 0.442 |\n",
       "| 15 | 0.0070989770 | 0.000 | 0.27685652 | 0 | 0.17566016 | 0.2887244 | 0.816 | 0.2747949 | 0.12500000 | 0.16877637 | 0.3818182 | 0.9566641 | 0.22465104 | 0.264 |\n",
       "| 17 | 0.0117740474 | 0.000 | 0.27685652 | 0 | 0.17566016 | 0.2703872 | 0.264 | 0.2778213 | 0.12500000 | 0.16877637 | 0.3818182 | 0.9738725 | 0.12773242 | 0.362 |\n",
       "\n"
      ],
      "text/plain": [
       "   crim         zn    indus      chas nox        rm        age   dis      \n",
       "2  0.0002359058 0.000 0.23828407 0    0.09644087 0.3257403 0.760 0.3164557\n",
       "5  0.0007050200 0.000 0.06200433 0    0.08381171 0.4084282 0.513 0.4067621\n",
       "6  0.0002644527 0.000 0.06200433 0    0.08381171 0.3267654 0.558 0.4067621\n",
       "8  0.0015535615 0.125 0.26712329 0    0.15958668 0.2973804 0.932 0.3975508\n",
       "15 0.0070989770 0.000 0.27685652 0    0.17566016 0.2887244 0.816 0.2747949\n",
       "17 0.0117740474 0.000 0.27685652 0    0.17566016 0.2703872 0.264 0.2778213\n",
       "   rad        tax        ptratio   black     lstat      medv \n",
       "2  0.04166667 0.07735584 0.2363636 0.9991938 0.19515407 0.332\n",
       "5  0.08333333 0.04922644 0.2772727 0.9991938 0.09481169 0.624\n",
       "6  0.08333333 0.04922644 0.2772727 0.9921895 0.09165130 0.474\n",
       "8  0.16666667 0.17440225 0.1181818 0.9991938 0.45878325 0.442\n",
       "15 0.12500000 0.16877637 0.3818182 0.9566641 0.22465104 0.264\n",
       "17 0.12500000 0.16877637 0.3818182 0.9738725 0.12773242 0.362"
      ]
     },
     "metadata": {},
     "output_type": "display_data"
    }
   ],
   "source": [
    "df_test_scaled <- subset( df_scaled, booleans == FALSE)\n",
    "head(df_test_scaled)"
   ]
  },
  {
   "cell_type": "code",
   "execution_count": 18,
   "metadata": {
    "vscode": {
     "languageId": "r"
    }
   },
   "outputs": [
    {
     "data": {
      "text/html": [
       "<style>\n",
       ".list-inline {list-style: none; margin:0; padding: 0}\n",
       ".list-inline>li {display: inline-block}\n",
       ".list-inline>li:not(:last-child)::after {content: \"\\00b7\"; padding: 0 .5ex}\n",
       "</style>\n",
       "<ol class=list-inline><li>139</li><li>14</li></ol>\n"
      ],
      "text/latex": [
       "\\begin{enumerate*}\n",
       "\\item 139\n",
       "\\item 14\n",
       "\\end{enumerate*}\n"
      ],
      "text/markdown": [
       "1. 139\n",
       "2. 14\n",
       "\n",
       "\n"
      ],
      "text/plain": [
       "[1] 139  14"
      ]
     },
     "metadata": {},
     "output_type": "display_data"
    }
   ],
   "source": [
    "dim(df_test_scaled)"
   ]
  },
  {
   "cell_type": "markdown",
   "metadata": {},
   "source": [
    "## Modelado"
   ]
  },
  {
   "cell_type": "code",
   "execution_count": 19,
   "metadata": {
    "vscode": {
     "languageId": "r"
    }
   },
   "outputs": [
    {
     "data": {
      "text/html": [
       "<style>\n",
       ".list-inline {list-style: none; margin:0; padding: 0}\n",
       ".list-inline>li {display: inline-block}\n",
       ".list-inline>li:not(:last-child)::after {content: \"\\00b7\"; padding: 0 .5ex}\n",
       "</style>\n",
       "<ol class=list-inline><li>'crim'</li><li>'zn'</li><li>'indus'</li><li>'chas'</li><li>'nox'</li><li>'rm'</li><li>'age'</li><li>'dis'</li><li>'rad'</li><li>'tax'</li><li>'ptratio'</li><li>'black'</li><li>'lstat'</li><li>'medv'</li></ol>\n"
      ],
      "text/latex": [
       "\\begin{enumerate*}\n",
       "\\item 'crim'\n",
       "\\item 'zn'\n",
       "\\item 'indus'\n",
       "\\item 'chas'\n",
       "\\item 'nox'\n",
       "\\item 'rm'\n",
       "\\item 'age'\n",
       "\\item 'dis'\n",
       "\\item 'rad'\n",
       "\\item 'tax'\n",
       "\\item 'ptratio'\n",
       "\\item 'black'\n",
       "\\item 'lstat'\n",
       "\\item 'medv'\n",
       "\\end{enumerate*}\n"
      ],
      "text/markdown": [
       "1. 'crim'\n",
       "2. 'zn'\n",
       "3. 'indus'\n",
       "4. 'chas'\n",
       "5. 'nox'\n",
       "6. 'rm'\n",
       "7. 'age'\n",
       "8. 'dis'\n",
       "9. 'rad'\n",
       "10. 'tax'\n",
       "11. 'ptratio'\n",
       "12. 'black'\n",
       "13. 'lstat'\n",
       "14. 'medv'\n",
       "\n",
       "\n"
      ],
      "text/plain": [
       " [1] \"crim\"    \"zn\"      \"indus\"   \"chas\"    \"nox\"     \"rm\"      \"age\"    \n",
       " [8] \"dis\"     \"rad\"     \"tax\"     \"ptratio\" \"black\"   \"lstat\"   \"medv\"   "
      ]
     },
     "metadata": {},
     "output_type": "display_data"
    }
   ],
   "source": [
    "colnames(df)"
   ]
  },
  {
   "cell_type": "code",
   "execution_count": 20,
   "metadata": {
    "vscode": {
     "languageId": "r"
    }
   },
   "outputs": [
    {
     "data": {
      "text/plain": [
       "medv ~ crim + zn + indus + chas + nox + rm + age + dis + rad + \n",
       "    tax + ptratio + black + lstat"
      ]
     },
     "metadata": {},
     "output_type": "display_data"
    }
   ],
   "source": [
    "# Indicamos el label y las variables (en forma de suma) que estimarán el label:\n",
    "# f <- Y ~ X1 + X2 +...+ Xn\n",
    "f <- medv ~ crim + zn + indus + chas + nox + rm + age + dis + rad + tax + ptratio + black + lstat\n",
    "f"
   ]
  },
  {
   "cell_type": "code",
   "execution_count": 21,
   "metadata": {
    "vscode": {
     "languageId": "r"
    }
   },
   "outputs": [],
   "source": [
    "# Creamos el modelo de la red y lo entrenamos\n",
    "\n",
    "# Número de neuronas por capa\n",
    "nn_layers <- c(5,5,3)\n",
    "\n",
    "model_nn <- neuralnet(f, data= df_train_scaled, hidden=nn_layers, linear.output=TRUE)\n",
    "plot(model_nn)"
   ]
  },
  {
   "cell_type": "markdown",
   "metadata": {},
   "source": [
    "## Evaluamos predicciones"
   ]
  },
  {
   "cell_type": "code",
   "execution_count": 22,
   "metadata": {
    "vscode": {
     "languageId": "r"
    }
   },
   "outputs": [],
   "source": [
    "predict_scaled <- compute(model_nn, df_test_scaled)"
   ]
  },
  {
   "cell_type": "code",
   "execution_count": 23,
   "metadata": {
    "vscode": {
     "languageId": "r"
    }
   },
   "outputs": [
    {
     "name": "stdout",
     "output_type": "stream",
     "text": [
      "List of 2\n",
      " $ neurons   :List of 4\n",
      "  ..$ : num [1:139, 1:14] 1 1 1 1 1 1 1 1 1 1 ...\n",
      "  .. ..- attr(*, \"dimnames\")=List of 2\n",
      "  .. .. ..$ : chr [1:139] \"2\" \"5\" \"6\" \"8\" ...\n",
      "  .. .. ..$ : chr [1:14] \"\" \"crim\" \"zn\" \"indus\" ...\n",
      "  ..$ : num [1:139, 1:6] 1 1 1 1 1 1 1 1 1 1 ...\n",
      "  .. ..- attr(*, \"dimnames\")=List of 2\n",
      "  .. .. ..$ : chr [1:139] \"2\" \"5\" \"6\" \"8\" ...\n",
      "  .. .. ..$ : NULL\n",
      "  ..$ : num [1:139, 1:6] 1 1 1 1 1 1 1 1 1 1 ...\n",
      "  .. ..- attr(*, \"dimnames\")=List of 2\n",
      "  .. .. ..$ : chr [1:139] \"2\" \"5\" \"6\" \"8\" ...\n",
      "  .. .. ..$ : NULL\n",
      "  ..$ : num [1:139, 1:4] 1 1 1 1 1 1 1 1 1 1 ...\n",
      "  .. ..- attr(*, \"dimnames\")=List of 2\n",
      "  .. .. ..$ : chr [1:139] \"2\" \"5\" \"6\" \"8\" ...\n",
      "  .. .. ..$ : NULL\n",
      " $ net.result: num [1:139, 1] 0.361 0.518 0.398 0.28 0.284 ...\n",
      "  ..- attr(*, \"dimnames\")=List of 2\n",
      "  .. ..$ : chr [1:139] \"2\" \"5\" \"6\" \"8\" ...\n",
      "  .. ..$ : NULL\n"
     ]
    }
   ],
   "source": [
    "str(predict_scaled)"
   ]
  },
  {
   "cell_type": "code",
   "execution_count": 24,
   "metadata": {
    "vscode": {
     "languageId": "r"
    }
   },
   "outputs": [
    {
     "data": {
      "text/html": [
       "<style>\n",
       ".list-inline {list-style: none; margin:0; padding: 0}\n",
       ".list-inline>li {display: inline-block}\n",
       ".list-inline>li:not(:last-child)::after {content: \"\\00b7\"; padding: 0 .5ex}\n",
       "</style>\n",
       "<ol class=list-inline><li>'matrix'</li><li>'array'</li></ol>\n"
      ],
      "text/latex": [
       "\\begin{enumerate*}\n",
       "\\item 'matrix'\n",
       "\\item 'array'\n",
       "\\end{enumerate*}\n"
      ],
      "text/markdown": [
       "1. 'matrix'\n",
       "2. 'array'\n",
       "\n",
       "\n"
      ],
      "text/plain": [
       "[1] \"matrix\" \"array\" "
      ]
     },
     "metadata": {},
     "output_type": "display_data"
    }
   ],
   "source": [
    "# Etiquetas aproximadas (escaladas)\n",
    "approx_test_scaled <- predict_scaled$net.result\n",
    "class(approx_test_scaled)"
   ]
  },
  {
   "cell_type": "code",
   "execution_count": 25,
   "metadata": {
    "vscode": {
     "languageId": "r"
    }
   },
   "outputs": [
    {
     "data": {
      "text/html": [
       "'numeric'"
      ],
      "text/latex": [
       "'numeric'"
      ],
      "text/markdown": [
       "'numeric'"
      ],
      "text/plain": [
       "[1] \"numeric\""
      ]
     },
     "metadata": {},
     "output_type": "display_data"
    }
   ],
   "source": [
    "# Etiquetas observadas (escaladas)\n",
    "label_test_scaled <- df_test_scaled$medv\n",
    "class(label_test_scaled)"
   ]
  },
  {
   "cell_type": "markdown",
   "metadata": {},
   "source": [
    "### Calculamos predicciones sin el reescalamiento"
   ]
  },
  {
   "cell_type": "code",
   "execution_count": 26,
   "metadata": {
    "vscode": {
     "languageId": "r"
    }
   },
   "outputs": [
    {
     "data": {
      "text/html": [
       "'numeric'"
      ],
      "text/latex": [
       "'numeric'"
      ],
      "text/markdown": [
       "'numeric'"
      ],
      "text/plain": [
       "[1] \"numeric\""
      ]
     },
     "metadata": {},
     "output_type": "display_data"
    }
   ],
   "source": [
    "# Etiquetas observadas (sin escalar)\n",
    "label_test <- subset( df$medv, booleans == FALSE)\n",
    "class(label_test)"
   ]
  },
  {
   "cell_type": "code",
   "execution_count": 27,
   "metadata": {
    "vscode": {
     "languageId": "r"
    }
   },
   "outputs": [
    {
     "data": {
      "text/html": [
       "<style>\n",
       ".list-inline {list-style: none; margin:0; padding: 0}\n",
       ".list-inline>li {display: inline-block}\n",
       ".list-inline>li:not(:last-child)::after {content: \"\\00b7\"; padding: 0 .5ex}\n",
       "</style>\n",
       "<ol class=list-inline><li>'matrix'</li><li>'array'</li></ol>\n"
      ],
      "text/latex": [
       "\\begin{enumerate*}\n",
       "\\item 'matrix'\n",
       "\\item 'array'\n",
       "\\end{enumerate*}\n"
      ],
      "text/markdown": [
       "1. 'matrix'\n",
       "2. 'array'\n",
       "\n",
       "\n"
      ],
      "text/plain": [
       "[1] \"matrix\" \"array\" "
      ]
     },
     "metadata": {},
     "output_type": "display_data"
    }
   ],
   "source": [
    "# Etiquetas aproximadas (sin escalar)\n",
    "approx_test <- approx_test_scaled*(y_max - y_min) + y_min\n",
    "class(approx_test)"
   ]
  },
  {
   "cell_type": "code",
   "execution_count": 28,
   "metadata": {
    "vscode": {
     "languageId": "r"
    }
   },
   "outputs": [
    {
     "data": {
      "text/html": [
       "<table class=\"dataframe\">\n",
       "<caption>A data.frame: 6 × 4</caption>\n",
       "<thead>\n",
       "\t<tr><th></th><th scope=col>label_test_scaled</th><th scope=col>approx_test_scaled</th><th scope=col>label_test</th><th scope=col>approx_test</th></tr>\n",
       "\t<tr><th></th><th scope=col>&lt;dbl&gt;</th><th scope=col>&lt;dbl&gt;</th><th scope=col>&lt;dbl&gt;</th><th scope=col>&lt;dbl&gt;</th></tr>\n",
       "</thead>\n",
       "<tbody>\n",
       "\t<tr><th scope=row>2</th><td>0.332</td><td>0.3613837</td><td>21.6</td><td>21.26227</td></tr>\n",
       "\t<tr><th scope=row>5</th><td>0.624</td><td>0.5175612</td><td>36.2</td><td>28.29025</td></tr>\n",
       "\t<tr><th scope=row>6</th><td>0.474</td><td>0.3982781</td><td>28.7</td><td>22.92251</td></tr>\n",
       "\t<tr><th scope=row>8</th><td>0.442</td><td>0.2797555</td><td>27.1</td><td>17.58900</td></tr>\n",
       "\t<tr><th scope=row>15</th><td>0.264</td><td>0.2838078</td><td>18.2</td><td>17.77135</td></tr>\n",
       "\t<tr><th scope=row>17</th><td>0.362</td><td>0.3086531</td><td>23.1</td><td>18.88939</td></tr>\n",
       "</tbody>\n",
       "</table>\n"
      ],
      "text/latex": [
       "A data.frame: 6 × 4\n",
       "\\begin{tabular}{r|llll}\n",
       "  & label\\_test\\_scaled & approx\\_test\\_scaled & label\\_test & approx\\_test\\\\\n",
       "  & <dbl> & <dbl> & <dbl> & <dbl>\\\\\n",
       "\\hline\n",
       "\t2 & 0.332 & 0.3613837 & 21.6 & 21.26227\\\\\n",
       "\t5 & 0.624 & 0.5175612 & 36.2 & 28.29025\\\\\n",
       "\t6 & 0.474 & 0.3982781 & 28.7 & 22.92251\\\\\n",
       "\t8 & 0.442 & 0.2797555 & 27.1 & 17.58900\\\\\n",
       "\t15 & 0.264 & 0.2838078 & 18.2 & 17.77135\\\\\n",
       "\t17 & 0.362 & 0.3086531 & 23.1 & 18.88939\\\\\n",
       "\\end{tabular}\n"
      ],
      "text/markdown": [
       "\n",
       "A data.frame: 6 × 4\n",
       "\n",
       "| <!--/--> | label_test_scaled &lt;dbl&gt; | approx_test_scaled &lt;dbl&gt; | label_test &lt;dbl&gt; | approx_test &lt;dbl&gt; |\n",
       "|---|---|---|---|---|\n",
       "| 2 | 0.332 | 0.3613837 | 21.6 | 21.26227 |\n",
       "| 5 | 0.624 | 0.5175612 | 36.2 | 28.29025 |\n",
       "| 6 | 0.474 | 0.3982781 | 28.7 | 22.92251 |\n",
       "| 8 | 0.442 | 0.2797555 | 27.1 | 17.58900 |\n",
       "| 15 | 0.264 | 0.2838078 | 18.2 | 17.77135 |\n",
       "| 17 | 0.362 | 0.3086531 | 23.1 | 18.88939 |\n",
       "\n"
      ],
      "text/plain": [
       "   label_test_scaled approx_test_scaled label_test approx_test\n",
       "2  0.332             0.3613837          21.6       21.26227   \n",
       "5  0.624             0.5175612          36.2       28.29025   \n",
       "6  0.474             0.3982781          28.7       22.92251   \n",
       "8  0.442             0.2797555          27.1       17.58900   \n",
       "15 0.264             0.2838078          18.2       17.77135   \n",
       "17 0.362             0.3086531          23.1       18.88939   "
      ]
     },
     "metadata": {},
     "output_type": "display_data"
    }
   ],
   "source": [
    "df_results <- data.frame(label_test_scaled, approx_test_scaled, label_test, approx_test)\n",
    "head(df_results)"
   ]
  },
  {
   "cell_type": "code",
   "execution_count": 29,
   "metadata": {
    "vscode": {
     "languageId": "r"
    }
   },
   "outputs": [],
   "source": [
    "index = 1:nrow(df_results)\n",
    "data_to_plot <- ggplot(df_results, aes(x=index))"
   ]
  },
  {
   "cell_type": "code",
   "execution_count": 30,
   "metadata": {
    "vscode": {
     "languageId": "r"
    }
   },
   "outputs": [
    {
     "data": {
      "image/png": "[encoded data removed]",
      "text/plain": [
       "plot without title"
      ]
     },
     "metadata": {
      "image/png": {
       "height": 300,
       "width": 1800
      }
     },
     "output_type": "display_data"
    }
   ],
   "source": [
    "options(repr.plot.width=30, repr.plot.height=5)\n",
    "plt_obs <- data_to_plot + geom_point(aes(y=label_test), size=5, color=\"blue\") + geom_line(aes(y=approx_test), linewidth=1 ,color=\"red\")\n",
    "plt_obs"
   ]
  },
  {
   "cell_type": "code",
   "execution_count": 31,
   "metadata": {
    "vscode": {
     "languageId": "r"
    }
   },
   "outputs": [
    {
     "data": {
      "image/png": "[encoded data removed]",
      "text/plain": [
       "plot without title"
      ]
     },
     "metadata": {
      "image/png": {
       "height": 420,
       "width": 420
      }
     },
     "output_type": "display_data"
    }
   ],
   "source": [
    "options(repr.plot.width=7, repr.plot.height=7)\n",
    "grafico <- ggplot( df_results, aes(x=label_test, y=approx_test) ) + geom_point()+ ggtitle(\"Relación entre etiquetas observadas y aproximadas\")\n",
    "grafico"
   ]
  },
  {
   "cell_type": "markdown",
   "metadata": {},
   "source": [
    "## Métricas de error"
   ]
  },
  {
   "cell_type": "code",
   "execution_count": 32,
   "metadata": {
    "vscode": {
     "languageId": "r"
    }
   },
   "outputs": [
    {
     "data": {
      "text/html": [
       "19.3079467770507"
      ],
      "text/latex": [
       "19.3079467770507"
      ],
      "text/markdown": [
       "19.3079467770507"
      ],
      "text/plain": [
       "[1] 19.30795"
      ]
     },
     "metadata": {},
     "output_type": "display_data"
    }
   ],
   "source": [
    "error <- sum( (label_test -  approx_test)^2 )/length(label_test)\n",
    "error"
   ]
  },
  {
   "cell_type": "code",
   "execution_count": null,
   "metadata": {
    "vscode": {
     "languageId": "r"
    }
   },
   "outputs": [],
   "source": []
  }
 ],
 "metadata": {
  "kernelspec": {
   "display_name": "R",
   "language": "R",
   "name": "ir"
  },
  "language_info": {
   "codemirror_mode": "r",
   "file_extension": ".r",
   "mimetype": "text/x-r-source",
   "name": "R",
   "pygments_lexer": "r",
   "version": "4.3.1"
  },
  "orig_nbformat": 4
 },
 "nbformat": 4,
 "nbformat_minor": 2
}
